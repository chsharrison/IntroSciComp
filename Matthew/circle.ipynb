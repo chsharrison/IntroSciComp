{
 "cells": [
  {
   "cell_type": "code",
   "execution_count": 1,
   "metadata": {},
   "outputs": [],
   "source": [
    "# wrtie a function that returns the area and circumference of a circle given a radius"
   ]
  },
  {
   "cell_type": "code",
   "execution_count": 360,
   "metadata": {},
   "outputs": [],
   "source": [
    "import numpy as np"
   ]
  },
  {
   "cell_type": "code",
   "execution_count": 406,
   "metadata": {},
   "outputs": [],
   "source": [
    "def circle(r):\n",
    "# Get circumference and area of circle using radii 'r'\n",
    "    circ = 2*np.pi*r\n",
    "    area = (np.pi*r)**2\n",
    "    if r > 0:\n",
    "        return \"circumference: \" + str(circ), \"area: \" + str(area), str(r)\n",
    "    elif r == 0:\n",
    "        return \"Error: \" + str(r) + \" is zero\"\n",
    "    elif r < 0:\n",
    "        return \"Error: \" + str(r) + \" is negative\"\n",
    "    print()\n",
    "   "
   ]
  },
  {
   "cell_type": "code",
   "execution_count": 421,
   "metadata": {},
   "outputs": [],
   "source": [
    "# Testing function\n",
    "def check_value(r_list):\n",
    "    error_radii = []\n",
    "    good_radii = []\n",
    "    \n",
    "# Looping through radii list\n",
    "    for num in r_list:\n",
    "        ans = circle(num)        \n",
    "    \n",
    "# appending good and bad radii to list   \n",
    "        if ans[:5] == \"Error\":\n",
    "            error_radii.append(num)\n",
    "        else:\n",
    "            good_radii.append(num)\n",
    "            \n",
    "\n",
    "    print(\"\\nGood radii: \" + str(good_radii))\n",
    "    print(\"\\nBad radii: \" + str(error_radii))\n",
    "   \n",
    "                  \n"
   ]
  },
  {
   "cell_type": "code",
   "execution_count": 422,
   "metadata": {},
   "outputs": [
    {
     "name": "stdout",
     "output_type": "stream",
     "text": [
      "\n",
      "Good radii: [1, 3, 5, 55, 34534, 0.44]\n",
      "\n",
      "Bad radii: [0, -1, -1.44]\n"
     ]
    }
   ],
   "source": [
    "r_list = [1, 3, 5, 55, 34534, 0, -1, -1.44, 0.44]\n",
    "\n",
    "check_value(r_list)"
   ]
  },
  {
   "cell_type": "code",
   "execution_count": 420,
   "metadata": {},
   "outputs": [
    {
     "data": {
      "text/plain": [
       "'Error: 0 is zero'"
      ]
     },
     "execution_count": 420,
     "metadata": {},
     "output_type": "execute_result"
    }
   ],
   "source": [
    "circle(0)"
   ]
  },
  {
   "cell_type": "code",
   "execution_count": null,
   "metadata": {},
   "outputs": [],
   "source": []
  }
 ],
 "metadata": {
  "kernelspec": {
   "display_name": "Python 3",
   "language": "python",
   "name": "python3"
  },
  "language_info": {
   "codemirror_mode": {
    "name": "ipython",
    "version": 3
   },
   "file_extension": ".py",
   "mimetype": "text/x-python",
   "name": "python",
   "nbconvert_exporter": "python",
   "pygments_lexer": "ipython3",
   "version": "3.7.4"
  }
 },
 "nbformat": 4,
 "nbformat_minor": 4
}
