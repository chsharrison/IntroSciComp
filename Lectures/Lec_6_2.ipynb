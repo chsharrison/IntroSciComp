{
 "cells": [
  {
   "cell_type": "markdown",
   "metadata": {},
   "source": [
    "# Lecure 6.2 Even more plotting and data analysis\n",
    "\n",
    "### No demos today, just tons of coding!\n",
    "\n",
    "## Week 6 Homework:\n",
    "Due Monday at midnight\n",
    "\n",
    "Watch the following seminar video and analyse her presentation in terms of the criteria used in our grading rubric. \n",
    "https://seminar.cgd.ucar.edu/2019/CGD_20190917_olivia_clifton.mp4\n",
    "\n",
    "In the notes section, address how she met all of the guidelines for a good talk (first page of rubric). You should have about a page of text.\n",
    "\n",
    "Now fill out the rubric. In each section of the rubric, instead of scoring, write out what she did or did not do meet the criteria. Give concrete examples.\n",
    "\n",
    "Bonus points if you can summarize what her talk was about and why it is relevant/important, and how it might relate to your research (if it does).\n",
    "\n",
    "Load it into github and call it HW_6_yourname"
   ]
  },
  {
   "cell_type": "markdown",
   "metadata": {},
   "source": [
    "## Warm up exercises\n",
    "### W 1"
   ]
  },
  {
   "cell_type": "markdown",
   "metadata": {},
   "source": [
    "W 1.1. Make an 16 by 20 array of zeros. Change each 2x2 corner of the array to a different number. \n",
    "\n",
    "W 1.2 Plot your result in two subplots, one using pcolormesh and one using imshow. What is the difference between these two methods? \n",
    "\n",
    "W 1.3 Add a colorbar that works for both subplots. Label your axes in each case, what do they represent in each case?\n",
    "\n",
    "W 1.4 (Advanced, optional) label your colorbar.\n",
    "\n",
    "W 1.5 (Advanced) \n",
    "- note the options for interpolation with imshow: https://matplotlib.org/3.1.1/gallery/images_contours_and_fields/interpolation_methods.html#sphx-glr-gallery-images-contours-and-fields-interpolation-methods-py \n",
    "- Make a similar plot of your matrix and demonstrate the different options\n",
    "- What are the options for pcolormesh? Demonstrate"
   ]
  },
  {
   "cell_type": "code",
   "execution_count": null,
   "metadata": {},
   "outputs": [],
   "source": []
  },
  {
   "cell_type": "markdown",
   "metadata": {},
   "source": [
    "### W 2\n",
    "\n",
    "W 2.1 Plot the height function $H = -100(lat-40)^2 -400{(lon+106)^2} + 8000$ over 38 to 42 N and 108 to 104 W. \n",
    "\n",
    "W 2.2 Label your axes, add a colorbar, and make the fonts readable for a presentation (aka larger). \n",
    "\n",
    "W 2.3 What mountain range is this a rough approximation to? Add this to the title.\n",
    "\n",
    "W 2.4 (Advanced) plot this in 3D"
   ]
  },
  {
   "cell_type": "code",
   "execution_count": null,
   "metadata": {},
   "outputs": [],
   "source": []
  },
  {
   "cell_type": "markdown",
   "metadata": {},
   "source": [
    "## Lab work 1\n",
    "\n",
    "Do this Excel Pandas tutorial that uses execl files with multiple sheets:\n",
    "\n",
    "https://www.dataquest.io/blog/excel-and-pandas/\n",
    "\n",
    "Note, we will be doing some exercises with this data set next time"
   ]
  },
  {
   "cell_type": "code",
   "execution_count": null,
   "metadata": {},
   "outputs": [],
   "source": []
  },
  {
   "cell_type": "markdown",
   "metadata": {},
   "source": [
    "## Lab work 2 (if time)\n",
    "\n",
    "Pick a pandas tutorial video:\n",
    "\n",
    "https://github.com/justmarkham/pandas-videos"
   ]
  },
  {
   "cell_type": "code",
   "execution_count": null,
   "metadata": {},
   "outputs": [],
   "source": []
  }
 ],
 "metadata": {
  "kernelspec": {
   "display_name": "Python 3",
   "language": "python",
   "name": "python3"
  },
  "language_info": {
   "codemirror_mode": {
    "name": "ipython",
    "version": 3
   },
   "file_extension": ".py",
   "mimetype": "text/x-python",
   "name": "python",
   "nbconvert_exporter": "python",
   "pygments_lexer": "ipython3",
   "version": "3.7.3"
  }
 },
 "nbformat": 4,
 "nbformat_minor": 2
}
