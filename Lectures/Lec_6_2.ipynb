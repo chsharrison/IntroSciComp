{
 "cells": [
  {
   "cell_type": "markdown",
   "metadata": {},
   "source": [
    "# Lecure 6.2 Even more plotting and data analysis\n",
    "\n",
    "No lecture today, just tons of coding!\n",
    "\n",
    "## Warm up exercises\n",
    "### WU 1"
   ]
  },
  {
   "cell_type": "markdown",
   "metadata": {},
   "source": [
    "Make an 16 by 20 array of zeros. Change each 2x2 corner of the array to a different number. \n",
    "\n",
    "Plot your result in two subplots, one using pcolormesh and one using imshow. What is the difference between these two methods? \n",
    "\n",
    "Add a colorbar. Label your axes, what do they represent in each case?\n",
    "\n",
    "(Advanced) label your colorbar.\n",
    "\n",
    "(Advanced) note the options for interpolation with imshow: https://matplotlib.org/3.1.1/gallery/images_contours_and_fields/interpolation_methods.html#sphx-glr-gallery-images-contours-and-fields-interpolation-methods-py What are the options for pcolormesh?"
   ]
  },
  {
   "cell_type": "code",
   "execution_count": null,
   "metadata": {},
   "outputs": [],
   "source": []
  },
  {
   "cell_type": "markdown",
   "metadata": {},
   "source": [
    "### WU 2\n",
    "\n",
    "Plot the height function $H = -100(lat-40)^2 -400{(lon+106)^2} + 8000$ over 38 to 42 N and 108 to 104 W. Label your axes, add a colorbar, and make the fonts readable for a presentation (aka larger). What mountain range is this a rough approximation to? Add this to the title.\n",
    "\n",
    "(Advanced) plot this in 3D"
   ]
  },
  {
   "cell_type": "code",
   "execution_count": null,
   "metadata": {},
   "outputs": [],
   "source": []
  },
  {
   "cell_type": "markdown",
   "metadata": {},
   "source": [
    "## Lab work 1\n",
    "\n",
    "Do this Excel Pandas tutorial that uses execl files with multiple sheets:\n",
    "\n",
    "https://www.dataquest.io/blog/excel-and-pandas/\n",
    "\n",
    "Note, we will be doing some exercises with this data set next time"
   ]
  },
  {
   "cell_type": "code",
   "execution_count": null,
   "metadata": {},
   "outputs": [],
   "source": []
  },
  {
   "cell_type": "markdown",
   "metadata": {},
   "source": [
    "## Lab work 2 (if time)\n",
    "\n",
    "Pick a pandas tutorial video:\n",
    "\n",
    "https://github.com/justmarkham/pandas-videos"
   ]
  },
  {
   "cell_type": "code",
   "execution_count": null,
   "metadata": {},
   "outputs": [],
   "source": []
  }
 ],
 "metadata": {
  "kernelspec": {
   "display_name": "Python 3",
   "language": "python",
   "name": "python3"
  },
  "language_info": {
   "codemirror_mode": {
    "name": "ipython",
    "version": 3
   },
   "file_extension": ".py",
   "mimetype": "text/x-python",
   "name": "python",
   "nbconvert_exporter": "python",
   "pygments_lexer": "ipython3",
   "version": "3.7.3"
  }
 },
 "nbformat": 4,
 "nbformat_minor": 2
}
