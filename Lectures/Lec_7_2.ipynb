{
 "cells": [
  {
   "cell_type": "markdown",
   "metadata": {},
   "source": [
    "# Lecure 7.2 Even more data analysis with pandas"
   ]
  },
  {
   "cell_type": "markdown",
   "metadata": {},
   "source": [
    "Lots more coding today, with a bit of discussion.\n",
    "\n",
    "Homework is to do some analysis of the movies dataset and present your results on Tuesday"
   ]
  },
  {
   "cell_type": "markdown",
   "metadata": {},
   "source": [
    "# 1. Warm-up"
   ]
  },
  {
   "cell_type": "markdown",
   "metadata": {},
   "source": [
    "Learning objectives: modifying plots by looking at the documentation and examples, pandas mastery"
   ]
  },
  {
   "cell_type": "markdown",
   "metadata": {},
   "source": [
    "For this exercise we are using the durations data TED Talk database from last time"
   ]
  },
  {
   "cell_type": "markdown",
   "metadata": {},
   "source": [
    "### 1.1 \n",
    "Create the pandas film_datetime column used previously. Save the resulting pandas dataframe as a new file with a different name. Load this new file into pandas to check that your new column is there."
   ]
  },
  {
   "cell_type": "code",
   "execution_count": null,
   "metadata": {},
   "outputs": [],
   "source": []
  },
  {
   "cell_type": "markdown",
   "metadata": {},
   "source": [
    "### 1.2\n",
    "Sort the durations data by month and make a histogram of the number of talks in a given month. Note that the default of 10 bins does not work well for this. How well does using 12 bins work?"
   ]
  },
  {
   "cell_type": "code",
   "execution_count": null,
   "metadata": {},
   "outputs": [],
   "source": []
  },
  {
   "cell_type": "markdown",
   "metadata": {},
   "source": [
    "### 1.3\n",
    "Look at the documentation for plotting histograms (google it). Define an array that will give the bins you need to make a bin for each month with sensible endpoints, using one of the numpy functions we discussed previously. What should your bin edges be? "
   ]
  },
  {
   "cell_type": "code",
   "execution_count": null,
   "metadata": {},
   "outputs": [],
   "source": []
  },
  {
   "cell_type": "markdown",
   "metadata": {},
   "source": [
    "### 1.4\n",
    "Label your x-axis with month labels "
   ]
  },
  {
   "cell_type": "markdown",
   "metadata": {},
   "source": []
  },
  {
   "cell_type": "markdown",
   "metadata": {},
   "source": [
    "# 2. Discussion\n",
    "\n",
    "## 2.1 Semiar homework from last week\n",
    "Some potential questions for discussion:\n",
    "- What makes a good talk? \n",
    "- Does the rubric capture what makes a good talk?\n",
    "- How were the figures in the talk formatted?\n",
    "- How was this different than the figures in the paper?\n",
    "\n",
    "## 2.2 Pandas analysis by students"
   ]
  },
  {
   "cell_type": "code",
   "execution_count": null,
   "metadata": {},
   "outputs": [],
   "source": []
  },
  {
   "cell_type": "markdown",
   "metadata": {},
   "source": [
    "# 3. Exercises"
   ]
  },
  {
   "cell_type": "markdown",
   "metadata": {},
   "source": [
    "Learning objectives: pandas mastery, writing data files with pandas, data analysis: asking research questions, doing the analysis, and presenting your results"
   ]
  },
  {
   "cell_type": "markdown",
   "metadata": {},
   "source": [
    "### 3.1 \n",
    "From the movies spreadsheet you used last week (Lec 6.2), make a histogram of all the years movies were made, combining the data in three sheets. In one plot, make two subplots, one with bins (bars) of 10 years width, and one with bins of 20 years width. Note this does not mean 10 and 20 bins!\n"
   ]
  },
  {
   "cell_type": "code",
   "execution_count": null,
   "metadata": {},
   "outputs": [],
   "source": []
  },
  {
   "cell_type": "markdown",
   "metadata": {},
   "source": [
    "### 3.2\n",
    "Label your axes and change the color of the bars in each plot. Make the bars have black outlines."
   ]
  },
  {
   "cell_type": "code",
   "execution_count": null,
   "metadata": {},
   "outputs": [],
   "source": []
  },
  {
   "cell_type": "markdown",
   "metadata": {},
   "source": [
    "### 3.3\n",
    "Interpret your results. How does changing the number of bins give you a different perspective on the data? Is the dropoff over time an artifact of the dataset or is it realistic?"
   ]
  },
  {
   "cell_type": "code",
   "execution_count": null,
   "metadata": {},
   "outputs": [],
   "source": []
  },
  {
   "cell_type": "markdown",
   "metadata": {},
   "source": [
    "### 3.4 \n",
    "What is the lowest IMDB score?"
   ]
  },
  {
   "cell_type": "code",
   "execution_count": null,
   "metadata": {},
   "outputs": [],
   "source": []
  },
  {
   "cell_type": "markdown",
   "metadata": {},
   "source": [
    "### 3.5 \n",
    "Find the names of all the movies with an IMDB score below 5, put these in a new pandas dataframe along with their IMDB scores. Write this dataframe to a new file. Check that your file works by loading it back in again."
   ]
  },
  {
   "cell_type": "code",
   "execution_count": null,
   "metadata": {},
   "outputs": [],
   "source": []
  },
  {
   "cell_type": "markdown",
   "metadata": {},
   "source": [
    "### 3.6-9 (and homework)\n",
    "\n",
    "Now get creative. Define three research questions for this movies data set and do analysis to answer those quesitons. You will present this analysis, along with your data analysis methods, to the class on Tuesday. Showing this analysis in a notebook is fine, but make sure your plots are formatted for presentation."
   ]
  },
  {
   "cell_type": "code",
   "execution_count": null,
   "metadata": {},
   "outputs": [],
   "source": []
  }
 ],
 "metadata": {
  "kernelspec": {
   "display_name": "Python 3",
   "language": "python",
   "name": "python3"
  },
  "language_info": {
   "codemirror_mode": {
    "name": "ipython",
    "version": 3
   },
   "file_extension": ".py",
   "mimetype": "text/x-python",
   "name": "python",
   "nbconvert_exporter": "python",
   "pygments_lexer": "ipython3",
   "version": "3.7.3"
  }
 },
 "nbformat": 4,
 "nbformat_minor": 2
}
