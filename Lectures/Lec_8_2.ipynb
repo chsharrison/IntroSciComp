{
 "cells": [
  {
   "cell_type": "markdown",
   "metadata": {},
   "source": [
    "# Lecure 8.2: linear regression and statistics continued"
   ]
  },
  {
   "cell_type": "markdown",
   "metadata": {},
   "source": [
    "I was going to jump into netcdf files and doing data analysis with them, but decided it was more useful for your work to spend the time on digging in on model fitting. We will come back to netcdf files and climate data in the next two weeks\n",
    "\n",
    "## Lecture:\n",
    "    - Root mean square error (RMSE)\n",
    "    - R^2, the \"coefficient of determination\"\n",
    "    - training and testing spitting"
   ]
  },
  {
   "cell_type": "markdown",
   "metadata": {},
   "source": [
    "### 8.2.1: Continue with what you were doing in Lec 8.1. Focus on the first exercises if you haven't done them yet"
   ]
  },
  {
   "cell_type": "code",
   "execution_count": null,
   "metadata": {},
   "outputs": [],
   "source": []
  },
  {
   "cell_type": "markdown",
   "metadata": {},
   "source": [
    "### 8.2.2 \n",
    "Make a pairplot using the housing data: https://scipy-lectures.org/packages/statistics/index.html#pairplot-scatter-matrices\n",
    "\n",
    "Explain what this tells you"
   ]
  },
  {
   "cell_type": "code",
   "execution_count": null,
   "metadata": {},
   "outputs": [],
   "source": []
  },
  {
   "cell_type": "code",
   "execution_count": null,
   "metadata": {},
   "outputs": [],
   "source": []
  },
  {
   "cell_type": "markdown",
   "metadata": {},
   "source": [
    "### 8.2.3 Now get creative\n",
    "Using one or more of the datasets we have been using, ask two or more research questions, make appropriate model(s), and test your model(s) using regression. \n",
    "You might pick one easy and one hard research question. You might start with a simple linear model, but feel free to branch out to a non-linear model, or fancy statistics tests if you feel confident about doing so and can explain them. The point is that you are designing the modeling, not following a tutorial, and that you develop expertise on the methods you are using so you can defend their usage.\n",
    "\n",
    "Places to look for inspiration:\n",
    "- https://scipy-lectures.org/packages/statistics/index.html\n",
    "- https://docs.scipy.org/doc/numpy/reference/generated/numpy.polyfit.html\n",
    "- https://www.statsmodels.org/dev/examples/index.html\n",
    "\n",
    "etc...\n",
    "\n",
    "\n",
    "### Homework\n",
    "As before, you will present your analysis to the class. Put a cleaned up version of your code, suitable for presentation, in a new notebook called HW_8_yourname. You will present this next Tuesday afternoon, after Riley's lecture."
   ]
  },
  {
   "cell_type": "code",
   "execution_count": null,
   "metadata": {},
   "outputs": [],
   "source": []
  }
 ],
 "metadata": {
  "kernelspec": {
   "display_name": "Python 3",
   "language": "python",
   "name": "python3"
  },
  "language_info": {
   "codemirror_mode": {
    "name": "ipython",
    "version": 3
   },
   "file_extension": ".py",
   "mimetype": "text/x-python",
   "name": "python",
   "nbconvert_exporter": "python",
   "pygments_lexer": "ipython3",
   "version": "3.7.3"
  }
 },
 "nbformat": 4,
 "nbformat_minor": 2
}
