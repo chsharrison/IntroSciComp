{
 "cells": [
  {
   "cell_type": "markdown",
   "metadata": {},
   "source": [
    "# Lecure 8.1 Correlation and linear regression"
   ]
  },
  {
   "cell_type": "markdown",
   "metadata": {},
   "source": [
    "## Announcement: Syllabus updates for the next two weeks:\n",
    "\n",
    "This week (week 8): \n",
    "- (T, today) introduction to linear models \n",
    "- (Th) Netcdf files and analyzing model output\n",
    "\n",
    "Week 9 : \n",
    "- (T) More on plotting and analysing netcdf files (guest lecture by Riley Brady)\n",
    "- (TH) GIS and python, R vs. python (guest lecture by Tom Yamashita)\n",
    "- Homework: Research topics due\n",
    " \n",
    "Week 10: \n",
    "- (T) General linear models in R (guest lecture by Chris Gabler)\n",
    "- (Th) Presentation of research topics, Predator Prey Modeling\n"
   ]
  },
  {
   "cell_type": "markdown",
   "metadata": {},
   "source": [
    "## 8.1.1 Student analyis presentations (HW from last week)"
   ]
  },
  {
   "cell_type": "markdown",
   "metadata": {},
   "source": [
    "See resources on link to tips on how to get rid of NaNs in a pandas data frame"
   ]
  },
  {
   "cell_type": "markdown",
   "metadata": {},
   "source": [
    "## 8.1.2 Correlation"
   ]
  },
  {
   "cell_type": "markdown",
   "metadata": {},
   "source": [
    "We touched on correlation preivously. Let's dive in."
   ]
  },
  {
   "cell_type": "markdown",
   "metadata": {},
   "source": [
    "### A note of caution:\n",
    "\n",
    "\"Correlation does not imply causation\"\n",
    "\n",
    "Example:\n",
    "As ice cream sales increase, the rate of drowning deaths increases sharply.\n",
    "Therefore, ice cream consumption causes drowning."
   ]
  },
  {
   "cell_type": "markdown",
   "metadata": {},
   "source": [
    "When we get data, we want to describe how variables relate to each other. The simplest question we can ask are two variables correlated, that is do they change togehter?"
   ]
  },
  {
   "cell_type": "markdown",
   "metadata": {},
   "source": [
    "The metric we use for correlation is the Pearson correlation coefficient, which is hard to grasp intuitively from looking at the equation (see https://en.wikipedia.org/wiki/Correlation_and_dependence). Basically, correlation is a measure of how linearly correlated two variables are, and has values between 1 and -1. If the two variables fall on a straight line and the both increase together, then the correlation is 1. If one increases while the other decreases, the correlation is -1. Correlations near zero mean the two variables are not correlated. "
   ]
  },
  {
   "cell_type": "markdown",
   "metadata": {},
   "source": [
    "Let's use the movie data we worked with previously to test if budgets and gross earnings are correlated"
   ]
  },
  {
   "cell_type": "code",
   "execution_count": 69,
   "metadata": {},
   "outputs": [],
   "source": [
    "import numpy as np\n",
    "import matplotlib.pyplot as plt\n",
    "%matplotlib inline\n",
    "import pandas as pd"
   ]
  },
  {
   "cell_type": "code",
   "execution_count": 70,
   "metadata": {},
   "outputs": [],
   "source": [
    "file = \"../Data/movies.xls\"\n",
    "movies_sheet1 = pd.read_excel(file, sheet_name=0, index_col=0)\n",
    "movies_sheet2 = pd.read_excel(file, sheet_name=1, index_col=0)\n",
    "movies_sheet3 = pd.read_excel(file, sheet_name=2, index_col=0)\n",
    "movies = pd.concat([movies_sheet1, movies_sheet2, movies_sheet3])"
   ]
  },
  {
   "cell_type": "code",
   "execution_count": 71,
   "metadata": {},
   "outputs": [
    {
     "data": {
      "text/plain": [
       "(0, 1000000000.0)"
      ]
     },
     "execution_count": 71,
     "metadata": {},
     "output_type": "execute_result"
    },
    {
     "data": {
      "image/png": "[encoded data removed]",
      "text/plain": [
       "<Figure size 432x288 with 1 Axes>"
      ]
     },
     "metadata": {
      "needs_background": "light"
     },
     "output_type": "display_data"
    }
   ],
   "source": [
    "# plot Budget vs Gross Earnings\n",
    "plt.scatter(movies['Budget'], movies['Gross Earnings'])\n",
    "plt.plot([0,1E10],[0,1E10], 'k--')\n",
    "plt.xlabel('Budget')\n",
    "plt.ylabel('Gross Earnings')\n",
    "plt.xlim([0,0.1E10])\n",
    "plt.ylim([0,1E9])"
   ]
  },
  {
   "cell_type": "markdown",
   "metadata": {},
   "source": [
    "In the above I have added the y=x line to visualize if the gross earnings were above the budget. \n",
    "Because many of the data points are on top of each other, it is difficult to assess visually the relationship between the two variables"
   ]
  },
  {
   "cell_type": "markdown",
   "metadata": {},
   "source": [
    "Note that pandas allows us to get the correlation of the entire dataframe all at once. There are many other packages that will do this as well, including numpy."
   ]
  },
  {
   "cell_type": "code",
   "execution_count": 72,
   "metadata": {},
   "outputs": [
    {
     "data": {
      "text/html": [
       "<div>\n",
       "<style scoped>\n",
       "    .dataframe tbody tr th:only-of-type {\n",
       "        vertical-align: middle;\n",
       "    }\n",
       "\n",
       "    .dataframe tbody tr th {\n",
       "        vertical-align: top;\n",
       "    }\n",
       "\n",
       "    .dataframe thead th {\n",
       "        text-align: right;\n",
       "    }\n",
       "</style>\n",
       "<table border=\"1\" class=\"dataframe\">\n",
       "  <thead>\n",
       "    <tr style=\"text-align: right;\">\n",
       "      <th></th>\n",
       "      <th>Year</th>\n",
       "      <th>Duration</th>\n",
       "      <th>Aspect Ratio</th>\n",
       "      <th>Budget</th>\n",
       "      <th>Gross Earnings</th>\n",
       "      <th>Facebook Likes - Director</th>\n",
       "      <th>Facebook Likes - Actor 1</th>\n",
       "      <th>Facebook Likes - Actor 2</th>\n",
       "      <th>Facebook Likes - Actor 3</th>\n",
       "      <th>Facebook Likes - cast Total</th>\n",
       "      <th>Facebook likes - Movie</th>\n",
       "      <th>Facenumber in posters</th>\n",
       "      <th>User Votes</th>\n",
       "      <th>Reviews by Users</th>\n",
       "      <th>Reviews by Crtiics</th>\n",
       "      <th>IMDB Score</th>\n",
       "    </tr>\n",
       "  </thead>\n",
       "  <tbody>\n",
       "    <tr>\n",
       "      <th>Year</th>\n",
       "      <td>1.000000</td>\n",
       "      <td>-0.135038</td>\n",
       "      <td>0.159973</td>\n",
       "      <td>0.045726</td>\n",
       "      <td>0.030886</td>\n",
       "      <td>-0.063820</td>\n",
       "      <td>0.086873</td>\n",
       "      <td>0.101890</td>\n",
       "      <td>0.096137</td>\n",
       "      <td>0.109971</td>\n",
       "      <td>0.218678</td>\n",
       "      <td>0.061504</td>\n",
       "      <td>0.007397</td>\n",
       "      <td>-0.003147</td>\n",
       "      <td>0.275707</td>\n",
       "      <td>-0.209167</td>\n",
       "    </tr>\n",
       "    <tr>\n",
       "      <th>Duration</th>\n",
       "      <td>-0.135038</td>\n",
       "      <td>1.000000</td>\n",
       "      <td>-0.090071</td>\n",
       "      <td>0.074276</td>\n",
       "      <td>0.250298</td>\n",
       "      <td>0.173296</td>\n",
       "      <td>0.088449</td>\n",
       "      <td>0.131673</td>\n",
       "      <td>0.123558</td>\n",
       "      <td>0.123074</td>\n",
       "      <td>0.196605</td>\n",
       "      <td>0.013469</td>\n",
       "      <td>0.314765</td>\n",
       "      <td>0.328403</td>\n",
       "      <td>0.258486</td>\n",
       "      <td>0.261662</td>\n",
       "    </tr>\n",
       "    <tr>\n",
       "      <th>Aspect Ratio</th>\n",
       "      <td>0.159973</td>\n",
       "      <td>-0.090071</td>\n",
       "      <td>1.000000</td>\n",
       "      <td>0.006598</td>\n",
       "      <td>0.069346</td>\n",
       "      <td>0.001642</td>\n",
       "      <td>-0.020049</td>\n",
       "      <td>-0.007783</td>\n",
       "      <td>-0.003366</td>\n",
       "      <td>-0.017885</td>\n",
       "      <td>0.025737</td>\n",
       "      <td>0.013713</td>\n",
       "      <td>-0.014761</td>\n",
       "      <td>-0.024719</td>\n",
       "      <td>-0.049786</td>\n",
       "      <td>0.059445</td>\n",
       "    </tr>\n",
       "    <tr>\n",
       "      <th>Budget</th>\n",
       "      <td>0.045726</td>\n",
       "      <td>0.074276</td>\n",
       "      <td>0.006598</td>\n",
       "      <td>1.000000</td>\n",
       "      <td>0.102179</td>\n",
       "      <td>0.021090</td>\n",
       "      <td>0.022639</td>\n",
       "      <td>0.044236</td>\n",
       "      <td>0.047451</td>\n",
       "      <td>0.036557</td>\n",
       "      <td>0.062039</td>\n",
       "      <td>-0.019559</td>\n",
       "      <td>0.079621</td>\n",
       "      <td>0.084292</td>\n",
       "      <td>0.119994</td>\n",
       "      <td>0.030688</td>\n",
       "    </tr>\n",
       "    <tr>\n",
       "      <th>Gross Earnings</th>\n",
       "      <td>0.030886</td>\n",
       "      <td>0.250298</td>\n",
       "      <td>0.069346</td>\n",
       "      <td>0.102179</td>\n",
       "      <td>1.000000</td>\n",
       "      <td>0.144945</td>\n",
       "      <td>0.154468</td>\n",
       "      <td>0.262768</td>\n",
       "      <td>0.308026</td>\n",
       "      <td>0.247400</td>\n",
       "      <td>0.378082</td>\n",
       "      <td>-0.027755</td>\n",
       "      <td>0.637271</td>\n",
       "      <td>0.559958</td>\n",
       "      <td>0.480601</td>\n",
       "      <td>0.198021</td>\n",
       "    </tr>\n",
       "    <tr>\n",
       "      <th>Facebook Likes - Director</th>\n",
       "      <td>-0.063820</td>\n",
       "      <td>0.173296</td>\n",
       "      <td>0.001642</td>\n",
       "      <td>0.021090</td>\n",
       "      <td>0.144945</td>\n",
       "      <td>1.000000</td>\n",
       "      <td>0.090707</td>\n",
       "      <td>0.119587</td>\n",
       "      <td>0.120199</td>\n",
       "      <td>0.119532</td>\n",
       "      <td>0.162036</td>\n",
       "      <td>-0.041297</td>\n",
       "      <td>0.297045</td>\n",
       "      <td>0.221890</td>\n",
       "      <td>0.180674</td>\n",
       "      <td>0.170834</td>\n",
       "    </tr>\n",
       "    <tr>\n",
       "      <th>Facebook Likes - Actor 1</th>\n",
       "      <td>0.086873</td>\n",
       "      <td>0.088449</td>\n",
       "      <td>-0.020049</td>\n",
       "      <td>0.022639</td>\n",
       "      <td>0.154468</td>\n",
       "      <td>0.090707</td>\n",
       "      <td>1.000000</td>\n",
       "      <td>0.390466</td>\n",
       "      <td>0.249927</td>\n",
       "      <td>0.951660</td>\n",
       "      <td>0.135320</td>\n",
       "      <td>0.072204</td>\n",
       "      <td>0.192763</td>\n",
       "      <td>0.145461</td>\n",
       "      <td>0.190016</td>\n",
       "      <td>0.076153</td>\n",
       "    </tr>\n",
       "    <tr>\n",
       "      <th>Facebook Likes - Actor 2</th>\n",
       "      <td>0.101890</td>\n",
       "      <td>0.131673</td>\n",
       "      <td>-0.007783</td>\n",
       "      <td>0.044236</td>\n",
       "      <td>0.262768</td>\n",
       "      <td>0.119587</td>\n",
       "      <td>0.390466</td>\n",
       "      <td>1.000000</td>\n",
       "      <td>0.559662</td>\n",
       "      <td>0.628389</td>\n",
       "      <td>0.243464</td>\n",
       "      <td>0.071177</td>\n",
       "      <td>0.270755</td>\n",
       "      <td>0.219496</td>\n",
       "      <td>0.282306</td>\n",
       "      <td>0.083860</td>\n",
       "    </tr>\n",
       "    <tr>\n",
       "      <th>Facebook Likes - Actor 3</th>\n",
       "      <td>0.096137</td>\n",
       "      <td>0.123558</td>\n",
       "      <td>-0.003366</td>\n",
       "      <td>0.047451</td>\n",
       "      <td>0.308026</td>\n",
       "      <td>0.120199</td>\n",
       "      <td>0.249927</td>\n",
       "      <td>0.559662</td>\n",
       "      <td>1.000000</td>\n",
       "      <td>0.473920</td>\n",
       "      <td>0.278844</td>\n",
       "      <td>0.099368</td>\n",
       "      <td>0.287239</td>\n",
       "      <td>0.230189</td>\n",
       "      <td>0.271646</td>\n",
       "      <td>0.052633</td>\n",
       "    </tr>\n",
       "    <tr>\n",
       "      <th>Facebook Likes - cast Total</th>\n",
       "      <td>0.109971</td>\n",
       "      <td>0.123074</td>\n",
       "      <td>-0.017885</td>\n",
       "      <td>0.036557</td>\n",
       "      <td>0.247400</td>\n",
       "      <td>0.119532</td>\n",
       "      <td>0.951660</td>\n",
       "      <td>0.628389</td>\n",
       "      <td>0.473920</td>\n",
       "      <td>1.000000</td>\n",
       "      <td>0.209754</td>\n",
       "      <td>0.091410</td>\n",
       "      <td>0.265865</td>\n",
       "      <td>0.206923</td>\n",
       "      <td>0.263203</td>\n",
       "      <td>0.085854</td>\n",
       "    </tr>\n",
       "    <tr>\n",
       "      <th>Facebook likes - Movie</th>\n",
       "      <td>0.218678</td>\n",
       "      <td>0.196605</td>\n",
       "      <td>0.025737</td>\n",
       "      <td>0.062039</td>\n",
       "      <td>0.378082</td>\n",
       "      <td>0.162036</td>\n",
       "      <td>0.135320</td>\n",
       "      <td>0.243464</td>\n",
       "      <td>0.278844</td>\n",
       "      <td>0.209754</td>\n",
       "      <td>1.000000</td>\n",
       "      <td>0.008866</td>\n",
       "      <td>0.537905</td>\n",
       "      <td>0.400594</td>\n",
       "      <td>0.683176</td>\n",
       "      <td>0.247106</td>\n",
       "    </tr>\n",
       "    <tr>\n",
       "      <th>Facenumber in posters</th>\n",
       "      <td>0.061504</td>\n",
       "      <td>0.013469</td>\n",
       "      <td>0.013713</td>\n",
       "      <td>-0.019559</td>\n",
       "      <td>-0.027755</td>\n",
       "      <td>-0.041297</td>\n",
       "      <td>0.072204</td>\n",
       "      <td>0.071177</td>\n",
       "      <td>0.099368</td>\n",
       "      <td>0.091410</td>\n",
       "      <td>0.008866</td>\n",
       "      <td>1.000000</td>\n",
       "      <td>-0.027082</td>\n",
       "      <td>-0.069018</td>\n",
       "      <td>-0.033897</td>\n",
       "      <td>-0.062883</td>\n",
       "    </tr>\n",
       "    <tr>\n",
       "      <th>User Votes</th>\n",
       "      <td>0.007397</td>\n",
       "      <td>0.314765</td>\n",
       "      <td>-0.014761</td>\n",
       "      <td>0.079621</td>\n",
       "      <td>0.637271</td>\n",
       "      <td>0.297045</td>\n",
       "      <td>0.192763</td>\n",
       "      <td>0.270755</td>\n",
       "      <td>0.287239</td>\n",
       "      <td>0.265865</td>\n",
       "      <td>0.537905</td>\n",
       "      <td>-0.027082</td>\n",
       "      <td>1.000000</td>\n",
       "      <td>0.798406</td>\n",
       "      <td>0.624943</td>\n",
       "      <td>0.411064</td>\n",
       "    </tr>\n",
       "    <tr>\n",
       "      <th>Reviews by Users</th>\n",
       "      <td>-0.003147</td>\n",
       "      <td>0.328403</td>\n",
       "      <td>-0.024719</td>\n",
       "      <td>0.084292</td>\n",
       "      <td>0.559958</td>\n",
       "      <td>0.221890</td>\n",
       "      <td>0.145461</td>\n",
       "      <td>0.219496</td>\n",
       "      <td>0.230189</td>\n",
       "      <td>0.206923</td>\n",
       "      <td>0.400594</td>\n",
       "      <td>-0.069018</td>\n",
       "      <td>0.798406</td>\n",
       "      <td>1.000000</td>\n",
       "      <td>0.609387</td>\n",
       "      <td>0.292475</td>\n",
       "    </tr>\n",
       "    <tr>\n",
       "      <th>Reviews by Crtiics</th>\n",
       "      <td>0.275707</td>\n",
       "      <td>0.258486</td>\n",
       "      <td>-0.049786</td>\n",
       "      <td>0.119994</td>\n",
       "      <td>0.480601</td>\n",
       "      <td>0.180674</td>\n",
       "      <td>0.190016</td>\n",
       "      <td>0.282306</td>\n",
       "      <td>0.271646</td>\n",
       "      <td>0.263203</td>\n",
       "      <td>0.683176</td>\n",
       "      <td>-0.033897</td>\n",
       "      <td>0.624943</td>\n",
       "      <td>0.609387</td>\n",
       "      <td>1.000000</td>\n",
       "      <td>0.305303</td>\n",
       "    </tr>\n",
       "    <tr>\n",
       "      <th>IMDB Score</th>\n",
       "      <td>-0.209167</td>\n",
       "      <td>0.261662</td>\n",
       "      <td>0.059445</td>\n",
       "      <td>0.030688</td>\n",
       "      <td>0.198021</td>\n",
       "      <td>0.170834</td>\n",
       "      <td>0.076153</td>\n",
       "      <td>0.083860</td>\n",
       "      <td>0.052633</td>\n",
       "      <td>0.085854</td>\n",
       "      <td>0.247106</td>\n",
       "      <td>-0.062883</td>\n",
       "      <td>0.411064</td>\n",
       "      <td>0.292475</td>\n",
       "      <td>0.305303</td>\n",
       "      <td>1.000000</td>\n",
       "    </tr>\n",
       "  </tbody>\n",
       "</table>\n",
       "</div>"
      ],
      "text/plain": [
       "                                 Year  Duration  Aspect Ratio    Budget  \\\n",
       "Year                         1.000000 -0.135038      0.159973  0.045726   \n",
       "Duration                    -0.135038  1.000000     -0.090071  0.074276   \n",
       "Aspect Ratio                 0.159973 -0.090071      1.000000  0.006598   \n",
       "Budget                       0.045726  0.074276      0.006598  1.000000   \n",
       "Gross Earnings               0.030886  0.250298      0.069346  0.102179   \n",
       "Facebook Likes - Director   -0.063820  0.173296      0.001642  0.021090   \n",
       "Facebook Likes - Actor 1     0.086873  0.088449     -0.020049  0.022639   \n",
       "Facebook Likes - Actor 2     0.101890  0.131673     -0.007783  0.044236   \n",
       "Facebook Likes - Actor 3     0.096137  0.123558     -0.003366  0.047451   \n",
       "Facebook Likes - cast Total  0.109971  0.123074     -0.017885  0.036557   \n",
       "Facebook likes - Movie       0.218678  0.196605      0.025737  0.062039   \n",
       "Facenumber in posters        0.061504  0.013469      0.013713 -0.019559   \n",
       "User Votes                   0.007397  0.314765     -0.014761  0.079621   \n",
       "Reviews by Users            -0.003147  0.328403     -0.024719  0.084292   \n",
       "Reviews by Crtiics           0.275707  0.258486     -0.049786  0.119994   \n",
       "IMDB Score                  -0.209167  0.261662      0.059445  0.030688   \n",
       "\n",
       "                             Gross Earnings  Facebook Likes - Director  \\\n",
       "Year                               0.030886                  -0.063820   \n",
       "Duration                           0.250298                   0.173296   \n",
       "Aspect Ratio                       0.069346                   0.001642   \n",
       "Budget                             0.102179                   0.021090   \n",
       "Gross Earnings                     1.000000                   0.144945   \n",
       "Facebook Likes - Director          0.144945                   1.000000   \n",
       "Facebook Likes - Actor 1           0.154468                   0.090707   \n",
       "Facebook Likes - Actor 2           0.262768                   0.119587   \n",
       "Facebook Likes - Actor 3           0.308026                   0.120199   \n",
       "Facebook Likes - cast Total        0.247400                   0.119532   \n",
       "Facebook likes - Movie             0.378082                   0.162036   \n",
       "Facenumber in posters             -0.027755                  -0.041297   \n",
       "User Votes                         0.637271                   0.297045   \n",
       "Reviews by Users                   0.559958                   0.221890   \n",
       "Reviews by Crtiics                 0.480601                   0.180674   \n",
       "IMDB Score                         0.198021                   0.170834   \n",
       "\n",
       "                             Facebook Likes - Actor 1  \\\n",
       "Year                                         0.086873   \n",
       "Duration                                     0.088449   \n",
       "Aspect Ratio                                -0.020049   \n",
       "Budget                                       0.022639   \n",
       "Gross Earnings                               0.154468   \n",
       "Facebook Likes - Director                    0.090707   \n",
       "Facebook Likes - Actor 1                     1.000000   \n",
       "Facebook Likes - Actor 2                     0.390466   \n",
       "Facebook Likes - Actor 3                     0.249927   \n",
       "Facebook Likes - cast Total                  0.951660   \n",
       "Facebook likes - Movie                       0.135320   \n",
       "Facenumber in posters                        0.072204   \n",
       "User Votes                                   0.192763   \n",
       "Reviews by Users                             0.145461   \n",
       "Reviews by Crtiics                           0.190016   \n",
       "IMDB Score                                   0.076153   \n",
       "\n",
       "                             Facebook Likes - Actor 2  \\\n",
       "Year                                         0.101890   \n",
       "Duration                                     0.131673   \n",
       "Aspect Ratio                                -0.007783   \n",
       "Budget                                       0.044236   \n",
       "Gross Earnings                               0.262768   \n",
       "Facebook Likes - Director                    0.119587   \n",
       "Facebook Likes - Actor 1                     0.390466   \n",
       "Facebook Likes - Actor 2                     1.000000   \n",
       "Facebook Likes - Actor 3                     0.559662   \n",
       "Facebook Likes - cast Total                  0.628389   \n",
       "Facebook likes - Movie                       0.243464   \n",
       "Facenumber in posters                        0.071177   \n",
       "User Votes                                   0.270755   \n",
       "Reviews by Users                             0.219496   \n",
       "Reviews by Crtiics                           0.282306   \n",
       "IMDB Score                                   0.083860   \n",
       "\n",
       "                             Facebook Likes - Actor 3  \\\n",
       "Year                                         0.096137   \n",
       "Duration                                     0.123558   \n",
       "Aspect Ratio                                -0.003366   \n",
       "Budget                                       0.047451   \n",
       "Gross Earnings                               0.308026   \n",
       "Facebook Likes - Director                    0.120199   \n",
       "Facebook Likes - Actor 1                     0.249927   \n",
       "Facebook Likes - Actor 2                     0.559662   \n",
       "Facebook Likes - Actor 3                     1.000000   \n",
       "Facebook Likes - cast Total                  0.473920   \n",
       "Facebook likes - Movie                       0.278844   \n",
       "Facenumber in posters                        0.099368   \n",
       "User Votes                                   0.287239   \n",
       "Reviews by Users                             0.230189   \n",
       "Reviews by Crtiics                           0.271646   \n",
       "IMDB Score                                   0.052633   \n",
       "\n",
       "                             Facebook Likes - cast Total  \\\n",
       "Year                                            0.109971   \n",
       "Duration                                        0.123074   \n",
       "Aspect Ratio                                   -0.017885   \n",
       "Budget                                          0.036557   \n",
       "Gross Earnings                                  0.247400   \n",
       "Facebook Likes - Director                       0.119532   \n",
       "Facebook Likes - Actor 1                        0.951660   \n",
       "Facebook Likes - Actor 2                        0.628389   \n",
       "Facebook Likes - Actor 3                        0.473920   \n",
       "Facebook Likes - cast Total                     1.000000   \n",
       "Facebook likes - Movie                          0.209754   \n",
       "Facenumber in posters                           0.091410   \n",
       "User Votes                                      0.265865   \n",
       "Reviews by Users                                0.206923   \n",
       "Reviews by Crtiics                              0.263203   \n",
       "IMDB Score                                      0.085854   \n",
       "\n",
       "                             Facebook likes - Movie  Facenumber in posters  \\\n",
       "Year                                       0.218678               0.061504   \n",
       "Duration                                   0.196605               0.013469   \n",
       "Aspect Ratio                               0.025737               0.013713   \n",
       "Budget                                     0.062039              -0.019559   \n",
       "Gross Earnings                             0.378082              -0.027755   \n",
       "Facebook Likes - Director                  0.162036              -0.041297   \n",
       "Facebook Likes - Actor 1                   0.135320               0.072204   \n",
       "Facebook Likes - Actor 2                   0.243464               0.071177   \n",
       "Facebook Likes - Actor 3                   0.278844               0.099368   \n",
       "Facebook Likes - cast Total                0.209754               0.091410   \n",
       "Facebook likes - Movie                     1.000000               0.008866   \n",
       "Facenumber in posters                      0.008866               1.000000   \n",
       "User Votes                                 0.537905              -0.027082   \n",
       "Reviews by Users                           0.400594              -0.069018   \n",
       "Reviews by Crtiics                         0.683176              -0.033897   \n",
       "IMDB Score                                 0.247106              -0.062883   \n",
       "\n",
       "                             User Votes  Reviews by Users  Reviews by Crtiics  \\\n",
       "Year                           0.007397         -0.003147            0.275707   \n",
       "Duration                       0.314765          0.328403            0.258486   \n",
       "Aspect Ratio                  -0.014761         -0.024719           -0.049786   \n",
       "Budget                         0.079621          0.084292            0.119994   \n",
       "Gross Earnings                 0.637271          0.559958            0.480601   \n",
       "Facebook Likes - Director      0.297045          0.221890            0.180674   \n",
       "Facebook Likes - Actor 1       0.192763          0.145461            0.190016   \n",
       "Facebook Likes - Actor 2       0.270755          0.219496            0.282306   \n",
       "Facebook Likes - Actor 3       0.287239          0.230189            0.271646   \n",
       "Facebook Likes - cast Total    0.265865          0.206923            0.263203   \n",
       "Facebook likes - Movie         0.537905          0.400594            0.683176   \n",
       "Facenumber in posters         -0.027082         -0.069018           -0.033897   \n",
       "User Votes                     1.000000          0.798406            0.624943   \n",
       "Reviews by Users               0.798406          1.000000            0.609387   \n",
       "Reviews by Crtiics             0.624943          0.609387            1.000000   \n",
       "IMDB Score                     0.411064          0.292475            0.305303   \n",
       "\n",
       "                             IMDB Score  \n",
       "Year                          -0.209167  \n",
       "Duration                       0.261662  \n",
       "Aspect Ratio                   0.059445  \n",
       "Budget                         0.030688  \n",
       "Gross Earnings                 0.198021  \n",
       "Facebook Likes - Director      0.170834  \n",
       "Facebook Likes - Actor 1       0.076153  \n",
       "Facebook Likes - Actor 2       0.083860  \n",
       "Facebook Likes - Actor 3       0.052633  \n",
       "Facebook Likes - cast Total    0.085854  \n",
       "Facebook likes - Movie         0.247106  \n",
       "Facenumber in posters         -0.062883  \n",
       "User Votes                     0.411064  \n",
       "Reviews by Users               0.292475  \n",
       "Reviews by Crtiics             0.305303  \n",
       "IMDB Score                     1.000000  "
      ]
     },
     "execution_count": 72,
     "metadata": {},
     "output_type": "execute_result"
    }
   ],
   "source": [
    "movies.corr()\n",
    "# Budget and Gross earnings are not very correlated, r = 0.10"
   ]
  },
  {
   "cell_type": "markdown",
   "metadata": {},
   "source": [
    "### E1. What kind of thing is movies? How do you know?"
   ]
  },
  {
   "cell_type": "code",
   "execution_count": null,
   "metadata": {},
   "outputs": [],
   "source": []
  },
  {
   "cell_type": "markdown",
   "metadata": {},
   "source": [
    "### E2. What does it mean that year and duration are negatively correlated? Plot these two variables togther and explain."
   ]
  },
  {
   "cell_type": "code",
   "execution_count": null,
   "metadata": {},
   "outputs": [],
   "source": []
  },
  {
   "cell_type": "markdown",
   "metadata": {},
   "source": [
    "### E3. Which pairs of variables have the highest correlation? What might explain this?"
   ]
  },
  {
   "cell_type": "code",
   "execution_count": null,
   "metadata": {},
   "outputs": [],
   "source": []
  },
  {
   "cell_type": "code",
   "execution_count": null,
   "metadata": {},
   "outputs": [],
   "source": []
  },
  {
   "cell_type": "markdown",
   "metadata": {},
   "source": [
    "## 8.1.3 Introduction to linear regression"
   ]
  },
  {
   "cell_type": "markdown",
   "metadata": {},
   "source": [
    "See https://en.wikipedia.org/wiki/Linear_regression and http://onlinestatbook.com/2/regression/regression.html for a nice introduction. See https://towardsdatascience.com/linear-regression-using-python-b136c91bf0a2 for a good intro on the math"
   ]
  },
  {
   "cell_type": "markdown",
   "metadata": {},
   "source": [
    "Supposed we were convinced that gross earnings were linearly related to budget, i.e. G = a*B +c. To test this, we would fit the scatterplot we made above to a line, which would solve for the coefficients a (slope) and c (intercept) in our linear equation."
   ]
  },
  {
   "cell_type": "markdown",
   "metadata": {},
   "source": [
    "The basic idea of linear regression is that one finds the distance of each data point to a line and minimize this (using calculus) to find the best fit line. This is commonly called ordinary least squares, as the distance of the data from the linear model is squared."
   ]
  },
  {
   "cell_type": "markdown",
   "metadata": {},
   "source": [
    "Because the movies database has a number of nans in it, it's a bit difficult to work with. Instead, let's do the tutorial here on linear regression using Boston housing data: https://towardsdatascience.com/linear-regression-on-boston-housing-dataset-f409b7e4a155"
   ]
  },
  {
   "cell_type": "markdown",
   "metadata": {},
   "source": [
    "This tutorial uses the package scikit-learn, which is a collection of advanced data analysis and machine learning functions. We will use this again in the future when we cover machine learning"
   ]
  },
  {
   "cell_type": "markdown",
   "metadata": {},
   "source": [
    "First lets go over loading in this dataset and converting it to pandas"
   ]
  },
  {
   "cell_type": "code",
   "execution_count": 73,
   "metadata": {},
   "outputs": [],
   "source": [
    "from sklearn import datasets ## imports datasets from scikit-learn\n",
    "data = datasets.load_boston() ## loads Boston dataset from datasets library "
   ]
  },
  {
   "cell_type": "markdown",
   "metadata": {},
   "source": [
    "What we want to do here is to determine which variables contribute to housing prices"
   ]
  },
  {
   "cell_type": "code",
   "execution_count": 74,
   "metadata": {},
   "outputs": [
    {
     "data": {
      "text/plain": [
       "\u001b[0;31mType:\u001b[0m        Bunch\n",
       "\u001b[0;31mString form:\u001b[0m\n",
       "{'data': array([[6.3200e-03, 1.8000e+01, 2.3100e+00, ..., 1.5300e+01, 3.9690e+02,\n",
       "           4.9800e <...> ilename': '/anaconda3/lib/python3.7/site-packages/sklearn/datasets/data/boston_house_prices.csv'}\n",
       "\u001b[0;31mLength:\u001b[0m      5\n",
       "\u001b[0;31mFile:\u001b[0m        /anaconda3/lib/python3.7/site-packages/sklearn/utils/__init__.py\n",
       "\u001b[0;31mDocstring:\u001b[0m  \n",
       "Container object for datasets\n",
       "\n",
       "Dictionary-like object that exposes its keys as attributes.\n",
       "\n",
       ">>> b = Bunch(a=1, b=2)\n",
       ">>> b['b']\n",
       "2\n",
       ">>> b.b\n",
       "2\n",
       ">>> b.a = 3\n",
       ">>> b['a']\n",
       "3\n",
       ">>> b.c = 6\n",
       ">>> b['c']\n",
       "6\n"
      ]
     },
     "metadata": {},
     "output_type": "display_data"
    }
   ],
   "source": [
    "data?"
   ]
  },
  {
   "cell_type": "code",
   "execution_count": 75,
   "metadata": {},
   "outputs": [
    {
     "name": "stdout",
     "output_type": "stream",
     "text": [
      ".. _boston_dataset:\n",
      "\n",
      "Boston house prices dataset\n",
      "---------------------------\n",
      "\n",
      "**Data Set Characteristics:**  \n",
      "\n",
      "    :Number of Instances: 506 \n",
      "\n",
      "    :Number of Attributes: 13 numeric/categorical predictive. Median Value (attribute 14) is usually the target.\n",
      "\n",
      "    :Attribute Information (in order):\n",
      "        - CRIM     per capita crime rate by town\n",
      "        - ZN       proportion of residential land zoned for lots over 25,000 sq.ft.\n",
      "        - INDUS    proportion of non-retail business acres per town\n",
      "        - CHAS     Charles River dummy variable (= 1 if tract bounds river; 0 otherwise)\n",
      "        - NOX      nitric oxides concentration (parts per 10 million)\n",
      "        - RM       average number of rooms per dwelling\n",
      "        - AGE      proportion of owner-occupied units built prior to 1940\n",
      "        - DIS      weighted distances to five Boston employment centres\n",
      "        - RAD      index of accessibility to radial highways\n",
      "        - TAX      full-value property-tax rate per $10,000\n",
      "        - PTRATIO  pupil-teacher ratio by town\n",
      "        - B        1000(Bk - 0.63)^2 where Bk is the proportion of blacks by town\n",
      "        - LSTAT    % lower status of the population\n",
      "        - MEDV     Median value of owner-occupied homes in $1000's\n",
      "\n",
      "    :Missing Attribute Values: None\n",
      "\n",
      "    :Creator: Harrison, D. and Rubinfeld, D.L.\n",
      "\n",
      "This is a copy of UCI ML housing dataset.\n",
      "https://archive.ics.uci.edu/ml/machine-learning-databases/housing/\n",
      "\n",
      "\n",
      "This dataset was taken from the StatLib library which is maintained at Carnegie Mellon University.\n",
      "\n",
      "The Boston house-price data of Harrison, D. and Rubinfeld, D.L. 'Hedonic\n",
      "prices and the demand for clean air', J. Environ. Economics & Management,\n",
      "vol.5, 81-102, 1978.   Used in Belsley, Kuh & Welsch, 'Regression diagnostics\n",
      "...', Wiley, 1980.   N.B. Various transformations are used in the table on\n",
      "pages 244-261 of the latter.\n",
      "\n",
      "The Boston house-price data has been used in many machine learning papers that address regression\n",
      "problems.   \n",
      "     \n",
      ".. topic:: References\n",
      "\n",
      "   - Belsley, Kuh & Welsch, 'Regression diagnostics: Identifying Influential Data and Sources of Collinearity', Wiley, 1980. 244-261.\n",
      "   - Quinlan,R. (1993). Combining Instance-Based and Model-Based Learning. In Proceedings on the Tenth International Conference of Machine Learning, 236-243, University of Massachusetts, Amherst. Morgan Kaufmann.\n",
      "\n"
     ]
    }
   ],
   "source": [
    "# information on the data:\n",
    "print(data.DESCR)"
   ]
  },
  {
   "cell_type": "code",
   "execution_count": 76,
   "metadata": {},
   "outputs": [],
   "source": [
    "# convert the data set into a pandas data frame  \n",
    "df = pd.DataFrame(data.data, columns=data.feature_names)\n",
    "\n",
    "# Put the target (housing value -- MEDV) in another DataFrame\n",
    "target = pd.DataFrame(data.target, columns=[\"MEDV\"])\n"
   ]
  },
  {
   "cell_type": "code",
   "execution_count": 77,
   "metadata": {},
   "outputs": [
    {
     "data": {
      "text/plain": [
       "array([[1.        , 0.69535995],\n",
       "       [0.69535995, 1.        ]])"
      ]
     },
     "execution_count": 77,
     "metadata": {},
     "output_type": "execute_result"
    }
   ],
   "source": [
    "# are room numbers and value correlated?\n",
    "np.corrcoef(df[\"RM\"], target[\"MEDV\"])\n",
    "\n",
    "# note this is a matrix of correlation coefficients, you only need the top right one"
   ]
  },
  {
   "cell_type": "code",
   "execution_count": 78,
   "metadata": {},
   "outputs": [
    {
     "data": {
      "text/plain": [
       "Text(0, 0.5, 'House value ($1000s)')"
      ]
     },
     "execution_count": 78,
     "metadata": {},
     "output_type": "execute_result"
    },
    {
     "data": {
      "image/png": "[encoded data removed]",
      "text/plain": [
       "<Figure size 432x288 with 1 Axes>"
      ]
     },
     "metadata": {
      "needs_background": "light"
     },
     "output_type": "display_data"
    }
   ],
   "source": [
    "# lets visualize\n",
    "plt.scatter(df[\"RM\"], target[\"MEDV\"])\n",
    "plt.xlabel('Number of Rooms')\n",
    "plt.ylabel('House value ($1000s)')"
   ]
  },
  {
   "cell_type": "markdown",
   "metadata": {},
   "source": [
    "### Discuss: how well does this plot agree with the correlation coefficient we got? What might be affecting the results?"
   ]
  },
  {
   "cell_type": "markdown",
   "metadata": {},
   "source": [
    "Outliers affect your residuals, lowering the correlation"
   ]
  },
  {
   "cell_type": "markdown",
   "metadata": {},
   "source": [
    "### E4. Create a second dataframe with the housing value added as a column. What variables correlate most with housing value? Hypothesize why this might be."
   ]
  },
  {
   "cell_type": "code",
   "execution_count": null,
   "metadata": {},
   "outputs": [],
   "source": []
  },
  {
   "cell_type": "code",
   "execution_count": null,
   "metadata": {},
   "outputs": [],
   "source": []
  },
  {
   "cell_type": "markdown",
   "metadata": {},
   "source": [
    "Before we go into the online tutorial, which uses scikit learn, let's do some basic linear regression with the scipy and statsmodels packages, so you can see how they compare."
   ]
  },
  {
   "cell_type": "markdown",
   "metadata": {},
   "source": [
    "### Doing a linear regression using scipy"
   ]
  },
  {
   "cell_type": "code",
   "execution_count": 79,
   "metadata": {},
   "outputs": [],
   "source": [
    "from scipy import stats"
   ]
  },
  {
   "cell_type": "code",
   "execution_count": 80,
   "metadata": {},
   "outputs": [],
   "source": [
    "slope, intercept, r_value, p_value, std_err = stats.linregress(df[\"RM\"],target[\"MEDV\"])"
   ]
  },
  {
   "cell_type": "markdown",
   "metadata": {},
   "source": [
    "this gives us the slope and intercept of the line, the corrlation (r_value)\n",
    "\n",
    "A low p-value (< 0.05) indicates that the linear regression is a good model\n",
    "\n",
    "the standard error is the standard deviation of the data from the model (instead of the mean)"
   ]
  },
  {
   "cell_type": "code",
   "execution_count": 81,
   "metadata": {},
   "outputs": [
    {
     "data": {
      "text/plain": [
       "9.102108981180306"
      ]
     },
     "execution_count": 81,
     "metadata": {},
     "output_type": "execute_result"
    }
   ],
   "source": [
    "slope"
   ]
  },
  {
   "cell_type": "code",
   "execution_count": 82,
   "metadata": {},
   "outputs": [
    {
     "data": {
      "text/plain": [
       "-34.67062077643854"
      ]
     },
     "execution_count": 82,
     "metadata": {},
     "output_type": "execute_result"
    }
   ],
   "source": [
    "intercept"
   ]
  },
  {
   "cell_type": "code",
   "execution_count": 83,
   "metadata": {},
   "outputs": [
    {
     "data": {
      "text/plain": [
       "0.695359947071539"
      ]
     },
     "execution_count": 83,
     "metadata": {},
     "output_type": "execute_result"
    }
   ],
   "source": [
    "r_value\n",
    "# note this is the same correlation value we got before"
   ]
  },
  {
   "cell_type": "code",
   "execution_count": 84,
   "metadata": {},
   "outputs": [
    {
     "data": {
      "text/plain": [
       "2.487228871008377e-74"
      ]
     },
     "execution_count": 84,
     "metadata": {},
     "output_type": "execute_result"
    }
   ],
   "source": [
    "p_value"
   ]
  },
  {
   "cell_type": "code",
   "execution_count": 85,
   "metadata": {},
   "outputs": [
    {
     "data": {
      "text/plain": [
       "0.41902656012134054"
      ]
     },
     "execution_count": 85,
     "metadata": {},
     "output_type": "execute_result"
    }
   ],
   "source": [
    "std_err"
   ]
  },
  {
   "cell_type": "code",
   "execution_count": 96,
   "metadata": {},
   "outputs": [
    {
     "data": {
      "text/plain": [
       "Text(0, 0.5, 'House value (MEDV; $1000s)')"
      ]
     },
     "execution_count": 96,
     "metadata": {},
     "output_type": "execute_result"
    },
    {
     "data": {
      "image/png": "[encoded data removed]",
      "text/plain": [
       "<Figure size 432x288 with 1 Axes>"
      ]
     },
     "metadata": {
      "needs_background": "light"
     },
     "output_type": "display_data"
    }
   ],
   "source": [
    "plt.plot(df[\"RM\"], slope*df[\"RM\"]+intercept, 'k--')\n",
    "plt.scatter(df[\"RM\"], target[\"MEDV\"])\n",
    "plt.xlabel('Number of Rooms (RM)')\n",
    "plt.ylabel('House value (MEDV; $1000s)')"
   ]
  },
  {
   "cell_type": "markdown",
   "metadata": {},
   "source": [
    "### E5. In the above plot, write the equation of the fitted line the title, using the values for the slope and intercept to a reasonable number of signifigant digits."
   ]
  },
  {
   "cell_type": "code",
   "execution_count": 98,
   "metadata": {},
   "outputs": [
    {
     "data": {
      "text/plain": [
       "Text(0.5, 1.0, 'Best fit: MEDV = 9.1RM - 34.7')"
      ]
     },
     "execution_count": 98,
     "metadata": {},
     "output_type": "execute_result"
    },
    {
     "data": {
      "image/png": "[encoded data removed]",
      "text/plain": [
       "<Figure size 432x288 with 1 Axes>"
      ]
     },
     "metadata": {
      "needs_background": "light"
     },
     "output_type": "display_data"
    }
   ],
   "source": [
    "plt.plot(df[\"RM\"], slope*df[\"RM\"]+intercept, 'k--')\n",
    "plt.scatter(df[\"RM\"], target[\"MEDV\"])\n",
    "plt.xlabel('Number of Rooms (RM)')\n",
    "plt.ylabel('House value (MEDV; $1000s)')\n",
    "plt.title('Best fit: MEDV = 9.1RM - 34.7')\n",
    "\n",
    "# note I am labeling the axes with the variable name so they agree with the title"
   ]
  },
  {
   "cell_type": "code",
   "execution_count": null,
   "metadata": {},
   "outputs": [],
   "source": []
  },
  {
   "cell_type": "markdown",
   "metadata": {},
   "source": [
    "## Doing a linear regression using statsmodels"
   ]
  },
  {
   "cell_type": "markdown",
   "metadata": {},
   "source": [
    "Statsmodels is a powerful statistics package that is very popular\n",
    "\n",
    "See https://towardsdatascience.com/simple-and-multiple-linear-regression-in-python-c928425168f9\n",
    "\n",
    "and\n",
    "\n",
    "https://www.statsmodels.org/dev/index.html\n",
    "\n",
    "http://www.statsmodels.org/dev/examples/index.html#linear-regression-models\n",
    "\n",
    "Note that with statsmodels you can do generalized linear regression, i.e. regression with more than one variable: \n",
    "\n",
    "y = a*X_1 + b*X_2 + ..."
   ]
  },
  {
   "cell_type": "code",
   "execution_count": 99,
   "metadata": {},
   "outputs": [],
   "source": [
    "import statsmodels.api as sm\n"
   ]
  },
  {
   "cell_type": "code",
   "execution_count": 88,
   "metadata": {},
   "outputs": [
    {
     "name": "stdout",
     "output_type": "stream",
     "text": [
      "Help on class OLS in module statsmodels.regression.linear_model:\n",
      "\n",
      "class OLS(WLS)\n",
      " |  OLS(endog, exog=None, missing='none', hasconst=None, **kwargs)\n",
      " |  \n",
      " |  A simple ordinary least squares model.\n",
      " |  \n",
      " |  \n",
      " |  Parameters\n",
      " |  ----------\n",
      " |  endog : array-like\n",
      " |      1-d endogenous response variable. The dependent variable.\n",
      " |  exog : array-like\n",
      " |      A nobs x k array where `nobs` is the number of observations and `k`\n",
      " |      is the number of regressors. An intercept is not included by default\n",
      " |      and should be added by the user. See\n",
      " |      :func:`statsmodels.tools.add_constant`.\n",
      " |  missing : str\n",
      " |      Available options are 'none', 'drop', and 'raise'. If 'none', no nan\n",
      " |      checking is done. If 'drop', any observations with nans are dropped.\n",
      " |      If 'raise', an error is raised. Default is 'none.'\n",
      " |  hasconst : None or bool\n",
      " |      Indicates whether the RHS includes a user-supplied constant. If True,\n",
      " |      a constant is not checked for and k_constant is set to 1 and all\n",
      " |      result statistics are calculated as if a constant is present. If\n",
      " |      False, a constant is not checked for and k_constant is set to 0.\n",
      " |  \n",
      " |  \n",
      " |  Attributes\n",
      " |  ----------\n",
      " |  weights : scalar\n",
      " |      Has an attribute weights = array(1.0) due to inheritance from WLS.\n",
      " |  \n",
      " |  See Also\n",
      " |  --------\n",
      " |  GLS\n",
      " |  \n",
      " |  Examples\n",
      " |  --------\n",
      " |  >>> import numpy as np\n",
      " |  >>>\n",
      " |  >>> import statsmodels.api as sm\n",
      " |  >>>\n",
      " |  >>> Y = [1,3,4,5,2,3,4]\n",
      " |  >>> X = range(1,8)\n",
      " |  >>> X = sm.add_constant(X)\n",
      " |  >>>\n",
      " |  >>> model = sm.OLS(Y,X)\n",
      " |  >>> results = model.fit()\n",
      " |  >>> results.params\n",
      " |  array([ 2.14285714,  0.25      ])\n",
      " |  >>> results.tvalues\n",
      " |  array([ 1.87867287,  0.98019606])\n",
      " |  >>> print(results.t_test([1, 0]))\n",
      " |  <T test: effect=array([ 2.14285714]), sd=array([[ 1.14062282]]), t=array([[ 1.87867287]]), p=array([[ 0.05953974]]), df_denom=5>\n",
      " |  >>> print(results.f_test(np.identity(2)))\n",
      " |  <F test: F=array([[ 19.46078431]]), p=[[ 0.00437251]], df_denom=5, df_num=2>\n",
      " |  \n",
      " |  Notes\n",
      " |  -----\n",
      " |  No constant is added by the model unless you are using formulas.\n",
      " |  \n",
      " |  Method resolution order:\n",
      " |      OLS\n",
      " |      WLS\n",
      " |      RegressionModel\n",
      " |      statsmodels.base.model.LikelihoodModel\n",
      " |      statsmodels.base.model.Model\n",
      " |      builtins.object\n",
      " |  \n",
      " |  Methods defined here:\n",
      " |  \n",
      " |  __init__(self, endog, exog=None, missing='none', hasconst=None, **kwargs)\n",
      " |      Initialize self.  See help(type(self)) for accurate signature.\n",
      " |  \n",
      " |  fit_regularized(self, method='elastic_net', alpha=0.0, L1_wt=1.0, start_params=None, profile_scale=False, refit=False, **kwargs)\n",
      " |      Return a regularized fit to a linear regression model.\n",
      " |      \n",
      " |      Parameters\n",
      " |      ----------\n",
      " |      method : string\n",
      " |          Only the 'elastic_net' approach is currently implemented.\n",
      " |      alpha : scalar or array-like\n",
      " |          The penalty weight.  If a scalar, the same penalty weight\n",
      " |          applies to all variables in the model.  If a vector, it\n",
      " |          must have the same length as `params`, and contains a\n",
      " |          penalty weight for each coefficient.\n",
      " |      L1_wt: scalar\n",
      " |          The fraction of the penalty given to the L1 penalty term.\n",
      " |          Must be between 0 and 1 (inclusive).  If 0, the fit is a\n",
      " |          ridge fit, if 1 it is a lasso fit.\n",
      " |      start_params : array-like\n",
      " |          Starting values for ``params``.\n",
      " |      profile_scale : bool\n",
      " |          If True the penalized fit is computed using the profile\n",
      " |          (concentrated) log-likelihood for the Gaussian model.\n",
      " |          Otherwise the fit uses the residual sum of squares.\n",
      " |      refit : bool\n",
      " |          If True, the model is refit using only the variables that\n",
      " |          have non-zero coefficients in the regularized fit.  The\n",
      " |          refitted model is not regularized.\n",
      " |      distributed : bool\n",
      " |          If True, the model uses distributed methods for fitting,\n",
      " |          will raise an error if True and partitions is None.\n",
      " |      generator : function\n",
      " |          generator used to partition the model, allows for handling\n",
      " |          of out of memory/parallel computing.\n",
      " |      partitions : scalar\n",
      " |          The number of partitions desired for the distributed\n",
      " |          estimation.\n",
      " |      threshold : scalar or array-like\n",
      " |          The threshold below which coefficients are zeroed out,\n",
      " |          only used for distributed estimation\n",
      " |      \n",
      " |      Returns\n",
      " |      -------\n",
      " |      A RegularizedResults instance.\n",
      " |      \n",
      " |      Notes\n",
      " |      -----\n",
      " |      \n",
      " |      The elastic net approach closely follows that implemented in\n",
      " |      the glmnet package in R.  The penalty is a combination of L1\n",
      " |      and L2 penalties.\n",
      " |      \n",
      " |      The function that is minimized is:\n",
      " |      \n",
      " |      .. math::\n",
      " |      \n",
      " |          0.5*RSS/n + alpha*((1-L1\\_wt)*|params|_2^2/2 + L1\\_wt*|params|_1)\n",
      " |      \n",
      " |      where RSS is the usual regression sum of squares, n is the\n",
      " |      sample size, and :math:`|*|_1` and :math:`|*|_2` are the L1 and L2\n",
      " |      norms.\n",
      " |      \n",
      " |      For WLS and GLS, the RSS is calculated using the whitened endog and\n",
      " |      exog data.\n",
      " |      \n",
      " |      Post-estimation results are based on the same data used to\n",
      " |      select variables, hence may be subject to overfitting biases.\n",
      " |      \n",
      " |      The elastic_net method uses the following keyword arguments:\n",
      " |      \n",
      " |      maxiter : int\n",
      " |          Maximum number of iterations\n",
      " |      cnvrg_tol : float\n",
      " |          Convergence threshold for line searches\n",
      " |      zero_tol : float\n",
      " |          Coefficients below this threshold are treated as zero.\n",
      " |      \n",
      " |      References\n",
      " |      ----------\n",
      " |      Friedman, Hastie, Tibshirani (2008).  Regularization paths for\n",
      " |      generalized linear models via coordinate descent.  Journal of\n",
      " |      Statistical Software 33(1), 1-22 Feb 2010.\n",
      " |  \n",
      " |  hessian(self, params, scale=None)\n",
      " |      Evaluate the Hessian function at a given point.\n",
      " |      \n",
      " |      Parameters\n",
      " |      ----------\n",
      " |      params : array-like\n",
      " |          The parameter vector at which the Hessian is computed.\n",
      " |      scale : float or None\n",
      " |          If None, return the profile (concentrated) log likelihood\n",
      " |          (profiled over the scale parameter), else return the\n",
      " |          log-likelihood using the given scale value.\n",
      " |      \n",
      " |      Returns\n",
      " |      -------\n",
      " |      The Hessian matrix.\n",
      " |  \n",
      " |  hessian_factor(self, params, scale=None, observed=True)\n",
      " |      Weights for calculating Hessian\n",
      " |      \n",
      " |      Parameters\n",
      " |      ----------\n",
      " |      params : ndarray\n",
      " |          parameter at which Hessian is evaluated\n",
      " |      scale : None or float\n",
      " |          If scale is None, then the default scale will be calculated.\n",
      " |          Default scale is defined by `self.scaletype` and set in fit.\n",
      " |          If scale is not None, then it is used as a fixed scale.\n",
      " |      observed : bool\n",
      " |          If True, then the observed Hessian is returned. If false then the\n",
      " |          expected information matrix is returned.\n",
      " |      \n",
      " |      Returns\n",
      " |      -------\n",
      " |      hessian_factor : ndarray, 1d\n",
      " |          A 1d weight vector used in the calculation of the Hessian.\n",
      " |          The hessian is obtained by `(exog.T * hessian_factor).dot(exog)`\n",
      " |  \n",
      " |  loglike(self, params, scale=None)\n",
      " |      The likelihood function for the OLS model.\n",
      " |      \n",
      " |      Parameters\n",
      " |      ----------\n",
      " |      params : array-like\n",
      " |          The coefficients with which to estimate the log-likelihood.\n",
      " |      scale : float or None\n",
      " |          If None, return the profile (concentrated) log likelihood\n",
      " |          (profiled over the scale parameter), else return the\n",
      " |          log-likelihood using the given scale value.\n",
      " |      \n",
      " |      Returns\n",
      " |      -------\n",
      " |      The likelihood function evaluated at params.\n",
      " |  \n",
      " |  score(self, params, scale=None)\n",
      " |      Evaluate the score function at a given point.\n",
      " |      \n",
      " |      The score corresponds to the profile (concentrated)\n",
      " |      log-likelihood in which the scale parameter has been profiled\n",
      " |      out.\n",
      " |      \n",
      " |      Parameters\n",
      " |      ----------\n",
      " |      params : array-like\n",
      " |          The parameter vector at which the score function is\n",
      " |          computed.\n",
      " |      scale : float or None\n",
      " |          If None, return the profile (concentrated) log likelihood\n",
      " |          (profiled over the scale parameter), else return the\n",
      " |          log-likelihood using the given scale value.\n",
      " |      \n",
      " |      Returns\n",
      " |      -------\n",
      " |      The score vector.\n",
      " |  \n",
      " |  whiten(self, Y)\n",
      " |      OLS model whitener does nothing: returns Y.\n",
      " |  \n",
      " |  ----------------------------------------------------------------------\n",
      " |  Methods inherited from RegressionModel:\n",
      " |  \n",
      " |  fit(self, method='pinv', cov_type='nonrobust', cov_kwds=None, use_t=None, **kwargs)\n",
      " |      Full fit of the model.\n",
      " |      \n",
      " |      The results include an estimate of covariance matrix, (whitened)\n",
      " |      residuals and an estimate of scale.\n",
      " |      \n",
      " |      Parameters\n",
      " |      ----------\n",
      " |      method : str, optional\n",
      " |          Can be \"pinv\", \"qr\".  \"pinv\" uses the Moore-Penrose pseudoinverse\n",
      " |          to solve the least squares problem. \"qr\" uses the QR\n",
      " |          factorization.\n",
      " |      cov_type : str, optional\n",
      " |          See `regression.linear_model.RegressionResults` for a description\n",
      " |          of the available covariance estimators\n",
      " |      cov_kwds : list or None, optional\n",
      " |          See `linear_model.RegressionResults.get_robustcov_results` for a\n",
      " |          description required keywords for alternative covariance estimators\n",
      " |      use_t : bool, optional\n",
      " |          Flag indicating to use the Student's t distribution when computing\n",
      " |          p-values.  Default behavior depends on cov_type. See\n",
      " |          `linear_model.RegressionResults.get_robustcov_results` for\n",
      " |          implementation details.\n",
      " |      \n",
      " |      Returns\n",
      " |      -------\n",
      " |      A RegressionResults class instance.\n",
      " |      \n",
      " |      See Also\n",
      " |      ---------\n",
      " |      regression.linear_model.RegressionResults\n",
      " |      regression.linear_model.RegressionResults.get_robustcov_results\n",
      " |      \n",
      " |      Notes\n",
      " |      -----\n",
      " |      The fit method uses the pseudoinverse of the design/exogenous variables\n",
      " |      to solve the least squares minimization.\n",
      " |  \n",
      " |  get_distribution(self, params, scale, exog=None, dist_class=None)\n",
      " |      Returns a random number generator for the predictive distribution.\n",
      " |      \n",
      " |      Parameters\n",
      " |      ----------\n",
      " |      params : array-like\n",
      " |          The model parameters (regression coefficients).\n",
      " |      scale : scalar\n",
      " |          The variance parameter.\n",
      " |      exog : array-like\n",
      " |          The predictor variable matrix.\n",
      " |      dist_class : class\n",
      " |          A random number generator class.  Must take 'loc' and 'scale'\n",
      " |          as arguments and return a random number generator implementing\n",
      " |          an ``rvs`` method for simulating random values. Defaults to Gaussian.\n",
      " |      \n",
      " |      Returns\n",
      " |      -------\n",
      " |      gen\n",
      " |          Frozen random number generator object with mean and variance\n",
      " |          determined by the fitted linear model.  Use the ``rvs`` method\n",
      " |          to generate random values.\n",
      " |      \n",
      " |      Notes\n",
      " |      -----\n",
      " |      Due to the behavior of ``scipy.stats.distributions objects``,\n",
      " |      the returned random number generator must be called with\n",
      " |      ``gen.rvs(n)`` where ``n`` is the number of observations in\n",
      " |      the data set used to fit the model.  If any other value is\n",
      " |      used for ``n``, misleading results will be produced.\n",
      " |  \n",
      " |  initialize(self)\n",
      " |      Initialize (possibly re-initialize) a Model instance. For\n",
      " |      instance, the design matrix of a linear model may change\n",
      " |      and some things must be recomputed.\n",
      " |  \n",
      " |  predict(self, params, exog=None)\n",
      " |      Return linear predicted values from a design matrix.\n",
      " |      \n",
      " |      Parameters\n",
      " |      ----------\n",
      " |      params : array-like\n",
      " |          Parameters of a linear model\n",
      " |      exog : array-like, optional.\n",
      " |          Design / exogenous data. Model exog is used if None.\n",
      " |      \n",
      " |      Returns\n",
      " |      -------\n",
      " |      An array of fitted values\n",
      " |      \n",
      " |      Notes\n",
      " |      -----\n",
      " |      If the model has not yet been fit, params is not optional.\n",
      " |  \n",
      " |  ----------------------------------------------------------------------\n",
      " |  Data descriptors inherited from RegressionModel:\n",
      " |  \n",
      " |  df_model\n",
      " |      The model degree of freedom, defined as the rank of the regressor\n",
      " |      matrix minus 1 if a constant is included.\n",
      " |  \n",
      " |  df_resid\n",
      " |      The residual degree of freedom, defined as the number of observations\n",
      " |      minus the rank of the regressor matrix.\n",
      " |  \n",
      " |  ----------------------------------------------------------------------\n",
      " |  Methods inherited from statsmodels.base.model.LikelihoodModel:\n",
      " |  \n",
      " |  information(self, params)\n",
      " |      Fisher information matrix of model\n",
      " |      \n",
      " |      Returns -Hessian of loglike evaluated at params.\n",
      " |  \n",
      " |  ----------------------------------------------------------------------\n",
      " |  Class methods inherited from statsmodels.base.model.Model:\n",
      " |  \n",
      " |  from_formula(formula, data, subset=None, drop_cols=None, *args, **kwargs) from builtins.type\n",
      " |      Create a Model from a formula and dataframe.\n",
      " |      \n",
      " |      Parameters\n",
      " |      ----------\n",
      " |      formula : str or generic Formula object\n",
      " |          The formula specifying the model\n",
      " |      data : array-like\n",
      " |          The data for the model. See Notes.\n",
      " |      subset : array-like\n",
      " |          An array-like object of booleans, integers, or index values that\n",
      " |          indicate the subset of df to use in the model. Assumes df is a\n",
      " |          `pandas.DataFrame`\n",
      " |      drop_cols : array-like\n",
      " |          Columns to drop from the design matrix.  Cannot be used to\n",
      " |          drop terms involving categoricals.\n",
      " |      args : extra arguments\n",
      " |          These are passed to the model\n",
      " |      kwargs : extra keyword arguments\n",
      " |          These are passed to the model with one exception. The\n",
      " |          ``eval_env`` keyword is passed to patsy. It can be either a\n",
      " |          :class:`patsy:patsy.EvalEnvironment` object or an integer\n",
      " |          indicating the depth of the namespace to use. For example, the\n",
      " |          default ``eval_env=0`` uses the calling namespace. If you wish\n",
      " |          to use a \"clean\" environment set ``eval_env=-1``.\n",
      " |      \n",
      " |      Returns\n",
      " |      -------\n",
      " |      model : Model instance\n",
      " |      \n",
      " |      Notes\n",
      " |      ------\n",
      " |      data must define __getitem__ with the keys in the formula terms\n",
      " |      args and kwargs are passed on to the model instantiation. E.g.,\n",
      " |      a numpy structured or rec array, a dictionary, or a pandas DataFrame.\n",
      " |  \n",
      " |  ----------------------------------------------------------------------\n",
      " |  Data descriptors inherited from statsmodels.base.model.Model:\n",
      " |  \n",
      " |  __dict__\n",
      " |      dictionary for instance variables (if defined)\n",
      " |  \n",
      " |  __weakref__\n",
      " |      list of weak references to the object (if defined)\n",
      " |  \n",
      " |  endog_names\n",
      " |      Names of endogenous variables\n",
      " |  \n",
      " |  exog_names\n",
      " |      Names of exogenous variables\n",
      "\n"
     ]
    }
   ],
   "source": [
    "# look at the helpfiles for OLS, ordinary least squares fitting, aka linear fitting\n",
    "help(sm.OLS)\n",
    "# note if you doubleclick to the left of the number it collapses the results"
   ]
  },
  {
   "cell_type": "code",
   "execution_count": 89,
   "metadata": {},
   "outputs": [],
   "source": [
    "# same data as before:\n",
    "X = df[\"RM\"] # what we think the cost depends on\n",
    "y = target[\"MEDV\"]"
   ]
  },
  {
   "cell_type": "code",
   "execution_count": 90,
   "metadata": {},
   "outputs": [],
   "source": [
    "# Note y, the target of what we are fitting to, goes first:\n",
    "model = sm.OLS(y, X).fit()\n",
    "\n",
    "# this is fitting y = aX, with no constant, i.e. using an intercept of zero"
   ]
  },
  {
   "cell_type": "code",
   "execution_count": 93,
   "metadata": {},
   "outputs": [
    {
     "data": {
      "text/plain": [
       "\u001b[0;31mType:\u001b[0m            RegressionResultsWrapper\n",
       "\u001b[0;31mString form:\u001b[0m     <statsmodels.regression.linear_model.RegressionResultsWrapper object at 0x11ca4fdd8>\n",
       "\u001b[0;31mFile:\u001b[0m            /anaconda3/lib/python3.7/site-packages/statsmodels/regression/linear_model.py\n",
       "\u001b[0;31mDocstring:\u001b[0m      \n",
       "Results class for for an OLS model.\n",
       "\n",
       "Most of the methods and attributes are inherited from RegressionResults.\n",
       "The special methods that are only available for OLS are:\n",
       "\n",
       "- get_influence\n",
       "- outlier_test\n",
       "- el_test\n",
       "- conf_int_el\n",
       "\n",
       "See Also\n",
       "--------\n",
       "RegressionResults\n",
       "\u001b[0;31mClass docstring:\u001b[0m\n",
       "Class which wraps a statsmodels estimation Results class and steps in to\n",
       "reattach metadata to results (if available)\n"
      ]
     },
     "metadata": {},
     "output_type": "display_data"
    }
   ],
   "source": [
    "model?\n",
    "# no idea what this data type is...but whatever, keep going!"
   ]
  },
  {
   "cell_type": "code",
   "execution_count": 91,
   "metadata": {},
   "outputs": [
    {
     "data": {
      "text/plain": [
       "RM    3.65335\n",
       "dtype: float64"
      ]
     },
     "execution_count": 91,
     "metadata": {},
     "output_type": "execute_result"
    }
   ],
   "source": [
    "model.params"
   ]
  },
  {
   "cell_type": "code",
   "execution_count": 92,
   "metadata": {},
   "outputs": [
    {
     "name": "stdout",
     "output_type": "stream",
     "text": [
      "                            OLS Regression Results                            \n",
      "==============================================================================\n",
      "Dep. Variable:                   MEDV   R-squared:                       0.901\n",
      "Model:                            OLS   Adj. R-squared:                  0.901\n",
      "Method:                 Least Squares   F-statistic:                     4615.\n",
      "Date:                Tue, 15 Oct 2019   Prob (F-statistic):          3.74e-256\n",
      "Time:                        15:43:25   Log-Likelihood:                -1747.1\n",
      "No. Observations:                 506   AIC:                             3496.\n",
      "Df Residuals:                     505   BIC:                             3500.\n",
      "Df Model:                           1                                         \n",
      "Covariance Type:            nonrobust                                         \n",
      "==============================================================================\n",
      "                 coef    std err          t      P>|t|      [0.025      0.975]\n",
      "------------------------------------------------------------------------------\n",
      "RM             3.6534      0.054     67.930      0.000       3.548       3.759\n",
      "==============================================================================\n",
      "Omnibus:                       83.295   Durbin-Watson:                   0.493\n",
      "Prob(Omnibus):                  0.000   Jarque-Bera (JB):              152.507\n",
      "Skew:                           0.955   Prob(JB):                     7.65e-34\n",
      "Kurtosis:                       4.894   Cond. No.                         1.00\n",
      "==============================================================================\n",
      "\n",
      "Warnings:\n",
      "[1] Standard Errors assume that the covariance matrix of the errors is correctly specified.\n"
     ]
    }
   ],
   "source": [
    "print(model.summary())"
   ]
  },
  {
   "cell_type": "code",
   "execution_count": 94,
   "metadata": {},
   "outputs": [],
   "source": [
    "predictions = model.predict(X) # make the predictions by the model"
   ]
  },
  {
   "cell_type": "code",
   "execution_count": 95,
   "metadata": {},
   "outputs": [
    {
     "data": {
      "text/plain": [
       "Text(0, 0.5, 'House value ($1000s)')"
      ]
     },
     "execution_count": 95,
     "metadata": {},
     "output_type": "execute_result"
    },
    {
     "data": {
      "image/png": "[encoded data removed]",
      "text/plain": [
       "<Figure size 432x288 with 1 Axes>"
      ]
     },
     "metadata": {
      "needs_background": "light"
     },
     "output_type": "display_data"
    }
   ],
   "source": [
    "plt.plot(X,predictions, 'k--')\n",
    "plt.scatter(df[\"RM\"], target[\"MEDV\"])\n",
    "plt.xlabel('Number of Rooms')\n",
    "plt.ylabel('House value ($1000s)')\n",
    "# this is not a very good fit"
   ]
  },
  {
   "cell_type": "markdown",
   "metadata": {},
   "source": [
    "The above was not a good fit, because we are assuming the intercept is zero\n",
    "\n",
    "### E6. Following the example in the documentation below, add an intercept to the model and plot your result\n",
    "\n",
    "http://www.statsmodels.org/dev/examples/notebooks/generated/ols.html"
   ]
  },
  {
   "cell_type": "code",
   "execution_count": 110,
   "metadata": {},
   "outputs": [],
   "source": [
    "X2 = sm.add_constant(X)\n",
    "model2 = sm.OLS(y, X2).fit()"
   ]
  },
  {
   "cell_type": "code",
   "execution_count": 111,
   "metadata": {},
   "outputs": [
    {
     "data": {
      "text/plain": [
       "const   -34.670621\n",
       "RM        9.102109\n",
       "dtype: float64"
      ]
     },
     "execution_count": 111,
     "metadata": {},
     "output_type": "execute_result"
    }
   ],
   "source": [
    "model2.params"
   ]
  },
  {
   "cell_type": "code",
   "execution_count": 112,
   "metadata": {},
   "outputs": [
    {
     "name": "stdout",
     "output_type": "stream",
     "text": [
      "                            OLS Regression Results                            \n",
      "==============================================================================\n",
      "Dep. Variable:                   MEDV   R-squared:                       0.484\n",
      "Model:                            OLS   Adj. R-squared:                  0.483\n",
      "Method:                 Least Squares   F-statistic:                     471.8\n",
      "Date:                Thu, 17 Oct 2019   Prob (F-statistic):           2.49e-74\n",
      "Time:                        14:45:19   Log-Likelihood:                -1673.1\n",
      "No. Observations:                 506   AIC:                             3350.\n",
      "Df Residuals:                     504   BIC:                             3359.\n",
      "Df Model:                           1                                         \n",
      "Covariance Type:            nonrobust                                         \n",
      "==============================================================================\n",
      "                 coef    std err          t      P>|t|      [0.025      0.975]\n",
      "------------------------------------------------------------------------------\n",
      "const        -34.6706      2.650    -13.084      0.000     -39.877     -29.465\n",
      "RM             9.1021      0.419     21.722      0.000       8.279       9.925\n",
      "==============================================================================\n",
      "Omnibus:                      102.585   Durbin-Watson:                   0.684\n",
      "Prob(Omnibus):                  0.000   Jarque-Bera (JB):              612.449\n",
      "Skew:                           0.726   Prob(JB):                    1.02e-133\n",
      "Kurtosis:                       8.190   Cond. No.                         58.4\n",
      "==============================================================================\n",
      "\n",
      "Warnings:\n",
      "[1] Standard Errors assume that the covariance matrix of the errors is correctly specified.\n"
     ]
    }
   ],
   "source": [
    "print(model2.summary())"
   ]
  },
  {
   "cell_type": "code",
   "execution_count": 113,
   "metadata": {},
   "outputs": [],
   "source": [
    "predictions2 = model2.predict(X2) # make the predictions by the model"
   ]
  },
  {
   "cell_type": "code",
   "execution_count": 114,
   "metadata": {},
   "outputs": [
    {
     "data": {
      "text/plain": [
       "Text(0, 0.5, 'House value ($1000s)')"
      ]
     },
     "execution_count": 114,
     "metadata": {},
     "output_type": "execute_result"
    },
    {
     "data": {
      "image/png": "[encoded data removed]",
      "text/plain": [
       "<Figure size 432x288 with 1 Axes>"
      ]
     },
     "metadata": {
      "needs_background": "light"
     },
     "output_type": "display_data"
    }
   ],
   "source": [
    "plt.plot(X,predictions2, 'k--')\n",
    "plt.scatter(df[\"RM\"], target[\"MEDV\"])\n",
    "plt.xlabel('Number of Rooms')\n",
    "plt.ylabel('House value ($1000s)')\n",
    "# this is not a very good fit"
   ]
  },
  {
   "cell_type": "markdown",
   "metadata": {},
   "source": [
    "## Note: if you don't finish the below in lab, complete for homework"
   ]
  },
  {
   "cell_type": "markdown",
   "metadata": {},
   "source": [
    "### E7. Complete the tutorial: \n",
    "\n",
    "https://towardsdatascience.com/linear-regression-on-boston-housing-dataset-f409b7e4a155"
   ]
  },
  {
   "cell_type": "code",
   "execution_count": null,
   "metadata": {},
   "outputs": [],
   "source": []
  },
  {
   "cell_type": "markdown",
   "metadata": {},
   "source": [
    "### E8. Following the methods in the tutorial above, do the regression with just the rooms and not the other variable. How does this compare with the scipy result?\n",
    "\n",
    "This may be helpful is figuring out how to write out the slope and intercept:\n",
    "\n",
    "https://towardsdatascience.com/linear-regression-using-python-b136c91bf0a2"
   ]
  },
  {
   "cell_type": "code",
   "execution_count": null,
   "metadata": {},
   "outputs": [],
   "source": []
  }
 ],
 "metadata": {
  "kernelspec": {
   "display_name": "Python 3",
   "language": "python",
   "name": "python3"
  },
  "language_info": {
   "codemirror_mode": {
    "name": "ipython",
    "version": 3
   },
   "file_extension": ".py",
   "mimetype": "text/x-python",
   "name": "python",
   "nbconvert_exporter": "python",
   "pygments_lexer": "ipython3",
   "version": "3.7.3"
  }
 },
 "nbformat": 4,
 "nbformat_minor": 2
}
