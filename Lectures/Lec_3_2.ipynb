{
 "cells": [
  {
   "cell_type": "markdown",
   "metadata": {},
   "source": [
    "# More Numpy"
   ]
  },
  {
   "cell_type": "markdown",
   "metadata": {},
   "source": [
    "## Agenda"
   ]
  },
  {
   "cell_type": "markdown",
   "metadata": {},
   "source": [
    "Warm-up: \n",
    "* make a numpy array that goes from 5 to 1000 stepping by 57\n",
    "* Plot this using black dots\n",
    "* What is the x-axis?\n",
    "* Label your axes\n",
    "\n",
    "Go over:\n",
    "x.size\n",
    "x.shape\n",
    "x.max\n",
    "x.argmax\n",
    "\n",
    "Logical indexing\n",
    "\n",
    "More operations on arrays\n",
    "\n",
    "Lab Work:\n",
    "Finish scipy lectures 1.3.1.1-1.3.1.6"
   ]
  },
  {
   "cell_type": "code",
   "execution_count": null,
   "metadata": {},
   "outputs": [],
   "source": []
  }
 ],
 "metadata": {
  "kernelspec": {
   "display_name": "Python 3",
   "language": "python",
   "name": "python3"
  },
  "language_info": {
   "codemirror_mode": {
    "name": "ipython",
    "version": 3
   },
   "file_extension": ".py",
   "mimetype": "text/x-python",
   "name": "python",
   "nbconvert_exporter": "python",
   "pygments_lexer": "ipython3",
   "version": "3.7.3"
  }
 },
 "nbformat": 4,
 "nbformat_minor": 2
}
