{
 "cells": [
  {
   "cell_type": "markdown",
   "metadata": {},
   "source": [
    "# Lecure 7.1 More data analysis with pandas"
   ]
  },
  {
   "cell_type": "markdown",
   "metadata": {},
   "source": [
    "We are focusing on coding today. Make sure you ask for help when you get stuck, either from the intructor or your colleagues. A little bit of struggle is good, but don't bang your head against the wall!"
   ]
  },
  {
   "cell_type": "markdown",
   "metadata": {},
   "source": [
    "Data analysis is a proccess of interaction with data, getting to know it, using descriptive statistics, seeing how variables are related. Once you get to know the data, then creative and interesting things can happen that bring new insight and help you develop a narrative about the data you are analysing"
   ]
  },
  {
   "cell_type": "markdown",
   "metadata": {},
   "source": [
    "## 1. Warm up\n",
    "\n",
    "### 1.1 \n",
    "Code a function that given the area of a circle, returns both the radius and the circumference\n",
    "### 1.2 \n",
    "Add in an error statement if a negative area is passed to the function\n",
    "### 1.3 \n",
    "Use your function to plot radus and circumference for areas between 0 and 1000, counting by 20. Put both lines on one plot. Label your plot, and include a legend."
   ]
  },
  {
   "cell_type": "code",
   "execution_count": 10,
   "metadata": {},
   "outputs": [],
   "source": [
    "import numpy as np\n",
    "import matplotlib.pyplot as plt\n",
    "import pandas as pd\n",
    "%matplotlib inline"
   ]
  },
  {
   "cell_type": "code",
   "execution_count": 98,
   "metadata": {},
   "outputs": [],
   "source": [
    "import matplotlib as mpl\n",
    "mpl.rcParams['figure.figsize'] = [5,3]\n",
    "mpl.rcParams['figure.dpi'] = 150\n",
    "mpl.rcParams['savefig.dpi'] = 200\n",
    "\n",
    "mpl.rcParams['font.size'] = 16\n",
    "mpl.rcParams['legend.fontsize'] = 'large'\n",
    "mpl.rcParams['figure.titlesize'] = 'medium'\n",
    "mpl.rcParams['lines.linewidth']= 2.0"
   ]
  },
  {
   "cell_type": "markdown",
   "metadata": {},
   "source": [
    "### 1.1 Sol"
   ]
  },
  {
   "cell_type": "code",
   "execution_count": 13,
   "metadata": {},
   "outputs": [
    {
     "data": {
      "text/plain": [
       "50.26548245743669"
      ]
     },
     "execution_count": 13,
     "metadata": {},
     "output_type": "execute_result"
    }
   ],
   "source": [
    "# first check the formula:\n",
    "area = np.pi*4**2\n",
    "area"
   ]
  },
  {
   "cell_type": "code",
   "execution_count": 14,
   "metadata": {},
   "outputs": [
    {
     "data": {
      "text/plain": [
       "4.0"
      ]
     },
     "execution_count": 14,
     "metadata": {},
     "output_type": "execute_result"
    }
   ],
   "source": [
    "np.sqrt(area/np.pi) #looks good"
   ]
  },
  {
   "cell_type": "code",
   "execution_count": 26,
   "metadata": {},
   "outputs": [],
   "source": [
    "# the area of a circle is pi*r^2\n",
    "# r = sqrt(area/pi) \n",
    "# C = 2*pi*r\n",
    "def my_func(area):\n",
    "    \"\"\" Given an area of a circle, return the radius and circumference  \n",
    "    Assumes numpy has been imported \"\"\" # this is a documentation string, split over two lines\n",
    "    r = np.sqrt(area/np.pi)\n",
    "    C = 2*np.pi*r\n",
    "    return r,C\n",
    "    "
   ]
  },
  {
   "cell_type": "code",
   "execution_count": 27,
   "metadata": {},
   "outputs": [
    {
     "data": {
      "text/plain": [
       "\u001b[0;31mSignature:\u001b[0m \u001b[0mmy_func\u001b[0m\u001b[0;34m(\u001b[0m\u001b[0marea\u001b[0m\u001b[0;34m)\u001b[0m\u001b[0;34m\u001b[0m\u001b[0;34m\u001b[0m\u001b[0m\n",
       "\u001b[0;31mDocstring:\u001b[0m\n",
       "Given an area of a circle, return the radius and circumference  \n",
       "assumes numpy has been imported \n",
       "\u001b[0;31mFile:\u001b[0m      ~/Documents/Teaching/Intro_computing/Fall_2019/<ipython-input-26-aee6486acf0b>\n",
       "\u001b[0;31mType:\u001b[0m      function\n"
      ]
     },
     "metadata": {},
     "output_type": "display_data"
    }
   ],
   "source": [
    "# check doc string\n",
    "my_func?"
   ]
  },
  {
   "cell_type": "code",
   "execution_count": 28,
   "metadata": {},
   "outputs": [
    {
     "name": "stdout",
     "output_type": "stream",
     "text": [
      "4.0\n",
      "25.132741228718345\n"
     ]
    }
   ],
   "source": [
    "# check function\n",
    "my_r, my_C = my_func(area)\n",
    "print(my_r)\n",
    "print(my_C)\n",
    "\n",
    "# looks good"
   ]
  },
  {
   "cell_type": "markdown",
   "metadata": {},
   "source": [
    "### 1.2 Sol"
   ]
  },
  {
   "cell_type": "code",
   "execution_count": 34,
   "metadata": {},
   "outputs": [],
   "source": [
    "# First try:\n",
    "\n",
    "# add in an error message\n",
    "# the area of a circle is pi*r^2\n",
    "# r = sqrt(area/pi) \n",
    "# C = 2*pi*r\n",
    "def my_func(area):\n",
    "    \"\"\" Given an area of a circle, return the radius and circumference  \n",
    "    Assumes numpy has been imported \"\"\" # this is a documentation string, split over two lines\n",
    "    if area <0:\n",
    "        print(\"Area must be positive, exiting\")\n",
    "        return\n",
    "    r = np.sqrt(area/np.pi)\n",
    "    C = 2*np.pi*r\n",
    "    return r,C"
   ]
  },
  {
   "cell_type": "code",
   "execution_count": 35,
   "metadata": {},
   "outputs": [
    {
     "name": "stdout",
     "output_type": "stream",
     "text": [
      "Area must be positive, exiting\n"
     ]
    }
   ],
   "source": [
    "# check error message\n",
    "my_func(-20)"
   ]
  },
  {
   "cell_type": "code",
   "execution_count": 53,
   "metadata": {},
   "outputs": [],
   "source": [
    "# Second try, modified to handle arrays as arguments:\n",
    "\n",
    "# add in an error message\n",
    "# the area of a circle is pi*r^2\n",
    "# r = sqrt(area/pi) \n",
    "# C = 2*pi*r\n",
    "def my_func(area):\n",
    "    \"\"\" Given an area of a circle, return the radius and circumference  \n",
    "    Assumes numpy has been imported \"\"\" # this is a documentation string, split over two lines\n",
    "    area = np.array(area) # need to change to an array for my logical to work below\n",
    "    if np.sum(area <0)!=0:\n",
    "        print(\"Area must be positive, exiting\")\n",
    "        return\n",
    "    r = np.sqrt(area/np.pi)\n",
    "    C = 2*np.pi*r\n",
    "    return r,C"
   ]
  },
  {
   "cell_type": "code",
   "execution_count": 56,
   "metadata": {},
   "outputs": [],
   "source": [
    "areas = [-10,2] "
   ]
  },
  {
   "cell_type": "code",
   "execution_count": 57,
   "metadata": {},
   "outputs": [
    {
     "name": "stdout",
     "output_type": "stream",
     "text": [
      "Area must be positive, exiting\n"
     ]
    }
   ],
   "source": [
    "my_func(areas)"
   ]
  },
  {
   "cell_type": "code",
   "execution_count": 58,
   "metadata": {},
   "outputs": [],
   "source": [
    "areas = [10,2] "
   ]
  },
  {
   "cell_type": "code",
   "execution_count": 60,
   "metadata": {},
   "outputs": [
    {
     "data": {
      "text/plain": [
       "(array([1.78412412, 0.79788456]), array([11.20998243,  5.01325655]))"
      ]
     },
     "execution_count": 60,
     "metadata": {},
     "output_type": "execute_result"
    }
   ],
   "source": [
    "my_func(areas) # works"
   ]
  },
  {
   "cell_type": "code",
   "execution_count": null,
   "metadata": {},
   "outputs": [],
   "source": []
  },
  {
   "cell_type": "markdown",
   "metadata": {},
   "source": [
    "### 1.3 Sol"
   ]
  },
  {
   "cell_type": "code",
   "execution_count": 62,
   "metadata": {},
   "outputs": [
    {
     "data": {
      "text/plain": [
       "array([   0,   20,   40,   60,   80,  100,  120,  140,  160,  180,  200,\n",
       "        220,  240,  260,  280,  300,  320,  340,  360,  380,  400,  420,\n",
       "        440,  460,  480,  500,  520,  540,  560,  580,  600,  620,  640,\n",
       "        660,  680,  700,  720,  740,  760,  780,  800,  820,  840,  860,\n",
       "        880,  900,  920,  940,  960,  980, 1000])"
      ]
     },
     "execution_count": 62,
     "metadata": {},
     "output_type": "execute_result"
    }
   ],
   "source": [
    "# define areas and check\n",
    "areas = np.arange(0,1000+20,20)\n",
    "areas"
   ]
  },
  {
   "cell_type": "code",
   "execution_count": 48,
   "metadata": {},
   "outputs": [],
   "source": [
    "r,C = my_func(areas)\n",
    "# ahh, error function doesn't work for arrays, need to re-write, done above"
   ]
  },
  {
   "cell_type": "code",
   "execution_count": 46,
   "metadata": {},
   "outputs": [
    {
     "data": {
      "text/plain": [
       "0"
      ]
     },
     "execution_count": 46,
     "metadata": {},
     "output_type": "execute_result"
    }
   ],
   "source": [
    "# scratch\n",
    "np.sum(areas < 0)"
   ]
  },
  {
   "cell_type": "code",
   "execution_count": 66,
   "metadata": {},
   "outputs": [
    {
     "data": {
      "text/plain": [
       "array([ 0.        ,  2.52313252,  3.56824823,  4.37019372,  5.04626504,\n",
       "        5.64189584,  6.18038723,  6.67558118,  7.13649646,  7.56939757,\n",
       "        7.97884561,  8.36828387,  8.74038744,  9.09728368,  9.44069744,\n",
       "        9.77205024, 10.09253009, 10.4031419 , 10.7047447 , 10.99807968,\n",
       "       11.28379167, 11.56244577, 11.83454055, 12.10051849, 12.36077446,\n",
       "       12.61566261, 12.86550197, 13.11058117, 13.35116236, 13.58748446,\n",
       "       13.81976598, 14.04820734, 14.27299293, 14.49429284, 14.71226436,\n",
       "       14.9270533 , 15.13879513, 15.34761596, 15.55363345, 15.75695755,\n",
       "       15.95769122, 16.15593101, 16.35176762, 16.5452864 , 16.73656774,\n",
       "       16.92568751, 17.11271736, 17.29772508, 17.48077489, 17.66192765,\n",
       "       17.84124116])"
      ]
     },
     "execution_count": 66,
     "metadata": {},
     "output_type": "execute_result"
    }
   ],
   "source": [
    "r"
   ]
  },
  {
   "cell_type": "code",
   "execution_count": 100,
   "metadata": {},
   "outputs": [
    {
     "data": {
      "image/png": "[encoded data removed]",
      "text/plain": [
       "<Figure size 750x450 with 1 Axes>"
      ]
     },
     "metadata": {
      "needs_background": "light"
     },
     "output_type": "display_data"
    }
   ],
   "source": [
    "#plt.figure(figsize = [6,4])\n",
    "plt.plot(areas, r, label = 'Radius')\n",
    "plt.plot(areas, C, label = 'Circumference')\n",
    "plt.legend(loc = 'upper left', fontsize = 12)\n",
    "plt.xlabel('Area')\n",
    "plt.ylabel('Length')\n",
    "plt.grid()\n",
    "#plt.axis('equal') # this did not help"
   ]
  },
  {
   "cell_type": "code",
   "execution_count": null,
   "metadata": {},
   "outputs": [],
   "source": []
  },
  {
   "cell_type": "markdown",
   "metadata": {},
   "source": [
    "## 2. TED Talk exercises"
   ]
  },
  {
   "cell_type": "markdown",
   "metadata": {},
   "source": [
    "For the following, use the TED Talk dataset we used in week 5"
   ]
  },
  {
   "cell_type": "code",
   "execution_count": 83,
   "metadata": {},
   "outputs": [],
   "source": [
    "# first load in the dataset (see Lecutre 5.2)\n",
    "ted = pd.read_csv('ted.txt')"
   ]
  },
  {
   "cell_type": "markdown",
   "metadata": {},
   "source": [
    "### 2.1 Basics\n",
    "How do you display all of the data types in a pandas data set? Demonstrate."
   ]
  },
  {
   "cell_type": "code",
   "execution_count": 86,
   "metadata": {},
   "outputs": [
    {
     "data": {
      "text/plain": [
       "comments               int64\n",
       "description           object\n",
       "duration               int64\n",
       "event                 object\n",
       "film_date              int64\n",
       "languages              int64\n",
       "main_speaker          object\n",
       "name                  object\n",
       "num_speaker            int64\n",
       "published_date         int64\n",
       "ratings               object\n",
       "related_talks         object\n",
       "speaker_occupation    object\n",
       "tags                  object\n",
       "title                 object\n",
       "url                   object\n",
       "views                  int64\n",
       "dtype: object"
      ]
     },
     "execution_count": 86,
     "metadata": {},
     "output_type": "execute_result"
    }
   ],
   "source": [
    "ted.dtypes"
   ]
  },
  {
   "cell_type": "markdown",
   "metadata": {},
   "source": [
    "### 2.2 Working with data in pandas: sorting and plotting\n",
    "#### 2.2.1 \n",
    "Display just the name and duration of the talks."
   ]
  },
  {
   "cell_type": "code",
   "execution_count": 174,
   "metadata": {},
   "outputs": [
    {
     "data": {
      "text/html": [
       "<div>\n",
       "<style scoped>\n",
       "    .dataframe tbody tr th:only-of-type {\n",
       "        vertical-align: middle;\n",
       "    }\n",
       "\n",
       "    .dataframe tbody tr th {\n",
       "        vertical-align: top;\n",
       "    }\n",
       "\n",
       "    .dataframe thead th {\n",
       "        text-align: right;\n",
       "    }\n",
       "</style>\n",
       "<table border=\"1\" class=\"dataframe\">\n",
       "  <thead>\n",
       "    <tr style=\"text-align: right;\">\n",
       "      <th></th>\n",
       "      <th>name</th>\n",
       "      <th>duration</th>\n",
       "    </tr>\n",
       "  </thead>\n",
       "  <tbody>\n",
       "    <tr>\n",
       "      <th>0</th>\n",
       "      <td>Ken Robinson: Do schools kill creativity?</td>\n",
       "      <td>1164</td>\n",
       "    </tr>\n",
       "    <tr>\n",
       "      <th>1</th>\n",
       "      <td>Al Gore: Averting the climate crisis</td>\n",
       "      <td>977</td>\n",
       "    </tr>\n",
       "    <tr>\n",
       "      <th>2</th>\n",
       "      <td>David Pogue: Simplicity sells</td>\n",
       "      <td>1286</td>\n",
       "    </tr>\n",
       "    <tr>\n",
       "      <th>3</th>\n",
       "      <td>Majora Carter: Greening the ghetto</td>\n",
       "      <td>1116</td>\n",
       "    </tr>\n",
       "    <tr>\n",
       "      <th>4</th>\n",
       "      <td>Hans Rosling: The best stats you've ever seen</td>\n",
       "      <td>1190</td>\n",
       "    </tr>\n",
       "    <tr>\n",
       "      <th>5</th>\n",
       "      <td>Tony Robbins: Why we do what we do</td>\n",
       "      <td>1305</td>\n",
       "    </tr>\n",
       "    <tr>\n",
       "      <th>6</th>\n",
       "      <td>Julia Sweeney: Letting go of God</td>\n",
       "      <td>992</td>\n",
       "    </tr>\n",
       "    <tr>\n",
       "      <th>7</th>\n",
       "      <td>Joshua Prince-Ramus: Behind the design of Seat...</td>\n",
       "      <td>1198</td>\n",
       "    </tr>\n",
       "    <tr>\n",
       "      <th>8</th>\n",
       "      <td>Dan Dennett: Let's teach religion -- all relig...</td>\n",
       "      <td>1485</td>\n",
       "    </tr>\n",
       "    <tr>\n",
       "      <th>9</th>\n",
       "      <td>Rick Warren: A life of purpose</td>\n",
       "      <td>1262</td>\n",
       "    </tr>\n",
       "    <tr>\n",
       "      <th>10</th>\n",
       "      <td>Cameron Sinclair: My wish: A call for open-sou...</td>\n",
       "      <td>1414</td>\n",
       "    </tr>\n",
       "    <tr>\n",
       "      <th>11</th>\n",
       "      <td>Jehane Noujaim: My wish: A global day of film</td>\n",
       "      <td>1538</td>\n",
       "    </tr>\n",
       "    <tr>\n",
       "      <th>12</th>\n",
       "      <td>Larry Brilliant: My wish: Help me stop pandemics</td>\n",
       "      <td>1550</td>\n",
       "    </tr>\n",
       "    <tr>\n",
       "      <th>13</th>\n",
       "      <td>Jeff Han: The radical promise of the multi-tou...</td>\n",
       "      <td>527</td>\n",
       "    </tr>\n",
       "    <tr>\n",
       "      <th>14</th>\n",
       "      <td>Nicholas Negroponte: One Laptop per Child</td>\n",
       "      <td>1057</td>\n",
       "    </tr>\n",
       "    <tr>\n",
       "      <th>15</th>\n",
       "      <td>Sirena Huang: An 11-year-old's magical violin</td>\n",
       "      <td>1481</td>\n",
       "    </tr>\n",
       "    <tr>\n",
       "      <th>16</th>\n",
       "      <td>Jennifer Lin: Improvising on piano, aged 14</td>\n",
       "      <td>1445</td>\n",
       "    </tr>\n",
       "    <tr>\n",
       "      <th>17</th>\n",
       "      <td>Amy Smith: Simple designs to save a life</td>\n",
       "      <td>906</td>\n",
       "    </tr>\n",
       "    <tr>\n",
       "      <th>18</th>\n",
       "      <td>Ross Lovegrove: Organic design, inspired by na...</td>\n",
       "      <td>1170</td>\n",
       "    </tr>\n",
       "    <tr>\n",
       "      <th>19</th>\n",
       "      <td>Jimmy Wales: The birth of Wikipedia</td>\n",
       "      <td>1201</td>\n",
       "    </tr>\n",
       "    <tr>\n",
       "      <th>20</th>\n",
       "      <td>Richard Baraniuk: The birth of the open-source...</td>\n",
       "      <td>1114</td>\n",
       "    </tr>\n",
       "    <tr>\n",
       "      <th>21</th>\n",
       "      <td>Ze Frank: Nerdcore comedy</td>\n",
       "      <td>1136</td>\n",
       "    </tr>\n",
       "    <tr>\n",
       "      <th>22</th>\n",
       "      <td>Mena Trott: Meet the founder of the blog revol...</td>\n",
       "      <td>1006</td>\n",
       "    </tr>\n",
       "    <tr>\n",
       "      <th>23</th>\n",
       "      <td>Helen Fisher: Why we love, why we cheat</td>\n",
       "      <td>1407</td>\n",
       "    </tr>\n",
       "    <tr>\n",
       "      <th>24</th>\n",
       "      <td>Eve Ensler: Happiness in body and soul</td>\n",
       "      <td>1225</td>\n",
       "    </tr>\n",
       "    <tr>\n",
       "      <th>25</th>\n",
       "      <td>David Deutsch: Chemical scum that dream of dis...</td>\n",
       "      <td>1140</td>\n",
       "    </tr>\n",
       "    <tr>\n",
       "      <th>26</th>\n",
       "      <td>Richard Dawkins: Why the universe seems so str...</td>\n",
       "      <td>1316</td>\n",
       "    </tr>\n",
       "    <tr>\n",
       "      <th>27</th>\n",
       "      <td>Steven Levitt: The freakonomics of crack dealing</td>\n",
       "      <td>1275</td>\n",
       "    </tr>\n",
       "    <tr>\n",
       "      <th>28</th>\n",
       "      <td>Malcolm Gladwell: Choice, happiness and spaghe...</td>\n",
       "      <td>1050</td>\n",
       "    </tr>\n",
       "    <tr>\n",
       "      <th>29</th>\n",
       "      <td>Dan Gilbert: The surprising science of happiness</td>\n",
       "      <td>1276</td>\n",
       "    </tr>\n",
       "    <tr>\n",
       "      <th>...</th>\n",
       "      <td>...</td>\n",
       "      <td>...</td>\n",
       "    </tr>\n",
       "    <tr>\n",
       "      <th>2520</th>\n",
       "      <td>Robin Hanson: What would happen if we upload o...</td>\n",
       "      <td>736</td>\n",
       "    </tr>\n",
       "    <tr>\n",
       "      <th>2521</th>\n",
       "      <td>Carolyn Bertozzi: What the sugar coating on yo...</td>\n",
       "      <td>685</td>\n",
       "    </tr>\n",
       "    <tr>\n",
       "      <th>2522</th>\n",
       "      <td>Laolu Senbanjo: \"The Sacred Art of the Ori\"</td>\n",
       "      <td>530</td>\n",
       "    </tr>\n",
       "    <tr>\n",
       "      <th>2523</th>\n",
       "      <td>Niki Okuk: When workers own companies, the eco...</td>\n",
       "      <td>747</td>\n",
       "    </tr>\n",
       "    <tr>\n",
       "      <th>2524</th>\n",
       "      <td>Wanuri Kahiu: Fun, fierce and fantastical Afri...</td>\n",
       "      <td>310</td>\n",
       "    </tr>\n",
       "    <tr>\n",
       "      <th>2525</th>\n",
       "      <td>Tara Winkler: Why we need to end the era of or...</td>\n",
       "      <td>791</td>\n",
       "    </tr>\n",
       "    <tr>\n",
       "      <th>2526</th>\n",
       "      <td>Noriko Arai: Can a robot pass a university ent...</td>\n",
       "      <td>817</td>\n",
       "    </tr>\n",
       "    <tr>\n",
       "      <th>2527</th>\n",
       "      <td>Jennifer Granick: How the US government spies ...</td>\n",
       "      <td>865</td>\n",
       "    </tr>\n",
       "    <tr>\n",
       "      <th>2528</th>\n",
       "      <td>Chance Coughenour: How your pictures can help ...</td>\n",
       "      <td>717</td>\n",
       "    </tr>\n",
       "    <tr>\n",
       "      <th>2529</th>\n",
       "      <td>Chetan Bhatt: Dare to refuse the origin myths ...</td>\n",
       "      <td>1156</td>\n",
       "    </tr>\n",
       "    <tr>\n",
       "      <th>2530</th>\n",
       "      <td>Daan Roosegaarde: A smog vacuum cleaner and ot...</td>\n",
       "      <td>738</td>\n",
       "    </tr>\n",
       "    <tr>\n",
       "      <th>2531</th>\n",
       "      <td>Erin Marie Saltman: How young people join viol...</td>\n",
       "      <td>698</td>\n",
       "    </tr>\n",
       "    <tr>\n",
       "      <th>2532</th>\n",
       "      <td>Ray Dalio: How to build a company where the be...</td>\n",
       "      <td>993</td>\n",
       "    </tr>\n",
       "    <tr>\n",
       "      <th>2533</th>\n",
       "      <td>Tomás Saraceno: Would you live in a floating ...</td>\n",
       "      <td>663</td>\n",
       "    </tr>\n",
       "    <tr>\n",
       "      <th>2534</th>\n",
       "      <td>Benjamin Grant: What it feels like to see Eart...</td>\n",
       "      <td>725</td>\n",
       "    </tr>\n",
       "    <tr>\n",
       "      <th>2535</th>\n",
       "      <td>OluTimehin Adegbeye: Who belongs in a city?</td>\n",
       "      <td>723</td>\n",
       "    </tr>\n",
       "    <tr>\n",
       "      <th>2536</th>\n",
       "      <td>Caitlin Quattromani and Lauran Arledge: How ou...</td>\n",
       "      <td>865</td>\n",
       "    </tr>\n",
       "    <tr>\n",
       "      <th>2537</th>\n",
       "      <td>Emily Esfahani Smith: There's more to life tha...</td>\n",
       "      <td>738</td>\n",
       "    </tr>\n",
       "    <tr>\n",
       "      <th>2538</th>\n",
       "      <td>Alexander Wagner: What really motivates people...</td>\n",
       "      <td>808</td>\n",
       "    </tr>\n",
       "    <tr>\n",
       "      <th>2539</th>\n",
       "      <td>Pierre Thiam: A forgotten ancient grain that c...</td>\n",
       "      <td>934</td>\n",
       "    </tr>\n",
       "    <tr>\n",
       "      <th>2540</th>\n",
       "      <td>Augie Picado: The real reason manufacturing jo...</td>\n",
       "      <td>722</td>\n",
       "    </tr>\n",
       "    <tr>\n",
       "      <th>2541</th>\n",
       "      <td>Helen Czerski: The fascinating physics of ever...</td>\n",
       "      <td>957</td>\n",
       "    </tr>\n",
       "    <tr>\n",
       "      <th>2542</th>\n",
       "      <td>Sethembile Msezane: Living sculptures that sta...</td>\n",
       "      <td>795</td>\n",
       "    </tr>\n",
       "    <tr>\n",
       "      <th>2543</th>\n",
       "      <td>Jun Wang: How digital DNA could help you make ...</td>\n",
       "      <td>894</td>\n",
       "    </tr>\n",
       "    <tr>\n",
       "      <th>2544</th>\n",
       "      <td>Olúfẹ́mi Táíwò: Why Africa must become a ...</td>\n",
       "      <td>810</td>\n",
       "    </tr>\n",
       "    <tr>\n",
       "      <th>2545</th>\n",
       "      <td>Duarte Geraldino: What we're missing in the de...</td>\n",
       "      <td>476</td>\n",
       "    </tr>\n",
       "    <tr>\n",
       "      <th>2546</th>\n",
       "      <td>Armando Azua-Bustos: The most Martian place on...</td>\n",
       "      <td>290</td>\n",
       "    </tr>\n",
       "    <tr>\n",
       "      <th>2547</th>\n",
       "      <td>Radhika Nagpal: What intelligent machines can ...</td>\n",
       "      <td>651</td>\n",
       "    </tr>\n",
       "    <tr>\n",
       "      <th>2548</th>\n",
       "      <td>Theo E.J. Wilson: A black man goes undercover ...</td>\n",
       "      <td>1100</td>\n",
       "    </tr>\n",
       "    <tr>\n",
       "      <th>2549</th>\n",
       "      <td>Karoliina Korppoo: How a video game might help...</td>\n",
       "      <td>519</td>\n",
       "    </tr>\n",
       "  </tbody>\n",
       "</table>\n",
       "<p>2550 rows × 2 columns</p>\n",
       "</div>"
      ],
      "text/plain": [
       "                                                   name  duration\n",
       "0             Ken Robinson: Do schools kill creativity?      1164\n",
       "1                  Al Gore: Averting the climate crisis       977\n",
       "2                         David Pogue: Simplicity sells      1286\n",
       "3                    Majora Carter: Greening the ghetto      1116\n",
       "4         Hans Rosling: The best stats you've ever seen      1190\n",
       "5                    Tony Robbins: Why we do what we do      1305\n",
       "6                      Julia Sweeney: Letting go of God       992\n",
       "7     Joshua Prince-Ramus: Behind the design of Seat...      1198\n",
       "8     Dan Dennett: Let's teach religion -- all relig...      1485\n",
       "9                        Rick Warren: A life of purpose      1262\n",
       "10    Cameron Sinclair: My wish: A call for open-sou...      1414\n",
       "11        Jehane Noujaim: My wish: A global day of film      1538\n",
       "12     Larry Brilliant: My wish: Help me stop pandemics      1550\n",
       "13    Jeff Han: The radical promise of the multi-tou...       527\n",
       "14            Nicholas Negroponte: One Laptop per Child      1057\n",
       "15        Sirena Huang: An 11-year-old's magical violin      1481\n",
       "16          Jennifer Lin: Improvising on piano, aged 14      1445\n",
       "17             Amy Smith: Simple designs to save a life       906\n",
       "18    Ross Lovegrove: Organic design, inspired by na...      1170\n",
       "19                  Jimmy Wales: The birth of Wikipedia      1201\n",
       "20    Richard Baraniuk: The birth of the open-source...      1114\n",
       "21                            Ze Frank: Nerdcore comedy      1136\n",
       "22    Mena Trott: Meet the founder of the blog revol...      1006\n",
       "23              Helen Fisher: Why we love, why we cheat      1407\n",
       "24               Eve Ensler: Happiness in body and soul      1225\n",
       "25    David Deutsch: Chemical scum that dream of dis...      1140\n",
       "26    Richard Dawkins: Why the universe seems so str...      1316\n",
       "27     Steven Levitt: The freakonomics of crack dealing      1275\n",
       "28    Malcolm Gladwell: Choice, happiness and spaghe...      1050\n",
       "29     Dan Gilbert: The surprising science of happiness      1276\n",
       "...                                                 ...       ...\n",
       "2520  Robin Hanson: What would happen if we upload o...       736\n",
       "2521  Carolyn Bertozzi: What the sugar coating on yo...       685\n",
       "2522        Laolu Senbanjo: \"The Sacred Art of the Ori\"       530\n",
       "2523  Niki Okuk: When workers own companies, the eco...       747\n",
       "2524  Wanuri Kahiu: Fun, fierce and fantastical Afri...       310\n",
       "2525  Tara Winkler: Why we need to end the era of or...       791\n",
       "2526  Noriko Arai: Can a robot pass a university ent...       817\n",
       "2527  Jennifer Granick: How the US government spies ...       865\n",
       "2528  Chance Coughenour: How your pictures can help ...       717\n",
       "2529  Chetan Bhatt: Dare to refuse the origin myths ...      1156\n",
       "2530  Daan Roosegaarde: A smog vacuum cleaner and ot...       738\n",
       "2531  Erin Marie Saltman: How young people join viol...       698\n",
       "2532  Ray Dalio: How to build a company where the be...       993\n",
       "2533  Tomás Saraceno: Would you live in a floating ...       663\n",
       "2534  Benjamin Grant: What it feels like to see Eart...       725\n",
       "2535        OluTimehin Adegbeye: Who belongs in a city?       723\n",
       "2536  Caitlin Quattromani and Lauran Arledge: How ou...       865\n",
       "2537  Emily Esfahani Smith: There's more to life tha...       738\n",
       "2538  Alexander Wagner: What really motivates people...       808\n",
       "2539  Pierre Thiam: A forgotten ancient grain that c...       934\n",
       "2540  Augie Picado: The real reason manufacturing jo...       722\n",
       "2541  Helen Czerski: The fascinating physics of ever...       957\n",
       "2542  Sethembile Msezane: Living sculptures that sta...       795\n",
       "2543  Jun Wang: How digital DNA could help you make ...       894\n",
       "2544  Olúfẹ́mi Táíwò: Why Africa must become a ...       810\n",
       "2545  Duarte Geraldino: What we're missing in the de...       476\n",
       "2546  Armando Azua-Bustos: The most Martian place on...       290\n",
       "2547  Radhika Nagpal: What intelligent machines can ...       651\n",
       "2548  Theo E.J. Wilson: A black man goes undercover ...      1100\n",
       "2549  Karoliina Korppoo: How a video game might help...       519\n",
       "\n",
       "[2550 rows x 2 columns]"
      ]
     },
     "execution_count": 174,
     "metadata": {},
     "output_type": "execute_result"
    }
   ],
   "source": [
    "ted[['name','duration']]"
   ]
  },
  {
   "cell_type": "markdown",
   "metadata": {},
   "source": [
    "#### 2.2.2\n",
    "Now sort by duration. Display 1) the 10 shortest and 2) the 10 longest talks"
   ]
  },
  {
   "cell_type": "code",
   "execution_count": 91,
   "metadata": {},
   "outputs": [
    {
     "data": {
      "text/html": [
       "<div>\n",
       "<style scoped>\n",
       "    .dataframe tbody tr th:only-of-type {\n",
       "        vertical-align: middle;\n",
       "    }\n",
       "\n",
       "    .dataframe tbody tr th {\n",
       "        vertical-align: top;\n",
       "    }\n",
       "\n",
       "    .dataframe thead th {\n",
       "        text-align: right;\n",
       "    }\n",
       "</style>\n",
       "<table border=\"1\" class=\"dataframe\">\n",
       "  <thead>\n",
       "    <tr style=\"text-align: right;\">\n",
       "      <th></th>\n",
       "      <th>name</th>\n",
       "      <th>duration</th>\n",
       "    </tr>\n",
       "  </thead>\n",
       "  <tbody>\n",
       "    <tr>\n",
       "      <th>239</th>\n",
       "      <td>Murray Gell-Mann: The ancestor of language</td>\n",
       "      <td>135</td>\n",
       "    </tr>\n",
       "    <tr>\n",
       "      <th>248</th>\n",
       "      <td>Nellie McKay: \"Clonie\"</td>\n",
       "      <td>140</td>\n",
       "    </tr>\n",
       "    <tr>\n",
       "      <th>547</th>\n",
       "      <td>Matthew White: The modern euphonium</td>\n",
       "      <td>141</td>\n",
       "    </tr>\n",
       "    <tr>\n",
       "      <th>454</th>\n",
       "      <td>Yves Behar: A supercharged motorcycle design</td>\n",
       "      <td>143</td>\n",
       "    </tr>\n",
       "    <tr>\n",
       "      <th>264</th>\n",
       "      <td>Marisa Fick-Jordan: The wonder of Zulu wire art</td>\n",
       "      <td>153</td>\n",
       "    </tr>\n",
       "    <tr>\n",
       "      <th>606</th>\n",
       "      <td>Derek Sivers: Weird, or just different?</td>\n",
       "      <td>162</td>\n",
       "    </tr>\n",
       "    <tr>\n",
       "      <th>86</th>\n",
       "      <td>Jill Sobule: Global warming's theme song, \"Man...</td>\n",
       "      <td>163</td>\n",
       "    </tr>\n",
       "    <tr>\n",
       "      <th>1390</th>\n",
       "      <td>Paolo Cardini: Forget multitasking, try monota...</td>\n",
       "      <td>172</td>\n",
       "    </tr>\n",
       "    <tr>\n",
       "      <th>593</th>\n",
       "      <td>Lalitesh Katragadda: Making maps to fight disa...</td>\n",
       "      <td>174</td>\n",
       "    </tr>\n",
       "    <tr>\n",
       "      <th>722</th>\n",
       "      <td>Mitchell Joachim: Don't build your home, grow it!</td>\n",
       "      <td>176</td>\n",
       "    </tr>\n",
       "  </tbody>\n",
       "</table>\n",
       "</div>"
      ],
      "text/plain": [
       "                                                   name  duration\n",
       "239          Murray Gell-Mann: The ancestor of language       135\n",
       "248                              Nellie McKay: \"Clonie\"       140\n",
       "547                 Matthew White: The modern euphonium       141\n",
       "454        Yves Behar: A supercharged motorcycle design       143\n",
       "264     Marisa Fick-Jordan: The wonder of Zulu wire art       153\n",
       "606             Derek Sivers: Weird, or just different?       162\n",
       "86    Jill Sobule: Global warming's theme song, \"Man...       163\n",
       "1390  Paolo Cardini: Forget multitasking, try monota...       172\n",
       "593   Lalitesh Katragadda: Making maps to fight disa...       174\n",
       "722   Mitchell Joachim: Don't build your home, grow it!       176"
      ]
     },
     "execution_count": 91,
     "metadata": {},
     "output_type": "execute_result"
    }
   ],
   "source": [
    "# the ten shortest\n",
    "ted[['name','duration']].sort_values('duration').head(10) # note the 10 inside the head statement"
   ]
  },
  {
   "cell_type": "code",
   "execution_count": 92,
   "metadata": {},
   "outputs": [
    {
     "data": {
      "text/html": [
       "<div>\n",
       "<style scoped>\n",
       "    .dataframe tbody tr th:only-of-type {\n",
       "        vertical-align: middle;\n",
       "    }\n",
       "\n",
       "    .dataframe tbody tr th {\n",
       "        vertical-align: top;\n",
       "    }\n",
       "\n",
       "    .dataframe thead th {\n",
       "        text-align: right;\n",
       "    }\n",
       "</style>\n",
       "<table border=\"1\" class=\"dataframe\">\n",
       "  <thead>\n",
       "    <tr style=\"text-align: right;\">\n",
       "      <th></th>\n",
       "      <th>name</th>\n",
       "      <th>duration</th>\n",
       "    </tr>\n",
       "  </thead>\n",
       "  <tbody>\n",
       "    <tr>\n",
       "      <th>202</th>\n",
       "      <td>Frank Gehry: My days as a young rebel</td>\n",
       "      <td>2678</td>\n",
       "    </tr>\n",
       "    <tr>\n",
       "      <th>947</th>\n",
       "      <td>Malcolm McLaren: Authentic creativity vs. kara...</td>\n",
       "      <td>2761</td>\n",
       "    </tr>\n",
       "    <tr>\n",
       "      <th>2421</th>\n",
       "      <td>Gretchen Carlson, David Brooks: Political comm...</td>\n",
       "      <td>2853</td>\n",
       "    </tr>\n",
       "    <tr>\n",
       "      <th>580</th>\n",
       "      <td>Michael Sandel: What's the right thing to do?</td>\n",
       "      <td>3296</td>\n",
       "    </tr>\n",
       "    <tr>\n",
       "      <th>600</th>\n",
       "      <td>Richard Dawkins: Growing up in the universe</td>\n",
       "      <td>3475</td>\n",
       "    </tr>\n",
       "    <tr>\n",
       "      <th>594</th>\n",
       "      <td>Edwidge Danticat: Stories of Haiti</td>\n",
       "      <td>3573</td>\n",
       "    </tr>\n",
       "    <tr>\n",
       "      <th>2387</th>\n",
       "      <td>Yuval Noah Harari: Nationalism vs. globalism: ...</td>\n",
       "      <td>3608</td>\n",
       "    </tr>\n",
       "    <tr>\n",
       "      <th>629</th>\n",
       "      <td>Richard Feynman: Physics is fun to imagine</td>\n",
       "      <td>3955</td>\n",
       "    </tr>\n",
       "    <tr>\n",
       "      <th>588</th>\n",
       "      <td>Randy Pausch: Really achieving your childhood ...</td>\n",
       "      <td>4587</td>\n",
       "    </tr>\n",
       "    <tr>\n",
       "      <th>640</th>\n",
       "      <td>Douglas Adams: Parrots, the universe and every...</td>\n",
       "      <td>5256</td>\n",
       "    </tr>\n",
       "  </tbody>\n",
       "</table>\n",
       "</div>"
      ],
      "text/plain": [
       "                                                   name  duration\n",
       "202               Frank Gehry: My days as a young rebel      2678\n",
       "947   Malcolm McLaren: Authentic creativity vs. kara...      2761\n",
       "2421  Gretchen Carlson, David Brooks: Political comm...      2853\n",
       "580       Michael Sandel: What's the right thing to do?      3296\n",
       "600         Richard Dawkins: Growing up in the universe      3475\n",
       "594                  Edwidge Danticat: Stories of Haiti      3573\n",
       "2387  Yuval Noah Harari: Nationalism vs. globalism: ...      3608\n",
       "629          Richard Feynman: Physics is fun to imagine      3955\n",
       "588   Randy Pausch: Really achieving your childhood ...      4587\n",
       "640   Douglas Adams: Parrots, the universe and every...      5256"
      ]
     },
     "execution_count": 92,
     "metadata": {},
     "output_type": "execute_result"
    }
   ],
   "source": [
    "# the ten longest\n",
    "ted[['name','duration']].sort_values('duration').tail(10)"
   ]
  },
  {
   "cell_type": "markdown",
   "metadata": {},
   "source": [
    "#### 2.2.3\n",
    "What is the 10th longest talk?"
   ]
  },
  {
   "cell_type": "markdown",
   "metadata": {},
   "source": [
    "Frank Gehry: My days as a young rebel\n",
    "at 2678"
   ]
  },
  {
   "cell_type": "markdown",
   "metadata": {},
   "source": [
    "#### 2.2.4\n",
    "What unit of time is the duration in? How do you know?"
   ]
  },
  {
   "cell_type": "code",
   "execution_count": 93,
   "metadata": {},
   "outputs": [
    {
     "data": {
      "text/plain": [
       "2640"
      ]
     },
     "execution_count": 93,
     "metadata": {},
     "output_type": "execute_result"
    }
   ],
   "source": [
    "60*44"
   ]
  },
  {
   "cell_type": "markdown",
   "metadata": {},
   "source": [
    "Googling the Frank Gehry talk, it is over 44 min long, which is 2640 s, so the units must be seconds\n",
    "Some of the talks are very short!"
   ]
  },
  {
   "cell_type": "markdown",
   "metadata": {},
   "source": [
    "#### 2.2.5\n",
    "Plot the durations as a histogram, using a sensible number of bins. Label your axes. How did you decide how many bins to use?"
   ]
  },
  {
   "cell_type": "code",
   "execution_count": 124,
   "metadata": {},
   "outputs": [
    {
     "data": {
      "text/plain": [
       "array([[<matplotlib.axes._subplots.AxesSubplot object at 0x121e24668>]],\n",
       "      dtype=object)"
      ]
     },
     "execution_count": 124,
     "metadata": {},
     "output_type": "execute_result"
    },
    {
     "data": {
      "image/png": "[encoded data removed]",
      "text/plain": [
       "<Figure size 750x450 with 1 Axes>"
      ]
     },
     "metadata": {
      "needs_background": "light"
     },
     "output_type": "display_data"
    }
   ],
   "source": [
    "ted[['name','duration']].sort_values('duration').hist(bins = 100)\n",
    "# this is too many bins, looks too patchy\n"
   ]
  },
  {
   "cell_type": "code",
   "execution_count": 102,
   "metadata": {},
   "outputs": [
    {
     "data": {
      "text/plain": [
       "array([[<matplotlib.axes._subplots.AxesSubplot object at 0x121413a90>]],\n",
       "      dtype=object)"
      ]
     },
     "execution_count": 102,
     "metadata": {},
     "output_type": "execute_result"
    },
    {
     "data": {
      "image/png": "[encoded data removed]",
      "text/plain": [
       "<Figure size 750x450 with 1 Axes>"
      ]
     },
     "metadata": {
      "needs_background": "light"
     },
     "output_type": "display_data"
    }
   ],
   "source": [
    "ted[['name','duration']].sort_values('duration').hist(bins = 10)\n",
    "# this is too few bins, no detail"
   ]
  },
  {
   "cell_type": "code",
   "execution_count": 108,
   "metadata": {},
   "outputs": [
    {
     "data": {
      "text/plain": [
       "Text(0, 0.5, 'N')"
      ]
     },
     "execution_count": 108,
     "metadata": {},
     "output_type": "execute_result"
    },
    {
     "data": {
      "image/png": "[encoded data removed]",
      "text/plain": [
       "<Figure size 750x450 with 1 Axes>"
      ]
     },
     "metadata": {
      "needs_background": "light"
     },
     "output_type": "display_data"
    }
   ],
   "source": [
    "ted[['name','duration']].sort_values('duration').hist(bins = 30)\n",
    "# looks good, I can see the shape of the data without it looking too patchy\n",
    "plt.xlabel('seconds')\n",
    "plt.ylabel('N')"
   ]
  },
  {
   "cell_type": "markdown",
   "metadata": {},
   "source": [
    "#### 2.2.6\n",
    "Now plot as a box plot. Explain what the box plot is showing: what is the box, what is the line in the middle, what are the dots?"
   ]
  },
  {
   "cell_type": "code",
   "execution_count": 111,
   "metadata": {},
   "outputs": [
    {
     "data": {
      "text/plain": [
       "<matplotlib.axes._subplots.AxesSubplot at 0x120d424e0>"
      ]
     },
     "execution_count": 111,
     "metadata": {},
     "output_type": "execute_result"
    },
    {
     "data": {
      "image/png": "[encoded data removed]",
      "text/plain": [
       "<Figure size 750x450 with 1 Axes>"
      ]
     },
     "metadata": {
      "needs_background": "light"
     },
     "output_type": "display_data"
    }
   ],
   "source": [
    "ted[['name','duration']].sort_values('duration').plot(kind = 'box')\n",
    "# the line in the middle is the median, the 50% quartile, where 50% of the data is above and below this \n",
    "# the box are the quartiles, the levels at which 25% and 75% of the data are above\n",
    "# the dots are the outliers, which are determined by some algorithym (these can be suppressed)\n",
    "# the median is around 1000, a little less"
   ]
  },
  {
   "cell_type": "code",
   "execution_count": null,
   "metadata": {},
   "outputs": [],
   "source": []
  },
  {
   "cell_type": "code",
   "execution_count": null,
   "metadata": {},
   "outputs": [],
   "source": []
  },
  {
   "cell_type": "markdown",
   "metadata": {},
   "source": [
    "#### 2.2.7\n",
    "Find the median, mean, mode and standard deviation of the durations. Are these consistent with your plots above? Explain."
   ]
  },
  {
   "cell_type": "code",
   "execution_count": 112,
   "metadata": {},
   "outputs": [
    {
     "data": {
      "text/plain": [
       "duration    826.510196\n",
       "dtype: float64"
      ]
     },
     "execution_count": 112,
     "metadata": {},
     "output_type": "execute_result"
    }
   ],
   "source": [
    "ted[['name','duration']].sort_values('duration').mean()"
   ]
  },
  {
   "cell_type": "code",
   "execution_count": 113,
   "metadata": {},
   "outputs": [
    {
     "data": {
      "text/plain": [
       "duration    848.0\n",
       "dtype: float64"
      ]
     },
     "execution_count": 113,
     "metadata": {},
     "output_type": "execute_result"
    }
   ],
   "source": [
    "ted[['name','duration']].sort_values('duration').median()"
   ]
  },
  {
   "cell_type": "markdown",
   "metadata": {},
   "source": [
    "Yes, the median is consistent with the box plot above"
   ]
  },
  {
   "cell_type": "code",
   "execution_count": 137,
   "metadata": {},
   "outputs": [
    {
     "data": {
      "text/plain": [
       "0     848\n",
       "1    1099\n",
       "dtype: int64"
      ]
     },
     "execution_count": 137,
     "metadata": {},
     "output_type": "execute_result"
    }
   ],
   "source": [
    "ted['duration'].mode()"
   ]
  },
  {
   "cell_type": "code",
   "execution_count": 141,
   "metadata": {},
   "outputs": [
    {
     "data": {
      "text/html": [
       "<div>\n",
       "<style scoped>\n",
       "    .dataframe tbody tr th:only-of-type {\n",
       "        vertical-align: middle;\n",
       "    }\n",
       "\n",
       "    .dataframe tbody tr th {\n",
       "        vertical-align: top;\n",
       "    }\n",
       "\n",
       "    .dataframe thead th {\n",
       "        text-align: right;\n",
       "    }\n",
       "</style>\n",
       "<table border=\"1\" class=\"dataframe\">\n",
       "  <thead>\n",
       "    <tr style=\"text-align: right;\">\n",
       "      <th></th>\n",
       "      <th>name</th>\n",
       "      <th>duration</th>\n",
       "    </tr>\n",
       "  </thead>\n",
       "  <tbody>\n",
       "    <tr>\n",
       "      <th>0</th>\n",
       "      <td>AJ Jacobs: How healthy living nearly killed me</td>\n",
       "      <td>848.0</td>\n",
       "    </tr>\n",
       "    <tr>\n",
       "      <th>1</th>\n",
       "      <td>AJ Jacobs: My year of living biblically</td>\n",
       "      <td>1099.0</td>\n",
       "    </tr>\n",
       "    <tr>\n",
       "      <th>2</th>\n",
       "      <td>AJ Jacobs: The world's largest family reunion ...</td>\n",
       "      <td>NaN</td>\n",
       "    </tr>\n",
       "    <tr>\n",
       "      <th>3</th>\n",
       "      <td>Aakash Odedra: A dance in a hurricane of paper...</td>\n",
       "      <td>NaN</td>\n",
       "    </tr>\n",
       "    <tr>\n",
       "      <th>4</th>\n",
       "      <td>Aala El-Khani: What it's like to be a parent i...</td>\n",
       "      <td>NaN</td>\n",
       "    </tr>\n",
       "    <tr>\n",
       "      <th>5</th>\n",
       "      <td>Aaron Huey: America's native prisoners of war</td>\n",
       "      <td>NaN</td>\n",
       "    </tr>\n",
       "    <tr>\n",
       "      <th>6</th>\n",
       "      <td>Aaron Koblin: Visualizing ourselves ... with c...</td>\n",
       "      <td>NaN</td>\n",
       "    </tr>\n",
       "    <tr>\n",
       "      <th>7</th>\n",
       "      <td>Aaron O'Connell: Making sense of a visible qua...</td>\n",
       "      <td>NaN</td>\n",
       "    </tr>\n",
       "    <tr>\n",
       "      <th>8</th>\n",
       "      <td>Abe Davis: New video technology that reveals a...</td>\n",
       "      <td>NaN</td>\n",
       "    </tr>\n",
       "    <tr>\n",
       "      <th>9</th>\n",
       "      <td>Abha Dawesar: Life in the \"digital now\"</td>\n",
       "      <td>NaN</td>\n",
       "    </tr>\n",
       "    <tr>\n",
       "      <th>10</th>\n",
       "      <td>Abigail Marsh: Why some people are more altrui...</td>\n",
       "      <td>NaN</td>\n",
       "    </tr>\n",
       "    <tr>\n",
       "      <th>11</th>\n",
       "      <td>Abigail Washburn: Building US-China relations ...</td>\n",
       "      <td>NaN</td>\n",
       "    </tr>\n",
       "    <tr>\n",
       "      <th>12</th>\n",
       "      <td>Abraham Verghese: A doctor's touch</td>\n",
       "      <td>NaN</td>\n",
       "    </tr>\n",
       "    <tr>\n",
       "      <th>13</th>\n",
       "      <td>Achenyo Idachaba: How I turned a deadly plant ...</td>\n",
       "      <td>NaN</td>\n",
       "    </tr>\n",
       "    <tr>\n",
       "      <th>14</th>\n",
       "      <td>Adam Alter: Why our screens make us less happy</td>\n",
       "      <td>NaN</td>\n",
       "    </tr>\n",
       "    <tr>\n",
       "      <th>15</th>\n",
       "      <td>Adam Davidson: What we learned from teetering ...</td>\n",
       "      <td>NaN</td>\n",
       "    </tr>\n",
       "    <tr>\n",
       "      <th>16</th>\n",
       "      <td>Adam Driver: My journey from Marine to actor</td>\n",
       "      <td>NaN</td>\n",
       "    </tr>\n",
       "    <tr>\n",
       "      <th>17</th>\n",
       "      <td>Adam Foss: A prosecutor's vision for a better ...</td>\n",
       "      <td>NaN</td>\n",
       "    </tr>\n",
       "    <tr>\n",
       "      <th>18</th>\n",
       "      <td>Adam Galinsky: How to speak up for yourself</td>\n",
       "      <td>NaN</td>\n",
       "    </tr>\n",
       "    <tr>\n",
       "      <th>19</th>\n",
       "      <td>Adam Garone: Healthier men, one moustache at a...</td>\n",
       "      <td>NaN</td>\n",
       "    </tr>\n",
       "    <tr>\n",
       "      <th>20</th>\n",
       "      <td>Adam Grant: Are you a giver or a taker?</td>\n",
       "      <td>NaN</td>\n",
       "    </tr>\n",
       "    <tr>\n",
       "      <th>21</th>\n",
       "      <td>Adam Grant: The surprising habits of original ...</td>\n",
       "      <td>NaN</td>\n",
       "    </tr>\n",
       "    <tr>\n",
       "      <th>22</th>\n",
       "      <td>Adam Grosser: A mobile fridge for vaccines</td>\n",
       "      <td>NaN</td>\n",
       "    </tr>\n",
       "    <tr>\n",
       "      <th>23</th>\n",
       "      <td>Adam Ostrow: After your final status update</td>\n",
       "      <td>NaN</td>\n",
       "    </tr>\n",
       "    <tr>\n",
       "      <th>24</th>\n",
       "      <td>Adam Sadowsky: How to engineer a viral music v...</td>\n",
       "      <td>NaN</td>\n",
       "    </tr>\n",
       "    <tr>\n",
       "      <th>25</th>\n",
       "      <td>Adam Savage: How simple ideas lead to scientif...</td>\n",
       "      <td>NaN</td>\n",
       "    </tr>\n",
       "    <tr>\n",
       "      <th>26</th>\n",
       "      <td>Adam Savage: My love letter to cosplay</td>\n",
       "      <td>NaN</td>\n",
       "    </tr>\n",
       "    <tr>\n",
       "      <th>27</th>\n",
       "      <td>Adam Savage: My obsession with objects and the...</td>\n",
       "      <td>NaN</td>\n",
       "    </tr>\n",
       "    <tr>\n",
       "      <th>28</th>\n",
       "      <td>Adam Spencer: Why I fell in love with monster ...</td>\n",
       "      <td>NaN</td>\n",
       "    </tr>\n",
       "    <tr>\n",
       "      <th>29</th>\n",
       "      <td>Adam de la Zerda: We can start winning the war...</td>\n",
       "      <td>NaN</td>\n",
       "    </tr>\n",
       "    <tr>\n",
       "      <th>...</th>\n",
       "      <td>...</td>\n",
       "      <td>...</td>\n",
       "    </tr>\n",
       "    <tr>\n",
       "      <th>2520</th>\n",
       "      <td>Yassmin Abdel-Magied: What does my headscarf m...</td>\n",
       "      <td>NaN</td>\n",
       "    </tr>\n",
       "    <tr>\n",
       "      <th>2521</th>\n",
       "      <td>Yoav Medan: Ultrasound surgery -- healing with...</td>\n",
       "      <td>NaN</td>\n",
       "    </tr>\n",
       "    <tr>\n",
       "      <th>2522</th>\n",
       "      <td>Yochai Benkler: The new open-source economics</td>\n",
       "      <td>NaN</td>\n",
       "    </tr>\n",
       "    <tr>\n",
       "      <th>2523</th>\n",
       "      <td>Yoruba Richen: What the gay rights movement le...</td>\n",
       "      <td>NaN</td>\n",
       "    </tr>\n",
       "    <tr>\n",
       "      <th>2524</th>\n",
       "      <td>Yossi Vardi: We're worried about local warming...</td>\n",
       "      <td>NaN</td>\n",
       "    </tr>\n",
       "    <tr>\n",
       "      <th>2525</th>\n",
       "      <td>Young-ha Kim: Be an artist, right now!</td>\n",
       "      <td>NaN</td>\n",
       "    </tr>\n",
       "    <tr>\n",
       "      <th>2526</th>\n",
       "      <td>Yuval Noah Harari: Nationalism vs. globalism: ...</td>\n",
       "      <td>NaN</td>\n",
       "    </tr>\n",
       "    <tr>\n",
       "      <th>2527</th>\n",
       "      <td>Yuval Noah Harari: What explains the rise of h...</td>\n",
       "      <td>NaN</td>\n",
       "    </tr>\n",
       "    <tr>\n",
       "      <th>2528</th>\n",
       "      <td>Yves Behar: A supercharged motorcycle design</td>\n",
       "      <td>NaN</td>\n",
       "    </tr>\n",
       "    <tr>\n",
       "      <th>2529</th>\n",
       "      <td>Yves Behar: Designing objects that tell stories</td>\n",
       "      <td>NaN</td>\n",
       "    </tr>\n",
       "    <tr>\n",
       "      <th>2530</th>\n",
       "      <td>Yves Morieux: As work gets more complex, 6 rul...</td>\n",
       "      <td>NaN</td>\n",
       "    </tr>\n",
       "    <tr>\n",
       "      <th>2531</th>\n",
       "      <td>Yves Morieux: How too many rules at work keep ...</td>\n",
       "      <td>NaN</td>\n",
       "    </tr>\n",
       "    <tr>\n",
       "      <th>2532</th>\n",
       "      <td>Yves Rossy: Fly with the Jetman</td>\n",
       "      <td>NaN</td>\n",
       "    </tr>\n",
       "    <tr>\n",
       "      <th>2533</th>\n",
       "      <td>Zach Kaplan + Keith Schacht: Toys and material...</td>\n",
       "      <td>NaN</td>\n",
       "    </tr>\n",
       "    <tr>\n",
       "      <th>2534</th>\n",
       "      <td>Zahra' Langhi: Why Libya's revolution didn't w...</td>\n",
       "      <td>NaN</td>\n",
       "    </tr>\n",
       "    <tr>\n",
       "      <th>2535</th>\n",
       "      <td>Zainab Salbi: Women, wartime and the dream of ...</td>\n",
       "      <td>NaN</td>\n",
       "    </tr>\n",
       "    <tr>\n",
       "      <th>2536</th>\n",
       "      <td>Zak Ebrahim: I am the son of a terrorist. Here...</td>\n",
       "      <td>NaN</td>\n",
       "    </tr>\n",
       "    <tr>\n",
       "      <th>2537</th>\n",
       "      <td>Zaria Forman: Drawings that show the beauty an...</td>\n",
       "      <td>NaN</td>\n",
       "    </tr>\n",
       "    <tr>\n",
       "      <th>2538</th>\n",
       "      <td>Ze Frank: Are you human?</td>\n",
       "      <td>NaN</td>\n",
       "    </tr>\n",
       "    <tr>\n",
       "      <th>2539</th>\n",
       "      <td>Ze Frank: My web playroom</td>\n",
       "      <td>NaN</td>\n",
       "    </tr>\n",
       "    <tr>\n",
       "      <th>2540</th>\n",
       "      <td>Ze Frank: Nerdcore comedy</td>\n",
       "      <td>NaN</td>\n",
       "    </tr>\n",
       "    <tr>\n",
       "      <th>2541</th>\n",
       "      <td>Zeresenay Alemseged: The search for humanity's...</td>\n",
       "      <td>NaN</td>\n",
       "    </tr>\n",
       "    <tr>\n",
       "      <th>2542</th>\n",
       "      <td>Zeynep Tufekci: Machine intelligence makes hum...</td>\n",
       "      <td>NaN</td>\n",
       "    </tr>\n",
       "    <tr>\n",
       "      <th>2543</th>\n",
       "      <td>Zeynep Tufekci: Online social change: easy to ...</td>\n",
       "      <td>NaN</td>\n",
       "    </tr>\n",
       "    <tr>\n",
       "      <th>2544</th>\n",
       "      <td>Ziauddin Yousafzai: My daughter, Malala</td>\n",
       "      <td>NaN</td>\n",
       "    </tr>\n",
       "    <tr>\n",
       "      <th>2545</th>\n",
       "      <td>Ziyah Gafić: Everyday objects, tragic histories</td>\n",
       "      <td>NaN</td>\n",
       "    </tr>\n",
       "    <tr>\n",
       "      <th>2546</th>\n",
       "      <td>Zubaida Bai: A simple birth kit for mothers in...</td>\n",
       "      <td>NaN</td>\n",
       "    </tr>\n",
       "    <tr>\n",
       "      <th>2547</th>\n",
       "      <td>eL Seed: A project of peace, painted across 50...</td>\n",
       "      <td>NaN</td>\n",
       "    </tr>\n",
       "    <tr>\n",
       "      <th>2548</th>\n",
       "      <td>eL Seed: Street art with a message of hope and...</td>\n",
       "      <td>NaN</td>\n",
       "    </tr>\n",
       "    <tr>\n",
       "      <th>2549</th>\n",
       "      <td>iO Tillett Wright: Fifty shades of gay</td>\n",
       "      <td>NaN</td>\n",
       "    </tr>\n",
       "  </tbody>\n",
       "</table>\n",
       "<p>2550 rows × 2 columns</p>\n",
       "</div>"
      ],
      "text/plain": [
       "                                                   name  duration\n",
       "0        AJ Jacobs: How healthy living nearly killed me     848.0\n",
       "1               AJ Jacobs: My year of living biblically    1099.0\n",
       "2     AJ Jacobs: The world's largest family reunion ...       NaN\n",
       "3     Aakash Odedra: A dance in a hurricane of paper...       NaN\n",
       "4     Aala El-Khani: What it's like to be a parent i...       NaN\n",
       "5         Aaron Huey: America's native prisoners of war       NaN\n",
       "6     Aaron Koblin: Visualizing ourselves ... with c...       NaN\n",
       "7     Aaron O'Connell: Making sense of a visible qua...       NaN\n",
       "8     Abe Davis: New video technology that reveals a...       NaN\n",
       "9               Abha Dawesar: Life in the \"digital now\"       NaN\n",
       "10    Abigail Marsh: Why some people are more altrui...       NaN\n",
       "11    Abigail Washburn: Building US-China relations ...       NaN\n",
       "12                   Abraham Verghese: A doctor's touch       NaN\n",
       "13    Achenyo Idachaba: How I turned a deadly plant ...       NaN\n",
       "14       Adam Alter: Why our screens make us less happy       NaN\n",
       "15    Adam Davidson: What we learned from teetering ...       NaN\n",
       "16         Adam Driver: My journey from Marine to actor       NaN\n",
       "17    Adam Foss: A prosecutor's vision for a better ...       NaN\n",
       "18          Adam Galinsky: How to speak up for yourself       NaN\n",
       "19    Adam Garone: Healthier men, one moustache at a...       NaN\n",
       "20              Adam Grant: Are you a giver or a taker?       NaN\n",
       "21    Adam Grant: The surprising habits of original ...       NaN\n",
       "22           Adam Grosser: A mobile fridge for vaccines       NaN\n",
       "23          Adam Ostrow: After your final status update       NaN\n",
       "24    Adam Sadowsky: How to engineer a viral music v...       NaN\n",
       "25    Adam Savage: How simple ideas lead to scientif...       NaN\n",
       "26               Adam Savage: My love letter to cosplay       NaN\n",
       "27    Adam Savage: My obsession with objects and the...       NaN\n",
       "28    Adam Spencer: Why I fell in love with monster ...       NaN\n",
       "29    Adam de la Zerda: We can start winning the war...       NaN\n",
       "...                                                 ...       ...\n",
       "2520  Yassmin Abdel-Magied: What does my headscarf m...       NaN\n",
       "2521  Yoav Medan: Ultrasound surgery -- healing with...       NaN\n",
       "2522      Yochai Benkler: The new open-source economics       NaN\n",
       "2523  Yoruba Richen: What the gay rights movement le...       NaN\n",
       "2524  Yossi Vardi: We're worried about local warming...       NaN\n",
       "2525             Young-ha Kim: Be an artist, right now!       NaN\n",
       "2526  Yuval Noah Harari: Nationalism vs. globalism: ...       NaN\n",
       "2527  Yuval Noah Harari: What explains the rise of h...       NaN\n",
       "2528       Yves Behar: A supercharged motorcycle design       NaN\n",
       "2529    Yves Behar: Designing objects that tell stories       NaN\n",
       "2530  Yves Morieux: As work gets more complex, 6 rul...       NaN\n",
       "2531  Yves Morieux: How too many rules at work keep ...       NaN\n",
       "2532                    Yves Rossy: Fly with the Jetman       NaN\n",
       "2533  Zach Kaplan + Keith Schacht: Toys and material...       NaN\n",
       "2534  Zahra' Langhi: Why Libya's revolution didn't w...       NaN\n",
       "2535  Zainab Salbi: Women, wartime and the dream of ...       NaN\n",
       "2536  Zak Ebrahim: I am the son of a terrorist. Here...       NaN\n",
       "2537  Zaria Forman: Drawings that show the beauty an...       NaN\n",
       "2538                           Ze Frank: Are you human?       NaN\n",
       "2539                          Ze Frank: My web playroom       NaN\n",
       "2540                          Ze Frank: Nerdcore comedy       NaN\n",
       "2541  Zeresenay Alemseged: The search for humanity's...       NaN\n",
       "2542  Zeynep Tufekci: Machine intelligence makes hum...       NaN\n",
       "2543  Zeynep Tufekci: Online social change: easy to ...       NaN\n",
       "2544            Ziauddin Yousafzai: My daughter, Malala       NaN\n",
       "2545   Ziyah Gafić: Everyday objects, tragic histories       NaN\n",
       "2546  Zubaida Bai: A simple birth kit for mothers in...       NaN\n",
       "2547  eL Seed: A project of peace, painted across 50...       NaN\n",
       "2548  eL Seed: Street art with a message of hope and...       NaN\n",
       "2549             iO Tillett Wright: Fifty shades of gay       NaN\n",
       "\n",
       "[2550 rows x 2 columns]"
      ]
     },
     "execution_count": 141,
     "metadata": {},
     "output_type": "execute_result"
    }
   ],
   "source": [
    "ted[['name','duration']].sort_values('duration').mode()\n",
    "# hmmm, looks like the mode is seeing all the nans (fixed below)"
   ]
  },
  {
   "cell_type": "code",
   "execution_count": 140,
   "metadata": {},
   "outputs": [
    {
     "data": {
      "text/html": [
       "<div>\n",
       "<style scoped>\n",
       "    .dataframe tbody tr th:only-of-type {\n",
       "        vertical-align: middle;\n",
       "    }\n",
       "\n",
       "    .dataframe tbody tr th {\n",
       "        vertical-align: top;\n",
       "    }\n",
       "\n",
       "    .dataframe thead th {\n",
       "        text-align: right;\n",
       "    }\n",
       "</style>\n",
       "<table border=\"1\" class=\"dataframe\">\n",
       "  <thead>\n",
       "    <tr style=\"text-align: right;\">\n",
       "      <th></th>\n",
       "      <th>duration</th>\n",
       "    </tr>\n",
       "  </thead>\n",
       "  <tbody>\n",
       "    <tr>\n",
       "      <th>0</th>\n",
       "      <td>848</td>\n",
       "    </tr>\n",
       "    <tr>\n",
       "      <th>1</th>\n",
       "      <td>1099</td>\n",
       "    </tr>\n",
       "  </tbody>\n",
       "</table>\n",
       "</div>"
      ],
      "text/plain": [
       "   duration\n",
       "0       848\n",
       "1      1099"
      ]
     },
     "execution_count": 140,
     "metadata": {},
     "output_type": "execute_result"
    }
   ],
   "source": [
    "ted[['name','duration']].sort_values('duration').mode(numeric_only=True)\n",
    "# hmmm, looks like the mode is seeing all the nans, here is the fix"
   ]
  },
  {
   "cell_type": "markdown",
   "metadata": {},
   "source": [
    "Honestly I'm not sure if the mode is working...hmmmm"
   ]
  },
  {
   "cell_type": "markdown",
   "metadata": {},
   "source": [
    "#### 2.2.8\n",
    "Is this a normal distribution? Explain. How does this affect your analysis above?"
   ]
  },
  {
   "cell_type": "markdown",
   "metadata": {},
   "source": [
    "This is not a normal distribution, it is skewed toward lower values, but only somewhat, with many outliers on the longer talk range. However, this does not seem to affect the descriptive stats, as the median and the mean are quite similar and the quartiles are pretty symmetric."
   ]
  },
  {
   "cell_type": "markdown",
   "metadata": {},
   "source": [
    "#### 2.3.1-4\n",
    "\n",
    "Going back to the tutorial, make sure you have created the film_datetime variable\n",
    "\n",
    "In the command:\n",
    "\n",
    "ted.film_datetime.dt.year.value_counts().sort_index()\n",
    "\n",
    "What do the dt, year, value_counts and sort_index commands do? Explain each one and demonstrate"
   ]
  },
  {
   "cell_type": "code",
   "execution_count": 143,
   "metadata": {},
   "outputs": [],
   "source": [
    "ted['film_datetime']= pd.to_datetime(ted.film_date, unit = 's')"
   ]
  },
  {
   "cell_type": "code",
   "execution_count": 144,
   "metadata": {},
   "outputs": [
    {
     "data": {
      "text/plain": [
       "comments                       int64\n",
       "description                   object\n",
       "duration                       int64\n",
       "event                         object\n",
       "film_date                      int64\n",
       "languages                      int64\n",
       "main_speaker                  object\n",
       "name                          object\n",
       "num_speaker                    int64\n",
       "published_date                 int64\n",
       "ratings                       object\n",
       "related_talks                 object\n",
       "speaker_occupation            object\n",
       "tags                          object\n",
       "title                         object\n",
       "url                           object\n",
       "views                          int64\n",
       "film_datetime         datetime64[ns]\n",
       "dtype: object"
      ]
     },
     "execution_count": 144,
     "metadata": {},
     "output_type": "execute_result"
    }
   ],
   "source": [
    "ted.dtypes # yep it's there now"
   ]
  },
  {
   "cell_type": "markdown",
   "metadata": {},
   "source": [
    "Let's go through all the commands one by one"
   ]
  },
  {
   "cell_type": "code",
   "execution_count": 151,
   "metadata": {},
   "outputs": [
    {
     "data": {
      "text/plain": [
       "0   2006-02-25\n",
       "1   2006-02-25\n",
       "2   2006-02-24\n",
       "3   2006-02-26\n",
       "4   2006-02-22\n",
       "Name: film_datetime, dtype: datetime64[ns]"
      ]
     },
     "execution_count": 151,
     "metadata": {},
     "output_type": "execute_result"
    }
   ],
   "source": [
    "ted.film_datetime.head() # head by itself gives the first 5 values\n",
    "# this gives you all the dates of the talks"
   ]
  },
  {
   "cell_type": "code",
   "execution_count": 153,
   "metadata": {},
   "outputs": [
    {
     "data": {
      "text/plain": [
       "0    2006\n",
       "1    2006\n",
       "2    2006\n",
       "3    2006\n",
       "4    2006\n",
       "Name: film_datetime, dtype: int64"
      ]
     },
     "execution_count": 153,
     "metadata": {},
     "output_type": "execute_result"
    }
   ],
   "source": [
    "ted.film_datetime.dt.year.head() \n",
    "# the .dt is using the datetime package commands (like np.sin, etc.)\n",
    "# the .dt.year is giving just the year"
   ]
  },
  {
   "cell_type": "code",
   "execution_count": 155,
   "metadata": {},
   "outputs": [
    {
     "data": {
      "text/plain": [
       "2013    270\n",
       "2011    270\n",
       "2010    267\n",
       "2012    267\n",
       "2016    246\n",
       "2015    239\n",
       "2014    237\n",
       "2009    232\n",
       "2007    114\n",
       "2017     98\n",
       "2008     84\n",
       "2005     66\n",
       "2006     50\n",
       "2003     33\n",
       "2004     33\n",
       "2002     27\n",
       "1998      6\n",
       "2001      5\n",
       "1983      1\n",
       "1991      1\n",
       "1994      1\n",
       "1990      1\n",
       "1984      1\n",
       "1972      1\n",
       "Name: film_datetime, dtype: int64"
      ]
     },
     "execution_count": 155,
     "metadata": {},
     "output_type": "execute_result"
    }
   ],
   "source": [
    "ted.film_datetime.dt.year.value_counts()\n",
    "# the value counts is counting the number of talks in each year, like a histogram"
   ]
  },
  {
   "cell_type": "code",
   "execution_count": 157,
   "metadata": {},
   "outputs": [
    {
     "data": {
      "text/plain": [
       "1972      1\n",
       "1983      1\n",
       "1984      1\n",
       "1990      1\n",
       "1991      1\n",
       "1994      1\n",
       "1998      6\n",
       "2001      5\n",
       "2002     27\n",
       "2003     33\n",
       "2004     33\n",
       "2005     66\n",
       "2006     50\n",
       "2007    114\n",
       "2008     84\n",
       "2009    232\n",
       "2010    267\n",
       "2011    270\n",
       "2012    267\n",
       "2013    270\n",
       "2014    237\n",
       "2015    239\n",
       "2016    246\n",
       "2017     98\n",
       "Name: film_datetime, dtype: int64"
      ]
     },
     "execution_count": 157,
     "metadata": {},
     "output_type": "execute_result"
    }
   ],
   "source": [
    "ted.film_datetime.dt.year.value_counts().sort_index()\n",
    "# the sort_index sorts the counts by year"
   ]
  },
  {
   "cell_type": "markdown",
   "metadata": {},
   "source": [
    "#### 2.3.5 \n",
    "Why does the data need to be manipulated this way to plot it?\n",
    "What was the research question?"
   ]
  },
  {
   "cell_type": "markdown",
   "metadata": {},
   "source": [
    "The reasearch question was how many TED talks were there each year.\n",
    "\n",
    "The value counds gives us the binning by year, and the sorthing puts it in order. The plot doesn't look right without this, it connects the data by the number of talks instead of years"
   ]
  },
  {
   "cell_type": "code",
   "execution_count": null,
   "metadata": {},
   "outputs": [],
   "source": []
  },
  {
   "cell_type": "markdown",
   "metadata": {},
   "source": [
    "#### 2.3.6 \n",
    "Make the plot and label your axes"
   ]
  },
  {
   "cell_type": "code",
   "execution_count": 159,
   "metadata": {},
   "outputs": [
    {
     "data": {
      "text/plain": [
       "Text(0, 0.5, 'Number of talks')"
      ]
     },
     "execution_count": 159,
     "metadata": {},
     "output_type": "execute_result"
    },
    {
     "data": {
      "image/png": "[encoded data removed]",
      "text/plain": [
       "<Figure size 750x450 with 1 Axes>"
      ]
     },
     "metadata": {
      "needs_background": "light"
     },
     "output_type": "display_data"
    }
   ],
   "source": [
    "ted.film_datetime.dt.year.value_counts().sort_index().plot()\n",
    "plt.xlabel('Year')\n",
    "plt.ylabel('Number of talks')"
   ]
  },
  {
   "cell_type": "markdown",
   "metadata": {},
   "source": [
    "Bonus: could you make a similar plot and get the same information?"
   ]
  },
  {
   "cell_type": "code",
   "execution_count": 168,
   "metadata": {},
   "outputs": [
    {
     "data": {
      "text/plain": [
       "<matplotlib.axes._subplots.AxesSubplot at 0x122a9bbe0>"
      ]
     },
     "execution_count": 168,
     "metadata": {},
     "output_type": "execute_result"
    },
    {
     "data": {
      "image/png": "[encoded data removed]",
      "text/plain": [
       "<Figure size 750x450 with 1 Axes>"
      ]
     },
     "metadata": {
      "needs_background": "light"
     },
     "output_type": "display_data"
    }
   ],
   "source": [
    "ted.film_datetime.dt.year.hist(bins = 50) # that was so much easier"
   ]
  },
  {
   "cell_type": "code",
   "execution_count": null,
   "metadata": {},
   "outputs": [],
   "source": []
  },
  {
   "cell_type": "markdown",
   "metadata": {},
   "source": [
    "#### 2.3.2\n",
    "Research another way to use the pandas datatime data to analyse the Ted Talks. Explain your methods"
   ]
  },
  {
   "cell_type": "code",
   "execution_count": 164,
   "metadata": {},
   "outputs": [
    {
     "data": {
      "text/plain": [
       "1      33\n",
       "2     601\n",
       "3     397\n",
       "4     173\n",
       "5     123\n",
       "6     270\n",
       "7     253\n",
       "8      30\n",
       "9     107\n",
       "10    208\n",
       "11    232\n",
       "12    123\n",
       "Name: film_datetime, dtype: int64"
      ]
     },
     "execution_count": 164,
     "metadata": {},
     "output_type": "execute_result"
    }
   ],
   "source": [
    "# let's sort by month\n",
    "ted.film_datetime.dt.month.value_counts().sort_index()"
   ]
  },
  {
   "cell_type": "code",
   "execution_count": 161,
   "metadata": {},
   "outputs": [
    {
     "data": {
      "text/plain": [
       "Text(0, 0.5, 'Number of talks')"
      ]
     },
     "execution_count": 161,
     "metadata": {},
     "output_type": "execute_result"
    },
    {
     "data": {
      "image/png": "[encoded data removed]",
      "text/plain": [
       "<Figure size 750x450 with 1 Axes>"
      ]
     },
     "metadata": {
      "needs_background": "light"
     },
     "output_type": "display_data"
    }
   ],
   "source": [
    "# plot by number of months\n",
    "ted.film_datetime.dt.month.value_counts().sort_index().plot()\n",
    "plt.xlabel('Month')\n",
    "plt.ylabel('Number of talks')"
   ]
  },
  {
   "cell_type": "code",
   "execution_count": 176,
   "metadata": {},
   "outputs": [
    {
     "data": {
      "image/png": "[encoded data removed]",
      "text/plain": [
       "<Figure size 750x450 with 1 Axes>"
      ]
     },
     "metadata": {
      "needs_background": "light"
     },
     "output_type": "display_data"
    }
   ],
   "source": [
    "# plot by number of months\n",
    "ted.film_datetime.dt.month.hist(bins = 12) # note here I am defining the bin edges, see\n",
    "# https://docs.scipy.org/doc/numpy/reference/generated/numpy.histogram.html\n",
    "plt.xlabel('Month')\n",
    "plt.ylabel('Number of talks')\n",
    "plt.xticks(np.arange(1,13));"
   ]
  },
  {
   "cell_type": "code",
   "execution_count": 173,
   "metadata": {},
   "outputs": [
    {
     "data": {
      "image/png": "[encoded data removed]",
      "text/plain": [
       "<Figure size 750x450 with 1 Axes>"
      ]
     },
     "metadata": {
      "needs_background": "light"
     },
     "output_type": "display_data"
    }
   ],
   "source": [
    "# plot by number of months\n",
    "ted.film_datetime.dt.month.hist(bins = np.arange(1,13)) # note here I am defining the bin edges, see\n",
    "# https://docs.scipy.org/doc/numpy/reference/generated/numpy.histogram.html\n",
    "plt.xlabel('Month')\n",
    "plt.ylabel('Number of talks')\n",
    "plt.xticks(np.arange(1,13));"
   ]
  },
  {
   "cell_type": "markdown",
   "metadata": {},
   "source": [
    "#### 2.3.3\n",
    "Get creative! Now it is time for you to do some analysis on your own using the TED Talks dataset. Find a few ineresting ways to analyse this data set, which you will present to the class on Thursday."
   ]
  },
  {
   "cell_type": "code",
   "execution_count": null,
   "metadata": {},
   "outputs": [],
   "source": []
  },
  {
   "cell_type": "markdown",
   "metadata": {},
   "source": [
    "## 3. More PANDAS (if time)\n",
    "\n",
    "Review the following PANDAS for ecology tutorial and pick a few topics to work on:\n",
    "\n",
    "https://datacarpentry.org/python-ecology-lesson/\n",
    "\n",
    "Explain your methods in words and comment your code.\n",
    "\n",
    "#### Note the above is a good reference for basic pandas operations.\n",
    "\n"
   ]
  },
  {
   "cell_type": "code",
   "execution_count": null,
   "metadata": {},
   "outputs": [],
   "source": []
  }
 ],
 "metadata": {
  "kernelspec": {
   "display_name": "Python 3",
   "language": "python",
   "name": "python3"
  },
  "language_info": {
   "codemirror_mode": {
    "name": "ipython",
    "version": 3
   },
   "file_extension": ".py",
   "mimetype": "text/x-python",
   "name": "python",
   "nbconvert_exporter": "python",
   "pygments_lexer": "ipython3",
   "version": "3.7.3"
  }
 },
 "nbformat": 4,
 "nbformat_minor": 2
}
