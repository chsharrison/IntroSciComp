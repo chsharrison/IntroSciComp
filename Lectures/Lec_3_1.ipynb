{
 "cells": [
  {
   "cell_type": "markdown",
   "metadata": {},
   "source": [
    "# Numpy!"
   ]
  },
  {
   "cell_type": "markdown",
   "metadata": {},
   "source": [
    "## Agenda"
   ]
  },
  {
   "cell_type": "markdown",
   "metadata": {},
   "source": [
    "Warmup/Review: \n",
    "Make a function that computes the area of a triangle\n",
    "\n",
    "- creating arrays with np.arange\n",
    "- Feed these into the triangle area function\n",
    "\n",
    "- Go over/review python packages\n",
    "-- numpy\n",
    "-- matplotlib.plot\n",
    "\n",
    "- Go over numpy arrays\n",
    "-- Linspace and arange\n",
    "-- 2D indexing\n",
    "\n",
    "- Go over 2d and 3D plotting\n",
    " \n",
    "Lab Work:\n",
    "scipy lectures 1.3.1.1-1.3.1.6\n"
   ]
  },
  {
   "cell_type": "code",
   "execution_count": null,
   "metadata": {},
   "outputs": [],
   "source": []
  }
 ],
 "metadata": {
  "kernelspec": {
   "display_name": "Python 3",
   "language": "python",
   "name": "python3"
  },
  "language_info": {
   "codemirror_mode": {
    "name": "ipython",
    "version": 3
   },
   "file_extension": ".py",
   "mimetype": "text/x-python",
   "name": "python",
   "nbconvert_exporter": "python",
   "pygments_lexer": "ipython3",
   "version": "3.7.3"
  }
 },
 "nbformat": 4,
 "nbformat_minor": 2
}
