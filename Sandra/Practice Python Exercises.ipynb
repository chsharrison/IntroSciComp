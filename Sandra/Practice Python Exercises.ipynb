{
 "cells": [
  {
   "cell_type": "code",
   "execution_count": 5,
   "metadata": {},
   "outputs": [
    {
     "name": "stdout",
     "output_type": "stream",
     "text": [
      "Enter a number: 5\n",
      "This is an odd number.\n"
     ]
    }
   ],
   "source": [
    "num = int(input(\"Enter a number: \")) \n",
    "mod = num % 2\n",
    "if mod > 0:\n",
    "    print(\"This is an odd number.\")\n",
    "else:\n",
    "    print(\"This is an even number.\")\n"
   ]
  },
  {
   "cell_type": "markdown",
   "metadata": {},
   "source": [
    "^Python Exercise 2"
   ]
  },
  {
   "cell_type": "code",
   "execution_count": 6,
   "metadata": {},
   "outputs": [
    {
     "name": "stdout",
     "output_type": "stream",
     "text": [
      "What's your guess?7\n",
      "Too high!\n",
      "What's your guess?5\n",
      "Too low!\n",
      "What's your guess?6\n",
      "You got it!\n",
      "And it only took you 3 tries!\n"
     ]
    }
   ],
   "source": [
    "import random\n",
    "\n",
    "number = random.randint(1,9)\n",
    "guess = 0\n",
    "count = 0\n",
    "\n",
    "\n",
    "while guess != number and guess != \"exit\":\n",
    "    guess = input(\"What's your guess?\")\n",
    "    \n",
    "    if guess == \"exit\":\n",
    "        break\n",
    "    \n",
    "    guess = int(guess)\n",
    "    count += 1\n",
    "    \n",
    "    if guess < number:\n",
    "        print(\"Too low!\")\n",
    "    elif guess > number:\n",
    "        print(\"Too high!\")\n",
    "    else:\n",
    "        print(\"You got it!\")\n",
    "        print(\"And it only took you\",count,\"tries!\")"
   ]
  },
  {
   "cell_type": "markdown",
   "metadata": {},
   "source": [
    "^Python Exercise 9"
   ]
  },
  {
   "cell_type": "code",
   "execution_count": 9,
   "metadata": {},
   "outputs": [
    {
     "name": "stdout",
     "output_type": "stream",
     "text": [
      "This is a guessing game. Please think of a number between 1 and 100\n",
      "I guess 50. Is this too (H)igh, too (L)ow or just (R)ight? L\n",
      "I guess 75. Is this too (H)igh, too (L)ow or just (R)ight? H\n",
      "I guess 62. Is this too (H)igh, too (L)ow or just (R)ight? H\n",
      "I guess 56. Is this too (H)igh, too (L)ow or just (R)ight? L\n",
      "I guess 59. Is this too (H)igh, too (L)ow or just (R)ight? L\n",
      "I guess 60. Is this too (H)igh, too (L)ow or just (R)ight? R\n",
      "So the right number is 60 and it took me 6 times to guess it.\n"
     ]
    }
   ],
   "source": [
    "\n",
    "# In a previous exercise (9), we’ve written a program that “knows” a number and asks a user to guess it.\n",
    "#\n",
    "# This time, we’re going to do exactly the opposite. You, the user, will have in your head a number between 0 and 100.\n",
    "# The program will guess a number, and you, the user, will say whether it is too high, too low, or your number.\n",
    "#\n",
    "# At the end of this exchange, your program should print out how many guesses it took to get your number.\n",
    "#\n",
    "# As the writer of this program, you will have to choose how your program will strategically guess.\n",
    "# A naive strategy can be to simply start the guessing at 1, and keep going (2, 3, 4, etc.) until you hit\n",
    "# the number. But that’s not an optimal guessing strategy. An alternate strategy might be to guess 50\n",
    "# (right in the middle of the range), and then increase / decrease by 1 as needed. After you’ve written the program,\n",
    "# try to find the optimal strategy! (We’ll talk about what is the optimal one next week with the solution.)\n",
    "\n",
    "if __name__ == \"__main__\":\n",
    "    bigger_than = 0\n",
    "    smaller_than = 101\n",
    "    count = 0\n",
    "    guessed = False\n",
    "    print(\"This is a guessing game. Please think of a number between \" + str(bigger_than+1) + \" and \" + str(smaller_than-1))\n",
    "    while not guessed:\n",
    "        count += 1\n",
    "        guess = ( bigger_than + smaller_than ) // 2\n",
    "        check = input(\"I guess \" + str(guess) + \". Is this too (H)igh, too (L)ow or just (R)ight? \")\n",
    "        guessed = check.upper() == \"R\"\n",
    "        if not guessed:\n",
    "            if check.upper() == \"H\":\n",
    "                smaller_than = guess\n",
    "            elif check.upper() == \"L\":\n",
    "                bigger_than = guess\n",
    "    print(\"So the right number is \" + str(guess) + \" and it took me \" + str(count) + \" times to guess it.\")"
   ]
  },
  {
   "cell_type": "markdown",
   "metadata": {},
   "source": [
    "^ Python Exercise 25"
   ]
  },
  {
   "cell_type": "markdown",
   "metadata": {},
   "source": [
    "Exercise 1 is in one of my class files"
   ]
  },
  {
   "cell_type": "code",
   "execution_count": null,
   "metadata": {},
   "outputs": [],
   "source": []
  }
 ],
 "metadata": {
  "kernelspec": {
   "display_name": "Python 3",
   "language": "python",
   "name": "python3"
  },
  "language_info": {
   "codemirror_mode": {
    "name": "ipython",
    "version": 3
   },
   "file_extension": ".py",
   "mimetype": "text/x-python",
   "name": "python",
   "nbconvert_exporter": "python",
   "pygments_lexer": "ipython3",
   "version": "3.7.3"
  }
 },
 "nbformat": 4,
 "nbformat_minor": 2
}
