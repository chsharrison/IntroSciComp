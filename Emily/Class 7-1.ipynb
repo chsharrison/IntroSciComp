{
 "cells": [
  {
   "cell_type": "markdown",
   "metadata": {},
   "source": [
    "# Lecure 7.1 More data analysis with pandas"
   ]
  },
  {
   "cell_type": "markdown",
   "metadata": {},
   "source": [
    "We are focusing on coding today. Make sure you ask for help when you get stuck, either from the intructor or your colleagues. A little bit of struggle is good, but don't bang your head against the wall!"
   ]
  },
  {
   "cell_type": "markdown",
   "metadata": {},
   "source": [
    "Data analysis is a proccess of interaction with data, getting to know it, using descriptive statistics, seeing how variables are related. Once you get to know the data, then creative and interesting things can happen that bring new insight and help you develop a narrative about the data you are analysing"
   ]
  },
  {
   "cell_type": "markdown",
   "metadata": {},
   "source": [
    "## 1. Warm up\n",
    "\n",
    "### 1.1 \n",
    "Code a function that given the area of a circle, returns both the radius and the circumference\n",
    "### 1.2 \n",
    "Add in an error statement if a negative area is passed to the function\n",
    "### 1.3 \n",
    "Use your function to plot radus and circumference for areas between 0 and 1000, counting by 20. Put both lines on one plot. Label your plot, and include a legend."
   ]
  },
  {
   "cell_type": "code",
   "execution_count": 2,
   "metadata": {},
   "outputs": [],
   "source": [
    "# Warm up 1.1 \n",
    "import numpy as np\n",
    "import matplotlib.pyplot as plt\n",
    "%matplotlib inline"
   ]
  },
  {
   "cell_type": "code",
   "execution_count": 3,
   "metadata": {},
   "outputs": [],
   "source": [
    "def circle (a):\n",
    "    r = np.sqrt(a/np.pi)\n",
    "    cir = 2 * np.pi * r\n",
    "    print(\"radius:\", r, \"circumference:\", cir)\n",
    "  "
   ]
  },
  {
   "cell_type": "code",
   "execution_count": 4,
   "metadata": {},
   "outputs": [
    {
     "name": "stdout",
     "output_type": "stream",
     "text": [
      "radius: 3.0901936161855166 circumference: 19.41625912555699\n"
     ]
    }
   ],
   "source": [
    "circle(30)\n"
   ]
  },
  {
   "cell_type": "code",
   "execution_count": 5,
   "metadata": {},
   "outputs": [],
   "source": [
    "# r = 8                 #########################################################   \n",
    "# cir = 28              #####just figuring out how to get it to print properly### \n",
    "                        #########################################################\n",
    "# print(\"radius: \", r,  \"circumference \", cir)"
   ]
  },
  {
   "cell_type": "code",
   "execution_count": 6,
   "metadata": {},
   "outputs": [],
   "source": [
    "# warm up 1.2 \n",
    "def circle (a):\n",
    "    if a >= 0:\n",
    "        r = np.sqrt(a/np.pi)\n",
    "        cir = 2 * np.pi * r\n",
    "        print(\"radius:\", r, \"circumference:\", cir)\n",
    "    else: \n",
    "        print(\"error: area cannot be negative\")\n",
    "  "
   ]
  },
  {
   "cell_type": "code",
   "execution_count": 7,
   "metadata": {},
   "outputs": [
    {
     "name": "stdout",
     "output_type": "stream",
     "text": [
      "radius: 2.8209479177387813 circumference: 17.724538509055158\n"
     ]
    }
   ],
   "source": [
    "circle(25)"
   ]
  },
  {
   "cell_type": "code",
   "execution_count": 8,
   "metadata": {},
   "outputs": [
    {
     "name": "stdout",
     "output_type": "stream",
     "text": [
      "error: area cannot be negative\n"
     ]
    }
   ],
   "source": [
    "circle(-25)"
   ]
  },
  {
   "cell_type": "code",
   "execution_count": 9,
   "metadata": {},
   "outputs": [],
   "source": [
    "# Warm up 1.3\n",
    "area = np.arange(0, 1001,20)\n",
    "def circle (a):\n",
    "    r = np.sqrt(a/np.pi)\n",
    "    cir = 2 * np.pi * r\n",
    "    plt.plot(a,r, label = \"Radius\")\n",
    "    plt.plot(a, cir, label = \"Circumference\")\n",
    "    plt.title('Radius and Circumference of a Circle Based on Area')\n",
    "    plt.xlabel('Area of Circle')\n",
    "    plt.ylabel('Length of Radius and Circumference')\n",
    "    plt.legend()\n",
    "    \n"
   ]
  },
  {
   "cell_type": "code",
   "execution_count": 10,
   "metadata": {},
   "outputs": [
    {
     "data": {
      "text/plain": [
       "array([   0,   20,   40,   60,   80,  100,  120,  140,  160,  180,  200,\n",
       "        220,  240,  260,  280,  300,  320,  340,  360,  380,  400,  420,\n",
       "        440,  460,  480,  500,  520,  540,  560,  580,  600,  620,  640,\n",
       "        660,  680,  700,  720,  740,  760,  780,  800,  820,  840,  860,\n",
       "        880,  900,  920,  940,  960,  980, 1000])"
      ]
     },
     "execution_count": 10,
     "metadata": {},
     "output_type": "execute_result"
    }
   ],
   "source": [
    "area"
   ]
  },
  {
   "cell_type": "code",
   "execution_count": 11,
   "metadata": {},
   "outputs": [
    {
     "data": {
      "image/png": "[encoded data removed]",
      "text/plain": [
       "<Figure size 432x288 with 1 Axes>"
      ]
     },
     "metadata": {
      "needs_background": "light"
     },
     "output_type": "display_data"
    }
   ],
   "source": [
    "circle(area)"
   ]
  },
  {
   "cell_type": "code",
   "execution_count": null,
   "metadata": {},
   "outputs": [],
   "source": []
  },
  {
   "cell_type": "markdown",
   "metadata": {},
   "source": [
    "## 2. TED Talk exercises"
   ]
  },
  {
   "cell_type": "markdown",
   "metadata": {},
   "source": [
    "For the following, use the TED Talk dataset we used in week 5"
   ]
  },
  {
   "cell_type": "markdown",
   "metadata": {},
   "source": [
    "### 2.1 Basics\n",
    "How do you display all of the data types in a pandas data set? Demonstrate."
   ]
  },
  {
   "cell_type": "code",
   "execution_count": 12,
   "metadata": {},
   "outputs": [],
   "source": [
    "import pandas as pd"
   ]
  },
  {
   "cell_type": "code",
   "execution_count": 13,
   "metadata": {},
   "outputs": [],
   "source": [
    "ted = pd.read_csv('ted.txt')"
   ]
  },
  {
   "cell_type": "code",
   "execution_count": 14,
   "metadata": {},
   "outputs": [
    {
     "data": {
      "text/plain": [
       "comments               int64\n",
       "description           object\n",
       "duration               int64\n",
       "event                 object\n",
       "film_date              int64\n",
       "languages              int64\n",
       "main_speaker          object\n",
       "name                  object\n",
       "num_speaker            int64\n",
       "published_date         int64\n",
       "ratings               object\n",
       "related_talks         object\n",
       "speaker_occupation    object\n",
       "tags                  object\n",
       "title                 object\n",
       "url                   object\n",
       "views                  int64\n",
       "dtype: object"
      ]
     },
     "execution_count": 14,
     "metadata": {},
     "output_type": "execute_result"
    }
   ],
   "source": [
    "ted.dtypes"
   ]
  },
  {
   "cell_type": "code",
   "execution_count": null,
   "metadata": {},
   "outputs": [],
   "source": []
  },
  {
   "cell_type": "code",
   "execution_count": null,
   "metadata": {},
   "outputs": [],
   "source": []
  },
  {
   "cell_type": "markdown",
   "metadata": {},
   "source": [
    "### 2.2 Working with data in pandas: sorting and plotting\n",
    "#### 2.2.1 \n",
    "Display just the name and duration of the talks."
   ]
  },
  {
   "cell_type": "code",
   "execution_count": 15,
   "metadata": {},
   "outputs": [
    {
     "data": {
      "text/html": [
       "<div>\n",
       "<style scoped>\n",
       "    .dataframe tbody tr th:only-of-type {\n",
       "        vertical-align: middle;\n",
       "    }\n",
       "\n",
       "    .dataframe tbody tr th {\n",
       "        vertical-align: top;\n",
       "    }\n",
       "\n",
       "    .dataframe thead th {\n",
       "        text-align: right;\n",
       "    }\n",
       "</style>\n",
       "<table border=\"1\" class=\"dataframe\">\n",
       "  <thead>\n",
       "    <tr style=\"text-align: right;\">\n",
       "      <th></th>\n",
       "      <th>comments</th>\n",
       "      <th>description</th>\n",
       "      <th>duration</th>\n",
       "      <th>event</th>\n",
       "      <th>film_date</th>\n",
       "      <th>languages</th>\n",
       "      <th>main_speaker</th>\n",
       "      <th>name</th>\n",
       "      <th>num_speaker</th>\n",
       "      <th>published_date</th>\n",
       "      <th>ratings</th>\n",
       "      <th>related_talks</th>\n",
       "      <th>speaker_occupation</th>\n",
       "      <th>tags</th>\n",
       "      <th>title</th>\n",
       "      <th>url</th>\n",
       "      <th>views</th>\n",
       "    </tr>\n",
       "  </thead>\n",
       "  <tbody>\n",
       "    <tr>\n",
       "      <th>0</th>\n",
       "      <td>4553</td>\n",
       "      <td>Sir Ken Robinson makes an entertaining and pro...</td>\n",
       "      <td>1164</td>\n",
       "      <td>TED2006</td>\n",
       "      <td>1140825600</td>\n",
       "      <td>60</td>\n",
       "      <td>Ken Robinson</td>\n",
       "      <td>Ken Robinson: Do schools kill creativity?</td>\n",
       "      <td>1</td>\n",
       "      <td>1151367060</td>\n",
       "      <td>[{'id': 7, 'name': 'Funny', 'count': 19645}, {...</td>\n",
       "      <td>[{'id': 865, 'hero': 'https://pe.tedcdn.com/im...</td>\n",
       "      <td>Author/educator</td>\n",
       "      <td>['children', 'creativity', 'culture', 'dance',...</td>\n",
       "      <td>Do schools kill creativity?</td>\n",
       "      <td>https://www.ted.com/talks/ken_robinson_says_sc...</td>\n",
       "      <td>47227110</td>\n",
       "    </tr>\n",
       "    <tr>\n",
       "      <th>1</th>\n",
       "      <td>265</td>\n",
       "      <td>With the same humor and humanity he exuded in ...</td>\n",
       "      <td>977</td>\n",
       "      <td>TED2006</td>\n",
       "      <td>1140825600</td>\n",
       "      <td>43</td>\n",
       "      <td>Al Gore</td>\n",
       "      <td>Al Gore: Averting the climate crisis</td>\n",
       "      <td>1</td>\n",
       "      <td>1151367060</td>\n",
       "      <td>[{'id': 7, 'name': 'Funny', 'count': 544}, {'i...</td>\n",
       "      <td>[{'id': 243, 'hero': 'https://pe.tedcdn.com/im...</td>\n",
       "      <td>Climate advocate</td>\n",
       "      <td>['alternative energy', 'cars', 'climate change...</td>\n",
       "      <td>Averting the climate crisis</td>\n",
       "      <td>https://www.ted.com/talks/al_gore_on_averting_...</td>\n",
       "      <td>3200520</td>\n",
       "    </tr>\n",
       "  </tbody>\n",
       "</table>\n",
       "</div>"
      ],
      "text/plain": [
       "   comments                                        description  duration  \\\n",
       "0      4553  Sir Ken Robinson makes an entertaining and pro...      1164   \n",
       "1       265  With the same humor and humanity he exuded in ...       977   \n",
       "\n",
       "     event   film_date  languages  main_speaker  \\\n",
       "0  TED2006  1140825600         60  Ken Robinson   \n",
       "1  TED2006  1140825600         43       Al Gore   \n",
       "\n",
       "                                        name  num_speaker  published_date  \\\n",
       "0  Ken Robinson: Do schools kill creativity?            1      1151367060   \n",
       "1       Al Gore: Averting the climate crisis            1      1151367060   \n",
       "\n",
       "                                             ratings  \\\n",
       "0  [{'id': 7, 'name': 'Funny', 'count': 19645}, {...   \n",
       "1  [{'id': 7, 'name': 'Funny', 'count': 544}, {'i...   \n",
       "\n",
       "                                       related_talks speaker_occupation  \\\n",
       "0  [{'id': 865, 'hero': 'https://pe.tedcdn.com/im...    Author/educator   \n",
       "1  [{'id': 243, 'hero': 'https://pe.tedcdn.com/im...   Climate advocate   \n",
       "\n",
       "                                                tags  \\\n",
       "0  ['children', 'creativity', 'culture', 'dance',...   \n",
       "1  ['alternative energy', 'cars', 'climate change...   \n",
       "\n",
       "                         title  \\\n",
       "0  Do schools kill creativity?   \n",
       "1  Averting the climate crisis   \n",
       "\n",
       "                                                 url     views  \n",
       "0  https://www.ted.com/talks/ken_robinson_says_sc...  47227110  \n",
       "1  https://www.ted.com/talks/al_gore_on_averting_...   3200520  "
      ]
     },
     "execution_count": 15,
     "metadata": {},
     "output_type": "execute_result"
    }
   ],
   "source": [
    "ted.head(2)  #look at the column names"
   ]
  },
  {
   "cell_type": "code",
   "execution_count": 16,
   "metadata": {},
   "outputs": [
    {
     "data": {
      "text/html": [
       "<div>\n",
       "<style scoped>\n",
       "    .dataframe tbody tr th:only-of-type {\n",
       "        vertical-align: middle;\n",
       "    }\n",
       "\n",
       "    .dataframe tbody tr th {\n",
       "        vertical-align: top;\n",
       "    }\n",
       "\n",
       "    .dataframe thead th {\n",
       "        text-align: right;\n",
       "    }\n",
       "</style>\n",
       "<table border=\"1\" class=\"dataframe\">\n",
       "  <thead>\n",
       "    <tr style=\"text-align: right;\">\n",
       "      <th></th>\n",
       "      <th>title</th>\n",
       "      <th>duration</th>\n",
       "    </tr>\n",
       "  </thead>\n",
       "  <tbody>\n",
       "    <tr>\n",
       "      <th>0</th>\n",
       "      <td>Do schools kill creativity?</td>\n",
       "      <td>1164</td>\n",
       "    </tr>\n",
       "    <tr>\n",
       "      <th>1</th>\n",
       "      <td>Averting the climate crisis</td>\n",
       "      <td>977</td>\n",
       "    </tr>\n",
       "    <tr>\n",
       "      <th>2</th>\n",
       "      <td>Simplicity sells</td>\n",
       "      <td>1286</td>\n",
       "    </tr>\n",
       "    <tr>\n",
       "      <th>3</th>\n",
       "      <td>Greening the ghetto</td>\n",
       "      <td>1116</td>\n",
       "    </tr>\n",
       "    <tr>\n",
       "      <th>4</th>\n",
       "      <td>The best stats you've ever seen</td>\n",
       "      <td>1190</td>\n",
       "    </tr>\n",
       "    <tr>\n",
       "      <th>5</th>\n",
       "      <td>Why we do what we do</td>\n",
       "      <td>1305</td>\n",
       "    </tr>\n",
       "    <tr>\n",
       "      <th>6</th>\n",
       "      <td>Letting go of God</td>\n",
       "      <td>992</td>\n",
       "    </tr>\n",
       "    <tr>\n",
       "      <th>7</th>\n",
       "      <td>Behind the design of Seattle's library</td>\n",
       "      <td>1198</td>\n",
       "    </tr>\n",
       "    <tr>\n",
       "      <th>8</th>\n",
       "      <td>Let's teach religion -- all religion -- in sch...</td>\n",
       "      <td>1485</td>\n",
       "    </tr>\n",
       "    <tr>\n",
       "      <th>9</th>\n",
       "      <td>A life of purpose</td>\n",
       "      <td>1262</td>\n",
       "    </tr>\n",
       "    <tr>\n",
       "      <th>10</th>\n",
       "      <td>My wish: A call for open-source architecture</td>\n",
       "      <td>1414</td>\n",
       "    </tr>\n",
       "    <tr>\n",
       "      <th>11</th>\n",
       "      <td>My wish: A global day of film</td>\n",
       "      <td>1538</td>\n",
       "    </tr>\n",
       "    <tr>\n",
       "      <th>12</th>\n",
       "      <td>My wish: Help me stop pandemics</td>\n",
       "      <td>1550</td>\n",
       "    </tr>\n",
       "    <tr>\n",
       "      <th>13</th>\n",
       "      <td>The radical promise of the multi-touch interface</td>\n",
       "      <td>527</td>\n",
       "    </tr>\n",
       "    <tr>\n",
       "      <th>14</th>\n",
       "      <td>One Laptop per Child</td>\n",
       "      <td>1057</td>\n",
       "    </tr>\n",
       "    <tr>\n",
       "      <th>15</th>\n",
       "      <td>An 11-year-old's magical violin</td>\n",
       "      <td>1481</td>\n",
       "    </tr>\n",
       "    <tr>\n",
       "      <th>16</th>\n",
       "      <td>Improvising on piano, aged 14</td>\n",
       "      <td>1445</td>\n",
       "    </tr>\n",
       "    <tr>\n",
       "      <th>17</th>\n",
       "      <td>Simple designs to save a life</td>\n",
       "      <td>906</td>\n",
       "    </tr>\n",
       "    <tr>\n",
       "      <th>18</th>\n",
       "      <td>Organic design, inspired by nature</td>\n",
       "      <td>1170</td>\n",
       "    </tr>\n",
       "    <tr>\n",
       "      <th>19</th>\n",
       "      <td>The birth of Wikipedia</td>\n",
       "      <td>1201</td>\n",
       "    </tr>\n",
       "    <tr>\n",
       "      <th>20</th>\n",
       "      <td>The birth of the open-source learning revolution</td>\n",
       "      <td>1114</td>\n",
       "    </tr>\n",
       "    <tr>\n",
       "      <th>21</th>\n",
       "      <td>Nerdcore comedy</td>\n",
       "      <td>1136</td>\n",
       "    </tr>\n",
       "    <tr>\n",
       "      <th>22</th>\n",
       "      <td>Meet the founder of the blog revolution</td>\n",
       "      <td>1006</td>\n",
       "    </tr>\n",
       "    <tr>\n",
       "      <th>23</th>\n",
       "      <td>Why we love, why we cheat</td>\n",
       "      <td>1407</td>\n",
       "    </tr>\n",
       "    <tr>\n",
       "      <th>24</th>\n",
       "      <td>Happiness in body and soul</td>\n",
       "      <td>1225</td>\n",
       "    </tr>\n",
       "    <tr>\n",
       "      <th>25</th>\n",
       "      <td>Chemical scum that dream of distant quasars</td>\n",
       "      <td>1140</td>\n",
       "    </tr>\n",
       "    <tr>\n",
       "      <th>26</th>\n",
       "      <td>Why the universe seems so strange</td>\n",
       "      <td>1316</td>\n",
       "    </tr>\n",
       "    <tr>\n",
       "      <th>27</th>\n",
       "      <td>The freakonomics of crack dealing</td>\n",
       "      <td>1275</td>\n",
       "    </tr>\n",
       "    <tr>\n",
       "      <th>28</th>\n",
       "      <td>Choice, happiness and spaghetti sauce</td>\n",
       "      <td>1050</td>\n",
       "    </tr>\n",
       "    <tr>\n",
       "      <th>29</th>\n",
       "      <td>The surprising science of happiness</td>\n",
       "      <td>1276</td>\n",
       "    </tr>\n",
       "    <tr>\n",
       "      <th>...</th>\n",
       "      <td>...</td>\n",
       "      <td>...</td>\n",
       "    </tr>\n",
       "    <tr>\n",
       "      <th>2520</th>\n",
       "      <td>What would happen if we upload our brains to c...</td>\n",
       "      <td>736</td>\n",
       "    </tr>\n",
       "    <tr>\n",
       "      <th>2521</th>\n",
       "      <td>What the sugar coating on your cells is trying...</td>\n",
       "      <td>685</td>\n",
       "    </tr>\n",
       "    <tr>\n",
       "      <th>2522</th>\n",
       "      <td>\"The Sacred Art of the Ori\"</td>\n",
       "      <td>530</td>\n",
       "    </tr>\n",
       "    <tr>\n",
       "      <th>2523</th>\n",
       "      <td>When workers own companies, the economy is mor...</td>\n",
       "      <td>747</td>\n",
       "    </tr>\n",
       "    <tr>\n",
       "      <th>2524</th>\n",
       "      <td>Fun, fierce and fantastical African art</td>\n",
       "      <td>310</td>\n",
       "    </tr>\n",
       "    <tr>\n",
       "      <th>2525</th>\n",
       "      <td>Why we need to end the era of orphanages</td>\n",
       "      <td>791</td>\n",
       "    </tr>\n",
       "    <tr>\n",
       "      <th>2526</th>\n",
       "      <td>Can a robot pass a university entrance exam?</td>\n",
       "      <td>817</td>\n",
       "    </tr>\n",
       "    <tr>\n",
       "      <th>2527</th>\n",
       "      <td>How the US government spies on people who prot...</td>\n",
       "      <td>865</td>\n",
       "    </tr>\n",
       "    <tr>\n",
       "      <th>2528</th>\n",
       "      <td>How your pictures can help reclaim lost history</td>\n",
       "      <td>717</td>\n",
       "    </tr>\n",
       "    <tr>\n",
       "      <th>2529</th>\n",
       "      <td>Dare to refuse the origin myths that claim who...</td>\n",
       "      <td>1156</td>\n",
       "    </tr>\n",
       "    <tr>\n",
       "      <th>2530</th>\n",
       "      <td>A smog vacuum cleaner and other magical city d...</td>\n",
       "      <td>738</td>\n",
       "    </tr>\n",
       "    <tr>\n",
       "      <th>2531</th>\n",
       "      <td>How young people join violent extremist groups...</td>\n",
       "      <td>698</td>\n",
       "    </tr>\n",
       "    <tr>\n",
       "      <th>2532</th>\n",
       "      <td>How to build a company where the best ideas win</td>\n",
       "      <td>993</td>\n",
       "    </tr>\n",
       "    <tr>\n",
       "      <th>2533</th>\n",
       "      <td>Would you live in a floating city in the sky?</td>\n",
       "      <td>663</td>\n",
       "    </tr>\n",
       "    <tr>\n",
       "      <th>2534</th>\n",
       "      <td>What it feels like to see Earth from space</td>\n",
       "      <td>725</td>\n",
       "    </tr>\n",
       "    <tr>\n",
       "      <th>2535</th>\n",
       "      <td>Who belongs in a city?</td>\n",
       "      <td>723</td>\n",
       "    </tr>\n",
       "    <tr>\n",
       "      <th>2536</th>\n",
       "      <td>How our friendship survives our opposing politics</td>\n",
       "      <td>865</td>\n",
       "    </tr>\n",
       "    <tr>\n",
       "      <th>2537</th>\n",
       "      <td>There's more to life than being happy</td>\n",
       "      <td>738</td>\n",
       "    </tr>\n",
       "    <tr>\n",
       "      <th>2538</th>\n",
       "      <td>What really motivates people to be honest in b...</td>\n",
       "      <td>808</td>\n",
       "    </tr>\n",
       "    <tr>\n",
       "      <th>2539</th>\n",
       "      <td>A forgotten ancient grain that could help Afri...</td>\n",
       "      <td>934</td>\n",
       "    </tr>\n",
       "    <tr>\n",
       "      <th>2540</th>\n",
       "      <td>The real reason manufacturing jobs are disappe...</td>\n",
       "      <td>722</td>\n",
       "    </tr>\n",
       "    <tr>\n",
       "      <th>2541</th>\n",
       "      <td>The fascinating physics of everyday life</td>\n",
       "      <td>957</td>\n",
       "    </tr>\n",
       "    <tr>\n",
       "      <th>2542</th>\n",
       "      <td>Living sculptures that stand for history's truths</td>\n",
       "      <td>795</td>\n",
       "    </tr>\n",
       "    <tr>\n",
       "      <th>2543</th>\n",
       "      <td>How digital DNA could help you make better hea...</td>\n",
       "      <td>894</td>\n",
       "    </tr>\n",
       "    <tr>\n",
       "      <th>2544</th>\n",
       "      <td>Why Africa must become a center of knowledge a...</td>\n",
       "      <td>810</td>\n",
       "    </tr>\n",
       "    <tr>\n",
       "      <th>2545</th>\n",
       "      <td>What we're missing in the debate about immigra...</td>\n",
       "      <td>476</td>\n",
       "    </tr>\n",
       "    <tr>\n",
       "      <th>2546</th>\n",
       "      <td>The most Martian place on Earth</td>\n",
       "      <td>290</td>\n",
       "    </tr>\n",
       "    <tr>\n",
       "      <th>2547</th>\n",
       "      <td>What intelligent machines can learn from a sch...</td>\n",
       "      <td>651</td>\n",
       "    </tr>\n",
       "    <tr>\n",
       "      <th>2548</th>\n",
       "      <td>A black man goes undercover in the alt-right</td>\n",
       "      <td>1100</td>\n",
       "    </tr>\n",
       "    <tr>\n",
       "      <th>2549</th>\n",
       "      <td>How a video game might help us build better ci...</td>\n",
       "      <td>519</td>\n",
       "    </tr>\n",
       "  </tbody>\n",
       "</table>\n",
       "<p>2550 rows × 2 columns</p>\n",
       "</div>"
      ],
      "text/plain": [
       "                                                  title  duration\n",
       "0                           Do schools kill creativity?      1164\n",
       "1                           Averting the climate crisis       977\n",
       "2                                      Simplicity sells      1286\n",
       "3                                   Greening the ghetto      1116\n",
       "4                       The best stats you've ever seen      1190\n",
       "5                                  Why we do what we do      1305\n",
       "6                                     Letting go of God       992\n",
       "7                Behind the design of Seattle's library      1198\n",
       "8     Let's teach religion -- all religion -- in sch...      1485\n",
       "9                                     A life of purpose      1262\n",
       "10         My wish: A call for open-source architecture      1414\n",
       "11                        My wish: A global day of film      1538\n",
       "12                      My wish: Help me stop pandemics      1550\n",
       "13     The radical promise of the multi-touch interface       527\n",
       "14                                 One Laptop per Child      1057\n",
       "15                      An 11-year-old's magical violin      1481\n",
       "16                        Improvising on piano, aged 14      1445\n",
       "17                        Simple designs to save a life       906\n",
       "18                   Organic design, inspired by nature      1170\n",
       "19                               The birth of Wikipedia      1201\n",
       "20     The birth of the open-source learning revolution      1114\n",
       "21                                      Nerdcore comedy      1136\n",
       "22              Meet the founder of the blog revolution      1006\n",
       "23                            Why we love, why we cheat      1407\n",
       "24                           Happiness in body and soul      1225\n",
       "25          Chemical scum that dream of distant quasars      1140\n",
       "26                    Why the universe seems so strange      1316\n",
       "27                    The freakonomics of crack dealing      1275\n",
       "28                Choice, happiness and spaghetti sauce      1050\n",
       "29                  The surprising science of happiness      1276\n",
       "...                                                 ...       ...\n",
       "2520  What would happen if we upload our brains to c...       736\n",
       "2521  What the sugar coating on your cells is trying...       685\n",
       "2522                        \"The Sacred Art of the Ori\"       530\n",
       "2523  When workers own companies, the economy is mor...       747\n",
       "2524            Fun, fierce and fantastical African art       310\n",
       "2525           Why we need to end the era of orphanages       791\n",
       "2526       Can a robot pass a university entrance exam?       817\n",
       "2527  How the US government spies on people who prot...       865\n",
       "2528    How your pictures can help reclaim lost history       717\n",
       "2529  Dare to refuse the origin myths that claim who...      1156\n",
       "2530  A smog vacuum cleaner and other magical city d...       738\n",
       "2531  How young people join violent extremist groups...       698\n",
       "2532    How to build a company where the best ideas win       993\n",
       "2533      Would you live in a floating city in the sky?       663\n",
       "2534         What it feels like to see Earth from space       725\n",
       "2535                             Who belongs in a city?       723\n",
       "2536  How our friendship survives our opposing politics       865\n",
       "2537              There's more to life than being happy       738\n",
       "2538  What really motivates people to be honest in b...       808\n",
       "2539  A forgotten ancient grain that could help Afri...       934\n",
       "2540  The real reason manufacturing jobs are disappe...       722\n",
       "2541           The fascinating physics of everyday life       957\n",
       "2542  Living sculptures that stand for history's truths       795\n",
       "2543  How digital DNA could help you make better hea...       894\n",
       "2544  Why Africa must become a center of knowledge a...       810\n",
       "2545  What we're missing in the debate about immigra...       476\n",
       "2546                    The most Martian place on Earth       290\n",
       "2547  What intelligent machines can learn from a sch...       651\n",
       "2548       A black man goes undercover in the alt-right      1100\n",
       "2549  How a video game might help us build better ci...       519\n",
       "\n",
       "[2550 rows x 2 columns]"
      ]
     },
     "execution_count": 16,
     "metadata": {},
     "output_type": "execute_result"
    }
   ],
   "source": [
    "ted[['title', 'duration']]  #select the columns that are wanted"
   ]
  },
  {
   "cell_type": "markdown",
   "metadata": {},
   "source": [
    "#### 2.2.2\n",
    "Now sort by duration. Display 1) the 10 shortest and 2) the 10 longest talks"
   ]
  },
  {
   "cell_type": "code",
   "execution_count": 17,
   "metadata": {},
   "outputs": [
    {
     "data": {
      "text/html": [
       "<div>\n",
       "<style scoped>\n",
       "    .dataframe tbody tr th:only-of-type {\n",
       "        vertical-align: middle;\n",
       "    }\n",
       "\n",
       "    .dataframe tbody tr th {\n",
       "        vertical-align: top;\n",
       "    }\n",
       "\n",
       "    .dataframe thead th {\n",
       "        text-align: right;\n",
       "    }\n",
       "</style>\n",
       "<table border=\"1\" class=\"dataframe\">\n",
       "  <thead>\n",
       "    <tr style=\"text-align: right;\">\n",
       "      <th></th>\n",
       "      <th>comments</th>\n",
       "      <th>description</th>\n",
       "      <th>duration</th>\n",
       "      <th>event</th>\n",
       "      <th>film_date</th>\n",
       "      <th>languages</th>\n",
       "      <th>main_speaker</th>\n",
       "      <th>name</th>\n",
       "      <th>num_speaker</th>\n",
       "      <th>published_date</th>\n",
       "      <th>ratings</th>\n",
       "      <th>related_talks</th>\n",
       "      <th>speaker_occupation</th>\n",
       "      <th>tags</th>\n",
       "      <th>title</th>\n",
       "      <th>url</th>\n",
       "      <th>views</th>\n",
       "    </tr>\n",
       "  </thead>\n",
       "  <tbody>\n",
       "    <tr>\n",
       "      <th>239</th>\n",
       "      <td>76</td>\n",
       "      <td>After speaking at TED2007 on elegance in physi...</td>\n",
       "      <td>135</td>\n",
       "      <td>TED2007</td>\n",
       "      <td>1172880000</td>\n",
       "      <td>61</td>\n",
       "      <td>Murray Gell-Mann</td>\n",
       "      <td>Murray Gell-Mann: The ancestor of language</td>\n",
       "      <td>1</td>\n",
       "      <td>1213146000</td>\n",
       "      <td>[{'id': 22, 'name': 'Fascinating', 'count': 78...</td>\n",
       "      <td>[{'id': 161, 'hero': 'https://pe.tedcdn.com/im...</td>\n",
       "      <td>Physicist</td>\n",
       "      <td>['culture', 'global issues', 'history', 'langu...</td>\n",
       "      <td>The ancestor of language</td>\n",
       "      <td>https://www.ted.com/talks/murray_gell_mann_on_...</td>\n",
       "      <td>785293</td>\n",
       "    </tr>\n",
       "    <tr>\n",
       "      <th>248</th>\n",
       "      <td>42</td>\n",
       "      <td>Singer-songwriter Nellie McKay performs the se...</td>\n",
       "      <td>140</td>\n",
       "      <td>TED2008</td>\n",
       "      <td>1204243200</td>\n",
       "      <td>39</td>\n",
       "      <td>Nellie McKay</td>\n",
       "      <td>Nellie McKay: \"Clonie\"</td>\n",
       "      <td>1</td>\n",
       "      <td>1214528400</td>\n",
       "      <td>[{'id': 25, 'name': 'OK', 'count': 104}, {'id'...</td>\n",
       "      <td>[{'id': 325, 'hero': 'https://pe.tedcdn.com/im...</td>\n",
       "      <td>Singer/songwriter</td>\n",
       "      <td>['culture', 'entertainment', 'genetics', 'live...</td>\n",
       "      <td>\"Clonie\"</td>\n",
       "      <td>https://www.ted.com/talks/nellie_mckay_sings_c...</td>\n",
       "      <td>680591</td>\n",
       "    </tr>\n",
       "    <tr>\n",
       "      <th>547</th>\n",
       "      <td>46</td>\n",
       "      <td>The euphonium, with its sweet brass sound, is ...</td>\n",
       "      <td>141</td>\n",
       "      <td>TEDGlobal 2009</td>\n",
       "      <td>1248307200</td>\n",
       "      <td>0</td>\n",
       "      <td>Matthew White</td>\n",
       "      <td>Matthew White: The modern euphonium</td>\n",
       "      <td>1</td>\n",
       "      <td>1256864400</td>\n",
       "      <td>[{'id': 9, 'name': 'Ingenious', 'count': 43}, ...</td>\n",
       "      <td>[{'id': 478, 'hero': 'https://pe.tedcdn.com/im...</td>\n",
       "      <td>Brass virtuoso</td>\n",
       "      <td>['creativity', 'live music', 'music', 'perform...</td>\n",
       "      <td>The modern euphonium</td>\n",
       "      <td>https://www.ted.com/talks/matthew_white_gives_...</td>\n",
       "      <td>771962</td>\n",
       "    </tr>\n",
       "    <tr>\n",
       "      <th>454</th>\n",
       "      <td>62</td>\n",
       "      <td>Yves Behar and Forrest North unveil Mission On...</td>\n",
       "      <td>143</td>\n",
       "      <td>TED2009</td>\n",
       "      <td>1233878400</td>\n",
       "      <td>45</td>\n",
       "      <td>Yves Behar</td>\n",
       "      <td>Yves Behar: A supercharged motorcycle design</td>\n",
       "      <td>1</td>\n",
       "      <td>1242982440</td>\n",
       "      <td>[{'id': 7, 'name': 'Funny', 'count': 30}, {'id...</td>\n",
       "      <td>[{'id': 266, 'hero': 'https://pe.tedcdn.com/im...</td>\n",
       "      <td>Designer</td>\n",
       "      <td>['cars', 'design', 'engineering', 'green', 'tr...</td>\n",
       "      <td>A supercharged motorcycle design</td>\n",
       "      <td>https://www.ted.com/talks/yves_behar_s_superch...</td>\n",
       "      <td>556657</td>\n",
       "    </tr>\n",
       "    <tr>\n",
       "      <th>264</th>\n",
       "      <td>15</td>\n",
       "      <td>In this short, image-packed talk, Marisa Fick-...</td>\n",
       "      <td>153</td>\n",
       "      <td>TEDGlobal 2007</td>\n",
       "      <td>1181088000</td>\n",
       "      <td>43</td>\n",
       "      <td>Marisa Fick-Jordan</td>\n",
       "      <td>Marisa Fick-Jordan: The wonder of Zulu wire art</td>\n",
       "      <td>1</td>\n",
       "      <td>1216666500</td>\n",
       "      <td>[{'id': 1, 'name': 'Beautiful', 'count': 81}, ...</td>\n",
       "      <td>[{'id': 127, 'hero': 'https://pe.tedcdn.com/im...</td>\n",
       "      <td>Craft artist, product designer</td>\n",
       "      <td>['Africa', 'art', 'business', 'design']</td>\n",
       "      <td>The wonder of Zulu wire art</td>\n",
       "      <td>https://www.ted.com/talks/marisa_fick_jordan_s...</td>\n",
       "      <td>294961</td>\n",
       "    </tr>\n",
       "    <tr>\n",
       "      <th>606</th>\n",
       "      <td>238</td>\n",
       "      <td>\"There's a flip side to everything,\" the sayin...</td>\n",
       "      <td>162</td>\n",
       "      <td>TEDIndia 2009</td>\n",
       "      <td>1257465600</td>\n",
       "      <td>69</td>\n",
       "      <td>Derek Sivers</td>\n",
       "      <td>Derek Sivers: Weird, or just different?</td>\n",
       "      <td>1</td>\n",
       "      <td>1264755240</td>\n",
       "      <td>[{'id': 7, 'name': 'Funny', 'count': 924}, {'i...</td>\n",
       "      <td>[{'id': 485, 'hero': 'https://pe.tedcdn.com/im...</td>\n",
       "      <td>Entrepreneur</td>\n",
       "      <td>['business', 'creativity', 'map']</td>\n",
       "      <td>Weird, or just different?</td>\n",
       "      <td>https://www.ted.com/talks/derek_sivers_weird_o...</td>\n",
       "      <td>2835976</td>\n",
       "    </tr>\n",
       "    <tr>\n",
       "      <th>86</th>\n",
       "      <td>39</td>\n",
       "      <td>A happy song about global warming, from Jill S...</td>\n",
       "      <td>163</td>\n",
       "      <td>TED2006</td>\n",
       "      <td>1140912000</td>\n",
       "      <td>38</td>\n",
       "      <td>Jill Sobule</td>\n",
       "      <td>Jill Sobule: Global warming's theme song, \"Man...</td>\n",
       "      <td>1</td>\n",
       "      <td>1175819400</td>\n",
       "      <td>[{'id': 9, 'name': 'Ingenious', 'count': 45}, ...</td>\n",
       "      <td>[{'id': 222, 'hero': 'https://pe.tedcdn.com/im...</td>\n",
       "      <td>Singer/songwriter</td>\n",
       "      <td>['climate change', 'environment', 'guitar', 'm...</td>\n",
       "      <td>Global warming's theme song, \"Manhattan in Jan...</td>\n",
       "      <td>https://www.ted.com/talks/jill_sobule_sings_to...</td>\n",
       "      <td>591379</td>\n",
       "    </tr>\n",
       "    <tr>\n",
       "      <th>1390</th>\n",
       "      <td>183</td>\n",
       "      <td>People don't just cook anymore -- they're cook...</td>\n",
       "      <td>172</td>\n",
       "      <td>TEDGlobal 2012</td>\n",
       "      <td>1340755200</td>\n",
       "      <td>48</td>\n",
       "      <td>Paolo Cardini</td>\n",
       "      <td>Paolo Cardini: Forget multitasking, try monota...</td>\n",
       "      <td>1</td>\n",
       "      <td>1354291786</td>\n",
       "      <td>[{'id': 25, 'name': 'OK', 'count': 328}, {'id'...</td>\n",
       "      <td>[{'id': 1265, 'hero': 'https://pe.tedcdn.com/i...</td>\n",
       "      <td>Designer</td>\n",
       "      <td>['culture', 'design', 'humor', 'product design...</td>\n",
       "      <td>Forget multitasking, try monotasking</td>\n",
       "      <td>https://www.ted.com/talks/paolo_cardini_forget...</td>\n",
       "      <td>2324212</td>\n",
       "    </tr>\n",
       "    <tr>\n",
       "      <th>593</th>\n",
       "      <td>43</td>\n",
       "      <td>As of 2005, only 15 percent of the world was m...</td>\n",
       "      <td>174</td>\n",
       "      <td>TEDIndia 2009</td>\n",
       "      <td>1257724800</td>\n",
       "      <td>48</td>\n",
       "      <td>Lalitesh Katragadda</td>\n",
       "      <td>Lalitesh Katragadda: Making maps to fight disa...</td>\n",
       "      <td>1</td>\n",
       "      <td>1263373860</td>\n",
       "      <td>[{'id': 10, 'name': 'Inspiring', 'count': 76},...</td>\n",
       "      <td>[{'id': 58, 'hero': 'https://pe.tedcdn.com/ima...</td>\n",
       "      <td>Engineer</td>\n",
       "      <td>['cities', 'collaboration', 'design', 'map', '...</td>\n",
       "      <td>Making maps to fight disaster, build economies</td>\n",
       "      <td>https://www.ted.com/talks/lalitesh_katragadda_...</td>\n",
       "      <td>359942</td>\n",
       "    </tr>\n",
       "    <tr>\n",
       "      <th>722</th>\n",
       "      <td>254</td>\n",
       "      <td>TED Fellow and urban designer Mitchell Joachim...</td>\n",
       "      <td>176</td>\n",
       "      <td>TED2010</td>\n",
       "      <td>1265932800</td>\n",
       "      <td>48</td>\n",
       "      <td>Mitchell Joachim</td>\n",
       "      <td>Mitchell Joachim: Don't build your home, grow it!</td>\n",
       "      <td>1</td>\n",
       "      <td>1278063240</td>\n",
       "      <td>[{'id': 23, 'name': 'Jaw-dropping', 'count': 1...</td>\n",
       "      <td>[{'id': 667, 'hero': 'https://pe.tedcdn.com/im...</td>\n",
       "      <td>Architect, designer</td>\n",
       "      <td>['TED Fellows', 'architecture', 'design', 'env...</td>\n",
       "      <td>Don't build your home, grow it!</td>\n",
       "      <td>https://www.ted.com/talks/mitchell_joachim_don...</td>\n",
       "      <td>1332785</td>\n",
       "    </tr>\n",
       "  </tbody>\n",
       "</table>\n",
       "</div>"
      ],
      "text/plain": [
       "      comments                                        description  duration  \\\n",
       "239         76  After speaking at TED2007 on elegance in physi...       135   \n",
       "248         42  Singer-songwriter Nellie McKay performs the se...       140   \n",
       "547         46  The euphonium, with its sweet brass sound, is ...       141   \n",
       "454         62  Yves Behar and Forrest North unveil Mission On...       143   \n",
       "264         15  In this short, image-packed talk, Marisa Fick-...       153   \n",
       "606        238  \"There's a flip side to everything,\" the sayin...       162   \n",
       "86          39  A happy song about global warming, from Jill S...       163   \n",
       "1390       183  People don't just cook anymore -- they're cook...       172   \n",
       "593         43  As of 2005, only 15 percent of the world was m...       174   \n",
       "722        254  TED Fellow and urban designer Mitchell Joachim...       176   \n",
       "\n",
       "               event   film_date  languages         main_speaker  \\\n",
       "239          TED2007  1172880000         61     Murray Gell-Mann   \n",
       "248          TED2008  1204243200         39         Nellie McKay   \n",
       "547   TEDGlobal 2009  1248307200          0        Matthew White   \n",
       "454          TED2009  1233878400         45           Yves Behar   \n",
       "264   TEDGlobal 2007  1181088000         43   Marisa Fick-Jordan   \n",
       "606    TEDIndia 2009  1257465600         69         Derek Sivers   \n",
       "86           TED2006  1140912000         38          Jill Sobule   \n",
       "1390  TEDGlobal 2012  1340755200         48        Paolo Cardini   \n",
       "593    TEDIndia 2009  1257724800         48  Lalitesh Katragadda   \n",
       "722          TED2010  1265932800         48     Mitchell Joachim   \n",
       "\n",
       "                                                   name  num_speaker  \\\n",
       "239          Murray Gell-Mann: The ancestor of language            1   \n",
       "248                              Nellie McKay: \"Clonie\"            1   \n",
       "547                 Matthew White: The modern euphonium            1   \n",
       "454        Yves Behar: A supercharged motorcycle design            1   \n",
       "264     Marisa Fick-Jordan: The wonder of Zulu wire art            1   \n",
       "606             Derek Sivers: Weird, or just different?            1   \n",
       "86    Jill Sobule: Global warming's theme song, \"Man...            1   \n",
       "1390  Paolo Cardini: Forget multitasking, try monota...            1   \n",
       "593   Lalitesh Katragadda: Making maps to fight disa...            1   \n",
       "722   Mitchell Joachim: Don't build your home, grow it!            1   \n",
       "\n",
       "      published_date                                            ratings  \\\n",
       "239       1213146000  [{'id': 22, 'name': 'Fascinating', 'count': 78...   \n",
       "248       1214528400  [{'id': 25, 'name': 'OK', 'count': 104}, {'id'...   \n",
       "547       1256864400  [{'id': 9, 'name': 'Ingenious', 'count': 43}, ...   \n",
       "454       1242982440  [{'id': 7, 'name': 'Funny', 'count': 30}, {'id...   \n",
       "264       1216666500  [{'id': 1, 'name': 'Beautiful', 'count': 81}, ...   \n",
       "606       1264755240  [{'id': 7, 'name': 'Funny', 'count': 924}, {'i...   \n",
       "86        1175819400  [{'id': 9, 'name': 'Ingenious', 'count': 45}, ...   \n",
       "1390      1354291786  [{'id': 25, 'name': 'OK', 'count': 328}, {'id'...   \n",
       "593       1263373860  [{'id': 10, 'name': 'Inspiring', 'count': 76},...   \n",
       "722       1278063240  [{'id': 23, 'name': 'Jaw-dropping', 'count': 1...   \n",
       "\n",
       "                                          related_talks  \\\n",
       "239   [{'id': 161, 'hero': 'https://pe.tedcdn.com/im...   \n",
       "248   [{'id': 325, 'hero': 'https://pe.tedcdn.com/im...   \n",
       "547   [{'id': 478, 'hero': 'https://pe.tedcdn.com/im...   \n",
       "454   [{'id': 266, 'hero': 'https://pe.tedcdn.com/im...   \n",
       "264   [{'id': 127, 'hero': 'https://pe.tedcdn.com/im...   \n",
       "606   [{'id': 485, 'hero': 'https://pe.tedcdn.com/im...   \n",
       "86    [{'id': 222, 'hero': 'https://pe.tedcdn.com/im...   \n",
       "1390  [{'id': 1265, 'hero': 'https://pe.tedcdn.com/i...   \n",
       "593   [{'id': 58, 'hero': 'https://pe.tedcdn.com/ima...   \n",
       "722   [{'id': 667, 'hero': 'https://pe.tedcdn.com/im...   \n",
       "\n",
       "                  speaker_occupation  \\\n",
       "239                        Physicist   \n",
       "248                Singer/songwriter   \n",
       "547                   Brass virtuoso   \n",
       "454                         Designer   \n",
       "264   Craft artist, product designer   \n",
       "606                     Entrepreneur   \n",
       "86                 Singer/songwriter   \n",
       "1390                        Designer   \n",
       "593                         Engineer   \n",
       "722              Architect, designer   \n",
       "\n",
       "                                                   tags  \\\n",
       "239   ['culture', 'global issues', 'history', 'langu...   \n",
       "248   ['culture', 'entertainment', 'genetics', 'live...   \n",
       "547   ['creativity', 'live music', 'music', 'perform...   \n",
       "454   ['cars', 'design', 'engineering', 'green', 'tr...   \n",
       "264             ['Africa', 'art', 'business', 'design']   \n",
       "606                   ['business', 'creativity', 'map']   \n",
       "86    ['climate change', 'environment', 'guitar', 'm...   \n",
       "1390  ['culture', 'design', 'humor', 'product design...   \n",
       "593   ['cities', 'collaboration', 'design', 'map', '...   \n",
       "722   ['TED Fellows', 'architecture', 'design', 'env...   \n",
       "\n",
       "                                                  title  \\\n",
       "239                            The ancestor of language   \n",
       "248                                            \"Clonie\"   \n",
       "547                                The modern euphonium   \n",
       "454                    A supercharged motorcycle design   \n",
       "264                         The wonder of Zulu wire art   \n",
       "606                           Weird, or just different?   \n",
       "86    Global warming's theme song, \"Manhattan in Jan...   \n",
       "1390               Forget multitasking, try monotasking   \n",
       "593      Making maps to fight disaster, build economies   \n",
       "722                     Don't build your home, grow it!   \n",
       "\n",
       "                                                    url    views  \n",
       "239   https://www.ted.com/talks/murray_gell_mann_on_...   785293  \n",
       "248   https://www.ted.com/talks/nellie_mckay_sings_c...   680591  \n",
       "547   https://www.ted.com/talks/matthew_white_gives_...   771962  \n",
       "454   https://www.ted.com/talks/yves_behar_s_superch...   556657  \n",
       "264   https://www.ted.com/talks/marisa_fick_jordan_s...   294961  \n",
       "606   https://www.ted.com/talks/derek_sivers_weird_o...  2835976  \n",
       "86    https://www.ted.com/talks/jill_sobule_sings_to...   591379  \n",
       "1390  https://www.ted.com/talks/paolo_cardini_forget...  2324212  \n",
       "593   https://www.ted.com/talks/lalitesh_katragadda_...   359942  \n",
       "722   https://www.ted.com/talks/mitchell_joachim_don...  1332785  "
      ]
     },
     "execution_count": 17,
     "metadata": {},
     "output_type": "execute_result"
    }
   ],
   "source": [
    "ted.sort_values('duration').head(10)"
   ]
  },
  {
   "cell_type": "code",
   "execution_count": 18,
   "metadata": {},
   "outputs": [
    {
     "data": {
      "text/html": [
       "<div>\n",
       "<style scoped>\n",
       "    .dataframe tbody tr th:only-of-type {\n",
       "        vertical-align: middle;\n",
       "    }\n",
       "\n",
       "    .dataframe tbody tr th {\n",
       "        vertical-align: top;\n",
       "    }\n",
       "\n",
       "    .dataframe thead th {\n",
       "        text-align: right;\n",
       "    }\n",
       "</style>\n",
       "<table border=\"1\" class=\"dataframe\">\n",
       "  <thead>\n",
       "    <tr style=\"text-align: right;\">\n",
       "      <th></th>\n",
       "      <th>comments</th>\n",
       "      <th>description</th>\n",
       "      <th>duration</th>\n",
       "      <th>event</th>\n",
       "      <th>film_date</th>\n",
       "      <th>languages</th>\n",
       "      <th>main_speaker</th>\n",
       "      <th>name</th>\n",
       "      <th>num_speaker</th>\n",
       "      <th>published_date</th>\n",
       "      <th>ratings</th>\n",
       "      <th>related_talks</th>\n",
       "      <th>speaker_occupation</th>\n",
       "      <th>tags</th>\n",
       "      <th>title</th>\n",
       "      <th>url</th>\n",
       "      <th>views</th>\n",
       "    </tr>\n",
       "  </thead>\n",
       "  <tbody>\n",
       "    <tr>\n",
       "      <th>202</th>\n",
       "      <td>9</td>\n",
       "      <td>Before he was a legend, architect Frank Gehry ...</td>\n",
       "      <td>2678</td>\n",
       "      <td>TED1990</td>\n",
       "      <td>636422400</td>\n",
       "      <td>19</td>\n",
       "      <td>Frank Gehry</td>\n",
       "      <td>Frank Gehry: My days as a young rebel</td>\n",
       "      <td>1</td>\n",
       "      <td>1205372280</td>\n",
       "      <td>[{'id': 11, 'name': 'Longwinded', 'count': 76}...</td>\n",
       "      <td>[{'id': 13, 'hero': 'https://pe.tedcdn.com/ima...</td>\n",
       "      <td>Architect</td>\n",
       "      <td>['architecture', 'collaboration', 'design', 'g...</td>\n",
       "      <td>My days as a young rebel</td>\n",
       "      <td>https://www.ted.com/talks/frank_gehry_as_a_you...</td>\n",
       "      <td>620806</td>\n",
       "    </tr>\n",
       "    <tr>\n",
       "      <th>947</th>\n",
       "      <td>121</td>\n",
       "      <td>How does one find authentic creativity? In his...</td>\n",
       "      <td>2761</td>\n",
       "      <td>Handheld Learning</td>\n",
       "      <td>1254787200</td>\n",
       "      <td>0</td>\n",
       "      <td>Malcolm McLaren</td>\n",
       "      <td>Malcolm McLaren: Authentic creativity vs. kara...</td>\n",
       "      <td>1</td>\n",
       "      <td>1306774260</td>\n",
       "      <td>[{'id': 7, 'name': 'Funny', 'count': 43}, {'id...</td>\n",
       "      <td>[{'id': 32, 'hero': 'https://pe.tedcdn.com/ima...</td>\n",
       "      <td>Provocateur</td>\n",
       "      <td>['creativity', 'culture', 'entertainment']</td>\n",
       "      <td>Authentic creativity vs. karaoke culture</td>\n",
       "      <td>https://www.ted.com/talks/malcolm_mclaren_auth...</td>\n",
       "      <td>251313</td>\n",
       "    </tr>\n",
       "    <tr>\n",
       "      <th>2421</th>\n",
       "      <td>42</td>\n",
       "      <td>How can we bridge the gap between left and rig...</td>\n",
       "      <td>2853</td>\n",
       "      <td>TED Dialogues</td>\n",
       "      <td>1488326400</td>\n",
       "      <td>5</td>\n",
       "      <td>Gretchen Carlson, David Brooks</td>\n",
       "      <td>Gretchen Carlson, David Brooks: Political comm...</td>\n",
       "      <td>4</td>\n",
       "      <td>1491256255</td>\n",
       "      <td>[{'id': 3, 'name': 'Courageous', 'count': 19},...</td>\n",
       "      <td>[{'id': 2695, 'hero': 'https://pe.tedcdn.com/i...</td>\n",
       "      <td>TV journalist, women's empowerment advocate</td>\n",
       "      <td>['United States', 'collaboration', 'communicat...</td>\n",
       "      <td>Political common ground in a polarized United ...</td>\n",
       "      <td>https://www.ted.com/talks/gretchen_carlson_dav...</td>\n",
       "      <td>890478</td>\n",
       "    </tr>\n",
       "    <tr>\n",
       "      <th>580</th>\n",
       "      <td>307</td>\n",
       "      <td>Is torture ever justified? Would you steal a d...</td>\n",
       "      <td>3296</td>\n",
       "      <td>Justice with Michael Sandel</td>\n",
       "      <td>1125532800</td>\n",
       "      <td>0</td>\n",
       "      <td>Michael Sandel</td>\n",
       "      <td>Michael Sandel: What's the right thing to do?</td>\n",
       "      <td>1</td>\n",
       "      <td>1261572360</td>\n",
       "      <td>[{'id': 24, 'name': 'Persuasive', 'count': 132...</td>\n",
       "      <td>[{'id': 187, 'hero': 'https://pe.tedcdn.com/im...</td>\n",
       "      <td>Political philosopher</td>\n",
       "      <td>['government', 'law', 'philosophy', 'politics']</td>\n",
       "      <td>What's the right thing to do?</td>\n",
       "      <td>https://www.ted.com/talks/michael_sandel_what_...</td>\n",
       "      <td>393459</td>\n",
       "    </tr>\n",
       "    <tr>\n",
       "      <th>600</th>\n",
       "      <td>133</td>\n",
       "      <td>At the Royal Institution in 1991, Richard Dawk...</td>\n",
       "      <td>3475</td>\n",
       "      <td>Royal Institution</td>\n",
       "      <td>693238260</td>\n",
       "      <td>0</td>\n",
       "      <td>Richard Dawkins</td>\n",
       "      <td>Richard Dawkins: Growing up in the universe</td>\n",
       "      <td>1</td>\n",
       "      <td>1264252200</td>\n",
       "      <td>[{'id': 22, 'name': 'Fascinating', 'count': 15...</td>\n",
       "      <td>[{'id': 98, 'hero': 'https://pe.tedcdn.com/ima...</td>\n",
       "      <td>Evolutionary biologist</td>\n",
       "      <td>['biology', 'evolution', 'life', 'science', 'u...</td>\n",
       "      <td>Growing up in the universe</td>\n",
       "      <td>https://www.ted.com/talks/richard_dawkins_grow...</td>\n",
       "      <td>318423</td>\n",
       "    </tr>\n",
       "    <tr>\n",
       "      <th>594</th>\n",
       "      <td>20</td>\n",
       "      <td>In the midst of an earlier crisis, Haitian aut...</td>\n",
       "      <td>3573</td>\n",
       "      <td>University of California</td>\n",
       "      <td>1097625600</td>\n",
       "      <td>0</td>\n",
       "      <td>Edwidge Danticat</td>\n",
       "      <td>Edwidge Danticat: Stories of Haiti</td>\n",
       "      <td>1</td>\n",
       "      <td>1263481440</td>\n",
       "      <td>[{'id': 1, 'name': 'Beautiful', 'count': 25}, ...</td>\n",
       "      <td>[{'id': 652, 'hero': 'https://pe.tedcdn.com/im...</td>\n",
       "      <td>Author</td>\n",
       "      <td>['books', 'disaster relief', 'novel', 'poetry'...</td>\n",
       "      <td>Stories of Haiti</td>\n",
       "      <td>https://www.ted.com/talks/edwidge_danticat_sto...</td>\n",
       "      <td>50443</td>\n",
       "    </tr>\n",
       "    <tr>\n",
       "      <th>2387</th>\n",
       "      <td>345</td>\n",
       "      <td>How do we make sense of today's political divi...</td>\n",
       "      <td>3608</td>\n",
       "      <td>TED Dialogues</td>\n",
       "      <td>1487116800</td>\n",
       "      <td>19</td>\n",
       "      <td>Yuval Noah Harari</td>\n",
       "      <td>Yuval Noah Harari: Nationalism vs. globalism: ...</td>\n",
       "      <td>2</td>\n",
       "      <td>1487604924</td>\n",
       "      <td>[{'id': 8, 'name': 'Informative', 'count': 583...</td>\n",
       "      <td>[{'id': 2625, 'hero': 'https://pe.tedcdn.com/i...</td>\n",
       "      <td>Historian</td>\n",
       "      <td>['big problems', 'climate change', 'collaborat...</td>\n",
       "      <td>Nationalism vs. globalism: the new political d...</td>\n",
       "      <td>https://www.ted.com/talks/yuval_noah_harari_na...</td>\n",
       "      <td>1514291</td>\n",
       "    </tr>\n",
       "    <tr>\n",
       "      <th>629</th>\n",
       "      <td>146</td>\n",
       "      <td>In this archival footage from BBC TV, celebrat...</td>\n",
       "      <td>3955</td>\n",
       "      <td>BBC TV</td>\n",
       "      <td>426531600</td>\n",
       "      <td>0</td>\n",
       "      <td>Richard Feynman</td>\n",
       "      <td>Richard Feynman: Physics is fun to imagine</td>\n",
       "      <td>1</td>\n",
       "      <td>1267631820</td>\n",
       "      <td>[{'id': 8, 'name': 'Informative', 'count': 324...</td>\n",
       "      <td>[{'id': 194, 'hero': 'https://pe.tedcdn.com/im...</td>\n",
       "      <td>Physicist</td>\n",
       "      <td>['astronomy', 'physics', 'science']</td>\n",
       "      <td>Physics is fun to imagine</td>\n",
       "      <td>https://www.ted.com/talks/richard_feynman</td>\n",
       "      <td>521974</td>\n",
       "    </tr>\n",
       "    <tr>\n",
       "      <th>588</th>\n",
       "      <td>124</td>\n",
       "      <td>In 2007, Carnegie Mellon professor Randy Pausc...</td>\n",
       "      <td>4587</td>\n",
       "      <td>Carnegie Mellon University</td>\n",
       "      <td>1190073600</td>\n",
       "      <td>0</td>\n",
       "      <td>Randy Pausch</td>\n",
       "      <td>Randy Pausch: Really achieving your childhood ...</td>\n",
       "      <td>1</td>\n",
       "      <td>1262950320</td>\n",
       "      <td>[{'id': 3, 'name': 'Courageous', 'count': 299}...</td>\n",
       "      <td>[{'id': 229, 'hero': 'https://pe.tedcdn.com/im...</td>\n",
       "      <td>Professor</td>\n",
       "      <td>['culture', 'disease', 'education', 'life', 's...</td>\n",
       "      <td>Really achieving your childhood dreams</td>\n",
       "      <td>https://www.ted.com/talks/randy_pausch_really_...</td>\n",
       "      <td>564781</td>\n",
       "    </tr>\n",
       "    <tr>\n",
       "      <th>640</th>\n",
       "      <td>101</td>\n",
       "      <td>Blind river dolphins, reclusive lemurs, a parr...</td>\n",
       "      <td>5256</td>\n",
       "      <td>University of California</td>\n",
       "      <td>989971200</td>\n",
       "      <td>0</td>\n",
       "      <td>Douglas Adams</td>\n",
       "      <td>Douglas Adams: Parrots, the universe and every...</td>\n",
       "      <td>1</td>\n",
       "      <td>1268762040</td>\n",
       "      <td>[{'id': 22, 'name': 'Fascinating', 'count': 29...</td>\n",
       "      <td>[{'id': 635, 'hero': 'https://pe.tedcdn.com/im...</td>\n",
       "      <td>Author, satirist</td>\n",
       "      <td>['biodiversity', 'biology', 'comedy', 'humor',...</td>\n",
       "      <td>Parrots, the universe and everything</td>\n",
       "      <td>https://www.ted.com/talks/douglas_adams_parrot...</td>\n",
       "      <td>473220</td>\n",
       "    </tr>\n",
       "  </tbody>\n",
       "</table>\n",
       "</div>"
      ],
      "text/plain": [
       "      comments                                        description  duration  \\\n",
       "202          9  Before he was a legend, architect Frank Gehry ...      2678   \n",
       "947        121  How does one find authentic creativity? In his...      2761   \n",
       "2421        42  How can we bridge the gap between left and rig...      2853   \n",
       "580        307  Is torture ever justified? Would you steal a d...      3296   \n",
       "600        133  At the Royal Institution in 1991, Richard Dawk...      3475   \n",
       "594         20  In the midst of an earlier crisis, Haitian aut...      3573   \n",
       "2387       345  How do we make sense of today's political divi...      3608   \n",
       "629        146  In this archival footage from BBC TV, celebrat...      3955   \n",
       "588        124  In 2007, Carnegie Mellon professor Randy Pausc...      4587   \n",
       "640        101  Blind river dolphins, reclusive lemurs, a parr...      5256   \n",
       "\n",
       "                            event   film_date  languages  \\\n",
       "202                       TED1990   636422400         19   \n",
       "947             Handheld Learning  1254787200          0   \n",
       "2421                TED Dialogues  1488326400          5   \n",
       "580   Justice with Michael Sandel  1125532800          0   \n",
       "600             Royal Institution   693238260          0   \n",
       "594      University of California  1097625600          0   \n",
       "2387                TED Dialogues  1487116800         19   \n",
       "629                        BBC TV   426531600          0   \n",
       "588    Carnegie Mellon University  1190073600          0   \n",
       "640      University of California   989971200          0   \n",
       "\n",
       "                        main_speaker  \\\n",
       "202                      Frank Gehry   \n",
       "947                  Malcolm McLaren   \n",
       "2421  Gretchen Carlson, David Brooks   \n",
       "580                   Michael Sandel   \n",
       "600                  Richard Dawkins   \n",
       "594                 Edwidge Danticat   \n",
       "2387               Yuval Noah Harari   \n",
       "629                  Richard Feynman   \n",
       "588                     Randy Pausch   \n",
       "640                    Douglas Adams   \n",
       "\n",
       "                                                   name  num_speaker  \\\n",
       "202               Frank Gehry: My days as a young rebel            1   \n",
       "947   Malcolm McLaren: Authentic creativity vs. kara...            1   \n",
       "2421  Gretchen Carlson, David Brooks: Political comm...            4   \n",
       "580       Michael Sandel: What's the right thing to do?            1   \n",
       "600         Richard Dawkins: Growing up in the universe            1   \n",
       "594                  Edwidge Danticat: Stories of Haiti            1   \n",
       "2387  Yuval Noah Harari: Nationalism vs. globalism: ...            2   \n",
       "629          Richard Feynman: Physics is fun to imagine            1   \n",
       "588   Randy Pausch: Really achieving your childhood ...            1   \n",
       "640   Douglas Adams: Parrots, the universe and every...            1   \n",
       "\n",
       "      published_date                                            ratings  \\\n",
       "202       1205372280  [{'id': 11, 'name': 'Longwinded', 'count': 76}...   \n",
       "947       1306774260  [{'id': 7, 'name': 'Funny', 'count': 43}, {'id...   \n",
       "2421      1491256255  [{'id': 3, 'name': 'Courageous', 'count': 19},...   \n",
       "580       1261572360  [{'id': 24, 'name': 'Persuasive', 'count': 132...   \n",
       "600       1264252200  [{'id': 22, 'name': 'Fascinating', 'count': 15...   \n",
       "594       1263481440  [{'id': 1, 'name': 'Beautiful', 'count': 25}, ...   \n",
       "2387      1487604924  [{'id': 8, 'name': 'Informative', 'count': 583...   \n",
       "629       1267631820  [{'id': 8, 'name': 'Informative', 'count': 324...   \n",
       "588       1262950320  [{'id': 3, 'name': 'Courageous', 'count': 299}...   \n",
       "640       1268762040  [{'id': 22, 'name': 'Fascinating', 'count': 29...   \n",
       "\n",
       "                                          related_talks  \\\n",
       "202   [{'id': 13, 'hero': 'https://pe.tedcdn.com/ima...   \n",
       "947   [{'id': 32, 'hero': 'https://pe.tedcdn.com/ima...   \n",
       "2421  [{'id': 2695, 'hero': 'https://pe.tedcdn.com/i...   \n",
       "580   [{'id': 187, 'hero': 'https://pe.tedcdn.com/im...   \n",
       "600   [{'id': 98, 'hero': 'https://pe.tedcdn.com/ima...   \n",
       "594   [{'id': 652, 'hero': 'https://pe.tedcdn.com/im...   \n",
       "2387  [{'id': 2625, 'hero': 'https://pe.tedcdn.com/i...   \n",
       "629   [{'id': 194, 'hero': 'https://pe.tedcdn.com/im...   \n",
       "588   [{'id': 229, 'hero': 'https://pe.tedcdn.com/im...   \n",
       "640   [{'id': 635, 'hero': 'https://pe.tedcdn.com/im...   \n",
       "\n",
       "                               speaker_occupation  \\\n",
       "202                                     Architect   \n",
       "947                                   Provocateur   \n",
       "2421  TV journalist, women's empowerment advocate   \n",
       "580                         Political philosopher   \n",
       "600                        Evolutionary biologist   \n",
       "594                                        Author   \n",
       "2387                                    Historian   \n",
       "629                                     Physicist   \n",
       "588                                     Professor   \n",
       "640                              Author, satirist   \n",
       "\n",
       "                                                   tags  \\\n",
       "202   ['architecture', 'collaboration', 'design', 'g...   \n",
       "947          ['creativity', 'culture', 'entertainment']   \n",
       "2421  ['United States', 'collaboration', 'communicat...   \n",
       "580     ['government', 'law', 'philosophy', 'politics']   \n",
       "600   ['biology', 'evolution', 'life', 'science', 'u...   \n",
       "594   ['books', 'disaster relief', 'novel', 'poetry'...   \n",
       "2387  ['big problems', 'climate change', 'collaborat...   \n",
       "629                 ['astronomy', 'physics', 'science']   \n",
       "588   ['culture', 'disease', 'education', 'life', 's...   \n",
       "640   ['biodiversity', 'biology', 'comedy', 'humor',...   \n",
       "\n",
       "                                                  title  \\\n",
       "202                            My days as a young rebel   \n",
       "947            Authentic creativity vs. karaoke culture   \n",
       "2421  Political common ground in a polarized United ...   \n",
       "580                       What's the right thing to do?   \n",
       "600                          Growing up in the universe   \n",
       "594                                    Stories of Haiti   \n",
       "2387  Nationalism vs. globalism: the new political d...   \n",
       "629                           Physics is fun to imagine   \n",
       "588              Really achieving your childhood dreams   \n",
       "640                Parrots, the universe and everything   \n",
       "\n",
       "                                                    url    views  \n",
       "202   https://www.ted.com/talks/frank_gehry_as_a_you...   620806  \n",
       "947   https://www.ted.com/talks/malcolm_mclaren_auth...   251313  \n",
       "2421  https://www.ted.com/talks/gretchen_carlson_dav...   890478  \n",
       "580   https://www.ted.com/talks/michael_sandel_what_...   393459  \n",
       "600   https://www.ted.com/talks/richard_dawkins_grow...   318423  \n",
       "594   https://www.ted.com/talks/edwidge_danticat_sto...    50443  \n",
       "2387  https://www.ted.com/talks/yuval_noah_harari_na...  1514291  \n",
       "629           https://www.ted.com/talks/richard_feynman   521974  \n",
       "588   https://www.ted.com/talks/randy_pausch_really_...   564781  \n",
       "640   https://www.ted.com/talks/douglas_adams_parrot...   473220  "
      ]
     },
     "execution_count": 18,
     "metadata": {},
     "output_type": "execute_result"
    }
   ],
   "source": [
    "ted.sort_values('duration').tail(10)"
   ]
  },
  {
   "cell_type": "markdown",
   "metadata": {},
   "source": [
    "#### 2.2.3\n",
    "What is the 10th longest talk?"
   ]
  },
  {
   "cell_type": "markdown",
   "metadata": {},
   "source": [
    "My days as a young rebel"
   ]
  },
  {
   "cell_type": "markdown",
   "metadata": {},
   "source": [
    "#### 2.2.4\n",
    "What unit of time is the duration in? How do you know?"
   ]
  },
  {
   "cell_type": "code",
   "execution_count": 19,
   "metadata": {},
   "outputs": [],
   "source": [
    "ted['duration_time'] = pd.to_datetime(ted.duration, unit = 's')"
   ]
  },
  {
   "cell_type": "code",
   "execution_count": 20,
   "metadata": {},
   "outputs": [
    {
     "data": {
      "text/html": [
       "<div>\n",
       "<style scoped>\n",
       "    .dataframe tbody tr th:only-of-type {\n",
       "        vertical-align: middle;\n",
       "    }\n",
       "\n",
       "    .dataframe tbody tr th {\n",
       "        vertical-align: top;\n",
       "    }\n",
       "\n",
       "    .dataframe thead th {\n",
       "        text-align: right;\n",
       "    }\n",
       "</style>\n",
       "<table border=\"1\" class=\"dataframe\">\n",
       "  <thead>\n",
       "    <tr style=\"text-align: right;\">\n",
       "      <th></th>\n",
       "      <th>duration_time</th>\n",
       "    </tr>\n",
       "  </thead>\n",
       "  <tbody>\n",
       "    <tr>\n",
       "      <th>0</th>\n",
       "      <td>1970-01-01 00:19:24</td>\n",
       "    </tr>\n",
       "    <tr>\n",
       "      <th>1</th>\n",
       "      <td>1970-01-01 00:16:17</td>\n",
       "    </tr>\n",
       "    <tr>\n",
       "      <th>2</th>\n",
       "      <td>1970-01-01 00:21:26</td>\n",
       "    </tr>\n",
       "    <tr>\n",
       "      <th>3</th>\n",
       "      <td>1970-01-01 00:18:36</td>\n",
       "    </tr>\n",
       "    <tr>\n",
       "      <th>4</th>\n",
       "      <td>1970-01-01 00:19:50</td>\n",
       "    </tr>\n",
       "  </tbody>\n",
       "</table>\n",
       "</div>"
      ],
      "text/plain": [
       "        duration_time\n",
       "0 1970-01-01 00:19:24\n",
       "1 1970-01-01 00:16:17\n",
       "2 1970-01-01 00:21:26\n",
       "3 1970-01-01 00:18:36\n",
       "4 1970-01-01 00:19:50"
      ]
     },
     "execution_count": 20,
     "metadata": {},
     "output_type": "execute_result"
    }
   ],
   "source": [
    "ted[['duration_time']].head(5)"
   ]
  },
  {
   "cell_type": "code",
   "execution_count": 21,
   "metadata": {},
   "outputs": [
    {
     "data": {
      "text/html": [
       "<div>\n",
       "<style scoped>\n",
       "    .dataframe tbody tr th:only-of-type {\n",
       "        vertical-align: middle;\n",
       "    }\n",
       "\n",
       "    .dataframe tbody tr th {\n",
       "        vertical-align: top;\n",
       "    }\n",
       "\n",
       "    .dataframe thead th {\n",
       "        text-align: right;\n",
       "    }\n",
       "</style>\n",
       "<table border=\"1\" class=\"dataframe\">\n",
       "  <thead>\n",
       "    <tr style=\"text-align: right;\">\n",
       "      <th></th>\n",
       "      <th>duration</th>\n",
       "    </tr>\n",
       "  </thead>\n",
       "  <tbody>\n",
       "    <tr>\n",
       "      <th>0</th>\n",
       "      <td>1164</td>\n",
       "    </tr>\n",
       "    <tr>\n",
       "      <th>1</th>\n",
       "      <td>977</td>\n",
       "    </tr>\n",
       "    <tr>\n",
       "      <th>2</th>\n",
       "      <td>1286</td>\n",
       "    </tr>\n",
       "    <tr>\n",
       "      <th>3</th>\n",
       "      <td>1116</td>\n",
       "    </tr>\n",
       "    <tr>\n",
       "      <th>4</th>\n",
       "      <td>1190</td>\n",
       "    </tr>\n",
       "  </tbody>\n",
       "</table>\n",
       "</div>"
      ],
      "text/plain": [
       "   duration\n",
       "0      1164\n",
       "1       977\n",
       "2      1286\n",
       "3      1116\n",
       "4      1190"
      ]
     },
     "execution_count": 21,
     "metadata": {},
     "output_type": "execute_result"
    }
   ],
   "source": [
    "ted[['duration']].head(5)"
   ]
  },
  {
   "cell_type": "code",
   "execution_count": 22,
   "metadata": {},
   "outputs": [
    {
     "data": {
      "text/plain": [
       "19.4"
      ]
     },
     "execution_count": 22,
     "metadata": {},
     "output_type": "execute_result"
    }
   ],
   "source": [
    "# does the duration value correspond to seconds?\n",
    "# check by dividing the duration by 60 to see if this is the same \n",
    "# as the duration time\n",
    "\n",
    "1164/60\n",
    "\n",
    "# 19.4 is equivalent to 19 min 24 sec\n"
   ]
  },
  {
   "cell_type": "markdown",
   "metadata": {},
   "source": [
    "    Duration is in seconds"
   ]
  },
  {
   "cell_type": "markdown",
   "metadata": {},
   "source": [
    "#### 2.2.5\n",
    "Plot the durations as a histogram, using a sensible number of bins. Label your axes. How did you decide how many bins to use?"
   ]
  },
  {
   "cell_type": "code",
   "execution_count": 23,
   "metadata": {},
   "outputs": [
    {
     "data": {
      "text/plain": [
       "<matplotlib.axes._subplots.AxesSubplot at 0x209aa6fdf28>"
      ]
     },
     "execution_count": 23,
     "metadata": {},
     "output_type": "execute_result"
    },
    {
     "data": {
      "image/png": "[encoded data removed]",
      "text/plain": [
       "<Figure size 432x288 with 1 Axes>"
      ]
     },
     "metadata": {
      "needs_background": "light"
     },
     "output_type": "display_data"
    }
   ],
   "source": [
    "ted.duration.plot(kind='hist', bins = 50)"
   ]
  },
  {
   "cell_type": "code",
   "execution_count": 24,
   "metadata": {},
   "outputs": [],
   "source": [
    "#ted.duration.plot(kind='hist', bins = 100)"
   ]
  },
  {
   "cell_type": "code",
   "execution_count": 25,
   "metadata": {},
   "outputs": [],
   "source": [
    "#ted.duration.plot(kind='hist', bins = 80)\n",
    "\n",
    "# there is really not much difference in the general look of the\n",
    "# histograms so I feel that 50 bins is enough to give an idea of the \n",
    "# frequency of different lengths of talks"
   ]
  },
  {
   "cell_type": "markdown",
   "metadata": {},
   "source": [
    "#### 2.2.6\n",
    "Now plot as a box plot. Explain what the box plot is showing: what is the box, what is the line in the middle, what are the dots?"
   ]
  },
  {
   "cell_type": "code",
   "execution_count": 26,
   "metadata": {},
   "outputs": [
    {
     "data": {
      "text/plain": [
       "<matplotlib.axes._subplots.AxesSubplot at 0x209aa7cbba8>"
      ]
     },
     "execution_count": 26,
     "metadata": {},
     "output_type": "execute_result"
    },
    {
     "data": {
      "image/png": "[encoded data removed]",
      "text/plain": [
       "<Figure size 432x288 with 1 Axes>"
      ]
     },
     "metadata": {
      "needs_background": "light"
     },
     "output_type": "display_data"
    }
   ],
   "source": [
    "ted.duration.plot(kind = \"box\")\n"
   ]
  },
  {
   "cell_type": "markdown",
   "metadata": {},
   "source": [
    " The boxplot gives a five number summary, which includes the minimum\n",
    "value, the lower quartile, median, upper quartile, and maximum   value though in this case the maximum value does not include the highest value because there are outliers in this data. The dots represent outliers, which are any values that are more than 1.5 IQR (IQR is the range between the lower and upper quartile) below or above the lower or upper quartile"
   ]
  },
  {
   "cell_type": "markdown",
   "metadata": {},
   "source": [
    "#### 2.2.7\n",
    "Find the median, mean, mode and standard deviation of the durations. Are these consistent with your plots above? Explain."
   ]
  },
  {
   "cell_type": "code",
   "execution_count": 27,
   "metadata": {},
   "outputs": [
    {
     "data": {
      "text/plain": [
       "count    2550.000000\n",
       "mean      826.510196\n",
       "std       374.009138\n",
       "min       135.000000\n",
       "25%       577.000000\n",
       "50%       848.000000\n",
       "75%      1046.750000\n",
       "max      5256.000000\n",
       "Name: duration, dtype: float64"
      ]
     },
     "execution_count": 27,
     "metadata": {},
     "output_type": "execute_result"
    }
   ],
   "source": [
    "ted.duration.describe()"
   ]
  },
  {
   "cell_type": "markdown",
   "metadata": {},
   "source": [
    "#### 2.2.8\n",
    "Is this a normal distribution? Explain. How does this affect your analysis above?"
   ]
  },
  {
   "cell_type": "markdown",
   "metadata": {},
   "source": [
    "This data set is right skewed because of all of the outliers. This could impact the above analysis by inflating the mean and it effects the standard deviation. Median values are more resistant to the effects of outliers\n"
   ]
  },
  {
   "cell_type": "markdown",
   "metadata": {},
   "source": [
    "#### 2.3.1-4\n",
    "\n",
    "Going back to the tutorial, make sure you have created the film_datetime variable\n",
    "\n",
    "In the command:\n",
    "\n",
    "ted.film_datetime.dt.year.value_counts().sort_index()\n",
    "\n",
    "What do the dt, year, value_counts and sort_index commands do? Explain each one and demonstrate"
   ]
  },
  {
   "cell_type": "code",
   "execution_count": 28,
   "metadata": {},
   "outputs": [],
   "source": [
    "ted['film_datetime'] = pd.to_datetime(ted.film_date, unit = 's')"
   ]
  },
  {
   "cell_type": "code",
   "execution_count": 29,
   "metadata": {},
   "outputs": [],
   "source": [
    "#ted.film_datetime.dt.year"
   ]
  },
  {
   "cell_type": "code",
   "execution_count": 30,
   "metadata": {},
   "outputs": [
    {
     "data": {
      "text/plain": [
       "1972      1\n",
       "1983      1\n",
       "1984      1\n",
       "1990      1\n",
       "1991      1\n",
       "1994      1\n",
       "1998      6\n",
       "2001      5\n",
       "2002     27\n",
       "2003     33\n",
       "2004     33\n",
       "2005     66\n",
       "2006     50\n",
       "2007    114\n",
       "2008     84\n",
       "2009    232\n",
       "2010    267\n",
       "2011    270\n",
       "2012    267\n",
       "2013    270\n",
       "2014    237\n",
       "2015    239\n",
       "2016    246\n",
       "2017     98\n",
       "Name: film_datetime, dtype: int64"
      ]
     },
     "execution_count": 30,
     "metadata": {},
     "output_type": "execute_result"
    }
   ],
   "source": [
    "ted.film_datetime.dt.year.value_counts().sort_index()"
   ]
  },
  {
   "cell_type": "markdown",
   "metadata": {},
   "source": [
    ".dt accesses objects that have date time properties\n",
    ".year groups by year\n",
    ".value_counts gives a count of how many talks there are per year\n",
    ".sort_index sorts the counts by year"
   ]
  },
  {
   "cell_type": "markdown",
   "metadata": {},
   "source": [
    "#### 2.3.2\n",
    "Research another way to use the pandas datatime data to analyse the Ted Talks. Explain your methods"
   ]
  },
  {
   "cell_type": "code",
   "execution_count": 37,
   "metadata": {},
   "outputs": [
    {
     "data": {
      "text/html": [
       "<div>\n",
       "<style scoped>\n",
       "    .dataframe tbody tr th:only-of-type {\n",
       "        vertical-align: middle;\n",
       "    }\n",
       "\n",
       "    .dataframe tbody tr th {\n",
       "        vertical-align: top;\n",
       "    }\n",
       "\n",
       "    .dataframe thead th {\n",
       "        text-align: right;\n",
       "    }\n",
       "</style>\n",
       "<table border=\"1\" class=\"dataframe\">\n",
       "  <thead>\n",
       "    <tr style=\"text-align: right;\">\n",
       "      <th></th>\n",
       "      <th>views</th>\n",
       "      <th>film_datetime</th>\n",
       "    </tr>\n",
       "  </thead>\n",
       "  <tbody>\n",
       "    <tr>\n",
       "      <th>0</th>\n",
       "      <td>47227110</td>\n",
       "      <td>2006-02-25</td>\n",
       "    </tr>\n",
       "    <tr>\n",
       "      <th>1</th>\n",
       "      <td>3200520</td>\n",
       "      <td>2006-02-25</td>\n",
       "    </tr>\n",
       "    <tr>\n",
       "      <th>2</th>\n",
       "      <td>1636292</td>\n",
       "      <td>2006-02-24</td>\n",
       "    </tr>\n",
       "    <tr>\n",
       "      <th>3</th>\n",
       "      <td>1697550</td>\n",
       "      <td>2006-02-26</td>\n",
       "    </tr>\n",
       "    <tr>\n",
       "      <th>4</th>\n",
       "      <td>12005869</td>\n",
       "      <td>2006-02-22</td>\n",
       "    </tr>\n",
       "    <tr>\n",
       "      <th>5</th>\n",
       "      <td>20685401</td>\n",
       "      <td>2006-02-02</td>\n",
       "    </tr>\n",
       "    <tr>\n",
       "      <th>6</th>\n",
       "      <td>3769987</td>\n",
       "      <td>2006-02-24</td>\n",
       "    </tr>\n",
       "    <tr>\n",
       "      <th>7</th>\n",
       "      <td>967741</td>\n",
       "      <td>2006-02-23</td>\n",
       "    </tr>\n",
       "    <tr>\n",
       "      <th>8</th>\n",
       "      <td>2567958</td>\n",
       "      <td>2006-02-02</td>\n",
       "    </tr>\n",
       "    <tr>\n",
       "      <th>9</th>\n",
       "      <td>3095993</td>\n",
       "      <td>2006-02-25</td>\n",
       "    </tr>\n",
       "  </tbody>\n",
       "</table>\n",
       "</div>"
      ],
      "text/plain": [
       "      views film_datetime\n",
       "0  47227110    2006-02-25\n",
       "1   3200520    2006-02-25\n",
       "2   1636292    2006-02-24\n",
       "3   1697550    2006-02-26\n",
       "4  12005869    2006-02-22\n",
       "5  20685401    2006-02-02\n",
       "6   3769987    2006-02-24\n",
       "7    967741    2006-02-23\n",
       "8   2567958    2006-02-02\n",
       "9   3095993    2006-02-25"
      ]
     },
     "execution_count": 37,
     "metadata": {},
     "output_type": "execute_result"
    }
   ],
   "source": [
    "#Do the number of veiws increase with the age of the talk?\n",
    "ted[['views','film_datetime']].head(10)"
   ]
  },
  {
   "cell_type": "code",
   "execution_count": 53,
   "metadata": {},
   "outputs": [
    {
     "data": {
      "text/plain": [
       "<matplotlib.axes._subplots.AxesSubplot at 0x209aaddbb70>"
      ]
     },
     "execution_count": 53,
     "metadata": {},
     "output_type": "execute_result"
    },
    {
     "data": {
      "image/png": "[encoded data removed]",
      "text/plain": [
       "<Figure size 432x288 with 1 Axes>"
      ]
     },
     "metadata": {
      "needs_background": "light"
     },
     "output_type": "display_data"
    }
   ],
   "source": [
    "ted.plot(\"film_datetime\", \"views\")\n",
    "# it does not look like the numbe of views increases in general with the \n",
    "# age of the talk , though the newer talks do have lower\n",
    "# numbres of views in general"
   ]
  },
  {
   "cell_type": "markdown",
   "metadata": {},
   "source": [
    "#### 2.3.3\n",
    "Get creative! Now it is time for you to do some analysis on your own using the TED Talks dataset. Find a few ineresting ways to analyse this data set, which you will present to the class on Thursday."
   ]
  },
  {
   "cell_type": "code",
   "execution_count": 61,
   "metadata": {},
   "outputs": [
    {
     "data": {
      "text/plain": [
       "Writer                                   45\n",
       "Designer                                 34\n",
       "Artist                                   34\n",
       "Journalist                               33\n",
       "Entrepreneur                             31\n",
       "Architect                                30\n",
       "Inventor                                 27\n",
       "Psychologist                             26\n",
       "Photographer                             25\n",
       "Filmmaker                                21\n",
       "Author                                   20\n",
       "Economist                                20\n",
       "Educator                                 20\n",
       "Neuroscientist                           20\n",
       "Philosopher                              16\n",
       "Roboticist                               16\n",
       "Biologist                                15\n",
       "Physicist                                14\n",
       "Musician                                 11\n",
       "Marine biologist                         11\n",
       "Activist                                 10\n",
       "Global health expert; data visionary     10\n",
       "Technologist                             10\n",
       "Astronomer                                9\n",
       "Singer/songwriter                         9\n",
       "Philanthropist                            9\n",
       "Historian                                 9\n",
       "Behavioral economist                      9\n",
       "Graphic designer                          9\n",
       "Oceanographer                             9\n",
       "                                         ..\n",
       "Border specialist                         1\n",
       "Model                                     1\n",
       "Artist, musician, lawyer, activist        1\n",
       "President of Mauritius                    1\n",
       "Airborne ecologist                        1\n",
       "Revolutionary Guitarist                   1\n",
       "Health psychologist                       1\n",
       "Journalist, news anchor                   1\n",
       "Endurance runner                          1\n",
       "Singer, musician, composer                1\n",
       "Figurer                                   1\n",
       "Cuban health care expert                  1\n",
       "Comedian and writer                       1\n",
       "Cognitive researcher                      1\n",
       "Comedian + Designer                       1\n",
       "Museum director                           1\n",
       "Founder, GrameenPhone                     1\n",
       "Illusionist, endurance artist             1\n",
       "Medical inventor                          1\n",
       "Writer and poet                           1\n",
       "Deputy director, NSA                      1\n",
       "Digital money and identity consultant     1\n",
       "Film critic and blogger                   1\n",
       "Pediatric anesthesiologist                1\n",
       "Polar photographer                        1\n",
       "Researchers' dream donator                1\n",
       "Evolutionary psychologist                 1\n",
       "Biologist, biomechanics researcher        1\n",
       "Theater producer                          1\n",
       "Blogger; cofounder, Six Apart             1\n",
       "Name: speaker_occupation, Length: 1458, dtype: int64"
      ]
     },
     "execution_count": 61,
     "metadata": {},
     "output_type": "execute_result"
    }
   ],
   "source": [
    "#What is the most common occuaption?\n",
    "ted.speaker_occupation.value_counts()\n",
    "\n"
   ]
  },
  {
   "cell_type": "markdown",
   "metadata": {},
   "source": [
    "## 2.3.5\n",
    "    Why does the data need to be manipulated this way to plot it?\n",
    "    \n",
    "    What was the research question?"
   ]
  },
  {
   "cell_type": "code",
   "execution_count": null,
   "metadata": {},
   "outputs": [],
   "source": []
  },
  {
   "cell_type": "code",
   "execution_count": null,
   "metadata": {},
   "outputs": [],
   "source": []
  },
  {
   "cell_type": "code",
   "execution_count": null,
   "metadata": {},
   "outputs": [],
   "source": []
  },
  {
   "cell_type": "code",
   "execution_count": null,
   "metadata": {},
   "outputs": [],
   "source": []
  },
  {
   "cell_type": "markdown",
   "metadata": {},
   "source": [
    "## 2.3.6\n",
    "    Remake the plot and label your axes"
   ]
  },
  {
   "cell_type": "code",
   "execution_count": 31,
   "metadata": {},
   "outputs": [
    {
     "data": {
      "text/plain": [
       "Text(0, 0.5, 'Number of TedTalks?')"
      ]
     },
     "execution_count": 31,
     "metadata": {},
     "output_type": "execute_result"
    },
    {
     "data": {
      "image/png": "[encoded data removed]",
      "text/plain": [
       "<Figure size 432x288 with 1 Axes>"
      ]
     },
     "metadata": {
      "needs_background": "light"
     },
     "output_type": "display_data"
    }
   ],
   "source": [
    "ted.film_datetime.dt.year.value_counts().sort_index().plot()\n",
    "plt.xlabel('Year')\n",
    "plt.ylabel(\"Number of Ted Talks\")"
   ]
  },
  {
   "cell_type": "code",
   "execution_count": null,
   "metadata": {},
   "outputs": [],
   "source": []
  },
  {
   "cell_type": "markdown",
   "metadata": {},
   "source": [
    "## Bonus \n",
    "    Could you make a similar plot, say a histogram, and get \n",
    "    the same information?"
   ]
  },
  {
   "cell_type": "code",
   "execution_count": 32,
   "metadata": {},
   "outputs": [
    {
     "data": {
      "text/plain": [
       "<matplotlib.axes._subplots.AxesSubplot at 0x209aa9098d0>"
      ]
     },
     "execution_count": 32,
     "metadata": {},
     "output_type": "execute_result"
    },
    {
     "data": {
      "image/png": "[encoded data removed]",
      "text/plain": [
       "<Figure size 432x288 with 1 Axes>"
      ]
     },
     "metadata": {
      "needs_background": "light"
     },
     "output_type": "display_data"
    }
   ],
   "source": [
    "ted.film_datetime.dt.year.value_counts().sort_index().plot(kind = 'hist')\n",
    "# a histogram does not give the same information it\n",
    "# looks like it is giving the frequency that a year had x number of talks"
   ]
  },
  {
   "cell_type": "markdown",
   "metadata": {},
   "source": [
    "## 3. More PANDAS (if time)\n",
    "\n",
    "Review the following PANDAS for ecology tutorial and pick a few topics to work on:\n",
    "\n",
    "https://datacarpentry.org/python-ecology-lesson/\n",
    "\n",
    "Explain your methods in words and comment your code.\n",
    "\n",
    "#### Note the above is a good reference for basic pandas operations.\n",
    "\n"
   ]
  },
  {
   "cell_type": "code",
   "execution_count": null,
   "metadata": {},
   "outputs": [],
   "source": []
  }
 ],
 "metadata": {
  "kernelspec": {
   "display_name": "Python 3",
   "language": "python",
   "name": "python3"
  },
  "language_info": {
   "codemirror_mode": {
    "name": "ipython",
    "version": 3
   },
   "file_extension": ".py",
   "mimetype": "text/x-python",
   "name": "python",
   "nbconvert_exporter": "python",
   "pygments_lexer": "ipython3",
   "version": "3.7.3"
  }
 },
 "nbformat": 4,
 "nbformat_minor": 4
}
