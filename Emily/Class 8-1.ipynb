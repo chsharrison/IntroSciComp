{
 "cells": [
  {
   "cell_type": "markdown",
   "metadata": {},
   "source": [
    "# Lecure 8.1 Correlation and linear regression"
   ]
  },
  {
   "cell_type": "markdown",
   "metadata": {},
   "source": [
    "## Announcement: Syllabus updates for the next two weeks:\n",
    "\n",
    "This week (week 8): \n",
    "- (T, today) introduction to linear models \n",
    "- (Th) Netcdf files and analyzing model output\n",
    "\n",
    "Week 9 : \n",
    "- (T) More on plotting and analysing netcdf files (guest lecture by Riley Brady)\n",
    "- (TH) GIS and python, R vs. python (guest lecture by Tom Yamashita)\n",
    "- Homework: Research topics due\n",
    " \n",
    "Week 10: \n",
    "- (T) General linear models in R (guest lecture by Chris Gabler)\n",
    "- (Th) Presentation of research topics, Predator Prey Modeling\n"
   ]
  },
  {
   "cell_type": "markdown",
   "metadata": {},
   "source": [
    "## 8.1.1 Student analyis presentations (HW from last week)"
   ]
  },
  {
   "cell_type": "code",
   "execution_count": 1,
   "metadata": {},
   "outputs": [],
   "source": [
    "#how to drop NaN\n",
    "# df.dropna  df is the name of the data frame"
   ]
  },
  {
   "cell_type": "markdown",
   "metadata": {},
   "source": [
    "## 8.1.2 Correlation"
   ]
  },
  {
   "cell_type": "markdown",
   "metadata": {},
   "source": [
    "We touched on correlation preivously. Let's dive in."
   ]
  },
  {
   "cell_type": "markdown",
   "metadata": {},
   "source": [
    "### A note of caution:\n",
    "\n",
    "\"Correlation does not imply causation\"\n",
    "\n",
    "Example:\n",
    "As ice cream sales increase, the rate of drowning deaths increases sharply.\n",
    "Therefore, ice cream consumption causes drowning."
   ]
  },
  {
   "cell_type": "markdown",
   "metadata": {},
   "source": [
    "When we get data, we want to describe how variables relate to each other. The simplest question we can ask are two variables correlated, that is do they change togehter?"
   ]
  },
  {
   "cell_type": "markdown",
   "metadata": {},
   "source": [
    "The metric we use for correlation is the Pearson correlation coefficient, which is hard to grasp intuitively from looking at the equation (see https://en.wikipedia.org/wiki/Correlation_and_dependence). Basically, correlation is a measure of how linearly correlated two variables are, and has values between 1 and -1. If the two variables fall on a straight line and the both increase together, then the correlation is 1. If one increases while the other decreases, the correlation is -1. Correlations near zero mean the two variables are not correlated. "
   ]
  },
  {
   "cell_type": "markdown",
   "metadata": {},
   "source": [
    "Let's use the movie data we worked with previously to test if budgets and gross earnings are correlated"
   ]
  },
  {
   "cell_type": "code",
   "execution_count": 2,
   "metadata": {},
   "outputs": [],
   "source": [
    "import numpy as np\n",
    "import matplotlib.pyplot as plt\n",
    "%matplotlib inline\n",
    "import pandas as pd"
   ]
  },
  {
   "cell_type": "code",
   "execution_count": 3,
   "metadata": {},
   "outputs": [],
   "source": [
    "file = \"movies.xls\"\n",
    "movies_sheet1 = pd.read_excel(file, sheet_name=0, index_col=0)\n",
    "movies_sheet2 = pd.read_excel(file, sheet_name=1, index_col=0)\n",
    "movies_sheet3 = pd.read_excel(file, sheet_name=2, index_col=0)\n",
    "movies = pd.concat([movies_sheet1, movies_sheet2, movies_sheet3])"
   ]
  },
  {
   "cell_type": "code",
   "execution_count": 4,
   "metadata": {},
   "outputs": [
    {
     "data": {
      "text/plain": [
       "(0, 1000000000.0)"
      ]
     },
     "execution_count": 4,
     "metadata": {},
     "output_type": "execute_result"
    },
    {
     "data": {
      "image/png": "[encoded data removed]",
      "text/plain": [
       "<Figure size 432x288 with 1 Axes>"
      ]
     },
     "metadata": {
      "needs_background": "light"
     },
     "output_type": "display_data"
    }
   ],
   "source": [
    "# plot Budget vs Gross Earnings\n",
    "plt.scatter(movies['Budget'], movies['Gross Earnings'])\n",
    "plt.plot([0,1E10],[0,1E10], 'k--')\n",
    "plt.xlabel('Budget')\n",
    "plt.ylabel('Gross Earnings')\n",
    "plt.xlim([0,0.1E10])\n",
    "plt.ylim([0,1E9])"
   ]
  },
  {
   "cell_type": "markdown",
   "metadata": {},
   "source": [
    "In the above I have added the y=x line to visualize if the gross earnings were above the budget. \n",
    "Because many of the data points are on top of each other, it is difficult to assess visually the relationship between the two variables"
   ]
  },
  {
   "cell_type": "markdown",
   "metadata": {},
   "source": [
    "Note that pandas allows us to get the correlation of the entire dataframe all at once. There are many other packages that will do this as well, including numpy."
   ]
  },
  {
   "cell_type": "code",
   "execution_count": 5,
   "metadata": {},
   "outputs": [
    {
     "data": {
      "text/html": [
       "<div>\n",
       "<style scoped>\n",
       "    .dataframe tbody tr th:only-of-type {\n",
       "        vertical-align: middle;\n",
       "    }\n",
       "\n",
       "    .dataframe tbody tr th {\n",
       "        vertical-align: top;\n",
       "    }\n",
       "\n",
       "    .dataframe thead th {\n",
       "        text-align: right;\n",
       "    }\n",
       "</style>\n",
       "<table border=\"1\" class=\"dataframe\">\n",
       "  <thead>\n",
       "    <tr style=\"text-align: right;\">\n",
       "      <th></th>\n",
       "      <th>Year</th>\n",
       "      <th>Duration</th>\n",
       "      <th>Aspect Ratio</th>\n",
       "      <th>Budget</th>\n",
       "      <th>Gross Earnings</th>\n",
       "      <th>Facebook Likes - Director</th>\n",
       "      <th>Facebook Likes - Actor 1</th>\n",
       "      <th>Facebook Likes - Actor 2</th>\n",
       "      <th>Facebook Likes - Actor 3</th>\n",
       "      <th>Facebook Likes - cast Total</th>\n",
       "      <th>Facebook likes - Movie</th>\n",
       "      <th>Facenumber in posters</th>\n",
       "      <th>User Votes</th>\n",
       "      <th>Reviews by Users</th>\n",
       "      <th>Reviews by Crtiics</th>\n",
       "      <th>IMDB Score</th>\n",
       "    </tr>\n",
       "  </thead>\n",
       "  <tbody>\n",
       "    <tr>\n",
       "      <th>Year</th>\n",
       "      <td>1.000000</td>\n",
       "      <td>-0.135038</td>\n",
       "      <td>0.159973</td>\n",
       "      <td>0.045726</td>\n",
       "      <td>0.030886</td>\n",
       "      <td>-0.063820</td>\n",
       "      <td>0.086873</td>\n",
       "      <td>0.101890</td>\n",
       "      <td>0.096137</td>\n",
       "      <td>0.109971</td>\n",
       "      <td>0.218678</td>\n",
       "      <td>0.061504</td>\n",
       "      <td>0.007397</td>\n",
       "      <td>-0.003147</td>\n",
       "      <td>0.275707</td>\n",
       "      <td>-0.209167</td>\n",
       "    </tr>\n",
       "    <tr>\n",
       "      <th>Duration</th>\n",
       "      <td>-0.135038</td>\n",
       "      <td>1.000000</td>\n",
       "      <td>-0.090071</td>\n",
       "      <td>0.074276</td>\n",
       "      <td>0.250298</td>\n",
       "      <td>0.173296</td>\n",
       "      <td>0.088449</td>\n",
       "      <td>0.131673</td>\n",
       "      <td>0.123558</td>\n",
       "      <td>0.123074</td>\n",
       "      <td>0.196605</td>\n",
       "      <td>0.013469</td>\n",
       "      <td>0.314765</td>\n",
       "      <td>0.328403</td>\n",
       "      <td>0.258486</td>\n",
       "      <td>0.261662</td>\n",
       "    </tr>\n",
       "    <tr>\n",
       "      <th>Aspect Ratio</th>\n",
       "      <td>0.159973</td>\n",
       "      <td>-0.090071</td>\n",
       "      <td>1.000000</td>\n",
       "      <td>0.006598</td>\n",
       "      <td>0.069346</td>\n",
       "      <td>0.001642</td>\n",
       "      <td>-0.020049</td>\n",
       "      <td>-0.007783</td>\n",
       "      <td>-0.003366</td>\n",
       "      <td>-0.017885</td>\n",
       "      <td>0.025737</td>\n",
       "      <td>0.013713</td>\n",
       "      <td>-0.014761</td>\n",
       "      <td>-0.024719</td>\n",
       "      <td>-0.049786</td>\n",
       "      <td>0.059445</td>\n",
       "    </tr>\n",
       "    <tr>\n",
       "      <th>Budget</th>\n",
       "      <td>0.045726</td>\n",
       "      <td>0.074276</td>\n",
       "      <td>0.006598</td>\n",
       "      <td>1.000000</td>\n",
       "      <td>0.102179</td>\n",
       "      <td>0.021090</td>\n",
       "      <td>0.022639</td>\n",
       "      <td>0.044236</td>\n",
       "      <td>0.047451</td>\n",
       "      <td>0.036557</td>\n",
       "      <td>0.062039</td>\n",
       "      <td>-0.019559</td>\n",
       "      <td>0.079621</td>\n",
       "      <td>0.084292</td>\n",
       "      <td>0.119994</td>\n",
       "      <td>0.030688</td>\n",
       "    </tr>\n",
       "    <tr>\n",
       "      <th>Gross Earnings</th>\n",
       "      <td>0.030886</td>\n",
       "      <td>0.250298</td>\n",
       "      <td>0.069346</td>\n",
       "      <td>0.102179</td>\n",
       "      <td>1.000000</td>\n",
       "      <td>0.144945</td>\n",
       "      <td>0.154468</td>\n",
       "      <td>0.262768</td>\n",
       "      <td>0.308026</td>\n",
       "      <td>0.247400</td>\n",
       "      <td>0.378082</td>\n",
       "      <td>-0.027755</td>\n",
       "      <td>0.637271</td>\n",
       "      <td>0.559958</td>\n",
       "      <td>0.480601</td>\n",
       "      <td>0.198021</td>\n",
       "    </tr>\n",
       "    <tr>\n",
       "      <th>Facebook Likes - Director</th>\n",
       "      <td>-0.063820</td>\n",
       "      <td>0.173296</td>\n",
       "      <td>0.001642</td>\n",
       "      <td>0.021090</td>\n",
       "      <td>0.144945</td>\n",
       "      <td>1.000000</td>\n",
       "      <td>0.090707</td>\n",
       "      <td>0.119587</td>\n",
       "      <td>0.120199</td>\n",
       "      <td>0.119532</td>\n",
       "      <td>0.162036</td>\n",
       "      <td>-0.041297</td>\n",
       "      <td>0.297045</td>\n",
       "      <td>0.221890</td>\n",
       "      <td>0.180674</td>\n",
       "      <td>0.170834</td>\n",
       "    </tr>\n",
       "    <tr>\n",
       "      <th>Facebook Likes - Actor 1</th>\n",
       "      <td>0.086873</td>\n",
       "      <td>0.088449</td>\n",
       "      <td>-0.020049</td>\n",
       "      <td>0.022639</td>\n",
       "      <td>0.154468</td>\n",
       "      <td>0.090707</td>\n",
       "      <td>1.000000</td>\n",
       "      <td>0.390466</td>\n",
       "      <td>0.249927</td>\n",
       "      <td>0.951660</td>\n",
       "      <td>0.135320</td>\n",
       "      <td>0.072204</td>\n",
       "      <td>0.192763</td>\n",
       "      <td>0.145461</td>\n",
       "      <td>0.190016</td>\n",
       "      <td>0.076153</td>\n",
       "    </tr>\n",
       "    <tr>\n",
       "      <th>Facebook Likes - Actor 2</th>\n",
       "      <td>0.101890</td>\n",
       "      <td>0.131673</td>\n",
       "      <td>-0.007783</td>\n",
       "      <td>0.044236</td>\n",
       "      <td>0.262768</td>\n",
       "      <td>0.119587</td>\n",
       "      <td>0.390466</td>\n",
       "      <td>1.000000</td>\n",
       "      <td>0.559662</td>\n",
       "      <td>0.628389</td>\n",
       "      <td>0.243464</td>\n",
       "      <td>0.071177</td>\n",
       "      <td>0.270755</td>\n",
       "      <td>0.219496</td>\n",
       "      <td>0.282306</td>\n",
       "      <td>0.083860</td>\n",
       "    </tr>\n",
       "    <tr>\n",
       "      <th>Facebook Likes - Actor 3</th>\n",
       "      <td>0.096137</td>\n",
       "      <td>0.123558</td>\n",
       "      <td>-0.003366</td>\n",
       "      <td>0.047451</td>\n",
       "      <td>0.308026</td>\n",
       "      <td>0.120199</td>\n",
       "      <td>0.249927</td>\n",
       "      <td>0.559662</td>\n",
       "      <td>1.000000</td>\n",
       "      <td>0.473920</td>\n",
       "      <td>0.278844</td>\n",
       "      <td>0.099368</td>\n",
       "      <td>0.287239</td>\n",
       "      <td>0.230189</td>\n",
       "      <td>0.271646</td>\n",
       "      <td>0.052633</td>\n",
       "    </tr>\n",
       "    <tr>\n",
       "      <th>Facebook Likes - cast Total</th>\n",
       "      <td>0.109971</td>\n",
       "      <td>0.123074</td>\n",
       "      <td>-0.017885</td>\n",
       "      <td>0.036557</td>\n",
       "      <td>0.247400</td>\n",
       "      <td>0.119532</td>\n",
       "      <td>0.951660</td>\n",
       "      <td>0.628389</td>\n",
       "      <td>0.473920</td>\n",
       "      <td>1.000000</td>\n",
       "      <td>0.209754</td>\n",
       "      <td>0.091410</td>\n",
       "      <td>0.265865</td>\n",
       "      <td>0.206923</td>\n",
       "      <td>0.263203</td>\n",
       "      <td>0.085854</td>\n",
       "    </tr>\n",
       "    <tr>\n",
       "      <th>Facebook likes - Movie</th>\n",
       "      <td>0.218678</td>\n",
       "      <td>0.196605</td>\n",
       "      <td>0.025737</td>\n",
       "      <td>0.062039</td>\n",
       "      <td>0.378082</td>\n",
       "      <td>0.162036</td>\n",
       "      <td>0.135320</td>\n",
       "      <td>0.243464</td>\n",
       "      <td>0.278844</td>\n",
       "      <td>0.209754</td>\n",
       "      <td>1.000000</td>\n",
       "      <td>0.008866</td>\n",
       "      <td>0.537905</td>\n",
       "      <td>0.400594</td>\n",
       "      <td>0.683176</td>\n",
       "      <td>0.247106</td>\n",
       "    </tr>\n",
       "    <tr>\n",
       "      <th>Facenumber in posters</th>\n",
       "      <td>0.061504</td>\n",
       "      <td>0.013469</td>\n",
       "      <td>0.013713</td>\n",
       "      <td>-0.019559</td>\n",
       "      <td>-0.027755</td>\n",
       "      <td>-0.041297</td>\n",
       "      <td>0.072204</td>\n",
       "      <td>0.071177</td>\n",
       "      <td>0.099368</td>\n",
       "      <td>0.091410</td>\n",
       "      <td>0.008866</td>\n",
       "      <td>1.000000</td>\n",
       "      <td>-0.027082</td>\n",
       "      <td>-0.069018</td>\n",
       "      <td>-0.033897</td>\n",
       "      <td>-0.062883</td>\n",
       "    </tr>\n",
       "    <tr>\n",
       "      <th>User Votes</th>\n",
       "      <td>0.007397</td>\n",
       "      <td>0.314765</td>\n",
       "      <td>-0.014761</td>\n",
       "      <td>0.079621</td>\n",
       "      <td>0.637271</td>\n",
       "      <td>0.297045</td>\n",
       "      <td>0.192763</td>\n",
       "      <td>0.270755</td>\n",
       "      <td>0.287239</td>\n",
       "      <td>0.265865</td>\n",
       "      <td>0.537905</td>\n",
       "      <td>-0.027082</td>\n",
       "      <td>1.000000</td>\n",
       "      <td>0.798406</td>\n",
       "      <td>0.624943</td>\n",
       "      <td>0.411064</td>\n",
       "    </tr>\n",
       "    <tr>\n",
       "      <th>Reviews by Users</th>\n",
       "      <td>-0.003147</td>\n",
       "      <td>0.328403</td>\n",
       "      <td>-0.024719</td>\n",
       "      <td>0.084292</td>\n",
       "      <td>0.559958</td>\n",
       "      <td>0.221890</td>\n",
       "      <td>0.145461</td>\n",
       "      <td>0.219496</td>\n",
       "      <td>0.230189</td>\n",
       "      <td>0.206923</td>\n",
       "      <td>0.400594</td>\n",
       "      <td>-0.069018</td>\n",
       "      <td>0.798406</td>\n",
       "      <td>1.000000</td>\n",
       "      <td>0.609387</td>\n",
       "      <td>0.292475</td>\n",
       "    </tr>\n",
       "    <tr>\n",
       "      <th>Reviews by Crtiics</th>\n",
       "      <td>0.275707</td>\n",
       "      <td>0.258486</td>\n",
       "      <td>-0.049786</td>\n",
       "      <td>0.119994</td>\n",
       "      <td>0.480601</td>\n",
       "      <td>0.180674</td>\n",
       "      <td>0.190016</td>\n",
       "      <td>0.282306</td>\n",
       "      <td>0.271646</td>\n",
       "      <td>0.263203</td>\n",
       "      <td>0.683176</td>\n",
       "      <td>-0.033897</td>\n",
       "      <td>0.624943</td>\n",
       "      <td>0.609387</td>\n",
       "      <td>1.000000</td>\n",
       "      <td>0.305303</td>\n",
       "    </tr>\n",
       "    <tr>\n",
       "      <th>IMDB Score</th>\n",
       "      <td>-0.209167</td>\n",
       "      <td>0.261662</td>\n",
       "      <td>0.059445</td>\n",
       "      <td>0.030688</td>\n",
       "      <td>0.198021</td>\n",
       "      <td>0.170834</td>\n",
       "      <td>0.076153</td>\n",
       "      <td>0.083860</td>\n",
       "      <td>0.052633</td>\n",
       "      <td>0.085854</td>\n",
       "      <td>0.247106</td>\n",
       "      <td>-0.062883</td>\n",
       "      <td>0.411064</td>\n",
       "      <td>0.292475</td>\n",
       "      <td>0.305303</td>\n",
       "      <td>1.000000</td>\n",
       "    </tr>\n",
       "  </tbody>\n",
       "</table>\n",
       "</div>"
      ],
      "text/plain": [
       "                                 Year  Duration  Aspect Ratio    Budget  \\\n",
       "Year                         1.000000 -0.135038      0.159973  0.045726   \n",
       "Duration                    -0.135038  1.000000     -0.090071  0.074276   \n",
       "Aspect Ratio                 0.159973 -0.090071      1.000000  0.006598   \n",
       "Budget                       0.045726  0.074276      0.006598  1.000000   \n",
       "Gross Earnings               0.030886  0.250298      0.069346  0.102179   \n",
       "Facebook Likes - Director   -0.063820  0.173296      0.001642  0.021090   \n",
       "Facebook Likes - Actor 1     0.086873  0.088449     -0.020049  0.022639   \n",
       "Facebook Likes - Actor 2     0.101890  0.131673     -0.007783  0.044236   \n",
       "Facebook Likes - Actor 3     0.096137  0.123558     -0.003366  0.047451   \n",
       "Facebook Likes - cast Total  0.109971  0.123074     -0.017885  0.036557   \n",
       "Facebook likes - Movie       0.218678  0.196605      0.025737  0.062039   \n",
       "Facenumber in posters        0.061504  0.013469      0.013713 -0.019559   \n",
       "User Votes                   0.007397  0.314765     -0.014761  0.079621   \n",
       "Reviews by Users            -0.003147  0.328403     -0.024719  0.084292   \n",
       "Reviews by Crtiics           0.275707  0.258486     -0.049786  0.119994   \n",
       "IMDB Score                  -0.209167  0.261662      0.059445  0.030688   \n",
       "\n",
       "                             Gross Earnings  Facebook Likes - Director  \\\n",
       "Year                               0.030886                  -0.063820   \n",
       "Duration                           0.250298                   0.173296   \n",
       "Aspect Ratio                       0.069346                   0.001642   \n",
       "Budget                             0.102179                   0.021090   \n",
       "Gross Earnings                     1.000000                   0.144945   \n",
       "Facebook Likes - Director          0.144945                   1.000000   \n",
       "Facebook Likes - Actor 1           0.154468                   0.090707   \n",
       "Facebook Likes - Actor 2           0.262768                   0.119587   \n",
       "Facebook Likes - Actor 3           0.308026                   0.120199   \n",
       "Facebook Likes - cast Total        0.247400                   0.119532   \n",
       "Facebook likes - Movie             0.378082                   0.162036   \n",
       "Facenumber in posters             -0.027755                  -0.041297   \n",
       "User Votes                         0.637271                   0.297045   \n",
       "Reviews by Users                   0.559958                   0.221890   \n",
       "Reviews by Crtiics                 0.480601                   0.180674   \n",
       "IMDB Score                         0.198021                   0.170834   \n",
       "\n",
       "                             Facebook Likes - Actor 1  \\\n",
       "Year                                         0.086873   \n",
       "Duration                                     0.088449   \n",
       "Aspect Ratio                                -0.020049   \n",
       "Budget                                       0.022639   \n",
       "Gross Earnings                               0.154468   \n",
       "Facebook Likes - Director                    0.090707   \n",
       "Facebook Likes - Actor 1                     1.000000   \n",
       "Facebook Likes - Actor 2                     0.390466   \n",
       "Facebook Likes - Actor 3                     0.249927   \n",
       "Facebook Likes - cast Total                  0.951660   \n",
       "Facebook likes - Movie                       0.135320   \n",
       "Facenumber in posters                        0.072204   \n",
       "User Votes                                   0.192763   \n",
       "Reviews by Users                             0.145461   \n",
       "Reviews by Crtiics                           0.190016   \n",
       "IMDB Score                                   0.076153   \n",
       "\n",
       "                             Facebook Likes - Actor 2  \\\n",
       "Year                                         0.101890   \n",
       "Duration                                     0.131673   \n",
       "Aspect Ratio                                -0.007783   \n",
       "Budget                                       0.044236   \n",
       "Gross Earnings                               0.262768   \n",
       "Facebook Likes - Director                    0.119587   \n",
       "Facebook Likes - Actor 1                     0.390466   \n",
       "Facebook Likes - Actor 2                     1.000000   \n",
       "Facebook Likes - Actor 3                     0.559662   \n",
       "Facebook Likes - cast Total                  0.628389   \n",
       "Facebook likes - Movie                       0.243464   \n",
       "Facenumber in posters                        0.071177   \n",
       "User Votes                                   0.270755   \n",
       "Reviews by Users                             0.219496   \n",
       "Reviews by Crtiics                           0.282306   \n",
       "IMDB Score                                   0.083860   \n",
       "\n",
       "                             Facebook Likes - Actor 3  \\\n",
       "Year                                         0.096137   \n",
       "Duration                                     0.123558   \n",
       "Aspect Ratio                                -0.003366   \n",
       "Budget                                       0.047451   \n",
       "Gross Earnings                               0.308026   \n",
       "Facebook Likes - Director                    0.120199   \n",
       "Facebook Likes - Actor 1                     0.249927   \n",
       "Facebook Likes - Actor 2                     0.559662   \n",
       "Facebook Likes - Actor 3                     1.000000   \n",
       "Facebook Likes - cast Total                  0.473920   \n",
       "Facebook likes - Movie                       0.278844   \n",
       "Facenumber in posters                        0.099368   \n",
       "User Votes                                   0.287239   \n",
       "Reviews by Users                             0.230189   \n",
       "Reviews by Crtiics                           0.271646   \n",
       "IMDB Score                                   0.052633   \n",
       "\n",
       "                             Facebook Likes - cast Total  \\\n",
       "Year                                            0.109971   \n",
       "Duration                                        0.123074   \n",
       "Aspect Ratio                                   -0.017885   \n",
       "Budget                                          0.036557   \n",
       "Gross Earnings                                  0.247400   \n",
       "Facebook Likes - Director                       0.119532   \n",
       "Facebook Likes - Actor 1                        0.951660   \n",
       "Facebook Likes - Actor 2                        0.628389   \n",
       "Facebook Likes - Actor 3                        0.473920   \n",
       "Facebook Likes - cast Total                     1.000000   \n",
       "Facebook likes - Movie                          0.209754   \n",
       "Facenumber in posters                           0.091410   \n",
       "User Votes                                      0.265865   \n",
       "Reviews by Users                                0.206923   \n",
       "Reviews by Crtiics                              0.263203   \n",
       "IMDB Score                                      0.085854   \n",
       "\n",
       "                             Facebook likes - Movie  Facenumber in posters  \\\n",
       "Year                                       0.218678               0.061504   \n",
       "Duration                                   0.196605               0.013469   \n",
       "Aspect Ratio                               0.025737               0.013713   \n",
       "Budget                                     0.062039              -0.019559   \n",
       "Gross Earnings                             0.378082              -0.027755   \n",
       "Facebook Likes - Director                  0.162036              -0.041297   \n",
       "Facebook Likes - Actor 1                   0.135320               0.072204   \n",
       "Facebook Likes - Actor 2                   0.243464               0.071177   \n",
       "Facebook Likes - Actor 3                   0.278844               0.099368   \n",
       "Facebook Likes - cast Total                0.209754               0.091410   \n",
       "Facebook likes - Movie                     1.000000               0.008866   \n",
       "Facenumber in posters                      0.008866               1.000000   \n",
       "User Votes                                 0.537905              -0.027082   \n",
       "Reviews by Users                           0.400594              -0.069018   \n",
       "Reviews by Crtiics                         0.683176              -0.033897   \n",
       "IMDB Score                                 0.247106              -0.062883   \n",
       "\n",
       "                             User Votes  Reviews by Users  Reviews by Crtiics  \\\n",
       "Year                           0.007397         -0.003147            0.275707   \n",
       "Duration                       0.314765          0.328403            0.258486   \n",
       "Aspect Ratio                  -0.014761         -0.024719           -0.049786   \n",
       "Budget                         0.079621          0.084292            0.119994   \n",
       "Gross Earnings                 0.637271          0.559958            0.480601   \n",
       "Facebook Likes - Director      0.297045          0.221890            0.180674   \n",
       "Facebook Likes - Actor 1       0.192763          0.145461            0.190016   \n",
       "Facebook Likes - Actor 2       0.270755          0.219496            0.282306   \n",
       "Facebook Likes - Actor 3       0.287239          0.230189            0.271646   \n",
       "Facebook Likes - cast Total    0.265865          0.206923            0.263203   \n",
       "Facebook likes - Movie         0.537905          0.400594            0.683176   \n",
       "Facenumber in posters         -0.027082         -0.069018           -0.033897   \n",
       "User Votes                     1.000000          0.798406            0.624943   \n",
       "Reviews by Users               0.798406          1.000000            0.609387   \n",
       "Reviews by Crtiics             0.624943          0.609387            1.000000   \n",
       "IMDB Score                     0.411064          0.292475            0.305303   \n",
       "\n",
       "                             IMDB Score  \n",
       "Year                          -0.209167  \n",
       "Duration                       0.261662  \n",
       "Aspect Ratio                   0.059445  \n",
       "Budget                         0.030688  \n",
       "Gross Earnings                 0.198021  \n",
       "Facebook Likes - Director      0.170834  \n",
       "Facebook Likes - Actor 1       0.076153  \n",
       "Facebook Likes - Actor 2       0.083860  \n",
       "Facebook Likes - Actor 3       0.052633  \n",
       "Facebook Likes - cast Total    0.085854  \n",
       "Facebook likes - Movie         0.247106  \n",
       "Facenumber in posters         -0.062883  \n",
       "User Votes                     0.411064  \n",
       "Reviews by Users               0.292475  \n",
       "Reviews by Crtiics             0.305303  \n",
       "IMDB Score                     1.000000  "
      ]
     },
     "execution_count": 5,
     "metadata": {},
     "output_type": "execute_result"
    }
   ],
   "source": [
    "movies.corr()\n",
    "# Budget and Gross earnings are not very correlated, r = 0.10"
   ]
  },
  {
   "cell_type": "code",
   "execution_count": null,
   "metadata": {},
   "outputs": [],
   "source": []
  },
  {
   "cell_type": "markdown",
   "metadata": {},
   "source": [
    "### E1. What kind of thing is movies? How do you know?"
   ]
  },
  {
   "cell_type": "code",
   "execution_count": 6,
   "metadata": {},
   "outputs": [
    {
     "data": {
      "text/plain": [
       "\u001b[1;31mType:\u001b[0m        DataFrame\n",
       "\u001b[1;31mString form:\u001b[0m\n",
       "Year  \\\n",
       "           Title                                <...>   7.7\n",
       "           Yu-Gi-Oh! Duel Monsters                                   7.0\n",
       "           \n",
       "           [5042 rows x 24 columns]\n",
       "\u001b[1;31mLength:\u001b[0m      5042\n",
       "\u001b[1;31mFile:\u001b[0m        c:\\users\\emull\\anaconda3\\lib\\site-packages\\pandas\\core\\frame.py\n",
       "\u001b[1;31mDocstring:\u001b[0m  \n",
       "Two-dimensional size-mutable, potentially heterogeneous tabular data\n",
       "structure with labeled axes (rows and columns). Arithmetic operations\n",
       "align on both row and column labels. Can be thought of as a dict-like\n",
       "container for Series objects. The primary pandas data structure.\n",
       "\n",
       "Parameters\n",
       "----------\n",
       "data : ndarray (structured or homogeneous), Iterable, dict, or DataFrame\n",
       "    Dict can contain Series, arrays, constants, or list-like objects\n",
       "\n",
       "    .. versionchanged :: 0.23.0\n",
       "       If data is a dict, argument order is maintained for Python 3.6\n",
       "       and later.\n",
       "\n",
       "index : Index or array-like\n",
       "    Index to use for resulting frame. Will default to RangeIndex if\n",
       "    no indexing information part of input data and no index provided\n",
       "columns : Index or array-like\n",
       "    Column labels to use for resulting frame. Will default to\n",
       "    RangeIndex (0, 1, 2, ..., n) if no column labels are provided\n",
       "dtype : dtype, default None\n",
       "    Data type to force. Only a single dtype is allowed. If None, infer\n",
       "copy : boolean, default False\n",
       "    Copy data from inputs. Only affects DataFrame / 2d ndarray input\n",
       "\n",
       "See Also\n",
       "--------\n",
       "DataFrame.from_records : Constructor from tuples, also record arrays.\n",
       "DataFrame.from_dict : From dicts of Series, arrays, or dicts.\n",
       "DataFrame.from_items : From sequence of (key, value) pairs\n",
       "    pandas.read_csv, pandas.read_table, pandas.read_clipboard.\n",
       "\n",
       "Examples\n",
       "--------\n",
       "Constructing DataFrame from a dictionary.\n",
       "\n",
       ">>> d = {'col1': [1, 2], 'col2': [3, 4]}\n",
       ">>> df = pd.DataFrame(data=d)\n",
       ">>> df\n",
       "   col1  col2\n",
       "0     1     3\n",
       "1     2     4\n",
       "\n",
       "Notice that the inferred dtype is int64.\n",
       "\n",
       ">>> df.dtypes\n",
       "col1    int64\n",
       "col2    int64\n",
       "dtype: object\n",
       "\n",
       "To enforce a single dtype:\n",
       "\n",
       ">>> df = pd.DataFrame(data=d, dtype=np.int8)\n",
       ">>> df.dtypes\n",
       "col1    int8\n",
       "col2    int8\n",
       "dtype: object\n",
       "\n",
       "Constructing DataFrame from numpy ndarray:\n",
       "\n",
       ">>> df2 = pd.DataFrame(np.array([[1, 2, 3], [4, 5, 6], [7, 8, 9]]),\n",
       "...                    columns=['a', 'b', 'c'])\n",
       ">>> df2\n",
       "   a  b  c\n",
       "0  1  2  3\n",
       "1  4  5  6\n",
       "2  7  8  9\n"
      ]
     },
     "metadata": {},
     "output_type": "display_data"
    }
   ],
   "source": [
    "movies?"
   ]
  },
  {
   "cell_type": "markdown",
   "metadata": {},
   "source": [
    "* The movies object is a data frame, I know this because I looked at the information for the object using 'movies?'"
   ]
  },
  {
   "cell_type": "markdown",
   "metadata": {},
   "source": [
    "### E2. What does it mean that year and duration are negatively correlated? Plot these two variables togther and explain."
   ]
  },
  {
   "cell_type": "code",
   "execution_count": 7,
   "metadata": {},
   "outputs": [
    {
     "data": {
      "text/plain": [
       "<matplotlib.axes._subplots.AxesSubplot at 0x197152af320>"
      ]
     },
     "execution_count": 7,
     "metadata": {},
     "output_type": "execute_result"
    },
    {
     "data": {
      "image/png": "[encoded data removed]",
      "text/plain": [
       "<Figure size 432x288 with 1 Axes>"
      ]
     },
     "metadata": {
      "needs_background": "light"
     },
     "output_type": "display_data"
    }
   ],
   "source": [
    "movies.plot('Year', 'Duration', kind = 'scatter')"
   ]
  },
  {
   "cell_type": "markdown",
   "metadata": {},
   "source": [
    "* year and duration being negatively correlated means that in general the length of movies has gone down slightly over time\n",
    "  this may be due to the larger number of movies being made more recently"
   ]
  },
  {
   "cell_type": "markdown",
   "metadata": {},
   "source": [
    "### E3. Which pairs of variables have the highest correlation? What might explain this?"
   ]
  },
  {
   "cell_type": "code",
   "execution_count": 8,
   "metadata": {},
   "outputs": [
    {
     "data": {
      "text/plain": [
       "<matplotlib.axes._subplots.AxesSubplot at 0x19716858048>"
      ]
     },
     "execution_count": 8,
     "metadata": {},
     "output_type": "execute_result"
    },
    {
     "data": {
      "image/png": "[encoded data removed]",
      "text/plain": [
       "<Figure size 432x288 with 2 Axes>"
      ]
     },
     "metadata": {
      "needs_background": "light"
     },
     "output_type": "display_data"
    }
   ],
   "source": [
    "import seaborn as sns\n",
    "correlation_matrix = movies.corr()\n",
    "sns.heatmap(data=correlation_matrix)"
   ]
  },
  {
   "cell_type": "markdown",
   "metadata": {},
   "source": [
    "* facebook likes of the cast and facebook likes of actor one are highly corrlelated\n",
    "    * this is probably because the number of likes that the lead actor has impacts the total cast likes\n",
    "* Facebook likes of actor and facebook likes of the director are highly correlated\n",
    "    * this is probably because actors tend to work with the same director repeatedly so if someone \n",
    "      really likes an actor they probably also like the movies that they are in "
   ]
  },
  {
   "cell_type": "markdown",
   "metadata": {},
   "source": [
    "## 8.1.3 Introduction to linear regression"
   ]
  },
  {
   "cell_type": "markdown",
   "metadata": {},
   "source": [
    "See https://en.wikipedia.org/wiki/Linear_regression and http://onlinestatbook.com/2/regression/regression.html for a nice introduction. See https://towardsdatascience.com/linear-regression-using-python-b136c91bf0a2 for a good intro on the math"
   ]
  },
  {
   "cell_type": "markdown",
   "metadata": {},
   "source": [
    "Supposed we were convinced that gross earnings were linearly related to budget, i.e. G = a*B +c. To test this, we would fit the scatterplot we made above to a line, which would solve for the coefficients a (slope) and c (intercept) in our linear equation."
   ]
  },
  {
   "cell_type": "markdown",
   "metadata": {},
   "source": [
    "The basic idea of linear regression is that one finds the distance of each data point to a line and minimize this (using calculus) to find the best fit line. This is commonly called ordinary least squares, as the distance of the data from the linear model is squared."
   ]
  },
  {
   "cell_type": "markdown",
   "metadata": {},
   "source": [
    "Because the movies database has a number of nans in it, it's a bit difficult to work with. Instead, let's do the tutorial here on linear regression using Boston housing data: https://towardsdatascience.com/linear-regression-on-boston-housing-dataset-f409b7e4a155"
   ]
  },
  {
   "cell_type": "markdown",
   "metadata": {},
   "source": [
    "This tutorial uses the package scikit-learn, which is a collection of advanced data analysis and machine learning functions. We will use this again in the future when we cover machine learning"
   ]
  },
  {
   "cell_type": "markdown",
   "metadata": {},
   "source": [
    "First lets go over loading in this dataset and converting it to pandas"
   ]
  },
  {
   "cell_type": "code",
   "execution_count": 9,
   "metadata": {},
   "outputs": [],
   "source": [
    "from sklearn import datasets ## imports datasets from scikit-learn\n",
    "data = datasets.load_boston() ## loads Boston dataset from datasets library "
   ]
  },
  {
   "cell_type": "markdown",
   "metadata": {},
   "source": [
    "What we want to do here is to determine which variables contribute to housing prices"
   ]
  },
  {
   "cell_type": "code",
   "execution_count": 10,
   "metadata": {},
   "outputs": [
    {
     "data": {
      "text/plain": [
       "\u001b[1;31mType:\u001b[0m        Bunch\n",
       "\u001b[1;31mString form:\u001b[0m\n",
       "{'data': array([[6.3200e-03, 1.8000e+01, 2.3100e+00, ..., 1.5300e+01, 3.9690e+02,\n",
       "           4.9800e <...> \\\\Users\\\\emull\\\\Anaconda3\\\\lib\\\\site-packages\\\\sklearn\\\\datasets\\\\data\\\\boston_house_prices.csv'}\n",
       "\u001b[1;31mLength:\u001b[0m      5\n",
       "\u001b[1;31mFile:\u001b[0m        c:\\users\\emull\\anaconda3\\lib\\site-packages\\sklearn\\utils\\__init__.py\n",
       "\u001b[1;31mDocstring:\u001b[0m  \n",
       "Container object for datasets\n",
       "\n",
       "Dictionary-like object that exposes its keys as attributes.\n",
       "\n",
       ">>> b = Bunch(a=1, b=2)\n",
       ">>> b['b']\n",
       "2\n",
       ">>> b.b\n",
       "2\n",
       ">>> b.a = 3\n",
       ">>> b['a']\n",
       "3\n",
       ">>> b.c = 6\n",
       ">>> b['c']\n",
       "6\n"
      ]
     },
     "metadata": {},
     "output_type": "display_data"
    }
   ],
   "source": [
    "data?"
   ]
  },
  {
   "cell_type": "code",
   "execution_count": 180,
   "metadata": {},
   "outputs": [],
   "source": [
    "# information on the data:\n",
    "#print(data.DESCR)"
   ]
  },
  {
   "cell_type": "code",
   "execution_count": 12,
   "metadata": {},
   "outputs": [],
   "source": [
    "# convert the data set into a pandas data frame  \n",
    "df = pd.DataFrame(data.data, columns=data.feature_names)\n",
    "\n",
    "# Put the target (housing value -- MEDV) in another DataFrame\n",
    "target = pd.DataFrame(data.target, columns=[\"MEDV\"])\n"
   ]
  },
  {
   "cell_type": "code",
   "execution_count": 13,
   "metadata": {},
   "outputs": [
    {
     "data": {
      "text/plain": [
       "array([[1.        , 0.69535995],\n",
       "       [0.69535995, 1.        ]])"
      ]
     },
     "execution_count": 13,
     "metadata": {},
     "output_type": "execute_result"
    }
   ],
   "source": [
    "# are room numbers and value correlated?\n",
    "np.corrcoef(df[\"RM\"], target[\"MEDV\"])\n",
    "\n",
    "# note this is a matrix of correlation coefficients, you only need the top right one"
   ]
  },
  {
   "cell_type": "code",
   "execution_count": 14,
   "metadata": {},
   "outputs": [
    {
     "data": {
      "text/plain": [
       "Text(0,0.5,'House value ($1000s)')"
      ]
     },
     "execution_count": 14,
     "metadata": {},
     "output_type": "execute_result"
    },
    {
     "data": {
      "image/png": "[encoded data removed]",
      "text/plain": [
       "<Figure size 432x288 with 1 Axes>"
      ]
     },
     "metadata": {
      "needs_background": "light"
     },
     "output_type": "display_data"
    }
   ],
   "source": [
    "# lets visualize\n",
    "plt.scatter(df[\"RM\"], target[\"MEDV\"])\n",
    "plt.xlabel('Number of Rooms')\n",
    "plt.ylabel('House value ($1000s)')"
   ]
  },
  {
   "cell_type": "markdown",
   "metadata": {},
   "source": [
    "### Discuss: how well does this plot agree with the correlation coefficient we got? What might be affecting the results?"
   ]
  },
  {
   "cell_type": "markdown",
   "metadata": {},
   "source": [
    "* Outliers affect your residuals which lowers the correlation "
   ]
  },
  {
   "cell_type": "markdown",
   "metadata": {},
   "source": [
    "### E4. Create a second dataframe with the housing value added as a column. What variables correlate most with housing value? Hypothesize why this might be."
   ]
  },
  {
   "cell_type": "code",
   "execution_count": 15,
   "metadata": {},
   "outputs": [],
   "source": [
    "df_tot = df #make a new dataframe"
   ]
  },
  {
   "cell_type": "code",
   "execution_count": 16,
   "metadata": {},
   "outputs": [],
   "source": [
    "df_tot[\"MEDV\"] = target[\"MEDV\"] # add the median value from target to new data frame"
   ]
  },
  {
   "cell_type": "code",
   "execution_count": 17,
   "metadata": {},
   "outputs": [
    {
     "data": {
      "text/html": [
       "<div>\n",
       "<style scoped>\n",
       "    .dataframe tbody tr th:only-of-type {\n",
       "        vertical-align: middle;\n",
       "    }\n",
       "\n",
       "    .dataframe tbody tr th {\n",
       "        vertical-align: top;\n",
       "    }\n",
       "\n",
       "    .dataframe thead th {\n",
       "        text-align: right;\n",
       "    }\n",
       "</style>\n",
       "<table border=\"1\" class=\"dataframe\">\n",
       "  <thead>\n",
       "    <tr style=\"text-align: right;\">\n",
       "      <th></th>\n",
       "      <th>CRIM</th>\n",
       "      <th>ZN</th>\n",
       "      <th>INDUS</th>\n",
       "      <th>CHAS</th>\n",
       "      <th>NOX</th>\n",
       "      <th>RM</th>\n",
       "      <th>AGE</th>\n",
       "      <th>DIS</th>\n",
       "      <th>RAD</th>\n",
       "      <th>TAX</th>\n",
       "      <th>PTRATIO</th>\n",
       "      <th>B</th>\n",
       "      <th>LSTAT</th>\n",
       "      <th>MEDV</th>\n",
       "    </tr>\n",
       "  </thead>\n",
       "  <tbody>\n",
       "    <tr>\n",
       "      <th>0</th>\n",
       "      <td>0.00632</td>\n",
       "      <td>18.0</td>\n",
       "      <td>2.31</td>\n",
       "      <td>0.0</td>\n",
       "      <td>0.538</td>\n",
       "      <td>6.575</td>\n",
       "      <td>65.2</td>\n",
       "      <td>4.0900</td>\n",
       "      <td>1.0</td>\n",
       "      <td>296.0</td>\n",
       "      <td>15.3</td>\n",
       "      <td>396.90</td>\n",
       "      <td>4.98</td>\n",
       "      <td>24.0</td>\n",
       "    </tr>\n",
       "    <tr>\n",
       "      <th>1</th>\n",
       "      <td>0.02731</td>\n",
       "      <td>0.0</td>\n",
       "      <td>7.07</td>\n",
       "      <td>0.0</td>\n",
       "      <td>0.469</td>\n",
       "      <td>6.421</td>\n",
       "      <td>78.9</td>\n",
       "      <td>4.9671</td>\n",
       "      <td>2.0</td>\n",
       "      <td>242.0</td>\n",
       "      <td>17.8</td>\n",
       "      <td>396.90</td>\n",
       "      <td>9.14</td>\n",
       "      <td>21.6</td>\n",
       "    </tr>\n",
       "    <tr>\n",
       "      <th>2</th>\n",
       "      <td>0.02729</td>\n",
       "      <td>0.0</td>\n",
       "      <td>7.07</td>\n",
       "      <td>0.0</td>\n",
       "      <td>0.469</td>\n",
       "      <td>7.185</td>\n",
       "      <td>61.1</td>\n",
       "      <td>4.9671</td>\n",
       "      <td>2.0</td>\n",
       "      <td>242.0</td>\n",
       "      <td>17.8</td>\n",
       "      <td>392.83</td>\n",
       "      <td>4.03</td>\n",
       "      <td>34.7</td>\n",
       "    </tr>\n",
       "    <tr>\n",
       "      <th>3</th>\n",
       "      <td>0.03237</td>\n",
       "      <td>0.0</td>\n",
       "      <td>2.18</td>\n",
       "      <td>0.0</td>\n",
       "      <td>0.458</td>\n",
       "      <td>6.998</td>\n",
       "      <td>45.8</td>\n",
       "      <td>6.0622</td>\n",
       "      <td>3.0</td>\n",
       "      <td>222.0</td>\n",
       "      <td>18.7</td>\n",
       "      <td>394.63</td>\n",
       "      <td>2.94</td>\n",
       "      <td>33.4</td>\n",
       "    </tr>\n",
       "    <tr>\n",
       "      <th>4</th>\n",
       "      <td>0.06905</td>\n",
       "      <td>0.0</td>\n",
       "      <td>2.18</td>\n",
       "      <td>0.0</td>\n",
       "      <td>0.458</td>\n",
       "      <td>7.147</td>\n",
       "      <td>54.2</td>\n",
       "      <td>6.0622</td>\n",
       "      <td>3.0</td>\n",
       "      <td>222.0</td>\n",
       "      <td>18.7</td>\n",
       "      <td>396.90</td>\n",
       "      <td>5.33</td>\n",
       "      <td>36.2</td>\n",
       "    </tr>\n",
       "  </tbody>\n",
       "</table>\n",
       "</div>"
      ],
      "text/plain": [
       "      CRIM    ZN  INDUS  CHAS    NOX     RM   AGE     DIS  RAD    TAX  \\\n",
       "0  0.00632  18.0   2.31   0.0  0.538  6.575  65.2  4.0900  1.0  296.0   \n",
       "1  0.02731   0.0   7.07   0.0  0.469  6.421  78.9  4.9671  2.0  242.0   \n",
       "2  0.02729   0.0   7.07   0.0  0.469  7.185  61.1  4.9671  2.0  242.0   \n",
       "3  0.03237   0.0   2.18   0.0  0.458  6.998  45.8  6.0622  3.0  222.0   \n",
       "4  0.06905   0.0   2.18   0.0  0.458  7.147  54.2  6.0622  3.0  222.0   \n",
       "\n",
       "   PTRATIO       B  LSTAT  MEDV  \n",
       "0     15.3  396.90   4.98  24.0  \n",
       "1     17.8  396.90   9.14  21.6  \n",
       "2     17.8  392.83   4.03  34.7  \n",
       "3     18.7  394.63   2.94  33.4  \n",
       "4     18.7  396.90   5.33  36.2  "
      ]
     },
     "execution_count": 17,
     "metadata": {},
     "output_type": "execute_result"
    }
   ],
   "source": [
    "df_tot.head() # check to make sure that it worked"
   ]
  },
  {
   "cell_type": "code",
   "execution_count": 18,
   "metadata": {},
   "outputs": [
    {
     "data": {
      "text/html": [
       "<div>\n",
       "<style scoped>\n",
       "    .dataframe tbody tr th:only-of-type {\n",
       "        vertical-align: middle;\n",
       "    }\n",
       "\n",
       "    .dataframe tbody tr th {\n",
       "        vertical-align: top;\n",
       "    }\n",
       "\n",
       "    .dataframe thead th {\n",
       "        text-align: right;\n",
       "    }\n",
       "</style>\n",
       "<table border=\"1\" class=\"dataframe\">\n",
       "  <thead>\n",
       "    <tr style=\"text-align: right;\">\n",
       "      <th></th>\n",
       "      <th>CRIM</th>\n",
       "      <th>ZN</th>\n",
       "      <th>INDUS</th>\n",
       "      <th>CHAS</th>\n",
       "      <th>NOX</th>\n",
       "      <th>RM</th>\n",
       "      <th>AGE</th>\n",
       "      <th>DIS</th>\n",
       "      <th>RAD</th>\n",
       "      <th>TAX</th>\n",
       "      <th>PTRATIO</th>\n",
       "      <th>B</th>\n",
       "      <th>LSTAT</th>\n",
       "      <th>MEDV</th>\n",
       "    </tr>\n",
       "  </thead>\n",
       "  <tbody>\n",
       "    <tr>\n",
       "      <th>CRIM</th>\n",
       "      <td>1.000000</td>\n",
       "      <td>-0.200469</td>\n",
       "      <td>0.406583</td>\n",
       "      <td>-0.055892</td>\n",
       "      <td>0.420972</td>\n",
       "      <td>-0.219247</td>\n",
       "      <td>0.352734</td>\n",
       "      <td>-0.379670</td>\n",
       "      <td>0.625505</td>\n",
       "      <td>0.582764</td>\n",
       "      <td>0.289946</td>\n",
       "      <td>-0.385064</td>\n",
       "      <td>0.455621</td>\n",
       "      <td>-0.388305</td>\n",
       "    </tr>\n",
       "    <tr>\n",
       "      <th>ZN</th>\n",
       "      <td>-0.200469</td>\n",
       "      <td>1.000000</td>\n",
       "      <td>-0.533828</td>\n",
       "      <td>-0.042697</td>\n",
       "      <td>-0.516604</td>\n",
       "      <td>0.311991</td>\n",
       "      <td>-0.569537</td>\n",
       "      <td>0.664408</td>\n",
       "      <td>-0.311948</td>\n",
       "      <td>-0.314563</td>\n",
       "      <td>-0.391679</td>\n",
       "      <td>0.175520</td>\n",
       "      <td>-0.412995</td>\n",
       "      <td>0.360445</td>\n",
       "    </tr>\n",
       "    <tr>\n",
       "      <th>INDUS</th>\n",
       "      <td>0.406583</td>\n",
       "      <td>-0.533828</td>\n",
       "      <td>1.000000</td>\n",
       "      <td>0.062938</td>\n",
       "      <td>0.763651</td>\n",
       "      <td>-0.391676</td>\n",
       "      <td>0.644779</td>\n",
       "      <td>-0.708027</td>\n",
       "      <td>0.595129</td>\n",
       "      <td>0.720760</td>\n",
       "      <td>0.383248</td>\n",
       "      <td>-0.356977</td>\n",
       "      <td>0.603800</td>\n",
       "      <td>-0.483725</td>\n",
       "    </tr>\n",
       "    <tr>\n",
       "      <th>CHAS</th>\n",
       "      <td>-0.055892</td>\n",
       "      <td>-0.042697</td>\n",
       "      <td>0.062938</td>\n",
       "      <td>1.000000</td>\n",
       "      <td>0.091203</td>\n",
       "      <td>0.091251</td>\n",
       "      <td>0.086518</td>\n",
       "      <td>-0.099176</td>\n",
       "      <td>-0.007368</td>\n",
       "      <td>-0.035587</td>\n",
       "      <td>-0.121515</td>\n",
       "      <td>0.048788</td>\n",
       "      <td>-0.053929</td>\n",
       "      <td>0.175260</td>\n",
       "    </tr>\n",
       "    <tr>\n",
       "      <th>NOX</th>\n",
       "      <td>0.420972</td>\n",
       "      <td>-0.516604</td>\n",
       "      <td>0.763651</td>\n",
       "      <td>0.091203</td>\n",
       "      <td>1.000000</td>\n",
       "      <td>-0.302188</td>\n",
       "      <td>0.731470</td>\n",
       "      <td>-0.769230</td>\n",
       "      <td>0.611441</td>\n",
       "      <td>0.668023</td>\n",
       "      <td>0.188933</td>\n",
       "      <td>-0.380051</td>\n",
       "      <td>0.590879</td>\n",
       "      <td>-0.427321</td>\n",
       "    </tr>\n",
       "    <tr>\n",
       "      <th>RM</th>\n",
       "      <td>-0.219247</td>\n",
       "      <td>0.311991</td>\n",
       "      <td>-0.391676</td>\n",
       "      <td>0.091251</td>\n",
       "      <td>-0.302188</td>\n",
       "      <td>1.000000</td>\n",
       "      <td>-0.240265</td>\n",
       "      <td>0.205246</td>\n",
       "      <td>-0.209847</td>\n",
       "      <td>-0.292048</td>\n",
       "      <td>-0.355501</td>\n",
       "      <td>0.128069</td>\n",
       "      <td>-0.613808</td>\n",
       "      <td>0.695360</td>\n",
       "    </tr>\n",
       "    <tr>\n",
       "      <th>AGE</th>\n",
       "      <td>0.352734</td>\n",
       "      <td>-0.569537</td>\n",
       "      <td>0.644779</td>\n",
       "      <td>0.086518</td>\n",
       "      <td>0.731470</td>\n",
       "      <td>-0.240265</td>\n",
       "      <td>1.000000</td>\n",
       "      <td>-0.747881</td>\n",
       "      <td>0.456022</td>\n",
       "      <td>0.506456</td>\n",
       "      <td>0.261515</td>\n",
       "      <td>-0.273534</td>\n",
       "      <td>0.602339</td>\n",
       "      <td>-0.376955</td>\n",
       "    </tr>\n",
       "    <tr>\n",
       "      <th>DIS</th>\n",
       "      <td>-0.379670</td>\n",
       "      <td>0.664408</td>\n",
       "      <td>-0.708027</td>\n",
       "      <td>-0.099176</td>\n",
       "      <td>-0.769230</td>\n",
       "      <td>0.205246</td>\n",
       "      <td>-0.747881</td>\n",
       "      <td>1.000000</td>\n",
       "      <td>-0.494588</td>\n",
       "      <td>-0.534432</td>\n",
       "      <td>-0.232471</td>\n",
       "      <td>0.291512</td>\n",
       "      <td>-0.496996</td>\n",
       "      <td>0.249929</td>\n",
       "    </tr>\n",
       "    <tr>\n",
       "      <th>RAD</th>\n",
       "      <td>0.625505</td>\n",
       "      <td>-0.311948</td>\n",
       "      <td>0.595129</td>\n",
       "      <td>-0.007368</td>\n",
       "      <td>0.611441</td>\n",
       "      <td>-0.209847</td>\n",
       "      <td>0.456022</td>\n",
       "      <td>-0.494588</td>\n",
       "      <td>1.000000</td>\n",
       "      <td>0.910228</td>\n",
       "      <td>0.464741</td>\n",
       "      <td>-0.444413</td>\n",
       "      <td>0.488676</td>\n",
       "      <td>-0.381626</td>\n",
       "    </tr>\n",
       "    <tr>\n",
       "      <th>TAX</th>\n",
       "      <td>0.582764</td>\n",
       "      <td>-0.314563</td>\n",
       "      <td>0.720760</td>\n",
       "      <td>-0.035587</td>\n",
       "      <td>0.668023</td>\n",
       "      <td>-0.292048</td>\n",
       "      <td>0.506456</td>\n",
       "      <td>-0.534432</td>\n",
       "      <td>0.910228</td>\n",
       "      <td>1.000000</td>\n",
       "      <td>0.460853</td>\n",
       "      <td>-0.441808</td>\n",
       "      <td>0.543993</td>\n",
       "      <td>-0.468536</td>\n",
       "    </tr>\n",
       "    <tr>\n",
       "      <th>PTRATIO</th>\n",
       "      <td>0.289946</td>\n",
       "      <td>-0.391679</td>\n",
       "      <td>0.383248</td>\n",
       "      <td>-0.121515</td>\n",
       "      <td>0.188933</td>\n",
       "      <td>-0.355501</td>\n",
       "      <td>0.261515</td>\n",
       "      <td>-0.232471</td>\n",
       "      <td>0.464741</td>\n",
       "      <td>0.460853</td>\n",
       "      <td>1.000000</td>\n",
       "      <td>-0.177383</td>\n",
       "      <td>0.374044</td>\n",
       "      <td>-0.507787</td>\n",
       "    </tr>\n",
       "    <tr>\n",
       "      <th>B</th>\n",
       "      <td>-0.385064</td>\n",
       "      <td>0.175520</td>\n",
       "      <td>-0.356977</td>\n",
       "      <td>0.048788</td>\n",
       "      <td>-0.380051</td>\n",
       "      <td>0.128069</td>\n",
       "      <td>-0.273534</td>\n",
       "      <td>0.291512</td>\n",
       "      <td>-0.444413</td>\n",
       "      <td>-0.441808</td>\n",
       "      <td>-0.177383</td>\n",
       "      <td>1.000000</td>\n",
       "      <td>-0.366087</td>\n",
       "      <td>0.333461</td>\n",
       "    </tr>\n",
       "    <tr>\n",
       "      <th>LSTAT</th>\n",
       "      <td>0.455621</td>\n",
       "      <td>-0.412995</td>\n",
       "      <td>0.603800</td>\n",
       "      <td>-0.053929</td>\n",
       "      <td>0.590879</td>\n",
       "      <td>-0.613808</td>\n",
       "      <td>0.602339</td>\n",
       "      <td>-0.496996</td>\n",
       "      <td>0.488676</td>\n",
       "      <td>0.543993</td>\n",
       "      <td>0.374044</td>\n",
       "      <td>-0.366087</td>\n",
       "      <td>1.000000</td>\n",
       "      <td>-0.737663</td>\n",
       "    </tr>\n",
       "    <tr>\n",
       "      <th>MEDV</th>\n",
       "      <td>-0.388305</td>\n",
       "      <td>0.360445</td>\n",
       "      <td>-0.483725</td>\n",
       "      <td>0.175260</td>\n",
       "      <td>-0.427321</td>\n",
       "      <td>0.695360</td>\n",
       "      <td>-0.376955</td>\n",
       "      <td>0.249929</td>\n",
       "      <td>-0.381626</td>\n",
       "      <td>-0.468536</td>\n",
       "      <td>-0.507787</td>\n",
       "      <td>0.333461</td>\n",
       "      <td>-0.737663</td>\n",
       "      <td>1.000000</td>\n",
       "    </tr>\n",
       "  </tbody>\n",
       "</table>\n",
       "</div>"
      ],
      "text/plain": [
       "             CRIM        ZN     INDUS      CHAS       NOX        RM       AGE  \\\n",
       "CRIM     1.000000 -0.200469  0.406583 -0.055892  0.420972 -0.219247  0.352734   \n",
       "ZN      -0.200469  1.000000 -0.533828 -0.042697 -0.516604  0.311991 -0.569537   \n",
       "INDUS    0.406583 -0.533828  1.000000  0.062938  0.763651 -0.391676  0.644779   \n",
       "CHAS    -0.055892 -0.042697  0.062938  1.000000  0.091203  0.091251  0.086518   \n",
       "NOX      0.420972 -0.516604  0.763651  0.091203  1.000000 -0.302188  0.731470   \n",
       "RM      -0.219247  0.311991 -0.391676  0.091251 -0.302188  1.000000 -0.240265   \n",
       "AGE      0.352734 -0.569537  0.644779  0.086518  0.731470 -0.240265  1.000000   \n",
       "DIS     -0.379670  0.664408 -0.708027 -0.099176 -0.769230  0.205246 -0.747881   \n",
       "RAD      0.625505 -0.311948  0.595129 -0.007368  0.611441 -0.209847  0.456022   \n",
       "TAX      0.582764 -0.314563  0.720760 -0.035587  0.668023 -0.292048  0.506456   \n",
       "PTRATIO  0.289946 -0.391679  0.383248 -0.121515  0.188933 -0.355501  0.261515   \n",
       "B       -0.385064  0.175520 -0.356977  0.048788 -0.380051  0.128069 -0.273534   \n",
       "LSTAT    0.455621 -0.412995  0.603800 -0.053929  0.590879 -0.613808  0.602339   \n",
       "MEDV    -0.388305  0.360445 -0.483725  0.175260 -0.427321  0.695360 -0.376955   \n",
       "\n",
       "              DIS       RAD       TAX   PTRATIO         B     LSTAT      MEDV  \n",
       "CRIM    -0.379670  0.625505  0.582764  0.289946 -0.385064  0.455621 -0.388305  \n",
       "ZN       0.664408 -0.311948 -0.314563 -0.391679  0.175520 -0.412995  0.360445  \n",
       "INDUS   -0.708027  0.595129  0.720760  0.383248 -0.356977  0.603800 -0.483725  \n",
       "CHAS    -0.099176 -0.007368 -0.035587 -0.121515  0.048788 -0.053929  0.175260  \n",
       "NOX     -0.769230  0.611441  0.668023  0.188933 -0.380051  0.590879 -0.427321  \n",
       "RM       0.205246 -0.209847 -0.292048 -0.355501  0.128069 -0.613808  0.695360  \n",
       "AGE     -0.747881  0.456022  0.506456  0.261515 -0.273534  0.602339 -0.376955  \n",
       "DIS      1.000000 -0.494588 -0.534432 -0.232471  0.291512 -0.496996  0.249929  \n",
       "RAD     -0.494588  1.000000  0.910228  0.464741 -0.444413  0.488676 -0.381626  \n",
       "TAX     -0.534432  0.910228  1.000000  0.460853 -0.441808  0.543993 -0.468536  \n",
       "PTRATIO -0.232471  0.464741  0.460853  1.000000 -0.177383  0.374044 -0.507787  \n",
       "B        0.291512 -0.444413 -0.441808 -0.177383  1.000000 -0.366087  0.333461  \n",
       "LSTAT   -0.496996  0.488676  0.543993  0.374044 -0.366087  1.000000 -0.737663  \n",
       "MEDV     0.249929 -0.381626 -0.468536 -0.507787  0.333461 -0.737663  1.000000  "
      ]
     },
     "execution_count": 18,
     "metadata": {},
     "output_type": "execute_result"
    }
   ],
   "source": [
    "df_tot.corr() #look at the correlation "
   ]
  },
  {
   "cell_type": "code",
   "execution_count": null,
   "metadata": {},
   "outputs": [],
   "source": []
  },
  {
   "cell_type": "markdown",
   "metadata": {},
   "source": [
    "* The number of rooms correlates the most with % lower states of population\n",
    "* The next highest correlation is with housing value, this makes sense, bigger house = more money \n"
   ]
  },
  {
   "cell_type": "markdown",
   "metadata": {},
   "source": [
    "Before we go into the online tutorial, which uses scikit learn, let's do some basic linear regression with the scipy and statsmodels packages, so you can see how they compare."
   ]
  },
  {
   "cell_type": "markdown",
   "metadata": {},
   "source": [
    "### Doing a linear regression using scipy"
   ]
  },
  {
   "cell_type": "code",
   "execution_count": 19,
   "metadata": {},
   "outputs": [],
   "source": [
    "from scipy import stats"
   ]
  },
  {
   "cell_type": "code",
   "execution_count": 20,
   "metadata": {},
   "outputs": [],
   "source": [
    "slope, intercept, r_value, p_value, std_err = stats.linregress(df[\"RM\"],target[\"MEDV\"])"
   ]
  },
  {
   "cell_type": "markdown",
   "metadata": {},
   "source": [
    "this gives us the slope and intercept of the line, the corrlation (r_value)\n",
    "\n",
    "A low p-value (< 0.05) indicates that the linear regression is a good model\n",
    "\n",
    "the standard error is the standard deviation of the data from the model (instead of the mean)"
   ]
  },
  {
   "cell_type": "code",
   "execution_count": 21,
   "metadata": {},
   "outputs": [
    {
     "data": {
      "text/plain": [
       "9.102108981180306"
      ]
     },
     "execution_count": 21,
     "metadata": {},
     "output_type": "execute_result"
    }
   ],
   "source": [
    "slope"
   ]
  },
  {
   "cell_type": "code",
   "execution_count": 22,
   "metadata": {},
   "outputs": [
    {
     "data": {
      "text/plain": [
       "-34.67062077643854"
      ]
     },
     "execution_count": 22,
     "metadata": {},
     "output_type": "execute_result"
    }
   ],
   "source": [
    "intercept"
   ]
  },
  {
   "cell_type": "code",
   "execution_count": 23,
   "metadata": {},
   "outputs": [
    {
     "data": {
      "text/plain": [
       "0.695359947071539"
      ]
     },
     "execution_count": 23,
     "metadata": {},
     "output_type": "execute_result"
    }
   ],
   "source": [
    "r_value\n",
    "# note this is the same correlation value we got before"
   ]
  },
  {
   "cell_type": "code",
   "execution_count": 24,
   "metadata": {},
   "outputs": [
    {
     "data": {
      "text/plain": [
       "2.487228871008377e-74"
      ]
     },
     "execution_count": 24,
     "metadata": {},
     "output_type": "execute_result"
    }
   ],
   "source": [
    "p_value"
   ]
  },
  {
   "cell_type": "code",
   "execution_count": 25,
   "metadata": {},
   "outputs": [
    {
     "data": {
      "text/plain": [
       "0.41902656012134054"
      ]
     },
     "execution_count": 25,
     "metadata": {},
     "output_type": "execute_result"
    }
   ],
   "source": [
    "std_err"
   ]
  },
  {
   "cell_type": "code",
   "execution_count": 26,
   "metadata": {},
   "outputs": [
    {
     "data": {
      "text/plain": [
       "Text(0,0.5,'House value ($1000s)')"
      ]
     },
     "execution_count": 26,
     "metadata": {},
     "output_type": "execute_result"
    },
    {
     "data": {
      "image/png": "[encoded data removed]",
      "text/plain": [
       "<Figure size 432x288 with 1 Axes>"
      ]
     },
     "metadata": {
      "needs_background": "light"
     },
     "output_type": "display_data"
    }
   ],
   "source": [
    "plt.plot(df[\"RM\"], slope*df[\"RM\"]+intercept, 'k--')\n",
    "plt.scatter(df[\"RM\"], target[\"MEDV\"])\n",
    "plt.xlabel('Number of Rooms')\n",
    "plt.ylabel('House value ($1000s)')"
   ]
  },
  {
   "cell_type": "markdown",
   "metadata": {},
   "source": [
    "### E5. In the above plot, write the equation of the fitted line the title, using the values for the slope and intercept to a reasonable number of signifigant digits."
   ]
  },
  {
   "cell_type": "code",
   "execution_count": 27,
   "metadata": {},
   "outputs": [
    {
     "data": {
      "text/plain": [
       "Text(0.5,1,'Equation of the line is y = 9.10x - 35.7')"
      ]
     },
     "execution_count": 27,
     "metadata": {},
     "output_type": "execute_result"
    },
    {
     "data": {
      "image/png": "[encoded data removed]",
      "text/plain": [
       "<Figure size 432x288 with 1 Axes>"
      ]
     },
     "metadata": {
      "needs_background": "light"
     },
     "output_type": "display_data"
    }
   ],
   "source": [
    "plt.plot(df[\"RM\"], slope*df[\"RM\"]+intercept, 'k--')\n",
    "plt.scatter(df[\"RM\"], target[\"MEDV\"])\n",
    "plt.xlabel('Number of Rooms')\n",
    "plt.ylabel('House value ($1000s)')\n",
    "plt.title('Equation of the line is y = 9.10x - 35.7')"
   ]
  },
  {
   "cell_type": "markdown",
   "metadata": {},
   "source": [
    "## Doing a linear regression using statsmodels"
   ]
  },
  {
   "cell_type": "markdown",
   "metadata": {},
   "source": [
    "Statsmodels is a powerful statistics package that is very popular\n",
    "\n",
    "See https://towardsdatascience.com/simple-and-multiple-linear-regression-in-python-c928425168f9\n",
    "\n",
    "and\n",
    "\n",
    "https://www.statsmodels.org/dev/index.html\n",
    "\n",
    "http://www.statsmodels.org/dev/examples/index.html#linear-regression-models\n",
    "\n",
    "Note that with statsmodels you can do generalized linear regression, i.e. regression with more than one variable: \n",
    "\n",
    "y = a*X_1 + b*X_2 + ..."
   ]
  },
  {
   "cell_type": "code",
   "execution_count": 87,
   "metadata": {},
   "outputs": [],
   "source": [
    "import statsmodels.api as sm"
   ]
  },
  {
   "cell_type": "code",
   "execution_count": 88,
   "metadata": {
    "collapsed": true,
    "jupyter": {
     "outputs_hidden": true
    }
   },
   "outputs": [
    {
     "name": "stdout",
     "output_type": "stream",
     "text": [
      "Help on class OLS in module statsmodels.regression.linear_model:\n",
      "\n",
      "class OLS(WLS)\n",
      " |  OLS(endog, exog=None, missing='none', hasconst=None, **kwargs)\n",
      " |  \n",
      " |  A simple ordinary least squares model.\n",
      " |  \n",
      " |  \n",
      " |  Parameters\n",
      " |  ----------\n",
      " |  endog : array-like\n",
      " |      1-d endogenous response variable. The dependent variable.\n",
      " |  exog : array-like\n",
      " |      A nobs x k array where `nobs` is the number of observations and `k`\n",
      " |      is the number of regressors. An intercept is not included by default\n",
      " |      and should be added by the user. See\n",
      " |      :func:`statsmodels.tools.add_constant`.\n",
      " |  missing : str\n",
      " |      Available options are 'none', 'drop', and 'raise'. If 'none', no nan\n",
      " |      checking is done. If 'drop', any observations with nans are dropped.\n",
      " |      If 'raise', an error is raised. Default is 'none.'\n",
      " |  hasconst : None or bool\n",
      " |      Indicates whether the RHS includes a user-supplied constant. If True,\n",
      " |      a constant is not checked for and k_constant is set to 1 and all\n",
      " |      result statistics are calculated as if a constant is present. If\n",
      " |      False, a constant is not checked for and k_constant is set to 0.\n",
      " |  \n",
      " |  \n",
      " |  Attributes\n",
      " |  ----------\n",
      " |  weights : scalar\n",
      " |      Has an attribute weights = array(1.0) due to inheritance from WLS.\n",
      " |  \n",
      " |  See Also\n",
      " |  --------\n",
      " |  GLS\n",
      " |  \n",
      " |  Examples\n",
      " |  --------\n",
      " |  >>> import numpy as np\n",
      " |  >>>\n",
      " |  >>> import statsmodels.api as sm\n",
      " |  >>>\n",
      " |  >>> Y = [1,3,4,5,2,3,4]\n",
      " |  >>> X = range(1,8)\n",
      " |  >>> X = sm.add_constant(X)\n",
      " |  >>>\n",
      " |  >>> model = sm.OLS(Y,X)\n",
      " |  >>> results = model.fit()\n",
      " |  >>> results.params\n",
      " |  array([ 2.14285714,  0.25      ])\n",
      " |  >>> results.tvalues\n",
      " |  array([ 1.87867287,  0.98019606])\n",
      " |  >>> print(results.t_test([1, 0]))\n",
      " |  <T test: effect=array([ 2.14285714]), sd=array([[ 1.14062282]]), t=array([[ 1.87867287]]), p=array([[ 0.05953974]]), df_denom=5>\n",
      " |  >>> print(results.f_test(np.identity(2)))\n",
      " |  <F test: F=array([[ 19.46078431]]), p=[[ 0.00437251]], df_denom=5, df_num=2>\n",
      " |  \n",
      " |  Notes\n",
      " |  -----\n",
      " |  No constant is added by the model unless you are using formulas.\n",
      " |  \n",
      " |  Method resolution order:\n",
      " |      OLS\n",
      " |      WLS\n",
      " |      RegressionModel\n",
      " |      statsmodels.base.model.LikelihoodModel\n",
      " |      statsmodels.base.model.Model\n",
      " |      builtins.object\n",
      " |  \n",
      " |  Methods defined here:\n",
      " |  \n",
      " |  __init__(self, endog, exog=None, missing='none', hasconst=None, **kwargs)\n",
      " |      Initialize self.  See help(type(self)) for accurate signature.\n",
      " |  \n",
      " |  fit_regularized(self, method='elastic_net', alpha=0.0, L1_wt=1.0, start_params=None, profile_scale=False, refit=False, **kwargs)\n",
      " |      Return a regularized fit to a linear regression model.\n",
      " |      \n",
      " |      Parameters\n",
      " |      ----------\n",
      " |      method : string\n",
      " |          'elastic_net' and 'sqrt_lasso' are currently implemented.\n",
      " |      alpha : scalar or array-like\n",
      " |          The penalty weight.  If a scalar, the same penalty weight\n",
      " |          applies to all variables in the model.  If a vector, it\n",
      " |          must have the same length as `params`, and contains a\n",
      " |          penalty weight for each coefficient.\n",
      " |      L1_wt: scalar\n",
      " |          The fraction of the penalty given to the L1 penalty term.\n",
      " |          Must be between 0 and 1 (inclusive).  If 0, the fit is a\n",
      " |          ridge fit, if 1 it is a lasso fit.\n",
      " |      start_params : array-like\n",
      " |          Starting values for ``params``.\n",
      " |      profile_scale : bool\n",
      " |          If True the penalized fit is computed using the profile\n",
      " |          (concentrated) log-likelihood for the Gaussian model.\n",
      " |          Otherwise the fit uses the residual sum of squares.\n",
      " |      refit : bool\n",
      " |          If True, the model is refit using only the variables that\n",
      " |          have non-zero coefficients in the regularized fit.  The\n",
      " |          refitted model is not regularized.\n",
      " |      distributed : bool\n",
      " |          If True, the model uses distributed methods for fitting,\n",
      " |          will raise an error if True and partitions is None.\n",
      " |      generator : function\n",
      " |          generator used to partition the model, allows for handling\n",
      " |          of out of memory/parallel computing.\n",
      " |      partitions : scalar\n",
      " |          The number of partitions desired for the distributed\n",
      " |          estimation.\n",
      " |      threshold : scalar or array-like\n",
      " |          The threshold below which coefficients are zeroed out,\n",
      " |          only used for distributed estimation\n",
      " |      \n",
      " |      Returns\n",
      " |      -------\n",
      " |      A RegularizedResults instance.\n",
      " |      \n",
      " |      Notes\n",
      " |      -----\n",
      " |      The elastic net uses a combination of L1 and L2 penalties.\n",
      " |      The implementation closely follows the glmnet package in R.\n",
      " |      \n",
      " |      The function that is minimized is:\n",
      " |      \n",
      " |      .. math::\n",
      " |      \n",
      " |          0.5*RSS/n + alpha*((1-L1\\_wt)*|params|_2^2/2 + L1\\_wt*|params|_1)\n",
      " |      \n",
      " |      where RSS is the usual regression sum of squares, n is the\n",
      " |      sample size, and :math:`|*|_1` and :math:`|*|_2` are the L1 and L2\n",
      " |      norms.\n",
      " |      \n",
      " |      For WLS and GLS, the RSS is calculated using the whitened endog and\n",
      " |      exog data.\n",
      " |      \n",
      " |      Post-estimation results are based on the same data used to\n",
      " |      select variables, hence may be subject to overfitting biases.\n",
      " |      \n",
      " |      The elastic_net method uses the following keyword arguments:\n",
      " |      \n",
      " |      maxiter : int\n",
      " |          Maximum number of iterations\n",
      " |      cnvrg_tol : float\n",
      " |          Convergence threshold for line searches\n",
      " |      zero_tol : float\n",
      " |          Coefficients below this threshold are treated as zero.\n",
      " |      \n",
      " |      The square root lasso approach is a variation of the Lasso\n",
      " |      that is largely self-tuning (the optimal tuning parameter\n",
      " |      does not depend on the standard deviation of the regression\n",
      " |      errors).  If the errors are Gaussian, the tuning parameter\n",
      " |      can be taken to be\n",
      " |      \n",
      " |      alpha = 1.1 * np.sqrt(n) * norm.ppf(1 - 0.05 / (2 * p))\n",
      " |      \n",
      " |      where n is the sample size and p is the number of predictors.\n",
      " |      \n",
      " |      The square root lasso uses the following keyword arguments:\n",
      " |      \n",
      " |      zero_tol : float\n",
      " |          Coefficients below this threshold are treated as zero.\n",
      " |      \n",
      " |      \n",
      " |      References\n",
      " |      ----------\n",
      " |      Friedman, Hastie, Tibshirani (2008).  Regularization paths for\n",
      " |      generalized linear models via coordinate descent.  Journal of\n",
      " |      Statistical Software 33(1), 1-22 Feb 2010.\n",
      " |      \n",
      " |      A Belloni, V Chernozhukov, L Wang (2011).  Square-root Lasso:\n",
      " |      pivotal recovery of sparse signals via conic programming.\n",
      " |      Biometrika 98(4), 791-806.\n",
      " |      https://arxiv.org/pdf/1009.5689.pdf\n",
      " |  \n",
      " |  hessian(self, params, scale=None)\n",
      " |      Evaluate the Hessian function at a given point.\n",
      " |      \n",
      " |      Parameters\n",
      " |      ----------\n",
      " |      params : array-like\n",
      " |          The parameter vector at which the Hessian is computed.\n",
      " |      scale : float or None\n",
      " |          If None, return the profile (concentrated) log likelihood\n",
      " |          (profiled over the scale parameter), else return the\n",
      " |          log-likelihood using the given scale value.\n",
      " |      \n",
      " |      Returns\n",
      " |      -------\n",
      " |      The Hessian matrix.\n",
      " |  \n",
      " |  hessian_factor(self, params, scale=None, observed=True)\n",
      " |      Weights for calculating Hessian\n",
      " |      \n",
      " |      Parameters\n",
      " |      ----------\n",
      " |      params : ndarray\n",
      " |          parameter at which Hessian is evaluated\n",
      " |      scale : None or float\n",
      " |          If scale is None, then the default scale will be calculated.\n",
      " |          Default scale is defined by `self.scaletype` and set in fit.\n",
      " |          If scale is not None, then it is used as a fixed scale.\n",
      " |      observed : bool\n",
      " |          If True, then the observed Hessian is returned. If false then the\n",
      " |          expected information matrix is returned.\n",
      " |      \n",
      " |      Returns\n",
      " |      -------\n",
      " |      hessian_factor : ndarray, 1d\n",
      " |          A 1d weight vector used in the calculation of the Hessian.\n",
      " |          The hessian is obtained by `(exog.T * hessian_factor).dot(exog)`\n",
      " |  \n",
      " |  loglike(self, params, scale=None)\n",
      " |      The likelihood function for the OLS model.\n",
      " |      \n",
      " |      Parameters\n",
      " |      ----------\n",
      " |      params : array-like\n",
      " |          The coefficients with which to estimate the log-likelihood.\n",
      " |      scale : float or None\n",
      " |          If None, return the profile (concentrated) log likelihood\n",
      " |          (profiled over the scale parameter), else return the\n",
      " |          log-likelihood using the given scale value.\n",
      " |      \n",
      " |      Returns\n",
      " |      -------\n",
      " |      The likelihood function evaluated at params.\n",
      " |  \n",
      " |  score(self, params, scale=None)\n",
      " |      Evaluate the score function at a given point.\n",
      " |      \n",
      " |      The score corresponds to the profile (concentrated)\n",
      " |      log-likelihood in which the scale parameter has been profiled\n",
      " |      out.\n",
      " |      \n",
      " |      Parameters\n",
      " |      ----------\n",
      " |      params : array-like\n",
      " |          The parameter vector at which the score function is\n",
      " |          computed.\n",
      " |      scale : float or None\n",
      " |          If None, return the profile (concentrated) log likelihood\n",
      " |          (profiled over the scale parameter), else return the\n",
      " |          log-likelihood using the given scale value.\n",
      " |      \n",
      " |      Returns\n",
      " |      -------\n",
      " |      The score vector.\n",
      " |  \n",
      " |  whiten(self, Y)\n",
      " |      OLS model whitener does nothing: returns Y.\n",
      " |  \n",
      " |  ----------------------------------------------------------------------\n",
      " |  Methods inherited from RegressionModel:\n",
      " |  \n",
      " |  fit(self, method='pinv', cov_type='nonrobust', cov_kwds=None, use_t=None, **kwargs)\n",
      " |      Full fit of the model.\n",
      " |      \n",
      " |      The results include an estimate of covariance matrix, (whitened)\n",
      " |      residuals and an estimate of scale.\n",
      " |      \n",
      " |      Parameters\n",
      " |      ----------\n",
      " |      method : str, optional\n",
      " |          Can be \"pinv\", \"qr\".  \"pinv\" uses the Moore-Penrose pseudoinverse\n",
      " |          to solve the least squares problem. \"qr\" uses the QR\n",
      " |          factorization.\n",
      " |      cov_type : str, optional\n",
      " |          See `regression.linear_model.RegressionResults` for a description\n",
      " |          of the available covariance estimators\n",
      " |      cov_kwds : list or None, optional\n",
      " |          See `linear_model.RegressionResults.get_robustcov_results` for a\n",
      " |          description required keywords for alternative covariance estimators\n",
      " |      use_t : bool, optional\n",
      " |          Flag indicating to use the Student's t distribution when computing\n",
      " |          p-values.  Default behavior depends on cov_type. See\n",
      " |          `linear_model.RegressionResults.get_robustcov_results` for\n",
      " |          implementation details.\n",
      " |      \n",
      " |      Returns\n",
      " |      -------\n",
      " |      A RegressionResults class instance.\n",
      " |      \n",
      " |      See Also\n",
      " |      --------\n",
      " |      regression.linear_model.RegressionResults\n",
      " |      regression.linear_model.RegressionResults.get_robustcov_results\n",
      " |      \n",
      " |      Notes\n",
      " |      -----\n",
      " |      The fit method uses the pseudoinverse of the design/exogenous variables\n",
      " |      to solve the least squares minimization.\n",
      " |  \n",
      " |  get_distribution(self, params, scale, exog=None, dist_class=None)\n",
      " |      Returns a random number generator for the predictive distribution.\n",
      " |      \n",
      " |      Parameters\n",
      " |      ----------\n",
      " |      params : array-like\n",
      " |          The model parameters (regression coefficients).\n",
      " |      scale : scalar\n",
      " |          The variance parameter.\n",
      " |      exog : array-like\n",
      " |          The predictor variable matrix.\n",
      " |      dist_class : class\n",
      " |          A random number generator class.  Must take 'loc' and 'scale'\n",
      " |          as arguments and return a random number generator implementing\n",
      " |          an ``rvs`` method for simulating random values. Defaults to Gaussian.\n",
      " |      \n",
      " |      Returns\n",
      " |      -------\n",
      " |      gen\n",
      " |          Frozen random number generator object with mean and variance\n",
      " |          determined by the fitted linear model.  Use the ``rvs`` method\n",
      " |          to generate random values.\n",
      " |      \n",
      " |      Notes\n",
      " |      -----\n",
      " |      Due to the behavior of ``scipy.stats.distributions objects``,\n",
      " |      the returned random number generator must be called with\n",
      " |      ``gen.rvs(n)`` where ``n`` is the number of observations in\n",
      " |      the data set used to fit the model.  If any other value is\n",
      " |      used for ``n``, misleading results will be produced.\n",
      " |  \n",
      " |  initialize(self)\n",
      " |      Initialize (possibly re-initialize) a Model instance. For\n",
      " |      instance, the design matrix of a linear model may change\n",
      " |      and some things must be recomputed.\n",
      " |  \n",
      " |  predict(self, params, exog=None)\n",
      " |      Return linear predicted values from a design matrix.\n",
      " |      \n",
      " |      Parameters\n",
      " |      ----------\n",
      " |      params : array-like\n",
      " |          Parameters of a linear model\n",
      " |      exog : array-like, optional.\n",
      " |          Design / exogenous data. Model exog is used if None.\n",
      " |      \n",
      " |      Returns\n",
      " |      -------\n",
      " |      An array of fitted values\n",
      " |      \n",
      " |      Notes\n",
      " |      -----\n",
      " |      If the model has not yet been fit, params is not optional.\n",
      " |  \n",
      " |  ----------------------------------------------------------------------\n",
      " |  Data descriptors inherited from RegressionModel:\n",
      " |  \n",
      " |  df_model\n",
      " |      The model degree of freedom, defined as the rank of the regressor\n",
      " |      matrix minus 1 if a constant is included.\n",
      " |  \n",
      " |  df_resid\n",
      " |      The residual degree of freedom, defined as the number of observations\n",
      " |      minus the rank of the regressor matrix.\n",
      " |  \n",
      " |  ----------------------------------------------------------------------\n",
      " |  Methods inherited from statsmodels.base.model.LikelihoodModel:\n",
      " |  \n",
      " |  information(self, params)\n",
      " |      Fisher information matrix of model\n",
      " |      \n",
      " |      Returns -Hessian of loglike evaluated at params.\n",
      " |  \n",
      " |  ----------------------------------------------------------------------\n",
      " |  Class methods inherited from statsmodels.base.model.Model:\n",
      " |  \n",
      " |  from_formula(formula, data, subset=None, drop_cols=None, *args, **kwargs) from builtins.type\n",
      " |      Create a Model from a formula and dataframe.\n",
      " |      \n",
      " |      Parameters\n",
      " |      ----------\n",
      " |      formula : str or generic Formula object\n",
      " |          The formula specifying the model\n",
      " |      data : array-like\n",
      " |          The data for the model. See Notes.\n",
      " |      subset : array-like\n",
      " |          An array-like object of booleans, integers, or index values that\n",
      " |          indicate the subset of df to use in the model. Assumes df is a\n",
      " |          `pandas.DataFrame`\n",
      " |      drop_cols : array-like\n",
      " |          Columns to drop from the design matrix.  Cannot be used to\n",
      " |          drop terms involving categoricals.\n",
      " |      args : extra arguments\n",
      " |          These are passed to the model\n",
      " |      kwargs : extra keyword arguments\n",
      " |          These are passed to the model with one exception. The\n",
      " |          ``eval_env`` keyword is passed to patsy. It can be either a\n",
      " |          :class:`patsy:patsy.EvalEnvironment` object or an integer\n",
      " |          indicating the depth of the namespace to use. For example, the\n",
      " |          default ``eval_env=0`` uses the calling namespace. If you wish\n",
      " |          to use a \"clean\" environment set ``eval_env=-1``.\n",
      " |      \n",
      " |      Returns\n",
      " |      -------\n",
      " |      model : Model instance\n",
      " |      \n",
      " |      Notes\n",
      " |      -----\n",
      " |      data must define __getitem__ with the keys in the formula terms\n",
      " |      args and kwargs are passed on to the model instantiation. E.g.,\n",
      " |      a numpy structured or rec array, a dictionary, or a pandas DataFrame.\n",
      " |  \n",
      " |  ----------------------------------------------------------------------\n",
      " |  Data descriptors inherited from statsmodels.base.model.Model:\n",
      " |  \n",
      " |  __dict__\n",
      " |      dictionary for instance variables (if defined)\n",
      " |  \n",
      " |  __weakref__\n",
      " |      list of weak references to the object (if defined)\n",
      " |  \n",
      " |  endog_names\n",
      " |      Names of endogenous variables\n",
      " |  \n",
      " |  exog_names\n",
      " |      Names of exogenous variables\n",
      "\n"
     ]
    }
   ],
   "source": [
    "# look at the helpfiles for OLS, ordinary least squares fitting, aka linear fitting\n",
    "help(sm.OLS)"
   ]
  },
  {
   "cell_type": "code",
   "execution_count": 110,
   "metadata": {},
   "outputs": [],
   "source": [
    "# same data as before:\n",
    "X = df[\"RM\"] # what we think the cost depends on\n",
    "y = df[\"MEDV\"]"
   ]
  },
  {
   "cell_type": "code",
   "execution_count": 111,
   "metadata": {},
   "outputs": [],
   "source": [
    "# Note y, the target of what we are fitting to, goes first:\n",
    "model = sm.OLS(y, X).fit()\n",
    "\n",
    "# this is fitting y = aX, with no constant, i.e. using an intercept of zero"
   ]
  },
  {
   "cell_type": "code",
   "execution_count": 112,
   "metadata": {},
   "outputs": [
    {
     "data": {
      "text/plain": [
       "RM    3.65335\n",
       "dtype: float64"
      ]
     },
     "execution_count": 112,
     "metadata": {},
     "output_type": "execute_result"
    }
   ],
   "source": [
    "model.params"
   ]
  },
  {
   "cell_type": "code",
   "execution_count": 113,
   "metadata": {},
   "outputs": [
    {
     "name": "stdout",
     "output_type": "stream",
     "text": [
      "                                 OLS Regression Results                                \n",
      "=======================================================================================\n",
      "Dep. Variable:                   MEDV   R-squared (uncentered):                   0.901\n",
      "Model:                            OLS   Adj. R-squared (uncentered):              0.901\n",
      "Method:                 Least Squares   F-statistic:                              4615.\n",
      "Date:                Thu, 17 Oct 2019   Prob (F-statistic):                   3.74e-256\n",
      "Time:                        14:41:00   Log-Likelihood:                         -1747.1\n",
      "No. Observations:                 506   AIC:                                      3496.\n",
      "Df Residuals:                     505   BIC:                                      3500.\n",
      "Df Model:                           1                                                  \n",
      "Covariance Type:            nonrobust                                                  \n",
      "==============================================================================\n",
      "                 coef    std err          t      P>|t|      [0.025      0.975]\n",
      "------------------------------------------------------------------------------\n",
      "RM             3.6534      0.054     67.930      0.000       3.548       3.759\n",
      "==============================================================================\n",
      "Omnibus:                       83.295   Durbin-Watson:                   0.493\n",
      "Prob(Omnibus):                  0.000   Jarque-Bera (JB):              152.507\n",
      "Skew:                           0.955   Prob(JB):                     7.65e-34\n",
      "Kurtosis:                       4.894   Cond. No.                         1.00\n",
      "==============================================================================\n",
      "\n",
      "Warnings:\n",
      "[1] Standard Errors assume that the covariance matrix of the errors is correctly specified.\n"
     ]
    }
   ],
   "source": [
    "print(model.summary())"
   ]
  },
  {
   "cell_type": "code",
   "execution_count": 114,
   "metadata": {},
   "outputs": [],
   "source": [
    "predictions = model.predict(X) # make the predictions by the model"
   ]
  },
  {
   "cell_type": "code",
   "execution_count": 115,
   "metadata": {},
   "outputs": [
    {
     "data": {
      "text/plain": [
       "Text(0,0.5,'House value ($1000s)')"
      ]
     },
     "execution_count": 115,
     "metadata": {},
     "output_type": "execute_result"
    },
    {
     "data": {
      "image/png": "[encoded data removed]",
      "text/plain": [
       "<Figure size 432x288 with 1 Axes>"
      ]
     },
     "metadata": {
      "needs_background": "light"
     },
     "output_type": "display_data"
    }
   ],
   "source": [
    "plt.plot(X,predictions, 'k--')\n",
    "plt.scatter(df[\"RM\"], target[\"MEDV\"])\n",
    "plt.xlabel('Number of Rooms')\n",
    "plt.ylabel('House value ($1000s)')\n",
    "# this is not a very good fit\n",
    "# the fit is so bad because it assumes the y-int is 0"
   ]
  },
  {
   "cell_type": "markdown",
   "metadata": {},
   "source": [
    "The above was not a good fit, because we are assuming the intercept is zero\n",
    "\n",
    "### E6. Following the example in the documentation below, add an intercept to the model and plot your result\n",
    "\n",
    "http://www.statsmodels.org/dev/examples/notebooks/generated/ols.html"
   ]
  },
  {
   "cell_type": "code",
   "execution_count": 116,
   "metadata": {},
   "outputs": [],
   "source": [
    "import statsmodels.api as sm\n",
    "from statsmodels.sandbox.regression.predstd import wls_prediction_std"
   ]
  },
  {
   "cell_type": "code",
   "execution_count": 128,
   "metadata": {},
   "outputs": [],
   "source": [
    "X = df[\"RM\"] # what we think the cost depends on\n",
    "X2 = sm.add_constant(X) # add column of ones\n",
    "y = target['MEDV']\n",
    "#df.head()"
   ]
  },
  {
   "cell_type": "code",
   "execution_count": 130,
   "metadata": {},
   "outputs": [
    {
     "data": {
      "text/html": [
       "<div>\n",
       "<style scoped>\n",
       "    .dataframe tbody tr th:only-of-type {\n",
       "        vertical-align: middle;\n",
       "    }\n",
       "\n",
       "    .dataframe tbody tr th {\n",
       "        vertical-align: top;\n",
       "    }\n",
       "\n",
       "    .dataframe thead th {\n",
       "        text-align: right;\n",
       "    }\n",
       "</style>\n",
       "<table border=\"1\" class=\"dataframe\">\n",
       "  <thead>\n",
       "    <tr style=\"text-align: right;\">\n",
       "      <th></th>\n",
       "      <th>const</th>\n",
       "      <th>RM</th>\n",
       "    </tr>\n",
       "  </thead>\n",
       "  <tbody>\n",
       "    <tr>\n",
       "      <th>0</th>\n",
       "      <td>1.0</td>\n",
       "      <td>6.575</td>\n",
       "    </tr>\n",
       "    <tr>\n",
       "      <th>1</th>\n",
       "      <td>1.0</td>\n",
       "      <td>6.421</td>\n",
       "    </tr>\n",
       "    <tr>\n",
       "      <th>2</th>\n",
       "      <td>1.0</td>\n",
       "      <td>7.185</td>\n",
       "    </tr>\n",
       "    <tr>\n",
       "      <th>3</th>\n",
       "      <td>1.0</td>\n",
       "      <td>6.998</td>\n",
       "    </tr>\n",
       "    <tr>\n",
       "      <th>4</th>\n",
       "      <td>1.0</td>\n",
       "      <td>7.147</td>\n",
       "    </tr>\n",
       "  </tbody>\n",
       "</table>\n",
       "</div>"
      ],
      "text/plain": [
       "   const     RM\n",
       "0    1.0  6.575\n",
       "1    1.0  6.421\n",
       "2    1.0  7.185\n",
       "3    1.0  6.998\n",
       "4    1.0  7.147"
      ]
     },
     "execution_count": 130,
     "metadata": {},
     "output_type": "execute_result"
    }
   ],
   "source": [
    "X2.head()"
   ]
  },
  {
   "cell_type": "code",
   "execution_count": 135,
   "metadata": {},
   "outputs": [],
   "source": [
    "model = sm.OLS(y,X2).fit()"
   ]
  },
  {
   "cell_type": "code",
   "execution_count": 132,
   "metadata": {},
   "outputs": [],
   "source": [
    "#results = model.fit() ###added .fit() above and it finally worked"
   ]
  },
  {
   "cell_type": "code",
   "execution_count": 136,
   "metadata": {},
   "outputs": [],
   "source": [
    "predictions = model.predict(X2)"
   ]
  },
  {
   "cell_type": "code",
   "execution_count": 137,
   "metadata": {},
   "outputs": [
    {
     "data": {
      "text/plain": [
       "Text(0,0.5,'House value ($1000s)')"
      ]
     },
     "execution_count": 137,
     "metadata": {},
     "output_type": "execute_result"
    },
    {
     "data": {
      "image/png": "[encoded data removed]",
      "text/plain": [
       "<Figure size 432x288 with 1 Axes>"
      ]
     },
     "metadata": {
      "needs_background": "light"
     },
     "output_type": "display_data"
    }
   ],
   "source": [
    "plt.plot(X,predictions, 'k--')\n",
    "plt.scatter(df[\"RM\"], target[\"MEDV\"])\n",
    "plt.xlabel('Number of Rooms')\n",
    "plt.ylabel('House value ($1000s)')"
   ]
  },
  {
   "cell_type": "code",
   "execution_count": null,
   "metadata": {},
   "outputs": [],
   "source": []
  },
  {
   "cell_type": "code",
   "execution_count": null,
   "metadata": {},
   "outputs": [],
   "source": []
  },
  {
   "cell_type": "markdown",
   "metadata": {},
   "source": [
    "## Note: if you don't finish the below in lab, complete for homework"
   ]
  },
  {
   "cell_type": "markdown",
   "metadata": {},
   "source": [
    "### E7. Complete the tutorial: \n",
    "\n",
    "https://towardsdatascience.com/linear-regression-on-boston-housing-dataset-f409b7e4a155"
   ]
  },
  {
   "cell_type": "code",
   "execution_count": 147,
   "metadata": {},
   "outputs": [],
   "source": [
    "import numpy as np\n",
    "import matplotlib.pyplot as plt \n",
    "import pandas as pd  \n",
    "import seaborn as sns "
   ]
  },
  {
   "cell_type": "code",
   "execution_count": 148,
   "metadata": {},
   "outputs": [],
   "source": [
    "# load data set\n",
    "from sklearn.datasets import load_boston\n",
    "boston_dataset = load_boston()"
   ]
  },
  {
   "cell_type": "code",
   "execution_count": 149,
   "metadata": {},
   "outputs": [
    {
     "name": "stdout",
     "output_type": "stream",
     "text": [
      "dict_keys(['data', 'target', 'feature_names', 'DESCR', 'filename'])\n"
     ]
    }
   ],
   "source": [
    "# this prints the names of the columns\n",
    "print(boston_dataset.keys())"
   ]
  },
  {
   "cell_type": "code",
   "execution_count": 154,
   "metadata": {},
   "outputs": [
    {
     "data": {
      "text/html": [
       "<div>\n",
       "<style scoped>\n",
       "    .dataframe tbody tr th:only-of-type {\n",
       "        vertical-align: middle;\n",
       "    }\n",
       "\n",
       "    .dataframe tbody tr th {\n",
       "        vertical-align: top;\n",
       "    }\n",
       "\n",
       "    .dataframe thead th {\n",
       "        text-align: right;\n",
       "    }\n",
       "</style>\n",
       "<table border=\"1\" class=\"dataframe\">\n",
       "  <thead>\n",
       "    <tr style=\"text-align: right;\">\n",
       "      <th></th>\n",
       "      <th>CRIM</th>\n",
       "      <th>ZN</th>\n",
       "      <th>INDUS</th>\n",
       "      <th>CHAS</th>\n",
       "      <th>NOX</th>\n",
       "      <th>RM</th>\n",
       "      <th>AGE</th>\n",
       "      <th>DIS</th>\n",
       "      <th>RAD</th>\n",
       "      <th>TAX</th>\n",
       "      <th>PTRATIO</th>\n",
       "      <th>B</th>\n",
       "      <th>LSTAT</th>\n",
       "    </tr>\n",
       "  </thead>\n",
       "  <tbody>\n",
       "    <tr>\n",
       "      <th>0</th>\n",
       "      <td>0.00632</td>\n",
       "      <td>18.0</td>\n",
       "      <td>2.31</td>\n",
       "      <td>0.0</td>\n",
       "      <td>0.538</td>\n",
       "      <td>6.575</td>\n",
       "      <td>65.2</td>\n",
       "      <td>4.0900</td>\n",
       "      <td>1.0</td>\n",
       "      <td>296.0</td>\n",
       "      <td>15.3</td>\n",
       "      <td>396.90</td>\n",
       "      <td>4.98</td>\n",
       "    </tr>\n",
       "    <tr>\n",
       "      <th>1</th>\n",
       "      <td>0.02731</td>\n",
       "      <td>0.0</td>\n",
       "      <td>7.07</td>\n",
       "      <td>0.0</td>\n",
       "      <td>0.469</td>\n",
       "      <td>6.421</td>\n",
       "      <td>78.9</td>\n",
       "      <td>4.9671</td>\n",
       "      <td>2.0</td>\n",
       "      <td>242.0</td>\n",
       "      <td>17.8</td>\n",
       "      <td>396.90</td>\n",
       "      <td>9.14</td>\n",
       "    </tr>\n",
       "    <tr>\n",
       "      <th>2</th>\n",
       "      <td>0.02729</td>\n",
       "      <td>0.0</td>\n",
       "      <td>7.07</td>\n",
       "      <td>0.0</td>\n",
       "      <td>0.469</td>\n",
       "      <td>7.185</td>\n",
       "      <td>61.1</td>\n",
       "      <td>4.9671</td>\n",
       "      <td>2.0</td>\n",
       "      <td>242.0</td>\n",
       "      <td>17.8</td>\n",
       "      <td>392.83</td>\n",
       "      <td>4.03</td>\n",
       "    </tr>\n",
       "    <tr>\n",
       "      <th>3</th>\n",
       "      <td>0.03237</td>\n",
       "      <td>0.0</td>\n",
       "      <td>2.18</td>\n",
       "      <td>0.0</td>\n",
       "      <td>0.458</td>\n",
       "      <td>6.998</td>\n",
       "      <td>45.8</td>\n",
       "      <td>6.0622</td>\n",
       "      <td>3.0</td>\n",
       "      <td>222.0</td>\n",
       "      <td>18.7</td>\n",
       "      <td>394.63</td>\n",
       "      <td>2.94</td>\n",
       "    </tr>\n",
       "    <tr>\n",
       "      <th>4</th>\n",
       "      <td>0.06905</td>\n",
       "      <td>0.0</td>\n",
       "      <td>2.18</td>\n",
       "      <td>0.0</td>\n",
       "      <td>0.458</td>\n",
       "      <td>7.147</td>\n",
       "      <td>54.2</td>\n",
       "      <td>6.0622</td>\n",
       "      <td>3.0</td>\n",
       "      <td>222.0</td>\n",
       "      <td>18.7</td>\n",
       "      <td>396.90</td>\n",
       "      <td>5.33</td>\n",
       "    </tr>\n",
       "  </tbody>\n",
       "</table>\n",
       "</div>"
      ],
      "text/plain": [
       "      CRIM    ZN  INDUS  CHAS    NOX     RM   AGE     DIS  RAD    TAX  \\\n",
       "0  0.00632  18.0   2.31   0.0  0.538  6.575  65.2  4.0900  1.0  296.0   \n",
       "1  0.02731   0.0   7.07   0.0  0.469  6.421  78.9  4.9671  2.0  242.0   \n",
       "2  0.02729   0.0   7.07   0.0  0.469  7.185  61.1  4.9671  2.0  242.0   \n",
       "3  0.03237   0.0   2.18   0.0  0.458  6.998  45.8  6.0622  3.0  222.0   \n",
       "4  0.06905   0.0   2.18   0.0  0.458  7.147  54.2  6.0622  3.0  222.0   \n",
       "\n",
       "   PTRATIO       B  LSTAT  \n",
       "0     15.3  396.90   4.98  \n",
       "1     17.8  396.90   9.14  \n",
       "2     17.8  392.83   4.03  \n",
       "3     18.7  394.63   2.94  \n",
       "4     18.7  396.90   5.33  "
      ]
     },
     "execution_count": 154,
     "metadata": {},
     "output_type": "execute_result"
    }
   ],
   "source": [
    "boston = pd.DataFrame(boston_dataset.data, columns=boston_dataset.feature_names)\n",
    "boston.head()"
   ]
  },
  {
   "cell_type": "code",
   "execution_count": 155,
   "metadata": {},
   "outputs": [],
   "source": [
    "boston['MEDV'] = boston_dataset.target"
   ]
  },
  {
   "cell_type": "code",
   "execution_count": 156,
   "metadata": {},
   "outputs": [
    {
     "data": {
      "text/plain": [
       "CRIM       0\n",
       "ZN         0\n",
       "INDUS      0\n",
       "CHAS       0\n",
       "NOX        0\n",
       "RM         0\n",
       "AGE        0\n",
       "DIS        0\n",
       "RAD        0\n",
       "TAX        0\n",
       "PTRATIO    0\n",
       "B          0\n",
       "LSTAT      0\n",
       "MEDV       0\n",
       "dtype: int64"
      ]
     },
     "execution_count": 156,
     "metadata": {},
     "output_type": "execute_result"
    }
   ],
   "source": [
    "boston.isnull().sum() #check for missing values in data set"
   ]
  },
  {
   "cell_type": "code",
   "execution_count": 157,
   "metadata": {},
   "outputs": [
    {
     "data": {
      "image/png": "[encoded data removed]",
      "text/plain": [
       "<Figure size 842.4x595.44 with 1 Axes>"
      ]
     },
     "metadata": {},
     "output_type": "display_data"
    }
   ],
   "source": [
    "sns.set(rc={'figure.figsize':(11.7,8.27)}) #gives fig size\n",
    "sns.distplot(boston['MEDV'], bins=30) #creats the plot and assigns the num of bins\n",
    "plt.show()"
   ]
  },
  {
   "cell_type": "code",
   "execution_count": 158,
   "metadata": {},
   "outputs": [
    {
     "data": {
      "text/plain": [
       "<matplotlib.axes._subplots.AxesSubplot at 0x197196eadd8>"
      ]
     },
     "execution_count": 158,
     "metadata": {},
     "output_type": "execute_result"
    },
    {
     "data": {
      "image/png": "[encoded data removed]",
      "text/plain": [
       "<Figure size 842.4x595.44 with 2 Axes>"
      ]
     },
     "metadata": {},
     "output_type": "display_data"
    }
   ],
   "source": [
    "correlation_matrix = boston.corr().round(2)\n",
    "# annot = True to print the values inside the square\n",
    "sns.heatmap(data=correlation_matrix, annot=True)"
   ]
  },
  {
   "cell_type": "code",
   "execution_count": 159,
   "metadata": {},
   "outputs": [
    {
     "data": {
      "image/png": "[encoded data removed]",
      "text/plain": [
       "<Figure size 1440x360 with 2 Axes>"
      ]
     },
     "metadata": {},
     "output_type": "display_data"
    }
   ],
   "source": [
    "plt.figure(figsize=(20, 5))\n",
    "\n",
    "features = ['LSTAT', 'RM']\n",
    "target = boston['MEDV']\n",
    "\n",
    "for i, col in enumerate(features):\n",
    "    plt.subplot(1, len(features) , i+1) #this line defines where in the sub plot the fig would go,  \n",
    "    x = boston[col]                           # if there were variable I think they would all end up on one line\n",
    "    y = target\n",
    "    plt.scatter(x, y, marker='o')\n",
    "    plt.title(col)\n",
    "    plt.xlabel(col)\n",
    "    plt.ylabel('MEDV')"
   ]
  },
  {
   "cell_type": "code",
   "execution_count": 160,
   "metadata": {},
   "outputs": [],
   "source": [
    "#prepare the data to train the model \n",
    "X = pd.DataFrame(np.c_[boston['LSTAT'], boston['RM']], columns = ['LSTAT','RM'])\n",
    "Y = boston['MEDV']"
   ]
  },
  {
   "cell_type": "code",
   "execution_count": 161,
   "metadata": {},
   "outputs": [
    {
     "name": "stdout",
     "output_type": "stream",
     "text": [
      "(404, 2)\n",
      "(102, 2)\n",
      "(404,)\n",
      "(102,)\n"
     ]
    }
   ],
   "source": [
    "#split the data into training and testing sets\n",
    "from sklearn.model_selection import train_test_split\n",
    "\n",
    "X_train, X_test, Y_train, Y_test = train_test_split(X, Y, test_size = 0.2, random_state=5)\n",
    "print(X_train.shape)\n",
    "print(X_test.shape)\n",
    "print(Y_train.shape)\n",
    "print(Y_test.shape)"
   ]
  },
  {
   "cell_type": "code",
   "execution_count": 164,
   "metadata": {},
   "outputs": [
    {
     "data": {
      "text/plain": [
       "LinearRegression(copy_X=True, fit_intercept=True, n_jobs=None, normalize=False)"
      ]
     },
     "execution_count": 164,
     "metadata": {},
     "output_type": "execute_result"
    }
   ],
   "source": [
    "#train model\n",
    "from sklearn.linear_model import LinearRegression\n",
    "from sklearn.metrics import mean_squared_error\n",
    "\n",
    "lin_model = LinearRegression()\n",
    "lin_model.fit(X_train, Y_train)"
   ]
  },
  {
   "cell_type": "code",
   "execution_count": 174,
   "metadata": {},
   "outputs": [
    {
     "name": "stdout",
     "output_type": "stream",
     "text": [
      "The model performance for training set\n",
      "--------------------------------------\n",
      "RMSE is 5.6371293350711955\n",
      "R2 score is 0.6300745149331701\n",
      "\n",
      "\n",
      "The model performance for testing set\n",
      "--------------------------------------\n",
      "RMSE is 5.13740078470291\n",
      "R2 score is 0.6628996975186954\n"
     ]
    }
   ],
   "source": [
    "# use stats to look at how well the model fits the data\n",
    "# model evaluation for training set\n",
    "from sklearn.metrics import r2_score\n",
    "\n",
    "y_train_predict = lin_model.predict(X_train)\n",
    "rmse = (np.sqrt(mean_squared_error(Y_train, y_train_predict)))\n",
    "r2 = r2_score(Y_train, y_train_predict)\n",
    "print(\"The model performance for training set\")\n",
    "print(\"--------------------------------------\")\n",
    "print('RMSE is {}'.format(rmse))\n",
    "print('R2 score is {}'.format(r2))\n",
    "print(\"\\n\")\n",
    "\n",
    "# model evaluation for testing set\n",
    "y_test_predict = lin_model.predict(X_test)\n",
    "rmse = (np.sqrt(mean_squared_error(Y_test, y_test_predict)))\n",
    "r2 = r2_score(Y_test, y_test_predict)\n",
    "\n",
    "print(\"The model performance for testing set\")\n",
    "print(\"--------------------------------------\")\n",
    "print('RMSE is {}'.format(rmse))\n",
    "print('R2 score is {}'.format(r2))"
   ]
  },
  {
   "cell_type": "code",
   "execution_count": null,
   "metadata": {},
   "outputs": [],
   "source": []
  },
  {
   "cell_type": "markdown",
   "metadata": {},
   "source": [
    "### E8. Following the methods in the tutorial above, do the regression with just the rooms and not the other variable. How does this compare with the scipy result?\n",
    "\n",
    "This may be helpful is figuring out how to write out the slope and intercept:\n",
    "\n",
    "https://towardsdatascience.com/linear-regression-using-python-b136c91bf0a2"
   ]
  },
  {
   "cell_type": "code",
   "execution_count": 175,
   "metadata": {},
   "outputs": [
    {
     "data": {
      "image/png": "[encoded data removed]",
      "text/plain": [
       "<Figure size 1440x360 with 1 Axes>"
      ]
     },
     "metadata": {},
     "output_type": "display_data"
    }
   ],
   "source": [
    "plt.figure(figsize=(20, 5))\n",
    "\n",
    "features = ['RM']\n",
    "target = boston['MEDV']\n",
    "\n",
    "for i, col in enumerate(features):\n",
    "    plt.subplot(1, len(features) , i+1) #this line defines where in the sub plot the fig would go,  \n",
    "    x = boston[col]                           # if there were variable I think they would all end up on one line\n",
    "    y = target\n",
    "    plt.scatter(x, y, marker='o')\n",
    "    plt.title(col)\n",
    "    plt.xlabel(col)\n",
    "    plt.ylabel('MEDV')"
   ]
  },
  {
   "cell_type": "code",
   "execution_count": 176,
   "metadata": {},
   "outputs": [],
   "source": [
    "X = pd.DataFrame(np.c_[boston['RM']], columns = ['RM'])\n",
    "Y = boston['MEDV']"
   ]
  },
  {
   "cell_type": "code",
   "execution_count": 177,
   "metadata": {},
   "outputs": [
    {
     "name": "stdout",
     "output_type": "stream",
     "text": [
      "(404, 1)\n",
      "(102, 1)\n",
      "(404,)\n",
      "(102,)\n"
     ]
    }
   ],
   "source": [
    "#split the data into training and testing sets\n",
    "from sklearn.model_selection import train_test_split\n",
    "\n",
    "X_train, X_test, Y_train, Y_test = train_test_split(X, Y, test_size = 0.2, random_state=5)\n",
    "print(X_train.shape)\n",
    "print(X_test.shape)\n",
    "print(Y_train.shape)\n",
    "print(Y_test.shape)"
   ]
  },
  {
   "cell_type": "code",
   "execution_count": 178,
   "metadata": {},
   "outputs": [
    {
     "data": {
      "text/plain": [
       "LinearRegression(copy_X=True, fit_intercept=True, n_jobs=None, normalize=False)"
      ]
     },
     "execution_count": 178,
     "metadata": {},
     "output_type": "execute_result"
    }
   ],
   "source": [
    "#train model\n",
    "from sklearn.linear_model import LinearRegression\n",
    "from sklearn.metrics import mean_squared_error\n",
    "\n",
    "lin_model = LinearRegression()\n",
    "lin_model.fit(X_train, Y_train)"
   ]
  },
  {
   "cell_type": "code",
   "execution_count": 179,
   "metadata": {},
   "outputs": [
    {
     "name": "stdout",
     "output_type": "stream",
     "text": [
      "The model performance for training set\n",
      "--------------------------------------\n",
      "RMSE is 6.972277149440585\n",
      "R2 score is 0.4340897790637215\n",
      "\n",
      "\n",
      "The model performance for testing set\n",
      "--------------------------------------\n",
      "RMSE is 4.895963186952216\n",
      "R2 score is 0.6938399401553497\n"
     ]
    }
   ],
   "source": [
    "# use stats to look at how well the model fits the data\n",
    "# model evaluation for training set\n",
    "from sklearn.metrics import r2_score\n",
    "\n",
    "y_train_predict = lin_model.predict(X_train)\n",
    "rmse = (np.sqrt(mean_squared_error(Y_train, y_train_predict)))\n",
    "r2 = r2_score(Y_train, y_train_predict)\n",
    "print(\"The model performance for training set\")\n",
    "print(\"--------------------------------------\")\n",
    "print('RMSE is {}'.format(rmse))\n",
    "print('R2 score is {}'.format(r2))\n",
    "print(\"\\n\")\n",
    "\n",
    "# model evaluation for testing set\n",
    "y_test_predict = lin_model.predict(X_test)\n",
    "rmse = (np.sqrt(mean_squared_error(Y_test, y_test_predict)))\n",
    "r2 = r2_score(Y_test, y_test_predict)\n",
    "\n",
    "print(\"The model performance for testing set\")\n",
    "print(\"--------------------------------------\")\n",
    "print('RMSE is {}'.format(rmse))\n",
    "print('R2 score is {}'.format(r2))"
   ]
  },
  {
   "cell_type": "markdown",
   "metadata": {},
   "source": [
    "* The r_value using scipy was 0.695359947071539, this is very close to the R2 score for the testing set which is 0.6938399401553497 \n",
    "* The R2 score for the training set was not as similar but this makes sense becuase there is less data in the training set"
   ]
  },
  {
   "cell_type": "code",
   "execution_count": null,
   "metadata": {},
   "outputs": [],
   "source": []
  }
 ],
 "metadata": {
  "kernelspec": {
   "display_name": "Python 3",
   "language": "python",
   "name": "python3"
  },
  "language_info": {
   "codemirror_mode": {
    "name": "ipython",
    "version": 3
   },
   "file_extension": ".py",
   "mimetype": "text/x-python",
   "name": "python",
   "nbconvert_exporter": "python",
   "pygments_lexer": "ipython3",
   "version": "3.7.1"
  }
 },
 "nbformat": 4,
 "nbformat_minor": 4
}
