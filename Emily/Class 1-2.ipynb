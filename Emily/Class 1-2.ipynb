{
 "cells": [
  {
   "cell_type": "markdown",
   "metadata": {},
   "source": [
    "# Indexing lecture\n"
   ]
  },
  {
   "cell_type": "code",
   "execution_count": null,
   "metadata": {},
   "outputs": [],
   "source": [
    "colors= ['red', 'geren', 'blue', 'yellow']"
   ]
  },
  {
   "cell_type": "code",
   "execution_count": 2,
   "metadata": {},
   "outputs": [
    {
     "data": {
      "text/plain": [
       "'red'"
      ]
     },
     "execution_count": 2,
     "metadata": {},
     "output_type": "execute_result"
    }
   ],
   "source": [
    "colors[0]"
   ]
  },
  {
   "cell_type": "code",
   "execution_count": 3,
   "metadata": {},
   "outputs": [
    {
     "data": {
      "text/plain": [
       "['red', 'orange', 'blue', 'yellow']"
      ]
     },
     "execution_count": 3,
     "metadata": {},
     "output_type": "execute_result"
    }
   ],
   "source": [
    "#replace green with orange\n",
    "colors [1]= 'orange'\n",
    "colors"
   ]
  },
  {
   "cell_type": "code",
   "execution_count": 4,
   "metadata": {},
   "outputs": [
    {
     "data": {
      "text/plain": [
       "'yellow'"
      ]
     },
     "execution_count": 4,
     "metadata": {},
     "output_type": "execute_result"
    }
   ],
   "source": [
    "#to access from the end of the list use a negative\n",
    "colors[-1] "
   ]
  },
  {
   "cell_type": "code",
   "execution_count": 5,
   "metadata": {},
   "outputs": [
    {
     "data": {
      "text/plain": [
       "['orange', 'blue']"
      ]
     },
     "execution_count": 5,
     "metadata": {},
     "output_type": "execute_result"
    }
   ],
   "source": [
    "#access sections of the list\n",
    "#it ignores the last number, no known reason\n",
    "colors[1:3]"
   ]
  },
  {
   "cell_type": "code",
   "execution_count": 6,
   "metadata": {},
   "outputs": [
    {
     "data": {
      "text/plain": [
       "['orange', 'blue', 'yellow']"
      ]
     },
     "execution_count": 6,
     "metadata": {},
     "output_type": "execute_result"
    }
   ],
   "source": [
    "colors[1:4] \n",
    "#or use\n",
    "colors[1:]\n",
    "#colon by itself means \"to the end of the list\""
   ]
  },
  {
   "cell_type": "code",
   "execution_count": 7,
   "metadata": {},
   "outputs": [
    {
     "data": {
      "text/plain": [
       "['red', 'orange']"
      ]
     },
     "execution_count": 7,
     "metadata": {},
     "output_type": "execute_result"
    }
   ],
   "source": [
    "# colon on its own gives the entire list\n",
    "colors[:]\n",
    "#to access elements from the first up to, but not including the second from the last\n",
    "colors[:-2]"
   ]
  },
  {
   "cell_type": "code",
   "execution_count": 8,
   "metadata": {},
   "outputs": [
    {
     "data": {
      "text/plain": [
       "['white', 'blue', 'yellow']"
      ]
     },
     "execution_count": 8,
     "metadata": {},
     "output_type": "execute_result"
    }
   ],
   "source": [
    "colors[:-2] = ['white']\n",
    "colors"
   ]
  },
  {
   "cell_type": "markdown",
   "metadata": {},
   "source": [
    "# For loops are usefull\n"
   ]
  },
  {
   "cell_type": "markdown",
   "metadata": {},
   "source": [
    "syntax is like programming spelling and grammar"
   ]
  },
  {
   "cell_type": "code",
   "execution_count": 9,
   "metadata": {},
   "outputs": [
    {
     "name": "stdout",
     "output_type": "stream",
     "text": [
      "['red', 'green', 'blue', 'yellow']\n",
      "['red', 'green', 'blue', 'yellow']\n",
      "['red', 'green', 'blue', 'yellow']\n",
      "['red', 'green', 'blue', 'yellow']\n"
     ]
    }
   ],
   "source": [
    "# basic syntax is: for X in Y\n",
    "#ex: for color in colors:    <- must have colon\n",
    "    #print colors  <- tab tells what is in the for loop\n",
    "colors =['red', 'green', 'blue','yellow']\n",
    "for color in colors:\n",
    "    print (colors)\n",
    "    "
   ]
  },
  {
   "cell_type": "code",
   "execution_count": 11,
   "metadata": {},
   "outputs": [
    {
     "name": "stdout",
     "output_type": "stream",
     "text": [
      "red\n",
      "green\n",
      "blue\n",
      "yellow\n"
     ]
    }
   ],
   "source": [
    "for x in colors:\n",
    "    print(x)"
   ]
  },
  {
   "cell_type": "code",
   "execution_count": 12,
   "metadata": {},
   "outputs": [
    {
     "name": "stdout",
     "output_type": "stream",
     "text": [
      "red\n",
      "yellow\n",
      "green\n",
      "yellow\n",
      "blue\n",
      "yellow\n",
      "yellow\n",
      "yellow\n"
     ]
    }
   ],
   "source": [
    "for x in colors:\n",
    "    print(x)\n",
    "    print(color)"
   ]
  },
  {
   "cell_type": "code",
   "execution_count": 13,
   "metadata": {},
   "outputs": [
    {
     "name": "stdout",
     "output_type": "stream",
     "text": [
      "red\n",
      "green\n",
      "blue\n",
      "yellow\n",
      "yellow\n"
     ]
    }
   ],
   "source": [
    "#the first part of this loop, loops through all of the colors\n",
    "#because there is no tab before print(color) so it is not in the for loop \n",
    "for x in colors:\n",
    "    print(x)\n",
    "print(color)"
   ]
  },
  {
   "cell_type": "markdown",
   "metadata": {},
   "source": [
    "more examples of for loops\n"
   ]
  },
  {
   "cell_type": "code",
   "execution_count": 14,
   "metadata": {},
   "outputs": [
    {
     "name": "stdout",
     "output_type": "stream",
     "text": [
      "0\n",
      "1\n",
      "2\n",
      "3\n",
      "4\n"
     ]
    }
   ],
   "source": [
    "#another type uses what is called a range\n",
    "for i in range(0,5):  #this also does not include the last number in the same way that indexing does not include the last \n",
    "    print(i)"
   ]
  },
  {
   "cell_type": "code",
   "execution_count": 43,
   "metadata": {},
   "outputs": [
    {
     "name": "stdout",
     "output_type": "stream",
     "text": [
      "red\n",
      "green\n",
      "blue\n",
      "yellow\n"
     ]
    }
   ],
   "source": [
    "# use for loop and range to print all colors in the loop\n",
    "colors =['red', 'green', 'blue','yellow']\n",
    "for i in range(0,4):\n",
    "    print(colors[i])"
   ]
  },
  {
   "cell_type": "code",
   "execution_count": 20,
   "metadata": {},
   "outputs": [
    {
     "name": "stdout",
     "output_type": "stream",
     "text": [
      "i =0\n",
      "red\n",
      "i =1\n",
      "green\n",
      "i =2\n",
      "blue\n",
      "i =3\n",
      "yellow\n"
     ]
    }
   ],
   "source": [
    "for i in range(0,4):\n",
    "    print('i =' + str(i)) #converted i to a string for printing it as text\n",
    "    print(colors[i])\n"
   ]
  },
  {
   "cell_type": "markdown",
   "metadata": {},
   "source": [
    "# If statements and if/else if /else\n"
   ]
  },
  {
   "cell_type": "code",
   "execution_count": 23,
   "metadata": {},
   "outputs": [
    {
     "name": "stdout",
     "output_type": "stream",
     "text": [
      "3\n"
     ]
    }
   ],
   "source": [
    "#these are the same as if/then statements in CR1000 code\n",
    "# this will print x because the statement is true\n",
    "x = 3\n",
    "if (x > 1):\n",
    "    print(x)"
   ]
  },
  {
   "cell_type": "code",
   "execution_count": 24,
   "metadata": {},
   "outputs": [
    {
     "data": {
      "text/plain": [
       "True"
      ]
     },
     "execution_count": 24,
     "metadata": {},
     "output_type": "execute_result"
    }
   ],
   "source": [
    "#boolians are true false statements\n",
    "x > 1"
   ]
  },
  {
   "cell_type": "code",
   "execution_count": 25,
   "metadata": {},
   "outputs": [
    {
     "name": "stdout",
     "output_type": "stream",
     "text": [
      "3\n",
      "Here 3\n"
     ]
    }
   ],
   "source": [
    "if (x > 3):   #beacuse this statement is not true, x does not get printed\n",
    "    print(x)\n",
    "    print(\"Here 1\")#the Here 1 tells you where a response is coming from because the statements that are not true will not be executed\n",
    "elif (x == 2):\n",
    "    print(x)\n",
    "    print('Here 2')\n",
    "else:                  #else does not have anything after it so it will just execute the following command regardless\n",
    "    print(x)\n",
    "    print('Here 3')  "
   ]
  },
  {
   "cell_type": "code",
   "execution_count": 26,
   "metadata": {},
   "outputs": [
    {
     "name": "stdout",
     "output_type": "stream",
     "text": [
      "1\n",
      "Here 3\n"
     ]
    }
   ],
   "source": [
    "#what are the conditions to get to the else statement\n",
    "#x=2\n",
    "x=1\n",
    "if (x > 3):   \n",
    "    print(x)\n",
    "    print(\"Here 1\")\n",
    "elif (x == 2):\n",
    "    print(x)\n",
    "    print('Here 2')\n",
    "else:                  \n",
    "    print(x)\n",
    "    print('Here 3')  "
   ]
  },
  {
   "cell_type": "code",
   "execution_count": 27,
   "metadata": {},
   "outputs": [
    {
     "name": "stdout",
     "output_type": "stream",
     "text": [
      "-3\n",
      "Here 3\n"
     ]
    }
   ],
   "source": [
    "x= -3\n",
    "if (x > 3):   \n",
    "    print(x)\n",
    "    print(\"Here 1\")\n",
    "elif (x == 2):\n",
    "    print(x)\n",
    "    print('Here 2')\n",
    "else:                  \n",
    "    print(x)\n",
    "    print('Here 3')  "
   ]
  },
  {
   "cell_type": "code",
   "execution_count": 28,
   "metadata": {},
   "outputs": [
    {
     "name": "stdout",
     "output_type": "stream",
     "text": [
      "['red', 'orange', 'blue', 'yellow']\n"
     ]
    }
   ],
   "source": [
    "# use for loop and if to change green to orange\n",
    "colors =['red', 'green', 'blue','yellow']\n",
    "for i in range(0,4):\n",
    "    if (colors[i] == 'green'):  # == asks if the element is the same on both sides\n",
    "        colors[i] = 'orange'  # = assigns something to another\n",
    "        \n",
    "print(colors)"
   ]
  },
  {
   "cell_type": "markdown",
   "metadata": {},
   "source": [
    "# While             \n",
    "    while(TRUE):            \n",
    "        do this"
   ]
  },
  {
   "cell_type": "code",
   "execution_count": 29,
   "metadata": {},
   "outputs": [
    {
     "name": "stdout",
     "output_type": "stream",
     "text": [
      "7\n",
      "6\n",
      "5\n",
      "4\n",
      "3\n",
      "2\n",
      "1\n"
     ]
    }
   ],
   "source": [
    "x = 7\n",
    "while(x > 0): \n",
    "    print(x)\n",
    "    x = x-1"
   ]
  },
  {
   "cell_type": "code",
   "execution_count": 31,
   "metadata": {},
   "outputs": [
    {
     "name": "stdout",
     "output_type": "stream",
     "text": [
      "0\n",
      "7\n",
      "49\n",
      "343\n"
     ]
    }
   ],
   "source": [
    "#using a while loop print out all powers of 7 less than 1000\n",
    "x = 7\n",
    "print(1)\n",
    "while(x < 1000):\n",
    "    print(x)\n",
    "    x= x*7\n",
    "# '**' is how to use powers in python"
   ]
  },
  {
   "cell_type": "code",
   "execution_count": 4,
   "metadata": {},
   "outputs": [
    {
     "name": "stdout",
     "output_type": "stream",
     "text": [
      "1\n",
      "7\n",
      "49\n",
      "343\n"
     ]
    }
   ],
   "source": [
    "#using a while loop print out all powers of 7 less than 1000 another attempt\n",
    "i=0\n",
    "x=7\n",
    "while(i < 4):\n",
    "    x = 7 ** i\n",
    "    i = i + 1\n",
    "    print(x)\n",
    "# this would be a more \"complete\" way to do it"
   ]
  },
  {
   "cell_type": "markdown",
   "metadata": {},
   "source": [
    "# Functions"
   ]
  },
  {
   "cell_type": "code",
   "execution_count": 6,
   "metadata": {},
   "outputs": [],
   "source": [
    "# def is how you name a function, give it a name and give an argument\n",
    "def add_two(x):\n",
    "    x = x + 2\n",
    "    return x"
   ]
  },
  {
   "cell_type": "code",
   "execution_count": 7,
   "metadata": {},
   "outputs": [
    {
     "data": {
      "text/plain": [
       "7"
      ]
     },
     "execution_count": 7,
     "metadata": {},
     "output_type": "execute_result"
    }
   ],
   "source": [
    "x = 5\n",
    "add_two(x)"
   ]
  },
  {
   "cell_type": "code",
   "execution_count": 9,
   "metadata": {},
   "outputs": [
    {
     "data": {
      "text/plain": [
       "7"
      ]
     },
     "execution_count": 9,
     "metadata": {},
     "output_type": "execute_result"
    }
   ],
   "source": [
    "#can assign it to a new variable (y)\n",
    "y = add_two(x)\n",
    "y "
   ]
  },
  {
   "cell_type": "code",
   "execution_count": 10,
   "metadata": {},
   "outputs": [
    {
     "data": {
      "text/plain": [
       "5"
      ]
     },
     "execution_count": 10,
     "metadata": {},
     "output_type": "execute_result"
    }
   ],
   "source": [
    "# x in the function is local to the function so it does not impact anything outside of the function\n",
    "#similar to piping in dplyr\n",
    "x"
   ]
  },
  {
   "cell_type": "code",
   "execution_count": null,
   "metadata": {},
   "outputs": [],
   "source": []
  }
 ],
 "metadata": {
  "kernelspec": {
   "display_name": "Python 3",
   "language": "python",
   "name": "python3"
  },
  "language_info": {
   "codemirror_mode": {
    "name": "ipython",
    "version": 3
   },
   "file_extension": ".py",
   "mimetype": "text/x-python",
   "name": "python",
   "nbconvert_exporter": "python",
   "pygments_lexer": "ipython3",
   "version": "3.7.0"
  }
 },
 "nbformat": 4,
 "nbformat_minor": 2
}
