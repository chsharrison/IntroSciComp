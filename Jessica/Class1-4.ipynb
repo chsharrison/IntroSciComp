{
 "cells": [
  {
   "cell_type": "code",
   "execution_count": 86,
   "metadata": {},
   "outputs": [
    {
     "ename": "SyntaxError",
     "evalue": "invalid syntax (<ipython-input-86-8d36b0e254f0>, line 2)",
     "output_type": "error",
     "traceback": [
      "\u001b[0;36m  File \u001b[0;32m\"<ipython-input-86-8d36b0e254f0>\"\u001b[0;36m, line \u001b[0;32m2\u001b[0m\n\u001b[0;31m    for num in range(n) if (num % 2 == 1)\u001b[0m\n\u001b[0m                                         ^\u001b[0m\n\u001b[0;31mSyntaxError\u001b[0m\u001b[0;31m:\u001b[0m invalid syntax\n"
     ]
    }
   ],
   "source": [
    "def odd(n):\n",
    "    for num in range(n) if (num % 2 == 1)\n",
    "        print (num)"
   ]
  },
  {
   "cell_type": "code",
   "execution_count": null,
   "metadata": {},
   "outputs": [],
   "source": []
  },
  {
   "cell_type": "code",
   "execution_count": null,
   "metadata": {},
   "outputs": [],
   "source": []
  },
  {
   "cell_type": "code",
   "execution_count": 16,
   "metadata": {},
   "outputs": [],
   "source": [
    "odd = [num for num in range(20) if num % 2 == 1] "
   ]
  },
  {
   "cell_type": "code",
   "execution_count": 18,
   "metadata": {},
   "outputs": [
    {
     "name": "stdout",
     "output_type": "stream",
     "text": [
      "[1, 3, 5, 7, 9, 11, 13, 15, 17, 19]\n",
      "[1, 3, 5, 7, 9, 11, 13, 15, 17, 19]\n",
      "[1, 3, 5, 7, 9, 11, 13, 15, 17, 19]\n",
      "[1, 3, 5, 7, 9, 11, 13, 15, 17, 19]\n",
      "[1, 3, 5, 7, 9, 11, 13, 15, 17, 19]\n",
      "[1, 3, 5, 7, 9, 11, 13, 15, 17, 19]\n",
      "[1, 3, 5, 7, 9, 11, 13, 15, 17, 19]\n",
      "[1, 3, 5, 7, 9, 11, 13, 15, 17, 19]\n",
      "[1, 3, 5, 7, 9, 11, 13, 15, 17, 19]\n",
      "[1, 3, 5, 7, 9, 11, 13, 15, 17, 19]\n",
      "[1, 3, 5, 7, 9, 11, 13, 15, 17, 19]\n",
      "[1, 3, 5, 7, 9, 11, 13, 15, 17, 19]\n",
      "[1, 3, 5, 7, 9, 11, 13, 15, 17, 19]\n",
      "[1, 3, 5, 7, 9, 11, 13, 15, 17, 19]\n",
      "[1, 3, 5, 7, 9, 11, 13, 15, 17, 19]\n",
      "[1, 3, 5, 7, 9, 11, 13, 15, 17, 19]\n",
      "[1, 3, 5, 7, 9, 11, 13, 15, 17, 19]\n",
      "[1, 3, 5, 7, 9, 11, 13, 15, 17, 19]\n",
      "[1, 3, 5, 7, 9, 11, 13, 15, 17, 19]\n",
      "[1, 3, 5, 7, 9, 11, 13, 15, 17, 19]\n"
     ]
    }
   ],
   "source": [
    "for i in range(20):\n",
    "    print (odd)"
   ]
  },
  {
   "cell_type": "code",
   "execution_count": 74,
   "metadata": {},
   "outputs": [],
   "source": [
    "n=3"
   ]
  },
  {
   "cell_type": "code",
   "execution_count": 69,
   "metadata": {},
   "outputs": [
    {
     "name": "stdout",
     "output_type": "stream",
     "text": [
      "1\n",
      "3\n",
      "5\n"
     ]
    }
   ],
   "source": [
    "for i in range(0,n):\n",
    "    print(2*i+1)"
   ]
  },
  {
   "cell_type": "code",
   "execution_count": 77,
   "metadata": {},
   "outputs": [],
   "source": [
    "def int_odd(n):\n",
    "    my_list=[]\n",
    "    for i in range(0,n):\n",
    "        print(2*i+1)\n",
    "        my_list.append(2*i+1)\n",
    "    return my_list"
   ]
  },
  {
   "cell_type": "code",
   "execution_count": 79,
   "metadata": {},
   "outputs": [
    {
     "name": "stdout",
     "output_type": "stream",
     "text": [
      "1\n",
      "3\n",
      "5\n",
      "7\n",
      "9\n",
      "[1, 3, 5, 7, 9]\n"
     ]
    }
   ],
   "source": [
    "print(int_odd(5))"
   ]
  },
  {
   "cell_type": "code",
   "execution_count": null,
   "metadata": {},
   "outputs": [],
   "source": []
  },
  {
   "cell_type": "code",
   "execution_count": null,
   "metadata": {},
   "outputs": [],
   "source": []
  },
  {
   "cell_type": "code",
   "execution_count": null,
   "metadata": {},
   "outputs": [],
   "source": []
  },
  {
   "cell_type": "code",
   "execution_count": null,
   "metadata": {},
   "outputs": [],
   "source": []
  },
  {
   "cell_type": "markdown",
   "metadata": {},
   "source": [
    "# Practicepython.org"
   ]
  },
  {
   "cell_type": "code",
   "execution_count": 19,
   "metadata": {},
   "outputs": [],
   "source": [
    "x = range(2,11)"
   ]
  },
  {
   "cell_type": "code",
   "execution_count": 23,
   "metadata": {},
   "outputs": [
    {
     "name": "stdout",
     "output_type": "stream",
     "text": [
      "2\n",
      "3\n",
      "4\n",
      "5\n",
      "6\n",
      "7\n",
      "8\n",
      "9\n",
      "10\n"
     ]
    }
   ],
   "source": [
    "for elem in x:\n",
    "    print (elem)"
   ]
  },
  {
   "cell_type": "code",
   "execution_count": 24,
   "metadata": {},
   "outputs": [
    {
     "name": "stdout",
     "output_type": "stream",
     "text": [
      "Give me a number: 12\n"
     ]
    }
   ],
   "source": [
    "num = input(\"Give me a number: \")"
   ]
  },
  {
   "cell_type": "code",
   "execution_count": 29,
   "metadata": {},
   "outputs": [],
   "source": [
    "num_divi = (elem for elem in num if num % 2 == 0)"
   ]
  },
  {
   "cell_type": "code",
   "execution_count": 30,
   "metadata": {},
   "outputs": [
    {
     "name": "stdout",
     "output_type": "stream",
     "text": [
      "<generator object <genexpr> at 0x1117cc9a8>\n"
     ]
    }
   ],
   "source": [
    "print (num_divi)"
   ]
  },
  {
   "cell_type": "code",
   "execution_count": 32,
   "metadata": {},
   "outputs": [
    {
     "name": "stdout",
     "output_type": "stream",
     "text": [
      "Give me a number: 12\n"
     ]
    }
   ],
   "source": [
    "num = int(input(\"Give me a number: \"))"
   ]
  },
  {
   "cell_type": "code",
   "execution_count": 35,
   "metadata": {},
   "outputs": [],
   "source": [
    "div_set=[]"
   ]
  },
  {
   "cell_type": "code",
   "execution_count": 39,
   "metadata": {},
   "outputs": [
    {
     "name": "stdout",
     "output_type": "stream",
     "text": [
      "[12, 12, 12, 12, 12, 12, 12]\n",
      "\n",
      "[12, 12, 12, 12, 12, 12, 12, 12]\n",
      "\n",
      "[12, 12, 12, 12, 12, 12, 12, 12, 12]\n",
      "\n",
      "[12, 12, 12, 12, 12, 12, 12, 12, 12, 12]\n",
      "\n",
      "[12, 12, 12, 12, 12, 12, 12, 12, 12, 12, 12]\n",
      "\n",
      "[12, 12, 12, 12, 12, 12, 12, 12, 12, 12, 12, 12]\n",
      "\n"
     ]
    }
   ],
   "source": [
    "for i in range(1,num+1):\n",
    "    if num%i==0:\n",
    "        div_set.append(num)\n",
    "        print(div_set)\n",
    "        print()"
   ]
  },
  {
   "cell_type": "code",
   "execution_count": 41,
   "metadata": {},
   "outputs": [
    {
     "name": "stdout",
     "output_type": "stream",
     "text": [
      "Please enter a number: 15\n"
     ]
    }
   ],
   "source": [
    "num = int(input(\"Please enter a number: \"))"
   ]
  },
  {
   "cell_type": "code",
   "execution_count": 45,
   "metadata": {},
   "outputs": [],
   "source": [
    "divisorList=[]"
   ]
  },
  {
   "cell_type": "code",
   "execution_count": 46,
   "metadata": {},
   "outputs": [
    {
     "ename": "TypeError",
     "evalue": "'<=' not supported between instances of 'int' and 'range'",
     "output_type": "error",
     "traceback": [
      "\u001b[0;31m---------------------------------------------------------------------------\u001b[0m",
      "\u001b[0;31mTypeError\u001b[0m                                 Traceback (most recent call last)",
      "\u001b[0;32m<ipython-input-46-7a6ac36723f7>\u001b[0m in \u001b[0;36m<module>\u001b[0;34m\u001b[0m\n\u001b[0;32m----> 1\u001b[0;31m \u001b[0;32mwhile\u001b[0m \u001b[0mnum\u001b[0m\u001b[0;34m<=\u001b[0m\u001b[0mx\u001b[0m\u001b[0;34m:\u001b[0m\u001b[0;34m\u001b[0m\u001b[0;34m\u001b[0m\u001b[0m\n\u001b[0m\u001b[1;32m      2\u001b[0m     \u001b[0;32mif\u001b[0m \u001b[0mx\u001b[0m\u001b[0;34m%\u001b[0m\u001b[0mnum\u001b[0m\u001b[0;34m==\u001b[0m\u001b[0;36m0\u001b[0m\u001b[0;34m:\u001b[0m\u001b[0;34m\u001b[0m\u001b[0;34m\u001b[0m\u001b[0m\n\u001b[1;32m      3\u001b[0m         \u001b[0mdivisotrList\u001b[0m\u001b[0;34m.\u001b[0m\u001b[0mappend\u001b[0m\u001b[0;34m(\u001b[0m\u001b[0mnum\u001b[0m\u001b[0;34m)\u001b[0m\u001b[0;34m\u001b[0m\u001b[0;34m\u001b[0m\u001b[0m\n\u001b[1;32m      4\u001b[0m         \u001b[0mnum\u001b[0m\u001b[0;34m+=\u001b[0m\u001b[0;36m1\u001b[0m\u001b[0;34m\u001b[0m\u001b[0;34m\u001b[0m\u001b[0m\n\u001b[1;32m      5\u001b[0m \u001b[0;34m\u001b[0m\u001b[0m\n",
      "\u001b[0;31mTypeError\u001b[0m: '<=' not supported between instances of 'int' and 'range'"
     ]
    }
   ],
   "source": [
    "while num<=x:\n",
    "    if x%num==0:\n",
    "        divisotrList.append(num)\n",
    "        num+=1\n",
    "        \n",
    "print (str(x) +\"has\" +str(len(divisorList))+\"divisors\")\n",
    "print (divisorList)"
   ]
  },
  {
   "cell_type": "markdown",
   "metadata": {},
   "source": [
    "# Notes"
   ]
  },
  {
   "cell_type": "code",
   "execution_count": 87,
   "metadata": {},
   "outputs": [],
   "source": [
    "import math #math is a package"
   ]
  },
  {
   "cell_type": "code",
   "execution_count": 88,
   "metadata": {},
   "outputs": [
    {
     "data": {
      "text/plain": [
       "3.141592653589793"
      ]
     },
     "execution_count": 88,
     "metadata": {},
     "output_type": "execute_result"
    }
   ],
   "source": [
    "math.pi"
   ]
  },
  {
   "cell_type": "code",
   "execution_count": 89,
   "metadata": {},
   "outputs": [
    {
     "data": {
      "text/plain": [
       "1.2246467991473532e-16"
      ]
     },
     "execution_count": 89,
     "metadata": {},
     "output_type": "execute_result"
    }
   ],
   "source": [
    "math.sin(math.pi)"
   ]
  },
  {
   "cell_type": "code",
   "execution_count": 90,
   "metadata": {},
   "outputs": [],
   "source": [
    "import math as m"
   ]
  },
  {
   "cell_type": "code",
   "execution_count": 91,
   "metadata": {},
   "outputs": [
    {
     "data": {
      "text/plain": [
       "3.141592653589793"
      ]
     },
     "execution_count": 91,
     "metadata": {},
     "output_type": "execute_result"
    }
   ],
   "source": [
    "m.pi"
   ]
  },
  {
   "cell_type": "code",
   "execution_count": 92,
   "metadata": {},
   "outputs": [],
   "source": [
    "import numpy as np #numerial python"
   ]
  },
  {
   "cell_type": "code",
   "execution_count": 94,
   "metadata": {},
   "outputs": [],
   "source": [
    "x = np.arange(0,5) #this creates a numpy array"
   ]
  },
  {
   "cell_type": "code",
   "execution_count": 96,
   "metadata": {},
   "outputs": [
    {
     "data": {
      "text/plain": [
       "array([0, 1, 2, 3, 4])"
      ]
     },
     "execution_count": 96,
     "metadata": {},
     "output_type": "execute_result"
    }
   ],
   "source": [
    "x"
   ]
  },
  {
   "cell_type": "code",
   "execution_count": 95,
   "metadata": {},
   "outputs": [
    {
     "data": {
      "text/plain": [
       "array([ 0.        ,  0.84147098,  0.90929743,  0.14112001, -0.7568025 ])"
      ]
     },
     "execution_count": 95,
     "metadata": {},
     "output_type": "execute_result"
    }
   ],
   "source": [
    "np.sin(x) #applies the sin function to every element in array, called broadcasting"
   ]
  },
  {
   "cell_type": "code",
   "execution_count": 97,
   "metadata": {},
   "outputs": [
    {
     "data": {
      "text/plain": [
       "array([2, 3, 4, 5, 6])"
      ]
     },
     "execution_count": 97,
     "metadata": {},
     "output_type": "execute_result"
    }
   ],
   "source": [
    "x +2"
   ]
  },
  {
   "cell_type": "code",
   "execution_count": 98,
   "metadata": {},
   "outputs": [
    {
     "data": {
      "text/plain": [
       "array([1, 3, 5, 7, 9])"
      ]
     },
     "execution_count": 98,
     "metadata": {},
     "output_type": "execute_result"
    }
   ],
   "source": [
    "2*x+1"
   ]
  },
  {
   "cell_type": "markdown",
   "metadata": {},
   "source": [
    "# Problem"
   ]
  },
  {
   "cell_type": "markdown",
   "metadata": {},
   "source": [
    "Fibonacci Numbers\n",
    "\n",
    "adds the previous two numbers together\n",
    "\n",
    "1, 1, 2, 3, 5, 8, 13 ... etc.\n",
    "\n",
    "two variables: i and j\n",
    "my_list.append[i+j] --> \n",
    "i = 2, j = 3, i + j = 5\n",
    "i = 3, j = 5, i + j = 8\n",
    "have to uptake previous j as i, and i+j as new j\n",
    "if we change new i, new j won't be correct from reassigning numbers.\n",
    "    i_old = i to save old value\n",
    "        i_old = i\n",
    "        i = j\n",
    "        j = i_old + j\n",
    "Start i = 0, j = 1\n",
    "for range (0,n):\n",
    "        i_old = i\n",
    "        i = j\n",
    "        j = i_old + j"
   ]
  },
  {
   "cell_type": "code",
   "execution_count": null,
   "metadata": {},
   "outputs": [],
   "source": []
  },
  {
   "cell_type": "code",
   "execution_count": 110,
   "metadata": {},
   "outputs": [
    {
     "name": "stdout",
     "output_type": "stream",
     "text": [
      "1\n",
      "1\n",
      "2\n",
      "3\n",
      "5\n"
     ]
    }
   ],
   "source": [
    "n=5\n",
    "\n",
    "i = 0\n",
    "j = 1\n",
    "\n",
    "for x in range(0,n):\n",
    "    print(j)\n",
    "    i_old = i\n",
    "    i = j\n",
    "    j = i_old+j\n"
   ]
  },
  {
   "cell_type": "code",
   "execution_count": 115,
   "metadata": {},
   "outputs": [],
   "source": [
    "del j"
   ]
  },
  {
   "cell_type": "code",
   "execution_count": 118,
   "metadata": {},
   "outputs": [],
   "source": [
    "#Now turn into a function\n",
    "\n",
    "\n",
    "def fib(n):\n",
    "    i = 0\n",
    "    j = 1\n",
    "    for x in range(0,n):\n",
    "        print(j)\n",
    "        i_old = i\n",
    "        i = j\n",
    "        j = i_old+j\n"
   ]
  },
  {
   "cell_type": "code",
   "execution_count": 120,
   "metadata": {},
   "outputs": [
    {
     "name": "stdout",
     "output_type": "stream",
     "text": [
      "1\n",
      "1\n",
      "2\n",
      "3\n",
      "5\n",
      "8\n",
      "13\n",
      "21\n",
      "34\n",
      "55\n"
     ]
    }
   ],
   "source": [
    "fib(10)"
   ]
  },
  {
   "cell_type": "code",
   "execution_count": 129,
   "metadata": {},
   "outputs": [],
   "source": [
    "#Now create a list of these numbers which are returned\n",
    "# def int_odd(n):\n",
    "#     my_list=[]\n",
    "#     for i in range(0,n):\n",
    "#         print(2*i+1)\n",
    "#         my_list.append(2*i+1)\n",
    "#     return my_list\n",
    "\n",
    "def fib(n):\n",
    "    my_list=[1,]\n",
    "    i = 0\n",
    "    j = 1\n",
    "    for x in range(0,n):\n",
    "        print(j)\n",
    "        i_old = i\n",
    "        i = j\n",
    "        j = i_old+j\n",
    "        my_list.append(i_old+j)\n",
    "    return my_list\n"
   ]
  },
  {
   "cell_type": "code",
   "execution_count": 130,
   "metadata": {},
   "outputs": [
    {
     "name": "stdout",
     "output_type": "stream",
     "text": [
      "1\n",
      "1\n",
      "2\n",
      "3\n",
      "5\n"
     ]
    },
    {
     "data": {
      "text/plain": [
       "[1, 1, 3, 4, 7, 11]"
      ]
     },
     "execution_count": 130,
     "metadata": {},
     "output_type": "execute_result"
    }
   ],
   "source": [
    "fib(5)"
   ]
  },
  {
   "cell_type": "code",
   "execution_count": 131,
   "metadata": {},
   "outputs": [
    {
     "name": "stdout",
     "output_type": "stream",
     "text": [
      "1\n",
      "1\n",
      "2\n",
      "3\n",
      "5\n",
      "8\n",
      "13\n",
      "21\n",
      "34\n",
      "55\n"
     ]
    },
    {
     "data": {
      "text/plain": [
       "[1, 1, 3, 4, 7, 11, 18, 29, 47, 76, 123]"
      ]
     },
     "execution_count": 131,
     "metadata": {},
     "output_type": "execute_result"
    }
   ],
   "source": [
    "fib(10)"
   ]
  },
  {
   "cell_type": "code",
   "execution_count": 143,
   "metadata": {},
   "outputs": [],
   "source": [
    "#Now modify to print out all Fib #'s under a certain value\n",
    "\n",
    "def fib(n):\n",
    "    my_list=[1,]\n",
    "    i = 0\n",
    "    j = 1\n",
    "    for x in range(0,n):\n",
    "        while j < 1000:\n",
    "            print(j)\n",
    "            i_old = i\n",
    "            i = j\n",
    "            j = i_old+j\n",
    "            my_list.append(i_old+j)\n",
    "        return my_list"
   ]
  },
  {
   "cell_type": "code",
   "execution_count": 144,
   "metadata": {},
   "outputs": [
    {
     "name": "stdout",
     "output_type": "stream",
     "text": [
      "1\n",
      "1\n",
      "2\n",
      "3\n",
      "5\n",
      "8\n",
      "13\n",
      "21\n",
      "34\n",
      "55\n",
      "89\n",
      "144\n",
      "233\n",
      "377\n",
      "610\n",
      "987\n"
     ]
    },
    {
     "data": {
      "text/plain": [
       "[1, 1, 3, 4, 7, 11, 18, 29, 47, 76, 123, 199, 322, 521, 843, 1364, 2207]"
      ]
     },
     "execution_count": 144,
     "metadata": {},
     "output_type": "execute_result"
    }
   ],
   "source": [
    "fib(100)"
   ]
  },
  {
   "cell_type": "code",
   "execution_count": 149,
   "metadata": {},
   "outputs": [],
   "source": [
    "#Another way to do it:\n",
    "\n",
    "def fib(v):\n",
    "    my_list=[1,]\n",
    "    i = 0\n",
    "    j = 1\n",
    "    #for x in range(0,n):\n",
    "    while j < v:\n",
    "        print(j)\n",
    "        i_old = i\n",
    "        i = j\n",
    "        j = i_old+j\n",
    "        my_list.append(i_old+j)\n",
    "    return my_list"
   ]
  },
  {
   "cell_type": "code",
   "execution_count": 150,
   "metadata": {},
   "outputs": [
    {
     "name": "stdout",
     "output_type": "stream",
     "text": [
      "1\n",
      "1\n",
      "2\n",
      "3\n",
      "5\n",
      "8\n",
      "13\n",
      "21\n",
      "34\n"
     ]
    },
    {
     "data": {
      "text/plain": [
       "[1, 1, 3, 4, 7, 11, 18, 29, 47, 76]"
      ]
     },
     "execution_count": 150,
     "metadata": {},
     "output_type": "execute_result"
    }
   ],
   "source": [
    "fib(40)"
   ]
  },
  {
   "cell_type": "markdown",
   "metadata": {},
   "source": [
    "# Practice Python 1, 2, 9, 25"
   ]
  },
  {
   "cell_type": "markdown",
   "metadata": {},
   "source": [
    "## Practic 9"
   ]
  },
  {
   "cell_type": "code",
   "execution_count": 152,
   "metadata": {},
   "outputs": [],
   "source": [
    "import random as rd"
   ]
  },
  {
   "cell_type": "code",
   "execution_count": 153,
   "metadata": {},
   "outputs": [],
   "source": [
    "a = rd.randint(2,6)"
   ]
  },
  {
   "cell_type": "code",
   "execution_count": 154,
   "metadata": {},
   "outputs": [
    {
     "data": {
      "text/plain": [
       "4"
      ]
     },
     "execution_count": 154,
     "metadata": {},
     "output_type": "execute_result"
    }
   ],
   "source": [
    "a"
   ]
  },
  {
   "cell_type": "code",
   "execution_count": 151,
   "metadata": {},
   "outputs": [
    {
     "name": "stdout",
     "output_type": "stream",
     "text": [
      "Give me a number from 1 - 9: 5\n"
     ]
    }
   ],
   "source": [
    "num = int(input(\"Guess a number from 1 - 9: \"))"
   ]
  },
  {
   "cell_type": "code",
   "execution_count": 155,
   "metadata": {},
   "outputs": [],
   "source": [
    "x = rd.randint(1,9)"
   ]
  },
  {
   "cell_type": "code",
   "execution_count": 156,
   "metadata": {},
   "outputs": [
    {
     "ename": "SyntaxError",
     "evalue": "invalid syntax (<ipython-input-156-309963b001a0>, line 1)",
     "output_type": "error",
     "traceback": [
      "\u001b[0;36m  File \u001b[0;32m\"<ipython-input-156-309963b001a0>\"\u001b[0;36m, line \u001b[0;32m1\u001b[0m\n\u001b[0;31m    for x:\u001b[0m\n\u001b[0m         ^\u001b[0m\n\u001b[0;31mSyntaxError\u001b[0m\u001b[0;31m:\u001b[0m invalid syntax\n"
     ]
    }
   ],
   "source": [
    "for x:\n",
    "    if x == num:\n",
    "        print (\"you guessed it!\")\n",
    "    else:\n",
    "        print (\"better luck next time\")"
   ]
  },
  {
   "cell_type": "code",
   "execution_count": 176,
   "metadata": {},
   "outputs": [
    {
     "name": "stdout",
     "output_type": "stream",
     "text": [
      "Alright...\n"
     ]
    }
   ],
   "source": [
    "number = rd.randint(1,9)\n",
    "guess = None\n",
    "another = None\n",
    "TRY = 0\n",
    "running = True\n",
    "\n",
    "print(\"Alright...\")"
   ]
  },
  {
   "cell_type": "code",
   "execution_count": 177,
   "metadata": {},
   "outputs": [
    {
     "name": "stdout",
     "output_type": "stream",
     "text": [
      "Guess a number from 1 - 9: 9\n",
      "Wrong too high.\n",
      "Guess a number from 1 - 9: 1\n",
      "Wrong, too low.\n",
      "Guess a number from 1 - 9: 8\n",
      "Wrong too high.\n",
      "Guess a number from 1 - 9: 2\n",
      "Wrong, too low.\n",
      "Guess a number from 1 - 9: 7\n",
      "Wrong too high.\n",
      "Guess a number from 1 - 9: 3\n",
      "Wrong, too low.\n",
      "Guess a number from 1 - 9: 6\n",
      "Pretty good, 6 tries\n"
     ]
    }
   ],
   "source": [
    "while running:\n",
    "    guess = int(input(\"Guess a number from 1 - 9: \"))\n",
    "    if guess < number:\n",
    "        print(\"Wrong, too low.\")\n",
    "    elif guess > number:\n",
    "        print(\"Wrong too high.\")\n",
    "#     elif guess.lower() == \"exit\":\n",
    "#         print (\"Better luck next time.\")\n",
    "    elif guess == number:\n",
    "        #print(\"Impressive, only %s tries\" % str(TRY))\n",
    "        if TRY < 2:\n",
    "            print(\"Impressive, only %s tries.\" %str(TRY))\n",
    "        elif TRY > 2 and TRY < 10:\n",
    "            print (\"Pretty good, %s tries\" %str(TRY))\n",
    "        elif TRY > 10:\n",
    "            print(\"Bad, %s tries.\" % str(TRY))\n",
    "        running = False\n",
    "    TRY += 1"
   ]
  },
  {
   "cell_type": "markdown",
   "metadata": {},
   "source": [
    "## Practice 25"
   ]
  },
  {
   "cell_type": "markdown",
   "metadata": {},
   "source": [
    "Program has to pick a number between 0-100 and the user says is it's right or wrong and how many tries when it gets it. User will say \"too high, too low, or correct."
   ]
  },
  {
   "cell_type": "code",
   "execution_count": null,
   "metadata": {},
   "outputs": [],
   "source": [
    "while running:\n",
    "    guess = int(input(\"Guess a number from 1 - 9: \"))\n",
    "    if guess < number:\n",
    "        print(\"Wrong, too low.\")\n",
    "    elif guess > number:\n",
    "        print(\"Wrong too high.\")\n",
    "#     elif guess.lower() == \"exit\":\n",
    "#         print (\"Better luck next time.\")\n",
    "    elif guess == number:\n",
    "        #print(\"Impressive, only %s tries\" % str(TRY))\n",
    "        if TRY < 2:\n",
    "            print(\"Impressive, only %s tries.\" %str(TRY))\n",
    "        elif TRY > 2 and TRY < 10:\n",
    "            print (\"Pretty good, %s tries\" %str(TRY))\n",
    "        elif TRY > 10:\n",
    "            print(\"Bad, %s tries.\" % str(TRY))\n",
    "        running = False\n",
    "    TRY += 1"
   ]
  },
  {
   "cell_type": "code",
   "execution_count": 179,
   "metadata": {},
   "outputs": [
    {
     "ename": "SyntaxError",
     "evalue": "invalid syntax (<ipython-input-179-b6fb611dee8a>, line 4)",
     "output_type": "error",
     "traceback": [
      "\u001b[0;36m  File \u001b[0;32m\"<ipython-input-179-b6fb611dee8a>\"\u001b[0;36m, line \u001b[0;32m4\u001b[0m\n\u001b[0;31m    if check = \"yes\":\u001b[0m\n\u001b[0m             ^\u001b[0m\n\u001b[0;31mSyntaxError\u001b[0m\u001b[0;31m:\u001b[0m invalid syntax\n"
     ]
    }
   ],
   "source": [
    "while running:\n",
    "    guess = 50\n",
    "    check = input(\"Did I get it? High? Low?: \")\n",
    "    if check = \"yes\":\n",
    "        print(\"Yes! only %s tries.\" %str(TRY))\n",
    "    if check = \"High\":\n",
    "        new_guess = guess - 1\n",
    "    if check = \"Low\":\n",
    "        new_guess = guess + 1"
   ]
  },
  {
   "cell_type": "code",
   "execution_count": 182,
   "metadata": {},
   "outputs": [],
   "source": [
    "NUMBER = rd.randint(0,100)\n",
    "TRY = 0\n",
    "RUNNING = True\n",
    "ANSWER = None"
   ]
  },
  {
   "cell_type": "code",
   "execution_count": 188,
   "metadata": {},
   "outputs": [
    {
     "name": "stdout",
     "output_type": "stream",
     "text": [
      "Is it 3?\n",
      "no\n",
      "Higher or lower?\n",
      "higher\n",
      "Is it 4?\n",
      "no\n",
      "Higher or lower?\n",
      "higher\n",
      "Is it 7?\n",
      "no\n",
      "Higher or lower?\n",
      "lower\n",
      "Is it 3?\n",
      "no\n",
      "Higher or lower?\n",
      "higher\n",
      "Is it 7?\n",
      "no\n",
      "Higher or lower?\n",
      "lower\n",
      "Is it 5?\n",
      "yes\n",
      "That's so bad, 5 tries.\n",
      "Thanks for the game!\n"
     ]
    }
   ],
   "source": [
    "while RUNNING:\n",
    "    print(\"Is it %s?\" % str(NUMBER))\n",
    "    ANSWER = input()\n",
    "    if \"no\" in ANSWER.lower() and \"lower\" in ANSWER.lower():\n",
    "        NUMBER -= rd.randit(1,4)\n",
    "    elif \"no\" in ANSWER.lower() and \"higher\" in ANSWER.lower():\n",
    "        NUMBER += rd.randit(1,4)\n",
    "    elif ANSWER.lower() ==\"no\":\n",
    "        print(\"Higher or lower?\")\n",
    "        ANSWER = input()\n",
    "        if ANSWER.lower() == \"higher\":\n",
    "            NUMBER += rd.randint(1,4)\n",
    "        elif ANSWER.lower() == \"lower\":\n",
    "            NUMBER -= rd.randint(1,4)\n",
    "    elif ANSWER.lower() == \"yes\":\n",
    "        if TRY < 2:\n",
    "            print(\"Yes! It only took me %s try!\" % str(TRY))\n",
    "        elif TRY < 2 and TRY < 10:\n",
    "            print (\"Pretty good for a robot, %s tries.\" % str(TRY))\n",
    "        else:\n",
    "            print(\"That's so bad, %s tries.\" % str(TRY))\n",
    "        RUNNING = False\n",
    "    TRY += 1\n",
    "\n",
    "print(\"Thanks for the game!\")"
   ]
  },
  {
   "cell_type": "code",
   "execution_count": null,
   "metadata": {},
   "outputs": [],
   "source": []
  },
  {
   "cell_type": "code",
   "execution_count": null,
   "metadata": {},
   "outputs": [],
   "source": []
  }
 ],
 "metadata": {
  "kernelspec": {
   "display_name": "Python 3",
   "language": "python",
   "name": "python3"
  },
  "language_info": {
   "codemirror_mode": {
    "name": "ipython",
    "version": 3
   },
   "file_extension": ".py",
   "mimetype": "text/x-python",
   "name": "python",
   "nbconvert_exporter": "python",
   "pygments_lexer": "ipython3",
   "version": "3.7.3"
  }
 },
 "nbformat": 4,
 "nbformat_minor": 2
}
