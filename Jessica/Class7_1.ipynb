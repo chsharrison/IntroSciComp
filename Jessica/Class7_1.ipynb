{
 "cells": [
  {
   "cell_type": "markdown",
   "metadata": {},
   "source": [
    "# Lecure 7.1 More data analysis with pandas"
   ]
  },
  {
   "cell_type": "markdown",
   "metadata": {},
   "source": [
    "We are focusing on coding today. Make sure you ask for help when you get stuck, either from the intructor or your colleagues. A little bit of struggle is good, but don't bang your head against the wall!"
   ]
  },
  {
   "cell_type": "markdown",
   "metadata": {},
   "source": [
    "Data analysis is a proccess of interaction with data, getting to know it, using descriptive statistics, seeing how variables are related. Once you get to know the data, then creative and interesting things can happen that bring new insight and help you develop a narrative about the data you are analysing"
   ]
  },
  {
   "cell_type": "markdown",
   "metadata": {},
   "source": [
    "## 1. Warm up\n",
    "\n",
    "### 1.1 \n",
    "Code a function that given the area of a circle, returns both the radius and the circumference\n",
    "### 1.2 \n",
    "Add in an error statement if a negative area is passed to the function\n",
    "### 1.3 \n",
    "Use your function to plot radus and circumference for areas between 0 and 1000, counting by 20. Put both lines on one plot. Label your plot, and include a legend."
   ]
  },
  {
   "cell_type": "code",
   "execution_count": 1,
   "metadata": {},
   "outputs": [],
   "source": [
    "import numpy as np\n",
    "import matplotlib.pyplot as plt #for plots\n",
    "%matplotlib inline \n",
    "from matplotlib import cm"
   ]
  },
  {
   "cell_type": "code",
   "execution_count": 32,
   "metadata": {},
   "outputs": [],
   "source": [
    "#1.1\n",
    "#area = pi r^2\n",
    "#circumference = 2 pi r\n",
    "def circle_circ(a):\n",
    "    r = np.sqrt(a/np.pi)\n",
    "    print('radius = ', r)\n",
    "    c = 2*np.pi*r\n",
    "    print('circumference = ', c)\n",
    "    "
   ]
  },
  {
   "cell_type": "code",
   "execution_count": 33,
   "metadata": {},
   "outputs": [
    {
     "name": "stdout",
     "output_type": "stream",
     "text": [
      "radius =  3.989422804014327\n",
      "circumference =  25.066282746310005\n"
     ]
    }
   ],
   "source": [
    "circle_circ(50)"
   ]
  },
  {
   "cell_type": "code",
   "execution_count": 34,
   "metadata": {},
   "outputs": [
    {
     "ename": "TypeError",
     "evalue": "'function' object is not iterable",
     "output_type": "error",
     "traceback": [
      "\u001b[0;31m---------------------------------------------------------------------------\u001b[0m",
      "\u001b[0;31mTypeError\u001b[0m                                 Traceback (most recent call last)",
      "\u001b[0;32m<ipython-input-34-28910e951246>\u001b[0m in \u001b[0;36m<module>\u001b[0;34m\u001b[0m\n\u001b[1;32m      1\u001b[0m \u001b[0;31m#1.2\u001b[0m\u001b[0;34m\u001b[0m\u001b[0;34m\u001b[0m\u001b[0;34m\u001b[0m\u001b[0m\n\u001b[0;32m----> 2\u001b[0;31m \u001b[0;32mfor\u001b[0m \u001b[0ma\u001b[0m \u001b[0;32min\u001b[0m \u001b[0mcircle_circ\u001b[0m\u001b[0;34m:\u001b[0m\u001b[0;34m\u001b[0m\u001b[0;34m\u001b[0m\u001b[0m\n\u001b[0m\u001b[1;32m      3\u001b[0m     \u001b[0;32mif\u001b[0m \u001b[0ma\u001b[0m \u001b[0;34m<\u001b[0m \u001b[0;36m0\u001b[0m\u001b[0;34m:\u001b[0m\u001b[0;34m\u001b[0m\u001b[0;34m\u001b[0m\u001b[0m\n\u001b[1;32m      4\u001b[0m         \u001b[0mprint\u001b[0m\u001b[0;34m(\u001b[0m\u001b[0;34m'error: negative area'\u001b[0m\u001b[0;34m)\u001b[0m\u001b[0;34m\u001b[0m\u001b[0;34m\u001b[0m\u001b[0m\n",
      "\u001b[0;31mTypeError\u001b[0m: 'function' object is not iterable"
     ]
    }
   ],
   "source": [
    "#1.2\n",
    "for a in circle_circ:\n",
    "    if a < 0:\n",
    "        print('error: negative area')"
   ]
  },
  {
   "cell_type": "code",
   "execution_count": 35,
   "metadata": {},
   "outputs": [],
   "source": [
    "def circle_circ1(a):\n",
    "    if a < 0:\n",
    "        print('error: negative area')\n",
    "    else:\n",
    "        r = np.sqrt(a/np.pi)\n",
    "        print('radius = ', r)\n",
    "        c = 2*np.pi*r\n",
    "        print('circumference = ', c)"
   ]
  },
  {
   "cell_type": "code",
   "execution_count": 36,
   "metadata": {},
   "outputs": [
    {
     "name": "stdout",
     "output_type": "stream",
     "text": [
      "radius =  nan\n",
      "circumference =  nan\n"
     ]
    },
    {
     "name": "stderr",
     "output_type": "stream",
     "text": [
      "/Users/xfm684/anaconda3/lib/python3.7/site-packages/ipykernel_launcher.py:5: RuntimeWarning: invalid value encountered in sqrt\n",
      "  \"\"\"\n"
     ]
    }
   ],
   "source": [
    "circle_circ(-50)"
   ]
  },
  {
   "cell_type": "code",
   "execution_count": 37,
   "metadata": {},
   "outputs": [],
   "source": [
    "#1.3: Use your function to plot radus and circumference for areas between 0 and 1000, counting by 20. Put both lines on one plot. Label your plot, and include a legend.\n",
    "num = np.arange(0,1000,20)"
   ]
  },
  {
   "cell_type": "code",
   "execution_count": 41,
   "metadata": {},
   "outputs": [
    {
     "name": "stdout",
     "output_type": "stream",
     "text": [
      "radius =  [ 0.          2.52313252  3.56824823  4.37019372  5.04626504  5.64189584\n",
      "  6.18038723  6.67558118  7.13649646  7.56939757  7.97884561  8.36828387\n",
      "  8.74038744  9.09728368  9.44069744  9.77205024 10.09253009 10.4031419\n",
      " 10.7047447  10.99807968 11.28379167 11.56244577 11.83454055 12.10051849\n",
      " 12.36077446 12.61566261 12.86550197 13.11058117 13.35116236 13.58748446\n",
      " 13.81976598 14.04820734 14.27299293 14.49429284 14.71226436 14.9270533\n",
      " 15.13879513 15.34761596 15.55363345 15.75695755 15.95769122 16.15593101\n",
      " 16.35176762 16.5452864  16.73656774 16.92568751 17.11271736 17.29772508\n",
      " 17.48077489 17.66192765]\n",
      "circumference =  [  0.          15.85330919  22.41996487  27.45873699  31.70661838\n",
      "  35.44907702  38.83251825  41.94391358  44.83992973  47.55992757\n",
      "  50.13256549  52.57947827  54.91747397  57.15991917  59.31765144\n",
      "  61.39960248  63.41323676  65.36486831  67.2598946   69.10297268\n",
      "  70.89815404  72.64898938  74.35861127  76.02979996  77.6650365\n",
      "  79.26654595  80.83633292  82.37621096  83.88782715  85.37268273\n",
      "  86.83215055  88.26748994  89.67985946  91.0703278   92.43988326\n",
      "  93.789442    95.11985514  96.43191512  97.72636117  99.00388416\n",
      " 100.26513099 101.51070832 102.74118607 103.95710042 105.15895654\n",
      " 106.34723105 107.52237425 108.68481208 109.83494794 110.97316433]\n"
     ]
    }
   ],
   "source": [
    "circle_circ(num)"
   ]
  },
  {
   "cell_type": "code",
   "execution_count": 47,
   "metadata": {},
   "outputs": [
    {
     "ename": "NameError",
     "evalue": "name 'r' is not defined",
     "output_type": "error",
     "traceback": [
      "\u001b[0;31m---------------------------------------------------------------------------\u001b[0m",
      "\u001b[0;31mNameError\u001b[0m                                 Traceback (most recent call last)",
      "\u001b[0;32m<ipython-input-47-76abefa31bb9>\u001b[0m in \u001b[0;36m<module>\u001b[0;34m\u001b[0m\n\u001b[0;32m----> 1\u001b[0;31m \u001b[0mcircle_circ\u001b[0m\u001b[0;34m(\u001b[0m\u001b[0mnum\u001b[0m\u001b[0;34m(\u001b[0m\u001b[0mr\u001b[0m\u001b[0;34m)\u001b[0m\u001b[0;34m)\u001b[0m\u001b[0;34m\u001b[0m\u001b[0;34m\u001b[0m\u001b[0m\n\u001b[0m",
      "\u001b[0;31mNameError\u001b[0m: name 'r' is not defined"
     ]
    }
   ],
   "source": [
    "circle_circ(num(r))"
   ]
  },
  {
   "cell_type": "code",
   "execution_count": 43,
   "metadata": {},
   "outputs": [
    {
     "name": "stdout",
     "output_type": "stream",
     "text": [
      "radius =  [ 0.          2.52313252  3.56824823  4.37019372  5.04626504  5.64189584\n",
      "  6.18038723  6.67558118  7.13649646  7.56939757  7.97884561  8.36828387\n",
      "  8.74038744  9.09728368  9.44069744  9.77205024 10.09253009 10.4031419\n",
      " 10.7047447  10.99807968 11.28379167 11.56244577 11.83454055 12.10051849\n",
      " 12.36077446 12.61566261 12.86550197 13.11058117 13.35116236 13.58748446\n",
      " 13.81976598 14.04820734 14.27299293 14.49429284 14.71226436 14.9270533\n",
      " 15.13879513 15.34761596 15.55363345 15.75695755 15.95769122 16.15593101\n",
      " 16.35176762 16.5452864  16.73656774 16.92568751 17.11271736 17.29772508\n",
      " 17.48077489 17.66192765]\n",
      "circumference =  [  0.          15.85330919  22.41996487  27.45873699  31.70661838\n",
      "  35.44907702  38.83251825  41.94391358  44.83992973  47.55992757\n",
      "  50.13256549  52.57947827  54.91747397  57.15991917  59.31765144\n",
      "  61.39960248  63.41323676  65.36486831  67.2598946   69.10297268\n",
      "  70.89815404  72.64898938  74.35861127  76.02979996  77.6650365\n",
      "  79.26654595  80.83633292  82.37621096  83.88782715  85.37268273\n",
      "  86.83215055  88.26748994  89.67985946  91.0703278   92.43988326\n",
      "  93.789442    95.11985514  96.43191512  97.72636117  99.00388416\n",
      " 100.26513099 101.51070832 102.74118607 103.95710042 105.15895654\n",
      " 106.34723105 107.52237425 108.68481208 109.83494794 110.97316433]\n"
     ]
    },
    {
     "data": {
      "text/plain": [
       "[array([None], dtype=object)]"
      ]
     },
     "execution_count": 43,
     "metadata": {},
     "output_type": "execute_result"
    }
   ],
   "source": [
    "np.meshgrid(circle_circ(num))"
   ]
  },
  {
   "cell_type": "code",
   "execution_count": null,
   "metadata": {},
   "outputs": [],
   "source": []
  },
  {
   "cell_type": "code",
   "execution_count": null,
   "metadata": {},
   "outputs": [],
   "source": []
  },
  {
   "cell_type": "code",
   "execution_count": null,
   "metadata": {},
   "outputs": [],
   "source": []
  },
  {
   "cell_type": "code",
   "execution_count": null,
   "metadata": {},
   "outputs": [],
   "source": []
  },
  {
   "cell_type": "code",
   "execution_count": null,
   "metadata": {},
   "outputs": [],
   "source": []
  },
  {
   "cell_type": "code",
   "execution_count": null,
   "metadata": {},
   "outputs": [],
   "source": []
  },
  {
   "cell_type": "code",
   "execution_count": null,
   "metadata": {},
   "outputs": [],
   "source": []
  },
  {
   "cell_type": "markdown",
   "metadata": {},
   "source": [
    "## 2. TED Talk exercises"
   ]
  },
  {
   "cell_type": "markdown",
   "metadata": {},
   "source": [
    "For the following, use the TED Talk dataset we used in week 5"
   ]
  },
  {
   "cell_type": "markdown",
   "metadata": {},
   "source": [
    "### 2.1 Basics\n",
    "How do you display all of the data types in a pandas data set? Demonstrate."
   ]
  },
  {
   "cell_type": "code",
   "execution_count": 48,
   "metadata": {},
   "outputs": [],
   "source": [
    "import pandas as pd\n",
    "ted = pd.read_csv('ted.txt')"
   ]
  },
  {
   "cell_type": "code",
   "execution_count": 56,
   "metadata": {},
   "outputs": [
    {
     "data": {
      "text/plain": [
       "comments               int64\n",
       "description           object\n",
       "duration               int64\n",
       "event                 object\n",
       "film_date              int64\n",
       "languages              int64\n",
       "main_speaker          object\n",
       "name                  object\n",
       "num_speaker            int64\n",
       "published_date         int64\n",
       "ratings               object\n",
       "related_talks         object\n",
       "speaker_occupation    object\n",
       "tags                  object\n",
       "title                 object\n",
       "url                   object\n",
       "views                  int64\n",
       "dtype: object"
      ]
     },
     "execution_count": 56,
     "metadata": {},
     "output_type": "execute_result"
    }
   ],
   "source": [
    "ted.dtypes"
   ]
  },
  {
   "cell_type": "code",
   "execution_count": 164,
   "metadata": {},
   "outputs": [
    {
     "data": {
      "text/html": [
       "<div>\n",
       "<style scoped>\n",
       "    .dataframe tbody tr th:only-of-type {\n",
       "        vertical-align: middle;\n",
       "    }\n",
       "\n",
       "    .dataframe tbody tr th {\n",
       "        vertical-align: top;\n",
       "    }\n",
       "\n",
       "    .dataframe thead th {\n",
       "        text-align: right;\n",
       "    }\n",
       "</style>\n",
       "<table border=\"1\" class=\"dataframe\">\n",
       "  <thead>\n",
       "    <tr style=\"text-align: right;\">\n",
       "      <th></th>\n",
       "      <th>comments</th>\n",
       "      <th>description</th>\n",
       "      <th>duration</th>\n",
       "      <th>event</th>\n",
       "      <th>film_date</th>\n",
       "      <th>languages</th>\n",
       "      <th>main_speaker</th>\n",
       "      <th>name</th>\n",
       "      <th>num_speaker</th>\n",
       "      <th>published_date</th>\n",
       "      <th>ratings</th>\n",
       "      <th>related_talks</th>\n",
       "      <th>speaker_occupation</th>\n",
       "      <th>tags</th>\n",
       "      <th>title</th>\n",
       "      <th>url</th>\n",
       "      <th>views</th>\n",
       "      <th>film_datetime</th>\n",
       "    </tr>\n",
       "  </thead>\n",
       "  <tbody>\n",
       "    <tr>\n",
       "      <th>0</th>\n",
       "      <td>4553</td>\n",
       "      <td>Sir Ken Robinson makes an entertaining and pro...</td>\n",
       "      <td>1164</td>\n",
       "      <td>TED2006</td>\n",
       "      <td>1140825600</td>\n",
       "      <td>60</td>\n",
       "      <td>Ken Robinson</td>\n",
       "      <td>Ken Robinson: Do schools kill creativity?</td>\n",
       "      <td>1</td>\n",
       "      <td>1151367060</td>\n",
       "      <td>[{'id': 7, 'name': 'Funny', 'count': 19645}, {...</td>\n",
       "      <td>[{'id': 865, 'hero': 'https://pe.tedcdn.com/im...</td>\n",
       "      <td>Author/educator</td>\n",
       "      <td>['children', 'creativity', 'culture', 'dance',...</td>\n",
       "      <td>Do schools kill creativity?</td>\n",
       "      <td>https://www.ted.com/talks/ken_robinson_says_sc...</td>\n",
       "      <td>47227110</td>\n",
       "      <td>2006-02-25</td>\n",
       "    </tr>\n",
       "    <tr>\n",
       "      <th>1</th>\n",
       "      <td>265</td>\n",
       "      <td>With the same humor and humanity he exuded in ...</td>\n",
       "      <td>977</td>\n",
       "      <td>TED2006</td>\n",
       "      <td>1140825600</td>\n",
       "      <td>43</td>\n",
       "      <td>Al Gore</td>\n",
       "      <td>Al Gore: Averting the climate crisis</td>\n",
       "      <td>1</td>\n",
       "      <td>1151367060</td>\n",
       "      <td>[{'id': 7, 'name': 'Funny', 'count': 544}, {'i...</td>\n",
       "      <td>[{'id': 243, 'hero': 'https://pe.tedcdn.com/im...</td>\n",
       "      <td>Climate advocate</td>\n",
       "      <td>['alternative energy', 'cars', 'climate change...</td>\n",
       "      <td>Averting the climate crisis</td>\n",
       "      <td>https://www.ted.com/talks/al_gore_on_averting_...</td>\n",
       "      <td>3200520</td>\n",
       "      <td>2006-02-25</td>\n",
       "    </tr>\n",
       "    <tr>\n",
       "      <th>2</th>\n",
       "      <td>124</td>\n",
       "      <td>New York Times columnist David Pogue takes aim...</td>\n",
       "      <td>1286</td>\n",
       "      <td>TED2006</td>\n",
       "      <td>1140739200</td>\n",
       "      <td>26</td>\n",
       "      <td>David Pogue</td>\n",
       "      <td>David Pogue: Simplicity sells</td>\n",
       "      <td>1</td>\n",
       "      <td>1151367060</td>\n",
       "      <td>[{'id': 7, 'name': 'Funny', 'count': 964}, {'i...</td>\n",
       "      <td>[{'id': 1725, 'hero': 'https://pe.tedcdn.com/i...</td>\n",
       "      <td>Technology columnist</td>\n",
       "      <td>['computers', 'entertainment', 'interface desi...</td>\n",
       "      <td>Simplicity sells</td>\n",
       "      <td>https://www.ted.com/talks/david_pogue_says_sim...</td>\n",
       "      <td>1636292</td>\n",
       "      <td>2006-02-24</td>\n",
       "    </tr>\n",
       "    <tr>\n",
       "      <th>3</th>\n",
       "      <td>200</td>\n",
       "      <td>In an emotionally charged talk, MacArthur-winn...</td>\n",
       "      <td>1116</td>\n",
       "      <td>TED2006</td>\n",
       "      <td>1140912000</td>\n",
       "      <td>35</td>\n",
       "      <td>Majora Carter</td>\n",
       "      <td>Majora Carter: Greening the ghetto</td>\n",
       "      <td>1</td>\n",
       "      <td>1151367060</td>\n",
       "      <td>[{'id': 3, 'name': 'Courageous', 'count': 760}...</td>\n",
       "      <td>[{'id': 1041, 'hero': 'https://pe.tedcdn.com/i...</td>\n",
       "      <td>Activist for environmental justice</td>\n",
       "      <td>['MacArthur grant', 'activism', 'business', 'c...</td>\n",
       "      <td>Greening the ghetto</td>\n",
       "      <td>https://www.ted.com/talks/majora_carter_s_tale...</td>\n",
       "      <td>1697550</td>\n",
       "      <td>2006-02-26</td>\n",
       "    </tr>\n",
       "    <tr>\n",
       "      <th>4</th>\n",
       "      <td>593</td>\n",
       "      <td>You've never seen data presented like this. Wi...</td>\n",
       "      <td>1190</td>\n",
       "      <td>TED2006</td>\n",
       "      <td>1140566400</td>\n",
       "      <td>48</td>\n",
       "      <td>Hans Rosling</td>\n",
       "      <td>Hans Rosling: The best stats you've ever seen</td>\n",
       "      <td>1</td>\n",
       "      <td>1151440680</td>\n",
       "      <td>[{'id': 9, 'name': 'Ingenious', 'count': 3202}...</td>\n",
       "      <td>[{'id': 2056, 'hero': 'https://pe.tedcdn.com/i...</td>\n",
       "      <td>Global health expert; data visionary</td>\n",
       "      <td>['Africa', 'Asia', 'Google', 'demo', 'economic...</td>\n",
       "      <td>The best stats you've ever seen</td>\n",
       "      <td>https://www.ted.com/talks/hans_rosling_shows_t...</td>\n",
       "      <td>12005869</td>\n",
       "      <td>2006-02-22</td>\n",
       "    </tr>\n",
       "  </tbody>\n",
       "</table>\n",
       "</div>"
      ],
      "text/plain": [
       "   comments                                        description  duration  \\\n",
       "0      4553  Sir Ken Robinson makes an entertaining and pro...      1164   \n",
       "1       265  With the same humor and humanity he exuded in ...       977   \n",
       "2       124  New York Times columnist David Pogue takes aim...      1286   \n",
       "3       200  In an emotionally charged talk, MacArthur-winn...      1116   \n",
       "4       593  You've never seen data presented like this. Wi...      1190   \n",
       "\n",
       "     event   film_date  languages   main_speaker  \\\n",
       "0  TED2006  1140825600         60   Ken Robinson   \n",
       "1  TED2006  1140825600         43        Al Gore   \n",
       "2  TED2006  1140739200         26    David Pogue   \n",
       "3  TED2006  1140912000         35  Majora Carter   \n",
       "4  TED2006  1140566400         48   Hans Rosling   \n",
       "\n",
       "                                            name  num_speaker  published_date  \\\n",
       "0      Ken Robinson: Do schools kill creativity?            1      1151367060   \n",
       "1           Al Gore: Averting the climate crisis            1      1151367060   \n",
       "2                  David Pogue: Simplicity sells            1      1151367060   \n",
       "3             Majora Carter: Greening the ghetto            1      1151367060   \n",
       "4  Hans Rosling: The best stats you've ever seen            1      1151440680   \n",
       "\n",
       "                                             ratings  \\\n",
       "0  [{'id': 7, 'name': 'Funny', 'count': 19645}, {...   \n",
       "1  [{'id': 7, 'name': 'Funny', 'count': 544}, {'i...   \n",
       "2  [{'id': 7, 'name': 'Funny', 'count': 964}, {'i...   \n",
       "3  [{'id': 3, 'name': 'Courageous', 'count': 760}...   \n",
       "4  [{'id': 9, 'name': 'Ingenious', 'count': 3202}...   \n",
       "\n",
       "                                       related_talks  \\\n",
       "0  [{'id': 865, 'hero': 'https://pe.tedcdn.com/im...   \n",
       "1  [{'id': 243, 'hero': 'https://pe.tedcdn.com/im...   \n",
       "2  [{'id': 1725, 'hero': 'https://pe.tedcdn.com/i...   \n",
       "3  [{'id': 1041, 'hero': 'https://pe.tedcdn.com/i...   \n",
       "4  [{'id': 2056, 'hero': 'https://pe.tedcdn.com/i...   \n",
       "\n",
       "                     speaker_occupation  \\\n",
       "0                       Author/educator   \n",
       "1                      Climate advocate   \n",
       "2                  Technology columnist   \n",
       "3    Activist for environmental justice   \n",
       "4  Global health expert; data visionary   \n",
       "\n",
       "                                                tags  \\\n",
       "0  ['children', 'creativity', 'culture', 'dance',...   \n",
       "1  ['alternative energy', 'cars', 'climate change...   \n",
       "2  ['computers', 'entertainment', 'interface desi...   \n",
       "3  ['MacArthur grant', 'activism', 'business', 'c...   \n",
       "4  ['Africa', 'Asia', 'Google', 'demo', 'economic...   \n",
       "\n",
       "                             title  \\\n",
       "0      Do schools kill creativity?   \n",
       "1      Averting the climate crisis   \n",
       "2                 Simplicity sells   \n",
       "3              Greening the ghetto   \n",
       "4  The best stats you've ever seen   \n",
       "\n",
       "                                                 url     views film_datetime  \n",
       "0  https://www.ted.com/talks/ken_robinson_says_sc...  47227110    2006-02-25  \n",
       "1  https://www.ted.com/talks/al_gore_on_averting_...   3200520    2006-02-25  \n",
       "2  https://www.ted.com/talks/david_pogue_says_sim...   1636292    2006-02-24  \n",
       "3  https://www.ted.com/talks/majora_carter_s_tale...   1697550    2006-02-26  \n",
       "4  https://www.ted.com/talks/hans_rosling_shows_t...  12005869    2006-02-22  "
      ]
     },
     "execution_count": 164,
     "metadata": {},
     "output_type": "execute_result"
    }
   ],
   "source": [
    "ted.head()"
   ]
  },
  {
   "cell_type": "code",
   "execution_count": 58,
   "metadata": {},
   "outputs": [
    {
     "data": {
      "text/plain": [
       "comments              0\n",
       "description           0\n",
       "duration              0\n",
       "event                 0\n",
       "film_date             0\n",
       "languages             0\n",
       "main_speaker          0\n",
       "name                  0\n",
       "num_speaker           0\n",
       "published_date        0\n",
       "ratings               0\n",
       "related_talks         0\n",
       "speaker_occupation    6\n",
       "tags                  0\n",
       "title                 0\n",
       "url                   0\n",
       "views                 0\n",
       "dtype: int64"
      ]
     },
     "execution_count": 58,
     "metadata": {},
     "output_type": "execute_result"
    }
   ],
   "source": [
    "ted.isna().sum()"
   ]
  },
  {
   "cell_type": "markdown",
   "metadata": {},
   "source": [
    "### 2.2 Working with data in pandas: sorting and plotting\n",
    "#### 2.2.1 \n",
    "Display just the name and duration of the talks."
   ]
  },
  {
   "cell_type": "code",
   "execution_count": 65,
   "metadata": {},
   "outputs": [
    {
     "data": {
      "text/html": [
       "<div>\n",
       "<style scoped>\n",
       "    .dataframe tbody tr th:only-of-type {\n",
       "        vertical-align: middle;\n",
       "    }\n",
       "\n",
       "    .dataframe tbody tr th {\n",
       "        vertical-align: top;\n",
       "    }\n",
       "\n",
       "    .dataframe thead th {\n",
       "        text-align: right;\n",
       "    }\n",
       "</style>\n",
       "<table border=\"1\" class=\"dataframe\">\n",
       "  <thead>\n",
       "    <tr style=\"text-align: right;\">\n",
       "      <th></th>\n",
       "      <th>title</th>\n",
       "      <th>duration</th>\n",
       "    </tr>\n",
       "  </thead>\n",
       "  <tbody>\n",
       "    <tr>\n",
       "      <th>0</th>\n",
       "      <td>Do schools kill creativity?</td>\n",
       "      <td>1164</td>\n",
       "    </tr>\n",
       "    <tr>\n",
       "      <th>1</th>\n",
       "      <td>Averting the climate crisis</td>\n",
       "      <td>977</td>\n",
       "    </tr>\n",
       "    <tr>\n",
       "      <th>2</th>\n",
       "      <td>Simplicity sells</td>\n",
       "      <td>1286</td>\n",
       "    </tr>\n",
       "    <tr>\n",
       "      <th>3</th>\n",
       "      <td>Greening the ghetto</td>\n",
       "      <td>1116</td>\n",
       "    </tr>\n",
       "    <tr>\n",
       "      <th>4</th>\n",
       "      <td>The best stats you've ever seen</td>\n",
       "      <td>1190</td>\n",
       "    </tr>\n",
       "    <tr>\n",
       "      <th>5</th>\n",
       "      <td>Why we do what we do</td>\n",
       "      <td>1305</td>\n",
       "    </tr>\n",
       "    <tr>\n",
       "      <th>6</th>\n",
       "      <td>Letting go of God</td>\n",
       "      <td>992</td>\n",
       "    </tr>\n",
       "    <tr>\n",
       "      <th>7</th>\n",
       "      <td>Behind the design of Seattle's library</td>\n",
       "      <td>1198</td>\n",
       "    </tr>\n",
       "    <tr>\n",
       "      <th>8</th>\n",
       "      <td>Let's teach religion -- all religion -- in sch...</td>\n",
       "      <td>1485</td>\n",
       "    </tr>\n",
       "    <tr>\n",
       "      <th>9</th>\n",
       "      <td>A life of purpose</td>\n",
       "      <td>1262</td>\n",
       "    </tr>\n",
       "    <tr>\n",
       "      <th>10</th>\n",
       "      <td>My wish: A call for open-source architecture</td>\n",
       "      <td>1414</td>\n",
       "    </tr>\n",
       "    <tr>\n",
       "      <th>11</th>\n",
       "      <td>My wish: A global day of film</td>\n",
       "      <td>1538</td>\n",
       "    </tr>\n",
       "    <tr>\n",
       "      <th>12</th>\n",
       "      <td>My wish: Help me stop pandemics</td>\n",
       "      <td>1550</td>\n",
       "    </tr>\n",
       "    <tr>\n",
       "      <th>13</th>\n",
       "      <td>The radical promise of the multi-touch interface</td>\n",
       "      <td>527</td>\n",
       "    </tr>\n",
       "    <tr>\n",
       "      <th>14</th>\n",
       "      <td>One Laptop per Child</td>\n",
       "      <td>1057</td>\n",
       "    </tr>\n",
       "    <tr>\n",
       "      <th>15</th>\n",
       "      <td>An 11-year-old's magical violin</td>\n",
       "      <td>1481</td>\n",
       "    </tr>\n",
       "    <tr>\n",
       "      <th>16</th>\n",
       "      <td>Improvising on piano, aged 14</td>\n",
       "      <td>1445</td>\n",
       "    </tr>\n",
       "    <tr>\n",
       "      <th>17</th>\n",
       "      <td>Simple designs to save a life</td>\n",
       "      <td>906</td>\n",
       "    </tr>\n",
       "    <tr>\n",
       "      <th>18</th>\n",
       "      <td>Organic design, inspired by nature</td>\n",
       "      <td>1170</td>\n",
       "    </tr>\n",
       "    <tr>\n",
       "      <th>19</th>\n",
       "      <td>The birth of Wikipedia</td>\n",
       "      <td>1201</td>\n",
       "    </tr>\n",
       "    <tr>\n",
       "      <th>20</th>\n",
       "      <td>The birth of the open-source learning revolution</td>\n",
       "      <td>1114</td>\n",
       "    </tr>\n",
       "    <tr>\n",
       "      <th>21</th>\n",
       "      <td>Nerdcore comedy</td>\n",
       "      <td>1136</td>\n",
       "    </tr>\n",
       "    <tr>\n",
       "      <th>22</th>\n",
       "      <td>Meet the founder of the blog revolution</td>\n",
       "      <td>1006</td>\n",
       "    </tr>\n",
       "    <tr>\n",
       "      <th>23</th>\n",
       "      <td>Why we love, why we cheat</td>\n",
       "      <td>1407</td>\n",
       "    </tr>\n",
       "    <tr>\n",
       "      <th>24</th>\n",
       "      <td>Happiness in body and soul</td>\n",
       "      <td>1225</td>\n",
       "    </tr>\n",
       "    <tr>\n",
       "      <th>25</th>\n",
       "      <td>Chemical scum that dream of distant quasars</td>\n",
       "      <td>1140</td>\n",
       "    </tr>\n",
       "    <tr>\n",
       "      <th>26</th>\n",
       "      <td>Why the universe seems so strange</td>\n",
       "      <td>1316</td>\n",
       "    </tr>\n",
       "    <tr>\n",
       "      <th>27</th>\n",
       "      <td>The freakonomics of crack dealing</td>\n",
       "      <td>1275</td>\n",
       "    </tr>\n",
       "    <tr>\n",
       "      <th>28</th>\n",
       "      <td>Choice, happiness and spaghetti sauce</td>\n",
       "      <td>1050</td>\n",
       "    </tr>\n",
       "    <tr>\n",
       "      <th>29</th>\n",
       "      <td>The surprising science of happiness</td>\n",
       "      <td>1276</td>\n",
       "    </tr>\n",
       "    <tr>\n",
       "      <th>...</th>\n",
       "      <td>...</td>\n",
       "      <td>...</td>\n",
       "    </tr>\n",
       "    <tr>\n",
       "      <th>2520</th>\n",
       "      <td>What would happen if we upload our brains to c...</td>\n",
       "      <td>736</td>\n",
       "    </tr>\n",
       "    <tr>\n",
       "      <th>2521</th>\n",
       "      <td>What the sugar coating on your cells is trying...</td>\n",
       "      <td>685</td>\n",
       "    </tr>\n",
       "    <tr>\n",
       "      <th>2522</th>\n",
       "      <td>\"The Sacred Art of the Ori\"</td>\n",
       "      <td>530</td>\n",
       "    </tr>\n",
       "    <tr>\n",
       "      <th>2523</th>\n",
       "      <td>When workers own companies, the economy is mor...</td>\n",
       "      <td>747</td>\n",
       "    </tr>\n",
       "    <tr>\n",
       "      <th>2524</th>\n",
       "      <td>Fun, fierce and fantastical African art</td>\n",
       "      <td>310</td>\n",
       "    </tr>\n",
       "    <tr>\n",
       "      <th>2525</th>\n",
       "      <td>Why we need to end the era of orphanages</td>\n",
       "      <td>791</td>\n",
       "    </tr>\n",
       "    <tr>\n",
       "      <th>2526</th>\n",
       "      <td>Can a robot pass a university entrance exam?</td>\n",
       "      <td>817</td>\n",
       "    </tr>\n",
       "    <tr>\n",
       "      <th>2527</th>\n",
       "      <td>How the US government spies on people who prot...</td>\n",
       "      <td>865</td>\n",
       "    </tr>\n",
       "    <tr>\n",
       "      <th>2528</th>\n",
       "      <td>How your pictures can help reclaim lost history</td>\n",
       "      <td>717</td>\n",
       "    </tr>\n",
       "    <tr>\n",
       "      <th>2529</th>\n",
       "      <td>Dare to refuse the origin myths that claim who...</td>\n",
       "      <td>1156</td>\n",
       "    </tr>\n",
       "    <tr>\n",
       "      <th>2530</th>\n",
       "      <td>A smog vacuum cleaner and other magical city d...</td>\n",
       "      <td>738</td>\n",
       "    </tr>\n",
       "    <tr>\n",
       "      <th>2531</th>\n",
       "      <td>How young people join violent extremist groups...</td>\n",
       "      <td>698</td>\n",
       "    </tr>\n",
       "    <tr>\n",
       "      <th>2532</th>\n",
       "      <td>How to build a company where the best ideas win</td>\n",
       "      <td>993</td>\n",
       "    </tr>\n",
       "    <tr>\n",
       "      <th>2533</th>\n",
       "      <td>Would you live in a floating city in the sky?</td>\n",
       "      <td>663</td>\n",
       "    </tr>\n",
       "    <tr>\n",
       "      <th>2534</th>\n",
       "      <td>What it feels like to see Earth from space</td>\n",
       "      <td>725</td>\n",
       "    </tr>\n",
       "    <tr>\n",
       "      <th>2535</th>\n",
       "      <td>Who belongs in a city?</td>\n",
       "      <td>723</td>\n",
       "    </tr>\n",
       "    <tr>\n",
       "      <th>2536</th>\n",
       "      <td>How our friendship survives our opposing politics</td>\n",
       "      <td>865</td>\n",
       "    </tr>\n",
       "    <tr>\n",
       "      <th>2537</th>\n",
       "      <td>There's more to life than being happy</td>\n",
       "      <td>738</td>\n",
       "    </tr>\n",
       "    <tr>\n",
       "      <th>2538</th>\n",
       "      <td>What really motivates people to be honest in b...</td>\n",
       "      <td>808</td>\n",
       "    </tr>\n",
       "    <tr>\n",
       "      <th>2539</th>\n",
       "      <td>A forgotten ancient grain that could help Afri...</td>\n",
       "      <td>934</td>\n",
       "    </tr>\n",
       "    <tr>\n",
       "      <th>2540</th>\n",
       "      <td>The real reason manufacturing jobs are disappe...</td>\n",
       "      <td>722</td>\n",
       "    </tr>\n",
       "    <tr>\n",
       "      <th>2541</th>\n",
       "      <td>The fascinating physics of everyday life</td>\n",
       "      <td>957</td>\n",
       "    </tr>\n",
       "    <tr>\n",
       "      <th>2542</th>\n",
       "      <td>Living sculptures that stand for history's truths</td>\n",
       "      <td>795</td>\n",
       "    </tr>\n",
       "    <tr>\n",
       "      <th>2543</th>\n",
       "      <td>How digital DNA could help you make better hea...</td>\n",
       "      <td>894</td>\n",
       "    </tr>\n",
       "    <tr>\n",
       "      <th>2544</th>\n",
       "      <td>Why Africa must become a center of knowledge a...</td>\n",
       "      <td>810</td>\n",
       "    </tr>\n",
       "    <tr>\n",
       "      <th>2545</th>\n",
       "      <td>What we're missing in the debate about immigra...</td>\n",
       "      <td>476</td>\n",
       "    </tr>\n",
       "    <tr>\n",
       "      <th>2546</th>\n",
       "      <td>The most Martian place on Earth</td>\n",
       "      <td>290</td>\n",
       "    </tr>\n",
       "    <tr>\n",
       "      <th>2547</th>\n",
       "      <td>What intelligent machines can learn from a sch...</td>\n",
       "      <td>651</td>\n",
       "    </tr>\n",
       "    <tr>\n",
       "      <th>2548</th>\n",
       "      <td>A black man goes undercover in the alt-right</td>\n",
       "      <td>1100</td>\n",
       "    </tr>\n",
       "    <tr>\n",
       "      <th>2549</th>\n",
       "      <td>How a video game might help us build better ci...</td>\n",
       "      <td>519</td>\n",
       "    </tr>\n",
       "  </tbody>\n",
       "</table>\n",
       "<p>2550 rows × 2 columns</p>\n",
       "</div>"
      ],
      "text/plain": [
       "                                                  title  duration\n",
       "0                           Do schools kill creativity?      1164\n",
       "1                           Averting the climate crisis       977\n",
       "2                                      Simplicity sells      1286\n",
       "3                                   Greening the ghetto      1116\n",
       "4                       The best stats you've ever seen      1190\n",
       "5                                  Why we do what we do      1305\n",
       "6                                     Letting go of God       992\n",
       "7                Behind the design of Seattle's library      1198\n",
       "8     Let's teach religion -- all religion -- in sch...      1485\n",
       "9                                     A life of purpose      1262\n",
       "10         My wish: A call for open-source architecture      1414\n",
       "11                        My wish: A global day of film      1538\n",
       "12                      My wish: Help me stop pandemics      1550\n",
       "13     The radical promise of the multi-touch interface       527\n",
       "14                                 One Laptop per Child      1057\n",
       "15                      An 11-year-old's magical violin      1481\n",
       "16                        Improvising on piano, aged 14      1445\n",
       "17                        Simple designs to save a life       906\n",
       "18                   Organic design, inspired by nature      1170\n",
       "19                               The birth of Wikipedia      1201\n",
       "20     The birth of the open-source learning revolution      1114\n",
       "21                                      Nerdcore comedy      1136\n",
       "22              Meet the founder of the blog revolution      1006\n",
       "23                            Why we love, why we cheat      1407\n",
       "24                           Happiness in body and soul      1225\n",
       "25          Chemical scum that dream of distant quasars      1140\n",
       "26                    Why the universe seems so strange      1316\n",
       "27                    The freakonomics of crack dealing      1275\n",
       "28                Choice, happiness and spaghetti sauce      1050\n",
       "29                  The surprising science of happiness      1276\n",
       "...                                                 ...       ...\n",
       "2520  What would happen if we upload our brains to c...       736\n",
       "2521  What the sugar coating on your cells is trying...       685\n",
       "2522                        \"The Sacred Art of the Ori\"       530\n",
       "2523  When workers own companies, the economy is mor...       747\n",
       "2524            Fun, fierce and fantastical African art       310\n",
       "2525           Why we need to end the era of orphanages       791\n",
       "2526       Can a robot pass a university entrance exam?       817\n",
       "2527  How the US government spies on people who prot...       865\n",
       "2528    How your pictures can help reclaim lost history       717\n",
       "2529  Dare to refuse the origin myths that claim who...      1156\n",
       "2530  A smog vacuum cleaner and other magical city d...       738\n",
       "2531  How young people join violent extremist groups...       698\n",
       "2532    How to build a company where the best ideas win       993\n",
       "2533      Would you live in a floating city in the sky?       663\n",
       "2534         What it feels like to see Earth from space       725\n",
       "2535                             Who belongs in a city?       723\n",
       "2536  How our friendship survives our opposing politics       865\n",
       "2537              There's more to life than being happy       738\n",
       "2538  What really motivates people to be honest in b...       808\n",
       "2539  A forgotten ancient grain that could help Afri...       934\n",
       "2540  The real reason manufacturing jobs are disappe...       722\n",
       "2541           The fascinating physics of everyday life       957\n",
       "2542  Living sculptures that stand for history's truths       795\n",
       "2543  How digital DNA could help you make better hea...       894\n",
       "2544  Why Africa must become a center of knowledge a...       810\n",
       "2545  What we're missing in the debate about immigra...       476\n",
       "2546                    The most Martian place on Earth       290\n",
       "2547  What intelligent machines can learn from a sch...       651\n",
       "2548       A black man goes undercover in the alt-right      1100\n",
       "2549  How a video game might help us build better ci...       519\n",
       "\n",
       "[2550 rows x 2 columns]"
      ]
     },
     "execution_count": 65,
     "metadata": {},
     "output_type": "execute_result"
    }
   ],
   "source": [
    "ted[['title', 'duration']]"
   ]
  },
  {
   "cell_type": "markdown",
   "metadata": {},
   "source": [
    "#### 2.2.2\n",
    "Now sort by duration. Display 1) the 10 shortest and 2) the 10 longest talks"
   ]
  },
  {
   "cell_type": "code",
   "execution_count": 66,
   "metadata": {},
   "outputs": [
    {
     "data": {
      "text/html": [
       "<div>\n",
       "<style scoped>\n",
       "    .dataframe tbody tr th:only-of-type {\n",
       "        vertical-align: middle;\n",
       "    }\n",
       "\n",
       "    .dataframe tbody tr th {\n",
       "        vertical-align: top;\n",
       "    }\n",
       "\n",
       "    .dataframe thead th {\n",
       "        text-align: right;\n",
       "    }\n",
       "</style>\n",
       "<table border=\"1\" class=\"dataframe\">\n",
       "  <thead>\n",
       "    <tr style=\"text-align: right;\">\n",
       "      <th></th>\n",
       "      <th>title</th>\n",
       "      <th>duration</th>\n",
       "    </tr>\n",
       "  </thead>\n",
       "  <tbody>\n",
       "    <tr>\n",
       "      <th>239</th>\n",
       "      <td>The ancestor of language</td>\n",
       "      <td>135</td>\n",
       "    </tr>\n",
       "    <tr>\n",
       "      <th>248</th>\n",
       "      <td>\"Clonie\"</td>\n",
       "      <td>140</td>\n",
       "    </tr>\n",
       "    <tr>\n",
       "      <th>547</th>\n",
       "      <td>The modern euphonium</td>\n",
       "      <td>141</td>\n",
       "    </tr>\n",
       "    <tr>\n",
       "      <th>454</th>\n",
       "      <td>A supercharged motorcycle design</td>\n",
       "      <td>143</td>\n",
       "    </tr>\n",
       "    <tr>\n",
       "      <th>264</th>\n",
       "      <td>The wonder of Zulu wire art</td>\n",
       "      <td>153</td>\n",
       "    </tr>\n",
       "    <tr>\n",
       "      <th>606</th>\n",
       "      <td>Weird, or just different?</td>\n",
       "      <td>162</td>\n",
       "    </tr>\n",
       "    <tr>\n",
       "      <th>86</th>\n",
       "      <td>Global warming's theme song, \"Manhattan in Jan...</td>\n",
       "      <td>163</td>\n",
       "    </tr>\n",
       "    <tr>\n",
       "      <th>1390</th>\n",
       "      <td>Forget multitasking, try monotasking</td>\n",
       "      <td>172</td>\n",
       "    </tr>\n",
       "    <tr>\n",
       "      <th>593</th>\n",
       "      <td>Making maps to fight disaster, build economies</td>\n",
       "      <td>174</td>\n",
       "    </tr>\n",
       "    <tr>\n",
       "      <th>722</th>\n",
       "      <td>Don't build your home, grow it!</td>\n",
       "      <td>176</td>\n",
       "    </tr>\n",
       "    <tr>\n",
       "      <th>479</th>\n",
       "      <td>Teach statistics before calculus!</td>\n",
       "      <td>178</td>\n",
       "    </tr>\n",
       "    <tr>\n",
       "      <th>272</th>\n",
       "      <td>Blindfold origami and cello</td>\n",
       "      <td>178</td>\n",
       "    </tr>\n",
       "    <tr>\n",
       "      <th>940</th>\n",
       "      <td>How to tie your shoes</td>\n",
       "      <td>179</td>\n",
       "    </tr>\n",
       "    <tr>\n",
       "      <th>1499</th>\n",
       "      <td>\"High School Training Ground\"</td>\n",
       "      <td>180</td>\n",
       "    </tr>\n",
       "    <tr>\n",
       "      <th>1254</th>\n",
       "      <td>Mining minerals from seawater</td>\n",
       "      <td>181</td>\n",
       "    </tr>\n",
       "    <tr>\n",
       "      <th>601</th>\n",
       "      <td>What teachers make</td>\n",
       "      <td>182</td>\n",
       "    </tr>\n",
       "    <tr>\n",
       "      <th>625</th>\n",
       "      <td>Watch me play ... the audience!</td>\n",
       "      <td>184</td>\n",
       "    </tr>\n",
       "    <tr>\n",
       "      <th>549</th>\n",
       "      <td>The refugees of boom-and-bust</td>\n",
       "      <td>185</td>\n",
       "    </tr>\n",
       "    <tr>\n",
       "      <th>474</th>\n",
       "      <td>An electrifying organ performance</td>\n",
       "      <td>185</td>\n",
       "    </tr>\n",
       "    <tr>\n",
       "      <th>105</th>\n",
       "      <td>What squatter cities can teach us</td>\n",
       "      <td>185</td>\n",
       "    </tr>\n",
       "    <tr>\n",
       "      <th>1431</th>\n",
       "      <td>Print your own medicine</td>\n",
       "      <td>186</td>\n",
       "    </tr>\n",
       "    <tr>\n",
       "      <th>249</th>\n",
       "      <td>A performance with breath, music, passion</td>\n",
       "      <td>186</td>\n",
       "    </tr>\n",
       "    <tr>\n",
       "      <th>653</th>\n",
       "      <td>How to start a movement</td>\n",
       "      <td>189</td>\n",
       "    </tr>\n",
       "    <tr>\n",
       "      <th>1444</th>\n",
       "      <td>Dance, tiny robots!</td>\n",
       "      <td>189</td>\n",
       "    </tr>\n",
       "    <tr>\n",
       "      <th>242</th>\n",
       "      <td>Your genes are not your fate</td>\n",
       "      <td>192</td>\n",
       "    </tr>\n",
       "    <tr>\n",
       "      <th>758</th>\n",
       "      <td>Keep your goals to yourself</td>\n",
       "      <td>195</td>\n",
       "    </tr>\n",
       "    <tr>\n",
       "      <th>796</th>\n",
       "      <td>\"(Nothing But) Flowers\" with string quartet</td>\n",
       "      <td>195</td>\n",
       "    </tr>\n",
       "    <tr>\n",
       "      <th>785</th>\n",
       "      <td>The best gift I ever survived</td>\n",
       "      <td>197</td>\n",
       "    </tr>\n",
       "    <tr>\n",
       "      <th>320</th>\n",
       "      <td>A story of mixed emoticons</td>\n",
       "      <td>197</td>\n",
       "    </tr>\n",
       "    <tr>\n",
       "      <th>49</th>\n",
       "      <td>The killer American diet that's sweeping the p...</td>\n",
       "      <td>198</td>\n",
       "    </tr>\n",
       "    <tr>\n",
       "      <th>...</th>\n",
       "      <td>...</td>\n",
       "      <td>...</td>\n",
       "    </tr>\n",
       "    <tr>\n",
       "      <th>347</th>\n",
       "      <td>Life in Second Life</td>\n",
       "      <td>1711</td>\n",
       "    </tr>\n",
       "    <tr>\n",
       "      <th>96</th>\n",
       "      <td>Militant atheism</td>\n",
       "      <td>1750</td>\n",
       "    </tr>\n",
       "    <tr>\n",
       "      <th>660</th>\n",
       "      <td>Singing old poems to life</td>\n",
       "      <td>1758</td>\n",
       "    </tr>\n",
       "    <tr>\n",
       "      <th>1646</th>\n",
       "      <td>Depression, the secret we share</td>\n",
       "      <td>1761</td>\n",
       "    </tr>\n",
       "    <tr>\n",
       "      <th>2430</th>\n",
       "      <td>We should all be feminists</td>\n",
       "      <td>1768</td>\n",
       "    </tr>\n",
       "    <tr>\n",
       "      <th>360</th>\n",
       "      <td>Play! Experiment! Discover!</td>\n",
       "      <td>1772</td>\n",
       "    </tr>\n",
       "    <tr>\n",
       "      <th>146</th>\n",
       "      <td>10 ways the world could end</td>\n",
       "      <td>1782</td>\n",
       "    </tr>\n",
       "    <tr>\n",
       "      <th>150</th>\n",
       "      <td>Life at 30,000 feet</td>\n",
       "      <td>1791</td>\n",
       "    </tr>\n",
       "    <tr>\n",
       "      <th>276</th>\n",
       "      <td>Close-up card magic with a twist</td>\n",
       "      <td>1868</td>\n",
       "    </tr>\n",
       "    <tr>\n",
       "      <th>285</th>\n",
       "      <td>The web is more than \"better TV\"</td>\n",
       "      <td>1899</td>\n",
       "    </tr>\n",
       "    <tr>\n",
       "      <th>206</th>\n",
       "      <td>My green agenda for architecture</td>\n",
       "      <td>1917</td>\n",
       "    </tr>\n",
       "    <tr>\n",
       "      <th>89</th>\n",
       "      <td>How to truly listen</td>\n",
       "      <td>1929</td>\n",
       "    </tr>\n",
       "    <tr>\n",
       "      <th>1704</th>\n",
       "      <td>The NSA responds to Edward Snowden's TED Talk</td>\n",
       "      <td>2010</td>\n",
       "    </tr>\n",
       "    <tr>\n",
       "      <th>354</th>\n",
       "      <td>Why we make bad decisions</td>\n",
       "      <td>2018</td>\n",
       "    </tr>\n",
       "    <tr>\n",
       "      <th>40</th>\n",
       "      <td>My wish: Manufactured landscapes and green edu...</td>\n",
       "      <td>2065</td>\n",
       "    </tr>\n",
       "    <tr>\n",
       "      <th>1701</th>\n",
       "      <td>Here's how we take back the Internet</td>\n",
       "      <td>2102</td>\n",
       "    </tr>\n",
       "    <tr>\n",
       "      <th>180</th>\n",
       "      <td>Rebuilding a neighborhood with beauty, dignity...</td>\n",
       "      <td>2128</td>\n",
       "    </tr>\n",
       "    <tr>\n",
       "      <th>226</th>\n",
       "      <td>Juggling as art ... and science</td>\n",
       "      <td>2222</td>\n",
       "    </tr>\n",
       "    <tr>\n",
       "      <th>589</th>\n",
       "      <td>The uniqueness of humans</td>\n",
       "      <td>2246</td>\n",
       "    </tr>\n",
       "    <tr>\n",
       "      <th>2441</th>\n",
       "      <td>The future we're building -- and boring</td>\n",
       "      <td>2450</td>\n",
       "    </tr>\n",
       "    <tr>\n",
       "      <th>202</th>\n",
       "      <td>My days as a young rebel</td>\n",
       "      <td>2678</td>\n",
       "    </tr>\n",
       "    <tr>\n",
       "      <th>947</th>\n",
       "      <td>Authentic creativity vs. karaoke culture</td>\n",
       "      <td>2761</td>\n",
       "    </tr>\n",
       "    <tr>\n",
       "      <th>2421</th>\n",
       "      <td>Political common ground in a polarized United ...</td>\n",
       "      <td>2853</td>\n",
       "    </tr>\n",
       "    <tr>\n",
       "      <th>580</th>\n",
       "      <td>What's the right thing to do?</td>\n",
       "      <td>3296</td>\n",
       "    </tr>\n",
       "    <tr>\n",
       "      <th>600</th>\n",
       "      <td>Growing up in the universe</td>\n",
       "      <td>3475</td>\n",
       "    </tr>\n",
       "    <tr>\n",
       "      <th>594</th>\n",
       "      <td>Stories of Haiti</td>\n",
       "      <td>3573</td>\n",
       "    </tr>\n",
       "    <tr>\n",
       "      <th>2387</th>\n",
       "      <td>Nationalism vs. globalism: the new political d...</td>\n",
       "      <td>3608</td>\n",
       "    </tr>\n",
       "    <tr>\n",
       "      <th>629</th>\n",
       "      <td>Physics is fun to imagine</td>\n",
       "      <td>3955</td>\n",
       "    </tr>\n",
       "    <tr>\n",
       "      <th>588</th>\n",
       "      <td>Really achieving your childhood dreams</td>\n",
       "      <td>4587</td>\n",
       "    </tr>\n",
       "    <tr>\n",
       "      <th>640</th>\n",
       "      <td>Parrots, the universe and everything</td>\n",
       "      <td>5256</td>\n",
       "    </tr>\n",
       "  </tbody>\n",
       "</table>\n",
       "<p>2550 rows × 2 columns</p>\n",
       "</div>"
      ],
      "text/plain": [
       "                                                  title  duration\n",
       "239                            The ancestor of language       135\n",
       "248                                            \"Clonie\"       140\n",
       "547                                The modern euphonium       141\n",
       "454                    A supercharged motorcycle design       143\n",
       "264                         The wonder of Zulu wire art       153\n",
       "606                           Weird, or just different?       162\n",
       "86    Global warming's theme song, \"Manhattan in Jan...       163\n",
       "1390               Forget multitasking, try monotasking       172\n",
       "593      Making maps to fight disaster, build economies       174\n",
       "722                     Don't build your home, grow it!       176\n",
       "479                   Teach statistics before calculus!       178\n",
       "272                         Blindfold origami and cello       178\n",
       "940                               How to tie your shoes       179\n",
       "1499                      \"High School Training Ground\"       180\n",
       "1254                      Mining minerals from seawater       181\n",
       "601                                  What teachers make       182\n",
       "625                     Watch me play ... the audience!       184\n",
       "549                       The refugees of boom-and-bust       185\n",
       "474                   An electrifying organ performance       185\n",
       "105                   What squatter cities can teach us       185\n",
       "1431                            Print your own medicine       186\n",
       "249           A performance with breath, music, passion       186\n",
       "653                             How to start a movement       189\n",
       "1444                                Dance, tiny robots!       189\n",
       "242                        Your genes are not your fate       192\n",
       "758                         Keep your goals to yourself       195\n",
       "796         \"(Nothing But) Flowers\" with string quartet       195\n",
       "785                       The best gift I ever survived       197\n",
       "320                          A story of mixed emoticons       197\n",
       "49    The killer American diet that's sweeping the p...       198\n",
       "...                                                 ...       ...\n",
       "347                                 Life in Second Life      1711\n",
       "96                                     Militant atheism      1750\n",
       "660                           Singing old poems to life      1758\n",
       "1646                    Depression, the secret we share      1761\n",
       "2430                         We should all be feminists      1768\n",
       "360                         Play! Experiment! Discover!      1772\n",
       "146                         10 ways the world could end      1782\n",
       "150                                 Life at 30,000 feet      1791\n",
       "276                    Close-up card magic with a twist      1868\n",
       "285                    The web is more than \"better TV\"      1899\n",
       "206                    My green agenda for architecture      1917\n",
       "89                                  How to truly listen      1929\n",
       "1704      The NSA responds to Edward Snowden's TED Talk      2010\n",
       "354                           Why we make bad decisions      2018\n",
       "40    My wish: Manufactured landscapes and green edu...      2065\n",
       "1701               Here's how we take back the Internet      2102\n",
       "180   Rebuilding a neighborhood with beauty, dignity...      2128\n",
       "226                     Juggling as art ... and science      2222\n",
       "589                            The uniqueness of humans      2246\n",
       "2441            The future we're building -- and boring      2450\n",
       "202                            My days as a young rebel      2678\n",
       "947            Authentic creativity vs. karaoke culture      2761\n",
       "2421  Political common ground in a polarized United ...      2853\n",
       "580                       What's the right thing to do?      3296\n",
       "600                          Growing up in the universe      3475\n",
       "594                                    Stories of Haiti      3573\n",
       "2387  Nationalism vs. globalism: the new political d...      3608\n",
       "629                           Physics is fun to imagine      3955\n",
       "588              Really achieving your childhood dreams      4587\n",
       "640                Parrots, the universe and everything      5256\n",
       "\n",
       "[2550 rows x 2 columns]"
      ]
     },
     "execution_count": 66,
     "metadata": {},
     "output_type": "execute_result"
    }
   ],
   "source": [
    "ted[['title', 'duration']].sort_values('duration')"
   ]
  },
  {
   "cell_type": "markdown",
   "metadata": {},
   "source": [
    "#### 2.2.3\n",
    "What is the 10th longest talk?"
   ]
  },
  {
   "cell_type": "code",
   "execution_count": 68,
   "metadata": {},
   "outputs": [
    {
     "data": {
      "text/html": [
       "<div>\n",
       "<style scoped>\n",
       "    .dataframe tbody tr th:only-of-type {\n",
       "        vertical-align: middle;\n",
       "    }\n",
       "\n",
       "    .dataframe tbody tr th {\n",
       "        vertical-align: top;\n",
       "    }\n",
       "\n",
       "    .dataframe thead th {\n",
       "        text-align: right;\n",
       "    }\n",
       "</style>\n",
       "<table border=\"1\" class=\"dataframe\">\n",
       "  <thead>\n",
       "    <tr style=\"text-align: right;\">\n",
       "      <th></th>\n",
       "      <th>title</th>\n",
       "      <th>duration</th>\n",
       "    </tr>\n",
       "  </thead>\n",
       "  <tbody>\n",
       "    <tr>\n",
       "      <th>202</th>\n",
       "      <td>My days as a young rebel</td>\n",
       "      <td>2678</td>\n",
       "    </tr>\n",
       "    <tr>\n",
       "      <th>947</th>\n",
       "      <td>Authentic creativity vs. karaoke culture</td>\n",
       "      <td>2761</td>\n",
       "    </tr>\n",
       "    <tr>\n",
       "      <th>2421</th>\n",
       "      <td>Political common ground in a polarized United ...</td>\n",
       "      <td>2853</td>\n",
       "    </tr>\n",
       "    <tr>\n",
       "      <th>580</th>\n",
       "      <td>What's the right thing to do?</td>\n",
       "      <td>3296</td>\n",
       "    </tr>\n",
       "    <tr>\n",
       "      <th>600</th>\n",
       "      <td>Growing up in the universe</td>\n",
       "      <td>3475</td>\n",
       "    </tr>\n",
       "    <tr>\n",
       "      <th>594</th>\n",
       "      <td>Stories of Haiti</td>\n",
       "      <td>3573</td>\n",
       "    </tr>\n",
       "    <tr>\n",
       "      <th>2387</th>\n",
       "      <td>Nationalism vs. globalism: the new political d...</td>\n",
       "      <td>3608</td>\n",
       "    </tr>\n",
       "    <tr>\n",
       "      <th>629</th>\n",
       "      <td>Physics is fun to imagine</td>\n",
       "      <td>3955</td>\n",
       "    </tr>\n",
       "    <tr>\n",
       "      <th>588</th>\n",
       "      <td>Really achieving your childhood dreams</td>\n",
       "      <td>4587</td>\n",
       "    </tr>\n",
       "    <tr>\n",
       "      <th>640</th>\n",
       "      <td>Parrots, the universe and everything</td>\n",
       "      <td>5256</td>\n",
       "    </tr>\n",
       "  </tbody>\n",
       "</table>\n",
       "</div>"
      ],
      "text/plain": [
       "                                                  title  duration\n",
       "202                            My days as a young rebel      2678\n",
       "947            Authentic creativity vs. karaoke culture      2761\n",
       "2421  Political common ground in a polarized United ...      2853\n",
       "580                       What's the right thing to do?      3296\n",
       "600                          Growing up in the universe      3475\n",
       "594                                    Stories of Haiti      3573\n",
       "2387  Nationalism vs. globalism: the new political d...      3608\n",
       "629                           Physics is fun to imagine      3955\n",
       "588              Really achieving your childhood dreams      4587\n",
       "640                Parrots, the universe and everything      5256"
      ]
     },
     "execution_count": 68,
     "metadata": {},
     "output_type": "execute_result"
    }
   ],
   "source": [
    "ted[['title', 'duration']].sort_values('duration').tail(10)\n",
    "#Answer is My days as a young rebel"
   ]
  },
  {
   "cell_type": "markdown",
   "metadata": {},
   "source": [
    "#### 2.2.4\n",
    "What unit of time is the duration in? How do you know?"
   ]
  },
  {
   "cell_type": "code",
   "execution_count": 71,
   "metadata": {},
   "outputs": [],
   "source": [
    "#parrots the universe and everything is 1 hr 27 min 37 s\n",
    "#5256 = 3600 + 1620 + 37\n",
    "#seconds"
   ]
  },
  {
   "cell_type": "markdown",
   "metadata": {},
   "source": [
    "#### 2.2.5\n",
    "Plot the durations as a histogram, using a sensible number of bins. Label your axes. How did you decide how many bins to use?"
   ]
  },
  {
   "cell_type": "code",
   "execution_count": 84,
   "metadata": {},
   "outputs": [
    {
     "data": {
      "text/plain": [
       "Text(0.5, 0, 'Duration (s)')"
      ]
     },
     "execution_count": 84,
     "metadata": {},
     "output_type": "execute_result"
    },
    {
     "data": {
      "image/png": "[encoded data removed]",
      "text/plain": [
       "<Figure size 432x288 with 1 Axes>"
      ]
     },
     "metadata": {
      "needs_background": "light"
     },
     "output_type": "display_data"
    }
   ],
   "source": [
    "ted.duration.plot(kind = 'hist') \n",
    "plt.xlabel('Duration (s)')"
   ]
  },
  {
   "cell_type": "code",
   "execution_count": 85,
   "metadata": {},
   "outputs": [
    {
     "data": {
      "text/plain": [
       "Text(0.5, 0, 'Duration (s)')"
      ]
     },
     "execution_count": 85,
     "metadata": {},
     "output_type": "execute_result"
    },
    {
     "data": {
      "image/png": "[encoded data removed]",
      "text/plain": [
       "<Figure size 432x288 with 1 Axes>"
      ]
     },
     "metadata": {
      "needs_background": "light"
     },
     "output_type": "display_data"
    }
   ],
   "source": [
    "ted.duration.plot(kind = 'hist', bins=100) \n",
    "plt.xlabel('Duration (s)')\n",
    "#I feel like this one is the more reasonable histogram. Obviously there's a lot of shorter talks, but there are some longer ones and this one shows that population a little better."
   ]
  },
  {
   "cell_type": "code",
   "execution_count": 86,
   "metadata": {},
   "outputs": [
    {
     "data": {
      "text/plain": [
       "Text(0.5, 0, 'Duration (s)')"
      ]
     },
     "execution_count": 86,
     "metadata": {},
     "output_type": "execute_result"
    },
    {
     "data": {
      "image/png": "[encoded data removed]",
      "text/plain": [
       "<Figure size 432x288 with 1 Axes>"
      ]
     },
     "metadata": {
      "needs_background": "light"
     },
     "output_type": "display_data"
    }
   ],
   "source": [
    "ted.duration.plot(kind = 'hist', bins=1000) \n",
    "plt.xlabel('Duration (s)')"
   ]
  },
  {
   "cell_type": "markdown",
   "metadata": {},
   "source": [
    "#### 2.2.6\n",
    "Now plot as a box plot. Explain what the box plot is showing: what is the box, what is the line in the middle, what are the dots?"
   ]
  },
  {
   "cell_type": "code",
   "execution_count": 88,
   "metadata": {},
   "outputs": [
    {
     "data": {
      "text/plain": [
       "<matplotlib.axes._subplots.AxesSubplot at 0x122035b38>"
      ]
     },
     "execution_count": 88,
     "metadata": {},
     "output_type": "execute_result"
    },
    {
     "data": {
      "image/png": "[encoded data removed]",
      "text/plain": [
       "<Figure size 432x288 with 1 Axes>"
      ]
     },
     "metadata": {
      "needs_background": "light"
     },
     "output_type": "display_data"
    }
   ],
   "source": [
    "ted.duration.plot(kind = 'box') \n",
    "#the box is the majority duration of videos. the circles are the outliers. error bars are showing where some also lie."
   ]
  },
  {
   "cell_type": "markdown",
   "metadata": {},
   "source": [
    "#### 2.2.7\n",
    "Find the median, mean, mode and standard deviation of the durations. Are these consistent with your plots above? Explain."
   ]
  },
  {
   "cell_type": "code",
   "execution_count": 90,
   "metadata": {},
   "outputs": [
    {
     "data": {
      "text/plain": [
       "826.5101960784314"
      ]
     },
     "execution_count": 90,
     "metadata": {},
     "output_type": "execute_result"
    }
   ],
   "source": [
    "ted.duration.mean()\n",
    "#this is within the box"
   ]
  },
  {
   "cell_type": "code",
   "execution_count": 91,
   "metadata": {},
   "outputs": [
    {
     "data": {
      "text/plain": [
       "848.0"
      ]
     },
     "execution_count": 91,
     "metadata": {},
     "output_type": "execute_result"
    }
   ],
   "source": [
    "ted.duration.median()\n",
    "#I think this is the green line"
   ]
  },
  {
   "cell_type": "code",
   "execution_count": 92,
   "metadata": {},
   "outputs": [
    {
     "data": {
      "text/plain": [
       "0     848\n",
       "1    1099\n",
       "dtype: int64"
      ]
     },
     "execution_count": 92,
     "metadata": {},
     "output_type": "execute_result"
    }
   ],
   "source": [
    "ted.duration.mode()\n",
    "#1 looks like the top of the box"
   ]
  },
  {
   "cell_type": "code",
   "execution_count": 94,
   "metadata": {},
   "outputs": [
    {
     "data": {
      "text/plain": [
       "374.0091380189218"
      ]
     },
     "execution_count": 94,
     "metadata": {},
     "output_type": "execute_result"
    }
   ],
   "source": [
    "ted.duration.std()\n",
    "#would appear to be the extend of the error bars?"
   ]
  },
  {
   "cell_type": "markdown",
   "metadata": {},
   "source": [
    "#### 2.2.8\n",
    "Is this a normal distribution? Explain. How does this affect your analysis above?"
   ]
  },
  {
   "cell_type": "markdown",
   "metadata": {},
   "source": [
    "It seems normal to me? the majority of the videos are shorter and in that boxed area, but the outliers exist. I think the analysis is fairly accurate."
   ]
  },
  {
   "cell_type": "markdown",
   "metadata": {},
   "source": [
    "#### 2.3.1-4\n",
    "\n",
    "Going back to the tutorial, make sure you have created the film_datetime variable\n",
    "\n",
    "In the command:\n",
    "\n",
    "ted.film_datetime.dt.year.value_counts().sort_index()\n",
    "\n",
    "What do the dt, year, value_counts and sort_index commands do? Explain each one and demonstrate"
   ]
  },
  {
   "cell_type": "code",
   "execution_count": 95,
   "metadata": {},
   "outputs": [],
   "source": [
    "ted['film_datetime'] = pd.to_datetime(ted.film_date, unit='s')"
   ]
  },
  {
   "cell_type": "code",
   "execution_count": 96,
   "metadata": {},
   "outputs": [
    {
     "data": {
      "text/plain": [
       "1972      1\n",
       "1983      1\n",
       "1984      1\n",
       "1990      1\n",
       "1991      1\n",
       "1994      1\n",
       "1998      6\n",
       "2001      5\n",
       "2002     27\n",
       "2003     33\n",
       "2004     33\n",
       "2005     66\n",
       "2006     50\n",
       "2007    114\n",
       "2008     84\n",
       "2009    232\n",
       "2010    267\n",
       "2011    270\n",
       "2012    267\n",
       "2013    270\n",
       "2014    237\n",
       "2015    239\n",
       "2016    246\n",
       "2017     98\n",
       "Name: film_datetime, dtype: int64"
      ]
     },
     "execution_count": 96,
     "metadata": {},
     "output_type": "execute_result"
    }
   ],
   "source": [
    "ted.film_datetime.dt.year.value_counts().sort_index()\n"
   ]
  },
  {
   "cell_type": "code",
   "execution_count": 97,
   "metadata": {},
   "outputs": [
    {
     "data": {
      "text/plain": [
       "<pandas.core.indexes.accessors.DatetimeProperties object at 0x12211ec88>"
      ]
     },
     "execution_count": 97,
     "metadata": {},
     "output_type": "execute_result"
    }
   ],
   "source": [
    "ted.film_datetime.dt\n",
    "#dt accesses the pandas datetime package"
   ]
  },
  {
   "cell_type": "code",
   "execution_count": 98,
   "metadata": {},
   "outputs": [
    {
     "data": {
      "text/plain": [
       "0       2006\n",
       "1       2006\n",
       "2       2006\n",
       "3       2006\n",
       "4       2006\n",
       "5       2006\n",
       "6       2006\n",
       "7       2006\n",
       "8       2006\n",
       "9       2006\n",
       "10      2006\n",
       "11      2006\n",
       "12      2006\n",
       "13      2006\n",
       "14      2006\n",
       "15      2006\n",
       "16      2004\n",
       "17      2006\n",
       "18      2005\n",
       "19      2005\n",
       "20      2006\n",
       "21      2004\n",
       "22      2006\n",
       "23      2006\n",
       "24      2004\n",
       "25      2005\n",
       "26      2005\n",
       "27      2004\n",
       "28      2004\n",
       "29      2004\n",
       "        ... \n",
       "2520    2017\n",
       "2521    2016\n",
       "2522    2017\n",
       "2523    2016\n",
       "2524    2017\n",
       "2525    2016\n",
       "2526    2017\n",
       "2527    2017\n",
       "2528    2016\n",
       "2529    2015\n",
       "2530    2017\n",
       "2531    2016\n",
       "2532    2017\n",
       "2533    2017\n",
       "2534    2017\n",
       "2535    2017\n",
       "2536    2017\n",
       "2537    2017\n",
       "2538    2016\n",
       "2539    2017\n",
       "2540    2017\n",
       "2541    2017\n",
       "2542    2017\n",
       "2543    2017\n",
       "2544    2017\n",
       "2545    2017\n",
       "2546    2017\n",
       "2547    2017\n",
       "2548    2017\n",
       "2549    2017\n",
       "Name: film_datetime, Length: 2550, dtype: int64"
      ]
     },
     "execution_count": 98,
     "metadata": {},
     "output_type": "execute_result"
    }
   ],
   "source": [
    "ted.film_datetime.dt.year\n",
    "#year gives us the years (as apposed to days or months)"
   ]
  },
  {
   "cell_type": "code",
   "execution_count": 100,
   "metadata": {},
   "outputs": [
    {
     "data": {
      "text/plain": [
       "2013    270\n",
       "2011    270\n",
       "2010    267\n",
       "2012    267\n",
       "2016    246\n",
       "2015    239\n",
       "2014    237\n",
       "2009    232\n",
       "2007    114\n",
       "2017     98\n",
       "2008     84\n",
       "2005     66\n",
       "2006     50\n",
       "2003     33\n",
       "2004     33\n",
       "2002     27\n",
       "1998      6\n",
       "2001      5\n",
       "1983      1\n",
       "1991      1\n",
       "1994      1\n",
       "1990      1\n",
       "1984      1\n",
       "1972      1\n",
       "Name: film_datetime, dtype: int64"
      ]
     },
     "execution_count": 100,
     "metadata": {},
     "output_type": "execute_result"
    }
   ],
   "source": [
    "ted.film_datetime.dt.year.value_counts()\n",
    "#this gives us how many films are within that year"
   ]
  },
  {
   "cell_type": "code",
   "execution_count": 101,
   "metadata": {},
   "outputs": [
    {
     "data": {
      "text/plain": [
       "1972      1\n",
       "1983      1\n",
       "1984      1\n",
       "1990      1\n",
       "1991      1\n",
       "1994      1\n",
       "1998      6\n",
       "2001      5\n",
       "2002     27\n",
       "2003     33\n",
       "2004     33\n",
       "2005     66\n",
       "2006     50\n",
       "2007    114\n",
       "2008     84\n",
       "2009    232\n",
       "2010    267\n",
       "2011    270\n",
       "2012    267\n",
       "2013    270\n",
       "2014    237\n",
       "2015    239\n",
       "2016    246\n",
       "2017     98\n",
       "Name: film_datetime, dtype: int64"
      ]
     },
     "execution_count": 101,
     "metadata": {},
     "output_type": "execute_result"
    }
   ],
   "source": [
    "ted.film_datetime.dt.year.value_counts().sort_index()\n",
    "#this sorts by the index? It's not by year or the amount of films in that year"
   ]
  },
  {
   "cell_type": "markdown",
   "metadata": {},
   "source": [
    "#### 2.3.5\n",
    "Why does the data need to be manipulated this way to plot it?\n",
    "What was the research question?"
   ]
  },
  {
   "cell_type": "markdown",
   "metadata": {},
   "source": [
    "The data would need to be manipulated this way to check that the plot is categorizing the data correctly and not being affected too much by outliers.\n",
    "\n",
    "The research questions would've been something along the lines of, \"what is the more common duration of TedTalks?\"\n",
    "\n",
    "I got confused as to which plot you're referring. The more recent bit would've been "
   ]
  },
  {
   "cell_type": "markdown",
   "metadata": {},
   "source": [
    "#### 2.3.6\n",
    "(Re)Make the plot and label your axes."
   ]
  },
  {
   "cell_type": "code",
   "execution_count": 160,
   "metadata": {},
   "outputs": [
    {
     "data": {
      "text/plain": [
       "Text(0, 0.5, 'Duration (s)')"
      ]
     },
     "execution_count": 160,
     "metadata": {},
     "output_type": "execute_result"
    },
    {
     "data": {
      "image/png": "[encoded data removed]",
      "text/plain": [
       "<Figure size 432x288 with 1 Axes>"
      ]
     },
     "metadata": {
      "needs_background": "light"
     },
     "output_type": "display_data"
    }
   ],
   "source": [
    "ted.duration.plot(kind = 'box') \n",
    "plt.xlabel('Occurance')\n",
    "plt.ylabel('Duration (s)')"
   ]
  },
  {
   "cell_type": "code",
   "execution_count": 165,
   "metadata": {},
   "outputs": [
    {
     "data": {
      "text/plain": [
       "Text(0, 0.5, 'Number of TedTalks?')"
      ]
     },
     "execution_count": 165,
     "metadata": {},
     "output_type": "execute_result"
    },
    {
     "data": {
      "image/png": "[encoded data removed]",
      "text/plain": [
       "<Figure size 432x288 with 1 Axes>"
      ]
     },
     "metadata": {
      "needs_background": "light"
     },
     "output_type": "display_data"
    }
   ],
   "source": [
    "ted.film_datetime.dt.year.value_counts().sort_index().plot()\n",
    "plt.xlabel('Years')\n",
    "plt.ylabel(\"Number of TedTalks?\")"
   ]
  },
  {
   "cell_type": "markdown",
   "metadata": {},
   "source": [
    "#### Bonus\n",
    "Could you make a similar plot, say a histogram, and get the same information?"
   ]
  },
  {
   "cell_type": "code",
   "execution_count": 171,
   "metadata": {},
   "outputs": [
    {
     "data": {
      "text/plain": [
       "<matplotlib.axes._subplots.AxesSubplot at 0x11e643978>"
      ]
     },
     "execution_count": 171,
     "metadata": {},
     "output_type": "execute_result"
    },
    {
     "data": {
      "image/png": "[encoded data removed]",
      "text/plain": [
       "<Figure size 432x288 with 1 Axes>"
      ]
     },
     "metadata": {
      "needs_background": "light"
     },
     "output_type": "display_data"
    }
   ],
   "source": [
    "ted.film_datetime.dt.year.value_counts().sort_index().plot(kind = 'hist')\n",
    "#doesn't look right.  I can't quite figure out what's being plotted"
   ]
  },
  {
   "cell_type": "markdown",
   "metadata": {},
   "source": [
    "#### 2.3.2\n",
    "Research another way to use the pandas datatime data to analyse the Ted Talks. Explain your methods"
   ]
  },
  {
   "cell_type": "code",
   "execution_count": 103,
   "metadata": {},
   "outputs": [
    {
     "data": {
      "text/html": [
       "<div>\n",
       "<style scoped>\n",
       "    .dataframe tbody tr th:only-of-type {\n",
       "        vertical-align: middle;\n",
       "    }\n",
       "\n",
       "    .dataframe tbody tr th {\n",
       "        vertical-align: top;\n",
       "    }\n",
       "\n",
       "    .dataframe thead th {\n",
       "        text-align: right;\n",
       "    }\n",
       "</style>\n",
       "<table border=\"1\" class=\"dataframe\">\n",
       "  <thead>\n",
       "    <tr style=\"text-align: right;\">\n",
       "      <th></th>\n",
       "      <th>comments</th>\n",
       "      <th>description</th>\n",
       "      <th>duration</th>\n",
       "      <th>event</th>\n",
       "      <th>film_date</th>\n",
       "      <th>languages</th>\n",
       "      <th>main_speaker</th>\n",
       "      <th>name</th>\n",
       "      <th>num_speaker</th>\n",
       "      <th>published_date</th>\n",
       "      <th>ratings</th>\n",
       "      <th>related_talks</th>\n",
       "      <th>speaker_occupation</th>\n",
       "      <th>tags</th>\n",
       "      <th>title</th>\n",
       "      <th>url</th>\n",
       "      <th>views</th>\n",
       "      <th>film_datetime</th>\n",
       "    </tr>\n",
       "  </thead>\n",
       "  <tbody>\n",
       "    <tr>\n",
       "      <th>0</th>\n",
       "      <td>4553</td>\n",
       "      <td>Sir Ken Robinson makes an entertaining and pro...</td>\n",
       "      <td>1164</td>\n",
       "      <td>TED2006</td>\n",
       "      <td>1140825600</td>\n",
       "      <td>60</td>\n",
       "      <td>Ken Robinson</td>\n",
       "      <td>Ken Robinson: Do schools kill creativity?</td>\n",
       "      <td>1</td>\n",
       "      <td>1151367060</td>\n",
       "      <td>[{'id': 7, 'name': 'Funny', 'count': 19645}, {...</td>\n",
       "      <td>[{'id': 865, 'hero': 'https://pe.tedcdn.com/im...</td>\n",
       "      <td>Author/educator</td>\n",
       "      <td>['children', 'creativity', 'culture', 'dance',...</td>\n",
       "      <td>Do schools kill creativity?</td>\n",
       "      <td>https://www.ted.com/talks/ken_robinson_says_sc...</td>\n",
       "      <td>47227110</td>\n",
       "      <td>2006-02-25</td>\n",
       "    </tr>\n",
       "    <tr>\n",
       "      <th>1</th>\n",
       "      <td>265</td>\n",
       "      <td>With the same humor and humanity he exuded in ...</td>\n",
       "      <td>977</td>\n",
       "      <td>TED2006</td>\n",
       "      <td>1140825600</td>\n",
       "      <td>43</td>\n",
       "      <td>Al Gore</td>\n",
       "      <td>Al Gore: Averting the climate crisis</td>\n",
       "      <td>1</td>\n",
       "      <td>1151367060</td>\n",
       "      <td>[{'id': 7, 'name': 'Funny', 'count': 544}, {'i...</td>\n",
       "      <td>[{'id': 243, 'hero': 'https://pe.tedcdn.com/im...</td>\n",
       "      <td>Climate advocate</td>\n",
       "      <td>['alternative energy', 'cars', 'climate change...</td>\n",
       "      <td>Averting the climate crisis</td>\n",
       "      <td>https://www.ted.com/talks/al_gore_on_averting_...</td>\n",
       "      <td>3200520</td>\n",
       "      <td>2006-02-25</td>\n",
       "    </tr>\n",
       "    <tr>\n",
       "      <th>2</th>\n",
       "      <td>124</td>\n",
       "      <td>New York Times columnist David Pogue takes aim...</td>\n",
       "      <td>1286</td>\n",
       "      <td>TED2006</td>\n",
       "      <td>1140739200</td>\n",
       "      <td>26</td>\n",
       "      <td>David Pogue</td>\n",
       "      <td>David Pogue: Simplicity sells</td>\n",
       "      <td>1</td>\n",
       "      <td>1151367060</td>\n",
       "      <td>[{'id': 7, 'name': 'Funny', 'count': 964}, {'i...</td>\n",
       "      <td>[{'id': 1725, 'hero': 'https://pe.tedcdn.com/i...</td>\n",
       "      <td>Technology columnist</td>\n",
       "      <td>['computers', 'entertainment', 'interface desi...</td>\n",
       "      <td>Simplicity sells</td>\n",
       "      <td>https://www.ted.com/talks/david_pogue_says_sim...</td>\n",
       "      <td>1636292</td>\n",
       "      <td>2006-02-24</td>\n",
       "    </tr>\n",
       "    <tr>\n",
       "      <th>3</th>\n",
       "      <td>200</td>\n",
       "      <td>In an emotionally charged talk, MacArthur-winn...</td>\n",
       "      <td>1116</td>\n",
       "      <td>TED2006</td>\n",
       "      <td>1140912000</td>\n",
       "      <td>35</td>\n",
       "      <td>Majora Carter</td>\n",
       "      <td>Majora Carter: Greening the ghetto</td>\n",
       "      <td>1</td>\n",
       "      <td>1151367060</td>\n",
       "      <td>[{'id': 3, 'name': 'Courageous', 'count': 760}...</td>\n",
       "      <td>[{'id': 1041, 'hero': 'https://pe.tedcdn.com/i...</td>\n",
       "      <td>Activist for environmental justice</td>\n",
       "      <td>['MacArthur grant', 'activism', 'business', 'c...</td>\n",
       "      <td>Greening the ghetto</td>\n",
       "      <td>https://www.ted.com/talks/majora_carter_s_tale...</td>\n",
       "      <td>1697550</td>\n",
       "      <td>2006-02-26</td>\n",
       "    </tr>\n",
       "    <tr>\n",
       "      <th>4</th>\n",
       "      <td>593</td>\n",
       "      <td>You've never seen data presented like this. Wi...</td>\n",
       "      <td>1190</td>\n",
       "      <td>TED2006</td>\n",
       "      <td>1140566400</td>\n",
       "      <td>48</td>\n",
       "      <td>Hans Rosling</td>\n",
       "      <td>Hans Rosling: The best stats you've ever seen</td>\n",
       "      <td>1</td>\n",
       "      <td>1151440680</td>\n",
       "      <td>[{'id': 9, 'name': 'Ingenious', 'count': 3202}...</td>\n",
       "      <td>[{'id': 2056, 'hero': 'https://pe.tedcdn.com/i...</td>\n",
       "      <td>Global health expert; data visionary</td>\n",
       "      <td>['Africa', 'Asia', 'Google', 'demo', 'economic...</td>\n",
       "      <td>The best stats you've ever seen</td>\n",
       "      <td>https://www.ted.com/talks/hans_rosling_shows_t...</td>\n",
       "      <td>12005869</td>\n",
       "      <td>2006-02-22</td>\n",
       "    </tr>\n",
       "  </tbody>\n",
       "</table>\n",
       "</div>"
      ],
      "text/plain": [
       "   comments                                        description  duration  \\\n",
       "0      4553  Sir Ken Robinson makes an entertaining and pro...      1164   \n",
       "1       265  With the same humor and humanity he exuded in ...       977   \n",
       "2       124  New York Times columnist David Pogue takes aim...      1286   \n",
       "3       200  In an emotionally charged talk, MacArthur-winn...      1116   \n",
       "4       593  You've never seen data presented like this. Wi...      1190   \n",
       "\n",
       "     event   film_date  languages   main_speaker  \\\n",
       "0  TED2006  1140825600         60   Ken Robinson   \n",
       "1  TED2006  1140825600         43        Al Gore   \n",
       "2  TED2006  1140739200         26    David Pogue   \n",
       "3  TED2006  1140912000         35  Majora Carter   \n",
       "4  TED2006  1140566400         48   Hans Rosling   \n",
       "\n",
       "                                            name  num_speaker  published_date  \\\n",
       "0      Ken Robinson: Do schools kill creativity?            1      1151367060   \n",
       "1           Al Gore: Averting the climate crisis            1      1151367060   \n",
       "2                  David Pogue: Simplicity sells            1      1151367060   \n",
       "3             Majora Carter: Greening the ghetto            1      1151367060   \n",
       "4  Hans Rosling: The best stats you've ever seen            1      1151440680   \n",
       "\n",
       "                                             ratings  \\\n",
       "0  [{'id': 7, 'name': 'Funny', 'count': 19645}, {...   \n",
       "1  [{'id': 7, 'name': 'Funny', 'count': 544}, {'i...   \n",
       "2  [{'id': 7, 'name': 'Funny', 'count': 964}, {'i...   \n",
       "3  [{'id': 3, 'name': 'Courageous', 'count': 760}...   \n",
       "4  [{'id': 9, 'name': 'Ingenious', 'count': 3202}...   \n",
       "\n",
       "                                       related_talks  \\\n",
       "0  [{'id': 865, 'hero': 'https://pe.tedcdn.com/im...   \n",
       "1  [{'id': 243, 'hero': 'https://pe.tedcdn.com/im...   \n",
       "2  [{'id': 1725, 'hero': 'https://pe.tedcdn.com/i...   \n",
       "3  [{'id': 1041, 'hero': 'https://pe.tedcdn.com/i...   \n",
       "4  [{'id': 2056, 'hero': 'https://pe.tedcdn.com/i...   \n",
       "\n",
       "                     speaker_occupation  \\\n",
       "0                       Author/educator   \n",
       "1                      Climate advocate   \n",
       "2                  Technology columnist   \n",
       "3    Activist for environmental justice   \n",
       "4  Global health expert; data visionary   \n",
       "\n",
       "                                                tags  \\\n",
       "0  ['children', 'creativity', 'culture', 'dance',...   \n",
       "1  ['alternative energy', 'cars', 'climate change...   \n",
       "2  ['computers', 'entertainment', 'interface desi...   \n",
       "3  ['MacArthur grant', 'activism', 'business', 'c...   \n",
       "4  ['Africa', 'Asia', 'Google', 'demo', 'economic...   \n",
       "\n",
       "                             title  \\\n",
       "0      Do schools kill creativity?   \n",
       "1      Averting the climate crisis   \n",
       "2                 Simplicity sells   \n",
       "3              Greening the ghetto   \n",
       "4  The best stats you've ever seen   \n",
       "\n",
       "                                                 url     views film_datetime  \n",
       "0  https://www.ted.com/talks/ken_robinson_says_sc...  47227110    2006-02-25  \n",
       "1  https://www.ted.com/talks/al_gore_on_averting_...   3200520    2006-02-25  \n",
       "2  https://www.ted.com/talks/david_pogue_says_sim...   1636292    2006-02-24  \n",
       "3  https://www.ted.com/talks/majora_carter_s_tale...   1697550    2006-02-26  \n",
       "4  https://www.ted.com/talks/hans_rosling_shows_t...  12005869    2006-02-22  "
      ]
     },
     "execution_count": 103,
     "metadata": {},
     "output_type": "execute_result"
    }
   ],
   "source": [
    "ted.head()\n",
    "#I would try to see what occupations were popular for tedtalks during certain years, what topics were popular during what years using the tags."
   ]
  },
  {
   "cell_type": "code",
   "execution_count": null,
   "metadata": {},
   "outputs": [],
   "source": []
  },
  {
   "cell_type": "markdown",
   "metadata": {},
   "source": [
    "#### 2.3.3\n",
    "Get creative! Now it is time for you to do some analysis on your own using the TED Talks dataset. Find a few ineresting ways to analyse this data set, which you will present to the class on Thursday.\n",
    "\n",
    "Note: I don't think people got here. I got here and couldn't get anything new to work. "
   ]
  },
  {
   "cell_type": "code",
   "execution_count": 118,
   "metadata": {},
   "outputs": [
    {
     "data": {
      "text/html": [
       "<div>\n",
       "<style scoped>\n",
       "    .dataframe tbody tr th:only-of-type {\n",
       "        vertical-align: middle;\n",
       "    }\n",
       "\n",
       "    .dataframe tbody tr th {\n",
       "        vertical-align: top;\n",
       "    }\n",
       "\n",
       "    .dataframe thead th {\n",
       "        text-align: right;\n",
       "    }\n",
       "</style>\n",
       "<table border=\"1\" class=\"dataframe\">\n",
       "  <thead>\n",
       "    <tr style=\"text-align: right;\">\n",
       "      <th></th>\n",
       "      <th>tags</th>\n",
       "      <th>film_datetime</th>\n",
       "    </tr>\n",
       "  </thead>\n",
       "  <tbody>\n",
       "    <tr>\n",
       "      <th>0</th>\n",
       "      <td>['children', 'creativity', 'culture', 'dance',...</td>\n",
       "      <td>2006-02-25</td>\n",
       "    </tr>\n",
       "    <tr>\n",
       "      <th>1</th>\n",
       "      <td>['alternative energy', 'cars', 'climate change...</td>\n",
       "      <td>2006-02-25</td>\n",
       "    </tr>\n",
       "    <tr>\n",
       "      <th>2</th>\n",
       "      <td>['computers', 'entertainment', 'interface desi...</td>\n",
       "      <td>2006-02-24</td>\n",
       "    </tr>\n",
       "    <tr>\n",
       "      <th>3</th>\n",
       "      <td>['MacArthur grant', 'activism', 'business', 'c...</td>\n",
       "      <td>2006-02-26</td>\n",
       "    </tr>\n",
       "    <tr>\n",
       "      <th>4</th>\n",
       "      <td>['Africa', 'Asia', 'Google', 'demo', 'economic...</td>\n",
       "      <td>2006-02-22</td>\n",
       "    </tr>\n",
       "    <tr>\n",
       "      <th>5</th>\n",
       "      <td>['business', 'culture', 'entertainment', 'goal...</td>\n",
       "      <td>2006-02-02</td>\n",
       "    </tr>\n",
       "    <tr>\n",
       "      <th>6</th>\n",
       "      <td>['Christianity', 'God', 'atheism', 'comedy', '...</td>\n",
       "      <td>2006-02-24</td>\n",
       "    </tr>\n",
       "    <tr>\n",
       "      <th>7</th>\n",
       "      <td>['architecture', 'collaboration', 'culture', '...</td>\n",
       "      <td>2006-02-23</td>\n",
       "    </tr>\n",
       "    <tr>\n",
       "      <th>8</th>\n",
       "      <td>['God', 'TED Brain Trust', 'atheism', 'brain',...</td>\n",
       "      <td>2006-02-02</td>\n",
       "    </tr>\n",
       "    <tr>\n",
       "      <th>9</th>\n",
       "      <td>['Christianity', 'God', 'culture', 'happiness'...</td>\n",
       "      <td>2006-02-25</td>\n",
       "    </tr>\n",
       "    <tr>\n",
       "      <th>10</th>\n",
       "      <td>['activism', 'architecture', 'collaboration', ...</td>\n",
       "      <td>2006-02-26</td>\n",
       "    </tr>\n",
       "    <tr>\n",
       "      <th>11</th>\n",
       "      <td>['TED Prize', 'art', 'culture', 'entertainment...</td>\n",
       "      <td>2006-02-26</td>\n",
       "    </tr>\n",
       "    <tr>\n",
       "      <th>12</th>\n",
       "      <td>['TED Prize', 'collaboration', 'disease', 'ebo...</td>\n",
       "      <td>2006-02-23</td>\n",
       "    </tr>\n",
       "    <tr>\n",
       "      <th>13</th>\n",
       "      <td>['demo', 'design', 'interface design', 'techno...</td>\n",
       "      <td>2006-02-06</td>\n",
       "    </tr>\n",
       "    <tr>\n",
       "      <th>14</th>\n",
       "      <td>['children', 'design', 'education', 'entrepren...</td>\n",
       "      <td>2006-02-23</td>\n",
       "    </tr>\n",
       "    <tr>\n",
       "      <th>15</th>\n",
       "      <td>['entertainment', 'music', 'performance', 'vio...</td>\n",
       "      <td>2006-02-23</td>\n",
       "    </tr>\n",
       "    <tr>\n",
       "      <th>16</th>\n",
       "      <td>['creativity', 'entertainment', 'music', 'perf...</td>\n",
       "      <td>2004-02-26</td>\n",
       "    </tr>\n",
       "    <tr>\n",
       "      <th>17</th>\n",
       "      <td>['MacArthur grant', 'alternative energy', 'des...</td>\n",
       "      <td>2006-02-24</td>\n",
       "    </tr>\n",
       "    <tr>\n",
       "      <th>18</th>\n",
       "      <td>['DNA', 'biology', 'creativity', 'design', 'in...</td>\n",
       "      <td>2005-02-25</td>\n",
       "    </tr>\n",
       "    <tr>\n",
       "      <th>19</th>\n",
       "      <td>['business', 'collaboration', 'culture', 'inve...</td>\n",
       "      <td>2005-07-14</td>\n",
       "    </tr>\n",
       "    <tr>\n",
       "      <th>20</th>\n",
       "      <td>['business', 'collaboration', 'culture', 'glob...</td>\n",
       "      <td>2006-02-23</td>\n",
       "    </tr>\n",
       "    <tr>\n",
       "      <th>21</th>\n",
       "      <td>['collaboration', 'comedy', 'community', 'cult...</td>\n",
       "      <td>2004-02-24</td>\n",
       "    </tr>\n",
       "    <tr>\n",
       "      <th>22</th>\n",
       "      <td>['business', 'communication', 'community', 'cu...</td>\n",
       "      <td>2006-02-23</td>\n",
       "    </tr>\n",
       "    <tr>\n",
       "      <th>23</th>\n",
       "      <td>['cognitive science', 'culture', 'evolution', ...</td>\n",
       "      <td>2006-02-24</td>\n",
       "    </tr>\n",
       "    <tr>\n",
       "      <th>24</th>\n",
       "      <td>['culture', 'entertainment', 'gender', 'global...</td>\n",
       "      <td>2004-02-04</td>\n",
       "    </tr>\n",
       "    <tr>\n",
       "      <th>25</th>\n",
       "      <td>['climate change', 'cosmos', 'culture', 'envir...</td>\n",
       "      <td>2005-07-14</td>\n",
       "    </tr>\n",
       "    <tr>\n",
       "      <th>26</th>\n",
       "      <td>['astronomy', 'biology', 'cognitive science', ...</td>\n",
       "      <td>2005-07-07</td>\n",
       "    </tr>\n",
       "    <tr>\n",
       "      <th>27</th>\n",
       "      <td>['business', 'cities', 'culture', 'economics',...</td>\n",
       "      <td>2004-02-27</td>\n",
       "    </tr>\n",
       "    <tr>\n",
       "      <th>28</th>\n",
       "      <td>['business', 'choice', 'consumerism', 'culture...</td>\n",
       "      <td>2004-02-26</td>\n",
       "    </tr>\n",
       "    <tr>\n",
       "      <th>29</th>\n",
       "      <td>['TED Brain Trust', 'brain', 'choice', 'cultur...</td>\n",
       "      <td>2004-02-02</td>\n",
       "    </tr>\n",
       "    <tr>\n",
       "      <th>...</th>\n",
       "      <td>...</td>\n",
       "      <td>...</td>\n",
       "    </tr>\n",
       "    <tr>\n",
       "      <th>2520</th>\n",
       "      <td>['AI', 'computers', 'economics', 'future', 'hu...</td>\n",
       "      <td>2017-04-24</td>\n",
       "    </tr>\n",
       "    <tr>\n",
       "      <th>2521</th>\n",
       "      <td>['biology', 'biomechanics', 'cancer', 'chemist...</td>\n",
       "      <td>2016-04-24</td>\n",
       "    </tr>\n",
       "    <tr>\n",
       "      <th>2522</th>\n",
       "      <td>['Africa', 'art', 'beauty', 'creativity', 'per...</td>\n",
       "      <td>2017-04-24</td>\n",
       "    </tr>\n",
       "    <tr>\n",
       "      <th>2523</th>\n",
       "      <td>['TEDx', 'business', 'capitalism', 'community'...</td>\n",
       "      <td>2016-10-08</td>\n",
       "    </tr>\n",
       "    <tr>\n",
       "      <th>2524</th>\n",
       "      <td>['Africa', 'TED Fellows', 'art', 'creativity',...</td>\n",
       "      <td>2017-04-24</td>\n",
       "    </tr>\n",
       "    <tr>\n",
       "      <th>2525</th>\n",
       "      <td>['TEDx', 'activism', 'children', 'family', 'po...</td>\n",
       "      <td>2016-05-24</td>\n",
       "    </tr>\n",
       "    <tr>\n",
       "      <th>2526</th>\n",
       "      <td>['AI', 'education', 'intelligence', 'robots', ...</td>\n",
       "      <td>2017-04-24</td>\n",
       "    </tr>\n",
       "    <tr>\n",
       "      <th>2527</th>\n",
       "      <td>['TEDx', 'United States', 'activism', 'democra...</td>\n",
       "      <td>2017-04-23</td>\n",
       "    </tr>\n",
       "    <tr>\n",
       "      <th>2528</th>\n",
       "      <td>['TEDx', 'ancient world', 'archaeology', 'cons...</td>\n",
       "      <td>2016-06-08</td>\n",
       "    </tr>\n",
       "    <tr>\n",
       "      <th>2529</th>\n",
       "      <td>['TEDx', 'community', 'humanity', 'identity', ...</td>\n",
       "      <td>2015-04-24</td>\n",
       "    </tr>\n",
       "    <tr>\n",
       "      <th>2530</th>\n",
       "      <td>['architecture', 'art', 'cities', 'creativity'...</td>\n",
       "      <td>2017-04-24</td>\n",
       "    </tr>\n",
       "    <tr>\n",
       "      <th>2531</th>\n",
       "      <td>['TEDx', 'security', 'social media', 'terroris...</td>\n",
       "      <td>2016-06-18</td>\n",
       "    </tr>\n",
       "    <tr>\n",
       "      <th>2532</th>\n",
       "      <td>['algorithm', 'business', 'collaboration', 'co...</td>\n",
       "      <td>2017-04-24</td>\n",
       "    </tr>\n",
       "    <tr>\n",
       "      <th>2533</th>\n",
       "      <td>['TED en Español', 'art', 'creativity', 'desig...</td>\n",
       "      <td>2017-04-24</td>\n",
       "    </tr>\n",
       "    <tr>\n",
       "      <th>2534</th>\n",
       "      <td>['TEDx', 'art', 'climate change', 'environment...</td>\n",
       "      <td>2017-04-07</td>\n",
       "    </tr>\n",
       "    <tr>\n",
       "      <th>2535</th>\n",
       "      <td>['Africa', 'activism', 'cities', 'government',...</td>\n",
       "      <td>2017-08-27</td>\n",
       "    </tr>\n",
       "    <tr>\n",
       "      <th>2536</th>\n",
       "      <td>['TEDx', 'communication', 'friendship', 'polit...</td>\n",
       "      <td>2017-07-08</td>\n",
       "    </tr>\n",
       "    <tr>\n",
       "      <th>2537</th>\n",
       "      <td>['happiness', 'humanity', 'personal growth', '...</td>\n",
       "      <td>2017-04-24</td>\n",
       "    </tr>\n",
       "    <tr>\n",
       "      <th>2538</th>\n",
       "      <td>['TEDx', 'business', 'corruption', 'economics'...</td>\n",
       "      <td>2016-11-11</td>\n",
       "    </tr>\n",
       "    <tr>\n",
       "      <th>2539</th>\n",
       "      <td>['Africa', 'agriculture', 'farming', 'food', '...</td>\n",
       "      <td>2017-08-27</td>\n",
       "    </tr>\n",
       "    <tr>\n",
       "      <th>2540</th>\n",
       "      <td>['business', 'capitalism', 'collaboration', 'e...</td>\n",
       "      <td>2017-07-20</td>\n",
       "    </tr>\n",
       "    <tr>\n",
       "      <th>2541</th>\n",
       "      <td>['TEDx', 'physics', 'play', 'science']</td>\n",
       "      <td>2017-02-19</td>\n",
       "    </tr>\n",
       "    <tr>\n",
       "      <th>2542</th>\n",
       "      <td>['Africa', 'activism', 'art', 'community', 'hi...</td>\n",
       "      <td>2017-08-27</td>\n",
       "    </tr>\n",
       "    <tr>\n",
       "      <th>2543</th>\n",
       "      <td>['DNA', 'Human body', 'biology', 'data', 'entr...</td>\n",
       "      <td>2017-04-24</td>\n",
       "    </tr>\n",
       "    <tr>\n",
       "      <th>2544</th>\n",
       "      <td>['Africa', 'agriculture', 'history', 'leadersh...</td>\n",
       "      <td>2017-08-27</td>\n",
       "    </tr>\n",
       "    <tr>\n",
       "      <th>2545</th>\n",
       "      <td>['TED Residency', 'United States', 'community'...</td>\n",
       "      <td>2017-06-06</td>\n",
       "    </tr>\n",
       "    <tr>\n",
       "      <th>2546</th>\n",
       "      <td>['Mars', 'South America', 'TED Fellows', 'astr...</td>\n",
       "      <td>2017-04-24</td>\n",
       "    </tr>\n",
       "    <tr>\n",
       "      <th>2547</th>\n",
       "      <td>['AI', 'ants', 'fish', 'future', 'innovation',...</td>\n",
       "      <td>2017-04-24</td>\n",
       "    </tr>\n",
       "    <tr>\n",
       "      <th>2548</th>\n",
       "      <td>['Internet', 'TEDx', 'United States', 'communi...</td>\n",
       "      <td>2017-07-08</td>\n",
       "    </tr>\n",
       "    <tr>\n",
       "      <th>2549</th>\n",
       "      <td>['cities', 'design', 'future', 'infrastructure...</td>\n",
       "      <td>2017-04-24</td>\n",
       "    </tr>\n",
       "  </tbody>\n",
       "</table>\n",
       "<p>2550 rows × 2 columns</p>\n",
       "</div>"
      ],
      "text/plain": [
       "                                                   tags film_datetime\n",
       "0     ['children', 'creativity', 'culture', 'dance',...    2006-02-25\n",
       "1     ['alternative energy', 'cars', 'climate change...    2006-02-25\n",
       "2     ['computers', 'entertainment', 'interface desi...    2006-02-24\n",
       "3     ['MacArthur grant', 'activism', 'business', 'c...    2006-02-26\n",
       "4     ['Africa', 'Asia', 'Google', 'demo', 'economic...    2006-02-22\n",
       "5     ['business', 'culture', 'entertainment', 'goal...    2006-02-02\n",
       "6     ['Christianity', 'God', 'atheism', 'comedy', '...    2006-02-24\n",
       "7     ['architecture', 'collaboration', 'culture', '...    2006-02-23\n",
       "8     ['God', 'TED Brain Trust', 'atheism', 'brain',...    2006-02-02\n",
       "9     ['Christianity', 'God', 'culture', 'happiness'...    2006-02-25\n",
       "10    ['activism', 'architecture', 'collaboration', ...    2006-02-26\n",
       "11    ['TED Prize', 'art', 'culture', 'entertainment...    2006-02-26\n",
       "12    ['TED Prize', 'collaboration', 'disease', 'ebo...    2006-02-23\n",
       "13    ['demo', 'design', 'interface design', 'techno...    2006-02-06\n",
       "14    ['children', 'design', 'education', 'entrepren...    2006-02-23\n",
       "15    ['entertainment', 'music', 'performance', 'vio...    2006-02-23\n",
       "16    ['creativity', 'entertainment', 'music', 'perf...    2004-02-26\n",
       "17    ['MacArthur grant', 'alternative energy', 'des...    2006-02-24\n",
       "18    ['DNA', 'biology', 'creativity', 'design', 'in...    2005-02-25\n",
       "19    ['business', 'collaboration', 'culture', 'inve...    2005-07-14\n",
       "20    ['business', 'collaboration', 'culture', 'glob...    2006-02-23\n",
       "21    ['collaboration', 'comedy', 'community', 'cult...    2004-02-24\n",
       "22    ['business', 'communication', 'community', 'cu...    2006-02-23\n",
       "23    ['cognitive science', 'culture', 'evolution', ...    2006-02-24\n",
       "24    ['culture', 'entertainment', 'gender', 'global...    2004-02-04\n",
       "25    ['climate change', 'cosmos', 'culture', 'envir...    2005-07-14\n",
       "26    ['astronomy', 'biology', 'cognitive science', ...    2005-07-07\n",
       "27    ['business', 'cities', 'culture', 'economics',...    2004-02-27\n",
       "28    ['business', 'choice', 'consumerism', 'culture...    2004-02-26\n",
       "29    ['TED Brain Trust', 'brain', 'choice', 'cultur...    2004-02-02\n",
       "...                                                 ...           ...\n",
       "2520  ['AI', 'computers', 'economics', 'future', 'hu...    2017-04-24\n",
       "2521  ['biology', 'biomechanics', 'cancer', 'chemist...    2016-04-24\n",
       "2522  ['Africa', 'art', 'beauty', 'creativity', 'per...    2017-04-24\n",
       "2523  ['TEDx', 'business', 'capitalism', 'community'...    2016-10-08\n",
       "2524  ['Africa', 'TED Fellows', 'art', 'creativity',...    2017-04-24\n",
       "2525  ['TEDx', 'activism', 'children', 'family', 'po...    2016-05-24\n",
       "2526  ['AI', 'education', 'intelligence', 'robots', ...    2017-04-24\n",
       "2527  ['TEDx', 'United States', 'activism', 'democra...    2017-04-23\n",
       "2528  ['TEDx', 'ancient world', 'archaeology', 'cons...    2016-06-08\n",
       "2529  ['TEDx', 'community', 'humanity', 'identity', ...    2015-04-24\n",
       "2530  ['architecture', 'art', 'cities', 'creativity'...    2017-04-24\n",
       "2531  ['TEDx', 'security', 'social media', 'terroris...    2016-06-18\n",
       "2532  ['algorithm', 'business', 'collaboration', 'co...    2017-04-24\n",
       "2533  ['TED en Español', 'art', 'creativity', 'desig...    2017-04-24\n",
       "2534  ['TEDx', 'art', 'climate change', 'environment...    2017-04-07\n",
       "2535  ['Africa', 'activism', 'cities', 'government',...    2017-08-27\n",
       "2536  ['TEDx', 'communication', 'friendship', 'polit...    2017-07-08\n",
       "2537  ['happiness', 'humanity', 'personal growth', '...    2017-04-24\n",
       "2538  ['TEDx', 'business', 'corruption', 'economics'...    2016-11-11\n",
       "2539  ['Africa', 'agriculture', 'farming', 'food', '...    2017-08-27\n",
       "2540  ['business', 'capitalism', 'collaboration', 'e...    2017-07-20\n",
       "2541             ['TEDx', 'physics', 'play', 'science']    2017-02-19\n",
       "2542  ['Africa', 'activism', 'art', 'community', 'hi...    2017-08-27\n",
       "2543  ['DNA', 'Human body', 'biology', 'data', 'entr...    2017-04-24\n",
       "2544  ['Africa', 'agriculture', 'history', 'leadersh...    2017-08-27\n",
       "2545  ['TED Residency', 'United States', 'community'...    2017-06-06\n",
       "2546  ['Mars', 'South America', 'TED Fellows', 'astr...    2017-04-24\n",
       "2547  ['AI', 'ants', 'fish', 'future', 'innovation',...    2017-04-24\n",
       "2548  ['Internet', 'TEDx', 'United States', 'communi...    2017-07-08\n",
       "2549  ['cities', 'design', 'future', 'infrastructure...    2017-04-24\n",
       "\n",
       "[2550 rows x 2 columns]"
      ]
     },
     "execution_count": 118,
     "metadata": {},
     "output_type": "execute_result"
    }
   ],
   "source": [
    "ted[['tags','film_datetime']]"
   ]
  },
  {
   "cell_type": "code",
   "execution_count": 116,
   "metadata": {},
   "outputs": [
    {
     "data": {
      "text/plain": [
       "False    1946\n",
       "True      604\n",
       "Name: tags, dtype: int64"
      ]
     },
     "execution_count": 116,
     "metadata": {},
     "output_type": "execute_result"
    }
   ],
   "source": [
    "ted.tags.str.contains('science').value_counts()"
   ]
  },
  {
   "cell_type": "code",
   "execution_count": 121,
   "metadata": {},
   "outputs": [
    {
     "data": {
      "text/plain": [
       "False    2463\n",
       "True       87\n",
       "Name: tags, dtype: int64"
      ]
     },
     "execution_count": 121,
     "metadata": {},
     "output_type": "execute_result"
    }
   ],
   "source": [
    "ted.tags.str.contains('climate').value_counts()"
   ]
  },
  {
   "cell_type": "code",
   "execution_count": 122,
   "metadata": {},
   "outputs": [
    {
     "data": {
      "text/plain": [
       "False    2514\n",
       "True       36\n",
       "Name: tags, dtype: int64"
      ]
     },
     "execution_count": 122,
     "metadata": {},
     "output_type": "execute_result"
    }
   ],
   "source": [
    "ted.tags.str.contains('agriculture').value_counts()"
   ]
  },
  {
   "cell_type": "code",
   "execution_count": 123,
   "metadata": {},
   "outputs": [
    {
     "data": {
      "text/plain": [
       "False    2445\n",
       "True      105\n",
       "Name: tags, dtype: int64"
      ]
     },
     "execution_count": 123,
     "metadata": {},
     "output_type": "execute_result"
    }
   ],
   "source": [
    "ted.tags.str.contains('Africa').value_counts()"
   ]
  },
  {
   "cell_type": "code",
   "execution_count": 124,
   "metadata": {},
   "outputs": [
    {
     "data": {
      "text/plain": [
       "False    2522\n",
       "True       28\n",
       "Name: tags, dtype: int64"
      ]
     },
     "execution_count": 124,
     "metadata": {},
     "output_type": "execute_result"
    }
   ],
   "source": [
    "ted.tags.str.contains('fish').value_counts()"
   ]
  },
  {
   "cell_type": "code",
   "execution_count": 125,
   "metadata": {},
   "outputs": [
    {
     "data": {
      "text/plain": [
       "False    2385\n",
       "True      165\n",
       "Name: tags, dtype: int64"
      ]
     },
     "execution_count": 125,
     "metadata": {},
     "output_type": "execute_result"
    }
   ],
   "source": [
    "ted.tags.str.contains('environment').value_counts()"
   ]
  },
  {
   "cell_type": "code",
   "execution_count": 126,
   "metadata": {},
   "outputs": [
    {
     "data": {
      "text/plain": [
       "False    2376\n",
       "True      174\n",
       "Name: tags, dtype: int64"
      ]
     },
     "execution_count": 126,
     "metadata": {},
     "output_type": "execute_result"
    }
   ],
   "source": [
    "ted.tags.str.contains('collaboration').value_counts()"
   ]
  },
  {
   "cell_type": "code",
   "execution_count": 127,
   "metadata": {},
   "outputs": [
    {
     "data": {
      "text/plain": [
       "False    2195\n",
       "True      355\n",
       "Name: tags, dtype: int64"
      ]
     },
     "execution_count": 127,
     "metadata": {},
     "output_type": "execute_result"
    }
   ],
   "source": [
    "ted.tags.str.contains('business').value_counts()"
   ]
  },
  {
   "cell_type": "code",
   "execution_count": 128,
   "metadata": {},
   "outputs": [
    {
     "data": {
      "text/plain": [
       "False    2397\n",
       "True      153\n",
       "Name: tags, dtype: int64"
      ]
     },
     "execution_count": 128,
     "metadata": {},
     "output_type": "execute_result"
    }
   ],
   "source": [
    "ted.tags.str.contains('education').value_counts()"
   ]
  },
  {
   "cell_type": "code",
   "execution_count": 132,
   "metadata": {},
   "outputs": [
    {
     "data": {
      "text/plain": [
       "False    2463\n",
       "True       87\n",
       "Name: tags, dtype: int64"
      ]
     },
     "execution_count": 132,
     "metadata": {},
     "output_type": "execute_result"
    }
   ],
   "source": [
    "ted.tags.str.contains('climate').value_counts()"
   ]
  },
  {
   "cell_type": "code",
   "execution_count": 130,
   "metadata": {},
   "outputs": [
    {
     "data": {
      "text/plain": [
       "False    2271\n",
       "True      279\n",
       "Name: tags, dtype: int64"
      ]
     },
     "execution_count": 130,
     "metadata": {},
     "output_type": "execute_result"
    }
   ],
   "source": [
    "ted.tags.str.contains('art').value_counts()"
   ]
  },
  {
   "cell_type": "code",
   "execution_count": 144,
   "metadata": {},
   "outputs": [
    {
     "data": {
      "text/plain": [
       "False    2463\n",
       "True       87\n",
       "Name: tags, dtype: int64"
      ]
     },
     "execution_count": 144,
     "metadata": {},
     "output_type": "execute_result"
    }
   ],
   "source": [
    "ted.tags.str.contains('climate').value_counts()"
   ]
  },
  {
   "cell_type": "code",
   "execution_count": 146,
   "metadata": {},
   "outputs": [],
   "source": [
    "def science_tags(x):\n",
    "    for i in x:\n",
    "        if i['name'] == ['science', 'climate', 'environment']:\n",
    "            return i['count']"
   ]
  },
  {
   "cell_type": "code",
   "execution_count": 147,
   "metadata": {},
   "outputs": [
    {
     "ename": "TypeError",
     "evalue": "string indices must be integers",
     "output_type": "error",
     "traceback": [
      "\u001b[0;31m---------------------------------------------------------------------------\u001b[0m",
      "\u001b[0;31mTypeError\u001b[0m                                 Traceback (most recent call last)",
      "\u001b[0;32m<ipython-input-147-712ab6ce0d82>\u001b[0m in \u001b[0;36m<module>\u001b[0;34m\u001b[0m\n\u001b[0;32m----> 1\u001b[0;31m \u001b[0mted\u001b[0m\u001b[0;34m.\u001b[0m\u001b[0mtags\u001b[0m\u001b[0;34m.\u001b[0m\u001b[0mapply\u001b[0m\u001b[0;34m(\u001b[0m\u001b[0mscience_tags\u001b[0m\u001b[0;34m)\u001b[0m\u001b[0;34m\u001b[0m\u001b[0;34m\u001b[0m\u001b[0m\n\u001b[0m",
      "\u001b[0;32m~/anaconda3/lib/python3.7/site-packages/pandas/core/series.py\u001b[0m in \u001b[0;36mapply\u001b[0;34m(self, func, convert_dtype, args, **kwds)\u001b[0m\n\u001b[1;32m   3589\u001b[0m             \u001b[0;32melse\u001b[0m\u001b[0;34m:\u001b[0m\u001b[0;34m\u001b[0m\u001b[0;34m\u001b[0m\u001b[0m\n\u001b[1;32m   3590\u001b[0m                 \u001b[0mvalues\u001b[0m \u001b[0;34m=\u001b[0m \u001b[0mself\u001b[0m\u001b[0;34m.\u001b[0m\u001b[0mastype\u001b[0m\u001b[0;34m(\u001b[0m\u001b[0mobject\u001b[0m\u001b[0;34m)\u001b[0m\u001b[0;34m.\u001b[0m\u001b[0mvalues\u001b[0m\u001b[0;34m\u001b[0m\u001b[0;34m\u001b[0m\u001b[0m\n\u001b[0;32m-> 3591\u001b[0;31m                 \u001b[0mmapped\u001b[0m \u001b[0;34m=\u001b[0m \u001b[0mlib\u001b[0m\u001b[0;34m.\u001b[0m\u001b[0mmap_infer\u001b[0m\u001b[0;34m(\u001b[0m\u001b[0mvalues\u001b[0m\u001b[0;34m,\u001b[0m \u001b[0mf\u001b[0m\u001b[0;34m,\u001b[0m \u001b[0mconvert\u001b[0m\u001b[0;34m=\u001b[0m\u001b[0mconvert_dtype\u001b[0m\u001b[0;34m)\u001b[0m\u001b[0;34m\u001b[0m\u001b[0;34m\u001b[0m\u001b[0m\n\u001b[0m\u001b[1;32m   3592\u001b[0m \u001b[0;34m\u001b[0m\u001b[0m\n\u001b[1;32m   3593\u001b[0m         \u001b[0;32mif\u001b[0m \u001b[0mlen\u001b[0m\u001b[0;34m(\u001b[0m\u001b[0mmapped\u001b[0m\u001b[0;34m)\u001b[0m \u001b[0;32mand\u001b[0m \u001b[0misinstance\u001b[0m\u001b[0;34m(\u001b[0m\u001b[0mmapped\u001b[0m\u001b[0;34m[\u001b[0m\u001b[0;36m0\u001b[0m\u001b[0;34m]\u001b[0m\u001b[0;34m,\u001b[0m \u001b[0mSeries\u001b[0m\u001b[0;34m)\u001b[0m\u001b[0;34m:\u001b[0m\u001b[0;34m\u001b[0m\u001b[0;34m\u001b[0m\u001b[0m\n",
      "\u001b[0;32mpandas/_libs/lib.pyx\u001b[0m in \u001b[0;36mpandas._libs.lib.map_infer\u001b[0;34m()\u001b[0m\n",
      "\u001b[0;32m<ipython-input-146-61570e043f00>\u001b[0m in \u001b[0;36mscience_tags\u001b[0;34m(x)\u001b[0m\n\u001b[1;32m      1\u001b[0m \u001b[0;32mdef\u001b[0m \u001b[0mscience_tags\u001b[0m\u001b[0;34m(\u001b[0m\u001b[0mx\u001b[0m\u001b[0;34m)\u001b[0m\u001b[0;34m:\u001b[0m\u001b[0;34m\u001b[0m\u001b[0;34m\u001b[0m\u001b[0m\n\u001b[1;32m      2\u001b[0m     \u001b[0;32mfor\u001b[0m \u001b[0mi\u001b[0m \u001b[0;32min\u001b[0m \u001b[0mx\u001b[0m\u001b[0;34m:\u001b[0m\u001b[0;34m\u001b[0m\u001b[0;34m\u001b[0m\u001b[0m\n\u001b[0;32m----> 3\u001b[0;31m         \u001b[0;32mif\u001b[0m \u001b[0mi\u001b[0m\u001b[0;34m[\u001b[0m\u001b[0;34m'name'\u001b[0m\u001b[0;34m]\u001b[0m \u001b[0;34m==\u001b[0m \u001b[0;34m[\u001b[0m\u001b[0;34m'science'\u001b[0m\u001b[0;34m,\u001b[0m \u001b[0;34m'climate'\u001b[0m\u001b[0;34m,\u001b[0m \u001b[0;34m'environment'\u001b[0m\u001b[0;34m]\u001b[0m\u001b[0;34m:\u001b[0m\u001b[0;34m\u001b[0m\u001b[0;34m\u001b[0m\u001b[0m\n\u001b[0m\u001b[1;32m      4\u001b[0m             \u001b[0;32mreturn\u001b[0m \u001b[0mi\u001b[0m\u001b[0;34m[\u001b[0m\u001b[0;34m'count'\u001b[0m\u001b[0;34m]\u001b[0m\u001b[0;34m\u001b[0m\u001b[0;34m\u001b[0m\u001b[0m\n",
      "\u001b[0;31mTypeError\u001b[0m: string indices must be integers"
     ]
    }
   ],
   "source": [
    "ted.tags.apply(science_tags)"
   ]
  },
  {
   "cell_type": "code",
   "execution_count": 150,
   "metadata": {},
   "outputs": [
    {
     "data": {
      "text/plain": [
       "0      2006-02-25\n",
       "2      2006-02-24\n",
       "3      2006-02-26\n",
       "5      2006-02-02\n",
       "6      2006-02-24\n",
       "8      2006-02-02\n",
       "9      2006-02-25\n",
       "10     2006-02-26\n",
       "12     2006-02-23\n",
       "13     2006-02-06\n",
       "14     2006-02-23\n",
       "15     2006-02-23\n",
       "16     2004-02-26\n",
       "17     2006-02-24\n",
       "18     2005-02-25\n",
       "19     2005-07-14\n",
       "20     2006-02-23\n",
       "21     2004-02-24\n",
       "22     2006-02-23\n",
       "23     2006-02-24\n",
       "24     2004-02-04\n",
       "25     2005-07-14\n",
       "29     2004-02-02\n",
       "31     2005-02-26\n",
       "32     2005-07-14\n",
       "33     2005-07-13\n",
       "34     2005-07-01\n",
       "35     2005-07-14\n",
       "36     2005-07-12\n",
       "37     2006-02-24\n",
       "          ...    \n",
       "2520   2017-04-24\n",
       "2521   2016-04-24\n",
       "2522   2017-04-24\n",
       "2523   2016-10-08\n",
       "2524   2017-04-24\n",
       "2525   2016-05-24\n",
       "2526   2017-04-24\n",
       "2527   2017-04-23\n",
       "2528   2016-06-08\n",
       "2529   2015-04-24\n",
       "2530   2017-04-24\n",
       "2531   2016-06-18\n",
       "2532   2017-04-24\n",
       "2533   2017-04-24\n",
       "2534   2017-04-07\n",
       "2535   2017-08-27\n",
       "2536   2017-07-08\n",
       "2537   2017-04-24\n",
       "2538   2016-11-11\n",
       "2539   2017-08-27\n",
       "2540   2017-07-20\n",
       "2541   2017-02-19\n",
       "2542   2017-08-27\n",
       "2543   2017-04-24\n",
       "2544   2017-08-27\n",
       "2545   2017-06-06\n",
       "2546   2017-04-24\n",
       "2547   2017-04-24\n",
       "2548   2017-07-08\n",
       "2549   2017-04-24\n",
       "Name: film_datetime, Length: 2103, dtype: datetime64[ns]"
      ]
     },
     "execution_count": 150,
     "metadata": {},
     "output_type": "execute_result"
    }
   ],
   "source": [
    "ted.groupby('speaker_occupation').film_datetime.tail()"
   ]
  },
  {
   "cell_type": "code",
   "execution_count": 151,
   "metadata": {},
   "outputs": [
    {
     "data": {
      "text/plain": [
       "Writer                                         45\n",
       "Artist                                         34\n",
       "Designer                                       34\n",
       "Journalist                                     33\n",
       "Entrepreneur                                   31\n",
       "Architect                                      30\n",
       "Inventor                                       27\n",
       "Psychologist                                   26\n",
       "Photographer                                   25\n",
       "Filmmaker                                      21\n",
       "Economist                                      20\n",
       "Author                                         20\n",
       "Educator                                       20\n",
       "Neuroscientist                                 20\n",
       "Philosopher                                    16\n",
       "Roboticist                                     16\n",
       "Biologist                                      15\n",
       "Physicist                                      14\n",
       "Musician                                       11\n",
       "Marine biologist                               11\n",
       "Activist                                       10\n",
       "Global health expert; data visionary           10\n",
       "Technologist                                   10\n",
       "Astronomer                                      9\n",
       "Philanthropist                                  9\n",
       "Historian                                       9\n",
       "Behavioral economist                            9\n",
       "Poet                                            9\n",
       "Graphic designer                                9\n",
       "Singer/songwriter                               9\n",
       "                                               ..\n",
       "Anti-trafficking crusader                       1\n",
       "Somali doctors who treat women refugees         1\n",
       "Author, activist                                1\n",
       "Policy expert                                   1\n",
       "Acting and voice coach                          1\n",
       "Robotics entrepreneur                           1\n",
       "Nuclear reformer                                1\n",
       "Biologist, electrical engineer                  1\n",
       "Moustache activist                              1\n",
       "Product creator                                 1\n",
       "Experimental micromechanics pioneer             1\n",
       "Artist, urban farmer                            1\n",
       "Doctor, intensive care specialist               1\n",
       "Model and activist                              1\n",
       "Author, educator, activist                      1\n",
       "Corporate innovator                             1\n",
       "Conservation photographer                       1\n",
       "Border specialist                               1\n",
       "Cognitive scientist and design critic           1\n",
       "Public health journalist                        1\n",
       "Anti-hunger leader                              1\n",
       "Biohacker                                       1\n",
       "Paleoanthropologist and rock art researcher     1\n",
       "Urban sociologist                               1\n",
       "Passionate reader                               1\n",
       "Bio researcher                                  1\n",
       "Blogger and activist                            1\n",
       "Wild sex biologist                              1\n",
       "Educator and activist                           1\n",
       "Visionary                                       1\n",
       "Name: speaker_occupation, Length: 1458, dtype: int64"
      ]
     },
     "execution_count": 151,
     "metadata": {},
     "output_type": "execute_result"
    }
   ],
   "source": [
    "ted.speaker_occupation.value_counts()"
   ]
  },
  {
   "cell_type": "code",
   "execution_count": 152,
   "metadata": {},
   "outputs": [],
   "source": [
    "occupation_counts = ted.speaker_occupation.value_counts()"
   ]
  },
  {
   "cell_type": "code",
   "execution_count": 157,
   "metadata": {},
   "outputs": [
    {
     "data": {
      "text/plain": [
       "0                                   Author/educator\n",
       "1                                  Climate advocate\n",
       "2                              Technology columnist\n",
       "3                Activist for environmental justice\n",
       "4              Global health expert; data visionary\n",
       "5       Life coach; expert in leadership psychology\n",
       "6                       Actor, comedian, playwright\n",
       "7                                         Architect\n",
       "8                  Philosopher, cognitive scientist\n",
       "9                                    Pastor, author\n",
       "10            Co-founder, Architecture for Humanity\n",
       "11                                        Filmmaker\n",
       "12                   Epidemiologist, philanthropist\n",
       "13                Human-computer interface designer\n",
       "14                                   Tech visionary\n",
       "15                                        Violinist\n",
       "16                                Pianist, composer\n",
       "17                               inventor, engineer\n",
       "18                              Industrial designer\n",
       "19                             Founder of Wikipedia\n",
       "20                              Education visionary\n",
       "21                             Humorist, web artist\n",
       "22                    Blogger; cofounder, Six Apart\n",
       "23                   Anthropologist, expert on love\n",
       "24                             Playwright, activist\n",
       "25                                Quantum physicist\n",
       "26                           Evolutionary biologist\n",
       "27                                        Economist\n",
       "28                                           Writer\n",
       "29                   Psychologist; happiness expert\n",
       "                           ...                     \n",
       "2520                     Futurist, social scientist\n",
       "2521                             Chemical biologist\n",
       "2522             Artist, musician, lawyer, activist\n",
       "2523                                   Entrepreneur\n",
       "2524                              Filmmaker, writer\n",
       "2525     Child protection leader, activist, author \n",
       "2526                                      AI expert\n",
       "2527         Surveillance and cybersecurity counsel\n",
       "2528                          Digital archaeologist\n",
       "2529             Sociologist, human rights activist\n",
       "2530                                         Artist\n",
       "2531                              Policy researcher\n",
       "2532                               Hedge fund chair\n",
       "2533                                         Artist\n",
       "2534                                         Author\n",
       "2535                               Writer, activist\n",
       "2536                               Marketing leader\n",
       "2537                                         Author\n",
       "2538                                      Economist\n",
       "2539                                           Chef\n",
       "2540                              Border specialist\n",
       "2541                                      Physicist\n",
       "2542                                         Artist\n",
       "2543                            Genomics researcher\n",
       "2544                         Historian, philosopher\n",
       "2545                                     Journalist\n",
       "2546                                 Astrobiologist\n",
       "2547                              Robotics engineer\n",
       "2548                            Public intellectual\n",
       "2549                                  Game designer\n",
       "Name: speaker_occupation, Length: 2550, dtype: object"
      ]
     },
     "execution_count": 157,
     "metadata": {},
     "output_type": "execute_result"
    }
   ],
   "source": [
    "ted.speaker_occupation"
   ]
  },
  {
   "cell_type": "code",
   "execution_count": 158,
   "metadata": {},
   "outputs": [
    {
     "ename": "KeyError",
     "evalue": "'speaker_occupation'",
     "output_type": "error",
     "traceback": [
      "\u001b[0;31m---------------------------------------------------------------------------\u001b[0m",
      "\u001b[0;31mKeyError\u001b[0m                                  Traceback (most recent call last)",
      "\u001b[0;32m<ipython-input-158-4f2f45dca044>\u001b[0m in \u001b[0;36m<module>\u001b[0;34m\u001b[0m\n\u001b[0;32m----> 1\u001b[0;31m \u001b[0moccupation_counts\u001b[0m\u001b[0;34m.\u001b[0m\u001b[0mgroupby\u001b[0m\u001b[0;34m(\u001b[0m\u001b[0;34m'speaker_occupation'\u001b[0m\u001b[0;34m)\u001b[0m\u001b[0;34m.\u001b[0m\u001b[0mfilm_datetime\u001b[0m\u001b[0;34m(\u001b[0m\u001b[0;34m)\u001b[0m\u001b[0;34m\u001b[0m\u001b[0;34m\u001b[0m\u001b[0m\n\u001b[0m",
      "\u001b[0;32m~/anaconda3/lib/python3.7/site-packages/pandas/core/generic.py\u001b[0m in \u001b[0;36mgroupby\u001b[0;34m(self, by, axis, level, as_index, sort, group_keys, squeeze, observed, **kwargs)\u001b[0m\n\u001b[1;32m   7630\u001b[0m         return groupby(self, by=by, axis=axis, level=level, as_index=as_index,\n\u001b[1;32m   7631\u001b[0m                        \u001b[0msort\u001b[0m\u001b[0;34m=\u001b[0m\u001b[0msort\u001b[0m\u001b[0;34m,\u001b[0m \u001b[0mgroup_keys\u001b[0m\u001b[0;34m=\u001b[0m\u001b[0mgroup_keys\u001b[0m\u001b[0;34m,\u001b[0m \u001b[0msqueeze\u001b[0m\u001b[0;34m=\u001b[0m\u001b[0msqueeze\u001b[0m\u001b[0;34m,\u001b[0m\u001b[0;34m\u001b[0m\u001b[0;34m\u001b[0m\u001b[0m\n\u001b[0;32m-> 7632\u001b[0;31m                        observed=observed, **kwargs)\n\u001b[0m\u001b[1;32m   7633\u001b[0m \u001b[0;34m\u001b[0m\u001b[0m\n\u001b[1;32m   7634\u001b[0m     def asfreq(self, freq, method=None, how=None, normalize=False,\n",
      "\u001b[0;32m~/anaconda3/lib/python3.7/site-packages/pandas/core/groupby/groupby.py\u001b[0m in \u001b[0;36mgroupby\u001b[0;34m(obj, by, **kwds)\u001b[0m\n\u001b[1;32m   2108\u001b[0m         \u001b[0;32mraise\u001b[0m \u001b[0mTypeError\u001b[0m\u001b[0;34m(\u001b[0m\u001b[0;34m'invalid type: {}'\u001b[0m\u001b[0;34m.\u001b[0m\u001b[0mformat\u001b[0m\u001b[0;34m(\u001b[0m\u001b[0mobj\u001b[0m\u001b[0;34m)\u001b[0m\u001b[0;34m)\u001b[0m\u001b[0;34m\u001b[0m\u001b[0;34m\u001b[0m\u001b[0m\n\u001b[1;32m   2109\u001b[0m \u001b[0;34m\u001b[0m\u001b[0m\n\u001b[0;32m-> 2110\u001b[0;31m     \u001b[0;32mreturn\u001b[0m \u001b[0mklass\u001b[0m\u001b[0;34m(\u001b[0m\u001b[0mobj\u001b[0m\u001b[0;34m,\u001b[0m \u001b[0mby\u001b[0m\u001b[0;34m,\u001b[0m \u001b[0;34m**\u001b[0m\u001b[0mkwds\u001b[0m\u001b[0;34m)\u001b[0m\u001b[0;34m\u001b[0m\u001b[0;34m\u001b[0m\u001b[0m\n\u001b[0m",
      "\u001b[0;32m~/anaconda3/lib/python3.7/site-packages/pandas/core/groupby/groupby.py\u001b[0m in \u001b[0;36m__init__\u001b[0;34m(self, obj, keys, axis, level, grouper, exclusions, selection, as_index, sort, group_keys, squeeze, observed, **kwargs)\u001b[0m\n\u001b[1;32m    358\u001b[0m                                                     \u001b[0msort\u001b[0m\u001b[0;34m=\u001b[0m\u001b[0msort\u001b[0m\u001b[0;34m,\u001b[0m\u001b[0;34m\u001b[0m\u001b[0;34m\u001b[0m\u001b[0m\n\u001b[1;32m    359\u001b[0m                                                     \u001b[0mobserved\u001b[0m\u001b[0;34m=\u001b[0m\u001b[0mobserved\u001b[0m\u001b[0;34m,\u001b[0m\u001b[0;34m\u001b[0m\u001b[0;34m\u001b[0m\u001b[0m\n\u001b[0;32m--> 360\u001b[0;31m                                                     mutated=self.mutated)\n\u001b[0m\u001b[1;32m    361\u001b[0m \u001b[0;34m\u001b[0m\u001b[0m\n\u001b[1;32m    362\u001b[0m         \u001b[0mself\u001b[0m\u001b[0;34m.\u001b[0m\u001b[0mobj\u001b[0m \u001b[0;34m=\u001b[0m \u001b[0mobj\u001b[0m\u001b[0;34m\u001b[0m\u001b[0;34m\u001b[0m\u001b[0m\n",
      "\u001b[0;32m~/anaconda3/lib/python3.7/site-packages/pandas/core/groupby/grouper.py\u001b[0m in \u001b[0;36m_get_grouper\u001b[0;34m(obj, key, axis, level, sort, observed, mutated, validate)\u001b[0m\n\u001b[1;32m    576\u001b[0m                 \u001b[0min_axis\u001b[0m\u001b[0;34m,\u001b[0m \u001b[0mname\u001b[0m\u001b[0;34m,\u001b[0m \u001b[0mlevel\u001b[0m\u001b[0;34m,\u001b[0m \u001b[0mgpr\u001b[0m \u001b[0;34m=\u001b[0m \u001b[0;32mFalse\u001b[0m\u001b[0;34m,\u001b[0m \u001b[0;32mNone\u001b[0m\u001b[0;34m,\u001b[0m \u001b[0mgpr\u001b[0m\u001b[0;34m,\u001b[0m \u001b[0;32mNone\u001b[0m\u001b[0;34m\u001b[0m\u001b[0;34m\u001b[0m\u001b[0m\n\u001b[1;32m    577\u001b[0m             \u001b[0;32melse\u001b[0m\u001b[0;34m:\u001b[0m\u001b[0;34m\u001b[0m\u001b[0;34m\u001b[0m\u001b[0m\n\u001b[0;32m--> 578\u001b[0;31m                 \u001b[0;32mraise\u001b[0m \u001b[0mKeyError\u001b[0m\u001b[0;34m(\u001b[0m\u001b[0mgpr\u001b[0m\u001b[0;34m)\u001b[0m\u001b[0;34m\u001b[0m\u001b[0;34m\u001b[0m\u001b[0m\n\u001b[0m\u001b[1;32m    579\u001b[0m         \u001b[0;32melif\u001b[0m \u001b[0misinstance\u001b[0m\u001b[0;34m(\u001b[0m\u001b[0mgpr\u001b[0m\u001b[0;34m,\u001b[0m \u001b[0mGrouper\u001b[0m\u001b[0;34m)\u001b[0m \u001b[0;32mand\u001b[0m \u001b[0mgpr\u001b[0m\u001b[0;34m.\u001b[0m\u001b[0mkey\u001b[0m \u001b[0;32mis\u001b[0m \u001b[0;32mnot\u001b[0m \u001b[0;32mNone\u001b[0m\u001b[0;34m:\u001b[0m\u001b[0;34m\u001b[0m\u001b[0;34m\u001b[0m\u001b[0m\n\u001b[1;32m    580\u001b[0m             \u001b[0;31m# Add key to exclusions\u001b[0m\u001b[0;34m\u001b[0m\u001b[0;34m\u001b[0m\u001b[0;34m\u001b[0m\u001b[0m\n",
      "\u001b[0;31mKeyError\u001b[0m: 'speaker_occupation'"
     ]
    }
   ],
   "source": [
    "occupation_counts.groupby('speaker_occupation').film_datetime()"
   ]
  },
  {
   "cell_type": "code",
   "execution_count": null,
   "metadata": {},
   "outputs": [],
   "source": []
  },
  {
   "cell_type": "code",
   "execution_count": null,
   "metadata": {},
   "outputs": [],
   "source": []
  },
  {
   "cell_type": "code",
   "execution_count": null,
   "metadata": {},
   "outputs": [],
   "source": []
  },
  {
   "cell_type": "code",
   "execution_count": null,
   "metadata": {},
   "outputs": [],
   "source": []
  },
  {
   "cell_type": "code",
   "execution_count": 117,
   "metadata": {},
   "outputs": [
    {
     "data": {
      "text/plain": [
       "686         Psychiatrist, neurologist, author\n",
       "629                                 Physicist\n",
       "200                            Tech visionary\n",
       "202                                 Architect\n",
       "600                    Evolutionary biologist\n",
       "1131                        Computer theorist\n",
       "316                                  Engineer\n",
       "260                                  Preacher\n",
       "382                          Graphic designer\n",
       "395                     Designer and theorist\n",
       "376                         Athlete and actor\n",
       "290                             Oceanographer\n",
       "413                                     Coach\n",
       "156                                    Doctor\n",
       "351                                  Designer\n",
       "415                                      Poet\n",
       "640                          Author, satirist\n",
       "180                          Social innovator\n",
       "187                               Illustrator\n",
       "292                                  Traveler\n",
       "360                                Biochemist\n",
       "119          Philosopher, cognitive scientist\n",
       "184                               TED Curator\n",
       "190                           Theremin player\n",
       "100                                   Fiddler\n",
       "194                                  Jugglers\n",
       "70                                   Inventor\n",
       "420                                 Filmmaker\n",
       "113            Architect, experience designer\n",
       "75                               Car designer\n",
       "                        ...                  \n",
       "2462                     Grandmaster, analyst\n",
       "2471                       Novelist, essayist\n",
       "2483                      Physicist, inventor\n",
       "2479                         Refugee advocate\n",
       "2549                            Game designer\n",
       "2485                  Journalist, news anchor\n",
       "2499                                   Artist\n",
       "2487                             Psychologist\n",
       "2488                        Climate scientist\n",
       "2489                 Cognitive neuroscientist\n",
       "2447    Neuroscientist, primatologist, writer\n",
       "2491               Constitutional law scholar\n",
       "2445                   Education entrepreneur\n",
       "2493                                Architect\n",
       "2494                               Geneticist\n",
       "2498                               Roboticist\n",
       "2484                         Religious leader\n",
       "2495                           Design thinker\n",
       "2443                       Cyberspace analyst\n",
       "2497                     Coral reef biologist\n",
       "2438                           Bishop of Rome\n",
       "2545                               Journalist\n",
       "2506                           Science writer\n",
       "2548                      Public intellectual\n",
       "2536                         Marketing leader\n",
       "2540                        Border specialist\n",
       "2539                                     Chef\n",
       "2542                                   Artist\n",
       "2535                         Writer, activist\n",
       "2544                   Historian, philosopher\n",
       "Name: speaker_occupation, Length: 2550, dtype: object"
      ]
     },
     "execution_count": 117,
     "metadata": {},
     "output_type": "execute_result"
    }
   ],
   "source": [
    "ted.sort_values('film_datetime').speaker_occupation"
   ]
  },
  {
   "cell_type": "code",
   "execution_count": null,
   "metadata": {},
   "outputs": [],
   "source": []
  },
  {
   "cell_type": "code",
   "execution_count": null,
   "metadata": {},
   "outputs": [],
   "source": []
  },
  {
   "cell_type": "code",
   "execution_count": null,
   "metadata": {},
   "outputs": [],
   "source": []
  },
  {
   "cell_type": "code",
   "execution_count": null,
   "metadata": {},
   "outputs": [],
   "source": []
  },
  {
   "cell_type": "code",
   "execution_count": null,
   "metadata": {},
   "outputs": [],
   "source": []
  },
  {
   "cell_type": "markdown",
   "metadata": {},
   "source": [
    "## 3. More PANDAS (if time)\n",
    "\n",
    "Review the following PANDAS for ecology tutorial and pick a few topics to work on:\n",
    "\n",
    "https://datacarpentry.org/python-ecology-lesson/\n",
    "\n",
    "Explain your methods in words and comment your code.\n",
    "\n",
    "#### Note the above is a good reference for basic pandas operations.\n",
    "\n"
   ]
  },
  {
   "cell_type": "code",
   "execution_count": null,
   "metadata": {},
   "outputs": [],
   "source": []
  }
 ],
 "metadata": {
  "kernelspec": {
   "display_name": "Python 3",
   "language": "python",
   "name": "python3"
  },
  "language_info": {
   "codemirror_mode": {
    "name": "ipython",
    "version": 3
   },
   "file_extension": ".py",
   "mimetype": "text/x-python",
   "name": "python",
   "nbconvert_exporter": "python",
   "pygments_lexer": "ipython3",
   "version": "3.7.3"
  }
 },
 "nbformat": 4,
 "nbformat_minor": 2
}
