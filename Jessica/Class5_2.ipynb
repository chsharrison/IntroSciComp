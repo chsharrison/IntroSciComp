{
 "cells": [
  {
   "cell_type": "markdown",
   "metadata": {},
   "source": [
    "# Lecture 5.2 Data I/O: xarray and Pandas"
   ]
  },
  {
   "cell_type": "markdown",
   "metadata": {},
   "source": [
    "Sep 26, 2019"
   ]
  },
  {
   "cell_type": "markdown",
   "metadata": {},
   "source": [
    "## 1. Announcements"
   ]
  },
  {
   "cell_type": "markdown",
   "metadata": {},
   "source": [
    "### Homework Assignment for Week 5: \n",
    "Import your data into python using pandas, xarray, or some other method, do some analysis, make some plots and explain your methods and results. You will present this to the class next Tuesday in a powerpoint presentation (or similar), along with an introduction to your dataset. There should be about 5 slides, no more than 10, and your talk should last about 5 min, 8 min max including questions. Load this presentation before class into github and call it HW_5_yourname.\n",
    "\n",
    "See grading rubric on github"
   ]
  },
  {
   "cell_type": "markdown",
   "metadata": {},
   "source": [
    "## 2. Warm-up:"
   ]
  },
  {
   "cell_type": "markdown",
   "metadata": {},
   "source": [
    "Code a function that calculates the volume of a cube, given the length of a side. Use this to plot how volume scales with length of a side. Label your plot."
   ]
  },
  {
   "cell_type": "code",
   "execution_count": 12,
   "metadata": {},
   "outputs": [],
   "source": [
    "import numpy as np\n",
    "import matplotlib.pyplot as plt #for plots\n",
    "%matplotlib inline \n",
    "from matplotlib import cm"
   ]
  },
  {
   "cell_type": "code",
   "execution_count": 10,
   "metadata": {},
   "outputs": [],
   "source": [
    "def cube_vol(x):\n",
    "    return (x*x*x)"
   ]
  },
  {
   "cell_type": "code",
   "execution_count": 11,
   "metadata": {},
   "outputs": [
    {
     "data": {
      "text/plain": [
       "27"
      ]
     },
     "execution_count": 11,
     "metadata": {},
     "output_type": "execute_result"
    }
   ],
   "source": [
    "cube_vol(3)"
   ]
  },
  {
   "cell_type": "code",
   "execution_count": 25,
   "metadata": {},
   "outputs": [],
   "source": [
    "n = np.arange(0,100)"
   ]
  },
  {
   "cell_type": "code",
   "execution_count": 26,
   "metadata": {},
   "outputs": [
    {
     "data": {
      "text/plain": [
       "array([     0,      1,      8,     27,     64,    125,    216,    343,\n",
       "          512,    729,   1000,   1331,   1728,   2197,   2744,   3375,\n",
       "         4096,   4913,   5832,   6859,   8000,   9261,  10648,  12167,\n",
       "        13824,  15625,  17576,  19683,  21952,  24389,  27000,  29791,\n",
       "        32768,  35937,  39304,  42875,  46656,  50653,  54872,  59319,\n",
       "        64000,  68921,  74088,  79507,  85184,  91125,  97336, 103823,\n",
       "       110592, 117649, 125000, 132651, 140608, 148877, 157464, 166375,\n",
       "       175616, 185193, 195112, 205379, 216000, 226981, 238328, 250047,\n",
       "       262144, 274625, 287496, 300763, 314432, 328509, 343000, 357911,\n",
       "       373248, 389017, 405224, 421875, 438976, 456533, 474552, 493039,\n",
       "       512000, 531441, 551368, 571787, 592704, 614125, 636056, 658503,\n",
       "       681472, 704969, 729000, 753571, 778688, 804357, 830584, 857375,\n",
       "       884736, 912673, 941192, 970299])"
      ]
     },
     "execution_count": 26,
     "metadata": {},
     "output_type": "execute_result"
    }
   ],
   "source": [
    "cube_vol(n)"
   ]
  },
  {
   "cell_type": "code",
   "execution_count": 27,
   "metadata": {},
   "outputs": [
    {
     "data": {
      "text/plain": [
       "Text(0.5, 1.0, 'Volume Scale')"
      ]
     },
     "execution_count": 27,
     "metadata": {},
     "output_type": "execute_result"
    },
    {
     "data": {
      "image/png": "[encoded data removed]",
      "text/plain": [
       "<Figure size 432x288 with 1 Axes>"
      ]
     },
     "metadata": {
      "needs_background": "light"
     },
     "output_type": "display_data"
    }
   ],
   "source": [
    "plt.plot(n,cube_vol(n))\n",
    "plt.xlabel('Number of sides')\n",
    "plt.ylabel('Volume')\n",
    "plt.title('Volume Scale')"
   ]
  },
  {
   "cell_type": "code",
   "execution_count": null,
   "metadata": {},
   "outputs": [],
   "source": []
  },
  {
   "cell_type": "markdown",
   "metadata": {},
   "source": [
    "## 3. Lecture Examples:"
   ]
  },
  {
   "cell_type": "markdown",
   "metadata": {},
   "source": [
    "* Importing text files (we have done this)\n",
    "* File I/O and pandas intro (I/O means input and output)\n",
    "* Introduction to xarray and plotting netcdf files "
   ]
  },
  {
   "cell_type": "markdown",
   "metadata": {},
   "source": [
    "### Text files"
   ]
  },
  {
   "cell_type": "code",
   "execution_count": 31,
   "metadata": {},
   "outputs": [],
   "source": [
    "data = np.loadtxt('populations.txt')\n",
    "#pro tip: put the file in the same folder as your notebook"
   ]
  },
  {
   "cell_type": "code",
   "execution_count": 32,
   "metadata": {},
   "outputs": [
    {
     "data": {
      "text/plain": [
       "array([[ 1900., 30000.,  4000., 48300.],\n",
       "       [ 1901., 47200.,  6100., 48200.],\n",
       "       [ 1902., 70200.,  9800., 41500.],\n",
       "       [ 1903., 77400., 35200., 38200.],\n",
       "       [ 1904., 36300., 59400., 40600.],\n",
       "       [ 1905., 20600., 41700., 39800.],\n",
       "       [ 1906., 18100., 19000., 38600.],\n",
       "       [ 1907., 21400., 13000., 42300.],\n",
       "       [ 1908., 22000.,  8300., 44500.],\n",
       "       [ 1909., 25400.,  9100., 42100.],\n",
       "       [ 1910., 27100.,  7400., 46000.],\n",
       "       [ 1911., 40300.,  8000., 46800.],\n",
       "       [ 1912., 57000., 12300., 43800.],\n",
       "       [ 1913., 76600., 19500., 40900.],\n",
       "       [ 1914., 52300., 45700., 39400.],\n",
       "       [ 1915., 19500., 51100., 39000.],\n",
       "       [ 1916., 11200., 29700., 36700.],\n",
       "       [ 1917.,  7600., 15800., 41800.],\n",
       "       [ 1918., 14600.,  9700., 43300.],\n",
       "       [ 1919., 16200., 10100., 41300.],\n",
       "       [ 1920., 24700.,  8600., 47300.]])"
      ]
     },
     "execution_count": 32,
     "metadata": {},
     "output_type": "execute_result"
    }
   ],
   "source": [
    "data"
   ]
  },
  {
   "cell_type": "markdown",
   "metadata": {},
   "source": [
    "### Spreadsheets"
   ]
  },
  {
   "cell_type": "markdown",
   "metadata": {},
   "source": [
    "Many of your data sets will be in excel files. We use xarray for netcdf files, and you have just seen that this gave you consise and useful information about the content of the netcdf file. Xarray is built on pandas, which works similarly for spreadsheets.\n",
    "\n",
    "Download this data file:\n",
    "\n",
    "https://www.dataquest.io/blog/large_files/movies.xls\n"
   ]
  },
  {
   "cell_type": "markdown",
   "metadata": {},
   "source": [
    "#### Load the file"
   ]
  },
  {
   "cell_type": "code",
   "execution_count": null,
   "metadata": {},
   "outputs": [],
   "source": []
  },
  {
   "cell_type": "code",
   "execution_count": null,
   "metadata": {},
   "outputs": [],
   "source": []
  },
  {
   "cell_type": "code",
   "execution_count": null,
   "metadata": {},
   "outputs": [],
   "source": []
  },
  {
   "cell_type": "markdown",
   "metadata": {},
   "source": [
    "#### Transfer the file to a numpy array"
   ]
  },
  {
   "cell_type": "code",
   "execution_count": null,
   "metadata": {},
   "outputs": [],
   "source": []
  },
  {
   "cell_type": "code",
   "execution_count": null,
   "metadata": {},
   "outputs": [],
   "source": []
  },
  {
   "cell_type": "code",
   "execution_count": null,
   "metadata": {},
   "outputs": [],
   "source": []
  },
  {
   "cell_type": "markdown",
   "metadata": {},
   "source": [
    "### Netcdf files"
   ]
  },
  {
   "cell_type": "markdown",
   "metadata": {},
   "source": [
    "Goto https://www.hycom.org/"
   ]
  },
  {
   "cell_type": "code",
   "execution_count": 48,
   "metadata": {},
   "outputs": [
    {
     "name": "stderr",
     "output_type": "stream",
     "text": [
      "/Users/xfm684/anaconda3/lib/python3.7/site-packages/dask/config.py:168: YAMLLoadWarning: calling yaml.load() without Loader=... is deprecated, as the default Loader is unsafe. Please read https://msg.pyyaml.org/load for full details.\n",
      "  data = yaml.load(f.read()) or {}\n",
      "/Users/xfm684/anaconda3/lib/python3.7/site-packages/distributed/config.py:20: YAMLLoadWarning: calling yaml.load() without Loader=... is deprecated, as the default Loader is unsafe. Please read https://msg.pyyaml.org/load for full details.\n",
      "  defaults = yaml.load(f)\n"
     ]
    }
   ],
   "source": [
    "import xarray as xr #use sarray to open the netcdf file"
   ]
  },
  {
   "cell_type": "code",
   "execution_count": 71,
   "metadata": {},
   "outputs": [],
   "source": [
    "bathy = xr.open_dataset('GoM_bathymetry.nc')"
   ]
  },
  {
   "cell_type": "code",
   "execution_count": 72,
   "metadata": {},
   "outputs": [
    {
     "data": {
      "text/plain": [
       "<xarray.Dataset>\n",
       "Dimensions:    (Latitude: 346, Longitude: 541, MT: 1)\n",
       "Coordinates:\n",
       "  * MT         (MT) object 0001-01-16 00:00:00\n",
       "    Date       (MT) float64 ...\n",
       "  * Latitude   (Latitude) float32 18.12 18.16 18.2 18.24 ... 31.84 31.88 31.92\n",
       "  * Longitude  (Longitude) float32 -98.0 -97.96002 ... -76.44 -76.400024\n",
       "Data variables:\n",
       "    depth      (MT, Latitude, Longitude) float32 ...\n",
       "Attributes:\n",
       "    Conventions:  CF-1.6\n",
       "    title:        HYCOM\n",
       "    source:       HYCOM archive file\n",
       "    experiment:   00.0\n",
       "    history:      archv2ncdf2d"
      ]
     },
     "execution_count": 72,
     "metadata": {},
     "output_type": "execute_result"
    }
   ],
   "source": [
    "bathy"
   ]
  },
  {
   "cell_type": "code",
   "execution_count": 73,
   "metadata": {},
   "outputs": [
    {
     "data": {
      "text/plain": [
       "[<matplotlib.lines.Line2D at 0x322e33940>]"
      ]
     },
     "execution_count": 73,
     "metadata": {},
     "output_type": "execute_result"
    },
    {
     "data": {
      "image/png": "[encoded data removed]",
      "text/plain": [
       "<Figure size 432x288 with 1 Axes>"
      ]
     },
     "metadata": {
      "needs_background": "light"
     },
     "output_type": "display_data"
    }
   ],
   "source": [
    "plt.plot(bathy.Latitude)"
   ]
  },
  {
   "cell_type": "code",
   "execution_count": 74,
   "metadata": {},
   "outputs": [
    {
     "data": {
      "text/plain": [
       "[<matplotlib.lines.Line2D at 0x3258ae550>]"
      ]
     },
     "execution_count": 74,
     "metadata": {},
     "output_type": "execute_result"
    },
    {
     "data": {
      "image/png": "[encoded data removed]",
      "text/plain": [
       "<Figure size 432x288 with 1 Axes>"
      ]
     },
     "metadata": {
      "needs_background": "light"
     },
     "output_type": "display_data"
    }
   ],
   "source": [
    "bathy.Latitude.plot() #note: labels!"
   ]
  },
  {
   "cell_type": "code",
   "execution_count": 75,
   "metadata": {},
   "outputs": [
    {
     "data": {
      "text/plain": [
       "<matplotlib.collections.QuadMesh at 0x325956438>"
      ]
     },
     "execution_count": 75,
     "metadata": {},
     "output_type": "execute_result"
    },
    {
     "data": {
      "image/png": "[encoded data removed]",
      "text/plain": [
       "<Figure size 432x288 with 2 Axes>"
      ]
     },
     "metadata": {
      "needs_background": "light"
     },
     "output_type": "display_data"
    }
   ],
   "source": [
    "bathy.depth.plot(cmap='magma')"
   ]
  },
  {
   "cell_type": "code",
   "execution_count": null,
   "metadata": {},
   "outputs": [],
   "source": [
    "#Dr.Harrison\n",
    "myfile = 'hycom_gomu_501_2000010100_t012.nc'\n",
    "my_data = xr.open_dataset(my_file)"
   ]
  },
  {
   "cell_type": "code",
   "execution_count": 76,
   "metadata": {},
   "outputs": [],
   "source": [
    "\n",
    "hycom = xr.open_dataset('hycom_gomu_501_2000010100_t012.nc')"
   ]
  },
  {
   "cell_type": "code",
   "execution_count": 77,
   "metadata": {},
   "outputs": [
    {
     "data": {
      "text/plain": [
       "<xarray.Dataset>\n",
       "Dimensions:     (depth: 40, lat: 346, lon: 541, time: 1)\n",
       "Coordinates:\n",
       "  * time        (time) datetime64[ns] 2000-01-01T12:00:00\n",
       "  * lat         (lat) float64 18.12 18.16 18.2 18.24 ... 31.8 31.84 31.88 31.92\n",
       "  * lon         (lon) float64 -98.0 -97.96 -97.92 -97.88 ... -76.48 -76.44 -76.4\n",
       "  * depth       (depth) float64 0.0 2.0 4.0 6.0 ... 2.5e+03 3e+03 4e+03 5e+03\n",
       "Data variables:\n",
       "    surf_el     (time, lat, lon) float32 ...\n",
       "    salinity    (time, depth, lat, lon) float32 ...\n",
       "    water_temp  (time, depth, lat, lon) float32 ...\n",
       "    water_u     (time, depth, lat, lon) float32 ...\n",
       "    water_v     (time, depth, lat, lon) float32 ...\n",
       "Attributes:\n",
       "    classification_level:      UNCLASSIFIED\n",
       "    distribution_statement:    Approved for public release. Distribution unli...\n",
       "    downgrade_date:            not applicable\n",
       "    classification_authority:  not applicable\n",
       "    institution:               Naval Oceanographic Office\n",
       "    source:                    HYCOM archive file\n",
       "    history:                   archv2ncdf3z\n",
       "    field_type:                instantaneous\n",
       "    Conventions:               CF-1.6 NAVO_netcdf_v1.1\n",
       "    History:                   Translated to CF-1.0 Conventions by Netcdf-Jav...\n",
       "    geospatial_lat_min:        18.1200008392334\n",
       "    geospatial_lat_max:        31.920000076293945\n",
       "    geospatial_lon_min:        -98.0\n",
       "    geospatial_lon_max:        -76.4000244140625"
      ]
     },
     "execution_count": 77,
     "metadata": {},
     "output_type": "execute_result"
    }
   ],
   "source": [
    "hycom"
   ]
  },
  {
   "cell_type": "code",
   "execution_count": 82,
   "metadata": {},
   "outputs": [
    {
     "data": {
      "text/plain": [
       "<matplotlib.collections.QuadMesh at 0x327fa5da0>"
      ]
     },
     "execution_count": 82,
     "metadata": {},
     "output_type": "execute_result"
    },
    {
     "data": {
      "image/png": "[encoded data removed]",
      "text/plain": [
       "<Figure size 432x288 with 2 Axes>"
      ]
     },
     "metadata": {
      "needs_background": "light"
     },
     "output_type": "display_data"
    }
   ],
   "source": [
    "hycom.surf_el.plot(cmap='magma')"
   ]
  },
  {
   "cell_type": "markdown",
   "metadata": {},
   "source": [
    "### Exercise: \n",
    "Plot the temperature at the surface and at a few different depths\n",
    "\n",
    "*Surface\n",
    "*200 m\n",
    "*1000 m\n",
    "*2000 m"
   ]
  },
  {
   "cell_type": "code",
   "execution_count": 99,
   "metadata": {},
   "outputs": [
    {
     "data": {
      "text/plain": [
       "<xarray.DataArray 'water_temp' (time: 1, depth: 40, lat: 346, lon: 541)>\n",
       "[7487440 values with dtype=float32]\n",
       "Coordinates:\n",
       "  * time     (time) datetime64[ns] 2000-01-01T12:00:00\n",
       "  * lat      (lat) float64 18.12 18.16 18.2 18.24 ... 31.8 31.84 31.88 31.92\n",
       "  * lon      (lon) float64 -98.0 -97.96 -97.92 -97.88 ... -76.48 -76.44 -76.4\n",
       "  * depth    (depth) float64 0.0 2.0 4.0 6.0 8.0 ... 2.5e+03 3e+03 4e+03 5e+03\n",
       "Attributes:\n",
       "    long_name:      Water Temperature\n",
       "    standard_name:  sea_water_temperature\n",
       "    units:          degC\n",
       "    NAVO_code:      15\n",
       "    comment:        in-situ temperature"
      ]
     },
     "execution_count": 99,
     "metadata": {},
     "output_type": "execute_result"
    }
   ],
   "source": [
    "hycom.water_temp"
   ]
  },
  {
   "cell_type": "code",
   "execution_count": 105,
   "metadata": {},
   "outputs": [
    {
     "data": {
      "text/plain": [
       "<xarray.DataArray 'depth' (depth: 40)>\n",
       "array([0.00e+00, 2.00e+00, 4.00e+00, 6.00e+00, 8.00e+00, 1.00e+01, 1.20e+01,\n",
       "       1.50e+01, 2.00e+01, 2.50e+01, 3.00e+01, 3.50e+01, 4.00e+01, 4.50e+01,\n",
       "       5.00e+01, 6.00e+01, 7.00e+01, 8.00e+01, 9.00e+01, 1.00e+02, 1.25e+02,\n",
       "       1.50e+02, 2.00e+02, 2.50e+02, 3.00e+02, 3.50e+02, 4.00e+02, 5.00e+02,\n",
       "       6.00e+02, 7.00e+02, 8.00e+02, 9.00e+02, 1.00e+03, 1.25e+03, 1.50e+03,\n",
       "       2.00e+03, 2.50e+03, 3.00e+03, 4.00e+03, 5.00e+03])\n",
       "Coordinates:\n",
       "  * depth    (depth) float64 0.0 2.0 4.0 6.0 8.0 ... 2.5e+03 3e+03 4e+03 5e+03\n",
       "Attributes:\n",
       "    long_name:               Depth\n",
       "    standard_name:           depth\n",
       "    units:                   m\n",
       "    positive:                down\n",
       "    axis:                    Z\n",
       "    NAVO_code:               5\n",
       "    _CoordinateAxisType:     Height\n",
       "    _CoordinateZisPositive:  down"
      ]
     },
     "execution_count": 105,
     "metadata": {},
     "output_type": "execute_result"
    }
   ],
   "source": [
    "hycom.depth\n",
    "#to see the different depths"
   ]
  },
  {
   "cell_type": "code",
   "execution_count": 112,
   "metadata": {},
   "outputs": [
    {
     "data": {
      "text/plain": [
       "<xarray.DataArray 'depth' ()>\n",
       "array(2000.)\n",
       "Coordinates:\n",
       "    depth    float64 2e+03\n",
       "Attributes:\n",
       "    long_name:               Depth\n",
       "    standard_name:           depth\n",
       "    units:                   m\n",
       "    positive:                down\n",
       "    axis:                    Z\n",
       "    NAVO_code:               5\n",
       "    _CoordinateAxisType:     Height\n",
       "    _CoordinateZisPositive:  down"
      ]
     },
     "execution_count": 112,
     "metadata": {},
     "output_type": "execute_result"
    }
   ],
   "source": [
    "hycom.depth[35]\n",
    "#to index a certain depth, I'd rather do this than count."
   ]
  },
  {
   "cell_type": "code",
   "execution_count": 94,
   "metadata": {},
   "outputs": [
    {
     "data": {
      "text/plain": [
       "<matplotlib.collections.QuadMesh at 0x328b84b00>"
      ]
     },
     "execution_count": 94,
     "metadata": {},
     "output_type": "execute_result"
    },
    {
     "data": {
      "image/png": "[encoded data removed]",
      "text/plain": [
       "<Figure size 432x288 with 2 Axes>"
      ]
     },
     "metadata": {
      "needs_background": "light"
     },
     "output_type": "display_data"
    }
   ],
   "source": [
    "hycom.water_temp[0,0,:,:].plot(cmap = 'magma')"
   ]
  },
  {
   "cell_type": "code",
   "execution_count": 104,
   "metadata": {},
   "outputs": [
    {
     "data": {
      "text/plain": [
       "<matplotlib.collections.QuadMesh at 0x329b21860>"
      ]
     },
     "execution_count": 104,
     "metadata": {},
     "output_type": "execute_result"
    },
    {
     "data": {
      "image/png": "[encoded data removed]",
      "text/plain": [
       "<Figure size 432x288 with 2 Axes>"
      ]
     },
     "metadata": {
      "needs_background": "light"
     },
     "output_type": "display_data"
    }
   ],
   "source": [
    "hycom.water_temp[0,22,:,:].plot(cmap = 'magma')"
   ]
  },
  {
   "cell_type": "code",
   "execution_count": 109,
   "metadata": {},
   "outputs": [
    {
     "data": {
      "text/plain": [
       "<matplotlib.collections.QuadMesh at 0x32a67fe80>"
      ]
     },
     "execution_count": 109,
     "metadata": {},
     "output_type": "execute_result"
    },
    {
     "data": {
      "image/png": "[encoded data removed]",
      "text/plain": [
       "<Figure size 432x288 with 2 Axes>"
      ]
     },
     "metadata": {
      "needs_background": "light"
     },
     "output_type": "display_data"
    }
   ],
   "source": [
    "hycom.water_temp[0,32,:,:].plot(cmap = 'magma')"
   ]
  },
  {
   "cell_type": "code",
   "execution_count": 113,
   "metadata": {},
   "outputs": [
    {
     "data": {
      "text/plain": [
       "<matplotlib.collections.QuadMesh at 0x32c8b0470>"
      ]
     },
     "execution_count": 113,
     "metadata": {},
     "output_type": "execute_result"
    },
    {
     "data": {
      "image/png": "[encoded data removed]",
      "text/plain": [
       "<Figure size 432x288 with 2 Axes>"
      ]
     },
     "metadata": {
      "needs_background": "light"
     },
     "output_type": "display_data"
    }
   ],
   "source": [
    "hycom.water_temp[0,35,:,:].plot(cmap = 'magma')"
   ]
  },
  {
   "cell_type": "code",
   "execution_count": null,
   "metadata": {},
   "outputs": [],
   "source": []
  },
  {
   "cell_type": "code",
   "execution_count": null,
   "metadata": {},
   "outputs": [],
   "source": []
  },
  {
   "cell_type": "code",
   "execution_count": null,
   "metadata": {},
   "outputs": [],
   "source": []
  },
  {
   "cell_type": "code",
   "execution_count": null,
   "metadata": {},
   "outputs": [],
   "source": []
  },
  {
   "cell_type": "markdown",
   "metadata": {},
   "source": [
    "Note you can also modify a pandas data frame into an xarray dataset"
   ]
  },
  {
   "cell_type": "code",
   "execution_count": null,
   "metadata": {},
   "outputs": [],
   "source": []
  },
  {
   "cell_type": "code",
   "execution_count": null,
   "metadata": {},
   "outputs": [],
   "source": []
  },
  {
   "cell_type": "markdown",
   "metadata": {},
   "source": [
    "## 4. Lab:\n",
    "    \n",
    "We are doing a pandas tutorial: \n",
    "\n",
    "https://github.com/justmarkham/pycon-2019-tutorial\n",
    "    \n",
    "Use your headphones, go at your own pace. Remember to write text and comments as you go along. Finish this as homework if you don't complete in class. Note this requires you have a python environment on a non-lab computer, see me if assistance is needed on this."
   ]
  },
  {
   "cell_type": "code",
   "execution_count": 42,
   "metadata": {},
   "outputs": [
    {
     "data": {
      "text/plain": [
       "<matplotlib.axes._subplots.AxesSubplot at 0x11fc8f5f8>"
      ]
     },
     "execution_count": 42,
     "metadata": {},
     "output_type": "execute_result"
    },
    {
     "data": {
      "image/png": "[encoded data removed]",
      "text/plain": [
       "<Figure size 432x288 with 1 Axes>"
      ]
     },
     "metadata": {
      "needs_background": "light"
     },
     "output_type": "display_data"
    }
   ],
   "source": [
    "import pandas as pd\n",
    "ted = pd.read_csv('ted.txt')\n",
    "ted.comments.plot()"
   ]
  },
  {
   "cell_type": "code",
   "execution_count": 44,
   "metadata": {},
   "outputs": [
    {
     "data": {
      "text/html": [
       "<div>\n",
       "<style scoped>\n",
       "    .dataframe tbody tr th:only-of-type {\n",
       "        vertical-align: middle;\n",
       "    }\n",
       "\n",
       "    .dataframe tbody tr th {\n",
       "        vertical-align: top;\n",
       "    }\n",
       "\n",
       "    .dataframe thead th {\n",
       "        text-align: right;\n",
       "    }\n",
       "</style>\n",
       "<table border=\"1\" class=\"dataframe\">\n",
       "  <thead>\n",
       "    <tr style=\"text-align: right;\">\n",
       "      <th></th>\n",
       "      <th>comments</th>\n",
       "      <th>description</th>\n",
       "      <th>duration</th>\n",
       "      <th>event</th>\n",
       "      <th>film_date</th>\n",
       "      <th>languages</th>\n",
       "      <th>main_speaker</th>\n",
       "      <th>name</th>\n",
       "      <th>num_speaker</th>\n",
       "      <th>published_date</th>\n",
       "      <th>ratings</th>\n",
       "      <th>related_talks</th>\n",
       "      <th>speaker_occupation</th>\n",
       "      <th>tags</th>\n",
       "      <th>title</th>\n",
       "      <th>url</th>\n",
       "      <th>views</th>\n",
       "    </tr>\n",
       "  </thead>\n",
       "  <tbody>\n",
       "    <tr>\n",
       "      <th>0</th>\n",
       "      <td>4553</td>\n",
       "      <td>Sir Ken Robinson makes an entertaining and pro...</td>\n",
       "      <td>1164</td>\n",
       "      <td>TED2006</td>\n",
       "      <td>1140825600</td>\n",
       "      <td>60</td>\n",
       "      <td>Ken Robinson</td>\n",
       "      <td>Ken Robinson: Do schools kill creativity?</td>\n",
       "      <td>1</td>\n",
       "      <td>1151367060</td>\n",
       "      <td>[{'id': 7, 'name': 'Funny', 'count': 19645}, {...</td>\n",
       "      <td>[{'id': 865, 'hero': 'https://pe.tedcdn.com/im...</td>\n",
       "      <td>Author/educator</td>\n",
       "      <td>['children', 'creativity', 'culture', 'dance',...</td>\n",
       "      <td>Do schools kill creativity?</td>\n",
       "      <td>https://www.ted.com/talks/ken_robinson_says_sc...</td>\n",
       "      <td>47227110</td>\n",
       "    </tr>\n",
       "    <tr>\n",
       "      <th>1</th>\n",
       "      <td>265</td>\n",
       "      <td>With the same humor and humanity he exuded in ...</td>\n",
       "      <td>977</td>\n",
       "      <td>TED2006</td>\n",
       "      <td>1140825600</td>\n",
       "      <td>43</td>\n",
       "      <td>Al Gore</td>\n",
       "      <td>Al Gore: Averting the climate crisis</td>\n",
       "      <td>1</td>\n",
       "      <td>1151367060</td>\n",
       "      <td>[{'id': 7, 'name': 'Funny', 'count': 544}, {'i...</td>\n",
       "      <td>[{'id': 243, 'hero': 'https://pe.tedcdn.com/im...</td>\n",
       "      <td>Climate advocate</td>\n",
       "      <td>['alternative energy', 'cars', 'climate change...</td>\n",
       "      <td>Averting the climate crisis</td>\n",
       "      <td>https://www.ted.com/talks/al_gore_on_averting_...</td>\n",
       "      <td>3200520</td>\n",
       "    </tr>\n",
       "    <tr>\n",
       "      <th>2</th>\n",
       "      <td>124</td>\n",
       "      <td>New York Times columnist David Pogue takes aim...</td>\n",
       "      <td>1286</td>\n",
       "      <td>TED2006</td>\n",
       "      <td>1140739200</td>\n",
       "      <td>26</td>\n",
       "      <td>David Pogue</td>\n",
       "      <td>David Pogue: Simplicity sells</td>\n",
       "      <td>1</td>\n",
       "      <td>1151367060</td>\n",
       "      <td>[{'id': 7, 'name': 'Funny', 'count': 964}, {'i...</td>\n",
       "      <td>[{'id': 1725, 'hero': 'https://pe.tedcdn.com/i...</td>\n",
       "      <td>Technology columnist</td>\n",
       "      <td>['computers', 'entertainment', 'interface desi...</td>\n",
       "      <td>Simplicity sells</td>\n",
       "      <td>https://www.ted.com/talks/david_pogue_says_sim...</td>\n",
       "      <td>1636292</td>\n",
       "    </tr>\n",
       "    <tr>\n",
       "      <th>3</th>\n",
       "      <td>200</td>\n",
       "      <td>In an emotionally charged talk, MacArthur-winn...</td>\n",
       "      <td>1116</td>\n",
       "      <td>TED2006</td>\n",
       "      <td>1140912000</td>\n",
       "      <td>35</td>\n",
       "      <td>Majora Carter</td>\n",
       "      <td>Majora Carter: Greening the ghetto</td>\n",
       "      <td>1</td>\n",
       "      <td>1151367060</td>\n",
       "      <td>[{'id': 3, 'name': 'Courageous', 'count': 760}...</td>\n",
       "      <td>[{'id': 1041, 'hero': 'https://pe.tedcdn.com/i...</td>\n",
       "      <td>Activist for environmental justice</td>\n",
       "      <td>['MacArthur grant', 'activism', 'business', 'c...</td>\n",
       "      <td>Greening the ghetto</td>\n",
       "      <td>https://www.ted.com/talks/majora_carter_s_tale...</td>\n",
       "      <td>1697550</td>\n",
       "    </tr>\n",
       "    <tr>\n",
       "      <th>4</th>\n",
       "      <td>593</td>\n",
       "      <td>You've never seen data presented like this. Wi...</td>\n",
       "      <td>1190</td>\n",
       "      <td>TED2006</td>\n",
       "      <td>1140566400</td>\n",
       "      <td>48</td>\n",
       "      <td>Hans Rosling</td>\n",
       "      <td>Hans Rosling: The best stats you've ever seen</td>\n",
       "      <td>1</td>\n",
       "      <td>1151440680</td>\n",
       "      <td>[{'id': 9, 'name': 'Ingenious', 'count': 3202}...</td>\n",
       "      <td>[{'id': 2056, 'hero': 'https://pe.tedcdn.com/i...</td>\n",
       "      <td>Global health expert; data visionary</td>\n",
       "      <td>['Africa', 'Asia', 'Google', 'demo', 'economic...</td>\n",
       "      <td>The best stats you've ever seen</td>\n",
       "      <td>https://www.ted.com/talks/hans_rosling_shows_t...</td>\n",
       "      <td>12005869</td>\n",
       "    </tr>\n",
       "  </tbody>\n",
       "</table>\n",
       "</div>"
      ],
      "text/plain": [
       "   comments                                        description  duration  \\\n",
       "0      4553  Sir Ken Robinson makes an entertaining and pro...      1164   \n",
       "1       265  With the same humor and humanity he exuded in ...       977   \n",
       "2       124  New York Times columnist David Pogue takes aim...      1286   \n",
       "3       200  In an emotionally charged talk, MacArthur-winn...      1116   \n",
       "4       593  You've never seen data presented like this. Wi...      1190   \n",
       "\n",
       "     event   film_date  languages   main_speaker  \\\n",
       "0  TED2006  1140825600         60   Ken Robinson   \n",
       "1  TED2006  1140825600         43        Al Gore   \n",
       "2  TED2006  1140739200         26    David Pogue   \n",
       "3  TED2006  1140912000         35  Majora Carter   \n",
       "4  TED2006  1140566400         48   Hans Rosling   \n",
       "\n",
       "                                            name  num_speaker  published_date  \\\n",
       "0      Ken Robinson: Do schools kill creativity?            1      1151367060   \n",
       "1           Al Gore: Averting the climate crisis            1      1151367060   \n",
       "2                  David Pogue: Simplicity sells            1      1151367060   \n",
       "3             Majora Carter: Greening the ghetto            1      1151367060   \n",
       "4  Hans Rosling: The best stats you've ever seen            1      1151440680   \n",
       "\n",
       "                                             ratings  \\\n",
       "0  [{'id': 7, 'name': 'Funny', 'count': 19645}, {...   \n",
       "1  [{'id': 7, 'name': 'Funny', 'count': 544}, {'i...   \n",
       "2  [{'id': 7, 'name': 'Funny', 'count': 964}, {'i...   \n",
       "3  [{'id': 3, 'name': 'Courageous', 'count': 760}...   \n",
       "4  [{'id': 9, 'name': 'Ingenious', 'count': 3202}...   \n",
       "\n",
       "                                       related_talks  \\\n",
       "0  [{'id': 865, 'hero': 'https://pe.tedcdn.com/im...   \n",
       "1  [{'id': 243, 'hero': 'https://pe.tedcdn.com/im...   \n",
       "2  [{'id': 1725, 'hero': 'https://pe.tedcdn.com/i...   \n",
       "3  [{'id': 1041, 'hero': 'https://pe.tedcdn.com/i...   \n",
       "4  [{'id': 2056, 'hero': 'https://pe.tedcdn.com/i...   \n",
       "\n",
       "                     speaker_occupation  \\\n",
       "0                       Author/educator   \n",
       "1                      Climate advocate   \n",
       "2                  Technology columnist   \n",
       "3    Activist for environmental justice   \n",
       "4  Global health expert; data visionary   \n",
       "\n",
       "                                                tags  \\\n",
       "0  ['children', 'creativity', 'culture', 'dance',...   \n",
       "1  ['alternative energy', 'cars', 'climate change...   \n",
       "2  ['computers', 'entertainment', 'interface desi...   \n",
       "3  ['MacArthur grant', 'activism', 'business', 'c...   \n",
       "4  ['Africa', 'Asia', 'Google', 'demo', 'economic...   \n",
       "\n",
       "                             title  \\\n",
       "0      Do schools kill creativity?   \n",
       "1      Averting the climate crisis   \n",
       "2                 Simplicity sells   \n",
       "3              Greening the ghetto   \n",
       "4  The best stats you've ever seen   \n",
       "\n",
       "                                                 url     views  \n",
       "0  https://www.ted.com/talks/ken_robinson_says_sc...  47227110  \n",
       "1  https://www.ted.com/talks/al_gore_on_averting_...   3200520  \n",
       "2  https://www.ted.com/talks/david_pogue_says_sim...   1636292  \n",
       "3  https://www.ted.com/talks/majora_carter_s_tale...   1697550  \n",
       "4  https://www.ted.com/talks/hans_rosling_shows_t...  12005869  "
      ]
     },
     "execution_count": 44,
     "metadata": {},
     "output_type": "execute_result"
    }
   ],
   "source": [
    "ted.head() #just prints out the first few things"
   ]
  },
  {
   "cell_type": "code",
   "execution_count": null,
   "metadata": {},
   "outputs": [],
   "source": []
  },
  {
   "cell_type": "markdown",
   "metadata": {},
   "source": [
    "## Transfer the file to a numpy array"
   ]
  },
  {
   "cell_type": "code",
   "execution_count": 45,
   "metadata": {},
   "outputs": [],
   "source": [
    "ted_numpy = ted.values"
   ]
  },
  {
   "cell_type": "code",
   "execution_count": 47,
   "metadata": {},
   "outputs": [
    {
     "data": {
      "text/plain": [
       "(2550, 17)"
      ]
     },
     "execution_count": 47,
     "metadata": {},
     "output_type": "execute_result"
    }
   ],
   "source": [
    "ted_numpy.shape"
   ]
  },
  {
   "cell_type": "markdown",
   "metadata": {},
   "source": [
    "# 1. Introduction to the dataset"
   ]
  },
  {
   "cell_type": "code",
   "execution_count": 114,
   "metadata": {},
   "outputs": [
    {
     "data": {
      "text/html": [
       "<div>\n",
       "<style scoped>\n",
       "    .dataframe tbody tr th:only-of-type {\n",
       "        vertical-align: middle;\n",
       "    }\n",
       "\n",
       "    .dataframe tbody tr th {\n",
       "        vertical-align: top;\n",
       "    }\n",
       "\n",
       "    .dataframe thead th {\n",
       "        text-align: right;\n",
       "    }\n",
       "</style>\n",
       "<table border=\"1\" class=\"dataframe\">\n",
       "  <thead>\n",
       "    <tr style=\"text-align: right;\">\n",
       "      <th></th>\n",
       "      <th>comments</th>\n",
       "      <th>description</th>\n",
       "      <th>duration</th>\n",
       "      <th>event</th>\n",
       "      <th>film_date</th>\n",
       "      <th>languages</th>\n",
       "      <th>main_speaker</th>\n",
       "      <th>name</th>\n",
       "      <th>num_speaker</th>\n",
       "      <th>published_date</th>\n",
       "      <th>ratings</th>\n",
       "      <th>related_talks</th>\n",
       "      <th>speaker_occupation</th>\n",
       "      <th>tags</th>\n",
       "      <th>title</th>\n",
       "      <th>url</th>\n",
       "      <th>views</th>\n",
       "    </tr>\n",
       "  </thead>\n",
       "  <tbody>\n",
       "    <tr>\n",
       "      <th>0</th>\n",
       "      <td>4553</td>\n",
       "      <td>Sir Ken Robinson makes an entertaining and pro...</td>\n",
       "      <td>1164</td>\n",
       "      <td>TED2006</td>\n",
       "      <td>1140825600</td>\n",
       "      <td>60</td>\n",
       "      <td>Ken Robinson</td>\n",
       "      <td>Ken Robinson: Do schools kill creativity?</td>\n",
       "      <td>1</td>\n",
       "      <td>1151367060</td>\n",
       "      <td>[{'id': 7, 'name': 'Funny', 'count': 19645}, {...</td>\n",
       "      <td>[{'id': 865, 'hero': 'https://pe.tedcdn.com/im...</td>\n",
       "      <td>Author/educator</td>\n",
       "      <td>['children', 'creativity', 'culture', 'dance',...</td>\n",
       "      <td>Do schools kill creativity?</td>\n",
       "      <td>https://www.ted.com/talks/ken_robinson_says_sc...</td>\n",
       "      <td>47227110</td>\n",
       "    </tr>\n",
       "    <tr>\n",
       "      <th>1</th>\n",
       "      <td>265</td>\n",
       "      <td>With the same humor and humanity he exuded in ...</td>\n",
       "      <td>977</td>\n",
       "      <td>TED2006</td>\n",
       "      <td>1140825600</td>\n",
       "      <td>43</td>\n",
       "      <td>Al Gore</td>\n",
       "      <td>Al Gore: Averting the climate crisis</td>\n",
       "      <td>1</td>\n",
       "      <td>1151367060</td>\n",
       "      <td>[{'id': 7, 'name': 'Funny', 'count': 544}, {'i...</td>\n",
       "      <td>[{'id': 243, 'hero': 'https://pe.tedcdn.com/im...</td>\n",
       "      <td>Climate advocate</td>\n",
       "      <td>['alternative energy', 'cars', 'climate change...</td>\n",
       "      <td>Averting the climate crisis</td>\n",
       "      <td>https://www.ted.com/talks/al_gore_on_averting_...</td>\n",
       "      <td>3200520</td>\n",
       "    </tr>\n",
       "    <tr>\n",
       "      <th>2</th>\n",
       "      <td>124</td>\n",
       "      <td>New York Times columnist David Pogue takes aim...</td>\n",
       "      <td>1286</td>\n",
       "      <td>TED2006</td>\n",
       "      <td>1140739200</td>\n",
       "      <td>26</td>\n",
       "      <td>David Pogue</td>\n",
       "      <td>David Pogue: Simplicity sells</td>\n",
       "      <td>1</td>\n",
       "      <td>1151367060</td>\n",
       "      <td>[{'id': 7, 'name': 'Funny', 'count': 964}, {'i...</td>\n",
       "      <td>[{'id': 1725, 'hero': 'https://pe.tedcdn.com/i...</td>\n",
       "      <td>Technology columnist</td>\n",
       "      <td>['computers', 'entertainment', 'interface desi...</td>\n",
       "      <td>Simplicity sells</td>\n",
       "      <td>https://www.ted.com/talks/david_pogue_says_sim...</td>\n",
       "      <td>1636292</td>\n",
       "    </tr>\n",
       "    <tr>\n",
       "      <th>3</th>\n",
       "      <td>200</td>\n",
       "      <td>In an emotionally charged talk, MacArthur-winn...</td>\n",
       "      <td>1116</td>\n",
       "      <td>TED2006</td>\n",
       "      <td>1140912000</td>\n",
       "      <td>35</td>\n",
       "      <td>Majora Carter</td>\n",
       "      <td>Majora Carter: Greening the ghetto</td>\n",
       "      <td>1</td>\n",
       "      <td>1151367060</td>\n",
       "      <td>[{'id': 3, 'name': 'Courageous', 'count': 760}...</td>\n",
       "      <td>[{'id': 1041, 'hero': 'https://pe.tedcdn.com/i...</td>\n",
       "      <td>Activist for environmental justice</td>\n",
       "      <td>['MacArthur grant', 'activism', 'business', 'c...</td>\n",
       "      <td>Greening the ghetto</td>\n",
       "      <td>https://www.ted.com/talks/majora_carter_s_tale...</td>\n",
       "      <td>1697550</td>\n",
       "    </tr>\n",
       "    <tr>\n",
       "      <th>4</th>\n",
       "      <td>593</td>\n",
       "      <td>You've never seen data presented like this. Wi...</td>\n",
       "      <td>1190</td>\n",
       "      <td>TED2006</td>\n",
       "      <td>1140566400</td>\n",
       "      <td>48</td>\n",
       "      <td>Hans Rosling</td>\n",
       "      <td>Hans Rosling: The best stats you've ever seen</td>\n",
       "      <td>1</td>\n",
       "      <td>1151440680</td>\n",
       "      <td>[{'id': 9, 'name': 'Ingenious', 'count': 3202}...</td>\n",
       "      <td>[{'id': 2056, 'hero': 'https://pe.tedcdn.com/i...</td>\n",
       "      <td>Global health expert; data visionary</td>\n",
       "      <td>['Africa', 'Asia', 'Google', 'demo', 'economic...</td>\n",
       "      <td>The best stats you've ever seen</td>\n",
       "      <td>https://www.ted.com/talks/hans_rosling_shows_t...</td>\n",
       "      <td>12005869</td>\n",
       "    </tr>\n",
       "  </tbody>\n",
       "</table>\n",
       "</div>"
      ],
      "text/plain": [
       "   comments                                        description  duration  \\\n",
       "0      4553  Sir Ken Robinson makes an entertaining and pro...      1164   \n",
       "1       265  With the same humor and humanity he exuded in ...       977   \n",
       "2       124  New York Times columnist David Pogue takes aim...      1286   \n",
       "3       200  In an emotionally charged talk, MacArthur-winn...      1116   \n",
       "4       593  You've never seen data presented like this. Wi...      1190   \n",
       "\n",
       "     event   film_date  languages   main_speaker  \\\n",
       "0  TED2006  1140825600         60   Ken Robinson   \n",
       "1  TED2006  1140825600         43        Al Gore   \n",
       "2  TED2006  1140739200         26    David Pogue   \n",
       "3  TED2006  1140912000         35  Majora Carter   \n",
       "4  TED2006  1140566400         48   Hans Rosling   \n",
       "\n",
       "                                            name  num_speaker  published_date  \\\n",
       "0      Ken Robinson: Do schools kill creativity?            1      1151367060   \n",
       "1           Al Gore: Averting the climate crisis            1      1151367060   \n",
       "2                  David Pogue: Simplicity sells            1      1151367060   \n",
       "3             Majora Carter: Greening the ghetto            1      1151367060   \n",
       "4  Hans Rosling: The best stats you've ever seen            1      1151440680   \n",
       "\n",
       "                                             ratings  \\\n",
       "0  [{'id': 7, 'name': 'Funny', 'count': 19645}, {...   \n",
       "1  [{'id': 7, 'name': 'Funny', 'count': 544}, {'i...   \n",
       "2  [{'id': 7, 'name': 'Funny', 'count': 964}, {'i...   \n",
       "3  [{'id': 3, 'name': 'Courageous', 'count': 760}...   \n",
       "4  [{'id': 9, 'name': 'Ingenious', 'count': 3202}...   \n",
       "\n",
       "                                       related_talks  \\\n",
       "0  [{'id': 865, 'hero': 'https://pe.tedcdn.com/im...   \n",
       "1  [{'id': 243, 'hero': 'https://pe.tedcdn.com/im...   \n",
       "2  [{'id': 1725, 'hero': 'https://pe.tedcdn.com/i...   \n",
       "3  [{'id': 1041, 'hero': 'https://pe.tedcdn.com/i...   \n",
       "4  [{'id': 2056, 'hero': 'https://pe.tedcdn.com/i...   \n",
       "\n",
       "                     speaker_occupation  \\\n",
       "0                       Author/educator   \n",
       "1                      Climate advocate   \n",
       "2                  Technology columnist   \n",
       "3    Activist for environmental justice   \n",
       "4  Global health expert; data visionary   \n",
       "\n",
       "                                                tags  \\\n",
       "0  ['children', 'creativity', 'culture', 'dance',...   \n",
       "1  ['alternative energy', 'cars', 'climate change...   \n",
       "2  ['computers', 'entertainment', 'interface desi...   \n",
       "3  ['MacArthur grant', 'activism', 'business', 'c...   \n",
       "4  ['Africa', 'Asia', 'Google', 'demo', 'economic...   \n",
       "\n",
       "                             title  \\\n",
       "0      Do schools kill creativity?   \n",
       "1      Averting the climate crisis   \n",
       "2                 Simplicity sells   \n",
       "3              Greening the ghetto   \n",
       "4  The best stats you've ever seen   \n",
       "\n",
       "                                                 url     views  \n",
       "0  https://www.ted.com/talks/ken_robinson_says_sc...  47227110  \n",
       "1  https://www.ted.com/talks/al_gore_on_averting_...   3200520  \n",
       "2  https://www.ted.com/talks/david_pogue_says_sim...   1636292  \n",
       "3  https://www.ted.com/talks/majora_carter_s_tale...   1697550  \n",
       "4  https://www.ted.com/talks/hans_rosling_shows_t...  12005869  "
      ]
     },
     "execution_count": 114,
     "metadata": {},
     "output_type": "execute_result"
    }
   ],
   "source": [
    "ted.head()"
   ]
  },
  {
   "cell_type": "code",
   "execution_count": 115,
   "metadata": {},
   "outputs": [
    {
     "data": {
      "text/plain": [
       "(2550, 17)"
      ]
     },
     "execution_count": 115,
     "metadata": {},
     "output_type": "execute_result"
    }
   ],
   "source": [
    "ted.shape"
   ]
  },
  {
   "cell_type": "code",
   "execution_count": 116,
   "metadata": {},
   "outputs": [
    {
     "data": {
      "text/plain": [
       "comments               int64\n",
       "description           object\n",
       "duration               int64\n",
       "event                 object\n",
       "film_date              int64\n",
       "languages              int64\n",
       "main_speaker          object\n",
       "name                  object\n",
       "num_speaker            int64\n",
       "published_date         int64\n",
       "ratings               object\n",
       "related_talks         object\n",
       "speaker_occupation    object\n",
       "tags                  object\n",
       "title                 object\n",
       "url                   object\n",
       "views                  int64\n",
       "dtype: object"
      ]
     },
     "execution_count": 116,
     "metadata": {},
     "output_type": "execute_result"
    }
   ],
   "source": [
    "ted.dtypes\n",
    "#object types can contain strings, lists, or dictionaries"
   ]
  },
  {
   "cell_type": "code",
   "execution_count": 117,
   "metadata": {},
   "outputs": [
    {
     "data": {
      "text/plain": [
       "comments              0\n",
       "description           0\n",
       "duration              0\n",
       "event                 0\n",
       "film_date             0\n",
       "languages             0\n",
       "main_speaker          0\n",
       "name                  0\n",
       "num_speaker           0\n",
       "published_date        0\n",
       "ratings               0\n",
       "related_talks         0\n",
       "speaker_occupation    6\n",
       "tags                  0\n",
       "title                 0\n",
       "url                   0\n",
       "views                 0\n",
       "dtype: int64"
      ]
     },
     "execution_count": 117,
     "metadata": {},
     "output_type": "execute_result"
    }
   ],
   "source": [
    "ted.isna().sum()\n",
    "#checking for missing values isna (is null; boolean values)\n",
    "#note: speaker_occupation has 6 missing values"
   ]
  },
  {
   "cell_type": "markdown",
   "metadata": {},
   "source": [
    "# 2. Which talks provoke the most online discussion?\n",
    "1. consider the limitations an dbiases of your data when analyzing it.\n",
    "\n",
    "2. make your results understandable"
   ]
  },
  {
   "cell_type": "code",
   "execution_count": 120,
   "metadata": {},
   "outputs": [
    {
     "data": {
      "text/html": [
       "<div>\n",
       "<style scoped>\n",
       "    .dataframe tbody tr th:only-of-type {\n",
       "        vertical-align: middle;\n",
       "    }\n",
       "\n",
       "    .dataframe tbody tr th {\n",
       "        vertical-align: top;\n",
       "    }\n",
       "\n",
       "    .dataframe thead th {\n",
       "        text-align: right;\n",
       "    }\n",
       "</style>\n",
       "<table border=\"1\" class=\"dataframe\">\n",
       "  <thead>\n",
       "    <tr style=\"text-align: right;\">\n",
       "      <th></th>\n",
       "      <th>comments</th>\n",
       "      <th>description</th>\n",
       "      <th>duration</th>\n",
       "      <th>event</th>\n",
       "      <th>film_date</th>\n",
       "      <th>languages</th>\n",
       "      <th>main_speaker</th>\n",
       "      <th>name</th>\n",
       "      <th>num_speaker</th>\n",
       "      <th>published_date</th>\n",
       "      <th>ratings</th>\n",
       "      <th>related_talks</th>\n",
       "      <th>speaker_occupation</th>\n",
       "      <th>tags</th>\n",
       "      <th>title</th>\n",
       "      <th>url</th>\n",
       "      <th>views</th>\n",
       "    </tr>\n",
       "  </thead>\n",
       "  <tbody>\n",
       "    <tr>\n",
       "      <th>1787</th>\n",
       "      <td>2673</td>\n",
       "      <td>Our consciousness is a fundamental aspect of o...</td>\n",
       "      <td>1117</td>\n",
       "      <td>TED2014</td>\n",
       "      <td>1395100800</td>\n",
       "      <td>33</td>\n",
       "      <td>David Chalmers</td>\n",
       "      <td>David Chalmers: How do you explain consciousness?</td>\n",
       "      <td>1</td>\n",
       "      <td>1405350484</td>\n",
       "      <td>[{'id': 25, 'name': 'OK', 'count': 280}, {'id'...</td>\n",
       "      <td>[{'id': 1308, 'hero': 'https://pe.tedcdn.com/i...</td>\n",
       "      <td>Philosopher</td>\n",
       "      <td>['brain', 'consciousness', 'neuroscience', 'ph...</td>\n",
       "      <td>How do you explain consciousness?</td>\n",
       "      <td>https://www.ted.com/talks/david_chalmers_how_d...</td>\n",
       "      <td>2162764</td>\n",
       "    </tr>\n",
       "    <tr>\n",
       "      <th>201</th>\n",
       "      <td>2877</td>\n",
       "      <td>Jill Bolte Taylor got a research opportunity f...</td>\n",
       "      <td>1099</td>\n",
       "      <td>TED2008</td>\n",
       "      <td>1204070400</td>\n",
       "      <td>49</td>\n",
       "      <td>Jill Bolte Taylor</td>\n",
       "      <td>Jill Bolte Taylor: My stroke of insight</td>\n",
       "      <td>1</td>\n",
       "      <td>1205284200</td>\n",
       "      <td>[{'id': 22, 'name': 'Fascinating', 'count': 14...</td>\n",
       "      <td>[{'id': 184, 'hero': 'https://pe.tedcdn.com/im...</td>\n",
       "      <td>Neuroanatomist</td>\n",
       "      <td>['biology', 'brain', 'consciousness', 'global ...</td>\n",
       "      <td>My stroke of insight</td>\n",
       "      <td>https://www.ted.com/talks/jill_bolte_taylor_s_...</td>\n",
       "      <td>21190883</td>\n",
       "    </tr>\n",
       "    <tr>\n",
       "      <th>644</th>\n",
       "      <td>3356</td>\n",
       "      <td>Questions of good and evil, right and wrong ar...</td>\n",
       "      <td>1386</td>\n",
       "      <td>TED2010</td>\n",
       "      <td>1265846400</td>\n",
       "      <td>39</td>\n",
       "      <td>Sam Harris</td>\n",
       "      <td>Sam Harris: Science can answer moral questions</td>\n",
       "      <td>1</td>\n",
       "      <td>1269249180</td>\n",
       "      <td>[{'id': 8, 'name': 'Informative', 'count': 923...</td>\n",
       "      <td>[{'id': 666, 'hero': 'https://pe.tedcdn.com/im...</td>\n",
       "      <td>Neuroscientist, philosopher</td>\n",
       "      <td>['culture', 'evolutionary psychology', 'global...</td>\n",
       "      <td>Science can answer moral questions</td>\n",
       "      <td>https://www.ted.com/talks/sam_harris_science_c...</td>\n",
       "      <td>3433437</td>\n",
       "    </tr>\n",
       "    <tr>\n",
       "      <th>0</th>\n",
       "      <td>4553</td>\n",
       "      <td>Sir Ken Robinson makes an entertaining and pro...</td>\n",
       "      <td>1164</td>\n",
       "      <td>TED2006</td>\n",
       "      <td>1140825600</td>\n",
       "      <td>60</td>\n",
       "      <td>Ken Robinson</td>\n",
       "      <td>Ken Robinson: Do schools kill creativity?</td>\n",
       "      <td>1</td>\n",
       "      <td>1151367060</td>\n",
       "      <td>[{'id': 7, 'name': 'Funny', 'count': 19645}, {...</td>\n",
       "      <td>[{'id': 865, 'hero': 'https://pe.tedcdn.com/im...</td>\n",
       "      <td>Author/educator</td>\n",
       "      <td>['children', 'creativity', 'culture', 'dance',...</td>\n",
       "      <td>Do schools kill creativity?</td>\n",
       "      <td>https://www.ted.com/talks/ken_robinson_says_sc...</td>\n",
       "      <td>47227110</td>\n",
       "    </tr>\n",
       "    <tr>\n",
       "      <th>96</th>\n",
       "      <td>6404</td>\n",
       "      <td>Richard Dawkins urges all atheists to openly s...</td>\n",
       "      <td>1750</td>\n",
       "      <td>TED2002</td>\n",
       "      <td>1012608000</td>\n",
       "      <td>42</td>\n",
       "      <td>Richard Dawkins</td>\n",
       "      <td>Richard Dawkins: Militant atheism</td>\n",
       "      <td>1</td>\n",
       "      <td>1176689220</td>\n",
       "      <td>[{'id': 3, 'name': 'Courageous', 'count': 3236...</td>\n",
       "      <td>[{'id': 86, 'hero': 'https://pe.tedcdn.com/ima...</td>\n",
       "      <td>Evolutionary biologist</td>\n",
       "      <td>['God', 'atheism', 'culture', 'religion', 'sci...</td>\n",
       "      <td>Militant atheism</td>\n",
       "      <td>https://www.ted.com/talks/richard_dawkins_on_m...</td>\n",
       "      <td>4374792</td>\n",
       "    </tr>\n",
       "  </tbody>\n",
       "</table>\n",
       "</div>"
      ],
      "text/plain": [
       "      comments                                        description  duration  \\\n",
       "1787      2673  Our consciousness is a fundamental aspect of o...      1117   \n",
       "201       2877  Jill Bolte Taylor got a research opportunity f...      1099   \n",
       "644       3356  Questions of good and evil, right and wrong ar...      1386   \n",
       "0         4553  Sir Ken Robinson makes an entertaining and pro...      1164   \n",
       "96        6404  Richard Dawkins urges all atheists to openly s...      1750   \n",
       "\n",
       "        event   film_date  languages       main_speaker  \\\n",
       "1787  TED2014  1395100800         33     David Chalmers   \n",
       "201   TED2008  1204070400         49  Jill Bolte Taylor   \n",
       "644   TED2010  1265846400         39         Sam Harris   \n",
       "0     TED2006  1140825600         60       Ken Robinson   \n",
       "96    TED2002  1012608000         42    Richard Dawkins   \n",
       "\n",
       "                                                   name  num_speaker  \\\n",
       "1787  David Chalmers: How do you explain consciousness?            1   \n",
       "201             Jill Bolte Taylor: My stroke of insight            1   \n",
       "644      Sam Harris: Science can answer moral questions            1   \n",
       "0             Ken Robinson: Do schools kill creativity?            1   \n",
       "96                    Richard Dawkins: Militant atheism            1   \n",
       "\n",
       "      published_date                                            ratings  \\\n",
       "1787      1405350484  [{'id': 25, 'name': 'OK', 'count': 280}, {'id'...   \n",
       "201       1205284200  [{'id': 22, 'name': 'Fascinating', 'count': 14...   \n",
       "644       1269249180  [{'id': 8, 'name': 'Informative', 'count': 923...   \n",
       "0         1151367060  [{'id': 7, 'name': 'Funny', 'count': 19645}, {...   \n",
       "96        1176689220  [{'id': 3, 'name': 'Courageous', 'count': 3236...   \n",
       "\n",
       "                                          related_talks  \\\n",
       "1787  [{'id': 1308, 'hero': 'https://pe.tedcdn.com/i...   \n",
       "201   [{'id': 184, 'hero': 'https://pe.tedcdn.com/im...   \n",
       "644   [{'id': 666, 'hero': 'https://pe.tedcdn.com/im...   \n",
       "0     [{'id': 865, 'hero': 'https://pe.tedcdn.com/im...   \n",
       "96    [{'id': 86, 'hero': 'https://pe.tedcdn.com/ima...   \n",
       "\n",
       "               speaker_occupation  \\\n",
       "1787                  Philosopher   \n",
       "201                Neuroanatomist   \n",
       "644   Neuroscientist, philosopher   \n",
       "0                 Author/educator   \n",
       "96         Evolutionary biologist   \n",
       "\n",
       "                                                   tags  \\\n",
       "1787  ['brain', 'consciousness', 'neuroscience', 'ph...   \n",
       "201   ['biology', 'brain', 'consciousness', 'global ...   \n",
       "644   ['culture', 'evolutionary psychology', 'global...   \n",
       "0     ['children', 'creativity', 'culture', 'dance',...   \n",
       "96    ['God', 'atheism', 'culture', 'religion', 'sci...   \n",
       "\n",
       "                                   title  \\\n",
       "1787   How do you explain consciousness?   \n",
       "201                 My stroke of insight   \n",
       "644   Science can answer moral questions   \n",
       "0            Do schools kill creativity?   \n",
       "96                      Militant atheism   \n",
       "\n",
       "                                                    url     views  \n",
       "1787  https://www.ted.com/talks/david_chalmers_how_d...   2162764  \n",
       "201   https://www.ted.com/talks/jill_bolte_taylor_s_...  21190883  \n",
       "644   https://www.ted.com/talks/sam_harris_science_c...   3433437  \n",
       "0     https://www.ted.com/talks/ken_robinson_says_sc...  47227110  \n",
       "96    https://www.ted.com/talks/richard_dawkins_on_m...   4374792  "
      ]
     },
     "execution_count": 120,
     "metadata": {},
     "output_type": "execute_result"
    }
   ],
   "source": [
    "ted.sort_values('comments').tail()\n",
    "#notice the one with the most comments has been on longer so that could effect it."
   ]
  },
  {
   "cell_type": "code",
   "execution_count": 121,
   "metadata": {},
   "outputs": [],
   "source": [
    "ted['comments_per_view'] = ted.comments/ted.views\n",
    "#to take out bias from how long it's been up to see how provocative it is."
   ]
  },
  {
   "cell_type": "code",
   "execution_count": 122,
   "metadata": {},
   "outputs": [
    {
     "data": {
      "text/html": [
       "<div>\n",
       "<style scoped>\n",
       "    .dataframe tbody tr th:only-of-type {\n",
       "        vertical-align: middle;\n",
       "    }\n",
       "\n",
       "    .dataframe tbody tr th {\n",
       "        vertical-align: top;\n",
       "    }\n",
       "\n",
       "    .dataframe thead th {\n",
       "        text-align: right;\n",
       "    }\n",
       "</style>\n",
       "<table border=\"1\" class=\"dataframe\">\n",
       "  <thead>\n",
       "    <tr style=\"text-align: right;\">\n",
       "      <th></th>\n",
       "      <th>comments</th>\n",
       "      <th>description</th>\n",
       "      <th>duration</th>\n",
       "      <th>event</th>\n",
       "      <th>film_date</th>\n",
       "      <th>languages</th>\n",
       "      <th>main_speaker</th>\n",
       "      <th>name</th>\n",
       "      <th>num_speaker</th>\n",
       "      <th>published_date</th>\n",
       "      <th>ratings</th>\n",
       "      <th>related_talks</th>\n",
       "      <th>speaker_occupation</th>\n",
       "      <th>tags</th>\n",
       "      <th>title</th>\n",
       "      <th>url</th>\n",
       "      <th>views</th>\n",
       "      <th>comments_per_view</th>\n",
       "    </tr>\n",
       "  </thead>\n",
       "  <tbody>\n",
       "    <tr>\n",
       "      <th>954</th>\n",
       "      <td>2492</td>\n",
       "      <td>Janet Echelman found her true voice as an arti...</td>\n",
       "      <td>566</td>\n",
       "      <td>TED2011</td>\n",
       "      <td>1299110400</td>\n",
       "      <td>35</td>\n",
       "      <td>Janet Echelman</td>\n",
       "      <td>Janet Echelman: Taking imagination seriously</td>\n",
       "      <td>1</td>\n",
       "      <td>1307489760</td>\n",
       "      <td>[{'id': 23, 'name': 'Jaw-dropping', 'count': 3...</td>\n",
       "      <td>[{'id': 453, 'hero': 'https://pe.tedcdn.com/im...</td>\n",
       "      <td>Artist</td>\n",
       "      <td>['art', 'cities', 'culture', 'data', 'design',...</td>\n",
       "      <td>Taking imagination seriously</td>\n",
       "      <td>https://www.ted.com/talks/janet_echelman</td>\n",
       "      <td>1832930</td>\n",
       "      <td>0.001360</td>\n",
       "    </tr>\n",
       "    <tr>\n",
       "      <th>694</th>\n",
       "      <td>1502</td>\n",
       "      <td>Filmmaker Sharmeen Obaid-Chinoy takes on a ter...</td>\n",
       "      <td>489</td>\n",
       "      <td>TED2010</td>\n",
       "      <td>1265760000</td>\n",
       "      <td>32</td>\n",
       "      <td>Sharmeen Obaid-Chinoy</td>\n",
       "      <td>Sharmeen Obaid-Chinoy: Inside a school for sui...</td>\n",
       "      <td>1</td>\n",
       "      <td>1274865960</td>\n",
       "      <td>[{'id': 23, 'name': 'Jaw-dropping', 'count': 3...</td>\n",
       "      <td>[{'id': 171, 'hero': 'https://pe.tedcdn.com/im...</td>\n",
       "      <td>Filmmaker</td>\n",
       "      <td>['TED Fellows', 'children', 'culture', 'film',...</td>\n",
       "      <td>Inside a school for suicide bombers</td>\n",
       "      <td>https://www.ted.com/talks/sharmeen_obaid_chino...</td>\n",
       "      <td>1057238</td>\n",
       "      <td>0.001421</td>\n",
       "    </tr>\n",
       "    <tr>\n",
       "      <th>96</th>\n",
       "      <td>6404</td>\n",
       "      <td>Richard Dawkins urges all atheists to openly s...</td>\n",
       "      <td>1750</td>\n",
       "      <td>TED2002</td>\n",
       "      <td>1012608000</td>\n",
       "      <td>42</td>\n",
       "      <td>Richard Dawkins</td>\n",
       "      <td>Richard Dawkins: Militant atheism</td>\n",
       "      <td>1</td>\n",
       "      <td>1176689220</td>\n",
       "      <td>[{'id': 3, 'name': 'Courageous', 'count': 3236...</td>\n",
       "      <td>[{'id': 86, 'hero': 'https://pe.tedcdn.com/ima...</td>\n",
       "      <td>Evolutionary biologist</td>\n",
       "      <td>['God', 'atheism', 'culture', 'religion', 'sci...</td>\n",
       "      <td>Militant atheism</td>\n",
       "      <td>https://www.ted.com/talks/richard_dawkins_on_m...</td>\n",
       "      <td>4374792</td>\n",
       "      <td>0.001464</td>\n",
       "    </tr>\n",
       "    <tr>\n",
       "      <th>803</th>\n",
       "      <td>834</td>\n",
       "      <td>David Bismark demos a new system for voting th...</td>\n",
       "      <td>422</td>\n",
       "      <td>TEDGlobal 2010</td>\n",
       "      <td>1279065600</td>\n",
       "      <td>36</td>\n",
       "      <td>David Bismark</td>\n",
       "      <td>David Bismark: E-voting without fraud</td>\n",
       "      <td>1</td>\n",
       "      <td>1288685640</td>\n",
       "      <td>[{'id': 25, 'name': 'OK', 'count': 111}, {'id'...</td>\n",
       "      <td>[{'id': 803, 'hero': 'https://pe.tedcdn.com/im...</td>\n",
       "      <td>Voting system designer</td>\n",
       "      <td>['culture', 'democracy', 'design', 'global iss...</td>\n",
       "      <td>E-voting without fraud</td>\n",
       "      <td>https://www.ted.com/talks/david_bismark_e_voti...</td>\n",
       "      <td>543551</td>\n",
       "      <td>0.001534</td>\n",
       "    </tr>\n",
       "    <tr>\n",
       "      <th>744</th>\n",
       "      <td>649</td>\n",
       "      <td>Hours before New York lawmakers rejected a key...</td>\n",
       "      <td>453</td>\n",
       "      <td>New York State Senate</td>\n",
       "      <td>1259712000</td>\n",
       "      <td>0</td>\n",
       "      <td>Diane J. Savino</td>\n",
       "      <td>Diane J. Savino: The case for same-sex marriage</td>\n",
       "      <td>1</td>\n",
       "      <td>1282062180</td>\n",
       "      <td>[{'id': 25, 'name': 'OK', 'count': 100}, {'id'...</td>\n",
       "      <td>[{'id': 217, 'hero': 'https://pe.tedcdn.com/im...</td>\n",
       "      <td>Senator</td>\n",
       "      <td>['God', 'LGBT', 'culture', 'government', 'law'...</td>\n",
       "      <td>The case for same-sex marriage</td>\n",
       "      <td>https://www.ted.com/talks/diane_j_savino_the_c...</td>\n",
       "      <td>292395</td>\n",
       "      <td>0.002220</td>\n",
       "    </tr>\n",
       "  </tbody>\n",
       "</table>\n",
       "</div>"
      ],
      "text/plain": [
       "     comments                                        description  duration  \\\n",
       "954      2492  Janet Echelman found her true voice as an arti...       566   \n",
       "694      1502  Filmmaker Sharmeen Obaid-Chinoy takes on a ter...       489   \n",
       "96       6404  Richard Dawkins urges all atheists to openly s...      1750   \n",
       "803       834  David Bismark demos a new system for voting th...       422   \n",
       "744       649  Hours before New York lawmakers rejected a key...       453   \n",
       "\n",
       "                     event   film_date  languages           main_speaker  \\\n",
       "954                TED2011  1299110400         35         Janet Echelman   \n",
       "694                TED2010  1265760000         32  Sharmeen Obaid-Chinoy   \n",
       "96                 TED2002  1012608000         42        Richard Dawkins   \n",
       "803         TEDGlobal 2010  1279065600         36          David Bismark   \n",
       "744  New York State Senate  1259712000          0        Diane J. Savino   \n",
       "\n",
       "                                                  name  num_speaker  \\\n",
       "954       Janet Echelman: Taking imagination seriously            1   \n",
       "694  Sharmeen Obaid-Chinoy: Inside a school for sui...            1   \n",
       "96                   Richard Dawkins: Militant atheism            1   \n",
       "803              David Bismark: E-voting without fraud            1   \n",
       "744    Diane J. Savino: The case for same-sex marriage            1   \n",
       "\n",
       "     published_date                                            ratings  \\\n",
       "954      1307489760  [{'id': 23, 'name': 'Jaw-dropping', 'count': 3...   \n",
       "694      1274865960  [{'id': 23, 'name': 'Jaw-dropping', 'count': 3...   \n",
       "96       1176689220  [{'id': 3, 'name': 'Courageous', 'count': 3236...   \n",
       "803      1288685640  [{'id': 25, 'name': 'OK', 'count': 111}, {'id'...   \n",
       "744      1282062180  [{'id': 25, 'name': 'OK', 'count': 100}, {'id'...   \n",
       "\n",
       "                                         related_talks  \\\n",
       "954  [{'id': 453, 'hero': 'https://pe.tedcdn.com/im...   \n",
       "694  [{'id': 171, 'hero': 'https://pe.tedcdn.com/im...   \n",
       "96   [{'id': 86, 'hero': 'https://pe.tedcdn.com/ima...   \n",
       "803  [{'id': 803, 'hero': 'https://pe.tedcdn.com/im...   \n",
       "744  [{'id': 217, 'hero': 'https://pe.tedcdn.com/im...   \n",
       "\n",
       "         speaker_occupation  \\\n",
       "954                  Artist   \n",
       "694               Filmmaker   \n",
       "96   Evolutionary biologist   \n",
       "803  Voting system designer   \n",
       "744                 Senator   \n",
       "\n",
       "                                                  tags  \\\n",
       "954  ['art', 'cities', 'culture', 'data', 'design',...   \n",
       "694  ['TED Fellows', 'children', 'culture', 'film',...   \n",
       "96   ['God', 'atheism', 'culture', 'religion', 'sci...   \n",
       "803  ['culture', 'democracy', 'design', 'global iss...   \n",
       "744  ['God', 'LGBT', 'culture', 'government', 'law'...   \n",
       "\n",
       "                                   title  \\\n",
       "954         Taking imagination seriously   \n",
       "694  Inside a school for suicide bombers   \n",
       "96                      Militant atheism   \n",
       "803               E-voting without fraud   \n",
       "744       The case for same-sex marriage   \n",
       "\n",
       "                                                   url    views  \\\n",
       "954           https://www.ted.com/talks/janet_echelman  1832930   \n",
       "694  https://www.ted.com/talks/sharmeen_obaid_chino...  1057238   \n",
       "96   https://www.ted.com/talks/richard_dawkins_on_m...  4374792   \n",
       "803  https://www.ted.com/talks/david_bismark_e_voti...   543551   \n",
       "744  https://www.ted.com/talks/diane_j_savino_the_c...   292395   \n",
       "\n",
       "     comments_per_view  \n",
       "954           0.001360  \n",
       "694           0.001421  \n",
       "96            0.001464  \n",
       "803           0.001534  \n",
       "744           0.002220  "
      ]
     },
     "execution_count": 122,
     "metadata": {},
     "output_type": "execute_result"
    }
   ],
   "source": [
    "ted.sort_values('comments_per_view').tail()\n",
    "\n",
    "#for every view of this video there are 0.002 comments"
   ]
  },
  {
   "cell_type": "code",
   "execution_count": 123,
   "metadata": {},
   "outputs": [],
   "source": [
    "ted['views_per_comment'] = ted.views/ted.comments"
   ]
  },
  {
   "cell_type": "code",
   "execution_count": 124,
   "metadata": {},
   "outputs": [
    {
     "data": {
      "text/html": [
       "<div>\n",
       "<style scoped>\n",
       "    .dataframe tbody tr th:only-of-type {\n",
       "        vertical-align: middle;\n",
       "    }\n",
       "\n",
       "    .dataframe tbody tr th {\n",
       "        vertical-align: top;\n",
       "    }\n",
       "\n",
       "    .dataframe thead th {\n",
       "        text-align: right;\n",
       "    }\n",
       "</style>\n",
       "<table border=\"1\" class=\"dataframe\">\n",
       "  <thead>\n",
       "    <tr style=\"text-align: right;\">\n",
       "      <th></th>\n",
       "      <th>comments</th>\n",
       "      <th>description</th>\n",
       "      <th>duration</th>\n",
       "      <th>event</th>\n",
       "      <th>film_date</th>\n",
       "      <th>languages</th>\n",
       "      <th>main_speaker</th>\n",
       "      <th>name</th>\n",
       "      <th>num_speaker</th>\n",
       "      <th>published_date</th>\n",
       "      <th>ratings</th>\n",
       "      <th>related_talks</th>\n",
       "      <th>speaker_occupation</th>\n",
       "      <th>tags</th>\n",
       "      <th>title</th>\n",
       "      <th>url</th>\n",
       "      <th>views</th>\n",
       "      <th>comments_per_view</th>\n",
       "      <th>views_per_comment</th>\n",
       "    </tr>\n",
       "  </thead>\n",
       "  <tbody>\n",
       "    <tr>\n",
       "      <th>744</th>\n",
       "      <td>649</td>\n",
       "      <td>Hours before New York lawmakers rejected a key...</td>\n",
       "      <td>453</td>\n",
       "      <td>New York State Senate</td>\n",
       "      <td>1259712000</td>\n",
       "      <td>0</td>\n",
       "      <td>Diane J. Savino</td>\n",
       "      <td>Diane J. Savino: The case for same-sex marriage</td>\n",
       "      <td>1</td>\n",
       "      <td>1282062180</td>\n",
       "      <td>[{'id': 25, 'name': 'OK', 'count': 100}, {'id'...</td>\n",
       "      <td>[{'id': 217, 'hero': 'https://pe.tedcdn.com/im...</td>\n",
       "      <td>Senator</td>\n",
       "      <td>['God', 'LGBT', 'culture', 'government', 'law'...</td>\n",
       "      <td>The case for same-sex marriage</td>\n",
       "      <td>https://www.ted.com/talks/diane_j_savino_the_c...</td>\n",
       "      <td>292395</td>\n",
       "      <td>0.002220</td>\n",
       "      <td>450.531587</td>\n",
       "    </tr>\n",
       "    <tr>\n",
       "      <th>803</th>\n",
       "      <td>834</td>\n",
       "      <td>David Bismark demos a new system for voting th...</td>\n",
       "      <td>422</td>\n",
       "      <td>TEDGlobal 2010</td>\n",
       "      <td>1279065600</td>\n",
       "      <td>36</td>\n",
       "      <td>David Bismark</td>\n",
       "      <td>David Bismark: E-voting without fraud</td>\n",
       "      <td>1</td>\n",
       "      <td>1288685640</td>\n",
       "      <td>[{'id': 25, 'name': 'OK', 'count': 111}, {'id'...</td>\n",
       "      <td>[{'id': 803, 'hero': 'https://pe.tedcdn.com/im...</td>\n",
       "      <td>Voting system designer</td>\n",
       "      <td>['culture', 'democracy', 'design', 'global iss...</td>\n",
       "      <td>E-voting without fraud</td>\n",
       "      <td>https://www.ted.com/talks/david_bismark_e_voti...</td>\n",
       "      <td>543551</td>\n",
       "      <td>0.001534</td>\n",
       "      <td>651.739808</td>\n",
       "    </tr>\n",
       "    <tr>\n",
       "      <th>96</th>\n",
       "      <td>6404</td>\n",
       "      <td>Richard Dawkins urges all atheists to openly s...</td>\n",
       "      <td>1750</td>\n",
       "      <td>TED2002</td>\n",
       "      <td>1012608000</td>\n",
       "      <td>42</td>\n",
       "      <td>Richard Dawkins</td>\n",
       "      <td>Richard Dawkins: Militant atheism</td>\n",
       "      <td>1</td>\n",
       "      <td>1176689220</td>\n",
       "      <td>[{'id': 3, 'name': 'Courageous', 'count': 3236...</td>\n",
       "      <td>[{'id': 86, 'hero': 'https://pe.tedcdn.com/ima...</td>\n",
       "      <td>Evolutionary biologist</td>\n",
       "      <td>['God', 'atheism', 'culture', 'religion', 'sci...</td>\n",
       "      <td>Militant atheism</td>\n",
       "      <td>https://www.ted.com/talks/richard_dawkins_on_m...</td>\n",
       "      <td>4374792</td>\n",
       "      <td>0.001464</td>\n",
       "      <td>683.134291</td>\n",
       "    </tr>\n",
       "    <tr>\n",
       "      <th>694</th>\n",
       "      <td>1502</td>\n",
       "      <td>Filmmaker Sharmeen Obaid-Chinoy takes on a ter...</td>\n",
       "      <td>489</td>\n",
       "      <td>TED2010</td>\n",
       "      <td>1265760000</td>\n",
       "      <td>32</td>\n",
       "      <td>Sharmeen Obaid-Chinoy</td>\n",
       "      <td>Sharmeen Obaid-Chinoy: Inside a school for sui...</td>\n",
       "      <td>1</td>\n",
       "      <td>1274865960</td>\n",
       "      <td>[{'id': 23, 'name': 'Jaw-dropping', 'count': 3...</td>\n",
       "      <td>[{'id': 171, 'hero': 'https://pe.tedcdn.com/im...</td>\n",
       "      <td>Filmmaker</td>\n",
       "      <td>['TED Fellows', 'children', 'culture', 'film',...</td>\n",
       "      <td>Inside a school for suicide bombers</td>\n",
       "      <td>https://www.ted.com/talks/sharmeen_obaid_chino...</td>\n",
       "      <td>1057238</td>\n",
       "      <td>0.001421</td>\n",
       "      <td>703.886818</td>\n",
       "    </tr>\n",
       "    <tr>\n",
       "      <th>954</th>\n",
       "      <td>2492</td>\n",
       "      <td>Janet Echelman found her true voice as an arti...</td>\n",
       "      <td>566</td>\n",
       "      <td>TED2011</td>\n",
       "      <td>1299110400</td>\n",
       "      <td>35</td>\n",
       "      <td>Janet Echelman</td>\n",
       "      <td>Janet Echelman: Taking imagination seriously</td>\n",
       "      <td>1</td>\n",
       "      <td>1307489760</td>\n",
       "      <td>[{'id': 23, 'name': 'Jaw-dropping', 'count': 3...</td>\n",
       "      <td>[{'id': 453, 'hero': 'https://pe.tedcdn.com/im...</td>\n",
       "      <td>Artist</td>\n",
       "      <td>['art', 'cities', 'culture', 'data', 'design',...</td>\n",
       "      <td>Taking imagination seriously</td>\n",
       "      <td>https://www.ted.com/talks/janet_echelman</td>\n",
       "      <td>1832930</td>\n",
       "      <td>0.001360</td>\n",
       "      <td>735.525682</td>\n",
       "    </tr>\n",
       "  </tbody>\n",
       "</table>\n",
       "</div>"
      ],
      "text/plain": [
       "     comments                                        description  duration  \\\n",
       "744       649  Hours before New York lawmakers rejected a key...       453   \n",
       "803       834  David Bismark demos a new system for voting th...       422   \n",
       "96       6404  Richard Dawkins urges all atheists to openly s...      1750   \n",
       "694      1502  Filmmaker Sharmeen Obaid-Chinoy takes on a ter...       489   \n",
       "954      2492  Janet Echelman found her true voice as an arti...       566   \n",
       "\n",
       "                     event   film_date  languages           main_speaker  \\\n",
       "744  New York State Senate  1259712000          0        Diane J. Savino   \n",
       "803         TEDGlobal 2010  1279065600         36          David Bismark   \n",
       "96                 TED2002  1012608000         42        Richard Dawkins   \n",
       "694                TED2010  1265760000         32  Sharmeen Obaid-Chinoy   \n",
       "954                TED2011  1299110400         35         Janet Echelman   \n",
       "\n",
       "                                                  name  num_speaker  \\\n",
       "744    Diane J. Savino: The case for same-sex marriage            1   \n",
       "803              David Bismark: E-voting without fraud            1   \n",
       "96                   Richard Dawkins: Militant atheism            1   \n",
       "694  Sharmeen Obaid-Chinoy: Inside a school for sui...            1   \n",
       "954       Janet Echelman: Taking imagination seriously            1   \n",
       "\n",
       "     published_date                                            ratings  \\\n",
       "744      1282062180  [{'id': 25, 'name': 'OK', 'count': 100}, {'id'...   \n",
       "803      1288685640  [{'id': 25, 'name': 'OK', 'count': 111}, {'id'...   \n",
       "96       1176689220  [{'id': 3, 'name': 'Courageous', 'count': 3236...   \n",
       "694      1274865960  [{'id': 23, 'name': 'Jaw-dropping', 'count': 3...   \n",
       "954      1307489760  [{'id': 23, 'name': 'Jaw-dropping', 'count': 3...   \n",
       "\n",
       "                                         related_talks  \\\n",
       "744  [{'id': 217, 'hero': 'https://pe.tedcdn.com/im...   \n",
       "803  [{'id': 803, 'hero': 'https://pe.tedcdn.com/im...   \n",
       "96   [{'id': 86, 'hero': 'https://pe.tedcdn.com/ima...   \n",
       "694  [{'id': 171, 'hero': 'https://pe.tedcdn.com/im...   \n",
       "954  [{'id': 453, 'hero': 'https://pe.tedcdn.com/im...   \n",
       "\n",
       "         speaker_occupation  \\\n",
       "744                 Senator   \n",
       "803  Voting system designer   \n",
       "96   Evolutionary biologist   \n",
       "694               Filmmaker   \n",
       "954                  Artist   \n",
       "\n",
       "                                                  tags  \\\n",
       "744  ['God', 'LGBT', 'culture', 'government', 'law'...   \n",
       "803  ['culture', 'democracy', 'design', 'global iss...   \n",
       "96   ['God', 'atheism', 'culture', 'religion', 'sci...   \n",
       "694  ['TED Fellows', 'children', 'culture', 'film',...   \n",
       "954  ['art', 'cities', 'culture', 'data', 'design',...   \n",
       "\n",
       "                                   title  \\\n",
       "744       The case for same-sex marriage   \n",
       "803               E-voting without fraud   \n",
       "96                      Militant atheism   \n",
       "694  Inside a school for suicide bombers   \n",
       "954         Taking imagination seriously   \n",
       "\n",
       "                                                   url    views  \\\n",
       "744  https://www.ted.com/talks/diane_j_savino_the_c...   292395   \n",
       "803  https://www.ted.com/talks/david_bismark_e_voti...   543551   \n",
       "96   https://www.ted.com/talks/richard_dawkins_on_m...  4374792   \n",
       "694  https://www.ted.com/talks/sharmeen_obaid_chino...  1057238   \n",
       "954           https://www.ted.com/talks/janet_echelman  1832930   \n",
       "\n",
       "     comments_per_view  views_per_comment  \n",
       "744           0.002220         450.531587  \n",
       "803           0.001534         651.739808  \n",
       "96            0.001464         683.134291  \n",
       "694           0.001421         703.886818  \n",
       "954           0.001360         735.525682  "
      ]
     },
     "execution_count": 124,
     "metadata": {},
     "output_type": "execute_result"
    }
   ],
   "source": [
    "ted.sort_values('views_per_comment').head()\n",
    "#now we want to look at the head because we want the least amount of views to generate a comment. \n",
    "#better way to view data than the 0.002"
   ]
  },
  {
   "cell_type": "markdown",
   "metadata": {},
   "source": [
    "# 3. Visualize the distribution of comments\n",
    "looking for a frequency distribution\n",
    "\n",
    "1. Choose your plot type based on the question you are answering and the data type(s) you are working with.\n",
    "      i.e. histogram for distribution; bar plots for comparing categories; line plots for time series; scatter plots for comparing multiple numeric variables; etc.\n",
    "\n",
    "2. Use pandas one-liners to iterate through plots quickly\n",
    "\n",
    "3. Try modifying the plot defaults (defaults won't likely give you the MOST informative plot, need to work with it)\n",
    "\n",
    "4. Creating plots involves decision making (no single correct way, no way to visualize everything, steer clear of incorrect visualization)"
   ]
  },
  {
   "cell_type": "code",
   "execution_count": 128,
   "metadata": {},
   "outputs": [
    {
     "data": {
      "text/plain": [
       "Text(0.5, 1.0, 'Line Plot')"
      ]
     },
     "execution_count": 128,
     "metadata": {},
     "output_type": "execute_result"
    },
    {
     "data": {
      "image/png": "[encoded data removed]",
      "text/plain": [
       "<Figure size 432x288 with 1 Axes>"
      ]
     },
     "metadata": {
      "needs_background": "light"
     },
     "output_type": "display_data"
    }
   ],
   "source": [
    "ted.comments.plot() #shift-tab in the () you can see the different types of plots to fill in\n",
    "plt.xlabel('index')\n",
    "plt.ylabel('value of comments field')\n",
    "plt.title('Line Plot')\n",
    "#line plot is usually used over time, since this isn't over time, not the best format"
   ]
  },
  {
   "cell_type": "code",
   "execution_count": 135,
   "metadata": {},
   "outputs": [
    {
     "data": {
      "text/plain": [
       "Text(0.5, 0, 'Comments')"
      ]
     },
     "execution_count": 135,
     "metadata": {},
     "output_type": "execute_result"
    },
    {
     "data": {
      "image/png": "[encoded data removed]",
      "text/plain": [
       "<Figure size 432x288 with 1 Axes>"
      ]
     },
     "metadata": {
      "needs_background": "light"
     },
     "output_type": "display_data"
    }
   ],
   "source": [
    "ted.comments.plot(kind = 'hist') #histogram creates 10 bins between most and least\n",
    "plt.xlabel('Comments')\n",
    "#shows us most talks have 0-600 comments"
   ]
  },
  {
   "cell_type": "code",
   "execution_count": 136,
   "metadata": {},
   "outputs": [
    {
     "data": {
      "text/plain": [
       "Text(0.5, 0, 'Comments')"
      ]
     },
     "execution_count": 136,
     "metadata": {},
     "output_type": "execute_result"
    },
    {
     "data": {
      "image/png": "[encoded data removed]",
      "text/plain": [
       "<Figure size 432x288 with 1 Axes>"
      ]
     },
     "metadata": {
      "needs_background": "light"
     },
     "output_type": "display_data"
    }
   ],
   "source": [
    "ted[ted.comments<1000].comments.plot(kind = 'hist') #majority of the comments\n",
    "plt.xlabel('Comments')"
   ]
  },
  {
   "cell_type": "code",
   "execution_count": 137,
   "metadata": {},
   "outputs": [
    {
     "data": {
      "text/plain": [
       "Text(0.5, 0, 'Comments')"
      ]
     },
     "execution_count": 137,
     "metadata": {},
     "output_type": "execute_result"
    },
    {
     "data": {
      "image/png": "[encoded data removed]",
      "text/plain": [
       "<Figure size 432x288 with 1 Axes>"
      ]
     },
     "metadata": {
      "needs_background": "light"
     },
     "output_type": "display_data"
    }
   ],
   "source": [
    "ted[ted.comments>1000].comments.plot(kind = 'hist') #\n",
    "plt.xlabel('Comments')"
   ]
  },
  {
   "cell_type": "code",
   "execution_count": 138,
   "metadata": {},
   "outputs": [
    {
     "data": {
      "text/plain": [
       "<matplotlib.axes._subplots.AxesSubplot at 0x32abfe898>"
      ]
     },
     "execution_count": 138,
     "metadata": {},
     "output_type": "execute_result"
    },
    {
     "data": {
      "image/png": "[encoded data removed]",
      "text/plain": [
       "<Figure size 432x288 with 1 Axes>"
      ]
     },
     "metadata": {
      "needs_background": "light"
     },
     "output_type": "display_data"
    }
   ],
   "source": [
    "ted.query('comments<1000').comments.plot(kind='hist')"
   ]
  },
  {
   "cell_type": "code",
   "execution_count": 139,
   "metadata": {},
   "outputs": [
    {
     "data": {
      "text/plain": [
       "<matplotlib.axes._subplots.AxesSubplot at 0x32abefc18>"
      ]
     },
     "execution_count": 139,
     "metadata": {},
     "output_type": "execute_result"
    },
    {
     "data": {
      "image/png": "[encoded data removed]",
      "text/plain": [
       "<Figure size 432x288 with 1 Axes>"
      ]
     },
     "metadata": {
      "needs_background": "light"
     },
     "output_type": "display_data"
    }
   ],
   "source": [
    "ted.loc[ted.comments<1000, 'comments'].plot(kind='hist') #loc allows you to select multiple things in multiple ways."
   ]
  },
  {
   "cell_type": "code",
   "execution_count": 140,
   "metadata": {},
   "outputs": [
    {
     "data": {
      "text/plain": [
       "<matplotlib.axes._subplots.AxesSubplot at 0x32adf9a20>"
      ]
     },
     "execution_count": 140,
     "metadata": {},
     "output_type": "execute_result"
    },
    {
     "data": {
      "image/png": "[encoded data removed]",
      "text/plain": [
       "<Figure size 432x288 with 1 Axes>"
      ]
     },
     "metadata": {
      "needs_background": "light"
     },
     "output_type": "display_data"
    }
   ],
   "source": [
    "#increase the number of bins?\n",
    "ted.loc[ted.comments<1000, 'comments'].plot(kind='hist', bins=20)"
   ]
  },
  {
   "cell_type": "code",
   "execution_count": 141,
   "metadata": {},
   "outputs": [
    {
     "data": {
      "text/plain": [
       "<matplotlib.axes._subplots.AxesSubplot at 0x32aed59b0>"
      ]
     },
     "execution_count": 141,
     "metadata": {},
     "output_type": "execute_result"
    },
    {
     "data": {
      "image/png": "[encoded data removed]",
      "text/plain": [
       "<Figure size 432x288 with 1 Axes>"
      ]
     },
     "metadata": {
      "needs_background": "light"
     },
     "output_type": "display_data"
    }
   ],
   "source": [
    "ted.loc[ted.comments<1000, 'comments'].plot(kind='box')\n",
    "#black dots are outliers, majority are in the box, histogram turned vertically, too many outliers to be informative"
   ]
  },
  {
   "cell_type": "markdown",
   "metadata": {},
   "source": [
    "# 4. Plot the number of talks that took place each year\n",
    "\n",
    "1. read the documentation; both on the dataset and on pandas\n",
    "\n",
    "2. use the datetime data type for dates and times; provides convenient attributes\n",
    "\n",
    "3. check your work as you go; random sample to check\n",
    "\n",
    "4. consider excluding data if it might not be relevent; like the last year dropping off bc we didn't have all the data."
   ]
  },
  {
   "cell_type": "code",
   "execution_count": 144,
   "metadata": {},
   "outputs": [
    {
     "data": {
      "text/plain": [
       "0              TED2006\n",
       "1              TED2006\n",
       "2              TED2006\n",
       "3              TED2006\n",
       "4              TED2006\n",
       "5              TED2006\n",
       "6              TED2006\n",
       "7              TED2006\n",
       "8              TED2006\n",
       "9              TED2006\n",
       "10             TED2006\n",
       "11             TED2006\n",
       "12             TED2006\n",
       "13             TED2006\n",
       "14             TED2006\n",
       "15             TED2006\n",
       "16             TED2004\n",
       "17             TED2006\n",
       "18             TED2005\n",
       "19      TEDGlobal 2005\n",
       "20             TED2006\n",
       "21             TED2004\n",
       "22             TED2006\n",
       "23             TED2006\n",
       "24             TED2004\n",
       "25      TEDGlobal 2005\n",
       "26      TEDGlobal 2005\n",
       "27             TED2004\n",
       "28             TED2004\n",
       "29             TED2004\n",
       "             ...      \n",
       "2520           TED2017\n",
       "2521      TEDxStanford\n",
       "2522           TED2017\n",
       "2523      TEDxCrenshaw\n",
       "2524           TED2017\n",
       "2525        TEDxSydney\n",
       "2526           TED2017\n",
       "2527      TEDxStanford\n",
       "2528       TEDxHamburg\n",
       "2529        TEDxExeter\n",
       "2530           TED2017\n",
       "2531         TEDxGhent\n",
       "2532           TED2017\n",
       "2533           TED2017\n",
       "2534         TEDxSkoll\n",
       "2535    TEDGlobal 2017\n",
       "2536      TEDxMileHigh\n",
       "2537           TED2017\n",
       "2538        TEDxZurich\n",
       "2539           TED2017\n",
       "2540           TED@UPS\n",
       "2541    TEDxManchester\n",
       "2542    TEDGlobal 2017\n",
       "2543           TED2017\n",
       "2544    TEDGlobal 2017\n",
       "2545           TED2017\n",
       "2546           TED2017\n",
       "2547           TED2017\n",
       "2548      TEDxMileHigh\n",
       "2549           TED2017\n",
       "Name: event, Length: 2550, dtype: object"
      ]
     },
     "execution_count": 144,
     "metadata": {},
     "output_type": "execute_result"
    }
   ],
   "source": [
    "ted.event"
   ]
  },
  {
   "cell_type": "code",
   "execution_count": 143,
   "metadata": {},
   "outputs": [
    {
     "data": {
      "text/plain": [
       "391                  TED2009\n",
       "646                  TED2010\n",
       "2128        TEDGlobal>London\n",
       "134           TEDGlobal 2007\n",
       "138                  TED2007\n",
       "2294                  TEDNYC\n",
       "1120    TEDxYouth@Manchester\n",
       "1289          TEDGlobal 2012\n",
       "1897          TEDGlobal 2014\n",
       "925                  TED2011\n",
       "Name: event, dtype: object"
      ]
     },
     "execution_count": 143,
     "metadata": {},
     "output_type": "execute_result"
    }
   ],
   "source": [
    "ted.event.sample(10)\n",
    "#not all of them have a year"
   ]
  },
  {
   "cell_type": "code",
   "execution_count": 146,
   "metadata": {},
   "outputs": [
    {
     "data": {
      "text/plain": [
       "0    1140825600\n",
       "1    1140825600\n",
       "2    1140739200\n",
       "3    1140912000\n",
       "4    1140566400\n",
       "Name: film_date, dtype: int64"
      ]
     },
     "execution_count": 146,
     "metadata": {},
     "output_type": "execute_result"
    }
   ],
   "source": [
    "ted.film_date.head()"
   ]
  },
  {
   "cell_type": "code",
   "execution_count": 147,
   "metadata": {},
   "outputs": [
    {
     "data": {
      "text/plain": [
       "0      1970-01-01 00:00:01.140825600\n",
       "1      1970-01-01 00:00:01.140825600\n",
       "2      1970-01-01 00:00:01.140739200\n",
       "3      1970-01-01 00:00:01.140912000\n",
       "4      1970-01-01 00:00:01.140566400\n",
       "5      1970-01-01 00:00:01.138838400\n",
       "6      1970-01-01 00:00:01.140739200\n",
       "7      1970-01-01 00:00:01.140652800\n",
       "8      1970-01-01 00:00:01.138838400\n",
       "9      1970-01-01 00:00:01.140825600\n",
       "10     1970-01-01 00:00:01.140912000\n",
       "11     1970-01-01 00:00:01.140912000\n",
       "12     1970-01-01 00:00:01.140652800\n",
       "13     1970-01-01 00:00:01.139184000\n",
       "14     1970-01-01 00:00:01.140652800\n",
       "15     1970-01-01 00:00:01.140652800\n",
       "16     1970-01-01 00:00:01.077753600\n",
       "17     1970-01-01 00:00:01.140739200\n",
       "18     1970-01-01 00:00:01.109289600\n",
       "19     1970-01-01 00:00:01.121299200\n",
       "20     1970-01-01 00:00:01.140652800\n",
       "21     1970-01-01 00:00:01.077580800\n",
       "22     1970-01-01 00:00:01.140652800\n",
       "23     1970-01-01 00:00:01.140739200\n",
       "24     1970-01-01 00:00:01.075852800\n",
       "25     1970-01-01 00:00:01.121299200\n",
       "26     1970-01-01 00:00:01.120694400\n",
       "27     1970-01-01 00:00:01.077840000\n",
       "28     1970-01-01 00:00:01.077753600\n",
       "29     1970-01-01 00:00:01.075680000\n",
       "                    ...             \n",
       "2520   1970-01-01 00:00:01.492992000\n",
       "2521   1970-01-01 00:00:01.461456000\n",
       "2522   1970-01-01 00:00:01.492992000\n",
       "2523   1970-01-01 00:00:01.475884800\n",
       "2524   1970-01-01 00:00:01.492992000\n",
       "2525   1970-01-01 00:00:01.464048000\n",
       "2526   1970-01-01 00:00:01.492992000\n",
       "2527   1970-01-01 00:00:01.492905600\n",
       "2528   1970-01-01 00:00:01.465344000\n",
       "2529   1970-01-01 00:00:01.429833600\n",
       "2530   1970-01-01 00:00:01.492992000\n",
       "2531   1970-01-01 00:00:01.466208000\n",
       "2532   1970-01-01 00:00:01.492992000\n",
       "2533   1970-01-01 00:00:01.492992000\n",
       "2534   1970-01-01 00:00:01.491523200\n",
       "2535   1970-01-01 00:00:01.503792000\n",
       "2536   1970-01-01 00:00:01.499472000\n",
       "2537   1970-01-01 00:00:01.492992000\n",
       "2538   1970-01-01 00:00:01.478822400\n",
       "2539   1970-01-01 00:00:01.503792000\n",
       "2540   1970-01-01 00:00:01.500508800\n",
       "2541   1970-01-01 00:00:01.487462400\n",
       "2542   1970-01-01 00:00:01.503792000\n",
       "2543   1970-01-01 00:00:01.492992000\n",
       "2544   1970-01-01 00:00:01.503792000\n",
       "2545   1970-01-01 00:00:01.496707200\n",
       "2546   1970-01-01 00:00:01.492992000\n",
       "2547   1970-01-01 00:00:01.492992000\n",
       "2548   1970-01-01 00:00:01.499472000\n",
       "2549   1970-01-01 00:00:01.492992000\n",
       "Name: film_date, Length: 2550, dtype: datetime64[ns]"
      ]
     },
     "execution_count": 147,
     "metadata": {},
     "output_type": "execute_result"
    }
   ],
   "source": [
    "pd.to_datetime(ted.film_date)\n",
    "#usually good results\n",
    "#these are not good."
   ]
  },
  {
   "cell_type": "code",
   "execution_count": 148,
   "metadata": {},
   "outputs": [
    {
     "data": {
      "text/plain": [
       "0      2006-02-25\n",
       "1      2006-02-25\n",
       "2      2006-02-24\n",
       "3      2006-02-26\n",
       "4      2006-02-22\n",
       "5      2006-02-02\n",
       "6      2006-02-24\n",
       "7      2006-02-23\n",
       "8      2006-02-02\n",
       "9      2006-02-25\n",
       "10     2006-02-26\n",
       "11     2006-02-26\n",
       "12     2006-02-23\n",
       "13     2006-02-06\n",
       "14     2006-02-23\n",
       "15     2006-02-23\n",
       "16     2004-02-26\n",
       "17     2006-02-24\n",
       "18     2005-02-25\n",
       "19     2005-07-14\n",
       "20     2006-02-23\n",
       "21     2004-02-24\n",
       "22     2006-02-23\n",
       "23     2006-02-24\n",
       "24     2004-02-04\n",
       "25     2005-07-14\n",
       "26     2005-07-07\n",
       "27     2004-02-27\n",
       "28     2004-02-26\n",
       "29     2004-02-02\n",
       "          ...    \n",
       "2520   2017-04-24\n",
       "2521   2016-04-24\n",
       "2522   2017-04-24\n",
       "2523   2016-10-08\n",
       "2524   2017-04-24\n",
       "2525   2016-05-24\n",
       "2526   2017-04-24\n",
       "2527   2017-04-23\n",
       "2528   2016-06-08\n",
       "2529   2015-04-24\n",
       "2530   2017-04-24\n",
       "2531   2016-06-18\n",
       "2532   2017-04-24\n",
       "2533   2017-04-24\n",
       "2534   2017-04-07\n",
       "2535   2017-08-27\n",
       "2536   2017-07-08\n",
       "2537   2017-04-24\n",
       "2538   2016-11-11\n",
       "2539   2017-08-27\n",
       "2540   2017-07-20\n",
       "2541   2017-02-19\n",
       "2542   2017-08-27\n",
       "2543   2017-04-24\n",
       "2544   2017-08-27\n",
       "2545   2017-06-06\n",
       "2546   2017-04-24\n",
       "2547   2017-04-24\n",
       "2548   2017-07-08\n",
       "2549   2017-04-24\n",
       "Name: film_date, Length: 2550, dtype: datetime64[ns]"
      ]
     },
     "execution_count": 148,
     "metadata": {},
     "output_type": "execute_result"
    }
   ],
   "source": [
    "#google pd.to_datetime for unix.\n",
    "pd.to_datetime(ted.film_date, unit='s')"
   ]
  },
  {
   "cell_type": "code",
   "execution_count": 149,
   "metadata": {},
   "outputs": [],
   "source": [
    "#create a new column\n",
    "ted['film_datetime'] = pd.to_datetime(ted.film_date, unit='s')"
   ]
  },
  {
   "cell_type": "code",
   "execution_count": 151,
   "metadata": {},
   "outputs": [
    {
     "data": {
      "text/html": [
       "<div>\n",
       "<style scoped>\n",
       "    .dataframe tbody tr th:only-of-type {\n",
       "        vertical-align: middle;\n",
       "    }\n",
       "\n",
       "    .dataframe tbody tr th {\n",
       "        vertical-align: top;\n",
       "    }\n",
       "\n",
       "    .dataframe thead th {\n",
       "        text-align: right;\n",
       "    }\n",
       "</style>\n",
       "<table border=\"1\" class=\"dataframe\">\n",
       "  <thead>\n",
       "    <tr style=\"text-align: right;\">\n",
       "      <th></th>\n",
       "      <th>event</th>\n",
       "      <th>film_datetime</th>\n",
       "    </tr>\n",
       "  </thead>\n",
       "  <tbody>\n",
       "    <tr>\n",
       "      <th>128</th>\n",
       "      <td>TEDGlobal 2007</td>\n",
       "      <td>2007-06-07</td>\n",
       "    </tr>\n",
       "    <tr>\n",
       "      <th>1442</th>\n",
       "      <td>TEDxCaltech</td>\n",
       "      <td>2013-01-18</td>\n",
       "    </tr>\n",
       "    <tr>\n",
       "      <th>1642</th>\n",
       "      <td>TEDxBratislava</td>\n",
       "      <td>2013-07-18</td>\n",
       "    </tr>\n",
       "    <tr>\n",
       "      <th>1115</th>\n",
       "      <td>TEDxBrussels</td>\n",
       "      <td>2011-11-17</td>\n",
       "    </tr>\n",
       "    <tr>\n",
       "      <th>1280</th>\n",
       "      <td>TEDGlobal 2012</td>\n",
       "      <td>2012-06-28</td>\n",
       "    </tr>\n",
       "  </tbody>\n",
       "</table>\n",
       "</div>"
      ],
      "text/plain": [
       "               event film_datetime\n",
       "128   TEDGlobal 2007    2007-06-07\n",
       "1442     TEDxCaltech    2013-01-18\n",
       "1642  TEDxBratislava    2013-07-18\n",
       "1115    TEDxBrussels    2011-11-17\n",
       "1280  TEDGlobal 2012    2012-06-28"
      ]
     },
     "execution_count": 151,
     "metadata": {},
     "output_type": "execute_result"
    }
   ],
   "source": [
    "ted[['event', 'film_datetime']].sample(5)\n",
    "#pulling up two columns"
   ]
  },
  {
   "cell_type": "code",
   "execution_count": 152,
   "metadata": {},
   "outputs": [
    {
     "data": {
      "text/html": [
       "<div>\n",
       "<style scoped>\n",
       "    .dataframe tbody tr th:only-of-type {\n",
       "        vertical-align: middle;\n",
       "    }\n",
       "\n",
       "    .dataframe tbody tr th {\n",
       "        vertical-align: top;\n",
       "    }\n",
       "\n",
       "    .dataframe thead th {\n",
       "        text-align: right;\n",
       "    }\n",
       "</style>\n",
       "<table border=\"1\" class=\"dataframe\">\n",
       "  <thead>\n",
       "    <tr style=\"text-align: right;\">\n",
       "      <th></th>\n",
       "      <th>event</th>\n",
       "      <th>film_datetime</th>\n",
       "    </tr>\n",
       "  </thead>\n",
       "  <tbody>\n",
       "    <tr>\n",
       "      <th>0</th>\n",
       "      <td>TED2006</td>\n",
       "      <td>2006-02-25</td>\n",
       "    </tr>\n",
       "    <tr>\n",
       "      <th>1</th>\n",
       "      <td>TED2006</td>\n",
       "      <td>2006-02-25</td>\n",
       "    </tr>\n",
       "    <tr>\n",
       "      <th>2</th>\n",
       "      <td>TED2006</td>\n",
       "      <td>2006-02-24</td>\n",
       "    </tr>\n",
       "    <tr>\n",
       "      <th>3</th>\n",
       "      <td>TED2006</td>\n",
       "      <td>2006-02-26</td>\n",
       "    </tr>\n",
       "    <tr>\n",
       "      <th>4</th>\n",
       "      <td>TED2006</td>\n",
       "      <td>2006-02-22</td>\n",
       "    </tr>\n",
       "    <tr>\n",
       "      <th>5</th>\n",
       "      <td>TED2006</td>\n",
       "      <td>2006-02-02</td>\n",
       "    </tr>\n",
       "    <tr>\n",
       "      <th>6</th>\n",
       "      <td>TED2006</td>\n",
       "      <td>2006-02-24</td>\n",
       "    </tr>\n",
       "    <tr>\n",
       "      <th>7</th>\n",
       "      <td>TED2006</td>\n",
       "      <td>2006-02-23</td>\n",
       "    </tr>\n",
       "    <tr>\n",
       "      <th>8</th>\n",
       "      <td>TED2006</td>\n",
       "      <td>2006-02-02</td>\n",
       "    </tr>\n",
       "    <tr>\n",
       "      <th>9</th>\n",
       "      <td>TED2006</td>\n",
       "      <td>2006-02-25</td>\n",
       "    </tr>\n",
       "    <tr>\n",
       "      <th>10</th>\n",
       "      <td>TED2006</td>\n",
       "      <td>2006-02-26</td>\n",
       "    </tr>\n",
       "    <tr>\n",
       "      <th>11</th>\n",
       "      <td>TED2006</td>\n",
       "      <td>2006-02-26</td>\n",
       "    </tr>\n",
       "    <tr>\n",
       "      <th>12</th>\n",
       "      <td>TED2006</td>\n",
       "      <td>2006-02-23</td>\n",
       "    </tr>\n",
       "    <tr>\n",
       "      <th>13</th>\n",
       "      <td>TED2006</td>\n",
       "      <td>2006-02-06</td>\n",
       "    </tr>\n",
       "    <tr>\n",
       "      <th>14</th>\n",
       "      <td>TED2006</td>\n",
       "      <td>2006-02-23</td>\n",
       "    </tr>\n",
       "    <tr>\n",
       "      <th>15</th>\n",
       "      <td>TED2006</td>\n",
       "      <td>2006-02-23</td>\n",
       "    </tr>\n",
       "    <tr>\n",
       "      <th>16</th>\n",
       "      <td>TED2004</td>\n",
       "      <td>2004-02-26</td>\n",
       "    </tr>\n",
       "    <tr>\n",
       "      <th>17</th>\n",
       "      <td>TED2006</td>\n",
       "      <td>2006-02-24</td>\n",
       "    </tr>\n",
       "    <tr>\n",
       "      <th>18</th>\n",
       "      <td>TED2005</td>\n",
       "      <td>2005-02-25</td>\n",
       "    </tr>\n",
       "    <tr>\n",
       "      <th>19</th>\n",
       "      <td>TEDGlobal 2005</td>\n",
       "      <td>2005-07-14</td>\n",
       "    </tr>\n",
       "    <tr>\n",
       "      <th>20</th>\n",
       "      <td>TED2006</td>\n",
       "      <td>2006-02-23</td>\n",
       "    </tr>\n",
       "    <tr>\n",
       "      <th>21</th>\n",
       "      <td>TED2004</td>\n",
       "      <td>2004-02-24</td>\n",
       "    </tr>\n",
       "    <tr>\n",
       "      <th>22</th>\n",
       "      <td>TED2006</td>\n",
       "      <td>2006-02-23</td>\n",
       "    </tr>\n",
       "    <tr>\n",
       "      <th>23</th>\n",
       "      <td>TED2006</td>\n",
       "      <td>2006-02-24</td>\n",
       "    </tr>\n",
       "    <tr>\n",
       "      <th>24</th>\n",
       "      <td>TED2004</td>\n",
       "      <td>2004-02-04</td>\n",
       "    </tr>\n",
       "    <tr>\n",
       "      <th>25</th>\n",
       "      <td>TEDGlobal 2005</td>\n",
       "      <td>2005-07-14</td>\n",
       "    </tr>\n",
       "    <tr>\n",
       "      <th>26</th>\n",
       "      <td>TEDGlobal 2005</td>\n",
       "      <td>2005-07-07</td>\n",
       "    </tr>\n",
       "    <tr>\n",
       "      <th>27</th>\n",
       "      <td>TED2004</td>\n",
       "      <td>2004-02-27</td>\n",
       "    </tr>\n",
       "    <tr>\n",
       "      <th>28</th>\n",
       "      <td>TED2004</td>\n",
       "      <td>2004-02-26</td>\n",
       "    </tr>\n",
       "    <tr>\n",
       "      <th>29</th>\n",
       "      <td>TED2004</td>\n",
       "      <td>2004-02-02</td>\n",
       "    </tr>\n",
       "    <tr>\n",
       "      <th>...</th>\n",
       "      <td>...</td>\n",
       "      <td>...</td>\n",
       "    </tr>\n",
       "    <tr>\n",
       "      <th>2520</th>\n",
       "      <td>TED2017</td>\n",
       "      <td>2017-04-24</td>\n",
       "    </tr>\n",
       "    <tr>\n",
       "      <th>2521</th>\n",
       "      <td>TEDxStanford</td>\n",
       "      <td>2016-04-24</td>\n",
       "    </tr>\n",
       "    <tr>\n",
       "      <th>2522</th>\n",
       "      <td>TED2017</td>\n",
       "      <td>2017-04-24</td>\n",
       "    </tr>\n",
       "    <tr>\n",
       "      <th>2523</th>\n",
       "      <td>TEDxCrenshaw</td>\n",
       "      <td>2016-10-08</td>\n",
       "    </tr>\n",
       "    <tr>\n",
       "      <th>2524</th>\n",
       "      <td>TED2017</td>\n",
       "      <td>2017-04-24</td>\n",
       "    </tr>\n",
       "    <tr>\n",
       "      <th>2525</th>\n",
       "      <td>TEDxSydney</td>\n",
       "      <td>2016-05-24</td>\n",
       "    </tr>\n",
       "    <tr>\n",
       "      <th>2526</th>\n",
       "      <td>TED2017</td>\n",
       "      <td>2017-04-24</td>\n",
       "    </tr>\n",
       "    <tr>\n",
       "      <th>2527</th>\n",
       "      <td>TEDxStanford</td>\n",
       "      <td>2017-04-23</td>\n",
       "    </tr>\n",
       "    <tr>\n",
       "      <th>2528</th>\n",
       "      <td>TEDxHamburg</td>\n",
       "      <td>2016-06-08</td>\n",
       "    </tr>\n",
       "    <tr>\n",
       "      <th>2529</th>\n",
       "      <td>TEDxExeter</td>\n",
       "      <td>2015-04-24</td>\n",
       "    </tr>\n",
       "    <tr>\n",
       "      <th>2530</th>\n",
       "      <td>TED2017</td>\n",
       "      <td>2017-04-24</td>\n",
       "    </tr>\n",
       "    <tr>\n",
       "      <th>2531</th>\n",
       "      <td>TEDxGhent</td>\n",
       "      <td>2016-06-18</td>\n",
       "    </tr>\n",
       "    <tr>\n",
       "      <th>2532</th>\n",
       "      <td>TED2017</td>\n",
       "      <td>2017-04-24</td>\n",
       "    </tr>\n",
       "    <tr>\n",
       "      <th>2533</th>\n",
       "      <td>TED2017</td>\n",
       "      <td>2017-04-24</td>\n",
       "    </tr>\n",
       "    <tr>\n",
       "      <th>2534</th>\n",
       "      <td>TEDxSkoll</td>\n",
       "      <td>2017-04-07</td>\n",
       "    </tr>\n",
       "    <tr>\n",
       "      <th>2535</th>\n",
       "      <td>TEDGlobal 2017</td>\n",
       "      <td>2017-08-27</td>\n",
       "    </tr>\n",
       "    <tr>\n",
       "      <th>2536</th>\n",
       "      <td>TEDxMileHigh</td>\n",
       "      <td>2017-07-08</td>\n",
       "    </tr>\n",
       "    <tr>\n",
       "      <th>2537</th>\n",
       "      <td>TED2017</td>\n",
       "      <td>2017-04-24</td>\n",
       "    </tr>\n",
       "    <tr>\n",
       "      <th>2538</th>\n",
       "      <td>TEDxZurich</td>\n",
       "      <td>2016-11-11</td>\n",
       "    </tr>\n",
       "    <tr>\n",
       "      <th>2539</th>\n",
       "      <td>TED2017</td>\n",
       "      <td>2017-08-27</td>\n",
       "    </tr>\n",
       "    <tr>\n",
       "      <th>2540</th>\n",
       "      <td>TED@UPS</td>\n",
       "      <td>2017-07-20</td>\n",
       "    </tr>\n",
       "    <tr>\n",
       "      <th>2541</th>\n",
       "      <td>TEDxManchester</td>\n",
       "      <td>2017-02-19</td>\n",
       "    </tr>\n",
       "    <tr>\n",
       "      <th>2542</th>\n",
       "      <td>TEDGlobal 2017</td>\n",
       "      <td>2017-08-27</td>\n",
       "    </tr>\n",
       "    <tr>\n",
       "      <th>2543</th>\n",
       "      <td>TED2017</td>\n",
       "      <td>2017-04-24</td>\n",
       "    </tr>\n",
       "    <tr>\n",
       "      <th>2544</th>\n",
       "      <td>TEDGlobal 2017</td>\n",
       "      <td>2017-08-27</td>\n",
       "    </tr>\n",
       "    <tr>\n",
       "      <th>2545</th>\n",
       "      <td>TED2017</td>\n",
       "      <td>2017-06-06</td>\n",
       "    </tr>\n",
       "    <tr>\n",
       "      <th>2546</th>\n",
       "      <td>TED2017</td>\n",
       "      <td>2017-04-24</td>\n",
       "    </tr>\n",
       "    <tr>\n",
       "      <th>2547</th>\n",
       "      <td>TED2017</td>\n",
       "      <td>2017-04-24</td>\n",
       "    </tr>\n",
       "    <tr>\n",
       "      <th>2548</th>\n",
       "      <td>TEDxMileHigh</td>\n",
       "      <td>2017-07-08</td>\n",
       "    </tr>\n",
       "    <tr>\n",
       "      <th>2549</th>\n",
       "      <td>TED2017</td>\n",
       "      <td>2017-04-24</td>\n",
       "    </tr>\n",
       "  </tbody>\n",
       "</table>\n",
       "<p>2550 rows × 2 columns</p>\n",
       "</div>"
      ],
      "text/plain": [
       "               event film_datetime\n",
       "0            TED2006    2006-02-25\n",
       "1            TED2006    2006-02-25\n",
       "2            TED2006    2006-02-24\n",
       "3            TED2006    2006-02-26\n",
       "4            TED2006    2006-02-22\n",
       "5            TED2006    2006-02-02\n",
       "6            TED2006    2006-02-24\n",
       "7            TED2006    2006-02-23\n",
       "8            TED2006    2006-02-02\n",
       "9            TED2006    2006-02-25\n",
       "10           TED2006    2006-02-26\n",
       "11           TED2006    2006-02-26\n",
       "12           TED2006    2006-02-23\n",
       "13           TED2006    2006-02-06\n",
       "14           TED2006    2006-02-23\n",
       "15           TED2006    2006-02-23\n",
       "16           TED2004    2004-02-26\n",
       "17           TED2006    2006-02-24\n",
       "18           TED2005    2005-02-25\n",
       "19    TEDGlobal 2005    2005-07-14\n",
       "20           TED2006    2006-02-23\n",
       "21           TED2004    2004-02-24\n",
       "22           TED2006    2006-02-23\n",
       "23           TED2006    2006-02-24\n",
       "24           TED2004    2004-02-04\n",
       "25    TEDGlobal 2005    2005-07-14\n",
       "26    TEDGlobal 2005    2005-07-07\n",
       "27           TED2004    2004-02-27\n",
       "28           TED2004    2004-02-26\n",
       "29           TED2004    2004-02-02\n",
       "...              ...           ...\n",
       "2520         TED2017    2017-04-24\n",
       "2521    TEDxStanford    2016-04-24\n",
       "2522         TED2017    2017-04-24\n",
       "2523    TEDxCrenshaw    2016-10-08\n",
       "2524         TED2017    2017-04-24\n",
       "2525      TEDxSydney    2016-05-24\n",
       "2526         TED2017    2017-04-24\n",
       "2527    TEDxStanford    2017-04-23\n",
       "2528     TEDxHamburg    2016-06-08\n",
       "2529      TEDxExeter    2015-04-24\n",
       "2530         TED2017    2017-04-24\n",
       "2531       TEDxGhent    2016-06-18\n",
       "2532         TED2017    2017-04-24\n",
       "2533         TED2017    2017-04-24\n",
       "2534       TEDxSkoll    2017-04-07\n",
       "2535  TEDGlobal 2017    2017-08-27\n",
       "2536    TEDxMileHigh    2017-07-08\n",
       "2537         TED2017    2017-04-24\n",
       "2538      TEDxZurich    2016-11-11\n",
       "2539         TED2017    2017-08-27\n",
       "2540         TED@UPS    2017-07-20\n",
       "2541  TEDxManchester    2017-02-19\n",
       "2542  TEDGlobal 2017    2017-08-27\n",
       "2543         TED2017    2017-04-24\n",
       "2544  TEDGlobal 2017    2017-08-27\n",
       "2545         TED2017    2017-06-06\n",
       "2546         TED2017    2017-04-24\n",
       "2547         TED2017    2017-04-24\n",
       "2548    TEDxMileHigh    2017-07-08\n",
       "2549         TED2017    2017-04-24\n",
       "\n",
       "[2550 rows x 2 columns]"
      ]
     },
     "execution_count": 152,
     "metadata": {},
     "output_type": "execute_result"
    }
   ],
   "source": [
    "ted[['event', 'film_datetime']]"
   ]
  },
  {
   "cell_type": "code",
   "execution_count": 154,
   "metadata": {},
   "outputs": [
    {
     "data": {
      "text/plain": [
       "comments                       int64\n",
       "description                   object\n",
       "duration                       int64\n",
       "event                         object\n",
       "film_date                      int64\n",
       "languages                      int64\n",
       "main_speaker                  object\n",
       "name                          object\n",
       "num_speaker                    int64\n",
       "published_date                 int64\n",
       "ratings                       object\n",
       "related_talks                 object\n",
       "speaker_occupation            object\n",
       "tags                          object\n",
       "title                         object\n",
       "url                           object\n",
       "views                          int64\n",
       "comments_per_view            float64\n",
       "views_per_comment            float64\n",
       "film_datetime         datetime64[ns]\n",
       "dtype: object"
      ]
     },
     "execution_count": 154,
     "metadata": {},
     "output_type": "execute_result"
    }
   ],
   "source": [
    "ted.dtypes"
   ]
  },
  {
   "cell_type": "code",
   "execution_count": 156,
   "metadata": {},
   "outputs": [
    {
     "data": {
      "text/plain": [
       "0       2006\n",
       "1       2006\n",
       "2       2006\n",
       "3       2006\n",
       "4       2006\n",
       "5       2006\n",
       "6       2006\n",
       "7       2006\n",
       "8       2006\n",
       "9       2006\n",
       "10      2006\n",
       "11      2006\n",
       "12      2006\n",
       "13      2006\n",
       "14      2006\n",
       "15      2006\n",
       "16      2004\n",
       "17      2006\n",
       "18      2005\n",
       "19      2005\n",
       "20      2006\n",
       "21      2004\n",
       "22      2006\n",
       "23      2006\n",
       "24      2004\n",
       "25      2005\n",
       "26      2005\n",
       "27      2004\n",
       "28      2004\n",
       "29      2004\n",
       "        ... \n",
       "2520    2017\n",
       "2521    2016\n",
       "2522    2017\n",
       "2523    2016\n",
       "2524    2017\n",
       "2525    2016\n",
       "2526    2017\n",
       "2527    2017\n",
       "2528    2016\n",
       "2529    2015\n",
       "2530    2017\n",
       "2531    2016\n",
       "2532    2017\n",
       "2533    2017\n",
       "2534    2017\n",
       "2535    2017\n",
       "2536    2017\n",
       "2537    2017\n",
       "2538    2016\n",
       "2539    2017\n",
       "2540    2017\n",
       "2541    2017\n",
       "2542    2017\n",
       "2543    2017\n",
       "2544    2017\n",
       "2545    2017\n",
       "2546    2017\n",
       "2547    2017\n",
       "2548    2017\n",
       "2549    2017\n",
       "Name: film_datetime, Length: 2550, dtype: int64"
      ]
     },
     "execution_count": 156,
     "metadata": {},
     "output_type": "execute_result"
    }
   ],
   "source": [
    "ted.film_datetime.dt.year\n",
    "#dayofweek is another\n",
    "#day of year\n",
    "#available bc it's datetime datatype"
   ]
  },
  {
   "cell_type": "code",
   "execution_count": 158,
   "metadata": {},
   "outputs": [
    {
     "data": {
      "text/plain": [
       "0    2006\n",
       "1    2006\n",
       "2    2006\n",
       "3    2006\n",
       "4    2006\n",
       "Name: film_datetime, dtype: int64"
      ]
     },
     "execution_count": 158,
     "metadata": {},
     "output_type": "execute_result"
    }
   ],
   "source": [
    "ted.film_datetime.dt.year.head()"
   ]
  },
  {
   "cell_type": "code",
   "execution_count": 157,
   "metadata": {},
   "outputs": [
    {
     "data": {
      "text/plain": [
       "0              ted2006\n",
       "1              ted2006\n",
       "2              ted2006\n",
       "3              ted2006\n",
       "4              ted2006\n",
       "5              ted2006\n",
       "6              ted2006\n",
       "7              ted2006\n",
       "8              ted2006\n",
       "9              ted2006\n",
       "10             ted2006\n",
       "11             ted2006\n",
       "12             ted2006\n",
       "13             ted2006\n",
       "14             ted2006\n",
       "15             ted2006\n",
       "16             ted2004\n",
       "17             ted2006\n",
       "18             ted2005\n",
       "19      tedglobal 2005\n",
       "20             ted2006\n",
       "21             ted2004\n",
       "22             ted2006\n",
       "23             ted2006\n",
       "24             ted2004\n",
       "25      tedglobal 2005\n",
       "26      tedglobal 2005\n",
       "27             ted2004\n",
       "28             ted2004\n",
       "29             ted2004\n",
       "             ...      \n",
       "2520           ted2017\n",
       "2521      tedxstanford\n",
       "2522           ted2017\n",
       "2523      tedxcrenshaw\n",
       "2524           ted2017\n",
       "2525        tedxsydney\n",
       "2526           ted2017\n",
       "2527      tedxstanford\n",
       "2528       tedxhamburg\n",
       "2529        tedxexeter\n",
       "2530           ted2017\n",
       "2531         tedxghent\n",
       "2532           ted2017\n",
       "2533           ted2017\n",
       "2534         tedxskoll\n",
       "2535    tedglobal 2017\n",
       "2536      tedxmilehigh\n",
       "2537           ted2017\n",
       "2538        tedxzurich\n",
       "2539           ted2017\n",
       "2540           ted@ups\n",
       "2541    tedxmanchester\n",
       "2542    tedglobal 2017\n",
       "2543           ted2017\n",
       "2544    tedglobal 2017\n",
       "2545           ted2017\n",
       "2546           ted2017\n",
       "2547           ted2017\n",
       "2548      tedxmilehigh\n",
       "2549           ted2017\n",
       "Name: event, Length: 2550, dtype: object"
      ]
     },
     "execution_count": 157,
     "metadata": {},
     "output_type": "execute_result"
    }
   ],
   "source": [
    "ted.event.str.lower()"
   ]
  },
  {
   "cell_type": "code",
   "execution_count": 160,
   "metadata": {},
   "outputs": [
    {
     "data": {
      "text/plain": [
       "2013    270\n",
       "2011    270\n",
       "2010    267\n",
       "2012    267\n",
       "2016    246\n",
       "2015    239\n",
       "2014    237\n",
       "2009    232\n",
       "2007    114\n",
       "2017     98\n",
       "2008     84\n",
       "2005     66\n",
       "2006     50\n",
       "2003     33\n",
       "2004     33\n",
       "2002     27\n",
       "1998      6\n",
       "2001      5\n",
       "1983      1\n",
       "1991      1\n",
       "1994      1\n",
       "1990      1\n",
       "1984      1\n",
       "1972      1\n",
       "Name: film_datetime, dtype: int64"
      ]
     },
     "execution_count": 160,
     "metadata": {},
     "output_type": "execute_result"
    }
   ],
   "source": [
    "ted.film_datetime.dt.year.value_counts()"
   ]
  },
  {
   "cell_type": "code",
   "execution_count": 161,
   "metadata": {},
   "outputs": [
    {
     "data": {
      "text/plain": [
       "<matplotlib.axes._subplots.AxesSubplot at 0x32b144c88>"
      ]
     },
     "execution_count": 161,
     "metadata": {},
     "output_type": "execute_result"
    },
    {
     "data": {
      "image/png": "[encoded data removed]",
      "text/plain": [
       "<Figure size 432x288 with 1 Axes>"
      ]
     },
     "metadata": {
      "needs_background": "light"
     },
     "output_type": "display_data"
    }
   ],
   "source": [
    "ted.film_datetime.dt.year.value_counts().plot(kind='bar')\n",
    "#issue other than sorting, it's excluding years so misleading"
   ]
  },
  {
   "cell_type": "code",
   "execution_count": 162,
   "metadata": {},
   "outputs": [
    {
     "data": {
      "text/plain": [
       "<matplotlib.axes._subplots.AxesSubplot at 0x32afae390>"
      ]
     },
     "execution_count": 162,
     "metadata": {},
     "output_type": "execute_result"
    },
    {
     "data": {
      "image/png": "[encoded data removed]",
      "text/plain": [
       "<Figure size 432x288 with 1 Axes>"
      ]
     },
     "metadata": {
      "needs_background": "light"
     },
     "output_type": "display_data"
    }
   ],
   "source": [
    "ted.film_datetime.dt.year.value_counts().plot()\n",
    "#line plot would be better but it's a sorting issue"
   ]
  },
  {
   "cell_type": "code",
   "execution_count": 163,
   "metadata": {},
   "outputs": [
    {
     "data": {
      "text/plain": [
       "2013    270\n",
       "2011    270\n",
       "2010    267\n",
       "2012    267\n",
       "2016    246\n",
       "2015    239\n",
       "2014    237\n",
       "2009    232\n",
       "2007    114\n",
       "2017     98\n",
       "2008     84\n",
       "2005     66\n",
       "2006     50\n",
       "2003     33\n",
       "2004     33\n",
       "2002     27\n",
       "1998      6\n",
       "2001      5\n",
       "1983      1\n",
       "1991      1\n",
       "1994      1\n",
       "1990      1\n",
       "1984      1\n",
       "1972      1\n",
       "Name: film_datetime, dtype: int64"
      ]
     },
     "execution_count": 163,
     "metadata": {},
     "output_type": "execute_result"
    }
   ],
   "source": [
    "ted.film_datetime.dt.year.value_counts()\n",
    "#pandas plots in the order it appears, we're out of order here."
   ]
  },
  {
   "cell_type": "code",
   "execution_count": 164,
   "metadata": {},
   "outputs": [
    {
     "data": {
      "text/plain": [
       "1972      1\n",
       "1983      1\n",
       "1984      1\n",
       "1990      1\n",
       "1991      1\n",
       "1994      1\n",
       "1998      6\n",
       "2001      5\n",
       "2002     27\n",
       "2003     33\n",
       "2004     33\n",
       "2005     66\n",
       "2006     50\n",
       "2007    114\n",
       "2008     84\n",
       "2009    232\n",
       "2010    267\n",
       "2011    270\n",
       "2012    267\n",
       "2013    270\n",
       "2014    237\n",
       "2015    239\n",
       "2016    246\n",
       "2017     98\n",
       "Name: film_datetime, dtype: int64"
      ]
     },
     "execution_count": 164,
     "metadata": {},
     "output_type": "execute_result"
    }
   ],
   "source": [
    "ted.film_datetime.dt.year.value_counts().sort_index()\n",
    "#sort index sorts the left side making it our x axis."
   ]
  },
  {
   "cell_type": "code",
   "execution_count": 166,
   "metadata": {},
   "outputs": [
    {
     "data": {
      "text/plain": [
       "<matplotlib.axes._subplots.AxesSubplot at 0x32b2d6550>"
      ]
     },
     "execution_count": 166,
     "metadata": {},
     "output_type": "execute_result"
    },
    {
     "data": {
      "image/png": "[encoded data removed]",
      "text/plain": [
       "<Figure size 432x288 with 1 Axes>"
      ]
     },
     "metadata": {
      "needs_background": "light"
     },
     "output_type": "display_data"
    }
   ],
   "source": [
    "ted.film_datetime.dt.year.value_counts().sort_index().plot()\n",
    "#not in decline for the end, just incomplete data"
   ]
  },
  {
   "cell_type": "code",
   "execution_count": 167,
   "metadata": {},
   "outputs": [
    {
     "data": {
      "text/plain": [
       "Timestamp('2017-08-27 00:00:00')"
      ]
     },
     "execution_count": 167,
     "metadata": {},
     "output_type": "execute_result"
    }
   ],
   "source": [
    "ted.film_datetime.max()\n",
    "#data ends in middle of 2017"
   ]
  },
  {
   "cell_type": "markdown",
   "metadata": {},
   "source": [
    "# 5. What were the \"best\" events in TED history to attend?\n",
    "\n",
    "1. Think creatively for how you can use the data you have to answer your question; you'll likely not have the PERFECT data to answer your question. If you don't have data to get your answer, don't answer it or go get the data.\n",
    "\n",
    "2. Watch out for small sample sizes; use cound WITH mean to make sure."
   ]
  },
  {
   "cell_type": "code",
   "execution_count": 173,
   "metadata": {},
   "outputs": [
    {
     "data": {
      "text/plain": [
       "TED2014    84\n",
       "TED2009    83\n",
       "TED2016    77\n",
       "TED2013    77\n",
       "TED2015    75\n",
       "Name: event, dtype: int64"
      ]
     },
     "execution_count": 173,
     "metadata": {},
     "output_type": "execute_result"
    }
   ],
   "source": [
    "ted.event.value_counts().head()\n",
    "#looking at the most talks, but we want talk quality which would likely be views"
   ]
  },
  {
   "cell_type": "code",
   "execution_count": 174,
   "metadata": {},
   "outputs": [
    {
     "data": {
      "text/plain": [
       "event\n",
       "AORN Congress                  149818.0\n",
       "Arbejdsglaede Live             971594.0\n",
       "BBC TV                         521974.0\n",
       "Bowery Poetry Club             676741.0\n",
       "Business Innovation Factory    304086.0\n",
       "Name: views, dtype: float64"
      ]
     },
     "execution_count": 174,
     "metadata": {},
     "output_type": "execute_result"
    }
   ],
   "source": [
    "ted.groupby('event').views.mean().head()\n",
    "#groupby means for each event I'm gonna do some aggregation (in this case mean) over the views column in this case"
   ]
  },
  {
   "cell_type": "code",
   "execution_count": 175,
   "metadata": {},
   "outputs": [
    {
     "data": {
      "text/plain": [
       "event\n",
       "TEDxNorrkoping        6569493.0\n",
       "TEDxCreativeCoast     8444981.0\n",
       "TEDxBloomington       9484259.5\n",
       "TEDxHouston          16140250.5\n",
       "TEDxPuget Sound      34309432.0\n",
       "Name: views, dtype: float64"
      ]
     },
     "execution_count": 175,
     "metadata": {},
     "output_type": "execute_result"
    }
   ],
   "source": [
    "ted.groupby('event').views.mean().sort_values().tail()\n",
    "#Puget sound had lots of views but how many talks were in each of these events?"
   ]
  },
  {
   "cell_type": "code",
   "execution_count": 177,
   "metadata": {},
   "outputs": [
    {
     "data": {
      "text/html": [
       "<div>\n",
       "<style scoped>\n",
       "    .dataframe tbody tr th:only-of-type {\n",
       "        vertical-align: middle;\n",
       "    }\n",
       "\n",
       "    .dataframe tbody tr th {\n",
       "        vertical-align: top;\n",
       "    }\n",
       "\n",
       "    .dataframe thead th {\n",
       "        text-align: right;\n",
       "    }\n",
       "</style>\n",
       "<table border=\"1\" class=\"dataframe\">\n",
       "  <thead>\n",
       "    <tr style=\"text-align: right;\">\n",
       "      <th></th>\n",
       "      <th>count</th>\n",
       "      <th>mean</th>\n",
       "    </tr>\n",
       "    <tr>\n",
       "      <th>event</th>\n",
       "      <th></th>\n",
       "      <th></th>\n",
       "    </tr>\n",
       "  </thead>\n",
       "  <tbody>\n",
       "    <tr>\n",
       "      <th>TEDxNorrkoping</th>\n",
       "      <td>1</td>\n",
       "      <td>6569493.0</td>\n",
       "    </tr>\n",
       "    <tr>\n",
       "      <th>TEDxCreativeCoast</th>\n",
       "      <td>1</td>\n",
       "      <td>8444981.0</td>\n",
       "    </tr>\n",
       "    <tr>\n",
       "      <th>TEDxBloomington</th>\n",
       "      <td>2</td>\n",
       "      <td>9484259.5</td>\n",
       "    </tr>\n",
       "    <tr>\n",
       "      <th>TEDxHouston</th>\n",
       "      <td>2</td>\n",
       "      <td>16140250.5</td>\n",
       "    </tr>\n",
       "    <tr>\n",
       "      <th>TEDxPuget Sound</th>\n",
       "      <td>1</td>\n",
       "      <td>34309432.0</td>\n",
       "    </tr>\n",
       "  </tbody>\n",
       "</table>\n",
       "</div>"
      ],
      "text/plain": [
       "                   count        mean\n",
       "event                               \n",
       "TEDxNorrkoping         1   6569493.0\n",
       "TEDxCreativeCoast      1   8444981.0\n",
       "TEDxBloomington        2   9484259.5\n",
       "TEDxHouston            2  16140250.5\n",
       "TEDxPuget Sound        1  34309432.0"
      ]
     },
     "execution_count": 177,
     "metadata": {},
     "output_type": "execute_result"
    }
   ],
   "source": [
    "ted.groupby('event').views.agg(['count', 'mean']).sort_values('mean').tail()\n",
    "#.agg for aggregate going through two lists of functions. have to specify sort, so mean column is the same but now we can see how many talks were at each.\n",
    "#puget sound was just one talk that got all those views"
   ]
  },
  {
   "cell_type": "code",
   "execution_count": 178,
   "metadata": {},
   "outputs": [
    {
     "data": {
      "text/html": [
       "<div>\n",
       "<style scoped>\n",
       "    .dataframe tbody tr th:only-of-type {\n",
       "        vertical-align: middle;\n",
       "    }\n",
       "\n",
       "    .dataframe tbody tr th {\n",
       "        vertical-align: top;\n",
       "    }\n",
       "\n",
       "    .dataframe thead th {\n",
       "        text-align: right;\n",
       "    }\n",
       "</style>\n",
       "<table border=\"1\" class=\"dataframe\">\n",
       "  <thead>\n",
       "    <tr style=\"text-align: right;\">\n",
       "      <th></th>\n",
       "      <th>count</th>\n",
       "      <th>mean</th>\n",
       "      <th>sum</th>\n",
       "    </tr>\n",
       "    <tr>\n",
       "      <th>event</th>\n",
       "      <th></th>\n",
       "      <th></th>\n",
       "      <th></th>\n",
       "    </tr>\n",
       "  </thead>\n",
       "  <tbody>\n",
       "    <tr>\n",
       "      <th>TED2006</th>\n",
       "      <td>45</td>\n",
       "      <td>3.274345e+06</td>\n",
       "      <td>147345533</td>\n",
       "    </tr>\n",
       "    <tr>\n",
       "      <th>TED2015</th>\n",
       "      <td>75</td>\n",
       "      <td>2.011017e+06</td>\n",
       "      <td>150826305</td>\n",
       "    </tr>\n",
       "    <tr>\n",
       "      <th>TEDGlobal 2013</th>\n",
       "      <td>66</td>\n",
       "      <td>2.584163e+06</td>\n",
       "      <td>170554736</td>\n",
       "    </tr>\n",
       "    <tr>\n",
       "      <th>TED2014</th>\n",
       "      <td>84</td>\n",
       "      <td>2.072874e+06</td>\n",
       "      <td>174121423</td>\n",
       "    </tr>\n",
       "    <tr>\n",
       "      <th>TED2013</th>\n",
       "      <td>77</td>\n",
       "      <td>2.302700e+06</td>\n",
       "      <td>177307937</td>\n",
       "    </tr>\n",
       "  </tbody>\n",
       "</table>\n",
       "</div>"
      ],
      "text/plain": [
       "                count          mean        sum\n",
       "event                                         \n",
       "TED2006            45  3.274345e+06  147345533\n",
       "TED2015            75  2.011017e+06  150826305\n",
       "TEDGlobal 2013     66  2.584163e+06  170554736\n",
       "TED2014            84  2.072874e+06  174121423\n",
       "TED2013            77  2.302700e+06  177307937"
      ]
     },
     "execution_count": 178,
     "metadata": {},
     "output_type": "execute_result"
    }
   ],
   "source": [
    "ted.groupby('event').views.agg(['count', 'mean', 'sum']).sort_values('sum').tail()\n",
    "#adding sum to it\n",
    "#2013 had a sum of all those views, but older talks have more time to gain views.\n",
    "#views could be bad talks being passed around and made fun of\n"
   ]
  },
  {
   "cell_type": "markdown",
   "metadata": {},
   "source": [
    "# 6. Unpack the ratings data\n",
    "\n",
    "1. Pay attention to data types in pandas; it impacts every aspect of pandas functionality.\n",
    "\n",
    "2. Use apply any time it is necessary; there are lots of different types of apply need to know when to use what; sometimes it's a bit slow but no biggie"
   ]
  },
  {
   "cell_type": "code",
   "execution_count": 180,
   "metadata": {},
   "outputs": [
    {
     "data": {
      "text/plain": [
       "0    [{'id': 7, 'name': 'Funny', 'count': 19645}, {...\n",
       "1    [{'id': 7, 'name': 'Funny', 'count': 544}, {'i...\n",
       "2    [{'id': 7, 'name': 'Funny', 'count': 964}, {'i...\n",
       "3    [{'id': 3, 'name': 'Courageous', 'count': 760}...\n",
       "4    [{'id': 9, 'name': 'Ingenious', 'count': 3202}...\n",
       "Name: ratings, dtype: object"
      ]
     },
     "execution_count": 180,
     "metadata": {},
     "output_type": "execute_result"
    }
   ],
   "source": [
    "ted.ratings.head()"
   ]
  },
  {
   "cell_type": "code",
   "execution_count": 181,
   "metadata": {},
   "outputs": [
    {
     "data": {
      "text/plain": [
       "\"[{'id': 7, 'name': 'Funny', 'count': 19645}, {'id': 1, 'name': 'Beautiful', 'count': 4573}, {'id': 9, 'name': 'Ingenious', 'count': 6073}, {'id': 3, 'name': 'Courageous', 'count': 3253}, {'id': 11, 'name': 'Longwinded', 'count': 387}, {'id': 2, 'name': 'Confusing', 'count': 242}, {'id': 8, 'name': 'Informative', 'count': 7346}, {'id': 22, 'name': 'Fascinating', 'count': 10581}, {'id': 21, 'name': 'Unconvincing', 'count': 300}, {'id': 24, 'name': 'Persuasive', 'count': 10704}, {'id': 23, 'name': 'Jaw-dropping', 'count': 4439}, {'id': 25, 'name': 'OK', 'count': 1174}, {'id': 26, 'name': 'Obnoxious', 'count': 209}, {'id': 10, 'name': 'Inspiring', 'count': 24924}]\""
      ]
     },
     "execution_count": 181,
     "metadata": {},
     "output_type": "execute_result"
    }
   ],
   "source": [
    "ted.loc[0, 'ratings']\n",
    "#you can use the loc to look at just one index"
   ]
  },
  {
   "cell_type": "code",
   "execution_count": 182,
   "metadata": {},
   "outputs": [
    {
     "data": {
      "text/plain": [
       "\"[{'id': 7, 'name': 'Funny', 'count': 19645}, {'id': 1, 'name': 'Beautiful', 'count': 4573}, {'id': 9, 'name': 'Ingenious', 'count': 6073}, {'id': 3, 'name': 'Courageous', 'count': 3253}, {'id': 11, 'name': 'Longwinded', 'count': 387}, {'id': 2, 'name': 'Confusing', 'count': 242}, {'id': 8, 'name': 'Informative', 'count': 7346}, {'id': 22, 'name': 'Fascinating', 'count': 10581}, {'id': 21, 'name': 'Unconvincing', 'count': 300}, {'id': 24, 'name': 'Persuasive', 'count': 10704}, {'id': 23, 'name': 'Jaw-dropping', 'count': 4439}, {'id': 25, 'name': 'OK', 'count': 1174}, {'id': 26, 'name': 'Obnoxious', 'count': 209}, {'id': 10, 'name': 'Inspiring', 'count': 24924}]\""
      ]
     },
     "execution_count": 182,
     "metadata": {},
     "output_type": "execute_result"
    }
   ],
   "source": [
    "ted.ratings[0]\n",
    "#same thing in a different way\n",
    "#this is a string"
   ]
  },
  {
   "cell_type": "code",
   "execution_count": 185,
   "metadata": {},
   "outputs": [
    {
     "data": {
      "text/plain": [
       "str"
      ]
     },
     "execution_count": 185,
     "metadata": {},
     "output_type": "execute_result"
    }
   ],
   "source": [
    "type(ted.ratings[0])"
   ]
  },
  {
   "cell_type": "code",
   "execution_count": 186,
   "metadata": {},
   "outputs": [],
   "source": [
    "#to unpack the data in the easiest way\n",
    "import ast\n",
    "#abstract syntax tree"
   ]
  },
  {
   "cell_type": "code",
   "execution_count": 187,
   "metadata": {},
   "outputs": [
    {
     "data": {
      "text/plain": [
       "[1, 2, 3]"
      ]
     },
     "execution_count": 187,
     "metadata": {},
     "output_type": "execute_result"
    }
   ],
   "source": [
    "ast.literal_eval('[1,2,3]')"
   ]
  },
  {
   "cell_type": "code",
   "execution_count": 188,
   "metadata": {},
   "outputs": [
    {
     "data": {
      "text/plain": [
       "list"
      ]
     },
     "execution_count": 188,
     "metadata": {},
     "output_type": "execute_result"
    }
   ],
   "source": [
    "type(ast.literal_eval('[1,2,3]'))\n",
    "#gave it a string, it gave me a list"
   ]
  },
  {
   "cell_type": "code",
   "execution_count": 189,
   "metadata": {},
   "outputs": [
    {
     "data": {
      "text/plain": [
       "[{'id': 7, 'name': 'Funny', 'count': 19645},\n",
       " {'id': 1, 'name': 'Beautiful', 'count': 4573},\n",
       " {'id': 9, 'name': 'Ingenious', 'count': 6073},\n",
       " {'id': 3, 'name': 'Courageous', 'count': 3253},\n",
       " {'id': 11, 'name': 'Longwinded', 'count': 387},\n",
       " {'id': 2, 'name': 'Confusing', 'count': 242},\n",
       " {'id': 8, 'name': 'Informative', 'count': 7346},\n",
       " {'id': 22, 'name': 'Fascinating', 'count': 10581},\n",
       " {'id': 21, 'name': 'Unconvincing', 'count': 300},\n",
       " {'id': 24, 'name': 'Persuasive', 'count': 10704},\n",
       " {'id': 23, 'name': 'Jaw-dropping', 'count': 4439},\n",
       " {'id': 25, 'name': 'OK', 'count': 1174},\n",
       " {'id': 26, 'name': 'Obnoxious', 'count': 209},\n",
       " {'id': 10, 'name': 'Inspiring', 'count': 24924}]"
      ]
     },
     "execution_count": 189,
     "metadata": {},
     "output_type": "execute_result"
    }
   ],
   "source": [
    "ast.literal_eval(ted.ratings[0])\n",
    "#now it's a list instead of a string\n",
    "#now we need to apply it to entire series."
   ]
  },
  {
   "cell_type": "code",
   "execution_count": 190,
   "metadata": {},
   "outputs": [],
   "source": [
    "def str_to_list(ratings_str):\n",
    "    return ast.literal_eval(ratings_str)\n",
    "#making a function to do this"
   ]
  },
  {
   "cell_type": "code",
   "execution_count": 191,
   "metadata": {},
   "outputs": [
    {
     "data": {
      "text/plain": [
       "[{'id': 7, 'name': 'Funny', 'count': 19645},\n",
       " {'id': 1, 'name': 'Beautiful', 'count': 4573},\n",
       " {'id': 9, 'name': 'Ingenious', 'count': 6073},\n",
       " {'id': 3, 'name': 'Courageous', 'count': 3253},\n",
       " {'id': 11, 'name': 'Longwinded', 'count': 387},\n",
       " {'id': 2, 'name': 'Confusing', 'count': 242},\n",
       " {'id': 8, 'name': 'Informative', 'count': 7346},\n",
       " {'id': 22, 'name': 'Fascinating', 'count': 10581},\n",
       " {'id': 21, 'name': 'Unconvincing', 'count': 300},\n",
       " {'id': 24, 'name': 'Persuasive', 'count': 10704},\n",
       " {'id': 23, 'name': 'Jaw-dropping', 'count': 4439},\n",
       " {'id': 25, 'name': 'OK', 'count': 1174},\n",
       " {'id': 26, 'name': 'Obnoxious', 'count': 209},\n",
       " {'id': 10, 'name': 'Inspiring', 'count': 24924}]"
      ]
     },
     "execution_count": 191,
     "metadata": {},
     "output_type": "execute_result"
    }
   ],
   "source": [
    "str_to_list(ted.ratings[0])\n",
    "#test: looks like it worked."
   ]
  },
  {
   "cell_type": "code",
   "execution_count": 192,
   "metadata": {},
   "outputs": [
    {
     "data": {
      "text/plain": [
       "0    [{'id': 7, 'name': 'Funny', 'count': 19645}, {...\n",
       "1    [{'id': 7, 'name': 'Funny', 'count': 544}, {'i...\n",
       "2    [{'id': 7, 'name': 'Funny', 'count': 964}, {'i...\n",
       "3    [{'id': 3, 'name': 'Courageous', 'count': 760}...\n",
       "4    [{'id': 9, 'name': 'Ingenious', 'count': 3202}...\n",
       "Name: ratings, dtype: object"
      ]
     },
     "execution_count": 192,
     "metadata": {},
     "output_type": "execute_result"
    }
   ],
   "source": [
    "ted.ratings.apply(str_to_list).head()"
   ]
  },
  {
   "cell_type": "code",
   "execution_count": 193,
   "metadata": {},
   "outputs": [
    {
     "data": {
      "text/plain": [
       "0    [{'id': 7, 'name': 'Funny', 'count': 19645}, {...\n",
       "1    [{'id': 7, 'name': 'Funny', 'count': 544}, {'i...\n",
       "2    [{'id': 7, 'name': 'Funny', 'count': 964}, {'i...\n",
       "3    [{'id': 3, 'name': 'Courageous', 'count': 760}...\n",
       "4    [{'id': 9, 'name': 'Ingenious', 'count': 3202}...\n",
       "Name: ratings, dtype: object"
      ]
     },
     "execution_count": 193,
     "metadata": {},
     "output_type": "execute_result"
    }
   ],
   "source": [
    "ted.ratings.apply(ast.literal_eval).head()\n",
    "#same thing without having to make a definition"
   ]
  },
  {
   "cell_type": "code",
   "execution_count": 194,
   "metadata": {},
   "outputs": [
    {
     "data": {
      "text/plain": [
       "0       [{'id': 7, 'name': 'Funny', 'count': 19645}, {...\n",
       "1       [{'id': 7, 'name': 'Funny', 'count': 544}, {'i...\n",
       "2       [{'id': 7, 'name': 'Funny', 'count': 964}, {'i...\n",
       "3       [{'id': 3, 'name': 'Courageous', 'count': 760}...\n",
       "4       [{'id': 9, 'name': 'Ingenious', 'count': 3202}...\n",
       "5       [{'id': 7, 'name': 'Funny', 'count': 1102}, {'...\n",
       "6       [{'id': 3, 'name': 'Courageous', 'count': 477}...\n",
       "7       [{'id': 9, 'name': 'Ingenious', 'count': 195},...\n",
       "8       [{'id': 3, 'name': 'Courageous', 'count': 562}...\n",
       "9       [{'id': 21, 'name': 'Unconvincing', 'count': 8...\n",
       "10      [{'id': 3, 'name': 'Courageous', 'count': 169}...\n",
       "11      [{'id': 1, 'name': 'Beautiful', 'count': 70}, ...\n",
       "12      [{'id': 8, 'name': 'Informative', 'count': 188...\n",
       "13      [{'id': 9, 'name': 'Ingenious', 'count': 1014}...\n",
       "14      [{'id': 3, 'name': 'Courageous', 'count': 83},...\n",
       "15      [{'id': 1, 'name': 'Beautiful', 'count': 1671}...\n",
       "16      [{'id': 1, 'name': 'Beautiful', 'count': 1107}...\n",
       "17      [{'id': 9, 'name': 'Ingenious', 'count': 321},...\n",
       "18      [{'id': 1, 'name': 'Beautiful', 'count': 259},...\n",
       "19      [{'id': 1, 'name': 'Beautiful', 'count': 104},...\n",
       "20      [{'id': 9, 'name': 'Ingenious', 'count': 117},...\n",
       "21      [{'id': 7, 'name': 'Funny', 'count': 2799}, {'...\n",
       "22      [{'id': 8, 'name': 'Informative', 'count': 82}...\n",
       "23      [{'id': 7, 'name': 'Funny', 'count': 780}, {'i...\n",
       "24      [{'id': 3, 'name': 'Courageous', 'count': 654}...\n",
       "25      [{'id': 9, 'name': 'Ingenious', 'count': 269},...\n",
       "26      [{'id': 1, 'name': 'Beautiful', 'count': 333},...\n",
       "27      [{'id': 7, 'name': 'Funny', 'count': 485}, {'i...\n",
       "28      [{'id': 7, 'name': 'Funny', 'count': 1668}, {'...\n",
       "29      [{'id': 7, 'name': 'Funny', 'count': 1728}, {'...\n",
       "                              ...                        \n",
       "2520    [{'id': 23, 'name': 'Jaw-dropping', 'count': 2...\n",
       "2521    [{'id': 8, 'name': 'Informative', 'count': 146...\n",
       "2522    [{'id': 1, 'name': 'Beautiful', 'count': 85}, ...\n",
       "2523    [{'id': 3, 'name': 'Courageous', 'count': 46},...\n",
       "2524    [{'id': 24, 'name': 'Persuasive', 'count': 19}...\n",
       "2525    [{'id': 10, 'name': 'Inspiring', 'count': 119}...\n",
       "2526    [{'id': 22, 'name': 'Fascinating', 'count': 11...\n",
       "2527    [{'id': 3, 'name': 'Courageous', 'count': 63},...\n",
       "2528    [{'id': 9, 'name': 'Ingenious', 'count': 16}, ...\n",
       "2529    [{'id': 9, 'name': 'Ingenious', 'count': 24}, ...\n",
       "2530    [{'id': 2, 'name': 'Confusing', 'count': 2}, {...\n",
       "2531    [{'id': 8, 'name': 'Informative', 'count': 64}...\n",
       "2532    [{'id': 25, 'name': 'OK', 'count': 26}, {'id':...\n",
       "2533    [{'id': 1, 'name': 'Beautiful', 'count': 29}, ...\n",
       "2534    [{'id': 10, 'name': 'Inspiring', 'count': 46},...\n",
       "2535    [{'id': 3, 'name': 'Courageous', 'count': 77},...\n",
       "2536    [{'id': 3, 'name': 'Courageous', 'count': 45},...\n",
       "2537    [{'id': 1, 'name': 'Beautiful', 'count': 484},...\n",
       "2538    [{'id': 10, 'name': 'Inspiring', 'count': 50},...\n",
       "2539    [{'id': 10, 'name': 'Inspiring', 'count': 73},...\n",
       "2540    [{'id': 1, 'name': 'Beautiful', 'count': 15}, ...\n",
       "2541    [{'id': 11, 'name': 'Longwinded', 'count': 29}...\n",
       "2542    [{'id': 1, 'name': 'Beautiful', 'count': 41}, ...\n",
       "2543    [{'id': 1, 'name': 'Beautiful', 'count': 13}, ...\n",
       "2544    [{'id': 1, 'name': 'Beautiful', 'count': 9}, {...\n",
       "2545    [{'id': 3, 'name': 'Courageous', 'count': 24},...\n",
       "2546    [{'id': 22, 'name': 'Fascinating', 'count': 32...\n",
       "2547    [{'id': 1, 'name': 'Beautiful', 'count': 14}, ...\n",
       "2548    [{'id': 11, 'name': 'Longwinded', 'count': 3},...\n",
       "2549    [{'id': 21, 'name': 'Unconvincing', 'count': 2...\n",
       "Name: ratings, Length: 2550, dtype: object"
      ]
     },
     "execution_count": 194,
     "metadata": {},
     "output_type": "execute_result"
    }
   ],
   "source": [
    "ted.ratings.apply(lambda x: ast.literal_eval(x))\n",
    "#lambda x makes x everthing in the series"
   ]
  },
  {
   "cell_type": "code",
   "execution_count": 195,
   "metadata": {},
   "outputs": [],
   "source": [
    "#making a new column\n",
    "ted['ratings_list'] = ted.ratings.apply(lambda x: ast.literal_eval(x))"
   ]
  },
  {
   "cell_type": "code",
   "execution_count": 196,
   "metadata": {},
   "outputs": [
    {
     "data": {
      "text/plain": [
       "[{'id': 7, 'name': 'Funny', 'count': 19645},\n",
       " {'id': 1, 'name': 'Beautiful', 'count': 4573},\n",
       " {'id': 9, 'name': 'Ingenious', 'count': 6073},\n",
       " {'id': 3, 'name': 'Courageous', 'count': 3253},\n",
       " {'id': 11, 'name': 'Longwinded', 'count': 387},\n",
       " {'id': 2, 'name': 'Confusing', 'count': 242},\n",
       " {'id': 8, 'name': 'Informative', 'count': 7346},\n",
       " {'id': 22, 'name': 'Fascinating', 'count': 10581},\n",
       " {'id': 21, 'name': 'Unconvincing', 'count': 300},\n",
       " {'id': 24, 'name': 'Persuasive', 'count': 10704},\n",
       " {'id': 23, 'name': 'Jaw-dropping', 'count': 4439},\n",
       " {'id': 25, 'name': 'OK', 'count': 1174},\n",
       " {'id': 26, 'name': 'Obnoxious', 'count': 209},\n",
       " {'id': 10, 'name': 'Inspiring', 'count': 24924}]"
      ]
     },
     "execution_count": 196,
     "metadata": {},
     "output_type": "execute_result"
    }
   ],
   "source": [
    "ted.ratings_list[0]\n",
    "#goal is to take the ratings from strings and turn it into lists.\n"
   ]
  },
  {
   "cell_type": "code",
   "execution_count": 197,
   "metadata": {},
   "outputs": [
    {
     "data": {
      "text/plain": [
       "list"
      ]
     },
     "execution_count": 197,
     "metadata": {},
     "output_type": "execute_result"
    }
   ],
   "source": [
    "type(ted.ratings_list[0])"
   ]
  },
  {
   "cell_type": "code",
   "execution_count": 198,
   "metadata": {},
   "outputs": [
    {
     "data": {
      "text/plain": [
       "comments                       int64\n",
       "description                   object\n",
       "duration                       int64\n",
       "event                         object\n",
       "film_date                      int64\n",
       "languages                      int64\n",
       "main_speaker                  object\n",
       "name                          object\n",
       "num_speaker                    int64\n",
       "published_date                 int64\n",
       "ratings                       object\n",
       "related_talks                 object\n",
       "speaker_occupation            object\n",
       "tags                          object\n",
       "title                         object\n",
       "url                           object\n",
       "views                          int64\n",
       "comments_per_view            float64\n",
       "views_per_comment            float64\n",
       "film_datetime         datetime64[ns]\n",
       "ratings_list                  object\n",
       "dtype: object"
      ]
     },
     "execution_count": 198,
     "metadata": {},
     "output_type": "execute_result"
    }
   ],
   "source": [
    "ted.dtypes\n",
    "#Ratings_list is an object column but no longer a str"
   ]
  },
  {
   "cell_type": "markdown",
   "metadata": {},
   "source": [
    "# 7. Count the total number of ratings recieved by each talk\n",
    "\n",
    "-new column named 'num_ratings'\n",
    "\n",
    "1. Write your code in small chunks and check your work as you go; good practice; easier to check if a bug has entered your code if you go through small chunks\n",
    "\n",
    "2. Lambda is best for simple functions; but not the only way"
   ]
  },
  {
   "cell_type": "code",
   "execution_count": 199,
   "metadata": {},
   "outputs": [
    {
     "data": {
      "text/plain": [
       "[{'id': 7, 'name': 'Funny', 'count': 19645},\n",
       " {'id': 1, 'name': 'Beautiful', 'count': 4573},\n",
       " {'id': 9, 'name': 'Ingenious', 'count': 6073},\n",
       " {'id': 3, 'name': 'Courageous', 'count': 3253},\n",
       " {'id': 11, 'name': 'Longwinded', 'count': 387},\n",
       " {'id': 2, 'name': 'Confusing', 'count': 242},\n",
       " {'id': 8, 'name': 'Informative', 'count': 7346},\n",
       " {'id': 22, 'name': 'Fascinating', 'count': 10581},\n",
       " {'id': 21, 'name': 'Unconvincing', 'count': 300},\n",
       " {'id': 24, 'name': 'Persuasive', 'count': 10704},\n",
       " {'id': 23, 'name': 'Jaw-dropping', 'count': 4439},\n",
       " {'id': 25, 'name': 'OK', 'count': 1174},\n",
       " {'id': 26, 'name': 'Obnoxious', 'count': 209},\n",
       " {'id': 10, 'name': 'Inspiring', 'count': 24924}]"
      ]
     },
     "execution_count": 199,
     "metadata": {},
     "output_type": "execute_result"
    }
   ],
   "source": [
    "ted.ratings_list[0]\n",
    "#goal is to sum the count"
   ]
  },
  {
   "cell_type": "code",
   "execution_count": 200,
   "metadata": {},
   "outputs": [],
   "source": [
    "#build a function in pieces\n",
    "def get_num_ratings(list_of_dicts):\n",
    "    return list_of_dicts[0]"
   ]
  },
  {
   "cell_type": "code",
   "execution_count": 201,
   "metadata": {},
   "outputs": [
    {
     "data": {
      "text/plain": [
       "{'id': 7, 'name': 'Funny', 'count': 19645}"
      ]
     },
     "execution_count": 201,
     "metadata": {},
     "output_type": "execute_result"
    }
   ],
   "source": [
    "get_num_ratings(ted.ratings_list[0])\n",
    "#this part worked"
   ]
  },
  {
   "cell_type": "code",
   "execution_count": 202,
   "metadata": {},
   "outputs": [],
   "source": [
    "def get_num_ratings(list_of_dicts):\n",
    "    return list_of_dicts[0]['count']"
   ]
  },
  {
   "cell_type": "code",
   "execution_count": 203,
   "metadata": {},
   "outputs": [
    {
     "data": {
      "text/plain": [
       "19645"
      ]
     },
     "execution_count": 203,
     "metadata": {},
     "output_type": "execute_result"
    }
   ],
   "source": [
    "#now we just took out the count \n",
    "get_num_ratings(ted.ratings_list[0])"
   ]
  },
  {
   "cell_type": "code",
   "execution_count": 204,
   "metadata": {},
   "outputs": [],
   "source": [
    "def get_num_ratings(list_of_dicts):\n",
    "    num = 0\n",
    "    for d in list_of_dicts:\n",
    "        num = num + d['count']\n",
    "    return num"
   ]
  },
  {
   "cell_type": "code",
   "execution_count": 205,
   "metadata": {},
   "outputs": [
    {
     "data": {
      "text/plain": [
       "93850"
      ]
     },
     "execution_count": 205,
     "metadata": {},
     "output_type": "execute_result"
    }
   ],
   "source": [
    "#went through all the counts in the 0th index\n",
    "get_num_ratings(ted.ratings_list[0])"
   ]
  },
  {
   "cell_type": "code",
   "execution_count": 206,
   "metadata": {},
   "outputs": [
    {
     "data": {
      "text/plain": [
       "0       93850\n",
       "1        2936\n",
       "2        2824\n",
       "3        3728\n",
       "4       25620\n",
       "5       15356\n",
       "6        5998\n",
       "7        1024\n",
       "8        3946\n",
       "9        8327\n",
       "10       1780\n",
       "11        592\n",
       "12        886\n",
       "13       8317\n",
       "14        781\n",
       "15       6239\n",
       "16       4679\n",
       "17       1788\n",
       "18       1931\n",
       "19       1571\n",
       "20       1177\n",
       "21       5164\n",
       "22        784\n",
       "23      10780\n",
       "24       2570\n",
       "25       3544\n",
       "26       4594\n",
       "27       2036\n",
       "28      10678\n",
       "29      19834\n",
       "        ...  \n",
       "2520      280\n",
       "2521      320\n",
       "2522      279\n",
       "2523      367\n",
       "2524      166\n",
       "2525      413\n",
       "2526      450\n",
       "2527      320\n",
       "2528       68\n",
       "2529      583\n",
       "2530      468\n",
       "2531      159\n",
       "2532      981\n",
       "2533      183\n",
       "2534      221\n",
       "2535      431\n",
       "2536      259\n",
       "2537     2009\n",
       "2538      231\n",
       "2539      256\n",
       "2540      383\n",
       "2541      378\n",
       "2542      181\n",
       "2543      225\n",
       "2544      143\n",
       "2545      192\n",
       "2546      151\n",
       "2547      136\n",
       "2548      583\n",
       "2549      142\n",
       "Name: ratings_list, Length: 2550, dtype: int64"
      ]
     },
     "execution_count": 206,
     "metadata": {},
     "output_type": "execute_result"
    }
   ],
   "source": [
    "ted.ratings_list.apply(get_num_ratings)\n",
    "#different numbers, no zeros, makes sense and looks like it worked"
   ]
  },
  {
   "cell_type": "code",
   "execution_count": 207,
   "metadata": {},
   "outputs": [],
   "source": [
    "ted['num_ratings'] = ted.ratings_list.apply(get_num_ratings)\n",
    "#saving it into a new column"
   ]
  },
  {
   "cell_type": "code",
   "execution_count": 208,
   "metadata": {},
   "outputs": [
    {
     "data": {
      "text/plain": [
       "count     2550.000000\n",
       "mean      2436.408235\n",
       "std       4226.795631\n",
       "min         68.000000\n",
       "25%        870.750000\n",
       "50%       1452.500000\n",
       "75%       2506.750000\n",
       "max      93850.000000\n",
       "Name: num_ratings, dtype: float64"
      ]
     },
     "execution_count": 208,
     "metadata": {},
     "output_type": "execute_result"
    }
   ],
   "source": [
    "#spot check\n",
    "ted.num_ratings.describe()\n",
    "#no negatives or zeros so seems about right. "
   ]
  },
  {
   "cell_type": "code",
   "execution_count": 209,
   "metadata": {},
   "outputs": [
    {
     "data": {
      "text/html": [
       "<div>\n",
       "<style scoped>\n",
       "    .dataframe tbody tr th:only-of-type {\n",
       "        vertical-align: middle;\n",
       "    }\n",
       "\n",
       "    .dataframe tbody tr th {\n",
       "        vertical-align: top;\n",
       "    }\n",
       "\n",
       "    .dataframe thead th {\n",
       "        text-align: right;\n",
       "    }\n",
       "</style>\n",
       "<table border=\"1\" class=\"dataframe\">\n",
       "  <thead>\n",
       "    <tr style=\"text-align: right;\">\n",
       "      <th></th>\n",
       "      <th>count</th>\n",
       "      <th>id</th>\n",
       "      <th>name</th>\n",
       "    </tr>\n",
       "  </thead>\n",
       "  <tbody>\n",
       "    <tr>\n",
       "      <th>0</th>\n",
       "      <td>19645</td>\n",
       "      <td>7</td>\n",
       "      <td>Funny</td>\n",
       "    </tr>\n",
       "    <tr>\n",
       "      <th>1</th>\n",
       "      <td>4573</td>\n",
       "      <td>1</td>\n",
       "      <td>Beautiful</td>\n",
       "    </tr>\n",
       "    <tr>\n",
       "      <th>2</th>\n",
       "      <td>6073</td>\n",
       "      <td>9</td>\n",
       "      <td>Ingenious</td>\n",
       "    </tr>\n",
       "    <tr>\n",
       "      <th>3</th>\n",
       "      <td>3253</td>\n",
       "      <td>3</td>\n",
       "      <td>Courageous</td>\n",
       "    </tr>\n",
       "    <tr>\n",
       "      <th>4</th>\n",
       "      <td>387</td>\n",
       "      <td>11</td>\n",
       "      <td>Longwinded</td>\n",
       "    </tr>\n",
       "    <tr>\n",
       "      <th>5</th>\n",
       "      <td>242</td>\n",
       "      <td>2</td>\n",
       "      <td>Confusing</td>\n",
       "    </tr>\n",
       "    <tr>\n",
       "      <th>6</th>\n",
       "      <td>7346</td>\n",
       "      <td>8</td>\n",
       "      <td>Informative</td>\n",
       "    </tr>\n",
       "    <tr>\n",
       "      <th>7</th>\n",
       "      <td>10581</td>\n",
       "      <td>22</td>\n",
       "      <td>Fascinating</td>\n",
       "    </tr>\n",
       "    <tr>\n",
       "      <th>8</th>\n",
       "      <td>300</td>\n",
       "      <td>21</td>\n",
       "      <td>Unconvincing</td>\n",
       "    </tr>\n",
       "    <tr>\n",
       "      <th>9</th>\n",
       "      <td>10704</td>\n",
       "      <td>24</td>\n",
       "      <td>Persuasive</td>\n",
       "    </tr>\n",
       "    <tr>\n",
       "      <th>10</th>\n",
       "      <td>4439</td>\n",
       "      <td>23</td>\n",
       "      <td>Jaw-dropping</td>\n",
       "    </tr>\n",
       "    <tr>\n",
       "      <th>11</th>\n",
       "      <td>1174</td>\n",
       "      <td>25</td>\n",
       "      <td>OK</td>\n",
       "    </tr>\n",
       "    <tr>\n",
       "      <th>12</th>\n",
       "      <td>209</td>\n",
       "      <td>26</td>\n",
       "      <td>Obnoxious</td>\n",
       "    </tr>\n",
       "    <tr>\n",
       "      <th>13</th>\n",
       "      <td>24924</td>\n",
       "      <td>10</td>\n",
       "      <td>Inspiring</td>\n",
       "    </tr>\n",
       "  </tbody>\n",
       "</table>\n",
       "</div>"
      ],
      "text/plain": [
       "    count  id          name\n",
       "0   19645   7         Funny\n",
       "1    4573   1     Beautiful\n",
       "2    6073   9     Ingenious\n",
       "3    3253   3    Courageous\n",
       "4     387  11    Longwinded\n",
       "5     242   2     Confusing\n",
       "6    7346   8   Informative\n",
       "7   10581  22   Fascinating\n",
       "8     300  21  Unconvincing\n",
       "9   10704  24    Persuasive\n",
       "10   4439  23  Jaw-dropping\n",
       "11   1174  25            OK\n",
       "12    209  26     Obnoxious\n",
       "13  24924  10     Inspiring"
      ]
     },
     "execution_count": 209,
     "metadata": {},
     "output_type": "execute_result"
    }
   ],
   "source": [
    "#another way to do it\n",
    "pd.DataFrame(ted.ratings_list[0])"
   ]
  },
  {
   "cell_type": "code",
   "execution_count": null,
   "metadata": {},
   "outputs": [],
   "source": [
    "pd.DataFrame(ted.ratings_list[0]).count.sum()\n",
    "#.count.sum wouldn't work bc if a column name conflicts with a built in method it won't work"
   ]
  },
  {
   "cell_type": "code",
   "execution_count": 210,
   "metadata": {},
   "outputs": [
    {
     "data": {
      "text/plain": [
       "93850"
      ]
     },
     "execution_count": 210,
     "metadata": {},
     "output_type": "execute_result"
    }
   ],
   "source": [
    "pd.DataFrame(ted.ratings_list[0])['count'].sum()"
   ]
  },
  {
   "cell_type": "markdown",
   "metadata": {},
   "source": [
    "# 8. Which occupations deliver the funniest TED talks on average?\n",
    "\n",
    "1. Check your assumptions about your data\n",
    "\n",
    "2. Check for reasonable results\n",
    "\n",
    "3. Take advantage of the fact that padas operations often output a dataframe or series; lots of manipulation on output possible\n",
    "\n",
    "4. Watch out for small sample sizes\n",
    "\n",
    "5. Consider the impact of missing data; pandas won't throw up errors if there's missingdata\n",
    "\n",
    "6. Data scientists are hilarious :D (in the top 5 funniest occupations)"
   ]
  },
  {
   "cell_type": "markdown",
   "metadata": {},
   "source": [
    "## Step 1: count the number of funny ratings"
   ]
  },
  {
   "cell_type": "code",
   "execution_count": 211,
   "metadata": {},
   "outputs": [
    {
     "data": {
      "text/plain": [
       "0    [{'id': 7, 'name': 'Funny', 'count': 19645}, {...\n",
       "1    [{'id': 7, 'name': 'Funny', 'count': 544}, {'i...\n",
       "2    [{'id': 7, 'name': 'Funny', 'count': 964}, {'i...\n",
       "3    [{'id': 3, 'name': 'Courageous', 'count': 760}...\n",
       "4    [{'id': 9, 'name': 'Ingenious', 'count': 3202}...\n",
       "Name: ratings_list, dtype: object"
      ]
     },
     "execution_count": 211,
     "metadata": {},
     "output_type": "execute_result"
    }
   ],
   "source": [
    "ted.ratings_list.head()\n",
    "#funny isn't the first one listed"
   ]
  },
  {
   "cell_type": "code",
   "execution_count": 212,
   "metadata": {},
   "outputs": [
    {
     "data": {
      "text/plain": [
       "0       True\n",
       "1       True\n",
       "2       True\n",
       "3       True\n",
       "4       True\n",
       "5       True\n",
       "6       True\n",
       "7       True\n",
       "8       True\n",
       "9       True\n",
       "10      True\n",
       "11      True\n",
       "12      True\n",
       "13      True\n",
       "14      True\n",
       "15      True\n",
       "16      True\n",
       "17      True\n",
       "18      True\n",
       "19      True\n",
       "20      True\n",
       "21      True\n",
       "22      True\n",
       "23      True\n",
       "24      True\n",
       "25      True\n",
       "26      True\n",
       "27      True\n",
       "28      True\n",
       "29      True\n",
       "        ... \n",
       "2520    True\n",
       "2521    True\n",
       "2522    True\n",
       "2523    True\n",
       "2524    True\n",
       "2525    True\n",
       "2526    True\n",
       "2527    True\n",
       "2528    True\n",
       "2529    True\n",
       "2530    True\n",
       "2531    True\n",
       "2532    True\n",
       "2533    True\n",
       "2534    True\n",
       "2535    True\n",
       "2536    True\n",
       "2537    True\n",
       "2538    True\n",
       "2539    True\n",
       "2540    True\n",
       "2541    True\n",
       "2542    True\n",
       "2543    True\n",
       "2544    True\n",
       "2545    True\n",
       "2546    True\n",
       "2547    True\n",
       "2548    True\n",
       "2549    True\n",
       "Name: ratings, Length: 2550, dtype: bool"
      ]
     },
     "execution_count": 212,
     "metadata": {},
     "output_type": "execute_result"
    }
   ],
   "source": [
    "ted.ratings.str.contains('Funny')\n",
    "#looking at the string version"
   ]
  },
  {
   "cell_type": "code",
   "execution_count": 213,
   "metadata": {},
   "outputs": [
    {
     "data": {
      "text/plain": [
       "True    2550\n",
       "Name: ratings, dtype: int64"
      ]
     },
     "execution_count": 213,
     "metadata": {},
     "output_type": "execute_result"
    }
   ],
   "source": [
    "ted.ratings.str.contains('Funny').value_counts()\n",
    "#to tell us if there are any without funny"
   ]
  },
  {
   "cell_type": "code",
   "execution_count": 214,
   "metadata": {},
   "outputs": [],
   "source": [
    "def get_funny_ratings(list_of_dicts):\n",
    "    for d in list_of_dicts:\n",
    "        if d['name'] == 'Funny':\n",
    "            return d['count']"
   ]
  },
  {
   "cell_type": "code",
   "execution_count": 215,
   "metadata": {},
   "outputs": [
    {
     "data": {
      "text/plain": [
       "0       19645\n",
       "1         544\n",
       "2         964\n",
       "3          59\n",
       "4        1390\n",
       "5        1102\n",
       "6        2484\n",
       "7           9\n",
       "8          60\n",
       "9          26\n",
       "10         18\n",
       "11          5\n",
       "12          3\n",
       "13        104\n",
       "14         14\n",
       "15        190\n",
       "16         24\n",
       "17         21\n",
       "18         49\n",
       "19         19\n",
       "20         12\n",
       "21       2799\n",
       "22        106\n",
       "23        780\n",
       "24        109\n",
       "25        131\n",
       "26        127\n",
       "27        485\n",
       "28       1668\n",
       "29       1728\n",
       "        ...  \n",
       "2520        5\n",
       "2521        7\n",
       "2522        2\n",
       "2523        3\n",
       "2524       17\n",
       "2525        1\n",
       "2526        8\n",
       "2527        3\n",
       "2528        0\n",
       "2529        4\n",
       "2530       32\n",
       "2531        1\n",
       "2532        9\n",
       "2533        2\n",
       "2534        4\n",
       "2535       19\n",
       "2536       26\n",
       "2537        3\n",
       "2538        5\n",
       "2539        2\n",
       "2540        4\n",
       "2541       39\n",
       "2542        6\n",
       "2543        3\n",
       "2544        0\n",
       "2545        1\n",
       "2546       20\n",
       "2547        1\n",
       "2548       63\n",
       "2549        0\n",
       "Name: ratings_list, Length: 2550, dtype: int64"
      ]
     },
     "execution_count": 215,
     "metadata": {},
     "output_type": "execute_result"
    }
   ],
   "source": [
    "ted.ratings_list.apply(get_funny_ratings)"
   ]
  },
  {
   "cell_type": "code",
   "execution_count": 216,
   "metadata": {},
   "outputs": [],
   "source": [
    "ted['funny_ratings'] = ted.ratings_list.apply(get_funny_ratings)\n",
    "#makings new column"
   ]
  },
  {
   "cell_type": "code",
   "execution_count": 218,
   "metadata": {},
   "outputs": [
    {
     "data": {
      "text/plain": [
       "0    19645\n",
       "1      544\n",
       "2      964\n",
       "3       59\n",
       "4     1390\n",
       "Name: funny_ratings, dtype: int64"
      ]
     },
     "execution_count": 218,
     "metadata": {},
     "output_type": "execute_result"
    }
   ],
   "source": [
    "ted.funny_ratings.head()"
   ]
  },
  {
   "cell_type": "code",
   "execution_count": 219,
   "metadata": {},
   "outputs": [],
   "source": [
    "#calculate the percentage of ratings that are funny\n",
    "ted['funny_rate'] = ted.funny_ratings / ted.num_ratings"
   ]
  },
  {
   "cell_type": "code",
   "execution_count": 222,
   "metadata": {},
   "outputs": [
    {
     "data": {
      "text/plain": [
       "1849                       Science humorist\n",
       "337                                Comedian\n",
       "124     Performance poet, multimedia artist\n",
       "315                                  Expert\n",
       "1168             Social energy entrepreneur\n",
       "1468                          Ornithologist\n",
       "595                  Comedian, voice artist\n",
       "1534                         Cartoon editor\n",
       "97                                 Satirist\n",
       "2297                          Actor, writer\n",
       "568                                Comedian\n",
       "675                          Data scientist\n",
       "21                     Humorist, web artist\n",
       "194                                Jugglers\n",
       "2273                    Comedian and writer\n",
       "2114                    Comedian and writer\n",
       "173                                Investor\n",
       "747                                Comedian\n",
       "1398                               Comedian\n",
       "685             Actor, comedian, playwright\n",
       "Name: speaker_occupation, dtype: object"
      ]
     },
     "execution_count": 222,
     "metadata": {},
     "output_type": "execute_result"
    }
   ],
   "source": [
    "ted.sort_values('funny_rate').speaker_occupation.tail(20)\n",
    "#doing a quick check, looks like it makes sense on who's funny"
   ]
  },
  {
   "cell_type": "code",
   "execution_count": 223,
   "metadata": {},
   "outputs": [
    {
     "data": {
      "text/plain": [
       "2549               Game designer\n",
       "1612                   Biologist\n",
       "612                     Sculptor\n",
       "998               Penguin expert\n",
       "593                     Engineer\n",
       "284               Space activist\n",
       "1041         Biomedical engineer\n",
       "1618      Spinal cord researcher\n",
       "2132    Computational geneticist\n",
       "442                     Sculptor\n",
       "426              Author, thinker\n",
       "458                     Educator\n",
       "2437      Environmental engineer\n",
       "1491             Photojournalist\n",
       "1893     Forensic anthropologist\n",
       "783             Marine biologist\n",
       "195                    Kenyan MP\n",
       "772             HIV/AIDS fighter\n",
       "788            Building activist\n",
       "936                Neuroengineer\n",
       "Name: speaker_occupation, dtype: object"
      ]
     },
     "execution_count": 223,
     "metadata": {},
     "output_type": "execute_result"
    }
   ],
   "source": [
    "ted.sort_values('funny_rate').speaker_occupation.head(20)\n",
    "#\"least funny\""
   ]
  },
  {
   "cell_type": "markdown",
   "metadata": {},
   "source": [
    "## Step 3: Analyze the funny rate by occupation"
   ]
  },
  {
   "cell_type": "code",
   "execution_count": 224,
   "metadata": {},
   "outputs": [
    {
     "data": {
      "text/plain": [
       "speaker_occupation\n",
       "Comedian                       0.512457\n",
       "Actor, writer                  0.515152\n",
       "Actor, comedian, playwright    0.558107\n",
       "Jugglers                       0.566828\n",
       "Comedian and writer            0.602085\n",
       "Name: funny_rate, dtype: float64"
      ]
     },
     "execution_count": 224,
     "metadata": {},
     "output_type": "execute_result"
    }
   ],
   "source": [
    "#mean funny rate by occupation?\n",
    "ted.groupby('speaker_occupation').funny_rate.mean().sort_values().tail()\n",
    "#problem is tht a lot of occupations have a small sample size"
   ]
  },
  {
   "cell_type": "code",
   "execution_count": 225,
   "metadata": {},
   "outputs": [
    {
     "data": {
      "text/plain": [
       "count       2544\n",
       "unique      1458\n",
       "top       Writer\n",
       "freq          45\n",
       "Name: speaker_occupation, dtype: object"
      ]
     },
     "execution_count": 225,
     "metadata": {},
     "output_type": "execute_result"
    }
   ],
   "source": [
    "ted.speaker_occupation.describe()\n",
    "#out of 2544 occupations, 1458 are a single type of occupation\n",
    "#meaning lots of small sample sizes"
   ]
  },
  {
   "cell_type": "markdown",
   "metadata": {},
   "source": [
    "## Step 4: Focus on occupations that are well-represented in the data"
   ]
  },
  {
   "cell_type": "code",
   "execution_count": 226,
   "metadata": {},
   "outputs": [
    {
     "data": {
      "text/plain": [
       "Writer                                    45\n",
       "Designer                                  34\n",
       "Artist                                    34\n",
       "Journalist                                33\n",
       "Entrepreneur                              31\n",
       "Architect                                 30\n",
       "Inventor                                  27\n",
       "Psychologist                              26\n",
       "Photographer                              25\n",
       "Filmmaker                                 21\n",
       "Economist                                 20\n",
       "Neuroscientist                            20\n",
       "Educator                                  20\n",
       "Author                                    20\n",
       "Philosopher                               16\n",
       "Roboticist                                16\n",
       "Biologist                                 15\n",
       "Physicist                                 14\n",
       "Marine biologist                          11\n",
       "Musician                                  11\n",
       "Global health expert; data visionary      10\n",
       "Technologist                              10\n",
       "Activist                                  10\n",
       "Astronomer                                 9\n",
       "Graphic designer                           9\n",
       "Oceanographer                              9\n",
       "Historian                                  9\n",
       "Poet                                       9\n",
       "Philanthropist                             9\n",
       "Behavioral economist                       9\n",
       "                                          ..\n",
       "Pilot                                      1\n",
       " Space physicist                           1\n",
       "Educator, author                           1\n",
       "Conceptual artist                          1\n",
       "Physician, broadcaster                     1\n",
       "Bioprinting entrepreneur                   1\n",
       "Computer designer, brain researcher        1\n",
       "Green auto pioneer                         1\n",
       "Pastor                                     1\n",
       "Investor, data scientist, entrepreneur     1\n",
       "Human rights advocate                      1\n",
       "Film director                              1\n",
       "Jazz pianist                               1\n",
       "Health and human services expert           1\n",
       "World-builder                              1\n",
       "Facial surgeon                             1\n",
       "Education visionary                        1\n",
       "COO, Mozilla Foundation                    1\n",
       "medical inventor                           1\n",
       "Contemporary music ensemble                1\n",
       "Multi-sense designer                       1\n",
       "Communications researcher                  1\n",
       "Surprisologist                             1\n",
       "Polar explorer                             1\n",
       "Health activist                            1\n",
       "Baker                                      1\n",
       "Product developer                          1\n",
       "Biotechnology entrepreneur                 1\n",
       "Environmental scientist                    1\n",
       "Open-science advocate                      1\n",
       "Name: speaker_occupation, Length: 1458, dtype: int64"
      ]
     },
     "execution_count": 226,
     "metadata": {},
     "output_type": "execute_result"
    }
   ],
   "source": [
    "ted.speaker_occupation.value_counts()\n",
    "#this is a pandas series"
   ]
  },
  {
   "cell_type": "code",
   "execution_count": 227,
   "metadata": {},
   "outputs": [],
   "source": [
    "occupation_counts = ted.speaker_occupation.value_counts()"
   ]
  },
  {
   "cell_type": "code",
   "execution_count": 230,
   "metadata": {},
   "outputs": [
    {
     "data": {
      "text/plain": [
       "Writer                                        45\n",
       "Designer                                      34\n",
       "Artist                                        34\n",
       "Journalist                                    33\n",
       "Entrepreneur                                  31\n",
       "Architect                                     30\n",
       "Inventor                                      27\n",
       "Psychologist                                  26\n",
       "Photographer                                  25\n",
       "Filmmaker                                     21\n",
       "Economist                                     20\n",
       "Neuroscientist                                20\n",
       "Educator                                      20\n",
       "Author                                        20\n",
       "Philosopher                                   16\n",
       "Roboticist                                    16\n",
       "Biologist                                     15\n",
       "Physicist                                     14\n",
       "Marine biologist                              11\n",
       "Musician                                      11\n",
       "Global health expert; data visionary          10\n",
       "Technologist                                  10\n",
       "Activist                                      10\n",
       "Astronomer                                     9\n",
       "Graphic designer                               9\n",
       "Oceanographer                                  9\n",
       "Historian                                      9\n",
       "Poet                                           9\n",
       "Philanthropist                                 9\n",
       "Behavioral economist                           9\n",
       "                                              ..\n",
       "Reporter                                       6\n",
       "Writer, activist                               6\n",
       "Evolutionary biologist                         6\n",
       "Techno-illusionist                             6\n",
       "Legal activist                                 6\n",
       "Comedian                                       6\n",
       "Social entrepreneur                            6\n",
       "Climate advocate                               6\n",
       "Photojournalist                                6\n",
       "Performance poet, multimedia artist            6\n",
       "Singer-songwriter                              6\n",
       "Chef                                           5\n",
       "Sound consultant                               5\n",
       "Sculptor                                       5\n",
       "Violinist                                      5\n",
       "Researcher                                     5\n",
       "Cartoonist                                     5\n",
       "Investor and advocate for moral leadership     5\n",
       "Game designer                                  5\n",
       "Environmentalist, futurist                     5\n",
       "Physician                                      5\n",
       "Tech visionary                                 5\n",
       "Paleontologist                                 5\n",
       "Producer                                       5\n",
       "Surgeon                                        5\n",
       "Chemist                                        5\n",
       "Social Media Theorist                          5\n",
       "Musician, activist                             5\n",
       "Data scientist                                 5\n",
       "Science writer                                 5\n",
       "Name: speaker_occupation, Length: 68, dtype: int64"
      ]
     },
     "execution_count": 230,
     "metadata": {},
     "output_type": "execute_result"
    }
   ],
   "source": [
    "occupation_counts[occupation_counts >= 5]\n",
    "#filtered by values"
   ]
  },
  {
   "cell_type": "code",
   "execution_count": 231,
   "metadata": {},
   "outputs": [
    {
     "data": {
      "text/plain": [
       "Index(['Writer', 'Designer', 'Artist', 'Journalist', 'Entrepreneur',\n",
       "       'Architect', 'Inventor', 'Psychologist', 'Photographer', 'Filmmaker',\n",
       "       'Economist', 'Neuroscientist', 'Educator', 'Author', 'Philosopher',\n",
       "       'Roboticist', 'Biologist', 'Physicist', 'Marine biologist', 'Musician',\n",
       "       'Global health expert; data visionary', 'Technologist', 'Activist',\n",
       "       'Astronomer', 'Graphic designer', 'Oceanographer', 'Historian', 'Poet',\n",
       "       'Philanthropist', 'Behavioral economist', 'Singer/songwriter',\n",
       "       'Social psychologist', 'Engineer', 'Computer scientist', 'Novelist',\n",
       "       'Futurist', 'Astrophysicist', 'Mathematician', 'Reporter',\n",
       "       'Writer, activist', 'Evolutionary biologist', 'Techno-illusionist',\n",
       "       'Legal activist', 'Comedian', 'Social entrepreneur', 'Climate advocate',\n",
       "       'Photojournalist', 'Performance poet, multimedia artist',\n",
       "       'Singer-songwriter', 'Chef', 'Sound consultant', 'Sculptor',\n",
       "       'Violinist', 'Researcher', 'Cartoonist',\n",
       "       'Investor and advocate for moral leadership', 'Game designer',\n",
       "       'Environmentalist, futurist', 'Physician', 'Tech visionary',\n",
       "       'Paleontologist', 'Producer', 'Surgeon', 'Chemist',\n",
       "       'Social Media Theorist', 'Musician, activist', 'Data scientist',\n",
       "       'Science writer'],\n",
       "      dtype='object')"
      ]
     },
     "execution_count": 231,
     "metadata": {},
     "output_type": "execute_result"
    }
   ],
   "source": [
    "occupation_counts[occupation_counts >= 5].index"
   ]
  },
  {
   "cell_type": "code",
   "execution_count": 232,
   "metadata": {},
   "outputs": [],
   "source": [
    "top_occupations = occupation_counts[occupation_counts >= 5].index"
   ]
  },
  {
   "cell_type": "code",
   "execution_count": 233,
   "metadata": {},
   "outputs": [
    {
     "data": {
      "text/plain": [
       "pandas.core.indexes.base.Index"
      ]
     },
     "execution_count": 233,
     "metadata": {},
     "output_type": "execute_result"
    }
   ],
   "source": [
    "type(top_occupations)\n",
    "#index can be treated as a list"
   ]
  },
  {
   "cell_type": "code",
   "execution_count": 234,
   "metadata": {},
   "outputs": [
    {
     "data": {
      "text/html": [
       "<div>\n",
       "<style scoped>\n",
       "    .dataframe tbody tr th:only-of-type {\n",
       "        vertical-align: middle;\n",
       "    }\n",
       "\n",
       "    .dataframe tbody tr th {\n",
       "        vertical-align: top;\n",
       "    }\n",
       "\n",
       "    .dataframe thead th {\n",
       "        text-align: right;\n",
       "    }\n",
       "</style>\n",
       "<table border=\"1\" class=\"dataframe\">\n",
       "  <thead>\n",
       "    <tr style=\"text-align: right;\">\n",
       "      <th></th>\n",
       "      <th>comments</th>\n",
       "      <th>description</th>\n",
       "      <th>duration</th>\n",
       "      <th>event</th>\n",
       "      <th>film_date</th>\n",
       "      <th>languages</th>\n",
       "      <th>main_speaker</th>\n",
       "      <th>name</th>\n",
       "      <th>num_speaker</th>\n",
       "      <th>published_date</th>\n",
       "      <th>...</th>\n",
       "      <th>title</th>\n",
       "      <th>url</th>\n",
       "      <th>views</th>\n",
       "      <th>comments_per_view</th>\n",
       "      <th>views_per_comment</th>\n",
       "      <th>film_datetime</th>\n",
       "      <th>ratings_list</th>\n",
       "      <th>num_ratings</th>\n",
       "      <th>funny_ratings</th>\n",
       "      <th>funny_rate</th>\n",
       "    </tr>\n",
       "  </thead>\n",
       "  <tbody>\n",
       "    <tr>\n",
       "      <th>1</th>\n",
       "      <td>265</td>\n",
       "      <td>With the same humor and humanity he exuded in ...</td>\n",
       "      <td>977</td>\n",
       "      <td>TED2006</td>\n",
       "      <td>1140825600</td>\n",
       "      <td>43</td>\n",
       "      <td>Al Gore</td>\n",
       "      <td>Al Gore: Averting the climate crisis</td>\n",
       "      <td>1</td>\n",
       "      <td>1151367060</td>\n",
       "      <td>...</td>\n",
       "      <td>Averting the climate crisis</td>\n",
       "      <td>https://www.ted.com/talks/al_gore_on_averting_...</td>\n",
       "      <td>3200520</td>\n",
       "      <td>0.000083</td>\n",
       "      <td>12077.433962</td>\n",
       "      <td>2006-02-25</td>\n",
       "      <td>[{'id': 7, 'name': 'Funny', 'count': 544}, {'i...</td>\n",
       "      <td>2936</td>\n",
       "      <td>544</td>\n",
       "      <td>0.185286</td>\n",
       "    </tr>\n",
       "    <tr>\n",
       "      <th>4</th>\n",
       "      <td>593</td>\n",
       "      <td>You've never seen data presented like this. Wi...</td>\n",
       "      <td>1190</td>\n",
       "      <td>TED2006</td>\n",
       "      <td>1140566400</td>\n",
       "      <td>48</td>\n",
       "      <td>Hans Rosling</td>\n",
       "      <td>Hans Rosling: The best stats you've ever seen</td>\n",
       "      <td>1</td>\n",
       "      <td>1151440680</td>\n",
       "      <td>...</td>\n",
       "      <td>The best stats you've ever seen</td>\n",
       "      <td>https://www.ted.com/talks/hans_rosling_shows_t...</td>\n",
       "      <td>12005869</td>\n",
       "      <td>0.000049</td>\n",
       "      <td>20245.984823</td>\n",
       "      <td>2006-02-22</td>\n",
       "      <td>[{'id': 9, 'name': 'Ingenious', 'count': 3202}...</td>\n",
       "      <td>25620</td>\n",
       "      <td>1390</td>\n",
       "      <td>0.054254</td>\n",
       "    </tr>\n",
       "    <tr>\n",
       "      <th>7</th>\n",
       "      <td>46</td>\n",
       "      <td>Architect Joshua Prince-Ramus takes the audien...</td>\n",
       "      <td>1198</td>\n",
       "      <td>TED2006</td>\n",
       "      <td>1140652800</td>\n",
       "      <td>19</td>\n",
       "      <td>Joshua Prince-Ramus</td>\n",
       "      <td>Joshua Prince-Ramus: Behind the design of Seat...</td>\n",
       "      <td>1</td>\n",
       "      <td>1152490260</td>\n",
       "      <td>...</td>\n",
       "      <td>Behind the design of Seattle's library</td>\n",
       "      <td>https://www.ted.com/talks/joshua_prince_ramus_...</td>\n",
       "      <td>967741</td>\n",
       "      <td>0.000048</td>\n",
       "      <td>21037.847826</td>\n",
       "      <td>2006-02-23</td>\n",
       "      <td>[{'id': 9, 'name': 'Ingenious', 'count': 195},...</td>\n",
       "      <td>1024</td>\n",
       "      <td>9</td>\n",
       "      <td>0.008789</td>\n",
       "    </tr>\n",
       "    <tr>\n",
       "      <th>11</th>\n",
       "      <td>55</td>\n",
       "      <td>Jehane Noujaim unveils her 2006 TED Prize wish...</td>\n",
       "      <td>1538</td>\n",
       "      <td>TED2006</td>\n",
       "      <td>1140912000</td>\n",
       "      <td>20</td>\n",
       "      <td>Jehane Noujaim</td>\n",
       "      <td>Jehane Noujaim: My wish: A global day of film</td>\n",
       "      <td>1</td>\n",
       "      <td>1153786260</td>\n",
       "      <td>...</td>\n",
       "      <td>My wish: A global day of film</td>\n",
       "      <td>https://www.ted.com/talks/jehane_noujaim_inspi...</td>\n",
       "      <td>387877</td>\n",
       "      <td>0.000142</td>\n",
       "      <td>7052.309091</td>\n",
       "      <td>2006-02-26</td>\n",
       "      <td>[{'id': 1, 'name': 'Beautiful', 'count': 70}, ...</td>\n",
       "      <td>592</td>\n",
       "      <td>5</td>\n",
       "      <td>0.008446</td>\n",
       "    </tr>\n",
       "    <tr>\n",
       "      <th>14</th>\n",
       "      <td>99</td>\n",
       "      <td>Nicholas Negroponte, founder of the MIT Media ...</td>\n",
       "      <td>1057</td>\n",
       "      <td>TED2006</td>\n",
       "      <td>1140652800</td>\n",
       "      <td>25</td>\n",
       "      <td>Nicholas Negroponte</td>\n",
       "      <td>Nicholas Negroponte: One Laptop per Child</td>\n",
       "      <td>1</td>\n",
       "      <td>1154391060</td>\n",
       "      <td>...</td>\n",
       "      <td>One Laptop per Child</td>\n",
       "      <td>https://www.ted.com/talks/nicholas_negroponte_...</td>\n",
       "      <td>358304</td>\n",
       "      <td>0.000276</td>\n",
       "      <td>3619.232323</td>\n",
       "      <td>2006-02-23</td>\n",
       "      <td>[{'id': 3, 'name': 'Courageous', 'count': 83},...</td>\n",
       "      <td>781</td>\n",
       "      <td>14</td>\n",
       "      <td>0.017926</td>\n",
       "    </tr>\n",
       "    <tr>\n",
       "      <th>15</th>\n",
       "      <td>325</td>\n",
       "      <td>Violinist Sirena Huang gives a technically bri...</td>\n",
       "      <td>1481</td>\n",
       "      <td>TED2006</td>\n",
       "      <td>1140652800</td>\n",
       "      <td>31</td>\n",
       "      <td>Sirena Huang</td>\n",
       "      <td>Sirena Huang: An 11-year-old's magical violin</td>\n",
       "      <td>1</td>\n",
       "      <td>1154995860</td>\n",
       "      <td>...</td>\n",
       "      <td>An 11-year-old's magical violin</td>\n",
       "      <td>https://www.ted.com/talks/sirena_huang_dazzles...</td>\n",
       "      <td>2702470</td>\n",
       "      <td>0.000120</td>\n",
       "      <td>8315.292308</td>\n",
       "      <td>2006-02-23</td>\n",
       "      <td>[{'id': 1, 'name': 'Beautiful', 'count': 1671}...</td>\n",
       "      <td>6239</td>\n",
       "      <td>190</td>\n",
       "      <td>0.030454</td>\n",
       "    </tr>\n",
       "    <tr>\n",
       "      <th>26</th>\n",
       "      <td>507</td>\n",
       "      <td>Biologist Richard Dawkins makes a case for \"th...</td>\n",
       "      <td>1316</td>\n",
       "      <td>TEDGlobal 2005</td>\n",
       "      <td>1120694400</td>\n",
       "      <td>36</td>\n",
       "      <td>Richard Dawkins</td>\n",
       "      <td>Richard Dawkins: Why the universe seems so str...</td>\n",
       "      <td>1</td>\n",
       "      <td>1158019860</td>\n",
       "      <td>...</td>\n",
       "      <td>Why the universe seems so strange</td>\n",
       "      <td>https://www.ted.com/talks/richard_dawkins_on_o...</td>\n",
       "      <td>2885999</td>\n",
       "      <td>0.000176</td>\n",
       "      <td>5692.305720</td>\n",
       "      <td>2005-07-07</td>\n",
       "      <td>[{'id': 1, 'name': 'Beautiful', 'count': 333},...</td>\n",
       "      <td>4594</td>\n",
       "      <td>127</td>\n",
       "      <td>0.027645</td>\n",
       "    </tr>\n",
       "    <tr>\n",
       "      <th>27</th>\n",
       "      <td>95</td>\n",
       "      <td>\"Freakonomics\" author Steven Levitt presents n...</td>\n",
       "      <td>1275</td>\n",
       "      <td>TED2004</td>\n",
       "      <td>1077840000</td>\n",
       "      <td>25</td>\n",
       "      <td>Steven Levitt</td>\n",
       "      <td>Steven Levitt: The freakonomics of crack dealing</td>\n",
       "      <td>1</td>\n",
       "      <td>1158624660</td>\n",
       "      <td>...</td>\n",
       "      <td>The freakonomics of crack dealing</td>\n",
       "      <td>https://www.ted.com/talks/steven_levitt_analyz...</td>\n",
       "      <td>2863214</td>\n",
       "      <td>0.000033</td>\n",
       "      <td>30139.094737</td>\n",
       "      <td>2004-02-27</td>\n",
       "      <td>[{'id': 7, 'name': 'Funny', 'count': 485}, {'i...</td>\n",
       "      <td>2036</td>\n",
       "      <td>485</td>\n",
       "      <td>0.238212</td>\n",
       "    </tr>\n",
       "    <tr>\n",
       "      <th>28</th>\n",
       "      <td>355</td>\n",
       "      <td>\"Tipping Point\" author Malcolm Gladwell gets i...</td>\n",
       "      <td>1050</td>\n",
       "      <td>TED2004</td>\n",
       "      <td>1077753600</td>\n",
       "      <td>37</td>\n",
       "      <td>Malcolm Gladwell</td>\n",
       "      <td>Malcolm Gladwell: Choice, happiness and spaghe...</td>\n",
       "      <td>1</td>\n",
       "      <td>1158624660</td>\n",
       "      <td>...</td>\n",
       "      <td>Choice, happiness and spaghetti sauce</td>\n",
       "      <td>https://www.ted.com/talks/malcolm_gladwell_on_...</td>\n",
       "      <td>7023562</td>\n",
       "      <td>0.000051</td>\n",
       "      <td>19784.681690</td>\n",
       "      <td>2004-02-26</td>\n",
       "      <td>[{'id': 7, 'name': 'Funny', 'count': 1668}, {'...</td>\n",
       "      <td>10678</td>\n",
       "      <td>1668</td>\n",
       "      <td>0.156209</td>\n",
       "    </tr>\n",
       "    <tr>\n",
       "      <th>30</th>\n",
       "      <td>991</td>\n",
       "      <td>Psychologist Barry Schwartz takes aim at a cen...</td>\n",
       "      <td>1177</td>\n",
       "      <td>TEDGlobal 2005</td>\n",
       "      <td>1121385600</td>\n",
       "      <td>45</td>\n",
       "      <td>Barry Schwartz</td>\n",
       "      <td>Barry Schwartz: The paradox of choice</td>\n",
       "      <td>1</td>\n",
       "      <td>1159229460</td>\n",
       "      <td>...</td>\n",
       "      <td>The paradox of choice</td>\n",
       "      <td>https://www.ted.com/talks/barry_schwartz_on_th...</td>\n",
       "      <td>10000702</td>\n",
       "      <td>0.000099</td>\n",
       "      <td>10091.525732</td>\n",
       "      <td>2005-07-15</td>\n",
       "      <td>[{'id': 7, 'name': 'Funny', 'count': 1526}, {'...</td>\n",
       "      <td>14945</td>\n",
       "      <td>1526</td>\n",
       "      <td>0.102108</td>\n",
       "    </tr>\n",
       "    <tr>\n",
       "      <th>34</th>\n",
       "      <td>58</td>\n",
       "      <td>Jacqueline Novogratz applauds the world's heig...</td>\n",
       "      <td>773</td>\n",
       "      <td>TEDGlobal 2005</td>\n",
       "      <td>1120176000</td>\n",
       "      <td>26</td>\n",
       "      <td>Jacqueline Novogratz</td>\n",
       "      <td>Jacqueline Novogratz: Invest in Africa's own s...</td>\n",
       "      <td>1</td>\n",
       "      <td>1160439060</td>\n",
       "      <td>...</td>\n",
       "      <td>Invest in Africa's own solutions</td>\n",
       "      <td>https://www.ted.com/talks/jacqueline_novogratz...</td>\n",
       "      <td>705389</td>\n",
       "      <td>0.000082</td>\n",
       "      <td>12161.879310</td>\n",
       "      <td>2005-07-01</td>\n",
       "      <td>[{'id': 1, 'name': 'Beautiful', 'count': 60}, ...</td>\n",
       "      <td>755</td>\n",
       "      <td>5</td>\n",
       "      <td>0.006623</td>\n",
       "    </tr>\n",
       "    <tr>\n",
       "      <th>39</th>\n",
       "      <td>112</td>\n",
       "      <td>Musician and activist Bono accepts the 2005 TE...</td>\n",
       "      <td>1672</td>\n",
       "      <td>TED2005</td>\n",
       "      <td>1109203200</td>\n",
       "      <td>24</td>\n",
       "      <td>Bono</td>\n",
       "      <td>Bono: My wish: Three actions for Africa</td>\n",
       "      <td>1</td>\n",
       "      <td>1162253460</td>\n",
       "      <td>...</td>\n",
       "      <td>My wish: Three actions for Africa</td>\n",
       "      <td>https://www.ted.com/talks/bono_s_call_to_actio...</td>\n",
       "      <td>718649</td>\n",
       "      <td>0.000156</td>\n",
       "      <td>6416.508929</td>\n",
       "      <td>2005-02-24</td>\n",
       "      <td>[{'id': 11, 'name': 'Longwinded', 'count': 41}...</td>\n",
       "      <td>969</td>\n",
       "      <td>26</td>\n",
       "      <td>0.026832</td>\n",
       "    </tr>\n",
       "    <tr>\n",
       "      <th>40</th>\n",
       "      <td>58</td>\n",
       "      <td>Accepting his 2005 TED Prize, photographer Edw...</td>\n",
       "      <td>2065</td>\n",
       "      <td>TED2005</td>\n",
       "      <td>1108598400</td>\n",
       "      <td>22</td>\n",
       "      <td>Edward Burtynsky</td>\n",
       "      <td>Edward Burtynsky: My wish: Manufactured landsc...</td>\n",
       "      <td>1</td>\n",
       "      <td>1162253460</td>\n",
       "      <td>...</td>\n",
       "      <td>My wish: Manufactured landscapes and green edu...</td>\n",
       "      <td>https://www.ted.com/talks/edward_burtynsky_on_...</td>\n",
       "      <td>975107</td>\n",
       "      <td>0.000059</td>\n",
       "      <td>16812.189655</td>\n",
       "      <td>2005-02-17</td>\n",
       "      <td>[{'id': 1, 'name': 'Beautiful', 'count': 106},...</td>\n",
       "      <td>952</td>\n",
       "      <td>8</td>\n",
       "      <td>0.008403</td>\n",
       "    </tr>\n",
       "    <tr>\n",
       "      <th>46</th>\n",
       "      <td>52</td>\n",
       "      <td>Musician and activist Peter Gabriel shares his...</td>\n",
       "      <td>848</td>\n",
       "      <td>TED2006</td>\n",
       "      <td>1140652800</td>\n",
       "      <td>24</td>\n",
       "      <td>Peter Gabriel</td>\n",
       "      <td>Peter Gabriel: Fight injustice with raw video</td>\n",
       "      <td>1</td>\n",
       "      <td>1165363860</td>\n",
       "      <td>...</td>\n",
       "      <td>Fight injustice with raw video</td>\n",
       "      <td>https://www.ted.com/talks/peter_gabriel_fights...</td>\n",
       "      <td>904215</td>\n",
       "      <td>0.000058</td>\n",
       "      <td>17388.750000</td>\n",
       "      <td>2006-02-23</td>\n",
       "      <td>[{'id': 3, 'name': 'Courageous', 'count': 180}...</td>\n",
       "      <td>849</td>\n",
       "      <td>5</td>\n",
       "      <td>0.005889</td>\n",
       "    </tr>\n",
       "    <tr>\n",
       "      <th>48</th>\n",
       "      <td>95</td>\n",
       "      <td>How many poets could cram eBay, Friendster and...</td>\n",
       "      <td>247</td>\n",
       "      <td>TEDSalon 2006</td>\n",
       "      <td>1164844800</td>\n",
       "      <td>34</td>\n",
       "      <td>Rives</td>\n",
       "      <td>Rives: If I controlled the Internet</td>\n",
       "      <td>1</td>\n",
       "      <td>1166055060</td>\n",
       "      <td>...</td>\n",
       "      <td>If I controlled the Internet</td>\n",
       "      <td>https://www.ted.com/talks/rives_controls_the_i...</td>\n",
       "      <td>1813665</td>\n",
       "      <td>0.000052</td>\n",
       "      <td>19091.210526</td>\n",
       "      <td>2006-11-30</td>\n",
       "      <td>[{'id': 7, 'name': 'Funny', 'count': 949}, {'i...</td>\n",
       "      <td>2649</td>\n",
       "      <td>949</td>\n",
       "      <td>0.358248</td>\n",
       "    </tr>\n",
       "    <tr>\n",
       "      <th>50</th>\n",
       "      <td>85</td>\n",
       "      <td>Robert Neuwirth, author of \"Shadow Cities,\" fi...</td>\n",
       "      <td>843</td>\n",
       "      <td>TEDGlobal 2005</td>\n",
       "      <td>1121299200</td>\n",
       "      <td>22</td>\n",
       "      <td>Robert Neuwirth</td>\n",
       "      <td>Robert Neuwirth: The hidden world of shadow ci...</td>\n",
       "      <td>1</td>\n",
       "      <td>1167696660</td>\n",
       "      <td>...</td>\n",
       "      <td>The hidden world of shadow cities</td>\n",
       "      <td>https://www.ted.com/talks/robert_neuwirth_on_o...</td>\n",
       "      <td>673036</td>\n",
       "      <td>0.000126</td>\n",
       "      <td>7918.070588</td>\n",
       "      <td>2005-07-14</td>\n",
       "      <td>[{'id': 8, 'name': 'Informative', 'count': 265...</td>\n",
       "      <td>1004</td>\n",
       "      <td>3</td>\n",
       "      <td>0.002988</td>\n",
       "    </tr>\n",
       "    <tr>\n",
       "      <th>53</th>\n",
       "      <td>59</td>\n",
       "      <td>Photographer Phil Borges shows rarely seen ima...</td>\n",
       "      <td>1115</td>\n",
       "      <td>TED2006</td>\n",
       "      <td>1140652800</td>\n",
       "      <td>29</td>\n",
       "      <td>Phil Borges</td>\n",
       "      <td>Phil Borges: Photos of endangered cultures</td>\n",
       "      <td>1</td>\n",
       "      <td>1168301460</td>\n",
       "      <td>...</td>\n",
       "      <td>Photos of endangered cultures</td>\n",
       "      <td>https://www.ted.com/talks/phil_borges_on_endan...</td>\n",
       "      <td>882034</td>\n",
       "      <td>0.000067</td>\n",
       "      <td>14949.728814</td>\n",
       "      <td>2006-02-23</td>\n",
       "      <td>[{'id': 1, 'name': 'Beautiful', 'count': 126},...</td>\n",
       "      <td>719</td>\n",
       "      <td>5</td>\n",
       "      <td>0.006954</td>\n",
       "    </tr>\n",
       "    <tr>\n",
       "      <th>54</th>\n",
       "      <td>203</td>\n",
       "      <td>Speaking as both an astronomer and \"a concerne...</td>\n",
       "      <td>1046</td>\n",
       "      <td>TEDGlobal 2005</td>\n",
       "      <td>1121299200</td>\n",
       "      <td>29</td>\n",
       "      <td>Martin Rees</td>\n",
       "      <td>Martin Rees: Is this our final century?</td>\n",
       "      <td>1</td>\n",
       "      <td>1168992660</td>\n",
       "      <td>...</td>\n",
       "      <td>Is this our final century?</td>\n",
       "      <td>https://www.ted.com/talks/martin_rees_asks_is_...</td>\n",
       "      <td>2121177</td>\n",
       "      <td>0.000096</td>\n",
       "      <td>10449.147783</td>\n",
       "      <td>2005-07-14</td>\n",
       "      <td>[{'id': 1, 'name': 'Beautiful', 'count': 214},...</td>\n",
       "      <td>2957</td>\n",
       "      <td>47</td>\n",
       "      <td>0.015894</td>\n",
       "    </tr>\n",
       "    <tr>\n",
       "      <th>56</th>\n",
       "      <td>47</td>\n",
       "      <td>Author Steven Johnson takes us on a 10-minute ...</td>\n",
       "      <td>603</td>\n",
       "      <td>TEDSalon 2006</td>\n",
       "      <td>1164844800</td>\n",
       "      <td>29</td>\n",
       "      <td>Steven Johnson</td>\n",
       "      <td>Steven Johnson: How the \"ghost map\" helped end...</td>\n",
       "      <td>1</td>\n",
       "      <td>1170202260</td>\n",
       "      <td>...</td>\n",
       "      <td>How the \"ghost map\" helped end a killer disease</td>\n",
       "      <td>https://www.ted.com/talks/steven_johnson_tours...</td>\n",
       "      <td>684519</td>\n",
       "      <td>0.000069</td>\n",
       "      <td>14564.234043</td>\n",
       "      <td>2006-11-30</td>\n",
       "      <td>[{'id': 10, 'name': 'Inspiring', 'count': 94},...</td>\n",
       "      <td>918</td>\n",
       "      <td>20</td>\n",
       "      <td>0.021786</td>\n",
       "    </tr>\n",
       "    <tr>\n",
       "      <th>60</th>\n",
       "      <td>28</td>\n",
       "      <td>Inventor and MacArthur fellow Saul Griffith sh...</td>\n",
       "      <td>869</td>\n",
       "      <td>TED2006</td>\n",
       "      <td>1140652800</td>\n",
       "      <td>18</td>\n",
       "      <td>Saul Griffith</td>\n",
       "      <td>Saul Griffith: Everyday inventions</td>\n",
       "      <td>1</td>\n",
       "      <td>1171843860</td>\n",
       "      <td>...</td>\n",
       "      <td>Everyday inventions</td>\n",
       "      <td>https://www.ted.com/talks/saul_griffith_on_eve...</td>\n",
       "      <td>442553</td>\n",
       "      <td>0.000063</td>\n",
       "      <td>15805.464286</td>\n",
       "      <td>2006-02-23</td>\n",
       "      <td>[{'id': 9, 'name': 'Ingenious', 'count': 89}, ...</td>\n",
       "      <td>571</td>\n",
       "      <td>3</td>\n",
       "      <td>0.005254</td>\n",
       "    </tr>\n",
       "    <tr>\n",
       "      <th>62</th>\n",
       "      <td>226</td>\n",
       "      <td>Journalist Carl Honore believes the Western wo...</td>\n",
       "      <td>1155</td>\n",
       "      <td>TEDGlobal 2005</td>\n",
       "      <td>1120694400</td>\n",
       "      <td>30</td>\n",
       "      <td>Carl Honoré</td>\n",
       "      <td>Carl Honoré: In praise of slowness</td>\n",
       "      <td>1</td>\n",
       "      <td>1172621460</td>\n",
       "      <td>...</td>\n",
       "      <td>In praise of slowness</td>\n",
       "      <td>https://www.ted.com/talks/carl_honore_praises_...</td>\n",
       "      <td>2441805</td>\n",
       "      <td>0.000093</td>\n",
       "      <td>10804.446903</td>\n",
       "      <td>2005-07-07</td>\n",
       "      <td>[{'id': 7, 'name': 'Funny', 'count': 199}, {'i...</td>\n",
       "      <td>3605</td>\n",
       "      <td>199</td>\n",
       "      <td>0.055201</td>\n",
       "    </tr>\n",
       "    <tr>\n",
       "      <th>63</th>\n",
       "      <td>97</td>\n",
       "      <td>Accepting the 2007 TED Prize, Bill Clinton ask...</td>\n",
       "      <td>1447</td>\n",
       "      <td>TED2007</td>\n",
       "      <td>1173312000</td>\n",
       "      <td>26</td>\n",
       "      <td>Bill Clinton</td>\n",
       "      <td>Bill Clinton: My wish: Rebuilding Rwanda</td>\n",
       "      <td>1</td>\n",
       "      <td>1175559060</td>\n",
       "      <td>...</td>\n",
       "      <td>My wish: Rebuilding Rwanda</td>\n",
       "      <td>https://www.ted.com/talks/bill_clinton_on_rebu...</td>\n",
       "      <td>849859</td>\n",
       "      <td>0.000114</td>\n",
       "      <td>8761.432990</td>\n",
       "      <td>2007-03-08</td>\n",
       "      <td>[{'id': 9, 'name': 'Ingenious', 'count': 37}, ...</td>\n",
       "      <td>1182</td>\n",
       "      <td>11</td>\n",
       "      <td>0.009306</td>\n",
       "    </tr>\n",
       "    <tr>\n",
       "      <th>64</th>\n",
       "      <td>89</td>\n",
       "      <td>As E.O. Wilson accepts his 2007 TED Prize, he ...</td>\n",
       "      <td>1355</td>\n",
       "      <td>TED2007</td>\n",
       "      <td>1173312000</td>\n",
       "      <td>26</td>\n",
       "      <td>E.O. Wilson</td>\n",
       "      <td>E.O. Wilson: My wish: Build the Encyclopedia o...</td>\n",
       "      <td>1</td>\n",
       "      <td>1175559060</td>\n",
       "      <td>...</td>\n",
       "      <td>My wish: Build the Encyclopedia of Life</td>\n",
       "      <td>https://www.ted.com/talks/e_o_wilson_on_saving...</td>\n",
       "      <td>1335732</td>\n",
       "      <td>0.000067</td>\n",
       "      <td>15008.224719</td>\n",
       "      <td>2007-03-08</td>\n",
       "      <td>[{'id': 9, 'name': 'Ingenious', 'count': 60}, ...</td>\n",
       "      <td>1747</td>\n",
       "      <td>44</td>\n",
       "      <td>0.025186</td>\n",
       "    </tr>\n",
       "    <tr>\n",
       "      <th>65</th>\n",
       "      <td>107</td>\n",
       "      <td>Accepting his 2007 TED Prize, war photographer...</td>\n",
       "      <td>1316</td>\n",
       "      <td>TED2007</td>\n",
       "      <td>1173312000</td>\n",
       "      <td>23</td>\n",
       "      <td>James Nachtwey</td>\n",
       "      <td>James Nachtwey: My wish: Let my photographs be...</td>\n",
       "      <td>1</td>\n",
       "      <td>1175559060</td>\n",
       "      <td>...</td>\n",
       "      <td>My wish: Let my photographs bear witness</td>\n",
       "      <td>https://www.ted.com/talks/james_nachtwey_s_sea...</td>\n",
       "      <td>1262674</td>\n",
       "      <td>0.000085</td>\n",
       "      <td>11800.691589</td>\n",
       "      <td>2007-03-08</td>\n",
       "      <td>[{'id': 3, 'name': 'Courageous', 'count': 637}...</td>\n",
       "      <td>2367</td>\n",
       "      <td>3</td>\n",
       "      <td>0.001267</td>\n",
       "    </tr>\n",
       "    <tr>\n",
       "      <th>70</th>\n",
       "      <td>130</td>\n",
       "      <td>Inventor Dean Kamen lays out his argument for ...</td>\n",
       "      <td>1207</td>\n",
       "      <td>TED2002</td>\n",
       "      <td>1012608000</td>\n",
       "      <td>18</td>\n",
       "      <td>Dean Kamen</td>\n",
       "      <td>Dean Kamen: To invent is to give</td>\n",
       "      <td>1</td>\n",
       "      <td>1175731860</td>\n",
       "      <td>...</td>\n",
       "      <td>To invent is to give</td>\n",
       "      <td>https://www.ted.com/talks/dean_kamen_on_invent...</td>\n",
       "      <td>680134</td>\n",
       "      <td>0.000191</td>\n",
       "      <td>5231.800000</td>\n",
       "      <td>2002-02-02</td>\n",
       "      <td>[{'id': 9, 'name': 'Ingenious', 'count': 121},...</td>\n",
       "      <td>676</td>\n",
       "      <td>15</td>\n",
       "      <td>0.022189</td>\n",
       "    </tr>\n",
       "    <tr>\n",
       "      <th>71</th>\n",
       "      <td>49</td>\n",
       "      <td>Scientific discoveries, futurist Juan Enriquez...</td>\n",
       "      <td>1340</td>\n",
       "      <td>TED2003</td>\n",
       "      <td>1044144000</td>\n",
       "      <td>20</td>\n",
       "      <td>Juan Enriquez</td>\n",
       "      <td>Juan Enriquez: The life code that will reshape...</td>\n",
       "      <td>1</td>\n",
       "      <td>1175731860</td>\n",
       "      <td>...</td>\n",
       "      <td>The life code that will reshape the future</td>\n",
       "      <td>https://www.ted.com/talks/juan_enriquez_on_gen...</td>\n",
       "      <td>690928</td>\n",
       "      <td>0.000071</td>\n",
       "      <td>14100.571429</td>\n",
       "      <td>2003-02-02</td>\n",
       "      <td>[{'id': 1, 'name': 'Beautiful', 'count': 27}, ...</td>\n",
       "      <td>1374</td>\n",
       "      <td>35</td>\n",
       "      <td>0.025473</td>\n",
       "    </tr>\n",
       "    <tr>\n",
       "      <th>72</th>\n",
       "      <td>86</td>\n",
       "      <td>Graphic designer Stefan Sagmeister takes the a...</td>\n",
       "      <td>930</td>\n",
       "      <td>TED2004</td>\n",
       "      <td>1075680000</td>\n",
       "      <td>26</td>\n",
       "      <td>Stefan Sagmeister</td>\n",
       "      <td>Stefan Sagmeister: Happiness by design</td>\n",
       "      <td>1</td>\n",
       "      <td>1175731860</td>\n",
       "      <td>...</td>\n",
       "      <td>Happiness by design</td>\n",
       "      <td>https://www.ted.com/talks/stefan_sagmeister_sh...</td>\n",
       "      <td>1762302</td>\n",
       "      <td>0.000049</td>\n",
       "      <td>20491.883721</td>\n",
       "      <td>2004-02-02</td>\n",
       "      <td>[{'id': 2, 'name': 'Confusing', 'count': 31}, ...</td>\n",
       "      <td>2001</td>\n",
       "      <td>468</td>\n",
       "      <td>0.233883</td>\n",
       "    </tr>\n",
       "    <tr>\n",
       "      <th>74</th>\n",
       "      <td>50</td>\n",
       "      <td>Architect Thom Mayne has never been one to tak...</td>\n",
       "      <td>1240</td>\n",
       "      <td>TED2005</td>\n",
       "      <td>1109289600</td>\n",
       "      <td>16</td>\n",
       "      <td>Thom Mayne</td>\n",
       "      <td>Thom Mayne: How architecture can connect us</td>\n",
       "      <td>1</td>\n",
       "      <td>1175731860</td>\n",
       "      <td>...</td>\n",
       "      <td>How architecture can connect us</td>\n",
       "      <td>https://www.ted.com/talks/thom_mayne_on_archit...</td>\n",
       "      <td>660909</td>\n",
       "      <td>0.000076</td>\n",
       "      <td>13218.180000</td>\n",
       "      <td>2005-02-25</td>\n",
       "      <td>[{'id': 2, 'name': 'Confusing', 'count': 69}, ...</td>\n",
       "      <td>556</td>\n",
       "      <td>7</td>\n",
       "      <td>0.012590</td>\n",
       "    </tr>\n",
       "    <tr>\n",
       "      <th>78</th>\n",
       "      <td>84</td>\n",
       "      <td>Vik Muniz makes art from pretty much anything,...</td>\n",
       "      <td>891</td>\n",
       "      <td>TED2003</td>\n",
       "      <td>1046304000</td>\n",
       "      <td>23</td>\n",
       "      <td>Vik Muniz</td>\n",
       "      <td>Vik Muniz: Art with wire, sugar, chocolate and...</td>\n",
       "      <td>1</td>\n",
       "      <td>1175731860</td>\n",
       "      <td>...</td>\n",
       "      <td>Art with wire, sugar, chocolate and string</td>\n",
       "      <td>https://www.ted.com/talks/vik_muniz_makes_art_...</td>\n",
       "      <td>1149090</td>\n",
       "      <td>0.000073</td>\n",
       "      <td>13679.642857</td>\n",
       "      <td>2003-02-27</td>\n",
       "      <td>[{'id': 9, 'name': 'Ingenious', 'count': 448},...</td>\n",
       "      <td>2438</td>\n",
       "      <td>507</td>\n",
       "      <td>0.207957</td>\n",
       "    </tr>\n",
       "    <tr>\n",
       "      <th>79</th>\n",
       "      <td>131</td>\n",
       "      <td>Oxford philosopher and transhumanist Nick Bost...</td>\n",
       "      <td>1012</td>\n",
       "      <td>TEDGlobal 2005</td>\n",
       "      <td>1121299200</td>\n",
       "      <td>24</td>\n",
       "      <td>Nick Bostrom</td>\n",
       "      <td>Nick Bostrom: A philosophical quest for our bi...</td>\n",
       "      <td>1</td>\n",
       "      <td>1175731860</td>\n",
       "      <td>...</td>\n",
       "      <td>A philosophical quest for our biggest problems</td>\n",
       "      <td>https://www.ted.com/talks/nick_bostrom_on_our_...</td>\n",
       "      <td>762264</td>\n",
       "      <td>0.000172</td>\n",
       "      <td>5818.809160</td>\n",
       "      <td>2005-07-14</td>\n",
       "      <td>[{'id': 9, 'name': 'Ingenious', 'count': 78}, ...</td>\n",
       "      <td>1331</td>\n",
       "      <td>15</td>\n",
       "      <td>0.011270</td>\n",
       "    </tr>\n",
       "    <tr>\n",
       "      <th>...</th>\n",
       "      <td>...</td>\n",
       "      <td>...</td>\n",
       "      <td>...</td>\n",
       "      <td>...</td>\n",
       "      <td>...</td>\n",
       "      <td>...</td>\n",
       "      <td>...</td>\n",
       "      <td>...</td>\n",
       "      <td>...</td>\n",
       "      <td>...</td>\n",
       "      <td>...</td>\n",
       "      <td>...</td>\n",
       "      <td>...</td>\n",
       "      <td>...</td>\n",
       "      <td>...</td>\n",
       "      <td>...</td>\n",
       "      <td>...</td>\n",
       "      <td>...</td>\n",
       "      <td>...</td>\n",
       "      <td>...</td>\n",
       "      <td>...</td>\n",
       "    </tr>\n",
       "    <tr>\n",
       "      <th>2431</th>\n",
       "      <td>27</td>\n",
       "      <td>To design the Bahá'í Temple of South America, ...</td>\n",
       "      <td>766</td>\n",
       "      <td>TEDNYC</td>\n",
       "      <td>1488931200</td>\n",
       "      <td>20</td>\n",
       "      <td>Siamak Hariri</td>\n",
       "      <td>Siamak Hariri: How do you build a sacred space?</td>\n",
       "      <td>1</td>\n",
       "      <td>1492440513</td>\n",
       "      <td>...</td>\n",
       "      <td>How do you build a sacred space?</td>\n",
       "      <td>https://www.ted.com/talks/siamak_hariri_how_do...</td>\n",
       "      <td>1098436</td>\n",
       "      <td>0.000025</td>\n",
       "      <td>40682.814815</td>\n",
       "      <td>2017-03-08</td>\n",
       "      <td>[{'id': 1, 'name': 'Beautiful', 'count': 344},...</td>\n",
       "      <td>858</td>\n",
       "      <td>5</td>\n",
       "      <td>0.005828</td>\n",
       "    </tr>\n",
       "    <tr>\n",
       "      <th>2432</th>\n",
       "      <td>30</td>\n",
       "      <td>Our universe is strange, wonderful and vast, s...</td>\n",
       "      <td>925</td>\n",
       "      <td>TEDxPerth</td>\n",
       "      <td>1476403200</td>\n",
       "      <td>17</td>\n",
       "      <td>Natasha Hurley-Walker</td>\n",
       "      <td>Natasha Hurley-Walker: How radio telescopes sh...</td>\n",
       "      <td>1</td>\n",
       "      <td>1492527759</td>\n",
       "      <td>...</td>\n",
       "      <td>How radio telescopes show us unseen galaxies</td>\n",
       "      <td>https://www.ted.com/talks/natasha_hurley_walke...</td>\n",
       "      <td>970115</td>\n",
       "      <td>0.000031</td>\n",
       "      <td>32337.166667</td>\n",
       "      <td>2016-10-14</td>\n",
       "      <td>[{'id': 8, 'name': 'Informative', 'count': 201...</td>\n",
       "      <td>806</td>\n",
       "      <td>9</td>\n",
       "      <td>0.011166</td>\n",
       "    </tr>\n",
       "    <tr>\n",
       "      <th>2434</th>\n",
       "      <td>32</td>\n",
       "      <td>Physician David Casarett was tired of hearing ...</td>\n",
       "      <td>907</td>\n",
       "      <td>TEDMED 2016</td>\n",
       "      <td>1480464000</td>\n",
       "      <td>13</td>\n",
       "      <td>David Casarett</td>\n",
       "      <td>David Casarett: A doctor's case for medical ma...</td>\n",
       "      <td>1</td>\n",
       "      <td>1492700670</td>\n",
       "      <td>...</td>\n",
       "      <td>A doctor's case for medical marijuana</td>\n",
       "      <td>https://www.ted.com/talks/david_casarett_a_doc...</td>\n",
       "      <td>1114319</td>\n",
       "      <td>0.000029</td>\n",
       "      <td>34822.468750</td>\n",
       "      <td>2016-11-30</td>\n",
       "      <td>[{'id': 24, 'name': 'Persuasive', 'count': 133...</td>\n",
       "      <td>763</td>\n",
       "      <td>6</td>\n",
       "      <td>0.007864</td>\n",
       "    </tr>\n",
       "    <tr>\n",
       "      <th>2436</th>\n",
       "      <td>53</td>\n",
       "      <td>On April 14, 2014, the terrorist organization ...</td>\n",
       "      <td>386</td>\n",
       "      <td>TEDLagos Ideas Search</td>\n",
       "      <td>1486771200</td>\n",
       "      <td>29</td>\n",
       "      <td>Stephanie Busari</td>\n",
       "      <td>Stephanie Busari: How fake news does real harm</td>\n",
       "      <td>1</td>\n",
       "      <td>1493046727</td>\n",
       "      <td>...</td>\n",
       "      <td>How fake news does real harm</td>\n",
       "      <td>https://www.ted.com/talks/stephanie_busari_how...</td>\n",
       "      <td>1036236</td>\n",
       "      <td>0.000051</td>\n",
       "      <td>19551.622642</td>\n",
       "      <td>2017-02-11</td>\n",
       "      <td>[{'id': 3, 'name': 'Courageous', 'count': 121}...</td>\n",
       "      <td>655</td>\n",
       "      <td>2</td>\n",
       "      <td>0.003053</td>\n",
       "    </tr>\n",
       "    <tr>\n",
       "      <th>2442</th>\n",
       "      <td>92</td>\n",
       "      <td>\"There are facts, there are opinions, and ther...</td>\n",
       "      <td>930</td>\n",
       "      <td>TEDxSkoll</td>\n",
       "      <td>1491523200</td>\n",
       "      <td>16</td>\n",
       "      <td>Deborah Lipstadt</td>\n",
       "      <td>Deborah Lipstadt: Behind the lies of Holocaust...</td>\n",
       "      <td>1</td>\n",
       "      <td>1493738150</td>\n",
       "      <td>...</td>\n",
       "      <td>Behind the lies of Holocaust denial</td>\n",
       "      <td>https://www.ted.com/talks/deborah_lipstadt_beh...</td>\n",
       "      <td>918385</td>\n",
       "      <td>0.000100</td>\n",
       "      <td>9982.445652</td>\n",
       "      <td>2017-04-07</td>\n",
       "      <td>[{'id': 3, 'name': 'Courageous', 'count': 220}...</td>\n",
       "      <td>1108</td>\n",
       "      <td>10</td>\n",
       "      <td>0.009025</td>\n",
       "    </tr>\n",
       "    <tr>\n",
       "      <th>2444</th>\n",
       "      <td>35</td>\n",
       "      <td>When stress got to be too much for TED Fellow ...</td>\n",
       "      <td>546</td>\n",
       "      <td>TEDLagos Ideas Search</td>\n",
       "      <td>1486771200</td>\n",
       "      <td>23</td>\n",
       "      <td>Sangu Delle</td>\n",
       "      <td>Sangu Delle: There's no shame in taking care o...</td>\n",
       "      <td>1</td>\n",
       "      <td>1493909824</td>\n",
       "      <td>...</td>\n",
       "      <td>There's no shame in taking care of your mental...</td>\n",
       "      <td>https://www.ted.com/talks/sangu_delle_there_s_...</td>\n",
       "      <td>1460852</td>\n",
       "      <td>0.000024</td>\n",
       "      <td>41738.628571</td>\n",
       "      <td>2017-02-11</td>\n",
       "      <td>[{'id': 1, 'name': 'Beautiful', 'count': 197},...</td>\n",
       "      <td>1421</td>\n",
       "      <td>10</td>\n",
       "      <td>0.007037</td>\n",
       "    </tr>\n",
       "    <tr>\n",
       "      <th>2449</th>\n",
       "      <td>15</td>\n",
       "      <td>Oceanographer Kate Stafford lowers us into the...</td>\n",
       "      <td>711</td>\n",
       "      <td>TEDxCERN</td>\n",
       "      <td>1478304000</td>\n",
       "      <td>15</td>\n",
       "      <td>Kate Stafford</td>\n",
       "      <td>Kate Stafford: How human noise affects ocean h...</td>\n",
       "      <td>1</td>\n",
       "      <td>1494601475</td>\n",
       "      <td>...</td>\n",
       "      <td>How human noise affects ocean habitats</td>\n",
       "      <td>https://www.ted.com/talks/kate_stafford_how_hu...</td>\n",
       "      <td>975412</td>\n",
       "      <td>0.000015</td>\n",
       "      <td>65027.466667</td>\n",
       "      <td>2016-11-05</td>\n",
       "      <td>[{'id': 8, 'name': 'Informative', 'count': 171...</td>\n",
       "      <td>448</td>\n",
       "      <td>11</td>\n",
       "      <td>0.024554</td>\n",
       "    </tr>\n",
       "    <tr>\n",
       "      <th>2456</th>\n",
       "      <td>183</td>\n",
       "      <td>\"Ideas can and do change the world,\" says hist...</td>\n",
       "      <td>898</td>\n",
       "      <td>TED2017</td>\n",
       "      <td>1492992000</td>\n",
       "      <td>20</td>\n",
       "      <td>Rutger Bregman</td>\n",
       "      <td>Rutger Bregman: Poverty isn't a lack of charac...</td>\n",
       "      <td>1</td>\n",
       "      <td>1495465574</td>\n",
       "      <td>...</td>\n",
       "      <td>Poverty isn't a lack of character; it's a lack...</td>\n",
       "      <td>https://www.ted.com/talks/rutger_bregman_pover...</td>\n",
       "      <td>1419314</td>\n",
       "      <td>0.000129</td>\n",
       "      <td>7755.814208</td>\n",
       "      <td>2017-04-24</td>\n",
       "      <td>[{'id': 10, 'name': 'Inspiring', 'count': 950}...</td>\n",
       "      <td>2967</td>\n",
       "      <td>40</td>\n",
       "      <td>0.013482</td>\n",
       "    </tr>\n",
       "    <tr>\n",
       "      <th>2464</th>\n",
       "      <td>18</td>\n",
       "      <td>Illness is universal -- but access to care is ...</td>\n",
       "      <td>1230</td>\n",
       "      <td>TED2017</td>\n",
       "      <td>1492992000</td>\n",
       "      <td>14</td>\n",
       "      <td>Raj Panjabi</td>\n",
       "      <td>Raj Panjabi: No one should die because they li...</td>\n",
       "      <td>1</td>\n",
       "      <td>1496327443</td>\n",
       "      <td>...</td>\n",
       "      <td>No one should die because they live too far fr...</td>\n",
       "      <td>https://www.ted.com/talks/raj_panjabi_no_one_s...</td>\n",
       "      <td>874817</td>\n",
       "      <td>0.000021</td>\n",
       "      <td>48600.944444</td>\n",
       "      <td>2017-04-24</td>\n",
       "      <td>[{'id': 10, 'name': 'Inspiring', 'count': 196}...</td>\n",
       "      <td>509</td>\n",
       "      <td>0</td>\n",
       "      <td>0.000000</td>\n",
       "    </tr>\n",
       "    <tr>\n",
       "      <th>2465</th>\n",
       "      <td>10</td>\n",
       "      <td>Rhiannon Giddens pours the emotional weight of...</td>\n",
       "      <td>885</td>\n",
       "      <td>TED2016</td>\n",
       "      <td>1455494400</td>\n",
       "      <td>8</td>\n",
       "      <td>Rhiannon Giddens</td>\n",
       "      <td>Rhiannon Giddens: Songs that bring history to ...</td>\n",
       "      <td>1</td>\n",
       "      <td>1496400857</td>\n",
       "      <td>...</td>\n",
       "      <td>Songs that bring history to life</td>\n",
       "      <td>https://www.ted.com/talks/rhiannon_giddens_3_s...</td>\n",
       "      <td>946815</td>\n",
       "      <td>0.000011</td>\n",
       "      <td>94681.500000</td>\n",
       "      <td>2016-02-15</td>\n",
       "      <td>[{'id': 1, 'name': 'Beautiful', 'count': 151},...</td>\n",
       "      <td>334</td>\n",
       "      <td>5</td>\n",
       "      <td>0.014970</td>\n",
       "    </tr>\n",
       "    <tr>\n",
       "      <th>2467</th>\n",
       "      <td>35</td>\n",
       "      <td>The more we read and watch online, the harder ...</td>\n",
       "      <td>866</td>\n",
       "      <td>TED2017</td>\n",
       "      <td>1492992000</td>\n",
       "      <td>18</td>\n",
       "      <td>Michael Patrick Lynch</td>\n",
       "      <td>Michael Patrick Lynch: How to see past your ow...</td>\n",
       "      <td>1</td>\n",
       "      <td>1496674795</td>\n",
       "      <td>...</td>\n",
       "      <td>How to see past your own perspective and find ...</td>\n",
       "      <td>https://www.ted.com/talks/michael_patrick_lync...</td>\n",
       "      <td>1264166</td>\n",
       "      <td>0.000028</td>\n",
       "      <td>36119.028571</td>\n",
       "      <td>2017-04-24</td>\n",
       "      <td>[{'id': 10, 'name': 'Inspiring', 'count': 188}...</td>\n",
       "      <td>981</td>\n",
       "      <td>5</td>\n",
       "      <td>0.005097</td>\n",
       "    </tr>\n",
       "    <tr>\n",
       "      <th>2470</th>\n",
       "      <td>28</td>\n",
       "      <td>Attention isn't just about what we focus on --...</td>\n",
       "      <td>392</td>\n",
       "      <td>TED2017</td>\n",
       "      <td>1492992000</td>\n",
       "      <td>29</td>\n",
       "      <td>Mehdi Ordikhani-Seyedlar</td>\n",
       "      <td>Mehdi Ordikhani-Seyedlar: What happens in your...</td>\n",
       "      <td>1</td>\n",
       "      <td>1496933333</td>\n",
       "      <td>...</td>\n",
       "      <td>What happens in your brain when you pay attent...</td>\n",
       "      <td>https://www.ted.com/talks/mehdi_ordikhani_seye...</td>\n",
       "      <td>1781721</td>\n",
       "      <td>0.000016</td>\n",
       "      <td>63632.892857</td>\n",
       "      <td>2017-04-24</td>\n",
       "      <td>[{'id': 8, 'name': 'Informative', 'count': 374...</td>\n",
       "      <td>1438</td>\n",
       "      <td>8</td>\n",
       "      <td>0.005563</td>\n",
       "    </tr>\n",
       "    <tr>\n",
       "      <th>2487</th>\n",
       "      <td>29</td>\n",
       "      <td>What are our screens and devices doing to us? ...</td>\n",
       "      <td>569</td>\n",
       "      <td>TED2017</td>\n",
       "      <td>1492992000</td>\n",
       "      <td>19</td>\n",
       "      <td>Adam Alter</td>\n",
       "      <td>Adam Alter: Why our screens make us less happy</td>\n",
       "      <td>1</td>\n",
       "      <td>1500044323</td>\n",
       "      <td>...</td>\n",
       "      <td>Why our screens make us less happy</td>\n",
       "      <td>https://www.ted.com/talks/adam_alter_why_our_s...</td>\n",
       "      <td>1858990</td>\n",
       "      <td>0.000016</td>\n",
       "      <td>64103.103448</td>\n",
       "      <td>2017-04-24</td>\n",
       "      <td>[{'id': 24, 'name': 'Persuasive', 'count': 293...</td>\n",
       "      <td>1412</td>\n",
       "      <td>39</td>\n",
       "      <td>0.027620</td>\n",
       "    </tr>\n",
       "    <tr>\n",
       "      <th>2493</th>\n",
       "      <td>59</td>\n",
       "      <td>Loneliness doesn't always stem from being alon...</td>\n",
       "      <td>615</td>\n",
       "      <td>TED2017</td>\n",
       "      <td>1492992000</td>\n",
       "      <td>10</td>\n",
       "      <td>Grace Kim</td>\n",
       "      <td>Grace Kim: How cohousing can make us happier (...</td>\n",
       "      <td>1</td>\n",
       "      <td>1500907957</td>\n",
       "      <td>...</td>\n",
       "      <td>How cohousing can make us happier (and live lo...</td>\n",
       "      <td>https://www.ted.com/talks/grace_kim_how_cohous...</td>\n",
       "      <td>1363680</td>\n",
       "      <td>0.000043</td>\n",
       "      <td>23113.220339</td>\n",
       "      <td>2017-04-24</td>\n",
       "      <td>[{'id': 10, 'name': 'Inspiring', 'count': 130}...</td>\n",
       "      <td>427</td>\n",
       "      <td>5</td>\n",
       "      <td>0.011710</td>\n",
       "    </tr>\n",
       "    <tr>\n",
       "      <th>2498</th>\n",
       "      <td>40</td>\n",
       "      <td>That science fiction future where robots can d...</td>\n",
       "      <td>873</td>\n",
       "      <td>TED2017</td>\n",
       "      <td>1492992000</td>\n",
       "      <td>6</td>\n",
       "      <td>Marc Raibert</td>\n",
       "      <td>Marc Raibert: Meet Spot, the robot dog that ca...</td>\n",
       "      <td>1</td>\n",
       "      <td>1501513721</td>\n",
       "      <td>...</td>\n",
       "      <td>Meet Spot, the robot dog that can run, hop and...</td>\n",
       "      <td>https://www.ted.com/talks/marc_raibert_meet_sp...</td>\n",
       "      <td>1475823</td>\n",
       "      <td>0.000027</td>\n",
       "      <td>36895.575000</td>\n",
       "      <td>2017-04-24</td>\n",
       "      <td>[{'id': 3, 'name': 'Courageous', 'count': 27},...</td>\n",
       "      <td>365</td>\n",
       "      <td>30</td>\n",
       "      <td>0.082192</td>\n",
       "    </tr>\n",
       "    <tr>\n",
       "      <th>2499</th>\n",
       "      <td>46</td>\n",
       "      <td>Artist Titus Kaphar makes paintings and sculpt...</td>\n",
       "      <td>772</td>\n",
       "      <td>TED2017</td>\n",
       "      <td>1492992000</td>\n",
       "      <td>12</td>\n",
       "      <td>Titus Kaphar</td>\n",
       "      <td>Titus Kaphar: Can art amend history?</td>\n",
       "      <td>1</td>\n",
       "      <td>1501599710</td>\n",
       "      <td>...</td>\n",
       "      <td>Can art amend history?</td>\n",
       "      <td>https://www.ted.com/talks/titus_kaphar_can_art...</td>\n",
       "      <td>890748</td>\n",
       "      <td>0.000052</td>\n",
       "      <td>19364.086957</td>\n",
       "      <td>2017-04-24</td>\n",
       "      <td>[{'id': 10, 'name': 'Inspiring', 'count': 94},...</td>\n",
       "      <td>382</td>\n",
       "      <td>18</td>\n",
       "      <td>0.047120</td>\n",
       "    </tr>\n",
       "    <tr>\n",
       "      <th>2502</th>\n",
       "      <td>20</td>\n",
       "      <td>Ten years ago, researchers thought that gettin...</td>\n",
       "      <td>457</td>\n",
       "      <td>TED2017</td>\n",
       "      <td>1492992000</td>\n",
       "      <td>8</td>\n",
       "      <td>Joseph Redmon</td>\n",
       "      <td>Joseph Redmon: How computers learn to recogniz...</td>\n",
       "      <td>1</td>\n",
       "      <td>1501859800</td>\n",
       "      <td>...</td>\n",
       "      <td>How computers learn to recognize objects insta...</td>\n",
       "      <td>https://www.ted.com/talks/joseph_redmon_how_a_...</td>\n",
       "      <td>1164777</td>\n",
       "      <td>0.000017</td>\n",
       "      <td>58238.850000</td>\n",
       "      <td>2017-04-24</td>\n",
       "      <td>[{'id': 10, 'name': 'Inspiring', 'count': 72},...</td>\n",
       "      <td>426</td>\n",
       "      <td>7</td>\n",
       "      <td>0.016432</td>\n",
       "    </tr>\n",
       "    <tr>\n",
       "      <th>2506</th>\n",
       "      <td>36</td>\n",
       "      <td>On August 21, 2017, the moon's shadow raced fr...</td>\n",
       "      <td>736</td>\n",
       "      <td>TEDxMileHigh</td>\n",
       "      <td>1499472000</td>\n",
       "      <td>10</td>\n",
       "      <td>David Baron</td>\n",
       "      <td>David Baron: You owe it to yourself to experie...</td>\n",
       "      <td>1</td>\n",
       "      <td>1502375863</td>\n",
       "      <td>...</td>\n",
       "      <td>You owe it to yourself to experience a total s...</td>\n",
       "      <td>https://www.ted.com/talks/david_baron_you_owe_...</td>\n",
       "      <td>1319327</td>\n",
       "      <td>0.000027</td>\n",
       "      <td>36647.972222</td>\n",
       "      <td>2017-07-08</td>\n",
       "      <td>[{'id': 1, 'name': 'Beautiful', 'count': 174},...</td>\n",
       "      <td>817</td>\n",
       "      <td>17</td>\n",
       "      <td>0.020808</td>\n",
       "    </tr>\n",
       "    <tr>\n",
       "      <th>2523</th>\n",
       "      <td>20</td>\n",
       "      <td>Another economic reality is possible -- one th...</td>\n",
       "      <td>747</td>\n",
       "      <td>TEDxCrenshaw</td>\n",
       "      <td>1475884800</td>\n",
       "      <td>3</td>\n",
       "      <td>Niki Okuk</td>\n",
       "      <td>Niki Okuk: When workers own companies, the eco...</td>\n",
       "      <td>1</td>\n",
       "      <td>1503932075</td>\n",
       "      <td>...</td>\n",
       "      <td>When workers own companies, the economy is mor...</td>\n",
       "      <td>https://www.ted.com/talks/niki_okuk_when_worke...</td>\n",
       "      <td>744793</td>\n",
       "      <td>0.000027</td>\n",
       "      <td>37239.650000</td>\n",
       "      <td>2016-10-08</td>\n",
       "      <td>[{'id': 3, 'name': 'Courageous', 'count': 46},...</td>\n",
       "      <td>367</td>\n",
       "      <td>3</td>\n",
       "      <td>0.008174</td>\n",
       "    </tr>\n",
       "    <tr>\n",
       "      <th>2530</th>\n",
       "      <td>12</td>\n",
       "      <td>Daan Roosegaarde uses technology and creative ...</td>\n",
       "      <td>738</td>\n",
       "      <td>TED2017</td>\n",
       "      <td>1492992000</td>\n",
       "      <td>3</td>\n",
       "      <td>Daan Roosegaarde</td>\n",
       "      <td>Daan Roosegaarde: A smog vacuum cleaner and ot...</td>\n",
       "      <td>1</td>\n",
       "      <td>1504623555</td>\n",
       "      <td>...</td>\n",
       "      <td>A smog vacuum cleaner and other magical city d...</td>\n",
       "      <td>https://www.ted.com/talks/daan_roosegaarde_a_s...</td>\n",
       "      <td>591131</td>\n",
       "      <td>0.000020</td>\n",
       "      <td>49260.916667</td>\n",
       "      <td>2017-04-24</td>\n",
       "      <td>[{'id': 2, 'name': 'Confusing', 'count': 2}, {...</td>\n",
       "      <td>468</td>\n",
       "      <td>32</td>\n",
       "      <td>0.068376</td>\n",
       "    </tr>\n",
       "    <tr>\n",
       "      <th>2533</th>\n",
       "      <td>9</td>\n",
       "      <td>In a mind-bending talk that blurs the line bet...</td>\n",
       "      <td>663</td>\n",
       "      <td>TED2017</td>\n",
       "      <td>1492992000</td>\n",
       "      <td>2</td>\n",
       "      <td>Tomás Saraceno</td>\n",
       "      <td>Tomás Saraceno: Would you live in a floating ...</td>\n",
       "      <td>1</td>\n",
       "      <td>1504796048</td>\n",
       "      <td>...</td>\n",
       "      <td>Would you live in a floating city in the sky?</td>\n",
       "      <td>https://www.ted.com/talks/tomas_saraceno_would...</td>\n",
       "      <td>248411</td>\n",
       "      <td>0.000036</td>\n",
       "      <td>27601.222222</td>\n",
       "      <td>2017-04-24</td>\n",
       "      <td>[{'id': 1, 'name': 'Beautiful', 'count': 29}, ...</td>\n",
       "      <td>183</td>\n",
       "      <td>2</td>\n",
       "      <td>0.010929</td>\n",
       "    </tr>\n",
       "    <tr>\n",
       "      <th>2534</th>\n",
       "      <td>2</td>\n",
       "      <td>What the astronauts felt when they saw Earth f...</td>\n",
       "      <td>725</td>\n",
       "      <td>TEDxSkoll</td>\n",
       "      <td>1491523200</td>\n",
       "      <td>1</td>\n",
       "      <td>Benjamin Grant</td>\n",
       "      <td>Benjamin Grant: What it feels like to see Eart...</td>\n",
       "      <td>1</td>\n",
       "      <td>1504814438</td>\n",
       "      <td>...</td>\n",
       "      <td>What it feels like to see Earth from space</td>\n",
       "      <td>https://www.ted.com/talks/benjamin_grant_what_...</td>\n",
       "      <td>646174</td>\n",
       "      <td>0.000003</td>\n",
       "      <td>323087.000000</td>\n",
       "      <td>2017-04-07</td>\n",
       "      <td>[{'id': 10, 'name': 'Inspiring', 'count': 46},...</td>\n",
       "      <td>221</td>\n",
       "      <td>4</td>\n",
       "      <td>0.018100</td>\n",
       "    </tr>\n",
       "    <tr>\n",
       "      <th>2535</th>\n",
       "      <td>8</td>\n",
       "      <td>Underneath every shiny new megacity, there's o...</td>\n",
       "      <td>723</td>\n",
       "      <td>TEDGlobal 2017</td>\n",
       "      <td>1503792000</td>\n",
       "      <td>4</td>\n",
       "      <td>OluTimehin Adegbeye</td>\n",
       "      <td>OluTimehin Adegbeye: Who belongs in a city?</td>\n",
       "      <td>1</td>\n",
       "      <td>1504882266</td>\n",
       "      <td>...</td>\n",
       "      <td>Who belongs in a city?</td>\n",
       "      <td>https://www.ted.com/talks/olutimehin_adegbeye_...</td>\n",
       "      <td>707788</td>\n",
       "      <td>0.000011</td>\n",
       "      <td>88473.500000</td>\n",
       "      <td>2017-08-27</td>\n",
       "      <td>[{'id': 3, 'name': 'Courageous', 'count': 77},...</td>\n",
       "      <td>431</td>\n",
       "      <td>19</td>\n",
       "      <td>0.044084</td>\n",
       "    </tr>\n",
       "    <tr>\n",
       "      <th>2537</th>\n",
       "      <td>39</td>\n",
       "      <td>Our culture is obsessed with happiness, but wh...</td>\n",
       "      <td>738</td>\n",
       "      <td>TED2017</td>\n",
       "      <td>1492992000</td>\n",
       "      <td>2</td>\n",
       "      <td>Emily Esfahani Smith</td>\n",
       "      <td>Emily Esfahani Smith: There's more to life tha...</td>\n",
       "      <td>1</td>\n",
       "      <td>1505227376</td>\n",
       "      <td>...</td>\n",
       "      <td>There's more to life than being happy</td>\n",
       "      <td>https://www.ted.com/talks/emily_esfahani_smith...</td>\n",
       "      <td>1009069</td>\n",
       "      <td>0.000039</td>\n",
       "      <td>25873.564103</td>\n",
       "      <td>2017-04-24</td>\n",
       "      <td>[{'id': 1, 'name': 'Beautiful', 'count': 484},...</td>\n",
       "      <td>2009</td>\n",
       "      <td>3</td>\n",
       "      <td>0.001493</td>\n",
       "    </tr>\n",
       "    <tr>\n",
       "      <th>2538</th>\n",
       "      <td>7</td>\n",
       "      <td>Each year, one in seven large corporations com...</td>\n",
       "      <td>808</td>\n",
       "      <td>TEDxZurich</td>\n",
       "      <td>1478822400</td>\n",
       "      <td>1</td>\n",
       "      <td>Alexander Wagner</td>\n",
       "      <td>Alexander Wagner: What really motivates people...</td>\n",
       "      <td>1</td>\n",
       "      <td>1505246451</td>\n",
       "      <td>...</td>\n",
       "      <td>What really motivates people to be honest in b...</td>\n",
       "      <td>https://www.ted.com/talks/alexander_wagner_wha...</td>\n",
       "      <td>621431</td>\n",
       "      <td>0.000011</td>\n",
       "      <td>88775.857143</td>\n",
       "      <td>2016-11-11</td>\n",
       "      <td>[{'id': 10, 'name': 'Inspiring', 'count': 50},...</td>\n",
       "      <td>231</td>\n",
       "      <td>5</td>\n",
       "      <td>0.021645</td>\n",
       "    </tr>\n",
       "    <tr>\n",
       "      <th>2539</th>\n",
       "      <td>10</td>\n",
       "      <td>Forget quinoa. Meet fonio, an ancient \"miracle...</td>\n",
       "      <td>934</td>\n",
       "      <td>TED2017</td>\n",
       "      <td>1503792000</td>\n",
       "      <td>2</td>\n",
       "      <td>Pierre Thiam</td>\n",
       "      <td>Pierre Thiam: A forgotten ancient grain that c...</td>\n",
       "      <td>1</td>\n",
       "      <td>1505313942</td>\n",
       "      <td>...</td>\n",
       "      <td>A forgotten ancient grain that could help Afri...</td>\n",
       "      <td>https://www.ted.com/talks/pierre_thiam_a_forgo...</td>\n",
       "      <td>527314</td>\n",
       "      <td>0.000019</td>\n",
       "      <td>52731.400000</td>\n",
       "      <td>2017-08-27</td>\n",
       "      <td>[{'id': 10, 'name': 'Inspiring', 'count': 73},...</td>\n",
       "      <td>256</td>\n",
       "      <td>2</td>\n",
       "      <td>0.007812</td>\n",
       "    </tr>\n",
       "    <tr>\n",
       "      <th>2541</th>\n",
       "      <td>12</td>\n",
       "      <td>Physics doesn't just happen in a fancy lab -- ...</td>\n",
       "      <td>957</td>\n",
       "      <td>TEDxManchester</td>\n",
       "      <td>1487462400</td>\n",
       "      <td>2</td>\n",
       "      <td>Helen Czerski</td>\n",
       "      <td>Helen Czerski: The fascinating physics of ever...</td>\n",
       "      <td>1</td>\n",
       "      <td>1505419202</td>\n",
       "      <td>...</td>\n",
       "      <td>The fascinating physics of everyday life</td>\n",
       "      <td>https://www.ted.com/talks/helen_czerski_fun_ho...</td>\n",
       "      <td>656791</td>\n",
       "      <td>0.000018</td>\n",
       "      <td>54732.583333</td>\n",
       "      <td>2017-02-19</td>\n",
       "      <td>[{'id': 11, 'name': 'Longwinded', 'count': 29}...</td>\n",
       "      <td>378</td>\n",
       "      <td>39</td>\n",
       "      <td>0.103175</td>\n",
       "    </tr>\n",
       "    <tr>\n",
       "      <th>2542</th>\n",
       "      <td>3</td>\n",
       "      <td>In the century-old statues that occupy Cape To...</td>\n",
       "      <td>795</td>\n",
       "      <td>TEDGlobal 2017</td>\n",
       "      <td>1503792000</td>\n",
       "      <td>1</td>\n",
       "      <td>Sethembile Msezane</td>\n",
       "      <td>Sethembile Msezane: Living sculptures that sta...</td>\n",
       "      <td>1</td>\n",
       "      <td>1505488093</td>\n",
       "      <td>...</td>\n",
       "      <td>Living sculptures that stand for history's truths</td>\n",
       "      <td>https://www.ted.com/talks/sethembile_msezane_l...</td>\n",
       "      <td>542088</td>\n",
       "      <td>0.000006</td>\n",
       "      <td>180696.000000</td>\n",
       "      <td>2017-08-27</td>\n",
       "      <td>[{'id': 1, 'name': 'Beautiful', 'count': 41}, ...</td>\n",
       "      <td>181</td>\n",
       "      <td>6</td>\n",
       "      <td>0.033149</td>\n",
       "    </tr>\n",
       "    <tr>\n",
       "      <th>2545</th>\n",
       "      <td>17</td>\n",
       "      <td>Between 2008 and 2016, the United States depor...</td>\n",
       "      <td>476</td>\n",
       "      <td>TED2017</td>\n",
       "      <td>1496707200</td>\n",
       "      <td>4</td>\n",
       "      <td>Duarte Geraldino</td>\n",
       "      <td>Duarte Geraldino: What we're missing in the de...</td>\n",
       "      <td>1</td>\n",
       "      <td>1505851216</td>\n",
       "      <td>...</td>\n",
       "      <td>What we're missing in the debate about immigra...</td>\n",
       "      <td>https://www.ted.com/talks/duarte_geraldino_wha...</td>\n",
       "      <td>450430</td>\n",
       "      <td>0.000038</td>\n",
       "      <td>26495.882353</td>\n",
       "      <td>2017-06-06</td>\n",
       "      <td>[{'id': 3, 'name': 'Courageous', 'count': 24},...</td>\n",
       "      <td>192</td>\n",
       "      <td>1</td>\n",
       "      <td>0.005208</td>\n",
       "    </tr>\n",
       "    <tr>\n",
       "      <th>2549</th>\n",
       "      <td>8</td>\n",
       "      <td>With more than half of the world population li...</td>\n",
       "      <td>519</td>\n",
       "      <td>TED2017</td>\n",
       "      <td>1492992000</td>\n",
       "      <td>1</td>\n",
       "      <td>Karoliina Korppoo</td>\n",
       "      <td>Karoliina Korppoo: How a video game might help...</td>\n",
       "      <td>1</td>\n",
       "      <td>1506092422</td>\n",
       "      <td>...</td>\n",
       "      <td>How a video game might help us build better ci...</td>\n",
       "      <td>https://www.ted.com/talks/karoliina_korppoo_ho...</td>\n",
       "      <td>391721</td>\n",
       "      <td>0.000020</td>\n",
       "      <td>48965.125000</td>\n",
       "      <td>2017-04-24</td>\n",
       "      <td>[{'id': 21, 'name': 'Unconvincing', 'count': 2...</td>\n",
       "      <td>142</td>\n",
       "      <td>0</td>\n",
       "      <td>0.000000</td>\n",
       "    </tr>\n",
       "  </tbody>\n",
       "</table>\n",
       "<p>786 rows × 24 columns</p>\n",
       "</div>"
      ],
      "text/plain": [
       "      comments                                        description  duration  \\\n",
       "1          265  With the same humor and humanity he exuded in ...       977   \n",
       "4          593  You've never seen data presented like this. Wi...      1190   \n",
       "7           46  Architect Joshua Prince-Ramus takes the audien...      1198   \n",
       "11          55  Jehane Noujaim unveils her 2006 TED Prize wish...      1538   \n",
       "14          99  Nicholas Negroponte, founder of the MIT Media ...      1057   \n",
       "15         325  Violinist Sirena Huang gives a technically bri...      1481   \n",
       "26         507  Biologist Richard Dawkins makes a case for \"th...      1316   \n",
       "27          95  \"Freakonomics\" author Steven Levitt presents n...      1275   \n",
       "28         355  \"Tipping Point\" author Malcolm Gladwell gets i...      1050   \n",
       "30         991  Psychologist Barry Schwartz takes aim at a cen...      1177   \n",
       "34          58  Jacqueline Novogratz applauds the world's heig...       773   \n",
       "39         112  Musician and activist Bono accepts the 2005 TE...      1672   \n",
       "40          58  Accepting his 2005 TED Prize, photographer Edw...      2065   \n",
       "46          52  Musician and activist Peter Gabriel shares his...       848   \n",
       "48          95  How many poets could cram eBay, Friendster and...       247   \n",
       "50          85  Robert Neuwirth, author of \"Shadow Cities,\" fi...       843   \n",
       "53          59  Photographer Phil Borges shows rarely seen ima...      1115   \n",
       "54         203  Speaking as both an astronomer and \"a concerne...      1046   \n",
       "56          47  Author Steven Johnson takes us on a 10-minute ...       603   \n",
       "60          28  Inventor and MacArthur fellow Saul Griffith sh...       869   \n",
       "62         226  Journalist Carl Honore believes the Western wo...      1155   \n",
       "63          97  Accepting the 2007 TED Prize, Bill Clinton ask...      1447   \n",
       "64          89  As E.O. Wilson accepts his 2007 TED Prize, he ...      1355   \n",
       "65         107  Accepting his 2007 TED Prize, war photographer...      1316   \n",
       "70         130  Inventor Dean Kamen lays out his argument for ...      1207   \n",
       "71          49  Scientific discoveries, futurist Juan Enriquez...      1340   \n",
       "72          86  Graphic designer Stefan Sagmeister takes the a...       930   \n",
       "74          50  Architect Thom Mayne has never been one to tak...      1240   \n",
       "78          84  Vik Muniz makes art from pretty much anything,...       891   \n",
       "79         131  Oxford philosopher and transhumanist Nick Bost...      1012   \n",
       "...        ...                                                ...       ...   \n",
       "2431        27  To design the Bahá'í Temple of South America, ...       766   \n",
       "2432        30  Our universe is strange, wonderful and vast, s...       925   \n",
       "2434        32  Physician David Casarett was tired of hearing ...       907   \n",
       "2436        53  On April 14, 2014, the terrorist organization ...       386   \n",
       "2442        92  \"There are facts, there are opinions, and ther...       930   \n",
       "2444        35  When stress got to be too much for TED Fellow ...       546   \n",
       "2449        15  Oceanographer Kate Stafford lowers us into the...       711   \n",
       "2456       183  \"Ideas can and do change the world,\" says hist...       898   \n",
       "2464        18  Illness is universal -- but access to care is ...      1230   \n",
       "2465        10  Rhiannon Giddens pours the emotional weight of...       885   \n",
       "2467        35  The more we read and watch online, the harder ...       866   \n",
       "2470        28  Attention isn't just about what we focus on --...       392   \n",
       "2487        29  What are our screens and devices doing to us? ...       569   \n",
       "2493        59  Loneliness doesn't always stem from being alon...       615   \n",
       "2498        40  That science fiction future where robots can d...       873   \n",
       "2499        46  Artist Titus Kaphar makes paintings and sculpt...       772   \n",
       "2502        20  Ten years ago, researchers thought that gettin...       457   \n",
       "2506        36  On August 21, 2017, the moon's shadow raced fr...       736   \n",
       "2523        20  Another economic reality is possible -- one th...       747   \n",
       "2530        12  Daan Roosegaarde uses technology and creative ...       738   \n",
       "2533         9  In a mind-bending talk that blurs the line bet...       663   \n",
       "2534         2  What the astronauts felt when they saw Earth f...       725   \n",
       "2535         8  Underneath every shiny new megacity, there's o...       723   \n",
       "2537        39  Our culture is obsessed with happiness, but wh...       738   \n",
       "2538         7  Each year, one in seven large corporations com...       808   \n",
       "2539        10  Forget quinoa. Meet fonio, an ancient \"miracle...       934   \n",
       "2541        12  Physics doesn't just happen in a fancy lab -- ...       957   \n",
       "2542         3  In the century-old statues that occupy Cape To...       795   \n",
       "2545        17  Between 2008 and 2016, the United States depor...       476   \n",
       "2549         8  With more than half of the world population li...       519   \n",
       "\n",
       "                      event   film_date  languages              main_speaker  \\\n",
       "1                   TED2006  1140825600         43                   Al Gore   \n",
       "4                   TED2006  1140566400         48              Hans Rosling   \n",
       "7                   TED2006  1140652800         19       Joshua Prince-Ramus   \n",
       "11                  TED2006  1140912000         20            Jehane Noujaim   \n",
       "14                  TED2006  1140652800         25       Nicholas Negroponte   \n",
       "15                  TED2006  1140652800         31              Sirena Huang   \n",
       "26           TEDGlobal 2005  1120694400         36           Richard Dawkins   \n",
       "27                  TED2004  1077840000         25             Steven Levitt   \n",
       "28                  TED2004  1077753600         37          Malcolm Gladwell   \n",
       "30           TEDGlobal 2005  1121385600         45            Barry Schwartz   \n",
       "34           TEDGlobal 2005  1120176000         26      Jacqueline Novogratz   \n",
       "39                  TED2005  1109203200         24                      Bono   \n",
       "40                  TED2005  1108598400         22          Edward Burtynsky   \n",
       "46                  TED2006  1140652800         24             Peter Gabriel   \n",
       "48            TEDSalon 2006  1164844800         34                     Rives   \n",
       "50           TEDGlobal 2005  1121299200         22           Robert Neuwirth   \n",
       "53                  TED2006  1140652800         29               Phil Borges   \n",
       "54           TEDGlobal 2005  1121299200         29               Martin Rees   \n",
       "56            TEDSalon 2006  1164844800         29            Steven Johnson   \n",
       "60                  TED2006  1140652800         18             Saul Griffith   \n",
       "62           TEDGlobal 2005  1120694400         30               Carl Honoré   \n",
       "63                  TED2007  1173312000         26              Bill Clinton   \n",
       "64                  TED2007  1173312000         26               E.O. Wilson   \n",
       "65                  TED2007  1173312000         23            James Nachtwey   \n",
       "70                  TED2002  1012608000         18                Dean Kamen   \n",
       "71                  TED2003  1044144000         20             Juan Enriquez   \n",
       "72                  TED2004  1075680000         26         Stefan Sagmeister   \n",
       "74                  TED2005  1109289600         16                Thom Mayne   \n",
       "78                  TED2003  1046304000         23                 Vik Muniz   \n",
       "79           TEDGlobal 2005  1121299200         24              Nick Bostrom   \n",
       "...                     ...         ...        ...                       ...   \n",
       "2431                 TEDNYC  1488931200         20             Siamak Hariri   \n",
       "2432              TEDxPerth  1476403200         17     Natasha Hurley-Walker   \n",
       "2434            TEDMED 2016  1480464000         13            David Casarett   \n",
       "2436  TEDLagos Ideas Search  1486771200         29          Stephanie Busari   \n",
       "2442              TEDxSkoll  1491523200         16          Deborah Lipstadt   \n",
       "2444  TEDLagos Ideas Search  1486771200         23               Sangu Delle   \n",
       "2449               TEDxCERN  1478304000         15             Kate Stafford   \n",
       "2456                TED2017  1492992000         20            Rutger Bregman   \n",
       "2464                TED2017  1492992000         14               Raj Panjabi   \n",
       "2465                TED2016  1455494400          8          Rhiannon Giddens   \n",
       "2467                TED2017  1492992000         18     Michael Patrick Lynch   \n",
       "2470                TED2017  1492992000         29  Mehdi Ordikhani-Seyedlar   \n",
       "2487                TED2017  1492992000         19                Adam Alter   \n",
       "2493                TED2017  1492992000         10                 Grace Kim   \n",
       "2498                TED2017  1492992000          6              Marc Raibert   \n",
       "2499                TED2017  1492992000         12              Titus Kaphar   \n",
       "2502                TED2017  1492992000          8             Joseph Redmon   \n",
       "2506           TEDxMileHigh  1499472000         10               David Baron   \n",
       "2523           TEDxCrenshaw  1475884800          3                 Niki Okuk   \n",
       "2530                TED2017  1492992000          3          Daan Roosegaarde   \n",
       "2533                TED2017  1492992000          2           Tomás Saraceno   \n",
       "2534              TEDxSkoll  1491523200          1            Benjamin Grant   \n",
       "2535         TEDGlobal 2017  1503792000          4       OluTimehin Adegbeye   \n",
       "2537                TED2017  1492992000          2      Emily Esfahani Smith   \n",
       "2538             TEDxZurich  1478822400          1          Alexander Wagner   \n",
       "2539                TED2017  1503792000          2              Pierre Thiam   \n",
       "2541         TEDxManchester  1487462400          2             Helen Czerski   \n",
       "2542         TEDGlobal 2017  1503792000          1        Sethembile Msezane   \n",
       "2545                TED2017  1496707200          4          Duarte Geraldino   \n",
       "2549                TED2017  1492992000          1         Karoliina Korppoo   \n",
       "\n",
       "                                                   name  num_speaker  \\\n",
       "1                  Al Gore: Averting the climate crisis            1   \n",
       "4         Hans Rosling: The best stats you've ever seen            1   \n",
       "7     Joshua Prince-Ramus: Behind the design of Seat...            1   \n",
       "11        Jehane Noujaim: My wish: A global day of film            1   \n",
       "14            Nicholas Negroponte: One Laptop per Child            1   \n",
       "15        Sirena Huang: An 11-year-old's magical violin            1   \n",
       "26    Richard Dawkins: Why the universe seems so str...            1   \n",
       "27     Steven Levitt: The freakonomics of crack dealing            1   \n",
       "28    Malcolm Gladwell: Choice, happiness and spaghe...            1   \n",
       "30                Barry Schwartz: The paradox of choice            1   \n",
       "34    Jacqueline Novogratz: Invest in Africa's own s...            1   \n",
       "39              Bono: My wish: Three actions for Africa            1   \n",
       "40    Edward Burtynsky: My wish: Manufactured landsc...            1   \n",
       "46        Peter Gabriel: Fight injustice with raw video            1   \n",
       "48                  Rives: If I controlled the Internet            1   \n",
       "50    Robert Neuwirth: The hidden world of shadow ci...            1   \n",
       "53           Phil Borges: Photos of endangered cultures            1   \n",
       "54              Martin Rees: Is this our final century?            1   \n",
       "56    Steven Johnson: How the \"ghost map\" helped end...            1   \n",
       "60                   Saul Griffith: Everyday inventions            1   \n",
       "62                   Carl Honoré: In praise of slowness            1   \n",
       "63             Bill Clinton: My wish: Rebuilding Rwanda            1   \n",
       "64    E.O. Wilson: My wish: Build the Encyclopedia o...            1   \n",
       "65    James Nachtwey: My wish: Let my photographs be...            1   \n",
       "70                     Dean Kamen: To invent is to give            1   \n",
       "71    Juan Enriquez: The life code that will reshape...            1   \n",
       "72               Stefan Sagmeister: Happiness by design            1   \n",
       "74          Thom Mayne: How architecture can connect us            1   \n",
       "78    Vik Muniz: Art with wire, sugar, chocolate and...            1   \n",
       "79    Nick Bostrom: A philosophical quest for our bi...            1   \n",
       "...                                                 ...          ...   \n",
       "2431    Siamak Hariri: How do you build a sacred space?            1   \n",
       "2432  Natasha Hurley-Walker: How radio telescopes sh...            1   \n",
       "2434  David Casarett: A doctor's case for medical ma...            1   \n",
       "2436     Stephanie Busari: How fake news does real harm            1   \n",
       "2442  Deborah Lipstadt: Behind the lies of Holocaust...            1   \n",
       "2444  Sangu Delle: There's no shame in taking care o...            1   \n",
       "2449  Kate Stafford: How human noise affects ocean h...            1   \n",
       "2456  Rutger Bregman: Poverty isn't a lack of charac...            1   \n",
       "2464  Raj Panjabi: No one should die because they li...            1   \n",
       "2465  Rhiannon Giddens: Songs that bring history to ...            1   \n",
       "2467  Michael Patrick Lynch: How to see past your ow...            1   \n",
       "2470  Mehdi Ordikhani-Seyedlar: What happens in your...            1   \n",
       "2487     Adam Alter: Why our screens make us less happy            1   \n",
       "2493  Grace Kim: How cohousing can make us happier (...            1   \n",
       "2498  Marc Raibert: Meet Spot, the robot dog that ca...            1   \n",
       "2499               Titus Kaphar: Can art amend history?            1   \n",
       "2502  Joseph Redmon: How computers learn to recogniz...            1   \n",
       "2506  David Baron: You owe it to yourself to experie...            1   \n",
       "2523  Niki Okuk: When workers own companies, the eco...            1   \n",
       "2530  Daan Roosegaarde: A smog vacuum cleaner and ot...            1   \n",
       "2533  Tomás Saraceno: Would you live in a floating ...            1   \n",
       "2534  Benjamin Grant: What it feels like to see Eart...            1   \n",
       "2535        OluTimehin Adegbeye: Who belongs in a city?            1   \n",
       "2537  Emily Esfahani Smith: There's more to life tha...            1   \n",
       "2538  Alexander Wagner: What really motivates people...            1   \n",
       "2539  Pierre Thiam: A forgotten ancient grain that c...            1   \n",
       "2541  Helen Czerski: The fascinating physics of ever...            1   \n",
       "2542  Sethembile Msezane: Living sculptures that sta...            1   \n",
       "2545  Duarte Geraldino: What we're missing in the de...            1   \n",
       "2549  Karoliina Korppoo: How a video game might help...            1   \n",
       "\n",
       "      published_date  ...                                              title  \\\n",
       "1         1151367060  ...                        Averting the climate crisis   \n",
       "4         1151440680  ...                    The best stats you've ever seen   \n",
       "7         1152490260  ...             Behind the design of Seattle's library   \n",
       "11        1153786260  ...                      My wish: A global day of film   \n",
       "14        1154391060  ...                               One Laptop per Child   \n",
       "15        1154995860  ...                    An 11-year-old's magical violin   \n",
       "26        1158019860  ...                  Why the universe seems so strange   \n",
       "27        1158624660  ...                  The freakonomics of crack dealing   \n",
       "28        1158624660  ...              Choice, happiness and spaghetti sauce   \n",
       "30        1159229460  ...                              The paradox of choice   \n",
       "34        1160439060  ...                   Invest in Africa's own solutions   \n",
       "39        1162253460  ...                  My wish: Three actions for Africa   \n",
       "40        1162253460  ...  My wish: Manufactured landscapes and green edu...   \n",
       "46        1165363860  ...                     Fight injustice with raw video   \n",
       "48        1166055060  ...                       If I controlled the Internet   \n",
       "50        1167696660  ...                  The hidden world of shadow cities   \n",
       "53        1168301460  ...                      Photos of endangered cultures   \n",
       "54        1168992660  ...                         Is this our final century?   \n",
       "56        1170202260  ...    How the \"ghost map\" helped end a killer disease   \n",
       "60        1171843860  ...                                Everyday inventions   \n",
       "62        1172621460  ...                              In praise of slowness   \n",
       "63        1175559060  ...                         My wish: Rebuilding Rwanda   \n",
       "64        1175559060  ...            My wish: Build the Encyclopedia of Life   \n",
       "65        1175559060  ...           My wish: Let my photographs bear witness   \n",
       "70        1175731860  ...                               To invent is to give   \n",
       "71        1175731860  ...         The life code that will reshape the future   \n",
       "72        1175731860  ...                                Happiness by design   \n",
       "74        1175731860  ...                    How architecture can connect us   \n",
       "78        1175731860  ...         Art with wire, sugar, chocolate and string   \n",
       "79        1175731860  ...     A philosophical quest for our biggest problems   \n",
       "...              ...  ...                                                ...   \n",
       "2431      1492440513  ...                   How do you build a sacred space?   \n",
       "2432      1492527759  ...       How radio telescopes show us unseen galaxies   \n",
       "2434      1492700670  ...              A doctor's case for medical marijuana   \n",
       "2436      1493046727  ...                       How fake news does real harm   \n",
       "2442      1493738150  ...                Behind the lies of Holocaust denial   \n",
       "2444      1493909824  ...  There's no shame in taking care of your mental...   \n",
       "2449      1494601475  ...             How human noise affects ocean habitats   \n",
       "2456      1495465574  ...  Poverty isn't a lack of character; it's a lack...   \n",
       "2464      1496327443  ...  No one should die because they live too far fr...   \n",
       "2465      1496400857  ...                   Songs that bring history to life   \n",
       "2467      1496674795  ...  How to see past your own perspective and find ...   \n",
       "2470      1496933333  ...  What happens in your brain when you pay attent...   \n",
       "2487      1500044323  ...                 Why our screens make us less happy   \n",
       "2493      1500907957  ...  How cohousing can make us happier (and live lo...   \n",
       "2498      1501513721  ...  Meet Spot, the robot dog that can run, hop and...   \n",
       "2499      1501599710  ...                             Can art amend history?   \n",
       "2502      1501859800  ...  How computers learn to recognize objects insta...   \n",
       "2506      1502375863  ...  You owe it to yourself to experience a total s...   \n",
       "2523      1503932075  ...  When workers own companies, the economy is mor...   \n",
       "2530      1504623555  ...  A smog vacuum cleaner and other magical city d...   \n",
       "2533      1504796048  ...      Would you live in a floating city in the sky?   \n",
       "2534      1504814438  ...         What it feels like to see Earth from space   \n",
       "2535      1504882266  ...                             Who belongs in a city?   \n",
       "2537      1505227376  ...              There's more to life than being happy   \n",
       "2538      1505246451  ...  What really motivates people to be honest in b...   \n",
       "2539      1505313942  ...  A forgotten ancient grain that could help Afri...   \n",
       "2541      1505419202  ...           The fascinating physics of everyday life   \n",
       "2542      1505488093  ...  Living sculptures that stand for history's truths   \n",
       "2545      1505851216  ...  What we're missing in the debate about immigra...   \n",
       "2549      1506092422  ...  How a video game might help us build better ci...   \n",
       "\n",
       "                                                    url     views  \\\n",
       "1     https://www.ted.com/talks/al_gore_on_averting_...   3200520   \n",
       "4     https://www.ted.com/talks/hans_rosling_shows_t...  12005869   \n",
       "7     https://www.ted.com/talks/joshua_prince_ramus_...    967741   \n",
       "11    https://www.ted.com/talks/jehane_noujaim_inspi...    387877   \n",
       "14    https://www.ted.com/talks/nicholas_negroponte_...    358304   \n",
       "15    https://www.ted.com/talks/sirena_huang_dazzles...   2702470   \n",
       "26    https://www.ted.com/talks/richard_dawkins_on_o...   2885999   \n",
       "27    https://www.ted.com/talks/steven_levitt_analyz...   2863214   \n",
       "28    https://www.ted.com/talks/malcolm_gladwell_on_...   7023562   \n",
       "30    https://www.ted.com/talks/barry_schwartz_on_th...  10000702   \n",
       "34    https://www.ted.com/talks/jacqueline_novogratz...    705389   \n",
       "39    https://www.ted.com/talks/bono_s_call_to_actio...    718649   \n",
       "40    https://www.ted.com/talks/edward_burtynsky_on_...    975107   \n",
       "46    https://www.ted.com/talks/peter_gabriel_fights...    904215   \n",
       "48    https://www.ted.com/talks/rives_controls_the_i...   1813665   \n",
       "50    https://www.ted.com/talks/robert_neuwirth_on_o...    673036   \n",
       "53    https://www.ted.com/talks/phil_borges_on_endan...    882034   \n",
       "54    https://www.ted.com/talks/martin_rees_asks_is_...   2121177   \n",
       "56    https://www.ted.com/talks/steven_johnson_tours...    684519   \n",
       "60    https://www.ted.com/talks/saul_griffith_on_eve...    442553   \n",
       "62    https://www.ted.com/talks/carl_honore_praises_...   2441805   \n",
       "63    https://www.ted.com/talks/bill_clinton_on_rebu...    849859   \n",
       "64    https://www.ted.com/talks/e_o_wilson_on_saving...   1335732   \n",
       "65    https://www.ted.com/talks/james_nachtwey_s_sea...   1262674   \n",
       "70    https://www.ted.com/talks/dean_kamen_on_invent...    680134   \n",
       "71    https://www.ted.com/talks/juan_enriquez_on_gen...    690928   \n",
       "72    https://www.ted.com/talks/stefan_sagmeister_sh...   1762302   \n",
       "74    https://www.ted.com/talks/thom_mayne_on_archit...    660909   \n",
       "78    https://www.ted.com/talks/vik_muniz_makes_art_...   1149090   \n",
       "79    https://www.ted.com/talks/nick_bostrom_on_our_...    762264   \n",
       "...                                                 ...       ...   \n",
       "2431  https://www.ted.com/talks/siamak_hariri_how_do...   1098436   \n",
       "2432  https://www.ted.com/talks/natasha_hurley_walke...    970115   \n",
       "2434  https://www.ted.com/talks/david_casarett_a_doc...   1114319   \n",
       "2436  https://www.ted.com/talks/stephanie_busari_how...   1036236   \n",
       "2442  https://www.ted.com/talks/deborah_lipstadt_beh...    918385   \n",
       "2444  https://www.ted.com/talks/sangu_delle_there_s_...   1460852   \n",
       "2449  https://www.ted.com/talks/kate_stafford_how_hu...    975412   \n",
       "2456  https://www.ted.com/talks/rutger_bregman_pover...   1419314   \n",
       "2464  https://www.ted.com/talks/raj_panjabi_no_one_s...    874817   \n",
       "2465  https://www.ted.com/talks/rhiannon_giddens_3_s...    946815   \n",
       "2467  https://www.ted.com/talks/michael_patrick_lync...   1264166   \n",
       "2470  https://www.ted.com/talks/mehdi_ordikhani_seye...   1781721   \n",
       "2487  https://www.ted.com/talks/adam_alter_why_our_s...   1858990   \n",
       "2493  https://www.ted.com/talks/grace_kim_how_cohous...   1363680   \n",
       "2498  https://www.ted.com/talks/marc_raibert_meet_sp...   1475823   \n",
       "2499  https://www.ted.com/talks/titus_kaphar_can_art...    890748   \n",
       "2502  https://www.ted.com/talks/joseph_redmon_how_a_...   1164777   \n",
       "2506  https://www.ted.com/talks/david_baron_you_owe_...   1319327   \n",
       "2523  https://www.ted.com/talks/niki_okuk_when_worke...    744793   \n",
       "2530  https://www.ted.com/talks/daan_roosegaarde_a_s...    591131   \n",
       "2533  https://www.ted.com/talks/tomas_saraceno_would...    248411   \n",
       "2534  https://www.ted.com/talks/benjamin_grant_what_...    646174   \n",
       "2535  https://www.ted.com/talks/olutimehin_adegbeye_...    707788   \n",
       "2537  https://www.ted.com/talks/emily_esfahani_smith...   1009069   \n",
       "2538  https://www.ted.com/talks/alexander_wagner_wha...    621431   \n",
       "2539  https://www.ted.com/talks/pierre_thiam_a_forgo...    527314   \n",
       "2541  https://www.ted.com/talks/helen_czerski_fun_ho...    656791   \n",
       "2542  https://www.ted.com/talks/sethembile_msezane_l...    542088   \n",
       "2545  https://www.ted.com/talks/duarte_geraldino_wha...    450430   \n",
       "2549  https://www.ted.com/talks/karoliina_korppoo_ho...    391721   \n",
       "\n",
       "     comments_per_view views_per_comment film_datetime  \\\n",
       "1             0.000083      12077.433962    2006-02-25   \n",
       "4             0.000049      20245.984823    2006-02-22   \n",
       "7             0.000048      21037.847826    2006-02-23   \n",
       "11            0.000142       7052.309091    2006-02-26   \n",
       "14            0.000276       3619.232323    2006-02-23   \n",
       "15            0.000120       8315.292308    2006-02-23   \n",
       "26            0.000176       5692.305720    2005-07-07   \n",
       "27            0.000033      30139.094737    2004-02-27   \n",
       "28            0.000051      19784.681690    2004-02-26   \n",
       "30            0.000099      10091.525732    2005-07-15   \n",
       "34            0.000082      12161.879310    2005-07-01   \n",
       "39            0.000156       6416.508929    2005-02-24   \n",
       "40            0.000059      16812.189655    2005-02-17   \n",
       "46            0.000058      17388.750000    2006-02-23   \n",
       "48            0.000052      19091.210526    2006-11-30   \n",
       "50            0.000126       7918.070588    2005-07-14   \n",
       "53            0.000067      14949.728814    2006-02-23   \n",
       "54            0.000096      10449.147783    2005-07-14   \n",
       "56            0.000069      14564.234043    2006-11-30   \n",
       "60            0.000063      15805.464286    2006-02-23   \n",
       "62            0.000093      10804.446903    2005-07-07   \n",
       "63            0.000114       8761.432990    2007-03-08   \n",
       "64            0.000067      15008.224719    2007-03-08   \n",
       "65            0.000085      11800.691589    2007-03-08   \n",
       "70            0.000191       5231.800000    2002-02-02   \n",
       "71            0.000071      14100.571429    2003-02-02   \n",
       "72            0.000049      20491.883721    2004-02-02   \n",
       "74            0.000076      13218.180000    2005-02-25   \n",
       "78            0.000073      13679.642857    2003-02-27   \n",
       "79            0.000172       5818.809160    2005-07-14   \n",
       "...                ...               ...           ...   \n",
       "2431          0.000025      40682.814815    2017-03-08   \n",
       "2432          0.000031      32337.166667    2016-10-14   \n",
       "2434          0.000029      34822.468750    2016-11-30   \n",
       "2436          0.000051      19551.622642    2017-02-11   \n",
       "2442          0.000100       9982.445652    2017-04-07   \n",
       "2444          0.000024      41738.628571    2017-02-11   \n",
       "2449          0.000015      65027.466667    2016-11-05   \n",
       "2456          0.000129       7755.814208    2017-04-24   \n",
       "2464          0.000021      48600.944444    2017-04-24   \n",
       "2465          0.000011      94681.500000    2016-02-15   \n",
       "2467          0.000028      36119.028571    2017-04-24   \n",
       "2470          0.000016      63632.892857    2017-04-24   \n",
       "2487          0.000016      64103.103448    2017-04-24   \n",
       "2493          0.000043      23113.220339    2017-04-24   \n",
       "2498          0.000027      36895.575000    2017-04-24   \n",
       "2499          0.000052      19364.086957    2017-04-24   \n",
       "2502          0.000017      58238.850000    2017-04-24   \n",
       "2506          0.000027      36647.972222    2017-07-08   \n",
       "2523          0.000027      37239.650000    2016-10-08   \n",
       "2530          0.000020      49260.916667    2017-04-24   \n",
       "2533          0.000036      27601.222222    2017-04-24   \n",
       "2534          0.000003     323087.000000    2017-04-07   \n",
       "2535          0.000011      88473.500000    2017-08-27   \n",
       "2537          0.000039      25873.564103    2017-04-24   \n",
       "2538          0.000011      88775.857143    2016-11-11   \n",
       "2539          0.000019      52731.400000    2017-08-27   \n",
       "2541          0.000018      54732.583333    2017-02-19   \n",
       "2542          0.000006     180696.000000    2017-08-27   \n",
       "2545          0.000038      26495.882353    2017-06-06   \n",
       "2549          0.000020      48965.125000    2017-04-24   \n",
       "\n",
       "                                           ratings_list  num_ratings  \\\n",
       "1     [{'id': 7, 'name': 'Funny', 'count': 544}, {'i...         2936   \n",
       "4     [{'id': 9, 'name': 'Ingenious', 'count': 3202}...        25620   \n",
       "7     [{'id': 9, 'name': 'Ingenious', 'count': 195},...         1024   \n",
       "11    [{'id': 1, 'name': 'Beautiful', 'count': 70}, ...          592   \n",
       "14    [{'id': 3, 'name': 'Courageous', 'count': 83},...          781   \n",
       "15    [{'id': 1, 'name': 'Beautiful', 'count': 1671}...         6239   \n",
       "26    [{'id': 1, 'name': 'Beautiful', 'count': 333},...         4594   \n",
       "27    [{'id': 7, 'name': 'Funny', 'count': 485}, {'i...         2036   \n",
       "28    [{'id': 7, 'name': 'Funny', 'count': 1668}, {'...        10678   \n",
       "30    [{'id': 7, 'name': 'Funny', 'count': 1526}, {'...        14945   \n",
       "34    [{'id': 1, 'name': 'Beautiful', 'count': 60}, ...          755   \n",
       "39    [{'id': 11, 'name': 'Longwinded', 'count': 41}...          969   \n",
       "40    [{'id': 1, 'name': 'Beautiful', 'count': 106},...          952   \n",
       "46    [{'id': 3, 'name': 'Courageous', 'count': 180}...          849   \n",
       "48    [{'id': 7, 'name': 'Funny', 'count': 949}, {'i...         2649   \n",
       "50    [{'id': 8, 'name': 'Informative', 'count': 265...         1004   \n",
       "53    [{'id': 1, 'name': 'Beautiful', 'count': 126},...          719   \n",
       "54    [{'id': 1, 'name': 'Beautiful', 'count': 214},...         2957   \n",
       "56    [{'id': 10, 'name': 'Inspiring', 'count': 94},...          918   \n",
       "60    [{'id': 9, 'name': 'Ingenious', 'count': 89}, ...          571   \n",
       "62    [{'id': 7, 'name': 'Funny', 'count': 199}, {'i...         3605   \n",
       "63    [{'id': 9, 'name': 'Ingenious', 'count': 37}, ...         1182   \n",
       "64    [{'id': 9, 'name': 'Ingenious', 'count': 60}, ...         1747   \n",
       "65    [{'id': 3, 'name': 'Courageous', 'count': 637}...         2367   \n",
       "70    [{'id': 9, 'name': 'Ingenious', 'count': 121},...          676   \n",
       "71    [{'id': 1, 'name': 'Beautiful', 'count': 27}, ...         1374   \n",
       "72    [{'id': 2, 'name': 'Confusing', 'count': 31}, ...         2001   \n",
       "74    [{'id': 2, 'name': 'Confusing', 'count': 69}, ...          556   \n",
       "78    [{'id': 9, 'name': 'Ingenious', 'count': 448},...         2438   \n",
       "79    [{'id': 9, 'name': 'Ingenious', 'count': 78}, ...         1331   \n",
       "...                                                 ...          ...   \n",
       "2431  [{'id': 1, 'name': 'Beautiful', 'count': 344},...          858   \n",
       "2432  [{'id': 8, 'name': 'Informative', 'count': 201...          806   \n",
       "2434  [{'id': 24, 'name': 'Persuasive', 'count': 133...          763   \n",
       "2436  [{'id': 3, 'name': 'Courageous', 'count': 121}...          655   \n",
       "2442  [{'id': 3, 'name': 'Courageous', 'count': 220}...         1108   \n",
       "2444  [{'id': 1, 'name': 'Beautiful', 'count': 197},...         1421   \n",
       "2449  [{'id': 8, 'name': 'Informative', 'count': 171...          448   \n",
       "2456  [{'id': 10, 'name': 'Inspiring', 'count': 950}...         2967   \n",
       "2464  [{'id': 10, 'name': 'Inspiring', 'count': 196}...          509   \n",
       "2465  [{'id': 1, 'name': 'Beautiful', 'count': 151},...          334   \n",
       "2467  [{'id': 10, 'name': 'Inspiring', 'count': 188}...          981   \n",
       "2470  [{'id': 8, 'name': 'Informative', 'count': 374...         1438   \n",
       "2487  [{'id': 24, 'name': 'Persuasive', 'count': 293...         1412   \n",
       "2493  [{'id': 10, 'name': 'Inspiring', 'count': 130}...          427   \n",
       "2498  [{'id': 3, 'name': 'Courageous', 'count': 27},...          365   \n",
       "2499  [{'id': 10, 'name': 'Inspiring', 'count': 94},...          382   \n",
       "2502  [{'id': 10, 'name': 'Inspiring', 'count': 72},...          426   \n",
       "2506  [{'id': 1, 'name': 'Beautiful', 'count': 174},...          817   \n",
       "2523  [{'id': 3, 'name': 'Courageous', 'count': 46},...          367   \n",
       "2530  [{'id': 2, 'name': 'Confusing', 'count': 2}, {...          468   \n",
       "2533  [{'id': 1, 'name': 'Beautiful', 'count': 29}, ...          183   \n",
       "2534  [{'id': 10, 'name': 'Inspiring', 'count': 46},...          221   \n",
       "2535  [{'id': 3, 'name': 'Courageous', 'count': 77},...          431   \n",
       "2537  [{'id': 1, 'name': 'Beautiful', 'count': 484},...         2009   \n",
       "2538  [{'id': 10, 'name': 'Inspiring', 'count': 50},...          231   \n",
       "2539  [{'id': 10, 'name': 'Inspiring', 'count': 73},...          256   \n",
       "2541  [{'id': 11, 'name': 'Longwinded', 'count': 29}...          378   \n",
       "2542  [{'id': 1, 'name': 'Beautiful', 'count': 41}, ...          181   \n",
       "2545  [{'id': 3, 'name': 'Courageous', 'count': 24},...          192   \n",
       "2549  [{'id': 21, 'name': 'Unconvincing', 'count': 2...          142   \n",
       "\n",
       "      funny_ratings funny_rate  \n",
       "1               544   0.185286  \n",
       "4              1390   0.054254  \n",
       "7                 9   0.008789  \n",
       "11                5   0.008446  \n",
       "14               14   0.017926  \n",
       "15              190   0.030454  \n",
       "26              127   0.027645  \n",
       "27              485   0.238212  \n",
       "28             1668   0.156209  \n",
       "30             1526   0.102108  \n",
       "34                5   0.006623  \n",
       "39               26   0.026832  \n",
       "40                8   0.008403  \n",
       "46                5   0.005889  \n",
       "48              949   0.358248  \n",
       "50                3   0.002988  \n",
       "53                5   0.006954  \n",
       "54               47   0.015894  \n",
       "56               20   0.021786  \n",
       "60                3   0.005254  \n",
       "62              199   0.055201  \n",
       "63               11   0.009306  \n",
       "64               44   0.025186  \n",
       "65                3   0.001267  \n",
       "70               15   0.022189  \n",
       "71               35   0.025473  \n",
       "72              468   0.233883  \n",
       "74                7   0.012590  \n",
       "78              507   0.207957  \n",
       "79               15   0.011270  \n",
       "...             ...        ...  \n",
       "2431              5   0.005828  \n",
       "2432              9   0.011166  \n",
       "2434              6   0.007864  \n",
       "2436              2   0.003053  \n",
       "2442             10   0.009025  \n",
       "2444             10   0.007037  \n",
       "2449             11   0.024554  \n",
       "2456             40   0.013482  \n",
       "2464              0   0.000000  \n",
       "2465              5   0.014970  \n",
       "2467              5   0.005097  \n",
       "2470              8   0.005563  \n",
       "2487             39   0.027620  \n",
       "2493              5   0.011710  \n",
       "2498             30   0.082192  \n",
       "2499             18   0.047120  \n",
       "2502              7   0.016432  \n",
       "2506             17   0.020808  \n",
       "2523              3   0.008174  \n",
       "2530             32   0.068376  \n",
       "2533              2   0.010929  \n",
       "2534              4   0.018100  \n",
       "2535             19   0.044084  \n",
       "2537              3   0.001493  \n",
       "2538              5   0.021645  \n",
       "2539              2   0.007812  \n",
       "2541             39   0.103175  \n",
       "2542              6   0.033149  \n",
       "2545              1   0.005208  \n",
       "2549              0   0.000000  \n",
       "\n",
       "[786 rows x 24 columns]"
      ]
     },
     "execution_count": 234,
     "metadata": {},
     "output_type": "execute_result"
    }
   ],
   "source": [
    "#going to filter it down\n",
    "ted[ted.speaker_occupation.isin(top_occupations)]\n",
    "#checking for the existance of top occupations"
   ]
  },
  {
   "cell_type": "code",
   "execution_count": 235,
   "metadata": {},
   "outputs": [],
   "source": [
    "ted_top_occupations = ted[ted.speaker_occupation.isin(top_occupations)]"
   ]
  },
  {
   "cell_type": "code",
   "execution_count": 236,
   "metadata": {},
   "outputs": [
    {
     "data": {
      "text/plain": [
       "(786, 24)"
      ]
     },
     "execution_count": 236,
     "metadata": {},
     "output_type": "execute_result"
    }
   ],
   "source": [
    "ted_top_occupations.shape\n",
    "#still includes a good amount of talks"
   ]
  },
  {
   "cell_type": "code",
   "execution_count": 239,
   "metadata": {},
   "outputs": [
    {
     "data": {
      "text/plain": [
       "speaker_occupation\n",
       "Surgeon                                       0.002465\n",
       "Physician                                     0.004515\n",
       "Photojournalist                               0.004908\n",
       "Investor and advocate for moral leadership    0.005198\n",
       "Photographer                                  0.007152\n",
       "Environmentalist, futurist                    0.007317\n",
       "Violinist                                     0.009534\n",
       "Singer-songwriter                             0.010597\n",
       "Chemist                                       0.010970\n",
       "Philanthropist                                0.012522\n",
       "Activist                                      0.012539\n",
       "Astrophysicist                                0.013147\n",
       "Oceanographer                                 0.014596\n",
       "Paleontologist                                0.015780\n",
       "Social psychologist                           0.015887\n",
       "Tech visionary                                0.016654\n",
       "Sculptor                                      0.016960\n",
       "Social Media Theorist                         0.017450\n",
       "Social entrepreneur                           0.017921\n",
       "Inventor                                      0.021801\n",
       "Sound consultant                              0.022011\n",
       "Legal activist                                0.022303\n",
       "Historian                                     0.023215\n",
       "Musician, activist                            0.023395\n",
       "Economist                                     0.025488\n",
       "Writer, activist                              0.026665\n",
       "Journalist                                    0.027997\n",
       "Computer scientist                            0.029070\n",
       "Architect                                     0.030579\n",
       "Engineer                                      0.031711\n",
       "                                                ...   \n",
       "Roboticist                                    0.042777\n",
       "Astronomer                                    0.044581\n",
       "Psychologist                                  0.044984\n",
       "Musician                                      0.045336\n",
       "Physicist                                     0.046302\n",
       "Filmmaker                                     0.048603\n",
       "Futurist                                      0.050460\n",
       "Behavioral economist                          0.050460\n",
       "Technologist                                  0.050965\n",
       "Chef                                          0.054207\n",
       "Science writer                                0.055993\n",
       "Designer                                      0.059287\n",
       "Writer                                        0.060745\n",
       "Game designer                                 0.062317\n",
       "Reporter                                      0.066250\n",
       "Evolutionary biologist                        0.069157\n",
       "Novelist                                      0.070876\n",
       "Entrepreneur                                  0.073295\n",
       "Author                                        0.075508\n",
       "Artist                                        0.078939\n",
       "Global health expert; data visionary          0.090306\n",
       "Poet                                          0.107398\n",
       "Graphic designer                              0.135718\n",
       "Techno-illusionist                            0.152171\n",
       "Cartoonist                                    0.162120\n",
       "Data scientist                                0.184076\n",
       "Producer                                      0.202531\n",
       "Singer/songwriter                             0.252205\n",
       "Performance poet, multimedia artist           0.306468\n",
       "Comedian                                      0.512457\n",
       "Name: funny_rate, Length: 68, dtype: float64"
      ]
     },
     "execution_count": 239,
     "metadata": {},
     "output_type": "execute_result"
    }
   ],
   "source": [
    "#redo the groupby for funny rates\n",
    "#eliminated the small sample sizes, bottom of list is funniest\n",
    "####weaknesses#######\n",
    "#5 is still a small sample size so not the absolute best way\n",
    "#some can be same person that did 5 talks 'performance poet, multimedia artist'\n",
    "#if people have multiple occupations listed it's difficult to sort that\n",
    "ted_top_occupations.groupby('speaker_occupation').funny_rate.mean().sort_values()"
   ]
  },
  {
   "cell_type": "code",
   "execution_count": null,
   "metadata": {},
   "outputs": [],
   "source": []
  }
 ],
 "metadata": {
  "kernelspec": {
   "display_name": "Python 3",
   "language": "python",
   "name": "python3"
  },
  "language_info": {
   "codemirror_mode": {
    "name": "ipython",
    "version": 3
   },
   "file_extension": ".py",
   "mimetype": "text/x-python",
   "name": "python",
   "nbconvert_exporter": "python",
   "pygments_lexer": "ipython3",
   "version": "3.7.3"
  }
 },
 "nbformat": 4,
 "nbformat_minor": 2
}
