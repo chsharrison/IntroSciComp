{
 "cells": [
  {
   "cell_type": "markdown",
   "metadata": {},
   "source": [
    "1 Chili Pepper"
   ]
  },
  {
   "cell_type": "code",
   "execution_count": 2,
   "metadata": {},
   "outputs": [
    {
     "name": "stdin",
     "output_type": "stream",
     "text": [
      "What is your name:  lee\n"
     ]
    }
   ],
   "source": [
    "name = input(\"What is your name: \")"
   ]
  },
  {
   "cell_type": "code",
   "execution_count": 3,
   "metadata": {},
   "outputs": [
    {
     "name": "stdin",
     "output_type": "stream",
     "text": [
      "How old are you:  21\n"
     ]
    }
   ],
   "source": [
    "age = int(input(\"How old are you: \"))"
   ]
  },
  {
   "cell_type": "code",
   "execution_count": 4,
   "metadata": {},
   "outputs": [],
   "source": [
    "year = str((2019 - age)+100)"
   ]
  },
  {
   "cell_type": "code",
   "execution_count": 5,
   "metadata": {},
   "outputs": [
    {
     "name": "stdout",
     "output_type": "stream",
     "text": [
      "lee will be 100 years old in the year 2098\n"
     ]
    }
   ],
   "source": [
    "print(name + \" will be 100 years old in the year \" + year)"
   ]
  },
  {
   "cell_type": "markdown",
   "metadata": {},
   "source": [
    "2 Chili Pepper"
   ]
  },
  {
   "cell_type": "code",
   "execution_count": 7,
   "metadata": {},
   "outputs": [
    {
     "name": "stdin",
     "output_type": "stream",
     "text": [
      "Enter a number:  11\n"
     ]
    }
   ],
   "source": [
    "num = input(\"Enter a number: \")"
   ]
  },
  {
   "cell_type": "code",
   "execution_count": 8,
   "metadata": {},
   "outputs": [
    {
     "ename": "SyntaxError",
     "evalue": "invalid syntax (<ipython-input-8-578df20215e4>, line 1)",
     "output_type": "error",
     "traceback": [
      "\u001b[1;36m  File \u001b[1;32m\"<ipython-input-8-578df20215e4>\"\u001b[1;36m, line \u001b[1;32m1\u001b[0m\n\u001b[1;33m    if mod = num % 2\u001b[0m\n\u001b[1;37m           ^\u001b[0m\n\u001b[1;31mSyntaxError\u001b[0m\u001b[1;31m:\u001b[0m invalid syntax\n"
     ]
    }
   ],
   "source": [
    "if mod = num % 2"
   ]
  },
  {
   "cell_type": "code",
   "execution_count": 9,
   "metadata": {},
   "outputs": [],
   "source": [
    "#code has to be all together"
   ]
  },
  {
   "cell_type": "code",
   "execution_count": 10,
   "metadata": {},
   "outputs": [
    {
     "name": "stdin",
     "output_type": "stream",
     "text": [
      "What number would you like to choose:  11\n"
     ]
    },
    {
     "name": "stdout",
     "output_type": "stream",
     "text": [
      "Your number is odd\n"
     ]
    }
   ],
   "source": [
    "num = int(input(\"What number would you like to choose: \"))\n",
    "test = num % 2\n",
    "if test > 0:\n",
    "    print(\"Your number is odd\")\n",
    "else:\n",
    "    print(\"Your number is even\")"
   ]
  },
  {
   "cell_type": "markdown",
   "metadata": {},
   "source": [
    "9 chili pepper "
   ]
  },
  {
   "cell_type": "code",
   "execution_count": 11,
   "metadata": {},
   "outputs": [
    {
     "name": "stdin",
     "output_type": "stream",
     "text": [
      "Enter a guess between 1 to 9 7\n"
     ]
    },
    {
     "name": "stdout",
     "output_type": "stream",
     "text": [
      "Too high\n"
     ]
    },
    {
     "name": "stdin",
     "output_type": "stream",
     "text": [
      "Enter a guess between 1 to 9 3\n"
     ]
    },
    {
     "name": "stdout",
     "output_type": "stream",
     "text": [
      "Too low\n"
     ]
    },
    {
     "name": "stdin",
     "output_type": "stream",
     "text": [
      "Enter a guess between 1 to 9 9\n"
     ]
    },
    {
     "name": "stdout",
     "output_type": "stream",
     "text": [
      "Too high\n"
     ]
    },
    {
     "name": "stdin",
     "output_type": "stream",
     "text": [
      "Enter a guess between 1 to 9 5\n"
     ]
    },
    {
     "name": "stdout",
     "output_type": "stream",
     "text": [
      "Right!\n",
      "You took only 4 tries!\n"
     ]
    },
    {
     "name": "stdin",
     "output_type": "stream",
     "text": [
      " 11\n"
     ]
    },
    {
     "data": {
      "text/plain": [
       "'11'"
      ]
     },
     "execution_count": 11,
     "metadata": {},
     "output_type": "execute_result"
    }
   ],
   "source": [
    "import random\n",
    "\n",
    "\n",
    "\n",
    "rd = random.randint(1,9)\n",
    "\n",
    "guess = 0\n",
    "\n",
    "c = 0\n",
    "\n",
    "while guess != rd and guess != \"exit\":\n",
    "\n",
    "    guess = input(\"Enter a guess between 1 to 9\")\n",
    "\n",
    "\n",
    "\n",
    "    if guess == \"exit\":\n",
    "\n",
    "        break\n",
    "\n",
    "\n",
    "\n",
    "    guess = int(guess)\n",
    "\n",
    "    c += 1\n",
    "\n",
    "\n",
    "\n",
    "    if guess < rd:\n",
    "\n",
    "        print(\"Too low\")\n",
    "\n",
    "    elif guess > rd:\n",
    "\n",
    "        print(\"Too high\")\n",
    "\n",
    "    else:\n",
    "\n",
    "        print(\"Right!\")\n",
    "\n",
    "        print(\"You took only\", c, \"tries!\")\n",
    "\n",
    "input()"
   ]
  },
  {
   "cell_type": "markdown",
   "metadata": {},
   "source": [
    "25 chili pepper "
   ]
  },
  {
   "cell_type": "code",
   "execution_count": 3,
   "metadata": {},
   "outputs": [
    {
     "name": "stdin",
     "output_type": "stream",
     "text": [
      "What's your guess? 6\n"
     ]
    },
    {
     "name": "stdout",
     "output_type": "stream",
     "text": [
      "Too low!\n"
     ]
    },
    {
     "name": "stdin",
     "output_type": "stream",
     "text": [
      "What's your guess? 32\n"
     ]
    },
    {
     "name": "stdout",
     "output_type": "stream",
     "text": [
      "Too high!\n"
     ]
    },
    {
     "name": "stdin",
     "output_type": "stream",
     "text": [
      "What's your guess? 37\n"
     ]
    },
    {
     "name": "stdout",
     "output_type": "stream",
     "text": [
      "Too high!\n"
     ]
    },
    {
     "name": "stdin",
     "output_type": "stream",
     "text": [
      "What's your guess? 12\n"
     ]
    },
    {
     "name": "stdout",
     "output_type": "stream",
     "text": [
      "Too high!\n"
     ]
    },
    {
     "name": "stdin",
     "output_type": "stream",
     "text": [
      "What's your guess? 11\n"
     ]
    },
    {
     "name": "stdout",
     "output_type": "stream",
     "text": [
      "Too high!\n"
     ]
    },
    {
     "name": "stdin",
     "output_type": "stream",
     "text": [
      "What's your guess? 8\n"
     ]
    },
    {
     "name": "stdout",
     "output_type": "stream",
     "text": [
      "Too low!\n"
     ]
    },
    {
     "name": "stdin",
     "output_type": "stream",
     "text": [
      "What's your guess? 9\n"
     ]
    },
    {
     "name": "stdout",
     "output_type": "stream",
     "text": [
      "wow!\n",
      "a little slow it only took 7 tries!\n"
     ]
    }
   ],
   "source": [
    "import random\n",
    "\n",
    "\n",
    "\n",
    "number = random.randint(1,9)\n",
    "\n",
    "guess = 0\n",
    "\n",
    "count = 0\n",
    "\n",
    "\n",
    "\n",
    "\n",
    "\n",
    "while guess != number and guess != \"exit\":\n",
    "\n",
    "    guess = input(\"What's your guess?\")\n",
    "\n",
    "    \n",
    "\n",
    "    if guess == \"exit\":\n",
    "\n",
    "        break\n",
    "\n",
    "    \n",
    "\n",
    "    guess = int(guess)\n",
    "\n",
    "    count += 1\n",
    "\n",
    "    \n",
    "\n",
    "    if guess < number:\n",
    "\n",
    "        print(\"Too low!\")\n",
    "\n",
    "    elif guess > number:\n",
    "\n",
    "        print(\"Too high!\")\n",
    "\n",
    "    else:\n",
    "\n",
    "        print(\"wow!\")\n",
    "\n",
    "        print(\"a little slow it only took\",count,\"tries!\")"
   ]
  },
  {
   "cell_type": "markdown",
   "metadata": {},
   "source": [
    "#sample codes change numbers and prints"
   ]
  },
  {
   "cell_type": "code",
   "execution_count": 10,
   "metadata": {},
   "outputs": [
    {
     "ename": "SyntaxError",
     "evalue": "invalid syntax (<ipython-input-10-99c38a3acd35>, line 33)",
     "output_type": "error",
     "traceback": [
      "\u001b[1;36m  File \u001b[1;32m\"<ipython-input-10-99c38a3acd35>\"\u001b[1;36m, line \u001b[1;32m33\u001b[0m\n\u001b[1;33m    if int GUESS < NUMBER:\u001b[0m\n\u001b[1;37m               ^\u001b[0m\n\u001b[1;31mSyntaxError\u001b[0m\u001b[1;31m:\u001b[0m invalid syntax\n"
     ]
    }
   ],
   "source": [
    "import random\n",
    "\n",
    "\n",
    "\n",
    "# Awroken\n",
    "\n",
    "\n",
    "\n",
    "MINIMUM = 1\n",
    "\n",
    "MAXIMUM = 27\n",
    "\n",
    "NUMBER = random.randint(MINIMUM, MAXIMUM)\n",
    "\n",
    "GUESS = None\n",
    "\n",
    "ANOTHER = None\n",
    "\n",
    "TRY = 0\n",
    "\n",
    "RUNNING = True\n",
    "\n",
    "\n",
    "\n",
    "print (\"Alrighty then...\")\n",
    "\n",
    "\n",
    "\n",
    "while RUNNING:\n",
    "\n",
    "    GUESS = (\"What is your lucky number? \")\n",
    "\n",
    "    if int GUESS < NUMBER:\n",
    "\n",
    "        print (\"Wrong, too low.\")\n",
    "\n",
    "    elif int GUESS > NUMBER:\n",
    "\n",
    "        print (\"Wrong, too high.\")\n",
    "\n",
    "    elif GUESS.lower() == \"exit\":\n",
    "\n",
    "        print (\"Better luck next time.\")\n",
    "\n",
    "    elif int GUESS == NUMBER:\n",
    "\n",
    "        print (\"Yes, that's the one, %s.\") % str(NUMBER)\n",
    "\n",
    "        if TRY < 2:\n",
    "\n",
    "            print (\"Impressive, only %s tries.\") % str(TRY)\n",
    "\n",
    "        elif TRY > 2 and TRY < 10:\n",
    "\n",
    "            print (\"Pretty good, %s tries.\") % str(TRY)\n",
    "\n",
    "        else:\n",
    "\n",
    "            print (\"Bad, %s tries.\") % str(TRY)\n",
    "\n",
    "        RUNNING = False\n",
    "\n",
    "    TRY += 1"
   ]
  },
  {
   "cell_type": "markdown",
   "metadata": {},
   "source": [
    "loads of errors dealing with parenthesis"
   ]
  },
  {
   "cell_type": "code",
   "execution_count": 2,
   "metadata": {},
   "outputs": [
    {
     "ename": "NameError",
     "evalue": "name 'RUNNING' is not defined",
     "output_type": "error",
     "traceback": [
      "\u001b[1;31m---------------------------------------------------------------------------\u001b[0m",
      "\u001b[1;31mNameError\u001b[0m                                 Traceback (most recent call last)",
      "\u001b[1;32m<ipython-input-2-4aaa5880e598>\u001b[0m in \u001b[0;36m<module>\u001b[1;34m\u001b[0m\n\u001b[1;32m----> 1\u001b[1;33m \u001b[1;32mwhile\u001b[0m \u001b[0mRUNNING\u001b[0m\u001b[1;33m:\u001b[0m\u001b[1;33m\u001b[0m\u001b[1;33m\u001b[0m\u001b[0m\n\u001b[0m\u001b[0;32m      2\u001b[0m     \u001b[0mprint\u001b[0m\u001b[1;33m(\u001b[0m\u001b[1;34m\"Is it %s?\"\u001b[0m \u001b[1;33m%\u001b[0m \u001b[0mstr\u001b[0m\u001b[1;33m(\u001b[0m\u001b[0mNUMBER\u001b[0m\u001b[1;33m)\u001b[0m\u001b[1;33m)\u001b[0m\u001b[1;33m\u001b[0m\u001b[1;33m\u001b[0m\u001b[0m\n\u001b[0;32m      3\u001b[0m     \u001b[0mANSWER\u001b[0m \u001b[1;33m=\u001b[0m \u001b[0minput\u001b[0m\u001b[1;33m(\u001b[0m\u001b[1;33m)\u001b[0m\u001b[1;33m\u001b[0m\u001b[1;33m\u001b[0m\u001b[0m\n\u001b[0;32m      4\u001b[0m     \u001b[1;32mif\u001b[0m \u001b[1;34m\"no\"\u001b[0m \u001b[1;32min\u001b[0m \u001b[0mANSWER\u001b[0m\u001b[1;33m.\u001b[0m\u001b[0mlower\u001b[0m\u001b[1;33m(\u001b[0m\u001b[1;33m)\u001b[0m \u001b[1;32mand\u001b[0m \u001b[1;34m\"lower\"\u001b[0m \u001b[1;32min\u001b[0m \u001b[0mANSWER\u001b[0m\u001b[1;33m.\u001b[0m\u001b[0mlower\u001b[0m\u001b[1;33m(\u001b[0m\u001b[1;33m)\u001b[0m\u001b[1;33m:\u001b[0m\u001b[1;33m\u001b[0m\u001b[1;33m\u001b[0m\u001b[0m\n\u001b[0;32m      5\u001b[0m         \u001b[0mNUMBER\u001b[0m \u001b[1;33m-=\u001b[0m \u001b[0mrd\u001b[0m\u001b[1;33m.\u001b[0m\u001b[0mrandit\u001b[0m\u001b[1;33m(\u001b[0m\u001b[1;36m1\u001b[0m\u001b[1;33m,\u001b[0m\u001b[1;36m4\u001b[0m\u001b[1;33m)\u001b[0m\u001b[1;33m\u001b[0m\u001b[1;33m\u001b[0m\u001b[0m\n",
      "\u001b[1;31mNameError\u001b[0m: name 'RUNNING' is not defined"
     ]
    }
   ],
   "source": [
    "while RUNNING:\n",
    "    print(\"Is it %s?\" % str(NUMBER))\n",
    "    ANSWER = input()\n",
    "    if \"no\" in ANSWER.lower() and \"lower\" in ANSWER.lower():\n",
    "        NUMBER -= rd.randit(1,4)\n",
    "    elif \"no\" in ANSWER.lower() and \"higher\" in ANSWER.lower():\n",
    "        NUMBER += rd.randit(1,4)\n",
    "    elif ANSWER.lower() ==\"no\":\n",
    "        print(\"Higher or lower?\")\n",
    "        ANSWER = input()\n",
    "        if ANSWER.lower() == \"higher\":\n",
    "            NUMBER += rd.randint(1,4)\n",
    "        elif ANSWER.lower() == \"lower\":\n",
    "            NUMBER -= rd.randint(1,4)\n",
    "    elif ANSWER.lower() == \"yes\":\n",
    "        if TRY < 2:\n",
    "            print(\"Yes! It only took me %s try!\" % str(TRY))\n",
    "        elif TRY < 2 and TRY < 10:\n",
    "            print (\"Pretty good for a robot, %s tries.\" % str(TRY))\n",
    "        else:\n",
    "            print(\"That's so bad, %s tries.\" % str(TRY))\n",
    "        RUNNING = False\n",
    "    TRY += 1\n",
    "\n",
    "print(\"Thanks for the game!\")"
   ]
  },
  {
   "cell_type": "markdown",
   "metadata": {},
   "source": [
    "Works fine after one try, restarted kernel and errors keep popping up code wont work any more "
   ]
  },
  {
   "cell_type": "code",
   "execution_count": 5,
   "metadata": {},
   "outputs": [
    {
     "ename": "NameError",
     "evalue": "name 'randint' is not defined",
     "output_type": "error",
     "traceback": [
      "\u001b[1;31m---------------------------------------------------------------------------\u001b[0m",
      "\u001b[1;31mNameError\u001b[0m                                 Traceback (most recent call last)",
      "\u001b[1;32m<ipython-input-5-682c84b10b65>\u001b[0m in \u001b[0;36m<module>\u001b[1;34m\u001b[0m\n\u001b[1;32m----> 1\u001b[1;33m \u001b[0mNUMBER\u001b[0m \u001b[1;33m=\u001b[0m \u001b[0mrandint\u001b[0m\u001b[1;33m(\u001b[0m\u001b[1;36m0\u001b[0m\u001b[1;33m,\u001b[0m\u001b[1;36m100\u001b[0m\u001b[1;33m)\u001b[0m\u001b[1;33m\u001b[0m\u001b[1;33m\u001b[0m\u001b[0m\n\u001b[0m\u001b[0;32m      2\u001b[0m \u001b[0mTRY\u001b[0m \u001b[1;33m=\u001b[0m \u001b[1;36m0\u001b[0m\u001b[1;33m\u001b[0m\u001b[1;33m\u001b[0m\u001b[0m\n\u001b[0;32m      3\u001b[0m \u001b[0mRUNNING\u001b[0m \u001b[1;33m=\u001b[0m \u001b[1;32mTrue\u001b[0m\u001b[1;33m\u001b[0m\u001b[1;33m\u001b[0m\u001b[0m\n\u001b[0;32m      4\u001b[0m \u001b[0mANSWER\u001b[0m \u001b[1;33m=\u001b[0m \u001b[1;32mNone\u001b[0m\u001b[1;33m\u001b[0m\u001b[1;33m\u001b[0m\u001b[0m\n",
      "\u001b[1;31mNameError\u001b[0m: name 'randint' is not defined"
     ]
    }
   ],
   "source": [
    "NUMBER = randint(0,100)\n",
    "TRY = 0\n",
    "RUNNING = True\n",
    "ANSWER = None"
   ]
  },
  {
   "cell_type": "code",
   "execution_count": 6,
   "metadata": {},
   "outputs": [
    {
     "name": "stdout",
     "output_type": "stream",
     "text": [
      "Guess a number between 0 and 100\n"
     ]
    },
    {
     "name": "stdin",
     "output_type": "stream",
     "text": [
      "Is your number 50? (press 0 for too low, 1 for correct, or 2 for too high) 2\n",
      "Is your guess 24? (press 0 for too low, 1 for correct, or 2 for too high) 2\n",
      "Is your guess 11? (press 0 for too low, 1 for correct, or 2 for too high) 2\n",
      "Is your guess 5? (press 0 for too low, 1 for correct, or 2 for too high) 0\n",
      "Is your guess 8? (press 0 for too low, 1 for correct, or 2 for too high) 0\n",
      "Is your guess 9? (press 0 for too low, 1 for correct, or 2 for too high) 1\n"
     ]
    },
    {
     "name": "stdout",
     "output_type": "stream",
     "text": [
      "It took 6 times to guess your number.\n"
     ]
    }
   ],
   "source": [
    "def guess_num():\n",
    "    i = 0\n",
    "    j = 100\n",
    "    m = 50\n",
    "    counter = 1\n",
    "    \n",
    "    print(\"Guess a number between 0 and 100\")\n",
    "    condition = int(input(\"Is your number \" + str(m) + \"? (press 0 for too low, 1 for correct, or 2 for too high)\"))\n",
    "    \n",
    "    while condition != 1:\n",
    "        counter += 1\n",
    "        \n",
    "        if condition == 0: \n",
    "            i = int(m + 1)\n",
    "        elif condition == 2:\n",
    "            j = int(m - 1)\n",
    "        m = int((i + j) / 2)\n",
    "        \n",
    "        condition = int(input(\"Is your guess \" + str(m) + \"? (press 0 for too low, 1 for correct, or 2 for too high)\" ))\n",
    "    \n",
    "    print(\"It took \" + str(counter) + \" times to guess your number.\")\n",
    "\n",
    "guess_num()"
   ]
  },
  {
   "cell_type": "code",
   "execution_count": 7,
   "metadata": {},
   "outputs": [
    {
     "name": "stdin",
     "output_type": "stream",
     "text": [
      "Input time in seconds:  659\n"
     ]
    },
    {
     "name": "stdout",
     "output_type": "stream",
     "text": [
      "d:h:m:s-> 0:0:10:59\n"
     ]
    }
   ],
   "source": [
    "time = float(input(\"Input time in seconds: \"))\n",
    "day = time // (24 * 3600)\n",
    "time = time % (24 * 3600)\n",
    "hour = time // 3600\n",
    "time %= 3600\n",
    "minutes = time // 60\n",
    "time %= 60\n",
    "seconds = time\n",
    "print(\"d:h:m:s-> %d:%d:%d:%d\" % (day, hour, minutes, seconds))"
   ]
  }
 ],
 "metadata": {
  "kernelspec": {
   "display_name": "Python 3",
   "language": "python",
   "name": "python3"
  },
  "language_info": {
   "codemirror_mode": {
    "name": "ipython",
    "version": 3
   },
   "file_extension": ".py",
   "mimetype": "text/x-python",
   "name": "python",
   "nbconvert_exporter": "python",
   "pygments_lexer": "ipython3",
   "version": "3.7.3"
  }
 },
 "nbformat": 4,
 "nbformat_minor": 4
}
