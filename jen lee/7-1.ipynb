{
 "cells": [
  {
   "cell_type": "markdown",
   "metadata": {},
   "source": [
    "# Lecure 7.1 More data analysis with pandas"
   ]
  },
  {
   "cell_type": "markdown",
   "metadata": {},
   "source": [
    "We are focusing on coding today. Make sure you ask for help when you get stuck, either from the intructor or your colleagues. A little bit of struggle is good, but don't bang your head against the wall!"
   ]
  },
  {
   "cell_type": "markdown",
   "metadata": {},
   "source": [
    "Data analysis is a proccess of interaction with data, getting to know it, using descriptive statistics, seeing how variables are related. Once you get to know the data, then creative and interesting things can happen that bring new insight and help you develop a narrative about the data you are analysing"
   ]
  },
  {
   "cell_type": "markdown",
   "metadata": {},
   "source": [
    "## 1. Warm up\n",
    "\n",
    "### 1.1 \n",
    "Code a function that given the area of a circle, returns both the radius and the circumference\n",
    "### 1.2 \n",
    "Add in an error statement if a negative area is passed to the function\n",
    "### 1.3 \n",
    "Use your function to plot radus and circumference for areas between 0 and 1000, counting by 20. Put both lines on one plot. Label your plot, and include a legend."
   ]
  },
  {
   "cell_type": "code",
   "execution_count": 1,
   "metadata": {},
   "outputs": [],
   "source": [
    "import numpy as np\n",
    "import matplotlib.pyplot as plt #for plots\n",
    "%matplotlib inline \n",
    "from matplotlib import cm"
   ]
  },
  {
   "cell_type": "code",
   "execution_count": 15,
   "metadata": {},
   "outputs": [],
   "source": [
    "pi=3.14\n",
    "def circle_area(x):\n",
    "    return(pi*r*r)"
   ]
  },
  {
   "cell_type": "code",
   "execution_count": 16,
   "metadata": {},
   "outputs": [
    {
     "data": {
      "text/plain": [
       "12.56"
      ]
     },
     "execution_count": 16,
     "metadata": {},
     "output_type": "execute_result"
    }
   ],
   "source": [
    "circle_area(2)"
   ]
  },
  {
   "cell_type": "code",
   "execution_count": 19,
   "metadata": {},
   "outputs": [],
   "source": [
    "r=3"
   ]
  },
  {
   "cell_type": "code",
   "execution_count": 25,
   "metadata": {},
   "outputs": [],
   "source": [
    "def circle_radius(a):\n",
    "    return(pi*r*r)"
   ]
  },
  {
   "cell_type": "code",
   "execution_count": 26,
   "metadata": {},
   "outputs": [
    {
     "data": {
      "text/plain": [
       "28.259999999999998"
      ]
     },
     "execution_count": 26,
     "metadata": {},
     "output_type": "execute_result"
    }
   ],
   "source": [
    "circle_radius(3)"
   ]
  },
  {
   "cell_type": "code",
   "execution_count": 27,
   "metadata": {},
   "outputs": [],
   "source": [
    "def circle_circumfrance(b):\n",
    "    return(2*pi*r)"
   ]
  },
  {
   "cell_type": "code",
   "execution_count": 28,
   "metadata": {},
   "outputs": [
    {
     "data": {
      "text/plain": [
       "18.84"
      ]
     },
     "execution_count": 28,
     "metadata": {},
     "output_type": "execute_result"
    }
   ],
   "source": [
    "circle_circumfrance(5)"
   ]
  },
  {
   "cell_type": "markdown",
   "metadata": {},
   "source": [
    "# Team fred"
   ]
  },
  {
   "cell_type": "code",
   "execution_count": 29,
   "metadata": {},
   "outputs": [],
   "source": [
    "def area(a):\n",
    "    r=np.sqrt(a/pi)\n",
    "    return r"
   ]
  },
  {
   "cell_type": "code",
   "execution_count": 31,
   "metadata": {},
   "outputs": [
    {
     "data": {
      "text/plain": [
       "0.7980868844676221"
      ]
     },
     "execution_count": 31,
     "metadata": {},
     "output_type": "execute_result"
    }
   ],
   "source": [
    "area(2)"
   ]
  },
  {
   "cell_type": "code",
   "execution_count": 4,
   "metadata": {},
   "outputs": [],
   "source": [
    "pi=3.14"
   ]
  },
  {
   "cell_type": "code",
   "execution_count": 5,
   "metadata": {},
   "outputs": [],
   "source": [
    "def area(a):\n",
    "    r=np.sqrt(a/pi)\n",
    "    c=2*pi*r\n",
    "    return r,c"
   ]
  },
  {
   "cell_type": "code",
   "execution_count": 6,
   "metadata": {},
   "outputs": [
    {
     "data": {
      "text/plain": [
       "(1.2618861628126719, 7.92464510246358)"
      ]
     },
     "execution_count": 6,
     "metadata": {},
     "output_type": "execute_result"
    }
   ],
   "source": [
    "area(5)"
   ]
  },
  {
   "cell_type": "code",
   "execution_count": 7,
   "metadata": {},
   "outputs": [],
   "source": [
    "#check it"
   ]
  },
  {
   "cell_type": "code",
   "execution_count": 8,
   "metadata": {},
   "outputs": [],
   "source": [
    "c=2*pi*1.2618861628126719"
   ]
  },
  {
   "cell_type": "code",
   "execution_count": 9,
   "metadata": {},
   "outputs": [
    {
     "data": {
      "text/plain": [
       "7.92464510246358"
      ]
     },
     "execution_count": 9,
     "metadata": {},
     "output_type": "execute_result"
    }
   ],
   "source": [
    "c"
   ]
  },
  {
   "cell_type": "code",
   "execution_count": 22,
   "metadata": {},
   "outputs": [],
   "source": [
    "def area (a):\n",
    "    if a >= 0:\n",
    "        r = np.sqrt(a/np.pi)#equations for circle radius and circumference\n",
    "        c = 2 *pi* r\n",
    "        print(\"Radius:\", r, \"Circumference:\", c)#prints radius and  circ\n",
    "    else: \n",
    "        print(\"Error: negative\") #error satement when area is negative"
   ]
  },
  {
   "cell_type": "code",
   "execution_count": 23,
   "metadata": {},
   "outputs": [
    {
     "name": "stdout",
     "output_type": "stream",
     "text": [
      "Radius: 3.989422804014327 Circumference: 25.053575209209974\n"
     ]
    }
   ],
   "source": [
    "area(50)"
   ]
  },
  {
   "cell_type": "code",
   "execution_count": 24,
   "metadata": {},
   "outputs": [
    {
     "name": "stdout",
     "output_type": "stream",
     "text": [
      "Error: negative\n"
     ]
    }
   ],
   "source": [
    "area(-50)"
   ]
  },
  {
   "cell_type": "code",
   "execution_count": 17,
   "metadata": {},
   "outputs": [],
   "source": [
    "def area(a):\n",
    "    if c>0:\n",
    "        print(\"r is negative\")\n",
    "    else:\n",
    "        print(\"r is positive\")"
   ]
  },
  {
   "cell_type": "code",
   "execution_count": 18,
   "metadata": {},
   "outputs": [
    {
     "name": "stdout",
     "output_type": "stream",
     "text": [
      "r is negative\n"
     ]
    }
   ],
   "source": [
    "area(50)"
   ]
  },
  {
   "cell_type": "code",
   "execution_count": 19,
   "metadata": {},
   "outputs": [
    {
     "name": "stdout",
     "output_type": "stream",
     "text": [
      "r is negative\n"
     ]
    }
   ],
   "source": [
    "area(-50)"
   ]
  },
  {
   "cell_type": "code",
   "execution_count": 44,
   "metadata": {},
   "outputs": [
    {
     "name": "stdout",
     "output_type": "stream",
     "text": [
      "c is positive\n",
      "c is positive\n"
     ]
    }
   ],
   "source": [
    "for c in area(a):\n",
    "    if c<0:\n",
    "        print(\"c is negative\")\n",
    "    else:\n",
    "        print(\"c is positive\")"
   ]
  },
  {
   "cell_type": "code",
   "execution_count": 36,
   "metadata": {},
   "outputs": [],
   "source": [
    "area = np.arange(0, 1001,20)#0 to 1000 by, 20\n",
    "def circle (a):\n",
    "    r = np.sqrt(a/np.pi)\n",
    "    c = 2 * np.pi * r #equations\n",
    "    plt.plot(a,r, label = \"Radius\") #label for area/radius\n",
    "    plt.plot(a, c, label = \"Circumference\")#label for area/circumference\n",
    "    plt.title('Radius and Circumfrence array plot')#warm up name \n",
    "    plt.xlabel('Area of Circle') # areas ploted from r and c\n",
    "    plt.ylabel('Radius and Circumference')\n",
    "    plt.legend()\n",
    "    "
   ]
  },
  {
   "cell_type": "code",
   "execution_count": 37,
   "metadata": {},
   "outputs": [
    {
     "data": {
      "text/plain": [
       "array([   0,   20,   40,   60,   80,  100,  120,  140,  160,  180,  200,\n",
       "        220,  240,  260,  280,  300,  320,  340,  360,  380,  400,  420,\n",
       "        440,  460,  480,  500,  520,  540,  560,  580,  600,  620,  640,\n",
       "        660,  680,  700,  720,  740,  760,  780,  800,  820,  840,  860,\n",
       "        880,  900,  920,  940,  960,  980, 1000])"
      ]
     },
     "execution_count": 37,
     "metadata": {},
     "output_type": "execute_result"
    }
   ],
   "source": [
    "area #arange show"
   ]
  },
  {
   "cell_type": "code",
   "execution_count": 38,
   "metadata": {},
   "outputs": [
    {
     "data": {
      "image/png": "[encoded data removed]",
      "text/plain": [
       "<Figure size 432x288 with 1 Axes>"
      ]
     },
     "metadata": {
      "needs_background": "light"
     },
     "output_type": "display_data"
    }
   ],
   "source": [
    "circle(area) #def ploted over arange"
   ]
  },
  {
   "cell_type": "code",
   "execution_count": null,
   "metadata": {},
   "outputs": [],
   "source": []
  },
  {
   "cell_type": "code",
   "execution_count": 46,
   "metadata": {},
   "outputs": [
    {
     "name": "stderr",
     "output_type": "stream",
     "text": [
      "C:\\Users\\baezj\\Anaconda3\\lib\\site-packages\\ipykernel_launcher.py:2: RuntimeWarning: invalid value encountered in sqrt\n",
      "  \n"
     ]
    },
    {
     "data": {
      "text/plain": [
       "(nan, nan)"
      ]
     },
     "execution_count": 46,
     "metadata": {},
     "output_type": "execute_result"
    }
   ],
   "source": [
    "area(-1)"
   ]
  },
  {
   "cell_type": "markdown",
   "metadata": {},
   "source": []
  },
  {
   "cell_type": "markdown",
   "metadata": {},
   "source": [
    "## 2. TED Talk exercises"
   ]
  },
  {
   "cell_type": "markdown",
   "metadata": {},
   "source": [
    "For the following, use the TED Talk dataset we used in week 5"
   ]
  },
  {
   "cell_type": "markdown",
   "metadata": {},
   "source": [
    "### 2.1 Basics\n",
    "How do you display all of the data types in a pandas data set? Demonstrate."
   ]
  },
  {
   "cell_type": "code",
   "execution_count": 40,
   "metadata": {},
   "outputs": [],
   "source": [
    "import pandas as pd "
   ]
  },
  {
   "cell_type": "code",
   "execution_count": 41,
   "metadata": {},
   "outputs": [],
   "source": [
    "import matplotlib.pyplot as plt"
   ]
  },
  {
   "cell_type": "code",
   "execution_count": 42,
   "metadata": {},
   "outputs": [],
   "source": [
    "ted=pd.read_csv('\\\\Users\\\\baezj\\\\Documents\\\\ted.csv')"
   ]
  },
  {
   "cell_type": "code",
   "execution_count": 43,
   "metadata": {},
   "outputs": [
    {
     "data": {
      "text/html": [
       "<div>\n",
       "<style scoped>\n",
       "    .dataframe tbody tr th:only-of-type {\n",
       "        vertical-align: middle;\n",
       "    }\n",
       "\n",
       "    .dataframe tbody tr th {\n",
       "        vertical-align: top;\n",
       "    }\n",
       "\n",
       "    .dataframe thead th {\n",
       "        text-align: right;\n",
       "    }\n",
       "</style>\n",
       "<table border=\"1\" class=\"dataframe\">\n",
       "  <thead>\n",
       "    <tr style=\"text-align: right;\">\n",
       "      <th></th>\n",
       "      <th>comments</th>\n",
       "      <th>description</th>\n",
       "      <th>duration</th>\n",
       "      <th>event</th>\n",
       "      <th>film_date</th>\n",
       "      <th>languages</th>\n",
       "      <th>main_speaker</th>\n",
       "      <th>name</th>\n",
       "      <th>num_speaker</th>\n",
       "      <th>published_date</th>\n",
       "      <th>ratings</th>\n",
       "      <th>related_talks</th>\n",
       "      <th>speaker_occupation</th>\n",
       "      <th>tags</th>\n",
       "      <th>title</th>\n",
       "      <th>url</th>\n",
       "      <th>views</th>\n",
       "    </tr>\n",
       "  </thead>\n",
       "  <tbody>\n",
       "    <tr>\n",
       "      <th>0</th>\n",
       "      <td>4553</td>\n",
       "      <td>Sir Ken Robinson makes an entertaining and pro...</td>\n",
       "      <td>1164</td>\n",
       "      <td>TED2006</td>\n",
       "      <td>1140825600</td>\n",
       "      <td>60</td>\n",
       "      <td>Ken Robinson</td>\n",
       "      <td>Ken Robinson: Do schools kill creativity?</td>\n",
       "      <td>1</td>\n",
       "      <td>1151367060</td>\n",
       "      <td>[{'id': 7, 'name': 'Funny', 'count': 19645}, {...</td>\n",
       "      <td>[{'id': 865, 'hero': 'https://pe.tedcdn.com/im...</td>\n",
       "      <td>Author/educator</td>\n",
       "      <td>['children', 'creativity', 'culture', 'dance',...</td>\n",
       "      <td>Do schools kill creativity?</td>\n",
       "      <td>https://www.ted.com/talks/ken_robinson_says_sc...</td>\n",
       "      <td>47227110</td>\n",
       "    </tr>\n",
       "    <tr>\n",
       "      <th>1</th>\n",
       "      <td>265</td>\n",
       "      <td>With the same humor and humanity he exuded in ...</td>\n",
       "      <td>977</td>\n",
       "      <td>TED2006</td>\n",
       "      <td>1140825600</td>\n",
       "      <td>43</td>\n",
       "      <td>Al Gore</td>\n",
       "      <td>Al Gore: Averting the climate crisis</td>\n",
       "      <td>1</td>\n",
       "      <td>1151367060</td>\n",
       "      <td>[{'id': 7, 'name': 'Funny', 'count': 544}, {'i...</td>\n",
       "      <td>[{'id': 243, 'hero': 'https://pe.tedcdn.com/im...</td>\n",
       "      <td>Climate advocate</td>\n",
       "      <td>['alternative energy', 'cars', 'climate change...</td>\n",
       "      <td>Averting the climate crisis</td>\n",
       "      <td>https://www.ted.com/talks/al_gore_on_averting_...</td>\n",
       "      <td>3200520</td>\n",
       "    </tr>\n",
       "    <tr>\n",
       "      <th>2</th>\n",
       "      <td>124</td>\n",
       "      <td>New York Times columnist David Pogue takes aim...</td>\n",
       "      <td>1286</td>\n",
       "      <td>TED2006</td>\n",
       "      <td>1140739200</td>\n",
       "      <td>26</td>\n",
       "      <td>David Pogue</td>\n",
       "      <td>David Pogue: Simplicity sells</td>\n",
       "      <td>1</td>\n",
       "      <td>1151367060</td>\n",
       "      <td>[{'id': 7, 'name': 'Funny', 'count': 964}, {'i...</td>\n",
       "      <td>[{'id': 1725, 'hero': 'https://pe.tedcdn.com/i...</td>\n",
       "      <td>Technology columnist</td>\n",
       "      <td>['computers', 'entertainment', 'interface desi...</td>\n",
       "      <td>Simplicity sells</td>\n",
       "      <td>https://www.ted.com/talks/david_pogue_says_sim...</td>\n",
       "      <td>1636292</td>\n",
       "    </tr>\n",
       "    <tr>\n",
       "      <th>3</th>\n",
       "      <td>200</td>\n",
       "      <td>In an emotionally charged talk, MacArthur-winn...</td>\n",
       "      <td>1116</td>\n",
       "      <td>TED2006</td>\n",
       "      <td>1140912000</td>\n",
       "      <td>35</td>\n",
       "      <td>Majora Carter</td>\n",
       "      <td>Majora Carter: Greening the ghetto</td>\n",
       "      <td>1</td>\n",
       "      <td>1151367060</td>\n",
       "      <td>[{'id': 3, 'name': 'Courageous', 'count': 760}...</td>\n",
       "      <td>[{'id': 1041, 'hero': 'https://pe.tedcdn.com/i...</td>\n",
       "      <td>Activist for environmental justice</td>\n",
       "      <td>['MacArthur grant', 'activism', 'business', 'c...</td>\n",
       "      <td>Greening the ghetto</td>\n",
       "      <td>https://www.ted.com/talks/majora_carter_s_tale...</td>\n",
       "      <td>1697550</td>\n",
       "    </tr>\n",
       "    <tr>\n",
       "      <th>4</th>\n",
       "      <td>593</td>\n",
       "      <td>You've never seen data presented like this. Wi...</td>\n",
       "      <td>1190</td>\n",
       "      <td>TED2006</td>\n",
       "      <td>1140566400</td>\n",
       "      <td>48</td>\n",
       "      <td>Hans Rosling</td>\n",
       "      <td>Hans Rosling: The best stats you've ever seen</td>\n",
       "      <td>1</td>\n",
       "      <td>1151440680</td>\n",
       "      <td>[{'id': 9, 'name': 'Ingenious', 'count': 3202}...</td>\n",
       "      <td>[{'id': 2056, 'hero': 'https://pe.tedcdn.com/i...</td>\n",
       "      <td>Global health expert; data visionary</td>\n",
       "      <td>['Africa', 'Asia', 'Google', 'demo', 'economic...</td>\n",
       "      <td>The best stats you've ever seen</td>\n",
       "      <td>https://www.ted.com/talks/hans_rosling_shows_t...</td>\n",
       "      <td>12005869</td>\n",
       "    </tr>\n",
       "  </tbody>\n",
       "</table>\n",
       "</div>"
      ],
      "text/plain": [
       "   comments                                        description  duration  \\\n",
       "0      4553  Sir Ken Robinson makes an entertaining and pro...      1164   \n",
       "1       265  With the same humor and humanity he exuded in ...       977   \n",
       "2       124  New York Times columnist David Pogue takes aim...      1286   \n",
       "3       200  In an emotionally charged talk, MacArthur-winn...      1116   \n",
       "4       593  You've never seen data presented like this. Wi...      1190   \n",
       "\n",
       "     event   film_date  languages   main_speaker  \\\n",
       "0  TED2006  1140825600         60   Ken Robinson   \n",
       "1  TED2006  1140825600         43        Al Gore   \n",
       "2  TED2006  1140739200         26    David Pogue   \n",
       "3  TED2006  1140912000         35  Majora Carter   \n",
       "4  TED2006  1140566400         48   Hans Rosling   \n",
       "\n",
       "                                            name  num_speaker  published_date  \\\n",
       "0      Ken Robinson: Do schools kill creativity?            1      1151367060   \n",
       "1           Al Gore: Averting the climate crisis            1      1151367060   \n",
       "2                  David Pogue: Simplicity sells            1      1151367060   \n",
       "3             Majora Carter: Greening the ghetto            1      1151367060   \n",
       "4  Hans Rosling: The best stats you've ever seen            1      1151440680   \n",
       "\n",
       "                                             ratings  \\\n",
       "0  [{'id': 7, 'name': 'Funny', 'count': 19645}, {...   \n",
       "1  [{'id': 7, 'name': 'Funny', 'count': 544}, {'i...   \n",
       "2  [{'id': 7, 'name': 'Funny', 'count': 964}, {'i...   \n",
       "3  [{'id': 3, 'name': 'Courageous', 'count': 760}...   \n",
       "4  [{'id': 9, 'name': 'Ingenious', 'count': 3202}...   \n",
       "\n",
       "                                       related_talks  \\\n",
       "0  [{'id': 865, 'hero': 'https://pe.tedcdn.com/im...   \n",
       "1  [{'id': 243, 'hero': 'https://pe.tedcdn.com/im...   \n",
       "2  [{'id': 1725, 'hero': 'https://pe.tedcdn.com/i...   \n",
       "3  [{'id': 1041, 'hero': 'https://pe.tedcdn.com/i...   \n",
       "4  [{'id': 2056, 'hero': 'https://pe.tedcdn.com/i...   \n",
       "\n",
       "                     speaker_occupation  \\\n",
       "0                       Author/educator   \n",
       "1                      Climate advocate   \n",
       "2                  Technology columnist   \n",
       "3    Activist for environmental justice   \n",
       "4  Global health expert; data visionary   \n",
       "\n",
       "                                                tags  \\\n",
       "0  ['children', 'creativity', 'culture', 'dance',...   \n",
       "1  ['alternative energy', 'cars', 'climate change...   \n",
       "2  ['computers', 'entertainment', 'interface desi...   \n",
       "3  ['MacArthur grant', 'activism', 'business', 'c...   \n",
       "4  ['Africa', 'Asia', 'Google', 'demo', 'economic...   \n",
       "\n",
       "                             title  \\\n",
       "0      Do schools kill creativity?   \n",
       "1      Averting the climate crisis   \n",
       "2                 Simplicity sells   \n",
       "3              Greening the ghetto   \n",
       "4  The best stats you've ever seen   \n",
       "\n",
       "                                                 url     views  \n",
       "0  https://www.ted.com/talks/ken_robinson_says_sc...  47227110  \n",
       "1  https://www.ted.com/talks/al_gore_on_averting_...   3200520  \n",
       "2  https://www.ted.com/talks/david_pogue_says_sim...   1636292  \n",
       "3  https://www.ted.com/talks/majora_carter_s_tale...   1697550  \n",
       "4  https://www.ted.com/talks/hans_rosling_shows_t...  12005869  "
      ]
     },
     "execution_count": 43,
     "metadata": {},
     "output_type": "execute_result"
    }
   ],
   "source": [
    "ted.head()"
   ]
  },
  {
   "cell_type": "code",
   "execution_count": 44,
   "metadata": {},
   "outputs": [
    {
     "data": {
      "text/plain": [
       "comments               int64\n",
       "description           object\n",
       "duration               int64\n",
       "event                 object\n",
       "film_date              int64\n",
       "languages              int64\n",
       "main_speaker          object\n",
       "name                  object\n",
       "num_speaker            int64\n",
       "published_date         int64\n",
       "ratings               object\n",
       "related_talks         object\n",
       "speaker_occupation    object\n",
       "tags                  object\n",
       "title                 object\n",
       "url                   object\n",
       "views                  int64\n",
       "dtype: object"
      ]
     },
     "execution_count": 44,
     "metadata": {},
     "output_type": "execute_result"
    }
   ],
   "source": [
    "ted.dtypes"
   ]
  },
  {
   "cell_type": "markdown",
   "metadata": {},
   "source": [
    "### 2.2 Working with data in pandas: sorting and plotting\n",
    "#### 2.2.1 \n",
    "Display just the name and duration of the talks."
   ]
  },
  {
   "cell_type": "code",
   "execution_count": 58,
   "metadata": {},
   "outputs": [
    {
     "data": {
      "text/plain": [
       "0    TED2006\n",
       "1    TED2006\n",
       "2    TED2006\n",
       "3    TED2006\n",
       "4    TED2006\n",
       "5    TED2006\n",
       "6    TED2006\n",
       "7    TED2006\n",
       "8    TED2006\n",
       "9    TED2006\n",
       "Name: event, dtype: object"
      ]
     },
     "execution_count": 58,
     "metadata": {},
     "output_type": "execute_result"
    }
   ],
   "source": [
    "ted.event.head(10)# list of first 10 names of talks"
   ]
  },
  {
   "cell_type": "code",
   "execution_count": 45,
   "metadata": {},
   "outputs": [
    {
     "data": {
      "text/plain": [
       "0    1164\n",
       "1     977\n",
       "2    1286\n",
       "3    1116\n",
       "4    1190\n",
       "5    1305\n",
       "6     992\n",
       "7    1198\n",
       "8    1485\n",
       "9    1262\n",
       "Name: duration, dtype: int64"
      ]
     },
     "execution_count": 45,
     "metadata": {},
     "output_type": "execute_result"
    }
   ],
   "source": [
    "ted.duration.head(10) #list of first 10 events durations"
   ]
  },
  {
   "cell_type": "code",
   "execution_count": 46,
   "metadata": {},
   "outputs": [
    {
     "data": {
      "text/plain": [
       "0                          Do schools kill creativity?\n",
       "1                          Averting the climate crisis\n",
       "2                                     Simplicity sells\n",
       "3                                  Greening the ghetto\n",
       "4                      The best stats you've ever seen\n",
       "5                                 Why we do what we do\n",
       "6                                    Letting go of God\n",
       "7               Behind the design of Seattle's library\n",
       "8    Let's teach religion -- all religion -- in sch...\n",
       "9                                    A life of purpose\n",
       "Name: title, dtype: object"
      ]
     },
     "execution_count": 46,
     "metadata": {},
     "output_type": "execute_result"
    }
   ],
   "source": [
    "ted.title.head(10)"
   ]
  },
  {
   "cell_type": "code",
   "execution_count": 49,
   "metadata": {},
   "outputs": [
    {
     "data": {
      "text/html": [
       "<div>\n",
       "<style scoped>\n",
       "    .dataframe tbody tr th:only-of-type {\n",
       "        vertical-align: middle;\n",
       "    }\n",
       "\n",
       "    .dataframe tbody tr th {\n",
       "        vertical-align: top;\n",
       "    }\n",
       "\n",
       "    .dataframe thead th {\n",
       "        text-align: right;\n",
       "    }\n",
       "</style>\n",
       "<table border=\"1\" class=\"dataframe\">\n",
       "  <thead>\n",
       "    <tr style=\"text-align: right;\">\n",
       "      <th></th>\n",
       "      <th>title</th>\n",
       "      <th>duration</th>\n",
       "    </tr>\n",
       "  </thead>\n",
       "  <tbody>\n",
       "    <tr>\n",
       "      <th>0</th>\n",
       "      <td>Do schools kill creativity?</td>\n",
       "      <td>1164</td>\n",
       "    </tr>\n",
       "    <tr>\n",
       "      <th>1</th>\n",
       "      <td>Averting the climate crisis</td>\n",
       "      <td>977</td>\n",
       "    </tr>\n",
       "    <tr>\n",
       "      <th>2</th>\n",
       "      <td>Simplicity sells</td>\n",
       "      <td>1286</td>\n",
       "    </tr>\n",
       "    <tr>\n",
       "      <th>3</th>\n",
       "      <td>Greening the ghetto</td>\n",
       "      <td>1116</td>\n",
       "    </tr>\n",
       "    <tr>\n",
       "      <th>4</th>\n",
       "      <td>The best stats you've ever seen</td>\n",
       "      <td>1190</td>\n",
       "    </tr>\n",
       "    <tr>\n",
       "      <th>5</th>\n",
       "      <td>Why we do what we do</td>\n",
       "      <td>1305</td>\n",
       "    </tr>\n",
       "    <tr>\n",
       "      <th>6</th>\n",
       "      <td>Letting go of God</td>\n",
       "      <td>992</td>\n",
       "    </tr>\n",
       "    <tr>\n",
       "      <th>7</th>\n",
       "      <td>Behind the design of Seattle's library</td>\n",
       "      <td>1198</td>\n",
       "    </tr>\n",
       "    <tr>\n",
       "      <th>8</th>\n",
       "      <td>Let's teach religion -- all religion -- in sch...</td>\n",
       "      <td>1485</td>\n",
       "    </tr>\n",
       "    <tr>\n",
       "      <th>9</th>\n",
       "      <td>A life of purpose</td>\n",
       "      <td>1262</td>\n",
       "    </tr>\n",
       "  </tbody>\n",
       "</table>\n",
       "</div>"
      ],
      "text/plain": [
       "                                               title  duration\n",
       "0                        Do schools kill creativity?      1164\n",
       "1                        Averting the climate crisis       977\n",
       "2                                   Simplicity sells      1286\n",
       "3                                Greening the ghetto      1116\n",
       "4                    The best stats you've ever seen      1190\n",
       "5                               Why we do what we do      1305\n",
       "6                                  Letting go of God       992\n",
       "7             Behind the design of Seattle's library      1198\n",
       "8  Let's teach religion -- all religion -- in sch...      1485\n",
       "9                                  A life of purpose      1262"
      ]
     },
     "execution_count": 49,
     "metadata": {},
     "output_type": "execute_result"
    }
   ],
   "source": [
    "ted[['title','duration']].head(10)"
   ]
  },
  {
   "cell_type": "markdown",
   "metadata": {},
   "source": [
    "#### 2.2.2\n",
    "Now sort by duration. Display 1) the 10 shortest and 2) the 10 longest talks"
   ]
  },
  {
   "cell_type": "code",
   "execution_count": 83,
   "metadata": {},
   "outputs": [
    {
     "data": {
      "text/plain": [
       "0       False\n",
       "1       False\n",
       "2       False\n",
       "3       False\n",
       "4       False\n",
       "5       False\n",
       "6       False\n",
       "7       False\n",
       "8       False\n",
       "9       False\n",
       "10      False\n",
       "11      False\n",
       "12      False\n",
       "13      False\n",
       "14      False\n",
       "15      False\n",
       "16      False\n",
       "17      False\n",
       "18      False\n",
       "19      False\n",
       "20      False\n",
       "21      False\n",
       "22      False\n",
       "23      False\n",
       "24      False\n",
       "25      False\n",
       "26      False\n",
       "27      False\n",
       "28      False\n",
       "29      False\n",
       "        ...  \n",
       "2520    False\n",
       "2521    False\n",
       "2522    False\n",
       "2523    False\n",
       "2524    False\n",
       "2525    False\n",
       "2526    False\n",
       "2527    False\n",
       "2528    False\n",
       "2529    False\n",
       "2530    False\n",
       "2531    False\n",
       "2532    False\n",
       "2533    False\n",
       "2534    False\n",
       "2535    False\n",
       "2536    False\n",
       "2537    False\n",
       "2538    False\n",
       "2539    False\n",
       "2540    False\n",
       "2541    False\n",
       "2542    False\n",
       "2543    False\n",
       "2544    False\n",
       "2545    False\n",
       "2546    False\n",
       "2547    False\n",
       "2548    False\n",
       "2549    False\n",
       "Name: duration, Length: 2550, dtype: bool"
      ]
     },
     "execution_count": 83,
     "metadata": {},
     "output_type": "execute_result"
    }
   ],
   "source": [
    "ted.duration<10"
   ]
  },
  {
   "cell_type": "code",
   "execution_count": 53,
   "metadata": {},
   "outputs": [
    {
     "data": {
      "text/plain": [
       "1485"
      ]
     },
     "execution_count": 53,
     "metadata": {},
     "output_type": "execute_result"
    }
   ],
   "source": [
    "ted.duration.head(10).max()#longest in first 10"
   ]
  },
  {
   "cell_type": "code",
   "execution_count": 55,
   "metadata": {},
   "outputs": [
    {
     "data": {
      "text/plain": [
       "5256"
      ]
     },
     "execution_count": 55,
     "metadata": {},
     "output_type": "execute_result"
    }
   ],
   "source": [
    "ted.duration.max()#longest"
   ]
  },
  {
   "cell_type": "code",
   "execution_count": 56,
   "metadata": {},
   "outputs": [
    {
     "data": {
      "text/plain": [
       "977"
      ]
     },
     "execution_count": 56,
     "metadata": {},
     "output_type": "execute_result"
    }
   ],
   "source": [
    "ted.duration.head(10).min()#shortest in first 10 "
   ]
  },
  {
   "cell_type": "code",
   "execution_count": 65,
   "metadata": {},
   "outputs": [
    {
     "data": {
      "text/plain": [
       "135"
      ]
     },
     "execution_count": 65,
     "metadata": {},
     "output_type": "execute_result"
    }
   ],
   "source": [
    "ted.duration.min()#shortest"
   ]
  },
  {
   "cell_type": "code",
   "execution_count": 50,
   "metadata": {},
   "outputs": [
    {
     "data": {
      "text/html": [
       "<div>\n",
       "<style scoped>\n",
       "    .dataframe tbody tr th:only-of-type {\n",
       "        vertical-align: middle;\n",
       "    }\n",
       "\n",
       "    .dataframe tbody tr th {\n",
       "        vertical-align: top;\n",
       "    }\n",
       "\n",
       "    .dataframe thead th {\n",
       "        text-align: right;\n",
       "    }\n",
       "</style>\n",
       "<table border=\"1\" class=\"dataframe\">\n",
       "  <thead>\n",
       "    <tr style=\"text-align: right;\">\n",
       "      <th></th>\n",
       "      <th>comments</th>\n",
       "      <th>description</th>\n",
       "      <th>duration</th>\n",
       "      <th>event</th>\n",
       "      <th>film_date</th>\n",
       "      <th>languages</th>\n",
       "      <th>main_speaker</th>\n",
       "      <th>name</th>\n",
       "      <th>num_speaker</th>\n",
       "      <th>published_date</th>\n",
       "      <th>ratings</th>\n",
       "      <th>related_talks</th>\n",
       "      <th>speaker_occupation</th>\n",
       "      <th>tags</th>\n",
       "      <th>title</th>\n",
       "      <th>url</th>\n",
       "      <th>views</th>\n",
       "    </tr>\n",
       "  </thead>\n",
       "  <tbody>\n",
       "    <tr>\n",
       "      <th>239</th>\n",
       "      <td>76</td>\n",
       "      <td>After speaking at TED2007 on elegance in physi...</td>\n",
       "      <td>135</td>\n",
       "      <td>TED2007</td>\n",
       "      <td>1172880000</td>\n",
       "      <td>61</td>\n",
       "      <td>Murray Gell-Mann</td>\n",
       "      <td>Murray Gell-Mann: The ancestor of language</td>\n",
       "      <td>1</td>\n",
       "      <td>1213146000</td>\n",
       "      <td>[{'id': 22, 'name': 'Fascinating', 'count': 78...</td>\n",
       "      <td>[{'id': 161, 'hero': 'https://pe.tedcdn.com/im...</td>\n",
       "      <td>Physicist</td>\n",
       "      <td>['culture', 'global issues', 'history', 'langu...</td>\n",
       "      <td>The ancestor of language</td>\n",
       "      <td>https://www.ted.com/talks/murray_gell_mann_on_...</td>\n",
       "      <td>785293</td>\n",
       "    </tr>\n",
       "    <tr>\n",
       "      <th>248</th>\n",
       "      <td>42</td>\n",
       "      <td>Singer-songwriter Nellie McKay performs the se...</td>\n",
       "      <td>140</td>\n",
       "      <td>TED2008</td>\n",
       "      <td>1204243200</td>\n",
       "      <td>39</td>\n",
       "      <td>Nellie McKay</td>\n",
       "      <td>Nellie McKay: \"Clonie\"</td>\n",
       "      <td>1</td>\n",
       "      <td>1214528400</td>\n",
       "      <td>[{'id': 25, 'name': 'OK', 'count': 104}, {'id'...</td>\n",
       "      <td>[{'id': 325, 'hero': 'https://pe.tedcdn.com/im...</td>\n",
       "      <td>Singer/songwriter</td>\n",
       "      <td>['culture', 'entertainment', 'genetics', 'live...</td>\n",
       "      <td>\"Clonie\"</td>\n",
       "      <td>https://www.ted.com/talks/nellie_mckay_sings_c...</td>\n",
       "      <td>680591</td>\n",
       "    </tr>\n",
       "    <tr>\n",
       "      <th>547</th>\n",
       "      <td>46</td>\n",
       "      <td>The euphonium, with its sweet brass sound, is ...</td>\n",
       "      <td>141</td>\n",
       "      <td>TEDGlobal 2009</td>\n",
       "      <td>1248307200</td>\n",
       "      <td>0</td>\n",
       "      <td>Matthew White</td>\n",
       "      <td>Matthew White: The modern euphonium</td>\n",
       "      <td>1</td>\n",
       "      <td>1256864400</td>\n",
       "      <td>[{'id': 9, 'name': 'Ingenious', 'count': 43}, ...</td>\n",
       "      <td>[{'id': 478, 'hero': 'https://pe.tedcdn.com/im...</td>\n",
       "      <td>Brass virtuoso</td>\n",
       "      <td>['creativity', 'live music', 'music', 'perform...</td>\n",
       "      <td>The modern euphonium</td>\n",
       "      <td>https://www.ted.com/talks/matthew_white_gives_...</td>\n",
       "      <td>771962</td>\n",
       "    </tr>\n",
       "    <tr>\n",
       "      <th>454</th>\n",
       "      <td>62</td>\n",
       "      <td>Yves Behar and Forrest North unveil Mission On...</td>\n",
       "      <td>143</td>\n",
       "      <td>TED2009</td>\n",
       "      <td>1233878400</td>\n",
       "      <td>45</td>\n",
       "      <td>Yves Behar</td>\n",
       "      <td>Yves Behar: A supercharged motorcycle design</td>\n",
       "      <td>1</td>\n",
       "      <td>1242982440</td>\n",
       "      <td>[{'id': 7, 'name': 'Funny', 'count': 30}, {'id...</td>\n",
       "      <td>[{'id': 266, 'hero': 'https://pe.tedcdn.com/im...</td>\n",
       "      <td>Designer</td>\n",
       "      <td>['cars', 'design', 'engineering', 'green', 'tr...</td>\n",
       "      <td>A supercharged motorcycle design</td>\n",
       "      <td>https://www.ted.com/talks/yves_behar_s_superch...</td>\n",
       "      <td>556657</td>\n",
       "    </tr>\n",
       "    <tr>\n",
       "      <th>264</th>\n",
       "      <td>15</td>\n",
       "      <td>In this short, image-packed talk, Marisa Fick-...</td>\n",
       "      <td>153</td>\n",
       "      <td>TEDGlobal 2007</td>\n",
       "      <td>1181088000</td>\n",
       "      <td>43</td>\n",
       "      <td>Marisa Fick-Jordan</td>\n",
       "      <td>Marisa Fick-Jordan: The wonder of Zulu wire art</td>\n",
       "      <td>1</td>\n",
       "      <td>1216666500</td>\n",
       "      <td>[{'id': 1, 'name': 'Beautiful', 'count': 81}, ...</td>\n",
       "      <td>[{'id': 127, 'hero': 'https://pe.tedcdn.com/im...</td>\n",
       "      <td>Craft artist, product designer</td>\n",
       "      <td>['Africa', 'art', 'business', 'design']</td>\n",
       "      <td>The wonder of Zulu wire art</td>\n",
       "      <td>https://www.ted.com/talks/marisa_fick_jordan_s...</td>\n",
       "      <td>294961</td>\n",
       "    </tr>\n",
       "    <tr>\n",
       "      <th>606</th>\n",
       "      <td>238</td>\n",
       "      <td>\"There's a flip side to everything,\" the sayin...</td>\n",
       "      <td>162</td>\n",
       "      <td>TEDIndia 2009</td>\n",
       "      <td>1257465600</td>\n",
       "      <td>69</td>\n",
       "      <td>Derek Sivers</td>\n",
       "      <td>Derek Sivers: Weird, or just different?</td>\n",
       "      <td>1</td>\n",
       "      <td>1264755240</td>\n",
       "      <td>[{'id': 7, 'name': 'Funny', 'count': 924}, {'i...</td>\n",
       "      <td>[{'id': 485, 'hero': 'https://pe.tedcdn.com/im...</td>\n",
       "      <td>Entrepreneur</td>\n",
       "      <td>['business', 'creativity', 'map']</td>\n",
       "      <td>Weird, or just different?</td>\n",
       "      <td>https://www.ted.com/talks/derek_sivers_weird_o...</td>\n",
       "      <td>2835976</td>\n",
       "    </tr>\n",
       "    <tr>\n",
       "      <th>86</th>\n",
       "      <td>39</td>\n",
       "      <td>A happy song about global warming, from Jill S...</td>\n",
       "      <td>163</td>\n",
       "      <td>TED2006</td>\n",
       "      <td>1140912000</td>\n",
       "      <td>38</td>\n",
       "      <td>Jill Sobule</td>\n",
       "      <td>Jill Sobule: Global warming's theme song, \"Man...</td>\n",
       "      <td>1</td>\n",
       "      <td>1175819400</td>\n",
       "      <td>[{'id': 9, 'name': 'Ingenious', 'count': 45}, ...</td>\n",
       "      <td>[{'id': 222, 'hero': 'https://pe.tedcdn.com/im...</td>\n",
       "      <td>Singer/songwriter</td>\n",
       "      <td>['climate change', 'environment', 'guitar', 'm...</td>\n",
       "      <td>Global warming's theme song, \"Manhattan in Jan...</td>\n",
       "      <td>https://www.ted.com/talks/jill_sobule_sings_to...</td>\n",
       "      <td>591379</td>\n",
       "    </tr>\n",
       "    <tr>\n",
       "      <th>1390</th>\n",
       "      <td>183</td>\n",
       "      <td>People don't just cook anymore -- they're cook...</td>\n",
       "      <td>172</td>\n",
       "      <td>TEDGlobal 2012</td>\n",
       "      <td>1340755200</td>\n",
       "      <td>48</td>\n",
       "      <td>Paolo Cardini</td>\n",
       "      <td>Paolo Cardini: Forget multitasking, try monota...</td>\n",
       "      <td>1</td>\n",
       "      <td>1354291786</td>\n",
       "      <td>[{'id': 25, 'name': 'OK', 'count': 328}, {'id'...</td>\n",
       "      <td>[{'id': 1265, 'hero': 'https://pe.tedcdn.com/i...</td>\n",
       "      <td>Designer</td>\n",
       "      <td>['culture', 'design', 'humor', 'product design...</td>\n",
       "      <td>Forget multitasking, try monotasking</td>\n",
       "      <td>https://www.ted.com/talks/paolo_cardini_forget...</td>\n",
       "      <td>2324212</td>\n",
       "    </tr>\n",
       "    <tr>\n",
       "      <th>593</th>\n",
       "      <td>43</td>\n",
       "      <td>As of 2005, only 15 percent of the world was m...</td>\n",
       "      <td>174</td>\n",
       "      <td>TEDIndia 2009</td>\n",
       "      <td>1257724800</td>\n",
       "      <td>48</td>\n",
       "      <td>Lalitesh Katragadda</td>\n",
       "      <td>Lalitesh Katragadda: Making maps to fight disa...</td>\n",
       "      <td>1</td>\n",
       "      <td>1263373860</td>\n",
       "      <td>[{'id': 10, 'name': 'Inspiring', 'count': 76},...</td>\n",
       "      <td>[{'id': 58, 'hero': 'https://pe.tedcdn.com/ima...</td>\n",
       "      <td>Engineer</td>\n",
       "      <td>['cities', 'collaboration', 'design', 'map', '...</td>\n",
       "      <td>Making maps to fight disaster, build economies</td>\n",
       "      <td>https://www.ted.com/talks/lalitesh_katragadda_...</td>\n",
       "      <td>359942</td>\n",
       "    </tr>\n",
       "    <tr>\n",
       "      <th>722</th>\n",
       "      <td>254</td>\n",
       "      <td>TED Fellow and urban designer Mitchell Joachim...</td>\n",
       "      <td>176</td>\n",
       "      <td>TED2010</td>\n",
       "      <td>1265932800</td>\n",
       "      <td>48</td>\n",
       "      <td>Mitchell Joachim</td>\n",
       "      <td>Mitchell Joachim: Don't build your home, grow it!</td>\n",
       "      <td>1</td>\n",
       "      <td>1278063240</td>\n",
       "      <td>[{'id': 23, 'name': 'Jaw-dropping', 'count': 1...</td>\n",
       "      <td>[{'id': 667, 'hero': 'https://pe.tedcdn.com/im...</td>\n",
       "      <td>Architect, designer</td>\n",
       "      <td>['TED Fellows', 'architecture', 'design', 'env...</td>\n",
       "      <td>Don't build your home, grow it!</td>\n",
       "      <td>https://www.ted.com/talks/mitchell_joachim_don...</td>\n",
       "      <td>1332785</td>\n",
       "    </tr>\n",
       "  </tbody>\n",
       "</table>\n",
       "</div>"
      ],
      "text/plain": [
       "      comments                                        description  duration  \\\n",
       "239         76  After speaking at TED2007 on elegance in physi...       135   \n",
       "248         42  Singer-songwriter Nellie McKay performs the se...       140   \n",
       "547         46  The euphonium, with its sweet brass sound, is ...       141   \n",
       "454         62  Yves Behar and Forrest North unveil Mission On...       143   \n",
       "264         15  In this short, image-packed talk, Marisa Fick-...       153   \n",
       "606        238  \"There's a flip side to everything,\" the sayin...       162   \n",
       "86          39  A happy song about global warming, from Jill S...       163   \n",
       "1390       183  People don't just cook anymore -- they're cook...       172   \n",
       "593         43  As of 2005, only 15 percent of the world was m...       174   \n",
       "722        254  TED Fellow and urban designer Mitchell Joachim...       176   \n",
       "\n",
       "               event   film_date  languages         main_speaker  \\\n",
       "239          TED2007  1172880000         61     Murray Gell-Mann   \n",
       "248          TED2008  1204243200         39         Nellie McKay   \n",
       "547   TEDGlobal 2009  1248307200          0        Matthew White   \n",
       "454          TED2009  1233878400         45           Yves Behar   \n",
       "264   TEDGlobal 2007  1181088000         43   Marisa Fick-Jordan   \n",
       "606    TEDIndia 2009  1257465600         69         Derek Sivers   \n",
       "86           TED2006  1140912000         38          Jill Sobule   \n",
       "1390  TEDGlobal 2012  1340755200         48        Paolo Cardini   \n",
       "593    TEDIndia 2009  1257724800         48  Lalitesh Katragadda   \n",
       "722          TED2010  1265932800         48     Mitchell Joachim   \n",
       "\n",
       "                                                   name  num_speaker  \\\n",
       "239          Murray Gell-Mann: The ancestor of language            1   \n",
       "248                              Nellie McKay: \"Clonie\"            1   \n",
       "547                 Matthew White: The modern euphonium            1   \n",
       "454        Yves Behar: A supercharged motorcycle design            1   \n",
       "264     Marisa Fick-Jordan: The wonder of Zulu wire art            1   \n",
       "606             Derek Sivers: Weird, or just different?            1   \n",
       "86    Jill Sobule: Global warming's theme song, \"Man...            1   \n",
       "1390  Paolo Cardini: Forget multitasking, try monota...            1   \n",
       "593   Lalitesh Katragadda: Making maps to fight disa...            1   \n",
       "722   Mitchell Joachim: Don't build your home, grow it!            1   \n",
       "\n",
       "      published_date                                            ratings  \\\n",
       "239       1213146000  [{'id': 22, 'name': 'Fascinating', 'count': 78...   \n",
       "248       1214528400  [{'id': 25, 'name': 'OK', 'count': 104}, {'id'...   \n",
       "547       1256864400  [{'id': 9, 'name': 'Ingenious', 'count': 43}, ...   \n",
       "454       1242982440  [{'id': 7, 'name': 'Funny', 'count': 30}, {'id...   \n",
       "264       1216666500  [{'id': 1, 'name': 'Beautiful', 'count': 81}, ...   \n",
       "606       1264755240  [{'id': 7, 'name': 'Funny', 'count': 924}, {'i...   \n",
       "86        1175819400  [{'id': 9, 'name': 'Ingenious', 'count': 45}, ...   \n",
       "1390      1354291786  [{'id': 25, 'name': 'OK', 'count': 328}, {'id'...   \n",
       "593       1263373860  [{'id': 10, 'name': 'Inspiring', 'count': 76},...   \n",
       "722       1278063240  [{'id': 23, 'name': 'Jaw-dropping', 'count': 1...   \n",
       "\n",
       "                                          related_talks  \\\n",
       "239   [{'id': 161, 'hero': 'https://pe.tedcdn.com/im...   \n",
       "248   [{'id': 325, 'hero': 'https://pe.tedcdn.com/im...   \n",
       "547   [{'id': 478, 'hero': 'https://pe.tedcdn.com/im...   \n",
       "454   [{'id': 266, 'hero': 'https://pe.tedcdn.com/im...   \n",
       "264   [{'id': 127, 'hero': 'https://pe.tedcdn.com/im...   \n",
       "606   [{'id': 485, 'hero': 'https://pe.tedcdn.com/im...   \n",
       "86    [{'id': 222, 'hero': 'https://pe.tedcdn.com/im...   \n",
       "1390  [{'id': 1265, 'hero': 'https://pe.tedcdn.com/i...   \n",
       "593   [{'id': 58, 'hero': 'https://pe.tedcdn.com/ima...   \n",
       "722   [{'id': 667, 'hero': 'https://pe.tedcdn.com/im...   \n",
       "\n",
       "                  speaker_occupation  \\\n",
       "239                        Physicist   \n",
       "248                Singer/songwriter   \n",
       "547                   Brass virtuoso   \n",
       "454                         Designer   \n",
       "264   Craft artist, product designer   \n",
       "606                     Entrepreneur   \n",
       "86                 Singer/songwriter   \n",
       "1390                        Designer   \n",
       "593                         Engineer   \n",
       "722              Architect, designer   \n",
       "\n",
       "                                                   tags  \\\n",
       "239   ['culture', 'global issues', 'history', 'langu...   \n",
       "248   ['culture', 'entertainment', 'genetics', 'live...   \n",
       "547   ['creativity', 'live music', 'music', 'perform...   \n",
       "454   ['cars', 'design', 'engineering', 'green', 'tr...   \n",
       "264             ['Africa', 'art', 'business', 'design']   \n",
       "606                   ['business', 'creativity', 'map']   \n",
       "86    ['climate change', 'environment', 'guitar', 'm...   \n",
       "1390  ['culture', 'design', 'humor', 'product design...   \n",
       "593   ['cities', 'collaboration', 'design', 'map', '...   \n",
       "722   ['TED Fellows', 'architecture', 'design', 'env...   \n",
       "\n",
       "                                                  title  \\\n",
       "239                            The ancestor of language   \n",
       "248                                            \"Clonie\"   \n",
       "547                                The modern euphonium   \n",
       "454                    A supercharged motorcycle design   \n",
       "264                         The wonder of Zulu wire art   \n",
       "606                           Weird, or just different?   \n",
       "86    Global warming's theme song, \"Manhattan in Jan...   \n",
       "1390               Forget multitasking, try monotasking   \n",
       "593      Making maps to fight disaster, build economies   \n",
       "722                     Don't build your home, grow it!   \n",
       "\n",
       "                                                    url    views  \n",
       "239   https://www.ted.com/talks/murray_gell_mann_on_...   785293  \n",
       "248   https://www.ted.com/talks/nellie_mckay_sings_c...   680591  \n",
       "547   https://www.ted.com/talks/matthew_white_gives_...   771962  \n",
       "454   https://www.ted.com/talks/yves_behar_s_superch...   556657  \n",
       "264   https://www.ted.com/talks/marisa_fick_jordan_s...   294961  \n",
       "606   https://www.ted.com/talks/derek_sivers_weird_o...  2835976  \n",
       "86    https://www.ted.com/talks/jill_sobule_sings_to...   591379  \n",
       "1390  https://www.ted.com/talks/paolo_cardini_forget...  2324212  \n",
       "593   https://www.ted.com/talks/lalitesh_katragadda_...   359942  \n",
       "722   https://www.ted.com/talks/mitchell_joachim_don...  1332785  "
      ]
     },
     "execution_count": 50,
     "metadata": {},
     "output_type": "execute_result"
    }
   ],
   "source": [
    "ted.sort_values('duration').head(10) #sorting values "
   ]
  },
  {
   "cell_type": "code",
   "execution_count": 57,
   "metadata": {},
   "outputs": [
    {
     "data": {
      "text/html": [
       "<div>\n",
       "<style scoped>\n",
       "    .dataframe tbody tr th:only-of-type {\n",
       "        vertical-align: middle;\n",
       "    }\n",
       "\n",
       "    .dataframe tbody tr th {\n",
       "        vertical-align: top;\n",
       "    }\n",
       "\n",
       "    .dataframe thead th {\n",
       "        text-align: right;\n",
       "    }\n",
       "</style>\n",
       "<table border=\"1\" class=\"dataframe\">\n",
       "  <thead>\n",
       "    <tr style=\"text-align: right;\">\n",
       "      <th></th>\n",
       "      <th>comments</th>\n",
       "      <th>description</th>\n",
       "      <th>duration</th>\n",
       "      <th>event</th>\n",
       "      <th>film_date</th>\n",
       "      <th>languages</th>\n",
       "      <th>main_speaker</th>\n",
       "      <th>name</th>\n",
       "      <th>num_speaker</th>\n",
       "      <th>published_date</th>\n",
       "      <th>ratings</th>\n",
       "      <th>related_talks</th>\n",
       "      <th>speaker_occupation</th>\n",
       "      <th>tags</th>\n",
       "      <th>title</th>\n",
       "      <th>url</th>\n",
       "      <th>views</th>\n",
       "    </tr>\n",
       "  </thead>\n",
       "  <tbody>\n",
       "    <tr>\n",
       "      <th>202</th>\n",
       "      <td>9</td>\n",
       "      <td>Before he was a legend, architect Frank Gehry ...</td>\n",
       "      <td>2678</td>\n",
       "      <td>TED1990</td>\n",
       "      <td>636422400</td>\n",
       "      <td>19</td>\n",
       "      <td>Frank Gehry</td>\n",
       "      <td>Frank Gehry: My days as a young rebel</td>\n",
       "      <td>1</td>\n",
       "      <td>1205372280</td>\n",
       "      <td>[{'id': 11, 'name': 'Longwinded', 'count': 76}...</td>\n",
       "      <td>[{'id': 13, 'hero': 'https://pe.tedcdn.com/ima...</td>\n",
       "      <td>Architect</td>\n",
       "      <td>['architecture', 'collaboration', 'design', 'g...</td>\n",
       "      <td>My days as a young rebel</td>\n",
       "      <td>https://www.ted.com/talks/frank_gehry_as_a_you...</td>\n",
       "      <td>620806</td>\n",
       "    </tr>\n",
       "    <tr>\n",
       "      <th>947</th>\n",
       "      <td>121</td>\n",
       "      <td>How does one find authentic creativity? In his...</td>\n",
       "      <td>2761</td>\n",
       "      <td>Handheld Learning</td>\n",
       "      <td>1254787200</td>\n",
       "      <td>0</td>\n",
       "      <td>Malcolm McLaren</td>\n",
       "      <td>Malcolm McLaren: Authentic creativity vs. kara...</td>\n",
       "      <td>1</td>\n",
       "      <td>1306774260</td>\n",
       "      <td>[{'id': 7, 'name': 'Funny', 'count': 43}, {'id...</td>\n",
       "      <td>[{'id': 32, 'hero': 'https://pe.tedcdn.com/ima...</td>\n",
       "      <td>Provocateur</td>\n",
       "      <td>['creativity', 'culture', 'entertainment']</td>\n",
       "      <td>Authentic creativity vs. karaoke culture</td>\n",
       "      <td>https://www.ted.com/talks/malcolm_mclaren_auth...</td>\n",
       "      <td>251313</td>\n",
       "    </tr>\n",
       "    <tr>\n",
       "      <th>2421</th>\n",
       "      <td>42</td>\n",
       "      <td>How can we bridge the gap between left and rig...</td>\n",
       "      <td>2853</td>\n",
       "      <td>TED Dialogues</td>\n",
       "      <td>1488326400</td>\n",
       "      <td>5</td>\n",
       "      <td>Gretchen Carlson, David Brooks</td>\n",
       "      <td>Gretchen Carlson, David Brooks: Political comm...</td>\n",
       "      <td>4</td>\n",
       "      <td>1491256255</td>\n",
       "      <td>[{'id': 3, 'name': 'Courageous', 'count': 19},...</td>\n",
       "      <td>[{'id': 2695, 'hero': 'https://pe.tedcdn.com/i...</td>\n",
       "      <td>TV journalist, women's empowerment advocate</td>\n",
       "      <td>['United States', 'collaboration', 'communicat...</td>\n",
       "      <td>Political common ground in a polarized United ...</td>\n",
       "      <td>https://www.ted.com/talks/gretchen_carlson_dav...</td>\n",
       "      <td>890478</td>\n",
       "    </tr>\n",
       "    <tr>\n",
       "      <th>580</th>\n",
       "      <td>307</td>\n",
       "      <td>Is torture ever justified? Would you steal a d...</td>\n",
       "      <td>3296</td>\n",
       "      <td>Justice with Michael Sandel</td>\n",
       "      <td>1125532800</td>\n",
       "      <td>0</td>\n",
       "      <td>Michael Sandel</td>\n",
       "      <td>Michael Sandel: What's the right thing to do?</td>\n",
       "      <td>1</td>\n",
       "      <td>1261572360</td>\n",
       "      <td>[{'id': 24, 'name': 'Persuasive', 'count': 132...</td>\n",
       "      <td>[{'id': 187, 'hero': 'https://pe.tedcdn.com/im...</td>\n",
       "      <td>Political philosopher</td>\n",
       "      <td>['government', 'law', 'philosophy', 'politics']</td>\n",
       "      <td>What's the right thing to do?</td>\n",
       "      <td>https://www.ted.com/talks/michael_sandel_what_...</td>\n",
       "      <td>393459</td>\n",
       "    </tr>\n",
       "    <tr>\n",
       "      <th>600</th>\n",
       "      <td>133</td>\n",
       "      <td>At the Royal Institution in 1991, Richard Dawk...</td>\n",
       "      <td>3475</td>\n",
       "      <td>Royal Institution</td>\n",
       "      <td>693238260</td>\n",
       "      <td>0</td>\n",
       "      <td>Richard Dawkins</td>\n",
       "      <td>Richard Dawkins: Growing up in the universe</td>\n",
       "      <td>1</td>\n",
       "      <td>1264252200</td>\n",
       "      <td>[{'id': 22, 'name': 'Fascinating', 'count': 15...</td>\n",
       "      <td>[{'id': 98, 'hero': 'https://pe.tedcdn.com/ima...</td>\n",
       "      <td>Evolutionary biologist</td>\n",
       "      <td>['biology', 'evolution', 'life', 'science', 'u...</td>\n",
       "      <td>Growing up in the universe</td>\n",
       "      <td>https://www.ted.com/talks/richard_dawkins_grow...</td>\n",
       "      <td>318423</td>\n",
       "    </tr>\n",
       "    <tr>\n",
       "      <th>594</th>\n",
       "      <td>20</td>\n",
       "      <td>In the midst of an earlier crisis, Haitian aut...</td>\n",
       "      <td>3573</td>\n",
       "      <td>University of California</td>\n",
       "      <td>1097625600</td>\n",
       "      <td>0</td>\n",
       "      <td>Edwidge Danticat</td>\n",
       "      <td>Edwidge Danticat: Stories of Haiti</td>\n",
       "      <td>1</td>\n",
       "      <td>1263481440</td>\n",
       "      <td>[{'id': 1, 'name': 'Beautiful', 'count': 25}, ...</td>\n",
       "      <td>[{'id': 652, 'hero': 'https://pe.tedcdn.com/im...</td>\n",
       "      <td>Author</td>\n",
       "      <td>['books', 'disaster relief', 'novel', 'poetry'...</td>\n",
       "      <td>Stories of Haiti</td>\n",
       "      <td>https://www.ted.com/talks/edwidge_danticat_sto...</td>\n",
       "      <td>50443</td>\n",
       "    </tr>\n",
       "    <tr>\n",
       "      <th>2387</th>\n",
       "      <td>345</td>\n",
       "      <td>How do we make sense of today's political divi...</td>\n",
       "      <td>3608</td>\n",
       "      <td>TED Dialogues</td>\n",
       "      <td>1487116800</td>\n",
       "      <td>19</td>\n",
       "      <td>Yuval Noah Harari</td>\n",
       "      <td>Yuval Noah Harari: Nationalism vs. globalism: ...</td>\n",
       "      <td>2</td>\n",
       "      <td>1487604924</td>\n",
       "      <td>[{'id': 8, 'name': 'Informative', 'count': 583...</td>\n",
       "      <td>[{'id': 2625, 'hero': 'https://pe.tedcdn.com/i...</td>\n",
       "      <td>Historian</td>\n",
       "      <td>['big problems', 'climate change', 'collaborat...</td>\n",
       "      <td>Nationalism vs. globalism: the new political d...</td>\n",
       "      <td>https://www.ted.com/talks/yuval_noah_harari_na...</td>\n",
       "      <td>1514291</td>\n",
       "    </tr>\n",
       "    <tr>\n",
       "      <th>629</th>\n",
       "      <td>146</td>\n",
       "      <td>In this archival footage from BBC TV, celebrat...</td>\n",
       "      <td>3955</td>\n",
       "      <td>BBC TV</td>\n",
       "      <td>426531600</td>\n",
       "      <td>0</td>\n",
       "      <td>Richard Feynman</td>\n",
       "      <td>Richard Feynman: Physics is fun to imagine</td>\n",
       "      <td>1</td>\n",
       "      <td>1267631820</td>\n",
       "      <td>[{'id': 8, 'name': 'Informative', 'count': 324...</td>\n",
       "      <td>[{'id': 194, 'hero': 'https://pe.tedcdn.com/im...</td>\n",
       "      <td>Physicist</td>\n",
       "      <td>['astronomy', 'physics', 'science']</td>\n",
       "      <td>Physics is fun to imagine</td>\n",
       "      <td>https://www.ted.com/talks/richard_feynman</td>\n",
       "      <td>521974</td>\n",
       "    </tr>\n",
       "    <tr>\n",
       "      <th>588</th>\n",
       "      <td>124</td>\n",
       "      <td>In 2007, Carnegie Mellon professor Randy Pausc...</td>\n",
       "      <td>4587</td>\n",
       "      <td>Carnegie Mellon University</td>\n",
       "      <td>1190073600</td>\n",
       "      <td>0</td>\n",
       "      <td>Randy Pausch</td>\n",
       "      <td>Randy Pausch: Really achieving your childhood ...</td>\n",
       "      <td>1</td>\n",
       "      <td>1262950320</td>\n",
       "      <td>[{'id': 3, 'name': 'Courageous', 'count': 299}...</td>\n",
       "      <td>[{'id': 229, 'hero': 'https://pe.tedcdn.com/im...</td>\n",
       "      <td>Professor</td>\n",
       "      <td>['culture', 'disease', 'education', 'life', 's...</td>\n",
       "      <td>Really achieving your childhood dreams</td>\n",
       "      <td>https://www.ted.com/talks/randy_pausch_really_...</td>\n",
       "      <td>564781</td>\n",
       "    </tr>\n",
       "    <tr>\n",
       "      <th>640</th>\n",
       "      <td>101</td>\n",
       "      <td>Blind river dolphins, reclusive lemurs, a parr...</td>\n",
       "      <td>5256</td>\n",
       "      <td>University of California</td>\n",
       "      <td>989971200</td>\n",
       "      <td>0</td>\n",
       "      <td>Douglas Adams</td>\n",
       "      <td>Douglas Adams: Parrots, the universe and every...</td>\n",
       "      <td>1</td>\n",
       "      <td>1268762040</td>\n",
       "      <td>[{'id': 22, 'name': 'Fascinating', 'count': 29...</td>\n",
       "      <td>[{'id': 635, 'hero': 'https://pe.tedcdn.com/im...</td>\n",
       "      <td>Author, satirist</td>\n",
       "      <td>['biodiversity', 'biology', 'comedy', 'humor',...</td>\n",
       "      <td>Parrots, the universe and everything</td>\n",
       "      <td>https://www.ted.com/talks/douglas_adams_parrot...</td>\n",
       "      <td>473220</td>\n",
       "    </tr>\n",
       "  </tbody>\n",
       "</table>\n",
       "</div>"
      ],
      "text/plain": [
       "      comments                                        description  duration  \\\n",
       "202          9  Before he was a legend, architect Frank Gehry ...      2678   \n",
       "947        121  How does one find authentic creativity? In his...      2761   \n",
       "2421        42  How can we bridge the gap between left and rig...      2853   \n",
       "580        307  Is torture ever justified? Would you steal a d...      3296   \n",
       "600        133  At the Royal Institution in 1991, Richard Dawk...      3475   \n",
       "594         20  In the midst of an earlier crisis, Haitian aut...      3573   \n",
       "2387       345  How do we make sense of today's political divi...      3608   \n",
       "629        146  In this archival footage from BBC TV, celebrat...      3955   \n",
       "588        124  In 2007, Carnegie Mellon professor Randy Pausc...      4587   \n",
       "640        101  Blind river dolphins, reclusive lemurs, a parr...      5256   \n",
       "\n",
       "                            event   film_date  languages  \\\n",
       "202                       TED1990   636422400         19   \n",
       "947             Handheld Learning  1254787200          0   \n",
       "2421                TED Dialogues  1488326400          5   \n",
       "580   Justice with Michael Sandel  1125532800          0   \n",
       "600             Royal Institution   693238260          0   \n",
       "594      University of California  1097625600          0   \n",
       "2387                TED Dialogues  1487116800         19   \n",
       "629                        BBC TV   426531600          0   \n",
       "588    Carnegie Mellon University  1190073600          0   \n",
       "640      University of California   989971200          0   \n",
       "\n",
       "                        main_speaker  \\\n",
       "202                      Frank Gehry   \n",
       "947                  Malcolm McLaren   \n",
       "2421  Gretchen Carlson, David Brooks   \n",
       "580                   Michael Sandel   \n",
       "600                  Richard Dawkins   \n",
       "594                 Edwidge Danticat   \n",
       "2387               Yuval Noah Harari   \n",
       "629                  Richard Feynman   \n",
       "588                     Randy Pausch   \n",
       "640                    Douglas Adams   \n",
       "\n",
       "                                                   name  num_speaker  \\\n",
       "202               Frank Gehry: My days as a young rebel            1   \n",
       "947   Malcolm McLaren: Authentic creativity vs. kara...            1   \n",
       "2421  Gretchen Carlson, David Brooks: Political comm...            4   \n",
       "580       Michael Sandel: What's the right thing to do?            1   \n",
       "600         Richard Dawkins: Growing up in the universe            1   \n",
       "594                  Edwidge Danticat: Stories of Haiti            1   \n",
       "2387  Yuval Noah Harari: Nationalism vs. globalism: ...            2   \n",
       "629          Richard Feynman: Physics is fun to imagine            1   \n",
       "588   Randy Pausch: Really achieving your childhood ...            1   \n",
       "640   Douglas Adams: Parrots, the universe and every...            1   \n",
       "\n",
       "      published_date                                            ratings  \\\n",
       "202       1205372280  [{'id': 11, 'name': 'Longwinded', 'count': 76}...   \n",
       "947       1306774260  [{'id': 7, 'name': 'Funny', 'count': 43}, {'id...   \n",
       "2421      1491256255  [{'id': 3, 'name': 'Courageous', 'count': 19},...   \n",
       "580       1261572360  [{'id': 24, 'name': 'Persuasive', 'count': 132...   \n",
       "600       1264252200  [{'id': 22, 'name': 'Fascinating', 'count': 15...   \n",
       "594       1263481440  [{'id': 1, 'name': 'Beautiful', 'count': 25}, ...   \n",
       "2387      1487604924  [{'id': 8, 'name': 'Informative', 'count': 583...   \n",
       "629       1267631820  [{'id': 8, 'name': 'Informative', 'count': 324...   \n",
       "588       1262950320  [{'id': 3, 'name': 'Courageous', 'count': 299}...   \n",
       "640       1268762040  [{'id': 22, 'name': 'Fascinating', 'count': 29...   \n",
       "\n",
       "                                          related_talks  \\\n",
       "202   [{'id': 13, 'hero': 'https://pe.tedcdn.com/ima...   \n",
       "947   [{'id': 32, 'hero': 'https://pe.tedcdn.com/ima...   \n",
       "2421  [{'id': 2695, 'hero': 'https://pe.tedcdn.com/i...   \n",
       "580   [{'id': 187, 'hero': 'https://pe.tedcdn.com/im...   \n",
       "600   [{'id': 98, 'hero': 'https://pe.tedcdn.com/ima...   \n",
       "594   [{'id': 652, 'hero': 'https://pe.tedcdn.com/im...   \n",
       "2387  [{'id': 2625, 'hero': 'https://pe.tedcdn.com/i...   \n",
       "629   [{'id': 194, 'hero': 'https://pe.tedcdn.com/im...   \n",
       "588   [{'id': 229, 'hero': 'https://pe.tedcdn.com/im...   \n",
       "640   [{'id': 635, 'hero': 'https://pe.tedcdn.com/im...   \n",
       "\n",
       "                               speaker_occupation  \\\n",
       "202                                     Architect   \n",
       "947                                   Provocateur   \n",
       "2421  TV journalist, women's empowerment advocate   \n",
       "580                         Political philosopher   \n",
       "600                        Evolutionary biologist   \n",
       "594                                        Author   \n",
       "2387                                    Historian   \n",
       "629                                     Physicist   \n",
       "588                                     Professor   \n",
       "640                              Author, satirist   \n",
       "\n",
       "                                                   tags  \\\n",
       "202   ['architecture', 'collaboration', 'design', 'g...   \n",
       "947          ['creativity', 'culture', 'entertainment']   \n",
       "2421  ['United States', 'collaboration', 'communicat...   \n",
       "580     ['government', 'law', 'philosophy', 'politics']   \n",
       "600   ['biology', 'evolution', 'life', 'science', 'u...   \n",
       "594   ['books', 'disaster relief', 'novel', 'poetry'...   \n",
       "2387  ['big problems', 'climate change', 'collaborat...   \n",
       "629                 ['astronomy', 'physics', 'science']   \n",
       "588   ['culture', 'disease', 'education', 'life', 's...   \n",
       "640   ['biodiversity', 'biology', 'comedy', 'humor',...   \n",
       "\n",
       "                                                  title  \\\n",
       "202                            My days as a young rebel   \n",
       "947            Authentic creativity vs. karaoke culture   \n",
       "2421  Political common ground in a polarized United ...   \n",
       "580                       What's the right thing to do?   \n",
       "600                          Growing up in the universe   \n",
       "594                                    Stories of Haiti   \n",
       "2387  Nationalism vs. globalism: the new political d...   \n",
       "629                           Physics is fun to imagine   \n",
       "588              Really achieving your childhood dreams   \n",
       "640                Parrots, the universe and everything   \n",
       "\n",
       "                                                    url    views  \n",
       "202   https://www.ted.com/talks/frank_gehry_as_a_you...   620806  \n",
       "947   https://www.ted.com/talks/malcolm_mclaren_auth...   251313  \n",
       "2421  https://www.ted.com/talks/gretchen_carlson_dav...   890478  \n",
       "580   https://www.ted.com/talks/michael_sandel_what_...   393459  \n",
       "600   https://www.ted.com/talks/richard_dawkins_grow...   318423  \n",
       "594   https://www.ted.com/talks/edwidge_danticat_sto...    50443  \n",
       "2387  https://www.ted.com/talks/yuval_noah_harari_na...  1514291  \n",
       "629           https://www.ted.com/talks/richard_feynman   521974  \n",
       "588   https://www.ted.com/talks/randy_pausch_really_...   564781  \n",
       "640   https://www.ted.com/talks/douglas_adams_parrot...   473220  "
      ]
     },
     "execution_count": 57,
     "metadata": {},
     "output_type": "execute_result"
    }
   ],
   "source": [
    "ted.sort_values('duration').tail(10) "
   ]
  },
  {
   "cell_type": "code",
   "execution_count": null,
   "metadata": {},
   "outputs": [],
   "source": []
  },
  {
   "cell_type": "code",
   "execution_count": null,
   "metadata": {},
   "outputs": [],
   "source": []
  },
  {
   "cell_type": "markdown",
   "metadata": {},
   "source": [
    "#### 2.2.3\n",
    "What is the 10th longest talk?"
   ]
  },
  {
   "cell_type": "markdown",
   "metadata": {},
   "source": [
    "#### Blind river (parrots of the universe) with a duration of 5256"
   ]
  },
  {
   "cell_type": "code",
   "execution_count": 70,
   "metadata": {},
   "outputs": [
    {
     "data": {
      "text/plain": [
       "5256"
      ]
     },
     "execution_count": 70,
     "metadata": {},
     "output_type": "execute_result"
    }
   ],
   "source": [
    "ted.duration.max()#longest"
   ]
  },
  {
   "cell_type": "markdown",
   "metadata": {},
   "source": [
    "#### 2.2.4\n",
    "What unit of time is the duration in? How do you know?"
   ]
  },
  {
   "cell_type": "code",
   "execution_count": null,
   "metadata": {},
   "outputs": [],
   "source": [
    "# 3600 + 1620 + 37 = 5256\n",
    "#is 1hr and 27 min and 37 s\n",
    "#seconds\n",
    "#not sure how to change the units of time and duration in the data chart itself"
   ]
  },
  {
   "cell_type": "code",
   "execution_count": 90,
   "metadata": {},
   "outputs": [
    {
     "data": {
      "text/html": [
       "<div>\n",
       "<style scoped>\n",
       "    .dataframe tbody tr th:only-of-type {\n",
       "        vertical-align: middle;\n",
       "    }\n",
       "\n",
       "    .dataframe tbody tr th {\n",
       "        vertical-align: top;\n",
       "    }\n",
       "\n",
       "    .dataframe thead th {\n",
       "        text-align: right;\n",
       "    }\n",
       "</style>\n",
       "<table border=\"1\" class=\"dataframe\">\n",
       "  <thead>\n",
       "    <tr style=\"text-align: right;\">\n",
       "      <th></th>\n",
       "      <th>comments</th>\n",
       "      <th>description</th>\n",
       "      <th>duration</th>\n",
       "      <th>event</th>\n",
       "      <th>film_date</th>\n",
       "      <th>languages</th>\n",
       "      <th>main_speaker</th>\n",
       "      <th>name</th>\n",
       "      <th>num_speaker</th>\n",
       "      <th>published_date</th>\n",
       "      <th>ratings</th>\n",
       "      <th>related_talks</th>\n",
       "      <th>speaker_occupation</th>\n",
       "      <th>tags</th>\n",
       "      <th>title</th>\n",
       "      <th>url</th>\n",
       "      <th>views</th>\n",
       "      <th>duration_time</th>\n",
       "      <th>film_datetime</th>\n",
       "    </tr>\n",
       "  </thead>\n",
       "  <tbody>\n",
       "    <tr>\n",
       "      <th>2545</th>\n",
       "      <td>17</td>\n",
       "      <td>Between 2008 and 2016, the United States depor...</td>\n",
       "      <td>476</td>\n",
       "      <td>TED2017</td>\n",
       "      <td>2017-06-06</td>\n",
       "      <td>4</td>\n",
       "      <td>Duarte Geraldino</td>\n",
       "      <td>Duarte Geraldino: What we're missing in the de...</td>\n",
       "      <td>1</td>\n",
       "      <td>2017-09-19 20:00:16</td>\n",
       "      <td>[{'id': 3, 'name': 'Courageous', 'count': 24},...</td>\n",
       "      <td>[{'id': 2596, 'hero': 'https://pe.tedcdn.com/i...</td>\n",
       "      <td>Journalist</td>\n",
       "      <td>['TED Residency', 'United States', 'community'...</td>\n",
       "      <td>What we're missing in the debate about immigra...</td>\n",
       "      <td>https://www.ted.com/talks/duarte_geraldino_wha...</td>\n",
       "      <td>450430</td>\n",
       "      <td>1970-01-01 00:07:56</td>\n",
       "      <td>2017-06-06</td>\n",
       "    </tr>\n",
       "    <tr>\n",
       "      <th>2546</th>\n",
       "      <td>6</td>\n",
       "      <td>How can you study Mars without a spaceship? He...</td>\n",
       "      <td>290</td>\n",
       "      <td>TED2017</td>\n",
       "      <td>2017-04-24</td>\n",
       "      <td>3</td>\n",
       "      <td>Armando Azua-Bustos</td>\n",
       "      <td>Armando Azua-Bustos: The most Martian place on...</td>\n",
       "      <td>1</td>\n",
       "      <td>2017-09-20 15:02:17</td>\n",
       "      <td>[{'id': 22, 'name': 'Fascinating', 'count': 32...</td>\n",
       "      <td>[{'id': 2491, 'hero': 'https://pe.tedcdn.com/i...</td>\n",
       "      <td>Astrobiologist</td>\n",
       "      <td>['Mars', 'South America', 'TED Fellows', 'astr...</td>\n",
       "      <td>The most Martian place on Earth</td>\n",
       "      <td>https://www.ted.com/talks/armando_azua_bustos_...</td>\n",
       "      <td>417470</td>\n",
       "      <td>1970-01-01 00:04:50</td>\n",
       "      <td>2017-04-24</td>\n",
       "    </tr>\n",
       "    <tr>\n",
       "      <th>2547</th>\n",
       "      <td>10</td>\n",
       "      <td>Science fiction visions of the future show us ...</td>\n",
       "      <td>651</td>\n",
       "      <td>TED2017</td>\n",
       "      <td>2017-04-24</td>\n",
       "      <td>1</td>\n",
       "      <td>Radhika Nagpal</td>\n",
       "      <td>Radhika Nagpal: What intelligent machines can ...</td>\n",
       "      <td>1</td>\n",
       "      <td>2017-09-21 15:01:35</td>\n",
       "      <td>[{'id': 1, 'name': 'Beautiful', 'count': 14}, ...</td>\n",
       "      <td>[{'id': 2346, 'hero': 'https://pe.tedcdn.com/i...</td>\n",
       "      <td>Robotics engineer</td>\n",
       "      <td>['AI', 'ants', 'fish', 'future', 'innovation',...</td>\n",
       "      <td>What intelligent machines can learn from a sch...</td>\n",
       "      <td>https://www.ted.com/talks/radhika_nagpal_what_...</td>\n",
       "      <td>375647</td>\n",
       "      <td>1970-01-01 00:10:51</td>\n",
       "      <td>2017-04-24</td>\n",
       "    </tr>\n",
       "    <tr>\n",
       "      <th>2548</th>\n",
       "      <td>32</td>\n",
       "      <td>In an unmissable talk about race and politics ...</td>\n",
       "      <td>1100</td>\n",
       "      <td>TEDxMileHigh</td>\n",
       "      <td>2017-07-08</td>\n",
       "      <td>1</td>\n",
       "      <td>Theo E.J. Wilson</td>\n",
       "      <td>Theo E.J. Wilson: A black man goes undercover ...</td>\n",
       "      <td>1</td>\n",
       "      <td>2017-09-21 20:00:42</td>\n",
       "      <td>[{'id': 11, 'name': 'Longwinded', 'count': 3},...</td>\n",
       "      <td>[{'id': 2512, 'hero': 'https://pe.tedcdn.com/i...</td>\n",
       "      <td>Public intellectual</td>\n",
       "      <td>['Internet', 'TEDx', 'United States', 'communi...</td>\n",
       "      <td>A black man goes undercover in the alt-right</td>\n",
       "      <td>https://www.ted.com/talks/theo_e_j_wilson_a_bl...</td>\n",
       "      <td>419309</td>\n",
       "      <td>1970-01-01 00:18:20</td>\n",
       "      <td>2017-07-08</td>\n",
       "    </tr>\n",
       "    <tr>\n",
       "      <th>2549</th>\n",
       "      <td>8</td>\n",
       "      <td>With more than half of the world population li...</td>\n",
       "      <td>519</td>\n",
       "      <td>TED2017</td>\n",
       "      <td>2017-04-24</td>\n",
       "      <td>1</td>\n",
       "      <td>Karoliina Korppoo</td>\n",
       "      <td>Karoliina Korppoo: How a video game might help...</td>\n",
       "      <td>1</td>\n",
       "      <td>2017-09-22 15:00:22</td>\n",
       "      <td>[{'id': 21, 'name': 'Unconvincing', 'count': 2...</td>\n",
       "      <td>[{'id': 2682, 'hero': 'https://pe.tedcdn.com/i...</td>\n",
       "      <td>Game designer</td>\n",
       "      <td>['cities', 'design', 'future', 'infrastructure...</td>\n",
       "      <td>How a video game might help us build better ci...</td>\n",
       "      <td>https://www.ted.com/talks/karoliina_korppoo_ho...</td>\n",
       "      <td>391721</td>\n",
       "      <td>1970-01-01 00:08:39</td>\n",
       "      <td>2017-04-24</td>\n",
       "    </tr>\n",
       "  </tbody>\n",
       "</table>\n",
       "</div>"
      ],
      "text/plain": [
       "      comments                                        description  duration  \\\n",
       "2545        17  Between 2008 and 2016, the United States depor...       476   \n",
       "2546         6  How can you study Mars without a spaceship? He...       290   \n",
       "2547        10  Science fiction visions of the future show us ...       651   \n",
       "2548        32  In an unmissable talk about race and politics ...      1100   \n",
       "2549         8  With more than half of the world population li...       519   \n",
       "\n",
       "             event  film_date  languages         main_speaker  \\\n",
       "2545       TED2017 2017-06-06          4     Duarte Geraldino   \n",
       "2546       TED2017 2017-04-24          3  Armando Azua-Bustos   \n",
       "2547       TED2017 2017-04-24          1       Radhika Nagpal   \n",
       "2548  TEDxMileHigh 2017-07-08          1     Theo E.J. Wilson   \n",
       "2549       TED2017 2017-04-24          1    Karoliina Korppoo   \n",
       "\n",
       "                                                   name  num_speaker  \\\n",
       "2545  Duarte Geraldino: What we're missing in the de...            1   \n",
       "2546  Armando Azua-Bustos: The most Martian place on...            1   \n",
       "2547  Radhika Nagpal: What intelligent machines can ...            1   \n",
       "2548  Theo E.J. Wilson: A black man goes undercover ...            1   \n",
       "2549  Karoliina Korppoo: How a video game might help...            1   \n",
       "\n",
       "          published_date                                            ratings  \\\n",
       "2545 2017-09-19 20:00:16  [{'id': 3, 'name': 'Courageous', 'count': 24},...   \n",
       "2546 2017-09-20 15:02:17  [{'id': 22, 'name': 'Fascinating', 'count': 32...   \n",
       "2547 2017-09-21 15:01:35  [{'id': 1, 'name': 'Beautiful', 'count': 14}, ...   \n",
       "2548 2017-09-21 20:00:42  [{'id': 11, 'name': 'Longwinded', 'count': 3},...   \n",
       "2549 2017-09-22 15:00:22  [{'id': 21, 'name': 'Unconvincing', 'count': 2...   \n",
       "\n",
       "                                          related_talks   speaker_occupation  \\\n",
       "2545  [{'id': 2596, 'hero': 'https://pe.tedcdn.com/i...           Journalist   \n",
       "2546  [{'id': 2491, 'hero': 'https://pe.tedcdn.com/i...       Astrobiologist   \n",
       "2547  [{'id': 2346, 'hero': 'https://pe.tedcdn.com/i...    Robotics engineer   \n",
       "2548  [{'id': 2512, 'hero': 'https://pe.tedcdn.com/i...  Public intellectual   \n",
       "2549  [{'id': 2682, 'hero': 'https://pe.tedcdn.com/i...        Game designer   \n",
       "\n",
       "                                                   tags  \\\n",
       "2545  ['TED Residency', 'United States', 'community'...   \n",
       "2546  ['Mars', 'South America', 'TED Fellows', 'astr...   \n",
       "2547  ['AI', 'ants', 'fish', 'future', 'innovation',...   \n",
       "2548  ['Internet', 'TEDx', 'United States', 'communi...   \n",
       "2549  ['cities', 'design', 'future', 'infrastructure...   \n",
       "\n",
       "                                                  title  \\\n",
       "2545  What we're missing in the debate about immigra...   \n",
       "2546                    The most Martian place on Earth   \n",
       "2547  What intelligent machines can learn from a sch...   \n",
       "2548       A black man goes undercover in the alt-right   \n",
       "2549  How a video game might help us build better ci...   \n",
       "\n",
       "                                                    url   views  \\\n",
       "2545  https://www.ted.com/talks/duarte_geraldino_wha...  450430   \n",
       "2546  https://www.ted.com/talks/armando_azua_bustos_...  417470   \n",
       "2547  https://www.ted.com/talks/radhika_nagpal_what_...  375647   \n",
       "2548  https://www.ted.com/talks/theo_e_j_wilson_a_bl...  419309   \n",
       "2549  https://www.ted.com/talks/karoliina_korppoo_ho...  391721   \n",
       "\n",
       "           duration_time film_datetime  \n",
       "2545 1970-01-01 00:07:56    2017-06-06  \n",
       "2546 1970-01-01 00:04:50    2017-04-24  \n",
       "2547 1970-01-01 00:10:51    2017-04-24  \n",
       "2548 1970-01-01 00:18:20    2017-07-08  \n",
       "2549 1970-01-01 00:08:39    2017-04-24  "
      ]
     },
     "execution_count": 90,
     "metadata": {},
     "output_type": "execute_result"
    }
   ],
   "source": [
    "dur_time = pd.to_datetime(ted.duration, unit='s')\n",
    "ted['film_date'] = pd.to_datetime(ted.film_date, unit='s')\n",
    "ted['published_date'] = pd.to_datetime(ted.published_date, unit='s')\n",
    "\n",
    "ted.tail()"
   ]
  },
  {
   "cell_type": "markdown",
   "metadata": {},
   "source": [
    "#### 2.2.5\n",
    "Plot the durations as a histogram, using a sensible number of bins. Label your axes. How did you decide how many bins to use?"
   ]
  },
  {
   "cell_type": "code",
   "execution_count": 89,
   "metadata": {},
   "outputs": [
    {
     "data": {
      "text/plain": [
       "Text(0.5, 0, 'Durations')"
      ]
     },
     "execution_count": 89,
     "metadata": {},
     "output_type": "execute_result"
    },
    {
     "data": {
      "image/png": "[encoded data removed]",
      "text/plain": [
       "<Figure size 432x288 with 1 Axes>"
      ]
     },
     "metadata": {
      "needs_background": "light"
     },
     "output_type": "display_data"
    }
   ],
   "source": [
    "ted.duration.plot(kind = 'hist',bins=300)#seems to show all of data without looking to messy, 100 bins seems to be missing detail \n",
    "plt.xlabel('Durations')"
   ]
  },
  {
   "cell_type": "code",
   "execution_count": 68,
   "metadata": {},
   "outputs": [
    {
     "data": {
      "text/plain": [
       "<matplotlib.axes._subplots.AxesSubplot at 0x1eb483f5cc0>"
      ]
     },
     "execution_count": 68,
     "metadata": {},
     "output_type": "execute_result"
    },
    {
     "data": {
      "image/png": "[encoded data removed]",
      "text/plain": [
       "<Figure size 432x288 with 1 Axes>"
      ]
     },
     "metadata": {
      "needs_background": "light"
     },
     "output_type": "display_data"
    }
   ],
   "source": [
    "ted[ted.duration<5256].duration.plot(kind='hist')"
   ]
  },
  {
   "cell_type": "code",
   "execution_count": 66,
   "metadata": {},
   "outputs": [
    {
     "data": {
      "text/plain": [
       "<matplotlib.axes._subplots.AxesSubplot at 0x1eb48318ba8>"
      ]
     },
     "execution_count": 66,
     "metadata": {},
     "output_type": "execute_result"
    },
    {
     "data": {
      "image/png": "[encoded data removed]",
      "text/plain": [
       "<Figure size 432x288 with 1 Axes>"
      ]
     },
     "metadata": {
      "needs_background": "light"
     },
     "output_type": "display_data"
    }
   ],
   "source": [
    "ted[ted.duration<1000].duration.plot(kind='hist') #ploted all durations ahorter than 1000s"
   ]
  },
  {
   "cell_type": "markdown",
   "metadata": {},
   "source": [
    "#### 2.2.6\n",
    "Now plot as a box plot. Explain what the box plot is showing: what is the box, what is the line in the middle, what are the dots?"
   ]
  },
  {
   "cell_type": "code",
   "execution_count": 78,
   "metadata": {},
   "outputs": [
    {
     "data": {
      "text/plain": [
       "<matplotlib.axes._subplots.AxesSubplot at 0x1ef92465ac8>"
      ]
     },
     "execution_count": 78,
     "metadata": {},
     "output_type": "execute_result"
    },
    {
     "data": {
      "image/png": "[encoded data removed]",
      "text/plain": [
       "<Figure size 432x288 with 1 Axes>"
      ]
     },
     "metadata": {
      "needs_background": "light"
     },
     "output_type": "display_data"
    }
   ],
   "source": [
    "ted[ted.duration<1000].duration.plot(kind='box') #shorter than 1000 data"
   ]
  },
  {
   "cell_type": "markdown",
   "metadata": {},
   "source": [
    "Box plots in statistics represent an IQR \"Quartiles\" the line in the box is the median or the 2nd quartile,\n",
    "the top half of the box is the 3rd quartile the middle value between the median and the highest value \n",
    "and the lower half is the 1st quartile the middle number of the smallest number and the median of the dataset.\n",
    "The dots are outliers.\n",
    "The lines extending from the box are the minimu and maximum quartiles, found by adding or subtracting the 1st and 3rd quartiles\n",
    "A normal distibution curve can be drawn from box plots"
   ]
  },
  {
   "cell_type": "markdown",
   "metadata": {},
   "source": [
    "#### 2.2.7\n",
    "Find the median, mean, mode and standard deviation of the durations. Are these consistent with your plots above? Explain."
   ]
  },
  {
   "cell_type": "code",
   "execution_count": 87,
   "metadata": {},
   "outputs": [
    {
     "data": {
      "text/html": [
       "<div>\n",
       "<style scoped>\n",
       "    .dataframe tbody tr th:only-of-type {\n",
       "        vertical-align: middle;\n",
       "    }\n",
       "\n",
       "    .dataframe tbody tr th {\n",
       "        vertical-align: top;\n",
       "    }\n",
       "\n",
       "    .dataframe thead th {\n",
       "        text-align: right;\n",
       "    }\n",
       "</style>\n",
       "<table border=\"1\" class=\"dataframe\">\n",
       "  <thead>\n",
       "    <tr style=\"text-align: right;\">\n",
       "      <th></th>\n",
       "      <th>comments</th>\n",
       "      <th>film_date</th>\n",
       "      <th>languages</th>\n",
       "      <th>num_speaker</th>\n",
       "      <th>published_date</th>\n",
       "      <th>views</th>\n",
       "    </tr>\n",
       "    <tr>\n",
       "      <th>duration</th>\n",
       "      <th></th>\n",
       "      <th></th>\n",
       "      <th></th>\n",
       "      <th></th>\n",
       "      <th></th>\n",
       "      <th></th>\n",
       "    </tr>\n",
       "  </thead>\n",
       "  <tbody>\n",
       "    <tr>\n",
       "      <th>135</th>\n",
       "      <td>76.0</td>\n",
       "      <td>1.172880e+09</td>\n",
       "      <td>61.0</td>\n",
       "      <td>1.0</td>\n",
       "      <td>1.213146e+09</td>\n",
       "      <td>785293.0</td>\n",
       "    </tr>\n",
       "    <tr>\n",
       "      <th>140</th>\n",
       "      <td>42.0</td>\n",
       "      <td>1.204243e+09</td>\n",
       "      <td>39.0</td>\n",
       "      <td>1.0</td>\n",
       "      <td>1.214528e+09</td>\n",
       "      <td>680591.0</td>\n",
       "    </tr>\n",
       "    <tr>\n",
       "      <th>141</th>\n",
       "      <td>46.0</td>\n",
       "      <td>1.248307e+09</td>\n",
       "      <td>0.0</td>\n",
       "      <td>1.0</td>\n",
       "      <td>1.256864e+09</td>\n",
       "      <td>771962.0</td>\n",
       "    </tr>\n",
       "    <tr>\n",
       "      <th>143</th>\n",
       "      <td>62.0</td>\n",
       "      <td>1.233878e+09</td>\n",
       "      <td>45.0</td>\n",
       "      <td>1.0</td>\n",
       "      <td>1.242982e+09</td>\n",
       "      <td>556657.0</td>\n",
       "    </tr>\n",
       "    <tr>\n",
       "      <th>153</th>\n",
       "      <td>15.0</td>\n",
       "      <td>1.181088e+09</td>\n",
       "      <td>43.0</td>\n",
       "      <td>1.0</td>\n",
       "      <td>1.216666e+09</td>\n",
       "      <td>294961.0</td>\n",
       "    </tr>\n",
       "  </tbody>\n",
       "</table>\n",
       "</div>"
      ],
      "text/plain": [
       "          comments     film_date  languages  num_speaker  published_date  \\\n",
       "duration                                                                   \n",
       "135           76.0  1.172880e+09       61.0          1.0    1.213146e+09   \n",
       "140           42.0  1.204243e+09       39.0          1.0    1.214528e+09   \n",
       "141           46.0  1.248307e+09        0.0          1.0    1.256864e+09   \n",
       "143           62.0  1.233878e+09       45.0          1.0    1.242982e+09   \n",
       "153           15.0  1.181088e+09       43.0          1.0    1.216666e+09   \n",
       "\n",
       "             views  \n",
       "duration            \n",
       "135       785293.0  \n",
       "140       680591.0  \n",
       "141       771962.0  \n",
       "143       556657.0  \n",
       "153       294961.0  "
      ]
     },
     "execution_count": 87,
     "metadata": {},
     "output_type": "execute_result"
    }
   ],
   "source": [
    "ted.groupby('duration').mean().head()"
   ]
  },
  {
   "cell_type": "code",
   "execution_count": 75,
   "metadata": {},
   "outputs": [
    {
     "data": {
      "text/html": [
       "<div>\n",
       "<style scoped>\n",
       "    .dataframe tbody tr th:only-of-type {\n",
       "        vertical-align: middle;\n",
       "    }\n",
       "\n",
       "    .dataframe tbody tr th {\n",
       "        vertical-align: top;\n",
       "    }\n",
       "\n",
       "    .dataframe thead th {\n",
       "        text-align: right;\n",
       "    }\n",
       "</style>\n",
       "<table border=\"1\" class=\"dataframe\">\n",
       "  <thead>\n",
       "    <tr style=\"text-align: right;\">\n",
       "      <th></th>\n",
       "      <th>comments</th>\n",
       "      <th>film_date</th>\n",
       "      <th>languages</th>\n",
       "      <th>num_speaker</th>\n",
       "      <th>published_date</th>\n",
       "      <th>views</th>\n",
       "    </tr>\n",
       "    <tr>\n",
       "      <th>duration</th>\n",
       "      <th></th>\n",
       "      <th></th>\n",
       "      <th></th>\n",
       "      <th></th>\n",
       "      <th></th>\n",
       "      <th></th>\n",
       "    </tr>\n",
       "  </thead>\n",
       "  <tbody>\n",
       "    <tr>\n",
       "      <th>135</th>\n",
       "      <td>76.0</td>\n",
       "      <td>1.172880e+09</td>\n",
       "      <td>61.0</td>\n",
       "      <td>1.0</td>\n",
       "      <td>1.213146e+09</td>\n",
       "      <td>785293.0</td>\n",
       "    </tr>\n",
       "    <tr>\n",
       "      <th>140</th>\n",
       "      <td>42.0</td>\n",
       "      <td>1.204243e+09</td>\n",
       "      <td>39.0</td>\n",
       "      <td>1.0</td>\n",
       "      <td>1.214528e+09</td>\n",
       "      <td>680591.0</td>\n",
       "    </tr>\n",
       "    <tr>\n",
       "      <th>141</th>\n",
       "      <td>46.0</td>\n",
       "      <td>1.248307e+09</td>\n",
       "      <td>0.0</td>\n",
       "      <td>1.0</td>\n",
       "      <td>1.256864e+09</td>\n",
       "      <td>771962.0</td>\n",
       "    </tr>\n",
       "    <tr>\n",
       "      <th>143</th>\n",
       "      <td>62.0</td>\n",
       "      <td>1.233878e+09</td>\n",
       "      <td>45.0</td>\n",
       "      <td>1.0</td>\n",
       "      <td>1.242982e+09</td>\n",
       "      <td>556657.0</td>\n",
       "    </tr>\n",
       "    <tr>\n",
       "      <th>153</th>\n",
       "      <td>15.0</td>\n",
       "      <td>1.181088e+09</td>\n",
       "      <td>43.0</td>\n",
       "      <td>1.0</td>\n",
       "      <td>1.216666e+09</td>\n",
       "      <td>294961.0</td>\n",
       "    </tr>\n",
       "    <tr>\n",
       "      <th>162</th>\n",
       "      <td>238.0</td>\n",
       "      <td>1.257466e+09</td>\n",
       "      <td>69.0</td>\n",
       "      <td>1.0</td>\n",
       "      <td>1.264755e+09</td>\n",
       "      <td>2835976.0</td>\n",
       "    </tr>\n",
       "    <tr>\n",
       "      <th>163</th>\n",
       "      <td>39.0</td>\n",
       "      <td>1.140912e+09</td>\n",
       "      <td>38.0</td>\n",
       "      <td>1.0</td>\n",
       "      <td>1.175819e+09</td>\n",
       "      <td>591379.0</td>\n",
       "    </tr>\n",
       "    <tr>\n",
       "      <th>172</th>\n",
       "      <td>183.0</td>\n",
       "      <td>1.340755e+09</td>\n",
       "      <td>48.0</td>\n",
       "      <td>1.0</td>\n",
       "      <td>1.354292e+09</td>\n",
       "      <td>2324212.0</td>\n",
       "    </tr>\n",
       "    <tr>\n",
       "      <th>174</th>\n",
       "      <td>43.0</td>\n",
       "      <td>1.257725e+09</td>\n",
       "      <td>48.0</td>\n",
       "      <td>1.0</td>\n",
       "      <td>1.263374e+09</td>\n",
       "      <td>359942.0</td>\n",
       "    </tr>\n",
       "    <tr>\n",
       "      <th>176</th>\n",
       "      <td>254.0</td>\n",
       "      <td>1.265933e+09</td>\n",
       "      <td>48.0</td>\n",
       "      <td>1.0</td>\n",
       "      <td>1.278063e+09</td>\n",
       "      <td>1332785.0</td>\n",
       "    </tr>\n",
       "    <tr>\n",
       "      <th>178</th>\n",
       "      <td>207.0</td>\n",
       "      <td>1.217851e+09</td>\n",
       "      <td>51.0</td>\n",
       "      <td>1.5</td>\n",
       "      <td>1.231909e+09</td>\n",
       "      <td>1275437.5</td>\n",
       "    </tr>\n",
       "    <tr>\n",
       "      <th>179</th>\n",
       "      <td>309.0</td>\n",
       "      <td>1.107302e+09</td>\n",
       "      <td>59.0</td>\n",
       "      <td>1.0</td>\n",
       "      <td>1.305903e+09</td>\n",
       "      <td>6263759.0</td>\n",
       "    </tr>\n",
       "    <tr>\n",
       "      <th>180</th>\n",
       "      <td>62.0</td>\n",
       "      <td>1.367885e+09</td>\n",
       "      <td>33.0</td>\n",
       "      <td>1.0</td>\n",
       "      <td>1.368026e+09</td>\n",
       "      <td>1188177.0</td>\n",
       "    </tr>\n",
       "    <tr>\n",
       "      <th>181</th>\n",
       "      <td>104.0</td>\n",
       "      <td>1.330301e+09</td>\n",
       "      <td>40.0</td>\n",
       "      <td>1.0</td>\n",
       "      <td>1.339087e+09</td>\n",
       "      <td>940703.0</td>\n",
       "    </tr>\n",
       "    <tr>\n",
       "      <th>182</th>\n",
       "      <td>177.0</td>\n",
       "      <td>1.131805e+09</td>\n",
       "      <td>0.0</td>\n",
       "      <td>1.0</td>\n",
       "      <td>1.264253e+09</td>\n",
       "      <td>676741.0</td>\n",
       "    </tr>\n",
       "    <tr>\n",
       "      <th>184</th>\n",
       "      <td>321.0</td>\n",
       "      <td>1.244592e+09</td>\n",
       "      <td>0.0</td>\n",
       "      <td>1.0</td>\n",
       "      <td>1.267232e+09</td>\n",
       "      <td>3302312.0</td>\n",
       "    </tr>\n",
       "    <tr>\n",
       "      <th>185</th>\n",
       "      <td>99.0</td>\n",
       "      <td>1.235174e+09</td>\n",
       "      <td>38.0</td>\n",
       "      <td>1.0</td>\n",
       "      <td>1.245401e+09</td>\n",
       "      <td>803691.0</td>\n",
       "    </tr>\n",
       "    <tr>\n",
       "      <th>186</th>\n",
       "      <td>130.0</td>\n",
       "      <td>1.271722e+09</td>\n",
       "      <td>20.5</td>\n",
       "      <td>1.5</td>\n",
       "      <td>1.287520e+09</td>\n",
       "      <td>602686.0</td>\n",
       "    </tr>\n",
       "    <tr>\n",
       "      <th>189</th>\n",
       "      <td>275.5</td>\n",
       "      <td>1.312416e+09</td>\n",
       "      <td>54.5</td>\n",
       "      <td>1.0</td>\n",
       "      <td>1.316008e+09</td>\n",
       "      <td>3834813.5</td>\n",
       "    </tr>\n",
       "    <tr>\n",
       "      <th>192</th>\n",
       "      <td>102.0</td>\n",
       "      <td>1.204502e+09</td>\n",
       "      <td>52.0</td>\n",
       "      <td>1.0</td>\n",
       "      <td>1.213578e+09</td>\n",
       "      <td>1384333.0</td>\n",
       "    </tr>\n",
       "    <tr>\n",
       "      <th>195</th>\n",
       "      <td>322.5</td>\n",
       "      <td>1.272542e+09</td>\n",
       "      <td>46.0</td>\n",
       "      <td>2.0</td>\n",
       "      <td>1.285577e+09</td>\n",
       "      <td>2639580.0</td>\n",
       "    </tr>\n",
       "    <tr>\n",
       "      <th>197</th>\n",
       "      <td>296.0</td>\n",
       "      <td>1.233922e+09</td>\n",
       "      <td>52.0</td>\n",
       "      <td>1.0</td>\n",
       "      <td>1.255842e+09</td>\n",
       "      <td>2522180.0</td>\n",
       "    </tr>\n",
       "    <tr>\n",
       "      <th>198</th>\n",
       "      <td>199.0</td>\n",
       "      <td>1.140653e+09</td>\n",
       "      <td>48.0</td>\n",
       "      <td>1.0</td>\n",
       "      <td>1.166055e+09</td>\n",
       "      <td>2299265.0</td>\n",
       "    </tr>\n",
       "    <tr>\n",
       "      <th>199</th>\n",
       "      <td>42.0</td>\n",
       "      <td>1.261440e+09</td>\n",
       "      <td>19.0</td>\n",
       "      <td>1.0</td>\n",
       "      <td>1.286884e+09</td>\n",
       "      <td>285010.0</td>\n",
       "    </tr>\n",
       "    <tr>\n",
       "      <th>200</th>\n",
       "      <td>115.0</td>\n",
       "      <td>1.303949e+09</td>\n",
       "      <td>0.0</td>\n",
       "      <td>1.0</td>\n",
       "      <td>1.306084e+09</td>\n",
       "      <td>357454.0</td>\n",
       "    </tr>\n",
       "    <tr>\n",
       "      <th>201</th>\n",
       "      <td>88.0</td>\n",
       "      <td>1.170763e+09</td>\n",
       "      <td>37.0</td>\n",
       "      <td>1.5</td>\n",
       "      <td>1.223394e+09</td>\n",
       "      <td>564054.5</td>\n",
       "    </tr>\n",
       "    <tr>\n",
       "      <th>202</th>\n",
       "      <td>29.5</td>\n",
       "      <td>1.187395e+09</td>\n",
       "      <td>37.5</td>\n",
       "      <td>1.0</td>\n",
       "      <td>1.215904e+09</td>\n",
       "      <td>421060.5</td>\n",
       "    </tr>\n",
       "    <tr>\n",
       "      <th>206</th>\n",
       "      <td>139.0</td>\n",
       "      <td>1.362010e+09</td>\n",
       "      <td>48.0</td>\n",
       "      <td>1.0</td>\n",
       "      <td>1.371827e+09</td>\n",
       "      <td>1608679.0</td>\n",
       "    </tr>\n",
       "    <tr>\n",
       "      <th>207</th>\n",
       "      <td>736.0</td>\n",
       "      <td>1.299110e+09</td>\n",
       "      <td>72.0</td>\n",
       "      <td>1.0</td>\n",
       "      <td>1.309533e+09</td>\n",
       "      <td>8838874.0</td>\n",
       "    </tr>\n",
       "    <tr>\n",
       "      <th>208</th>\n",
       "      <td>211.5</td>\n",
       "      <td>1.360411e+09</td>\n",
       "      <td>24.5</td>\n",
       "      <td>1.0</td>\n",
       "      <td>1.363491e+09</td>\n",
       "      <td>1781986.0</td>\n",
       "    </tr>\n",
       "    <tr>\n",
       "      <th>...</th>\n",
       "      <td>...</td>\n",
       "      <td>...</td>\n",
       "      <td>...</td>\n",
       "      <td>...</td>\n",
       "      <td>...</td>\n",
       "      <td>...</td>\n",
       "    </tr>\n",
       "    <tr>\n",
       "      <th>1711</th>\n",
       "      <td>92.0</td>\n",
       "      <td>1.210205e+09</td>\n",
       "      <td>19.0</td>\n",
       "      <td>1.0</td>\n",
       "      <td>1.228266e+09</td>\n",
       "      <td>554794.0</td>\n",
       "    </tr>\n",
       "    <tr>\n",
       "      <th>1750</th>\n",
       "      <td>6404.0</td>\n",
       "      <td>1.012608e+09</td>\n",
       "      <td>42.0</td>\n",
       "      <td>1.0</td>\n",
       "      <td>1.176689e+09</td>\n",
       "      <td>4374792.0</td>\n",
       "    </tr>\n",
       "    <tr>\n",
       "      <th>1758</th>\n",
       "      <td>192.0</td>\n",
       "      <td>1.265933e+09</td>\n",
       "      <td>22.0</td>\n",
       "      <td>1.0</td>\n",
       "      <td>1.270807e+09</td>\n",
       "      <td>860139.0</td>\n",
       "    </tr>\n",
       "    <tr>\n",
       "      <th>1761</th>\n",
       "      <td>767.0</td>\n",
       "      <td>1.382486e+09</td>\n",
       "      <td>33.0</td>\n",
       "      <td>1.0</td>\n",
       "      <td>1.387383e+09</td>\n",
       "      <td>7265611.0</td>\n",
       "    </tr>\n",
       "    <tr>\n",
       "      <th>1768</th>\n",
       "      <td>55.0</td>\n",
       "      <td>1.354320e+09</td>\n",
       "      <td>14.0</td>\n",
       "      <td>1.0</td>\n",
       "      <td>1.492182e+09</td>\n",
       "      <td>1318454.0</td>\n",
       "    </tr>\n",
       "    <tr>\n",
       "      <th>1772</th>\n",
       "      <td>116.0</td>\n",
       "      <td>1.012608e+09</td>\n",
       "      <td>19.0</td>\n",
       "      <td>1.0</td>\n",
       "      <td>1.231117e+09</td>\n",
       "      <td>532759.0</td>\n",
       "    </tr>\n",
       "    <tr>\n",
       "      <th>1782</th>\n",
       "      <td>169.0</td>\n",
       "      <td>1.012608e+09</td>\n",
       "      <td>22.0</td>\n",
       "      <td>1.0</td>\n",
       "      <td>1.190690e+09</td>\n",
       "      <td>1712075.0</td>\n",
       "    </tr>\n",
       "    <tr>\n",
       "      <th>1791</th>\n",
       "      <td>80.0</td>\n",
       "      <td>1.172880e+09</td>\n",
       "      <td>29.0</td>\n",
       "      <td>1.0</td>\n",
       "      <td>1.191911e+09</td>\n",
       "      <td>1609555.0</td>\n",
       "    </tr>\n",
       "    <tr>\n",
       "      <th>1868</th>\n",
       "      <td>109.0</td>\n",
       "      <td>1.107302e+09</td>\n",
       "      <td>21.0</td>\n",
       "      <td>1.0</td>\n",
       "      <td>1.219194e+09</td>\n",
       "      <td>4204848.0</td>\n",
       "    </tr>\n",
       "    <tr>\n",
       "      <th>1899</th>\n",
       "      <td>62.0</td>\n",
       "      <td>1.197418e+09</td>\n",
       "      <td>17.0</td>\n",
       "      <td>1.0</td>\n",
       "      <td>1.220513e+09</td>\n",
       "      <td>250722.0</td>\n",
       "    </tr>\n",
       "    <tr>\n",
       "      <th>1917</th>\n",
       "      <td>67.0</td>\n",
       "      <td>1.167610e+09</td>\n",
       "      <td>23.0</td>\n",
       "      <td>1.0</td>\n",
       "      <td>1.206323e+09</td>\n",
       "      <td>763815.0</td>\n",
       "    </tr>\n",
       "    <tr>\n",
       "      <th>1929</th>\n",
       "      <td>296.0</td>\n",
       "      <td>1.044144e+09</td>\n",
       "      <td>32.0</td>\n",
       "      <td>1.0</td>\n",
       "      <td>1.175882e+09</td>\n",
       "      <td>4165572.0</td>\n",
       "    </tr>\n",
       "    <tr>\n",
       "      <th>2010</th>\n",
       "      <td>440.0</td>\n",
       "      <td>1.395274e+09</td>\n",
       "      <td>22.0</td>\n",
       "      <td>1.0</td>\n",
       "      <td>1.395363e+09</td>\n",
       "      <td>1191342.0</td>\n",
       "    </tr>\n",
       "    <tr>\n",
       "      <th>2018</th>\n",
       "      <td>230.0</td>\n",
       "      <td>1.120694e+09</td>\n",
       "      <td>31.0</td>\n",
       "      <td>1.0</td>\n",
       "      <td>1.229413e+09</td>\n",
       "      <td>3707266.0</td>\n",
       "    </tr>\n",
       "    <tr>\n",
       "      <th>2065</th>\n",
       "      <td>58.0</td>\n",
       "      <td>1.108598e+09</td>\n",
       "      <td>22.0</td>\n",
       "      <td>1.0</td>\n",
       "      <td>1.162253e+09</td>\n",
       "      <td>975107.0</td>\n",
       "    </tr>\n",
       "    <tr>\n",
       "      <th>2102</th>\n",
       "      <td>421.0</td>\n",
       "      <td>1.395101e+09</td>\n",
       "      <td>31.0</td>\n",
       "      <td>1.0</td>\n",
       "      <td>1.395187e+09</td>\n",
       "      <td>4040280.0</td>\n",
       "    </tr>\n",
       "    <tr>\n",
       "      <th>2128</th>\n",
       "      <td>95.0</td>\n",
       "      <td>1.012608e+09</td>\n",
       "      <td>19.0</td>\n",
       "      <td>1.0</td>\n",
       "      <td>1.200870e+09</td>\n",
       "      <td>611092.0</td>\n",
       "    </tr>\n",
       "    <tr>\n",
       "      <th>2222</th>\n",
       "      <td>82.0</td>\n",
       "      <td>1.015114e+09</td>\n",
       "      <td>18.0</td>\n",
       "      <td>1.0</td>\n",
       "      <td>1.210219e+09</td>\n",
       "      <td>944836.0</td>\n",
       "    </tr>\n",
       "    <tr>\n",
       "      <th>2246</th>\n",
       "      <td>204.0</td>\n",
       "      <td>1.252424e+09</td>\n",
       "      <td>0.0</td>\n",
       "      <td>1.0</td>\n",
       "      <td>1.262962e+09</td>\n",
       "      <td>572845.0</td>\n",
       "    </tr>\n",
       "    <tr>\n",
       "      <th>2450</th>\n",
       "      <td>250.0</td>\n",
       "      <td>1.492992e+09</td>\n",
       "      <td>21.0</td>\n",
       "      <td>1.0</td>\n",
       "      <td>1.493597e+09</td>\n",
       "      <td>5666038.0</td>\n",
       "    </tr>\n",
       "    <tr>\n",
       "      <th>2678</th>\n",
       "      <td>9.0</td>\n",
       "      <td>6.364224e+08</td>\n",
       "      <td>19.0</td>\n",
       "      <td>1.0</td>\n",
       "      <td>1.205372e+09</td>\n",
       "      <td>620806.0</td>\n",
       "    </tr>\n",
       "    <tr>\n",
       "      <th>2761</th>\n",
       "      <td>121.0</td>\n",
       "      <td>1.254787e+09</td>\n",
       "      <td>0.0</td>\n",
       "      <td>1.0</td>\n",
       "      <td>1.306774e+09</td>\n",
       "      <td>251313.0</td>\n",
       "    </tr>\n",
       "    <tr>\n",
       "      <th>2853</th>\n",
       "      <td>42.0</td>\n",
       "      <td>1.488326e+09</td>\n",
       "      <td>5.0</td>\n",
       "      <td>4.0</td>\n",
       "      <td>1.491256e+09</td>\n",
       "      <td>890478.0</td>\n",
       "    </tr>\n",
       "    <tr>\n",
       "      <th>3296</th>\n",
       "      <td>307.0</td>\n",
       "      <td>1.125533e+09</td>\n",
       "      <td>0.0</td>\n",
       "      <td>1.0</td>\n",
       "      <td>1.261572e+09</td>\n",
       "      <td>393459.0</td>\n",
       "    </tr>\n",
       "    <tr>\n",
       "      <th>3475</th>\n",
       "      <td>133.0</td>\n",
       "      <td>6.932383e+08</td>\n",
       "      <td>0.0</td>\n",
       "      <td>1.0</td>\n",
       "      <td>1.264252e+09</td>\n",
       "      <td>318423.0</td>\n",
       "    </tr>\n",
       "    <tr>\n",
       "      <th>3573</th>\n",
       "      <td>20.0</td>\n",
       "      <td>1.097626e+09</td>\n",
       "      <td>0.0</td>\n",
       "      <td>1.0</td>\n",
       "      <td>1.263481e+09</td>\n",
       "      <td>50443.0</td>\n",
       "    </tr>\n",
       "    <tr>\n",
       "      <th>3608</th>\n",
       "      <td>345.0</td>\n",
       "      <td>1.487117e+09</td>\n",
       "      <td>19.0</td>\n",
       "      <td>2.0</td>\n",
       "      <td>1.487605e+09</td>\n",
       "      <td>1514291.0</td>\n",
       "    </tr>\n",
       "    <tr>\n",
       "      <th>3955</th>\n",
       "      <td>146.0</td>\n",
       "      <td>4.265316e+08</td>\n",
       "      <td>0.0</td>\n",
       "      <td>1.0</td>\n",
       "      <td>1.267632e+09</td>\n",
       "      <td>521974.0</td>\n",
       "    </tr>\n",
       "    <tr>\n",
       "      <th>4587</th>\n",
       "      <td>124.0</td>\n",
       "      <td>1.190074e+09</td>\n",
       "      <td>0.0</td>\n",
       "      <td>1.0</td>\n",
       "      <td>1.262950e+09</td>\n",
       "      <td>564781.0</td>\n",
       "    </tr>\n",
       "    <tr>\n",
       "      <th>5256</th>\n",
       "      <td>101.0</td>\n",
       "      <td>9.899712e+08</td>\n",
       "      <td>0.0</td>\n",
       "      <td>1.0</td>\n",
       "      <td>1.268762e+09</td>\n",
       "      <td>473220.0</td>\n",
       "    </tr>\n",
       "  </tbody>\n",
       "</table>\n",
       "<p>1083 rows × 6 columns</p>\n",
       "</div>"
      ],
      "text/plain": [
       "          comments     film_date  languages  num_speaker  published_date  \\\n",
       "duration                                                                   \n",
       "135           76.0  1.172880e+09       61.0          1.0    1.213146e+09   \n",
       "140           42.0  1.204243e+09       39.0          1.0    1.214528e+09   \n",
       "141           46.0  1.248307e+09        0.0          1.0    1.256864e+09   \n",
       "143           62.0  1.233878e+09       45.0          1.0    1.242982e+09   \n",
       "153           15.0  1.181088e+09       43.0          1.0    1.216666e+09   \n",
       "162          238.0  1.257466e+09       69.0          1.0    1.264755e+09   \n",
       "163           39.0  1.140912e+09       38.0          1.0    1.175819e+09   \n",
       "172          183.0  1.340755e+09       48.0          1.0    1.354292e+09   \n",
       "174           43.0  1.257725e+09       48.0          1.0    1.263374e+09   \n",
       "176          254.0  1.265933e+09       48.0          1.0    1.278063e+09   \n",
       "178          207.0  1.217851e+09       51.0          1.5    1.231909e+09   \n",
       "179          309.0  1.107302e+09       59.0          1.0    1.305903e+09   \n",
       "180           62.0  1.367885e+09       33.0          1.0    1.368026e+09   \n",
       "181          104.0  1.330301e+09       40.0          1.0    1.339087e+09   \n",
       "182          177.0  1.131805e+09        0.0          1.0    1.264253e+09   \n",
       "184          321.0  1.244592e+09        0.0          1.0    1.267232e+09   \n",
       "185           99.0  1.235174e+09       38.0          1.0    1.245401e+09   \n",
       "186          130.0  1.271722e+09       20.5          1.5    1.287520e+09   \n",
       "189          275.5  1.312416e+09       54.5          1.0    1.316008e+09   \n",
       "192          102.0  1.204502e+09       52.0          1.0    1.213578e+09   \n",
       "195          322.5  1.272542e+09       46.0          2.0    1.285577e+09   \n",
       "197          296.0  1.233922e+09       52.0          1.0    1.255842e+09   \n",
       "198          199.0  1.140653e+09       48.0          1.0    1.166055e+09   \n",
       "199           42.0  1.261440e+09       19.0          1.0    1.286884e+09   \n",
       "200          115.0  1.303949e+09        0.0          1.0    1.306084e+09   \n",
       "201           88.0  1.170763e+09       37.0          1.5    1.223394e+09   \n",
       "202           29.5  1.187395e+09       37.5          1.0    1.215904e+09   \n",
       "206          139.0  1.362010e+09       48.0          1.0    1.371827e+09   \n",
       "207          736.0  1.299110e+09       72.0          1.0    1.309533e+09   \n",
       "208          211.5  1.360411e+09       24.5          1.0    1.363491e+09   \n",
       "...            ...           ...        ...          ...             ...   \n",
       "1711          92.0  1.210205e+09       19.0          1.0    1.228266e+09   \n",
       "1750        6404.0  1.012608e+09       42.0          1.0    1.176689e+09   \n",
       "1758         192.0  1.265933e+09       22.0          1.0    1.270807e+09   \n",
       "1761         767.0  1.382486e+09       33.0          1.0    1.387383e+09   \n",
       "1768          55.0  1.354320e+09       14.0          1.0    1.492182e+09   \n",
       "1772         116.0  1.012608e+09       19.0          1.0    1.231117e+09   \n",
       "1782         169.0  1.012608e+09       22.0          1.0    1.190690e+09   \n",
       "1791          80.0  1.172880e+09       29.0          1.0    1.191911e+09   \n",
       "1868         109.0  1.107302e+09       21.0          1.0    1.219194e+09   \n",
       "1899          62.0  1.197418e+09       17.0          1.0    1.220513e+09   \n",
       "1917          67.0  1.167610e+09       23.0          1.0    1.206323e+09   \n",
       "1929         296.0  1.044144e+09       32.0          1.0    1.175882e+09   \n",
       "2010         440.0  1.395274e+09       22.0          1.0    1.395363e+09   \n",
       "2018         230.0  1.120694e+09       31.0          1.0    1.229413e+09   \n",
       "2065          58.0  1.108598e+09       22.0          1.0    1.162253e+09   \n",
       "2102         421.0  1.395101e+09       31.0          1.0    1.395187e+09   \n",
       "2128          95.0  1.012608e+09       19.0          1.0    1.200870e+09   \n",
       "2222          82.0  1.015114e+09       18.0          1.0    1.210219e+09   \n",
       "2246         204.0  1.252424e+09        0.0          1.0    1.262962e+09   \n",
       "2450         250.0  1.492992e+09       21.0          1.0    1.493597e+09   \n",
       "2678           9.0  6.364224e+08       19.0          1.0    1.205372e+09   \n",
       "2761         121.0  1.254787e+09        0.0          1.0    1.306774e+09   \n",
       "2853          42.0  1.488326e+09        5.0          4.0    1.491256e+09   \n",
       "3296         307.0  1.125533e+09        0.0          1.0    1.261572e+09   \n",
       "3475         133.0  6.932383e+08        0.0          1.0    1.264252e+09   \n",
       "3573          20.0  1.097626e+09        0.0          1.0    1.263481e+09   \n",
       "3608         345.0  1.487117e+09       19.0          2.0    1.487605e+09   \n",
       "3955         146.0  4.265316e+08        0.0          1.0    1.267632e+09   \n",
       "4587         124.0  1.190074e+09        0.0          1.0    1.262950e+09   \n",
       "5256         101.0  9.899712e+08        0.0          1.0    1.268762e+09   \n",
       "\n",
       "              views  \n",
       "duration             \n",
       "135        785293.0  \n",
       "140        680591.0  \n",
       "141        771962.0  \n",
       "143        556657.0  \n",
       "153        294961.0  \n",
       "162       2835976.0  \n",
       "163        591379.0  \n",
       "172       2324212.0  \n",
       "174        359942.0  \n",
       "176       1332785.0  \n",
       "178       1275437.5  \n",
       "179       6263759.0  \n",
       "180       1188177.0  \n",
       "181        940703.0  \n",
       "182        676741.0  \n",
       "184       3302312.0  \n",
       "185        803691.0  \n",
       "186        602686.0  \n",
       "189       3834813.5  \n",
       "192       1384333.0  \n",
       "195       2639580.0  \n",
       "197       2522180.0  \n",
       "198       2299265.0  \n",
       "199        285010.0  \n",
       "200        357454.0  \n",
       "201        564054.5  \n",
       "202        421060.5  \n",
       "206       1608679.0  \n",
       "207       8838874.0  \n",
       "208       1781986.0  \n",
       "...             ...  \n",
       "1711       554794.0  \n",
       "1750      4374792.0  \n",
       "1758       860139.0  \n",
       "1761      7265611.0  \n",
       "1768      1318454.0  \n",
       "1772       532759.0  \n",
       "1782      1712075.0  \n",
       "1791      1609555.0  \n",
       "1868      4204848.0  \n",
       "1899       250722.0  \n",
       "1917       763815.0  \n",
       "1929      4165572.0  \n",
       "2010      1191342.0  \n",
       "2018      3707266.0  \n",
       "2065       975107.0  \n",
       "2102      4040280.0  \n",
       "2128       611092.0  \n",
       "2222       944836.0  \n",
       "2246       572845.0  \n",
       "2450      5666038.0  \n",
       "2678       620806.0  \n",
       "2761       251313.0  \n",
       "2853       890478.0  \n",
       "3296       393459.0  \n",
       "3475       318423.0  \n",
       "3573        50443.0  \n",
       "3608      1514291.0  \n",
       "3955       521974.0  \n",
       "4587       564781.0  \n",
       "5256       473220.0  \n",
       "\n",
       "[1083 rows x 6 columns]"
      ]
     },
     "execution_count": 75,
     "metadata": {},
     "output_type": "execute_result"
    }
   ],
   "source": [
    "ted.groupby('duration').median()"
   ]
  },
  {
   "cell_type": "code",
   "execution_count": 71,
   "metadata": {},
   "outputs": [
    {
     "data": {
      "text/plain": [
       "826.5101960784314"
      ]
     },
     "execution_count": 71,
     "metadata": {},
     "output_type": "execute_result"
    }
   ],
   "source": [
    "ted.duration.mean()"
   ]
  },
  {
   "cell_type": "code",
   "execution_count": 72,
   "metadata": {},
   "outputs": [
    {
     "data": {
      "text/plain": [
       "848.0"
      ]
     },
     "execution_count": 72,
     "metadata": {},
     "output_type": "execute_result"
    }
   ],
   "source": [
    "ted.duration.median() #yes, this is the green line in the box plot"
   ]
  },
  {
   "cell_type": "code",
   "execution_count": 76,
   "metadata": {},
   "outputs": [
    {
     "data": {
      "text/plain": [
       "374.0091380189218"
      ]
     },
     "execution_count": 76,
     "metadata": {},
     "output_type": "execute_result"
    }
   ],
   "source": [
    "ted.duration.std()"
   ]
  },
  {
   "cell_type": "code",
   "execution_count": 77,
   "metadata": {},
   "outputs": [
    {
     "data": {
      "text/plain": [
       "0     848\n",
       "1    1099\n",
       "dtype: int64"
      ]
     },
     "execution_count": 77,
     "metadata": {},
     "output_type": "execute_result"
    }
   ],
   "source": [
    "ted.duration.mode()"
   ]
  },
  {
   "cell_type": "code",
   "execution_count": 70,
   "metadata": {},
   "outputs": [
    {
     "data": {
      "text/plain": [
       "count    2550.000000\n",
       "mean      826.510196\n",
       "std       374.009138\n",
       "min       135.000000\n",
       "25%       577.000000\n",
       "50%       848.000000\n",
       "75%      1046.750000\n",
       "max      5256.000000\n",
       "Name: duration, dtype: float64"
      ]
     },
     "execution_count": 70,
     "metadata": {},
     "output_type": "execute_result"
    }
   ],
   "source": [
    "ted.duration.describe()#info on the duration data"
   ]
  },
  {
   "cell_type": "markdown",
   "metadata": {},
   "source": [
    "#### 2.2.8\n",
    "Is this a normal distribution? Explain. How does this affect your analysis above?"
   ]
  },
  {
   "cell_type": "markdown",
   "metadata": {},
   "source": [
    "Not sure how to pull data from box plots, or how to plot a bell shaped distribution to compare and see if its normaly \n",
    "distributed or skewed.\n",
    "But it seems the box plot is leening towards the right since the 3rd quartile is shorter and has \n",
    "outliers compared to the lower portion of the box. If the data was Normaly distributed the box plt would lie in the middle of the graph and wouldnt have outliers or it would have the same amount of outliers on both sides.\n"
   ]
  },
  {
   "cell_type": "markdown",
   "metadata": {},
   "source": [
    "#### 2.3.1-4\n",
    "\n",
    "Going back to the tutorial, make sure you have created the film_datetime variable\n",
    "\n",
    "In the command:\n",
    "\n",
    "ted.film_datetime.dt.year.value_counts().sort_index()\n",
    "\n",
    "What do the dt, year, value_counts and sort_index commands do? Explain each one and demonstrate"
   ]
  },
  {
   "cell_type": "code",
   "execution_count": 79,
   "metadata": {},
   "outputs": [],
   "source": [
    "ted['film_datetime'] = pd.to_datetime(ted.film_date, unit='s')"
   ]
  },
  {
   "cell_type": "code",
   "execution_count": 82,
   "metadata": {},
   "outputs": [
    {
     "data": {
      "text/plain": [
       "<pandas.core.indexes.accessors.DatetimeProperties object at 0x000001EB48583898>"
      ]
     },
     "execution_count": 82,
     "metadata": {},
     "output_type": "execute_result"
    }
   ],
   "source": [
    "ted.film_datetime.dt #pandas aceess to data time "
   ]
  },
  {
   "cell_type": "code",
   "execution_count": 83,
   "metadata": {},
   "outputs": [
    {
     "data": {
      "text/plain": [
       "0       2006\n",
       "1       2006\n",
       "2       2006\n",
       "3       2006\n",
       "4       2006\n",
       "5       2006\n",
       "6       2006\n",
       "7       2006\n",
       "8       2006\n",
       "9       2006\n",
       "10      2006\n",
       "11      2006\n",
       "12      2006\n",
       "13      2006\n",
       "14      2006\n",
       "15      2006\n",
       "16      2004\n",
       "17      2006\n",
       "18      2005\n",
       "19      2005\n",
       "20      2006\n",
       "21      2004\n",
       "22      2006\n",
       "23      2006\n",
       "24      2004\n",
       "25      2005\n",
       "26      2005\n",
       "27      2004\n",
       "28      2004\n",
       "29      2004\n",
       "        ... \n",
       "2520    2017\n",
       "2521    2016\n",
       "2522    2017\n",
       "2523    2016\n",
       "2524    2017\n",
       "2525    2016\n",
       "2526    2017\n",
       "2527    2017\n",
       "2528    2016\n",
       "2529    2015\n",
       "2530    2017\n",
       "2531    2016\n",
       "2532    2017\n",
       "2533    2017\n",
       "2534    2017\n",
       "2535    2017\n",
       "2536    2017\n",
       "2537    2017\n",
       "2538    2016\n",
       "2539    2017\n",
       "2540    2017\n",
       "2541    2017\n",
       "2542    2017\n",
       "2543    2017\n",
       "2544    2017\n",
       "2545    2017\n",
       "2546    2017\n",
       "2547    2017\n",
       "2548    2017\n",
       "2549    2017\n",
       "Name: film_datetime, Length: 2550, dtype: int64"
      ]
     },
     "execution_count": 83,
     "metadata": {},
     "output_type": "execute_result"
    }
   ],
   "source": [
    "ted.film_datetime.dt.year #access to year data"
   ]
  },
  {
   "cell_type": "code",
   "execution_count": 84,
   "metadata": {},
   "outputs": [
    {
     "data": {
      "text/plain": [
       "2013    270\n",
       "2011    270\n",
       "2010    267\n",
       "2012    267\n",
       "2016    246\n",
       "2015    239\n",
       "2014    237\n",
       "2009    232\n",
       "2007    114\n",
       "2017     98\n",
       "2008     84\n",
       "2005     66\n",
       "2006     50\n",
       "2003     33\n",
       "2004     33\n",
       "2002     27\n",
       "1998      6\n",
       "2001      5\n",
       "1983      1\n",
       "1991      1\n",
       "1994      1\n",
       "1990      1\n",
       "1984      1\n",
       "1972      1\n",
       "Name: film_datetime, dtype: int64"
      ]
     },
     "execution_count": 84,
     "metadata": {},
     "output_type": "execute_result"
    }
   ],
   "source": [
    "ted.film_datetime.dt.year.value_counts() #how many counts there where per year"
   ]
  },
  {
   "cell_type": "code",
   "execution_count": 80,
   "metadata": {},
   "outputs": [
    {
     "data": {
      "text/plain": [
       "1972      1\n",
       "1983      1\n",
       "1984      1\n",
       "1990      1\n",
       "1991      1\n",
       "1994      1\n",
       "1998      6\n",
       "2001      5\n",
       "2002     27\n",
       "2003     33\n",
       "2004     33\n",
       "2005     66\n",
       "2006     50\n",
       "2007    114\n",
       "2008     84\n",
       "2009    232\n",
       "2010    267\n",
       "2011    270\n",
       "2012    267\n",
       "2013    270\n",
       "2014    237\n",
       "2015    239\n",
       "2016    246\n",
       "2017     98\n",
       "Name: film_datetime, dtype: int64"
      ]
     },
     "execution_count": 80,
     "metadata": {},
     "output_type": "execute_result"
    }
   ],
   "source": [
    "ted.film_datetime.dt.year.value_counts().sort_index() #sorting the code 'counts by year'"
   ]
  },
  {
   "cell_type": "markdown",
   "metadata": {},
   "source": [
    "#### 2.3.2\n",
    "Research another way to use the pandas datatime data to analyse the Ted Talks. Explain your methods"
   ]
  },
  {
   "cell_type": "code",
   "execution_count": null,
   "metadata": {},
   "outputs": [],
   "source": []
  },
  {
   "cell_type": "markdown",
   "metadata": {},
   "source": [
    "#### 2.3.3\n",
    "Get creative! Now it is time for you to do some analysis on your own using the TED Talks dataset. Find a few ineresting ways to analyse this data set, which you will present to the class on Thursday."
   ]
  },
  {
   "cell_type": "code",
   "execution_count": null,
   "metadata": {},
   "outputs": [],
   "source": []
  },
  {
   "cell_type": "markdown",
   "metadata": {},
   "source": [
    "#### 2.3.5"
   ]
  },
  {
   "cell_type": "markdown",
   "metadata": {},
   "source": [
    "Why does the data need to be manipulated this way to plot it?\n",
    "what was the research question?"
   ]
  },
  {
   "cell_type": "code",
   "execution_count": null,
   "metadata": {},
   "outputs": [],
   "source": []
  },
  {
   "cell_type": "code",
   "execution_count": null,
   "metadata": {},
   "outputs": [],
   "source": []
  },
  {
   "cell_type": "markdown",
   "metadata": {},
   "source": [
    "#### 2.3.6"
   ]
  },
  {
   "cell_type": "markdown",
   "metadata": {},
   "source": [
    "Make the plot and label your axes"
   ]
  },
  {
   "cell_type": "code",
   "execution_count": null,
   "metadata": {},
   "outputs": [],
   "source": []
  },
  {
   "cell_type": "markdown",
   "metadata": {},
   "source": [
    "#### 2.3.7 Bonus:\n",
    "could you make a similiar plot, like a hist?\n",
    "with same info? YES!"
   ]
  },
  {
   "cell_type": "code",
   "execution_count": null,
   "metadata": {},
   "outputs": [],
   "source": []
  },
  {
   "cell_type": "code",
   "execution_count": null,
   "metadata": {},
   "outputs": [],
   "source": []
  },
  {
   "cell_type": "code",
   "execution_count": null,
   "metadata": {},
   "outputs": [],
   "source": []
  },
  {
   "cell_type": "code",
   "execution_count": null,
   "metadata": {},
   "outputs": [],
   "source": []
  },
  {
   "cell_type": "markdown",
   "metadata": {},
   "source": [
    "## 3. More PANDAS (if time)\n",
    "\n",
    "Review the following PANDAS for ecology tutorial and pick a few topics to work on:\n",
    "\n",
    "https://datacarpentry.org/python-ecology-lesson/\n",
    "\n",
    "Explain your methods in words and comment your code.\n",
    "\n",
    "#### Note the above is a good reference for basic pandas operations.\n",
    "\n"
   ]
  },
  {
   "cell_type": "code",
   "execution_count": null,
   "metadata": {},
   "outputs": [],
   "source": []
  }
 ],
 "metadata": {
  "kernelspec": {
   "display_name": "Python 3",
   "language": "python",
   "name": "python3"
  },
  "language_info": {
   "codemirror_mode": {
    "name": "ipython",
    "version": 3
   },
   "file_extension": ".py",
   "mimetype": "text/x-python",
   "name": "python",
   "nbconvert_exporter": "python",
   "pygments_lexer": "ipython3",
   "version": "3.7.3"
  }
 },
 "nbformat": 4,
 "nbformat_minor": 2
}
