{
 "cells": [
  {
   "cell_type": "markdown",
   "metadata": {},
   "source": [
    "October 1st "
   ]
  },
  {
   "cell_type": "markdown",
   "metadata": {},
   "source": [
    "# Lecure 6.1 More plotting and data analysis¶\n",
    "   Warm up: Class presentations of data plotting"
   ]
  },
  {
   "cell_type": "markdown",
   "metadata": {},
   "source": [
    "# Lecture Examples\n",
    "Didn't get to in 5.1, moved here:"
   ]
  },
  {
   "cell_type": "markdown",
   "metadata": {},
   "source": [
    "Plot y = sin(x) on -pi to pi\n",
    "\n",
    "Go over linespace and meshgrid\n",
    "\n",
    "Create a color plot of z = sin(x)sin(y) on the interval [−π,π]×[−π,π][−π,π]×[−π,π].\n",
    "\n",
    "Plot an Archimedean spiral (https://en.wikipedia.org/wiki/Archimedean_spiral)\n",
    "\n",
    "Note this involves translating some r code into python"
   ]
  },
  {
   "cell_type": "code",
   "execution_count": 3,
   "metadata": {},
   "outputs": [],
   "source": [
    "import numpy as np\n",
    "import matplotlib.pyplot as plt\n",
    "%matplotlib inline "
   ]
  },
  {
   "cell_type": "code",
   "execution_count": 5,
   "metadata": {},
   "outputs": [
    {
     "data": {
      "text/plain": [
       "array([ 0,  2,  4,  6,  8, 10, 12, 14, 16, 18, 20, 22, 24, 26, 28, 30, 32,\n",
       "       34, 36, 38, 40, 42, 44, 46, 48])"
      ]
     },
     "execution_count": 5,
     "metadata": {},
     "output_type": "execute_result"
    }
   ],
   "source": [
    "np.arange (0,50,2)"
   ]
  },
  {
   "cell_type": "code",
   "execution_count": 9,
   "metadata": {},
   "outputs": [
    {
     "data": {
      "text/plain": [
       "array([ 0.        ,  2.63157895,  5.26315789,  7.89473684, 10.52631579,\n",
       "       13.15789474, 15.78947368, 18.42105263, 21.05263158, 23.68421053,\n",
       "       26.31578947, 28.94736842, 31.57894737, 34.21052632, 36.84210526,\n",
       "       39.47368421, 42.10526316, 44.73684211, 47.36842105, 50.        ])"
      ]
     },
     "execution_count": 9,
     "metadata": {},
     "output_type": "execute_result"
    }
   ],
   "source": [
    "np.linspace(0,50,20) # 2 ways to make arrays"
   ]
  },
  {
   "cell_type": "code",
   "execution_count": 11,
   "metadata": {},
   "outputs": [
    {
     "data": {
      "text/plain": [
       "[<matplotlib.lines.Line2D at 0x26be58685f8>]"
      ]
     },
     "execution_count": 11,
     "metadata": {},
     "output_type": "execute_result"
    },
    {
     "data": {
      "image/png": "[encoded data removed]",
      "text/plain": [
       "<Figure size 432x288 with 1 Axes>"
      ]
     },
     "metadata": {
      "needs_background": "light"
     },
     "output_type": "display_data"
    }
   ],
   "source": [
    "x=np.linspace(0,50,20)\n",
    "y=x**2\n",
    "plt.plot(x,y)"
   ]
  },
  {
   "cell_type": "code",
   "execution_count": 12,
   "metadata": {},
   "outputs": [],
   "source": [
    "x=np.arange(0,11)\n",
    "y= np.arange(0,11)"
   ]
  },
  {
   "cell_type": "code",
   "execution_count": 13,
   "metadata": {},
   "outputs": [
    {
     "data": {
      "text/plain": [
       "array([ 0,  1,  2,  3,  4,  5,  6,  7,  8,  9, 10])"
      ]
     },
     "execution_count": 13,
     "metadata": {},
     "output_type": "execute_result"
    }
   ],
   "source": [
    "x"
   ]
  },
  {
   "cell_type": "code",
   "execution_count": 14,
   "metadata": {},
   "outputs": [
    {
     "data": {
      "text/plain": [
       "array([ 0,  1,  2,  3,  4,  5,  6,  7,  8,  9, 10])"
      ]
     },
     "execution_count": 14,
     "metadata": {},
     "output_type": "execute_result"
    }
   ],
   "source": [
    "y"
   ]
  },
  {
   "cell_type": "code",
   "execution_count": 27,
   "metadata": {},
   "outputs": [
    {
     "data": {
      "text/plain": [
       "[<matplotlib.lines.Line2D at 0x26be5e918d0>,\n",
       " <matplotlib.lines.Line2D at 0x26be5e91a20>,\n",
       " <matplotlib.lines.Line2D at 0x26be5e91b70>,\n",
       " <matplotlib.lines.Line2D at 0x26be5e91cc0>,\n",
       " <matplotlib.lines.Line2D at 0x26be5e91e10>,\n",
       " <matplotlib.lines.Line2D at 0x26be5e91f60>,\n",
       " <matplotlib.lines.Line2D at 0x26be5e9b0f0>,\n",
       " <matplotlib.lines.Line2D at 0x26be5e9b240>,\n",
       " <matplotlib.lines.Line2D at 0x26be5e9b390>,\n",
       " <matplotlib.lines.Line2D at 0x26be5e9b4e0>,\n",
       " <matplotlib.lines.Line2D at 0x26be5e76320>]"
      ]
     },
     "execution_count": 27,
     "metadata": {},
     "output_type": "execute_result"
    },
    {
     "data": {
      "image/png": "[encoded data removed]",
      "text/plain": [
       "<Figure size 432x288 with 1 Axes>"
      ]
     },
     "metadata": {
      "needs_background": "light"
     },
     "output_type": "display_data"
    }
   ],
   "source": [
    "X,Y= np.meshgrid(x,y)\n",
    "plt.plot(X,Y)\n"
   ]
  },
  {
   "cell_type": "code",
   "execution_count": 19,
   "metadata": {},
   "outputs": [
    {
     "data": {
      "text/plain": [
       "array([ 0,  1,  2,  3,  4,  5,  6,  7,  8,  9, 10])"
      ]
     },
     "execution_count": 19,
     "metadata": {},
     "output_type": "execute_result"
    }
   ],
   "source": [
    "x"
   ]
  },
  {
   "cell_type": "code",
   "execution_count": 22,
   "metadata": {},
   "outputs": [
    {
     "data": {
      "text/plain": [
       "<matplotlib.colorbar.Colorbar at 0x26be5d1dd30>"
      ]
     },
     "execution_count": 22,
     "metadata": {},
     "output_type": "execute_result"
    },
    {
     "data": {
      "image/png": "[encoded data removed]",
      "text/plain": [
       "<Figure size 432x288 with 2 Axes>"
      ]
     },
     "metadata": {
      "needs_background": "light"
     },
     "output_type": "display_data"
    }
   ],
   "source": [
    "plt.pcolormesh(X)\n",
    "plt.colorbar()\n"
   ]
  },
  {
   "cell_type": "code",
   "execution_count": 31,
   "metadata": {},
   "outputs": [
    {
     "data": {
      "text/plain": [
       "<matplotlib.colorbar.Colorbar at 0x26be60a2a58>"
      ]
     },
     "execution_count": 31,
     "metadata": {},
     "output_type": "execute_result"
    },
    {
     "data": {
      "image/png": "[encoded data removed]",
      "text/plain": [
       "<Figure size 432x288 with 2 Axes>"
      ]
     },
     "metadata": {
      "needs_background": "light"
     },
     "output_type": "display_data"
    }
   ],
   "source": [
    "Z = X+Y\n",
    "plt.pcolormesh(Z)\n",
    "plt.colorbar()# COMBINED BOTH "
   ]
  },
  {
   "cell_type": "code",
   "execution_count": 45,
   "metadata": {},
   "outputs": [],
   "source": [
    "\n",
    "\n",
    "x = np.arange(0,9.5,0.2)\n",
    "y = np.arange(0,9.5,0.2)\n",
    "X,Y = np.meshgrid(x,y)"
   ]
  },
  {
   "cell_type": "code",
   "execution_count": 46,
   "metadata": {},
   "outputs": [
    {
     "data": {
      "text/plain": [
       "<matplotlib.colorbar.Colorbar at 0x26be74af1d0>"
      ]
     },
     "execution_count": 46,
     "metadata": {},
     "output_type": "execute_result"
    },
    {
     "data": {
      "image/png": "[encoded data removed]",
      "text/plain": [
       "<Figure size 432x288 with 2 Axes>"
      ]
     },
     "metadata": {
      "needs_background": "light"
     },
     "output_type": "display_data"
    }
   ],
   "source": [
    "plt.pcolormesh(X+Y)\n",
    "plt.colorbar()"
   ]
  },
  {
   "cell_type": "code",
   "execution_count": 49,
   "metadata": {},
   "outputs": [
    {
     "data": {
      "text/plain": [
       "<matplotlib.colorbar.Colorbar at 0x26be721f470>"
      ]
     },
     "execution_count": 49,
     "metadata": {},
     "output_type": "execute_result"
    },
    {
     "data": {
      "image/png": "[encoded data removed]",
      "text/plain": [
       "<Figure size 432x288 with 2 Axes>"
      ]
     },
     "metadata": {
      "needs_background": "light"
     },
     "output_type": "display_data"
    }
   ],
   "source": [
    "plt.pcolormesh(X,Y,X+Y)\n",
    "plt.colorbar()# if you add x+y into pcolormesh than the axis are scaled  bythe x a nd y bassis arrays"
   ]
  },
  {
   "cell_type": "markdown",
   "metadata": {},
   "source": [
    "Plot y = sin(x) on -pi to pi using 100 points,\n",
    "\n",
    "plot sin(x+y)on a grid using 100x100 point on piex pie"
   ]
  },
  {
   "cell_type": "code",
   "execution_count": 67,
   "metadata": {},
   "outputs": [
    {
     "data": {
      "text/plain": [
       "[<matplotlib.lines.Line2D at 0x26be776acf8>]"
      ]
     },
     "execution_count": 67,
     "metadata": {},
     "output_type": "execute_result"
    },
    {
     "data": {
      "image/png": "[encoded data removed]",
      "text/plain": [
       "<Figure size 432x288 with 1 Axes>"
      ]
     },
     "metadata": {
      "needs_background": "light"
     },
     "output_type": "display_data"
    }
   ],
   "source": [
    "x=np.linspace(-np.pi,np.pi,101)\n",
    "y=np.linspace(-np.pi,np.pi,101)\n",
    "y=np.sin(x)\n",
    "plt.plot(x,y)"
   ]
  },
  {
   "cell_type": "code",
   "execution_count": 83,
   "metadata": {},
   "outputs": [
    {
     "data": {
      "text/plain": [
       "<matplotlib.colorbar.Colorbar at 0x26be7697e48>"
      ]
     },
     "execution_count": 83,
     "metadata": {},
     "output_type": "execute_result"
    },
    {
     "data": {
      "image/png": "[encoded data removed]",
      "text/plain": [
       "<Figure size 432x288 with 2 Axes>"
      ]
     },
     "metadata": {
      "needs_background": "light"
     },
     "output_type": "display_data"
    }
   ],
   "source": [
    "x=np.linspace(-np.pi,np.pi,101)\n",
    "y=np.linspace(-np.pi,np.pi,101)\n",
    "X,Y =np.meshgrid(x,y)\n",
    "Z=np.sin(X*Y)\n",
    "plt.pcolormesh(X,Y,Z)# MESH GRID MAKES S2D\n",
    "plt.colorbar()"
   ]
  },
  {
   "cell_type": "code",
   "execution_count": 80,
   "metadata": {},
   "outputs": [
    {
     "data": {
      "text/plain": [
       "(101, 101)"
      ]
     },
     "execution_count": 80,
     "metadata": {},
     "output_type": "execute_result"
    }
   ],
   "source": [
    "Z.shape"
   ]
  },
  {
   "cell_type": "code",
   "execution_count": 54,
   "metadata": {},
   "outputs": [],
   "source": [
    "x = np.arange(0,9.5,0.2)"
   ]
  },
  {
   "cell_type": "code",
   "execution_count": 69,
   "metadata": {},
   "outputs": [
    {
     "data": {
      "text/plain": [
       "array([-3.14159265e+00, -3.07876080e+00, -3.01592895e+00, -2.95309709e+00,\n",
       "       -2.89026524e+00, -2.82743339e+00, -2.76460154e+00, -2.70176968e+00,\n",
       "       -2.63893783e+00, -2.57610598e+00, -2.51327412e+00, -2.45044227e+00,\n",
       "       -2.38761042e+00, -2.32477856e+00, -2.26194671e+00, -2.19911486e+00,\n",
       "       -2.13628300e+00, -2.07345115e+00, -2.01061930e+00, -1.94778745e+00,\n",
       "       -1.88495559e+00, -1.82212374e+00, -1.75929189e+00, -1.69646003e+00,\n",
       "       -1.63362818e+00, -1.57079633e+00, -1.50796447e+00, -1.44513262e+00,\n",
       "       -1.38230077e+00, -1.31946891e+00, -1.25663706e+00, -1.19380521e+00,\n",
       "       -1.13097336e+00, -1.06814150e+00, -1.00530965e+00, -9.42477796e-01,\n",
       "       -8.79645943e-01, -8.16814090e-01, -7.53982237e-01, -6.91150384e-01,\n",
       "       -6.28318531e-01, -5.65486678e-01, -5.02654825e-01, -4.39822972e-01,\n",
       "       -3.76991118e-01, -3.14159265e-01, -2.51327412e-01, -1.88495559e-01,\n",
       "       -1.25663706e-01, -6.28318531e-02,  4.44089210e-16,  6.28318531e-02,\n",
       "        1.25663706e-01,  1.88495559e-01,  2.51327412e-01,  3.14159265e-01,\n",
       "        3.76991118e-01,  4.39822972e-01,  5.02654825e-01,  5.65486678e-01,\n",
       "        6.28318531e-01,  6.91150384e-01,  7.53982237e-01,  8.16814090e-01,\n",
       "        8.79645943e-01,  9.42477796e-01,  1.00530965e+00,  1.06814150e+00,\n",
       "        1.13097336e+00,  1.19380521e+00,  1.25663706e+00,  1.31946891e+00,\n",
       "        1.38230077e+00,  1.44513262e+00,  1.50796447e+00,  1.57079633e+00,\n",
       "        1.63362818e+00,  1.69646003e+00,  1.75929189e+00,  1.82212374e+00,\n",
       "        1.88495559e+00,  1.94778745e+00,  2.01061930e+00,  2.07345115e+00,\n",
       "        2.13628300e+00,  2.19911486e+00,  2.26194671e+00,  2.32477856e+00,\n",
       "        2.38761042e+00,  2.45044227e+00,  2.51327412e+00,  2.57610598e+00,\n",
       "        2.63893783e+00,  2.70176968e+00,  2.76460154e+00,  2.82743339e+00,\n",
       "        2.89026524e+00,  2.95309709e+00,  3.01592895e+00,  3.07876080e+00,\n",
       "        3.14159265e+00])"
      ]
     },
     "execution_count": 69,
     "metadata": {},
     "output_type": "execute_result"
    }
   ],
   "source": [
    "x"
   ]
  },
  {
   "cell_type": "code",
   "execution_count": 81,
   "metadata": {},
   "outputs": [
    {
     "data": {
      "text/plain": [
       "(101, 101)"
      ]
     },
     "execution_count": 81,
     "metadata": {},
     "output_type": "execute_result"
    }
   ],
   "source": [
    "X.shape # THIS IS A 1d THING"
   ]
  },
  {
   "cell_type": "markdown",
   "metadata": {},
   "source": [
    "a <- 1.5\n",
    "b <- -2.4\n",
    "t <- seq(0,5*pi, length.out=500)\n",
    "x <- (a + b*t) * cos(t)\n",
    "y <- (a + b*t) * sin(t)\n",
    "plot(x,y, type=\"l\", col=2, lwd=3)\n"
   ]
  },
  {
   "cell_type": "code",
   "execution_count": 115,
   "metadata": {},
   "outputs": [
    {
     "data": {
      "image/png": "[encoded data removed]",
      "text/plain": [
       "<Figure size 432x288 with 1 Axes>"
      ]
     },
     "metadata": {
      "needs_background": "light"
     },
     "output_type": "display_data"
    }
   ],
   "source": [
    "a=1.5\n",
    "b=-25.4\n",
    "t=np.linspace(0,5*np.pi,500)\n",
    "y=(a+b*t)*np.cos(t)\n",
    "x=(a+b*t)*np.sin(t)\n",
    "plt.plot(x,y)\n",
    "plt.axis(\"equal\")# makes the plot square, evenly spaced\n",
    "plt.grid()\n"
   ]
  },
  {
   "cell_type": "markdown",
   "metadata": {},
   "source": [
    "# Exercise 1 (Saved from Lec 5.1)\n",
    "Plot a logarithmic spiral (google it)"
   ]
  },
  {
   "cell_type": "code",
   "execution_count": 103,
   "metadata": {},
   "outputs": [
    {
     "name": "stderr",
     "output_type": "stream",
     "text": [
      "No handles with labels found to put in legend.\n"
     ]
    },
    {
     "data": {
      "image/png": "[encoded data removed]",
      "text/plain": [
       "<Figure size 432x288 with 1 Axes>"
      ]
     },
     "metadata": {
      "needs_background": "light"
     },
     "output_type": "display_data"
    }
   ],
   "source": [
    "import matplotlib as mpl\n",
    "from mpl_toolkits.mplot3d import Axes3D\n",
    "import numpy as np\n",
    "import matplotlib.pyplot as plt\n",
    "from math import exp,sin,cos\n",
    "from pylab import *\n",
    "\n",
    "mpl.rcParams['legend.fontsize'] = 0.5\n",
    "\n",
    "fig = plt.figure()\n",
    "ax = fig.gca(projection='3d')\n",
    "n=100\n",
    "a=0.5\n",
    "b=0.20\n",
    "th=np.linspace(0, 500, 10000)\n",
    "x=a*exp(b*th)*cos(th)\n",
    "y=a*exp(b*th)*sin(th)\n",
    "ax.plot(x, y)\n",
    "ax.legend()\n",
    "\n",
    "plt.show()"
   ]
  },
  {
   "cell_type": "code",
   "execution_count": null,
   "metadata": {},
   "outputs": [],
   "source": []
  },
  {
   "cell_type": "code",
   "execution_count": null,
   "metadata": {},
   "outputs": [],
   "source": []
  },
  {
   "cell_type": "markdown",
   "metadata": {},
   "source": [
    "# Exercise 2\n",
    "Experiment some more with your data set and pandas, exploring the plotting options in matplotlib"
   ]
  },
  {
   "cell_type": "code",
   "execution_count": null,
   "metadata": {},
   "outputs": [],
   "source": [
    "not there yet "
   ]
  },
  {
   "cell_type": "code",
   "execution_count": null,
   "metadata": {},
   "outputs": [],
   "source": []
  },
  {
   "cell_type": "code",
   "execution_count": null,
   "metadata": {},
   "outputs": [],
   "source": []
  },
  {
   "cell_type": "code",
   "execution_count": null,
   "metadata": {},
   "outputs": [],
   "source": []
  },
  {
   "cell_type": "markdown",
   "metadata": {},
   "source": [
    "# Extras:\n",
    "More advanced spiral plotting: https://blog.anvetsu.com/posts/fibonacci-golden-spiral-matplotlib-python/\n",
    "Also, a turtle package! https://trinket.io/python/43bc79b582"
   ]
  },
  {
   "cell_type": "code",
   "execution_count": 145,
   "metadata": {},
   "outputs": [],
   "source": [
    "# Golden Rectangle\n",
    "from math import sqrt\n",
    "from turtle import *\n",
    "phi = (1+sqrt(5))/2 \n",
    "\n",
    "\n",
    "def square(side_length=100):\n",
    "  for i in range(4):\n",
    "    forward(side_length)\n",
    "    right(90)\n",
    "\n",
    "speed(6)  \n",
    "penup()\n",
    "goto(-190,-190) \n",
    "setheading(90) \n",
    "pencolor(\"blue\")\n",
    "pendown()\n",
    "size = 233 \n",
    "\n",
    "for i in range(8):\n",
    "  square(size)\n",
    "  forward(size)\n",
    "  right(90)\n",
    "  forward(size)\n",
    "  size = size/phi\n",
    "\n",
    "\n",
    "penup()\n",
    "goto(-190,-190) \n",
    "pendown()\n",
    "pencolor(\"red\")\n",
    "radius = 233\n",
    "for i in range(8):\n",
    "  circle(-radius,90) \n",
    "  radius = radius/phi"
   ]
  },
  {
   "cell_type": "code",
   "execution_count": 133,
   "metadata": {},
   "outputs": [
    {
     "name": "stdout",
     "output_type": "stream",
     "text": [
      "No. of discs (e.g. 300)? 50\n",
      "no. of colours (1 to 34)? 25\n",
      "offset (in radians) from golden angle? 15\n"
     ]
    },
    {
     "data": {
      "image/png": "[encoded data removed]",
      "text/plain": [
       "<Figure size 432x288 with 1 Axes>"
      ]
     },
     "metadata": {},
     "output_type": "display_data"
    }
   ],
   "source": [
    "import numpy as np\n",
    "import matplotlib.pyplot as plt\n",
    "import matplotlib\n",
    "from matplotlib.collections import PatchCollection\n",
    "import matplotlib.patches as mpatches\n",
    " \n",
    "ox=0.5; oy=0.4 # centre of plot\n",
    " \n",
    "ndiscs=300\n",
    "ndiscs=input('No. of discs (e.g. 300)? ')\n",
    "ndiscs=int(ndiscs)\n",
    "ncols=input('no. of colours (1 to 34)? ')\n",
    "ncols=int(ncols)\n",
    "offset=0.0\n",
    "offset=input('offset (in radians) from golden angle? ')\n",
    "offset = float(offset)\n",
    "tau=(1+5**0.5)/2.0 # golden ratio approx = 1.618033989\n",
    "#(2-tau)*2*np.pi is golden angle = c. 2.39996323 radians, or c. 137.5 degrees\n",
    "inc = (2-tau)*2*np.pi + offset\n",
    "theta=0\n",
    "k=0.1 # scale factor\n",
    "drad=k*(1+5**0.5)/4.0 # radius of each disc\n",
    "minv=maxv=0 # minv and maxv will be used later to display inputs chosen\n",
    " \n",
    "# now collect in list 'patches' the locations of all the discs\n",
    "patches = []\n",
    "for j in range(1,ndiscs+1):\n",
    "    r = k*j**0.5\n",
    "theta += inc\n",
    "x = ox + r*np.cos(theta)\n",
    "y = oy + r*np.sin(theta)\n",
    "\n",
    "maxv=y\n",
    "\n",
    "minv=y\n",
    "disc = mpatches.Circle((x,y),drad)\n",
    "patches.append(disc)\n",
    " \n",
    "# start building the plot\n",
    "fig = plt.figure()\n",
    "ax = plt.axes([0,0,1,1])\n",
    " \n",
    "# create text to show which inputs the user has chosen\n",
    "font = \"sans-serif\"\n",
    "maxv=maxv*0.95\n",
    "nd = 'ndiscs: '+ str(ndiscs)\n",
    "plt.text(minv, maxv, nd, ha=\"center\",family=font, size=14)\n",
    "setting = 'angle offset: '+ str(offset)\n",
    "plt.text(minv, minv, setting, ha=\"center\",family=font, size=14)\n",
    "nc = 'ncols: '+ str(ncols)\n",
    "plt.text(maxv, maxv, nc, ha=\"left\",family=font, size=14)\n",
    " \n",
    "# build colour cycle, using a number between 0 and 100 for each colour\n",
    "colcycle=[]\n",
    "s=100/ncols\n",
    "for j in range(ndiscs):\n",
    "    colcycle.append((j%ncols)*s)\n",
    " \n",
    "# bring together the information for locations and colours of discs\n",
    "collection = PatchCollection(patches, cmap=matplotlib.cm.jet, alpha=1.0)\n",
    "collection.set_array(np.array(colcycle))\n",
    "ax.add_collection(collection)\n",
    " \n",
    "ax.set_xticks([]); ax.set_yticks([]) # suppress display of axes\n",
    "plt.axis('equal')\n",
    "plt.show() # display the plot we have built"
   ]
  },
  {
   "cell_type": "code",
   "execution_count": 137,
   "metadata": {},
   "outputs": [],
   "source": [
    "def fibonacci(n=10):\n",
    "    \"\"\" Generate pairs of fibonacci numbers upto 10 starting with 1,2 ... \"\"\"\n",
    "\n",
    "    a, b = 0,1\n",
    "    for i in range(n):\n",
    "        c = a + b\n",
    "        yield (c,b)\n",
    "        a,b=b,c"
   ]
  },
  {
   "cell_type": "code",
   "execution_count": 138,
   "metadata": {},
   "outputs": [],
   "source": [
    "import matplotlib.pyplot as plt\n",
    "from matplotlib.patches import Rectangle\n",
    "from matplotlib.collections import PatchCollection\n",
    "\n",
    "def golden_rectangles(max_n=10):\n",
    "    \"\"\" Generate and plot successive golden rectangles \"\"\"\n",
    "\n",
    "    # List of fibonacci numbers as (fn, fn-1) pair\n",
    "    fibs = list(fibonacci(max_n))\n",
    "    # Reverse as we need to generate rectangles\n",
    "    # from large -> small\n",
    "    fibs.reverse()\n",
    "\n",
    "    # Create a sub-plot\n",
    "    fig, ax = plt.subplots(1)\n",
    "\n",
    "    last_x, last_y = fibs[0]\n",
    "    # Make the plot size large enough to hold\n",
    "    # the largest fibonacci number on both\n",
    "    # x and y-axis.\n",
    "    ax.set_xlim(0, last_x + 10)\n",
    "    ax.set_ylim(0, last_y + 10)\n",
    "    # Turn off the axes\n",
    "    plt.axis('off')\n",
    "\n",
    "    # First rectangle is centered at (0,0)\n",
    "    origin = [0, 0]\n",
    "\n",
    "    # Rectangles\n",
    "    rects = []\n",
    "    \n",
    "    for i,(cur_fn, prev_fn) in enumerate(fibs):\n",
    "        # Plot upto max_n + 1 rectangles\n",
    "        if i > max_n: break\n",
    "\n",
    "        if i in fourth_series(max_n):\n",
    "            # Every 4th rectangle from the 2nd\n",
    "            # rectangle onwards has its origin-x\n",
    "            # point shifted by the fibonacci value\n",
    "            origin[0] = origin[0] + cur_fn\n",
    "\n",
    "        elif i in sixth_series(max_n):\n",
    "            # Every 6th rectangle from the 5th\n",
    "            # rectangle onwards has its origin-y\n",
    "            # point shifted by the fibonacci value\n",
    "            origin[1] = origin[1] + cur_fn\n",
    "            \n",
    "        if i%2 == 1:\n",
    "            # Every 2nd rectangle has its orientation\n",
    "            # switched from lxb to bxl\n",
    "            cur_fn, prev_fn = prev_fn, cur_fn\n",
    "\n",
    "        rectangle = Rectangle(origin, cur_fn, prev_fn, angle=0.0, antialiased=True)\n",
    "        rects.append(rectangle)\n",
    "\n",
    "    # Add the rectangles to the plot - we need transparency\n",
    "    # so that the embedded rectangles all show up   \n",
    "    rect_pcs = PatchCollection(rects, facecolor='g', alpha=0.4,\n",
    "                               edgecolor='black')\n",
    "\n",
    "    ax.add_collection(rect_pcs)\n",
    "    plt.show()\n"
   ]
  },
  {
   "cell_type": "code",
   "execution_count": 139,
   "metadata": {},
   "outputs": [],
   "source": [
    "def fourth_series(n=10):\n",
    "    \"\"\" Generate 1, 5, 9 ... upto n elements \"\"\"\n",
    "\n",
    "    x = 1\n",
    "    for i in range(n):\n",
    "        yield x\n",
    "        x += 4\n",
    "\n",
    "def sixth_series(n=10):\n",
    "    \"\"\" Generate 4, 10, 16 ... upto n elements \"\"\"\n",
    "\n",
    "    x=4\n",
    "    for i in range(n):\n",
    "        yield x\n",
    "        x += 6"
   ]
  },
  {
   "cell_type": "code",
   "execution_count": 140,
   "metadata": {},
   "outputs": [],
   "source": [
    "from matplotlib.patches import Arc\n"
   ]
  },
  {
   "cell_type": "code",
   "execution_count": 141,
   "metadata": {},
   "outputs": [],
   "source": [
    "def golden_curve(max_n=10):\n",
    "    \"\"\" Plot the golden curve \"\"\"\n",
    "\n",
    "    # List of fibonacci numbers as (fn, fn-1) pair\n",
    "    fibs = list(fibonacci(max_n))\n",
    "    # Reverse as we need to generate rectangles\n",
    "    # from large -> small\n",
    "    fibs.reverse()\n",
    "\n",
    "    fig, ax = plt.subplots(1)\n",
    "\n",
    "    last_x, last_y = fibs[0]\n",
    "\n",
    "    # Make the plot size large enough to hold\n",
    "    # the largest fibonacci number on both\n",
    "    # x and y-axis.\n",
    "    ax.set_xlim(0, last_x + 10)\n",
    "    ax.set_ylim(0, last_y + 10) \n",
    "    plt.axis('off')\n",
    "\n",
    "    origin = [0, 0]\n",
    "    p = 0\n",
    "\n",
    "    # Data for plotting arcs\n",
    "    arc_points = []\n",
    "    rects = []\n",
    "\n",
    "    # Starting offset angle\n",
    "    angle = 90\n",
    "\n",
    "    for i,(cur_fn, prev_fn) in enumerate(fibs):\n",
    "        if i > max_n: break\n",
    "\n",
    "        # Current arc's radius\n",
    "        arc_radius = cur_fn\n",
    "\n",
    "        if i in fourth_series(max_n):\n",
    "            # Every 4th rectangle from the 2nd\n",
    "            # rectangle onwards has its origin-x\n",
    "            # point shifted by the fibonacci value\n",
    "            origin[0] = origin[0] + cur_fn\n",
    "\n",
    "        elif i in sixth_series(max_n):\n",
    "            # Every 6th rectangle from the 5th\n",
    "            # rectangle onwards has its origin-y\n",
    "            # point shifted by the fibonacci value          \n",
    "            origin[1] = origin[1] + cur_fn\n",
    "            \n",
    "        if i%2 == 0:\n",
    "            # Every 2nd rectangle has its orientation\n",
    "            # switched from lxb to bxl          \n",
    "            cur_fn, prev_fn = prev_fn, cur_fn\n",
    "\n",
    "        rectangle = Rectangle(origin, prev_fn, cur_fn, angle=0.0, antialiased=True)\n",
    "        rects.append(rectangle)\n",
    "        if i == 0: continue\n",
    "        \n",
    "        if i  % 8 == 0:\n",
    "            p += 1\n",
    "            continue\n",
    "\n",
    "        if len(arc_points) == 8: continue\n",
    "\n",
    "        r1 = rectangle\n",
    "        # Calculate the rectangle's co-ordinates\n",
    "        coords = [r1.get_xy(), [r1.get_x()+r1.get_width(), r1.get_y()],\n",
    "                  [r1.get_x()+r1.get_width(), r1.get_y()+r1.get_height()],\n",
    "                  [r1.get_x(), r1.get_y()+r1.get_height()]]\n",
    "\n",
    "        # Successive arcs are centered on the points of rectangles\n",
    "        # which is calculated as the p % 4 the item\n",
    "        arc_points.append((coords[p % 4], arc_radius, angle))\n",
    "        # Every turn of the spiral we go clockwise by 90 degrees\n",
    "        # means the starting angle reduces by 90.\n",
    "        angle -= 90\n",
    "\n",
    "        # Reset to 0\n",
    "        if angle == -360: angle = 0\n",
    "        p += 3\n",
    "            \n",
    "    for center, radius, angle in arc_points:\n",
    "        print('Plotting arc at center',center,'radius',radius, 'angle',angle)\n",
    "        arc = Arc(center, radius*2, radius*2, angle=angle,\n",
    "                  theta1=0, theta2=90.0, edgecolor='black',\n",
    "                  antialiased=True)\n",
    "        ax.add_patch(arc)\n",
    "        \n",
    "    rect_pcs = PatchCollection(rects, facecolor='g', alpha=0.4,\n",
    "                              edgecolor='black')\n",
    "\n",
    "    ax.add_collection(rect_pcs)\n",
    "    \n",
    "    plt.show()"
   ]
  },
  {
   "cell_type": "code",
   "execution_count": 142,
   "metadata": {},
   "outputs": [],
   "source": [
    "import turtle\n",
    "import math\n",
    "import random\n",
    "wn = turtle.Screen()\n",
    "wn.bgcolor('black')\n",
    "Albert = turtle.Turtle()\n",
    "Albert.speed(0)\n",
    "Albert.color('white')\n",
    "rotate=int(360)\n",
    "def drawCircles(t,size):\n",
    "    for i in range(10):\n",
    "        t.circle(size)\n",
    "        size=size-4\n",
    "def drawSpecial(t,size,repeat):\n",
    "  for i in range (repeat):\n",
    "    drawCircles(t,size)\n",
    "    t.right(360/repeat)\n",
    "drawSpecial(Albert,100,10)\n",
    "Steve = turtle.Turtle()\n",
    "Steve.speed(0)\n",
    "Steve.color('yellow')\n",
    "rotate=int(90)\n",
    "def drawCircles(t,size):\n",
    "    for i in range(4):\n",
    "        t.circle(size)\n",
    "        size=size-10\n",
    "def drawSpecial(t,size,repeat):\n",
    "    for i in range (repeat):\n",
    "        drawCircles(t,size)\n",
    "        t.right(360/repeat)\n",
    "drawSpecial(Steve,100,10)\n",
    "Barry = turtle.Turtle()\n",
    "Barry.speed(0)\n",
    "Barry.color('blue')\n",
    "rotate=int(80)\n",
    "def drawCircles(t,size):\n",
    "    for i in range(4):\n",
    "        t.circle(size)\n",
    "        size=size-5\n",
    "def drawSpecial(t,size,repeat):\n",
    "    for i in range (repeat):\n",
    "        drawCircles(t,size)\n",
    "        t.right(360/repeat)\n",
    "drawSpecial(Barry,100,10)\n",
    "Terry = turtle.Turtle()\n",
    "Terry.speed(0)\n",
    "Terry.color('orange')\n",
    "rotate=int(90)\n",
    "def drawCircles(t,size):\n",
    "    for i in range(4):\n",
    "        t.circle(size)\n",
    "        size=size-19\n",
    "def drawSpecial(t,size,repeat):\n",
    "    for i in range (repeat):\n",
    "        drawCircles(t,size)\n",
    "        t.right(360/repeat)\n",
    "drawSpecial(Terry,100,10)\n",
    "Will = turtle.Turtle()\n",
    "Will.speed(0)\n",
    "Will.color('pink')\n",
    "rotate=int(90)\n",
    "def drawCircles(t,size):\n",
    "    for i in range(4):\n",
    "        t.circle(size)\n",
    "        size=size-20\n",
    "def drawSpecial(t,size,repeat):\n",
    "    for i in range (repeat):\n",
    "        drawCircles(t,size)\n",
    "        t.right(360/repeat)\n",
    "drawSpecial(Will,100,10)"
   ]
  },
  {
   "cell_type": "raw",
   "metadata": {},
   "source": [
    "it's ART!"
   ]
  },
  {
   "cell_type": "code",
   "execution_count": 143,
   "metadata": {},
   "outputs": [],
   "source": [
    "# A simple drawing program.\n",
    "# Click on a color then click on the trinket screen\n",
    "# to draw lines of that color. The gray color will\n",
    "# allow you to move the turtle without drawing.\n",
    "# \n",
    "# Patrick Rodriguez, @stratospark\n",
    "\n",
    "from turtle import *\n",
    "\n",
    "screen = Screen()\n",
    "screenMinX = -screen.window_width()/2\n",
    "screenMinY = -screen.window_height()/2\n",
    "screenMaxX = screen.window_width()/2\n",
    "screenMaxY = screen.window_height()/2\n",
    "\n",
    "screen.setworldcoordinates(screenMinX,screenMinY,screenMaxX,screenMaxY)\n",
    "\n",
    "brush_turtle = Turtle()\n",
    "brush_turtle.goto(0, 0)\n",
    "brush_turtle.speed(10)\n",
    "\n",
    "# Set up event handler to have the brush_turtle draw a line\n",
    "# to the point that the user clicks on\n",
    "def on_screen_click(x, y):\n",
    "  #print \"%d, %d\" % (x, y)  \n",
    "  if y < screenMaxY - 40: # only draw if clicked below color squares\n",
    "    brush_turtle.goto(x, y)\n",
    "    \n",
    "screen.onclick(on_screen_click)\n",
    "  \n",
    "\n",
    "class ColorPicker(Turtle):\n",
    "  def __init__(self, color=\"red\",num=0):\n",
    "    Turtle.__init__(self)\n",
    "    self.num = num\n",
    "    self.color_name = color\n",
    "    self.speed(0)\n",
    "    self.shape(\"circle\")\n",
    "    self.color(\"black\", color)\n",
    "    self.penup()\n",
    "    \n",
    "    # hack to register click handler to instance method\n",
    "    self.onclick(lambda x, y: self.handle_click(x, y))\n",
    "\n",
    "  def draw(self):\n",
    "    self.setx(screenMinX+110+self.num*30)\n",
    "    self.sety(screenMaxY - 20)\n",
    "    \n",
    "  def handle_click(self, x, y):\n",
    "    if self.color_name == \"#F9F9F9\":\n",
    "      brush_turtle.penup()\n",
    "      brush_turtle.color(\"black\")\n",
    "    else:\n",
    "      brush_turtle.pendown()\n",
    "      brush_turtle.color(self.color_name)\n",
    "    \n",
    "# Suppress animations while interface is being drawn\n",
    "screen.tracer(0)\n",
    "\n",
    "ui_turtle = Turtle()\n",
    "ui_turtle.ht()\n",
    "ui_turtle.penup()\n",
    "ui_turtle.goto(screenMinX, screenMaxY - 23)\n",
    "ui_turtle.write(\"TurtleDraw!\", align=\"left\", font=(\"Courier\", 10, \"bold\"))\n",
    "\n",
    "# Create color choosing squares at the top of screen\n",
    "colors = [\"red\", \"orange\", \"yellow\", \"green\", \"blue\", \"indigo\", \"violet\", \"black\", \"#F9F9F9\"]\n",
    "color_pickers = [ColorPicker(color=c, num=i) for i, c in enumerate(colors)]\n",
    "for picker in color_pickers:\n",
    "  picker.draw()\n",
    "\n",
    "# Resume animations now that main interface has been drawn\n",
    "screen.tracer(1)"
   ]
  },
  {
   "cell_type": "code",
   "execution_count": null,
   "metadata": {},
   "outputs": [],
   "source": []
  },
  {
   "cell_type": "code",
   "execution_count": null,
   "metadata": {},
   "outputs": [],
   "source": []
  }
 ],
 "metadata": {
  "kernelspec": {
   "display_name": "Python 3",
   "language": "python",
   "name": "python3"
  },
  "language_info": {
   "codemirror_mode": {
    "name": "ipython",
    "version": 3
   },
   "file_extension": ".py",
   "mimetype": "text/x-python",
   "name": "python",
   "nbconvert_exporter": "python",
   "pygments_lexer": "ipython3",
   "version": "3.7.0"
  }
 },
 "nbformat": 4,
 "nbformat_minor": 2
}
