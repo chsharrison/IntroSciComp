{
 "cells": [
  {
   "cell_type": "code",
   "execution_count": 43,
   "metadata": {},
   "outputs": [],
   "source": [
    "import matplotlib as mpl"
   ]
  },
  {
   "cell_type": "code",
   "execution_count": 10,
   "metadata": {},
   "outputs": [],
   "source": [
    "import matplotlib.pyplot as plt\n",
    "%matplotlib inline\n",
    "import numpy as np\n",
    "import pandas as pd\n",
    "import xarray as xr"
   ]
  },
  {
   "cell_type": "code",
   "execution_count": 14,
   "metadata": {},
   "outputs": [],
   "source": [
    "mydata = pd.read_csv (r'\\Users\\baezj\\Downloads\\Germination_data.csv')"
   ]
  },
  {
   "cell_type": "code",
   "execution_count": 16,
   "metadata": {},
   "outputs": [
    {
     "data": {
      "text/html": [
       "<div>\n",
       "<style scoped>\n",
       "    .dataframe tbody tr th:only-of-type {\n",
       "        vertical-align: middle;\n",
       "    }\n",
       "\n",
       "    .dataframe tbody tr th {\n",
       "        vertical-align: top;\n",
       "    }\n",
       "\n",
       "    .dataframe thead th {\n",
       "        text-align: right;\n",
       "    }\n",
       "</style>\n",
       "<table border=\"1\" class=\"dataframe\">\n",
       "  <thead>\n",
       "    <tr style=\"text-align: right;\">\n",
       "      <th></th>\n",
       "      <th>Unnamed: 0</th>\n",
       "      <th>Avgeraged</th>\n",
       "      <th>Unnamed: 2</th>\n",
       "      <th>Unnamed: 3</th>\n",
       "      <th>Unnamed: 4</th>\n",
       "    </tr>\n",
       "  </thead>\n",
       "  <tbody>\n",
       "    <tr>\n",
       "      <th>0</th>\n",
       "      <td>Treatment</td>\n",
       "      <td>Germinability</td>\n",
       "      <td>MGT</td>\n",
       "      <td>M rate</td>\n",
       "      <td>CVG</td>\n",
       "    </tr>\n",
       "    <tr>\n",
       "      <th>1</th>\n",
       "      <td>ASL 100%</td>\n",
       "      <td>88.8</td>\n",
       "      <td>4.445168997</td>\n",
       "      <td>0.230280313</td>\n",
       "      <td>23.0280313</td>\n",
       "    </tr>\n",
       "    <tr>\n",
       "      <th>2</th>\n",
       "      <td>ASL 75%</td>\n",
       "      <td>95</td>\n",
       "      <td>3.885426223</td>\n",
       "      <td>0.257701657</td>\n",
       "      <td>25.77016567</td>\n",
       "    </tr>\n",
       "    <tr>\n",
       "      <th>3</th>\n",
       "      <td>ASL 50%</td>\n",
       "      <td>95</td>\n",
       "      <td>3.936799173</td>\n",
       "      <td>0.254381275</td>\n",
       "      <td>25.43812753</td>\n",
       "    </tr>\n",
       "    <tr>\n",
       "      <th>4</th>\n",
       "      <td>ASL 25%</td>\n",
       "      <td>92.8</td>\n",
       "      <td>3.446520853</td>\n",
       "      <td>0.291200246</td>\n",
       "      <td>29.12002463</td>\n",
       "    </tr>\n",
       "    <tr>\n",
       "      <th>5</th>\n",
       "      <td>ASL Control</td>\n",
       "      <td>96</td>\n",
       "      <td>3.181289803</td>\n",
       "      <td>0.314409561</td>\n",
       "      <td>31.44095606</td>\n",
       "    </tr>\n",
       "    <tr>\n",
       "      <th>6</th>\n",
       "      <td>ASR 100%</td>\n",
       "      <td>96.6</td>\n",
       "      <td>3.229138903</td>\n",
       "      <td>0.310429101</td>\n",
       "      <td>31.0429101</td>\n",
       "    </tr>\n",
       "    <tr>\n",
       "      <th>7</th>\n",
       "      <td>ASR 75%</td>\n",
       "      <td>97.2</td>\n",
       "      <td>3.213760704</td>\n",
       "      <td>0.311315027</td>\n",
       "      <td>31.13150271</td>\n",
       "    </tr>\n",
       "    <tr>\n",
       "      <th>8</th>\n",
       "      <td>ASR 50%</td>\n",
       "      <td>96.6</td>\n",
       "      <td>3.365999495</td>\n",
       "      <td>0.298028262</td>\n",
       "      <td>29.80282623</td>\n",
       "    </tr>\n",
       "    <tr>\n",
       "      <th>9</th>\n",
       "      <td>ASR 25%</td>\n",
       "      <td>94</td>\n",
       "      <td>3.241808029</td>\n",
       "      <td>0.30883861</td>\n",
       "      <td>30.88386095</td>\n",
       "    </tr>\n",
       "    <tr>\n",
       "      <th>10</th>\n",
       "      <td>ASR Control</td>\n",
       "      <td>96.2</td>\n",
       "      <td>3.094003913</td>\n",
       "      <td>0.335887583</td>\n",
       "      <td>33.58875835</td>\n",
       "    </tr>\n",
       "    <tr>\n",
       "      <th>11</th>\n",
       "      <td>AFL 100%</td>\n",
       "      <td>96.4</td>\n",
       "      <td>3.597817016</td>\n",
       "      <td>0.278750006</td>\n",
       "      <td>27.8750006</td>\n",
       "    </tr>\n",
       "    <tr>\n",
       "      <th>12</th>\n",
       "      <td>AFL 75%</td>\n",
       "      <td>96.8</td>\n",
       "      <td>3.327104056</td>\n",
       "      <td>0.30085094</td>\n",
       "      <td>30.08509404</td>\n",
       "    </tr>\n",
       "    <tr>\n",
       "      <th>13</th>\n",
       "      <td>AFL 50%</td>\n",
       "      <td>94.4</td>\n",
       "      <td>3.482385156</td>\n",
       "      <td>0.287551719</td>\n",
       "      <td>28.75517186</td>\n",
       "    </tr>\n",
       "    <tr>\n",
       "      <th>14</th>\n",
       "      <td>AFL 25%</td>\n",
       "      <td>95.8</td>\n",
       "      <td>3.4684216</td>\n",
       "      <td>0.288604143</td>\n",
       "      <td>28.86041434</td>\n",
       "    </tr>\n",
       "    <tr>\n",
       "      <th>15</th>\n",
       "      <td>AFL Control</td>\n",
       "      <td>95</td>\n",
       "      <td>3.221257897</td>\n",
       "      <td>0.310878088</td>\n",
       "      <td>31.08780882</td>\n",
       "    </tr>\n",
       "    <tr>\n",
       "      <th>16</th>\n",
       "      <td>AFR 100%</td>\n",
       "      <td>95.2</td>\n",
       "      <td>3.382791801</td>\n",
       "      <td>0.296563342</td>\n",
       "      <td>29.65633425</td>\n",
       "    </tr>\n",
       "    <tr>\n",
       "      <th>17</th>\n",
       "      <td>AFR 75%</td>\n",
       "      <td>97</td>\n",
       "      <td>3.304264221</td>\n",
       "      <td>0.304213477</td>\n",
       "      <td>30.42134772</td>\n",
       "    </tr>\n",
       "    <tr>\n",
       "      <th>18</th>\n",
       "      <td>AFR 50%</td>\n",
       "      <td>94.6</td>\n",
       "      <td>3.30564395</td>\n",
       "      <td>0.30309165</td>\n",
       "      <td>30.30916498</td>\n",
       "    </tr>\n",
       "    <tr>\n",
       "      <th>19</th>\n",
       "      <td>AFR 25%</td>\n",
       "      <td>96.2</td>\n",
       "      <td>3.241200811</td>\n",
       "      <td>0.308871283</td>\n",
       "      <td>30.8871283</td>\n",
       "    </tr>\n",
       "    <tr>\n",
       "      <th>20</th>\n",
       "      <td>AFR Control</td>\n",
       "      <td>93.6</td>\n",
       "      <td>3.275880792</td>\n",
       "      <td>0.305897167</td>\n",
       "      <td>30.58971669</td>\n",
       "    </tr>\n",
       "  </tbody>\n",
       "</table>\n",
       "</div>"
      ],
      "text/plain": [
       "     Unnamed: 0      Avgeraged   Unnamed: 2   Unnamed: 3   Unnamed: 4\n",
       "0     Treatment  Germinability          MGT       M rate          CVG\n",
       "1      ASL 100%           88.8  4.445168997  0.230280313   23.0280313\n",
       "2       ASL 75%             95  3.885426223  0.257701657  25.77016567\n",
       "3       ASL 50%             95  3.936799173  0.254381275  25.43812753\n",
       "4       ASL 25%           92.8  3.446520853  0.291200246  29.12002463\n",
       "5   ASL Control             96  3.181289803  0.314409561  31.44095606\n",
       "6      ASR 100%           96.6  3.229138903  0.310429101   31.0429101\n",
       "7       ASR 75%           97.2  3.213760704  0.311315027  31.13150271\n",
       "8       ASR 50%           96.6  3.365999495  0.298028262  29.80282623\n",
       "9       ASR 25%             94  3.241808029   0.30883861  30.88386095\n",
       "10  ASR Control           96.2  3.094003913  0.335887583  33.58875835\n",
       "11     AFL 100%           96.4  3.597817016  0.278750006   27.8750006\n",
       "12      AFL 75%           96.8  3.327104056   0.30085094  30.08509404\n",
       "13      AFL 50%           94.4  3.482385156  0.287551719  28.75517186\n",
       "14      AFL 25%           95.8    3.4684216  0.288604143  28.86041434\n",
       "15  AFL Control             95  3.221257897  0.310878088  31.08780882\n",
       "16     AFR 100%           95.2  3.382791801  0.296563342  29.65633425\n",
       "17      AFR 75%             97  3.304264221  0.304213477  30.42134772\n",
       "18      AFR 50%           94.6   3.30564395   0.30309165  30.30916498\n",
       "19      AFR 25%           96.2  3.241200811  0.308871283   30.8871283\n",
       "20  AFR Control           93.6  3.275880792  0.305897167  30.58971669"
      ]
     },
     "execution_count": 16,
     "metadata": {},
     "output_type": "execute_result"
    }
   ],
   "source": [
    "mydata"
   ]
  },
  {
   "cell_type": "code",
   "execution_count": 27,
   "metadata": {},
   "outputs": [
    {
     "data": {
      "text/html": [
       "<div>\n",
       "<style scoped>\n",
       "    .dataframe tbody tr th:only-of-type {\n",
       "        vertical-align: middle;\n",
       "    }\n",
       "\n",
       "    .dataframe tbody tr th {\n",
       "        vertical-align: top;\n",
       "    }\n",
       "\n",
       "    .dataframe thead th {\n",
       "        text-align: right;\n",
       "    }\n",
       "</style>\n",
       "<table border=\"1\" class=\"dataframe\">\n",
       "  <thead>\n",
       "    <tr style=\"text-align: right;\">\n",
       "      <th></th>\n",
       "      <th>Unnamed: 0</th>\n",
       "      <th>Avgeraged</th>\n",
       "      <th>Unnamed: 2</th>\n",
       "      <th>Unnamed: 3</th>\n",
       "      <th>Unnamed: 4</th>\n",
       "    </tr>\n",
       "  </thead>\n",
       "  <tbody>\n",
       "    <tr>\n",
       "      <th>0</th>\n",
       "      <td>Treatment</td>\n",
       "      <td>Germinability</td>\n",
       "      <td>MGT</td>\n",
       "      <td>M rate</td>\n",
       "      <td>CVG</td>\n",
       "    </tr>\n",
       "    <tr>\n",
       "      <th>1</th>\n",
       "      <td>ASL 100%</td>\n",
       "      <td>88.8</td>\n",
       "      <td>4.445168997</td>\n",
       "      <td>0.230280313</td>\n",
       "      <td>23.0280313</td>\n",
       "    </tr>\n",
       "    <tr>\n",
       "      <th>2</th>\n",
       "      <td>ASL 75%</td>\n",
       "      <td>95</td>\n",
       "      <td>3.885426223</td>\n",
       "      <td>0.257701657</td>\n",
       "      <td>25.77016567</td>\n",
       "    </tr>\n",
       "    <tr>\n",
       "      <th>3</th>\n",
       "      <td>ASL 50%</td>\n",
       "      <td>95</td>\n",
       "      <td>3.936799173</td>\n",
       "      <td>0.254381275</td>\n",
       "      <td>25.43812753</td>\n",
       "    </tr>\n",
       "    <tr>\n",
       "      <th>4</th>\n",
       "      <td>ASL 25%</td>\n",
       "      <td>92.8</td>\n",
       "      <td>3.446520853</td>\n",
       "      <td>0.291200246</td>\n",
       "      <td>29.12002463</td>\n",
       "    </tr>\n",
       "  </tbody>\n",
       "</table>\n",
       "</div>"
      ],
      "text/plain": [
       "  Unnamed: 0      Avgeraged   Unnamed: 2   Unnamed: 3   Unnamed: 4\n",
       "0  Treatment  Germinability          MGT       M rate          CVG\n",
       "1   ASL 100%           88.8  4.445168997  0.230280313   23.0280313\n",
       "2    ASL 75%             95  3.885426223  0.257701657  25.77016567\n",
       "3    ASL 50%             95  3.936799173  0.254381275  25.43812753\n",
       "4    ASL 25%           92.8  3.446520853  0.291200246  29.12002463"
      ]
     },
     "execution_count": 27,
     "metadata": {},
     "output_type": "execute_result"
    }
   ],
   "source": [
    "mydata.head()"
   ]
  },
  {
   "cell_type": "code",
   "execution_count": 63,
   "metadata": {},
   "outputs": [
    {
     "data": {
      "image/png": "[encoded data removed]",
      "text/plain": [
       "<Figure size 432x288 with 1 Axes>"
      ]
     },
     "metadata": {
      "needs_background": "light"
     },
     "output_type": "display_data"
    }
   ],
   "source": [
    "X=('ASR 100%','ASR 75%','ASR 50%','ASR 25%','ASR Control')\n",
    "Y=('31.0429101','31.13150271','25.43812753','30.88386095','33.58875835')\n",
    "plt.title('Treatments vs CSV',fontsize=20)\n",
    "plt.xlabel('Treatments', fontsize = 18)\n",
    "plt.ylabel('CSV (Coeficient of Varience)', fontsize = 18)\n",
    "plt.plot(X,Y)\n",
    "plt.show()"
   ]
  },
  {
   "cell_type": "code",
   "execution_count": 58,
   "metadata": {},
   "outputs": [
    {
     "name": "stderr",
     "output_type": "stream",
     "text": [
      "No handles with labels found to put in legend.\n"
     ]
    },
    {
     "data": {
      "image/png": "[encoded data removed]",
      "text/plain": [
       "<Figure size 432x288 with 1 Axes>"
      ]
     },
     "metadata": {
      "needs_background": "light"
     },
     "output_type": "display_data"
    }
   ],
   "source": [
    "X=('ASL 100%','ASL 75%','ASL 50%','ASL 25%','ASL Control')\n",
    "Y=('23.0280313','23.0280313','29.80282623','29.12002463','31.44095606')\n",
    "plt.title('Treatments vs CSV',fontsize=20)\n",
    "plt.xlabel('Treatments', fontsize = 18)\n",
    "plt.ylabel('CSV (Coeficient of Varience)', fontsize = 18)\n",
    "\n",
    "plt.legend()\n",
    "\n",
    "plt.plot(X,Y)\n",
    "plt.show()\n",
    "\n"
   ]
  },
  {
   "cell_type": "code",
   "execution_count": 35,
   "metadata": {},
   "outputs": [
    {
     "ename": "SyntaxError",
     "evalue": "invalid syntax (<ipython-input-35-1da3f4f3905c>, line 3)",
     "output_type": "error",
     "traceback": [
      "\u001b[1;36m  File \u001b[1;32m\"<ipython-input-35-1da3f4f3905c>\"\u001b[1;36m, line \u001b[1;32m3\u001b[0m\n\u001b[1;33m    plt.plot(Unnamed 0, Germinability, 'k:', label = 'Treatment')\u001b[0m\n\u001b[1;37m                     ^\u001b[0m\n\u001b[1;31mSyntaxError\u001b[0m\u001b[1;31m:\u001b[0m invalid syntax\n"
     ]
    }
   ],
   "source": [
    "#correct way to subplot\n",
    "plt.figure(figsize = (15,4))\n",
    "\n",
    "plt.subplot(1,3,1) #first plot\n",
    "plt.plot(year, hares/1000, 'k')\n",
    "plt.xlabel('Years', fontsize = 18)\n",
    "plt.ylabel('Population (thousands)', fontsize = 18)\n",
    "plt.title('Hares', fontsize = 18)\n",
    "plt.ylim([0,80]) \n",
    "\n",
    "plt.subplot(1,3,2) \n",
    "plt.plot(year, lynxes/1000, 'b')\n",
    "plt.xlabel('Years', fontsize = 18)\n",
    "plt.title('Lynxes', fontsize = 18)\n",
    "plt.ylim([0,80])\n",
    "\n",
    "plt.subplot(1,3,3) #third plot\n",
    "plt.plot(year, carrots/1000, 'g')\n",
    "plt.xlabel('Years', fontsize = 18)\n",
    "plt.title('Carrots', fontsize = 18)\n",
    "plt.ylim([0,80])plt.scatter(X,Y)\n",
    "plt.show()"
   ]
  },
  {
   "cell_type": "code",
   "execution_count": null,
   "metadata": {},
   "outputs": [],
   "source": []
  },
  {
   "cell_type": "code",
   "execution_count": null,
   "metadata": {},
   "outputs": [],
   "source": []
  },
  {
   "cell_type": "code",
   "execution_count": null,
   "metadata": {},
   "outputs": [],
   "source": []
  },
  {
   "cell_type": "code",
   "execution_count": null,
   "metadata": {},
   "outputs": [],
   "source": []
  },
  {
   "cell_type": "code",
   "execution_count": null,
   "metadata": {},
   "outputs": [],
   "source": []
  },
  {
   "cell_type": "code",
   "execution_count": null,
   "metadata": {},
   "outputs": [],
   "source": []
  },
  {
   "cell_type": "code",
   "execution_count": null,
   "metadata": {},
   "outputs": [],
   "source": []
  },
  {
   "cell_type": "code",
   "execution_count": null,
   "metadata": {},
   "outputs": [],
   "source": []
  },
  {
   "cell_type": "code",
   "execution_count": null,
   "metadata": {},
   "outputs": [],
   "source": []
  },
  {
   "cell_type": "code",
   "execution_count": null,
   "metadata": {},
   "outputs": [],
   "source": []
  },
  {
   "cell_type": "code",
   "execution_count": 26,
   "metadata": {},
   "outputs": [
    {
     "ename": "ValueError",
     "evalue": "too many values to unpack (expected 5)",
     "output_type": "error",
     "traceback": [
      "\u001b[1;31m---------------------------------------------------------------------------\u001b[0m",
      "\u001b[1;31mValueError\u001b[0m                                Traceback (most recent call last)",
      "\u001b[1;32m<ipython-input-26-b56a61430fc2>\u001b[0m in \u001b[0;36m<module>\u001b[1;34m\u001b[0m\n\u001b[1;32m----> 1\u001b[1;33m \u001b[0mTreatment\u001b[0m\u001b[1;33m,\u001b[0m\u001b[0mGermanibility\u001b[0m\u001b[1;33m,\u001b[0m\u001b[0mMGT\u001b[0m\u001b[1;33m,\u001b[0m\u001b[0mMrate\u001b[0m\u001b[1;33m,\u001b[0m\u001b[0mCVG\u001b[0m \u001b[1;33m=\u001b[0m \u001b[0mmydata\u001b[0m\u001b[1;33m.\u001b[0m\u001b[0mT\u001b[0m\u001b[1;31m#trick: columns to variables\u001b[0m\u001b[1;33m\u001b[0m\u001b[1;33m\u001b[0m\u001b[0m\n\u001b[0m",
      "\u001b[1;31mValueError\u001b[0m: too many values to unpack (expected 5)"
     ]
    }
   ],
   "source": [
    "Treatment,Germanibility,MGT,Mrate,CVG = mydata.T#trick: columns to variables"
   ]
  },
  {
   "cell_type": "code",
   "execution_count": 32,
   "metadata": {},
   "outputs": [
    {
     "data": {
      "text/plain": [
       "<matplotlib.legend.Legend at 0x246944762e8>"
      ]
     },
     "execution_count": 32,
     "metadata": {},
     "output_type": "execute_result"
    },
    {
     "data": {
      "image/png": "[encoded data removed]",
      "text/plain": [
       "<Figure size 432x288 with 1 Axes>"
      ]
     },
     "metadata": {
      "needs_background": "light"
     },
     "output_type": "display_data"
    }
   ],
   "source": [
    "plt.axes([0.2,0.1,0.5,0.8])\n",
    "plt.plot()\n",
    "plt.legend(('Treatment','Germinability','MGT','M rate','CVG'), loc=(1.05,0.5))"
   ]
  },
  {
   "cell_type": "code",
   "execution_count": null,
   "metadata": {},
   "outputs": [],
   "source": []
  }
 ],
 "metadata": {
  "kernelspec": {
   "display_name": "Python 3",
   "language": "python",
   "name": "python3"
  },
  "language_info": {
   "codemirror_mode": {
    "name": "ipython",
    "version": 3
   },
   "file_extension": ".py",
   "mimetype": "text/x-python",
   "name": "python",
   "nbconvert_exporter": "python",
   "pygments_lexer": "ipython3",
   "version": "3.7.3"
  }
 },
 "nbformat": 4,
 "nbformat_minor": 2
}
